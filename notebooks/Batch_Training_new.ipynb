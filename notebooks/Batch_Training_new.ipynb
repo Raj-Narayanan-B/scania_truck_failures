{
 "cells": [
  {
   "cell_type": "code",
   "execution_count": null,
   "metadata": {},
   "outputs": [],
   "source": [
    "pwd"
   ]
  },
  {
   "cell_type": "code",
   "execution_count": 1,
   "metadata": {},
   "outputs": [
    {
     "name": "stdout",
     "output_type": "stream",
     "text": [
      "https://dagshub.com/Raj-Narayanan-B/StudentMLProjectRegression.mlflow\n",
      "https://dagshub.com/Raj-Narayanan-B/StudentMLProjectRegression.mlflow\n"
     ]
    }
   ],
   "source": [
    "import os\n",
    "os.chdir('f:\\\\iNeuron\\\\Projects\\\\scania_failures_2')\n",
    "import pandas as pd\n",
    "import numpy as np\n",
    "from pprint import pprint\n",
    "from pathlib import Path\n",
    "\n",
    "import re\n",
    "import mlflow\n",
    "import mlflow.data\n",
    "from mlflow.client import MlflowClient\n",
    "import mlflow.pyfunc\n",
    "client = MlflowClient(tracking_uri = 'https://dagshub.com/Raj-Narayanan-B/StudentMLProjectRegression.mlflow',\n",
    "                      registry_uri = 'https://dagshub.com/Raj-Narayanan-B/StudentMLProjectRegression.mlflow')\n",
    "\n",
    "\n",
    "from src.utils import (load_yaml,save_yaml,save_binary, params_extractor, params_evaluator,\n",
    "                       eval_metrics, parameter_tuning, best_model_finder, \n",
    "                       stacking_clf_trainer, voting_clf_trainer, model_trainer, mlflow_logger)\n",
    "from src.constants import *\n",
    "from src.utils import load_yaml\n",
    "from src.components.stage_3_data_split import data_splitting_component\n",
    "from src.components.stage_4_final_preprocessing import stage_4_final_processing_component\n",
    "from src.config.configuration_manager import ConfigurationManager\n",
    "from src.entity.entity_config import (Stage2ProcessingConf,\n",
    "                                      ModelMetricsConf, \n",
    "                                      ModelTrainerConf, \n",
    "                                      PreprocessorConf, \n",
    "                                      DataSplitConf,\n",
    "                                      Stage1ProcessingConf)\n",
    "from src import logger\n",
    "\n",
    "import optuna\n",
    "\n",
    "from sklearn.linear_model import LogisticRegression, SGDClassifier\n",
    "from sklearn.ensemble import (RandomForestClassifier, AdaBoostClassifier, \n",
    "                              GradientBoostingClassifier, BaggingClassifier, ExtraTreesClassifier, \n",
    "                              HistGradientBoostingClassifier, StackingClassifier, VotingClassifier)\n",
    "from sklearn.tree import DecisionTreeClassifier\n",
    "from xgboost import XGBClassifier\n",
    "from lightgbm import LGBMClassifier\n",
    "# from catboost import CatBoostClassifier\n",
    "from sklearn.neighbors import KNeighborsClassifier\n",
    "\n",
    "from sklearn.model_selection import train_test_split, StratifiedKFold, cross_val_score, cross_validate\n",
    "from sklearn.utils import shuffle\n",
    "from sklearn.metrics import confusion_matrix, ConfusionMatrixDisplay\n",
    "\n",
    "from src.utils import eval_metrics\n",
    "# from sklearn.pipeline import Pipeline\n",
    "from sklearn.preprocessing import RobustScaler\n",
    "from sklearn.impute import KNNImputer\n",
    "\n",
    "from imblearn.combine import SMOTETomek\n",
    "from imblearn.pipeline import Pipeline\n",
    "\n",
    "models = {'Logistic_Regression': LogisticRegression, \n",
    "            'SGD_Classifier': SGDClassifier,\n",
    "            'Random Forest': RandomForestClassifier ,\n",
    "            'Ada_Boost': AdaBoostClassifier, \n",
    "            'Grad_Boost': GradientBoostingClassifier, \n",
    "            'Bagging_Classifier': BaggingClassifier, \n",
    "            'ExtraTreesClassifier': ExtraTreesClassifier, \n",
    "            'Hist_Grad_Boost_Classifier': HistGradientBoostingClassifier, \n",
    "            'Decision_Tree_Classifier': DecisionTreeClassifier,\n",
    "            'XGB_Classifier': XGBClassifier,\n",
    "            'KNN_Classifier': KNeighborsClassifier,\n",
    "            'Light_GBM' : LGBMClassifier,\n",
    "            # 'Stacked_Classifier' : StackingClassifier,\n",
    "            # 'Voting_Classifier' : VotingClassifier\n",
    "            }\n",
    "\n",
    "\n",
    "# import pandas as pd\n",
    "# data_path = Path('F:\\iNeuron\\Projects\\scania_failures_2\\\\artifacts\\data\\processed\\stage_1_processing\\preprocessed_train_data.csv')\n",
    "# data = pd.read_csv(data_path)\n",
    "\n",
    "\n",
    "os.environ['MLFLOW_TRACKING_URI']='https://dagshub.com/Raj-Narayanan-B/StudentMLProjectRegression.mlflow'\n",
    "os.environ['MLFLOW_TRACKING_USERNAME']='Raj-Narayanan-B'\n",
    "os.environ['MLFLOW_TRACKING_PASSWORD']='8af4cc66be8aec751397fd525e47ae395fa67442'\n",
    "\n",
    "print(mlflow.get_tracking_uri())\n",
    "print(mlflow.get_registry_uri())\n",
    "\n",
    "# batch_size = 5000\n",
    "# num_batches = data.shape[0] // batch_size\n",
    "# data_shuffled = shuffle(data, random_state=42)\n",
    "\n",
    "# batch_list = []\n",
    "# # Iterate through batches\n",
    "# for i in range(num_batches):\n",
    "#     # Extract a batch\n",
    "#     start_idx = i * batch_size\n",
    "#     end_idx = ((i + 1) * batch_size)\n",
    "#     # print(f\"start_idx: {start_idx}, end_idx: {end_idx}\")\n",
    "#     batch_list.append(data_shuffled.iloc[start_idx:end_idx, :])\n",
    "\n",
    "# sum1 = 0\n",
    "# sum0 = 0\n",
    "# for i in range(len(batch_list)):\n",
    "#     print(f\"Batch: {i}\")\n",
    "#     sum0 += batch_list[i]['class'].value_counts()[0] \n",
    "#     sum1 += batch_list[i]['class'].value_counts()[1] \n",
    "#     print(batch_list[i]['class'].value_counts(),'\\n')\n",
    "\n",
    "# print(f\"Total no of Class 0 in all batches: {sum0}\")\n",
    "# print(f\"Total no of Class 1 in all batches: {sum1}\")\n",
    "\n",
    "# # for working with the entire dataset  \n",
    "# train_data = pd.read_csv('F:\\iNeuron\\Projects\\scania_failures_2\\\\artifacts\\data\\processed\\stage_2_processing\\processed_train_data.csv')\n",
    "# test_data = pd.read_csv('F:\\iNeuron\\Projects\\scania_failures_2\\\\artifacts\\data\\processed\\stage_2_processing\\processed_test_data.csv')"
   ]
  },
  {
   "cell_type": "code",
   "execution_count": null,
   "metadata": {},
   "outputs": [],
   "source": [
    "# batchwise_accuracies = {}\n",
    "exp_count = 155\n",
    "exp_id_list = []\n",
    "params = load_yaml(PARAMS_PATH)\n",
    "model_trial_study_df = pd.DataFrame()\n",
    "accuracies = {}\n",
    "for keys in models.keys():\n",
    "    accuracies[keys] = {}\n",
    "    accuracies[keys]['Optuna'] = []\n",
    "    accuracies[keys]['HyperOpt'] = []\n",
    "tags = {\"tuner\": \"optuna\",\n",
    "        \"metrics\": \"['Balanced_Accuracy_Score', 'F1_Score', 'Accuracy_Score', 'Cost']\"}\n",
    "count = 1\n",
    "for key,value in models.items():\n",
    "    exp_id = mlflow.create_experiment(name = f\"{exp_count}_{key}_{exp_count}\", tags = tags)\n",
    "         \n",
    "    def optuna_objective(trial,exp_id = exp_id):\n",
    "        with mlflow.start_run(experiment_id = exp_id,\n",
    "                          run_name = f\"{key}_Trial_{trial.number}\",\n",
    "                          tags = {\"tuner\" : \"optuna\",\n",
    "                                  'trial': f\"{trial.number}\",\n",
    "                                  'model' : key,\n",
    "                                  \"run_type\": \"parent\"}) as parent_run:\n",
    "            parent_run_id = parent_run.info.run_id\n",
    "            child_id_list = []\n",
    "            batch_wise_accuracy = []\n",
    "            space = {}\n",
    "            flag = 0\n",
    "            print(f\"\\n**************\\nTrial_Number: {trial.number}\\n**************\")\n",
    "            for key_,value_ in params['optuna'][key].items():\n",
    "                    space[key_] = eval(value_)\n",
    "            for i in range(len(batch_list)-2):\n",
    "                x = batch_list[i].drop(columns='class')\n",
    "                y = batch_list[i]['class']\n",
    "                print(f\"\\nBatch {i}\")\n",
    "                # for key,value in models.items():\n",
    "                        \n",
    "                pprint(f\"\\nSpace: {space}\",compact=True)\n",
    "                pipeline = Pipeline(steps = [(\"KNN_Imputer\", KNNImputer()),\n",
    "                                            (\"Robust_Scaler\", RobustScaler()),\n",
    "                                            (\"SMOTETomek\", SMOTETomek(sampling_strategy = \"minority\",random_state = 42, n_jobs = -1)),\n",
    "                                            (f\"{key}\", value(**space))])\n",
    "                skf_cv = StratifiedKFold(n_splits = 3, shuffle = True, random_state = 42)\n",
    "                \n",
    "                cv_results = cross_validate(estimator=pipeline,\n",
    "                                        X= x,\n",
    "                                        y = y,\n",
    "                                        scoring = 'accuracy',\n",
    "                                        cv = skf_cv,\n",
    "                                        n_jobs = -1,\n",
    "                                        verbose = 2,\n",
    "                                        return_estimator=True)\n",
    "                accuracy = cv_results['test_score']\n",
    "                pipeline = cv_results['estimator'][0]\n",
    "                estimator = pipeline.named_steps[key]\n",
    "                print(f\"\\nAccuracy of {key}: {np.mean(accuracy)}\")\n",
    "\n",
    "                batch_wise_accuracy.append(np.mean(accuracy))\n",
    "                accuracies[key]['Optuna'].append(np.mean(accuracy))\n",
    "                print(f\"\\nBatchwise_accuracies: {batch_wise_accuracy}\")         \n",
    "                print(f\"\\nBatchwise_Median_Accuracy: {np.median(batch_wise_accuracy)}\")         \n",
    "                print(f\"\\nAccumulated Accuracies:\\n{accuracies}\\n\")\n",
    "\n",
    "                trial.report(np.mean(accuracy),i)\n",
    "                child_run_id = 0\n",
    "                with mlflow.start_run(experiment_id = exp_id,\n",
    "                                      run_name = f\"Batch_{i}\",\n",
    "                                      tags = {\"tuner\" : \"optuna\",\n",
    "                                              'model' : key,\n",
    "                                              \"run_type\": \"child\"},\n",
    "                                      nested = True) as child_run:\n",
    "                            child_run_id = child_run.info.run_id\n",
    "                            child_id_list.append(child_run_id)\n",
    "                            # data = (x_train, y_test, y_pred)\n",
    "                            mlflow_logger(model = estimator,\n",
    "                                          client = client,                        ## Logs every child runs for successful batches \n",
    "                                        model_name = key,\n",
    "                                        #   params = model.get_params(),\n",
    "                                        should_log_parent_model = False,\n",
    "                                        artifact_path = f'{key}_batch_{i}')\n",
    "                            mlflow.log_metrics(metrics = {\"Accuracy_Score\": np.mean(accuracy)})\n",
    "                            dataset_ = mlflow.data.from_pandas(df = batch_list[i],\n",
    "                                                              targets = 'class',\n",
    "                                                              name= f\"Batch {i}\")\n",
    "                            mlflow.log_input(dataset = dataset_,\n",
    "                                             context = 'Batchwise Cross-Validation')\n",
    "                if (i > 5) and (i % 2 == 0):\n",
    "                    trial.study.set_user_attr('median_accuracy',np.median(batch_wise_accuracy))\n",
    "                    if np.mean(accuracy) < np.median(batch_wise_accuracy):\n",
    "                        flag = 1\n",
    "                        break\n",
    "            if flag == 0:\n",
    "                mlflow_logger(model_name = key,\n",
    "                          should_log_parent_model = True,\n",
    "                          client = client,\n",
    "                          metrics_ =  {\"Accuracy_Score\":max(batch_wise_accuracy)},\n",
    "                          run_id = parent_run_id,\n",
    "                          exp_id = exp_id,\n",
    "                          #   registered_model_name = f\"Challenger_Optuna_{model_name}\",\n",
    "                          artifact_path = f'challenger_{key}')\n",
    "        if flag == 1:\n",
    "            mlflow.delete_run(run_id = parent_run_id)\n",
    "            try:\n",
    "                 for child_run in child_id_list:\n",
    "                      mlflow.delete_run(child_run)\n",
    "            except:\n",
    "                 pass\n",
    "\n",
    "            raise optuna.TrialPruned()\n",
    "\n",
    "        return np.mean(batch_wise_accuracy)\n",
    "    find_params = optuna.create_study(direction = 'maximize',pruner=optuna.pruners.MedianPruner(),sampler = optuna.samplers.TPESampler(constant_liar=True))\n",
    "    find_params.optimize(func = optuna_objective,\n",
    "                         n_trials = 3)\n",
    "    if count == 1:\n",
    "        model_trial_study_df = find_params.trials_dataframe()\n",
    "        model_trial_study_df['Model_name'] = key\n",
    "        count += 1\n",
    "    else:\n",
    "        temp_df = find_params.trials_dataframe()\n",
    "        temp_df['Model_name'] = key\n",
    "        model_trial_study_df = pd.concat([model_trial_study_df, temp_df])\n",
    "    model_trial_study_df.to_csv('artifacts/metrics/model_trial_study_df.csv', index = False)\n",
    "    \n",
    "    mlflow_df = mlflow.search_runs(experiment_ids=[f'{exp_id}'])\n",
    "    if mlflow_df.empty:\n",
    "         pass\n",
    "    else:\n",
    "        mlflow_logger(client = client,\n",
    "                    model_name = key,\n",
    "                    exp_id = exp_id,\n",
    "                    registered_model_name = f\"Challenger_{key}\",\n",
    "                    artifact_path = None)\n",
    "        exp_id_list.append(exp_id)"
   ]
  },
  {
   "cell_type": "code",
   "execution_count": null,
   "metadata": {},
   "outputs": [],
   "source": [
    "filter_string = f\"tags.run_type ilike 'parent'\"\n",
    "\n",
    "mlflow.search_runs(experiment_ids=['354'],\n",
    "                                         order_by = ['metrics.Accuracy_Score DESC'])\n",
    "                                        #  filter_string = filter_string)"
   ]
  },
  {
   "cell_type": "code",
   "execution_count": null,
   "metadata": {},
   "outputs": [],
   "source": [
    "from src.utils import load_yaml\n",
    "\n",
    "params_yaml = load_yaml('params.yaml')\n",
    "\n",
    "optuna_study_df = pd.read_csv(\"F:\\iNeuron\\Projects\\scania_failures_2\\\\artifacts\\metrics\\model_trial_study_df.csv\")\n",
    "optuna_study_df_copy = optuna_study_df.copy()"
   ]
  },
  {
   "cell_type": "code",
   "execution_count": null,
   "metadata": {},
   "outputs": [],
   "source": [
    "optuna_study_df_copy1 = optuna_study_df.copy()"
   ]
  },
  {
   "cell_type": "code",
   "execution_count": null,
   "metadata": {},
   "outputs": [],
   "source": [
    "for i in optuna_study_df_copy1.columns:\n",
    "    try:\n",
    "        optuna_study_df_copy1[i] = optuna_study_df_copy1.drop(columns = ['params_learning_rate','duration', 'datetime_complete', 'datetime_start', 'value', 'number'])[i].astype('int')\n",
    "    except:\n",
    "        pass\n",
    "\n",
    "\n",
    "pd.to_datetime()"
   ]
  },
  {
   "cell_type": "code",
   "execution_count": null,
   "metadata": {},
   "outputs": [],
   "source": [
    "optuna_study_df_copy1.head()"
   ]
  },
  {
   "cell_type": "code",
   "execution_count": null,
   "metadata": {},
   "outputs": [],
   "source": [
    "optuna_study_df.head()"
   ]
  },
  {
   "cell_type": "code",
   "execution_count": null,
   "metadata": {},
   "outputs": [],
   "source": [
    "optuna_study_df"
   ]
  },
  {
   "cell_type": "code",
   "execution_count": null,
   "metadata": {},
   "outputs": [],
   "source": [
    "optuna_study_df_copy = optuna_study_df_copy[optuna_study_df_copy['state']=='COMPLETE']\n",
    "\n",
    "optuna_study_df_copy.sort_values(by = 'value', ascending=False, inplace = True)\n",
    "\n",
    "params_name = optuna_study_df_copy.columns[(optuna_study_df_copy.columns.str.contains('params')) | (optuna_study_df_copy.columns.str.contains('Model_name')) | (optuna_study_df_copy.columns.str.contains('value'))]\n",
    "params = {}\n",
    "for i in optuna_study_df_copy[params_name]['Model_name']:\n",
    "    params[i] = {}\n",
    "    for j in params_yaml['optuna'][i].keys():\n",
    "        params[i][j] = optuna_study_df_copy[params_name][optuna_study_df_copy[params_name]['Model_name'] == i][f'params_{j}'].values.tolist()\n",
    "        params[i]['accuracy_value'] = optuna_study_df_copy[params_name][optuna_study_df_copy[params_name]['Model_name'] == i]['value'].values.tolist()"
   ]
  },
  {
   "cell_type": "code",
   "execution_count": null,
   "metadata": {},
   "outputs": [],
   "source": [
    "optuna_study_df_copy"
   ]
  },
  {
   "cell_type": "code",
   "execution_count": null,
   "metadata": {},
   "outputs": [],
   "source": [
    "pprint(params,compact=False)"
   ]
  },
  {
   "cell_type": "code",
   "execution_count": null,
   "metadata": {},
   "outputs": [],
   "source": [
    "pd.DataFrame(params['Decision_Tree_Classifier']).sort_values(by = 'accuracy_value', ascending=False).iloc[:1,:].drop(columns = 'accuracy_value').squeeze().to_dict()"
   ]
  },
  {
   "cell_type": "code",
   "execution_count": null,
   "metadata": {},
   "outputs": [],
   "source": [
    "pd.DataFrame(params['Decision_Tree_Classifier']).sort_values(by = 'accuracy_value', ascending=False)"
   ]
  },
  {
   "cell_type": "code",
   "execution_count": null,
   "metadata": {},
   "outputs": [],
   "source": [
    "pd.DataFrame(params['Light_GBM']).sort_values(by = 'accuracy_value', ascending=False).iloc[:1,:].drop(columns = 'accuracy_value').squeeze().to_dict()"
   ]
  },
  {
   "cell_type": "code",
   "execution_count": null,
   "metadata": {},
   "outputs": [],
   "source": [
    "models"
   ]
  },
  {
   "cell_type": "code",
   "execution_count": null,
   "metadata": {},
   "outputs": [],
   "source": [
    "models"
   ]
  },
  {
   "cell_type": "code",
   "execution_count": null,
   "metadata": {},
   "outputs": [],
   "source": [
    "pd.DataFrame(params[key]).sort_values(by = 'accuracy_value', ascending=False).iloc[:1,:].drop(columns = 'accuracy_value')"
   ]
  },
  {
   "cell_type": "code",
   "execution_count": null,
   "metadata": {},
   "outputs": [],
   "source": [
    "model = {}\n",
    "for key, value in models.items():\n",
    "    model[key] = value(**(pd.DataFrame(params[key]).sort_values(by = 'accuracy_value', ascending=False).iloc[:1,:].drop(columns = 'accuracy_value').squeeze().to_dict()))"
   ]
  },
  {
   "cell_type": "code",
   "execution_count": null,
   "metadata": {},
   "outputs": [],
   "source": [
    "final_estimator_df = optuna_study_df_copy[optuna_study_df_copy['state']=='COMPLETE'].sort_values(by='value', ascending=False).iloc[:1,:]\n",
    "final_estimator_params = params_extractor(final_estimator_df)\n",
    "\n",
    "final_estimator = {}\n",
    "for key, value in models.items():\n",
    "    try:\n",
    "        final_estimator[key] = value(**(pd.DataFrame(final_estimator_params[key]).sort_values(by = 'accuracy_value', ascending=False).iloc[:1,:].drop(columns = 'accuracy_value').squeeze().to_dict()))\n",
    "    except:\n",
    "        pass"
   ]
  },
  {
   "cell_type": "code",
   "execution_count": null,
   "metadata": {},
   "outputs": [],
   "source": [
    "best_estimators_ = list(zip(model.keys(),model.values()))\n",
    "best_estimators_"
   ]
  },
  {
   "cell_type": "code",
   "execution_count": null,
   "metadata": {},
   "outputs": [],
   "source": [
    "for key, value in final_estimator.items():\n",
    "    final_estimator_ = value"
   ]
  },
  {
   "cell_type": "code",
   "execution_count": null,
   "metadata": {},
   "outputs": [],
   "source": [
    "final_estimator_"
   ]
  },
  {
   "cell_type": "code",
   "execution_count": null,
   "metadata": {},
   "outputs": [],
   "source": [
    "stack_clf = StackingClassifier(estimators = best_estimators_,\n",
    "                   final_estimator = final_estimator_,\n",
    "                   cv = 5,                 \n",
    "                   n_jobs = -1,\n",
    "                   verbose = 3)"
   ]
  },
  {
   "cell_type": "markdown",
   "metadata": {},
   "source": [
    "### From MLFlow"
   ]
  },
  {
   "cell_type": "code",
   "execution_count": null,
   "metadata": {},
   "outputs": [],
   "source": [
    "registered_models_sample = {mlflow.search_registered_models()[i].latest_versions[0].name: mlflow.search_registered_models()[i].latest_versions[0].run_id for i in range(len(mlflow.search_registered_models()))}\n",
    "registered_models_sample"
   ]
  },
  {
   "cell_type": "code",
   "execution_count": null,
   "metadata": {},
   "outputs": [],
   "source": [
    "registered_models = {}\n",
    "for i in range(len(mlflow.search_registered_models())):\n",
    "    registered_models[mlflow.search_registered_models()[i].latest_versions[0].name] = mlflow.search_registered_models()[i].latest_versions[0].run_id\n",
    "registered_models"
   ]
  },
  {
   "cell_type": "code",
   "execution_count": null,
   "metadata": {},
   "outputs": [],
   "source": [
    "def params_evaluator(sample_params:dict):\n",
    "    # sample_params = client.get_run('cd460708497e4677a2cdcadeaefd8878').data.params\n",
    "    for key,value in sample_params.items():\n",
    "        try:\n",
    "            sample_params[key] = eval(value)\n",
    "        except:\n",
    "            sample_params[key] = value\n",
    "            if value == 'nan':\n",
    "                sample_params[key] = np.nan\n",
    "    return sample_params"
   ]
  },
  {
   "cell_type": "code",
   "execution_count": null,
   "metadata": {},
   "outputs": [],
   "source": [
    "run_details = {}\n",
    "for key,value in registered_models.items():\n",
    "    run_details[client.get_run(value).data.tags['model']] = {}\n",
    "    run_details[client.get_run(value).data.tags['model']]['accuracy'] = client.get_run(value).data.metrics['Accuracy_Score']\n",
    "    run_details[client.get_run(value).data.tags['model']]['params'] = params_evaluator(client.get_run(value).data.params)"
   ]
  },
  {
   "cell_type": "code",
   "execution_count": null,
   "metadata": {},
   "outputs": [],
   "source": [
    "pprint(run_details)"
   ]
  },
  {
   "cell_type": "code",
   "execution_count": null,
   "metadata": {},
   "outputs": [],
   "source": [
    "models_df = pd.DataFrame(run_details).T\n",
    "models_df"
   ]
  },
  {
   "cell_type": "code",
   "execution_count": null,
   "metadata": {},
   "outputs": [],
   "source": [
    "sorted_models_df = models_df[models_df['accuracy'] > 0.9].sort_values(by = 'accuracy', ascending=False)\n",
    "sorted_models_df"
   ]
  },
  {
   "cell_type": "code",
   "execution_count": null,
   "metadata": {},
   "outputs": [],
   "source": [
    "sorted_models_df.index"
   ]
  },
  {
   "cell_type": "code",
   "execution_count": null,
   "metadata": {},
   "outputs": [],
   "source": [
    "sorted_models_df.params"
   ]
  },
  {
   "cell_type": "code",
   "execution_count": null,
   "metadata": {},
   "outputs": [],
   "source": [
    "mlflow_models = {}\n",
    "for key,value in models.items():\n",
    "    if key in sorted_models_df.index:\n",
    "        mlflow_models[key] = value(**(sorted_models_df.params[key]))\n",
    "mlflow_models"
   ]
  },
  {
   "cell_type": "code",
   "execution_count": null,
   "metadata": {},
   "outputs": [],
   "source": [
    "mlflow_models_sample = {key:value(**(sorted_models_df.params[key])) for key,value in models.items() if  key in sorted_models_df.index}\n",
    "mlflow_models_sample"
   ]
  },
  {
   "cell_type": "code",
   "execution_count": null,
   "metadata": {},
   "outputs": [],
   "source": [
    "best_estimators_mlflow = list(zip(mlflow_models.keys(),mlflow_models.values()))\n",
    "best_estimators_mlflow"
   ]
  },
  {
   "cell_type": "code",
   "execution_count": null,
   "metadata": {},
   "outputs": [],
   "source": [
    "sorted_models_df.iloc[:1,:]\n",
    "final_estimator_mlflow = {key:value(**(sorted_models_df.iloc[:1,:].params[key])) for key,value in models.items() if key in sorted_models_df.iloc[:1,:].index}\n",
    "final_estimator_mlflow[sorted_models_df.iloc[:1,:].index.values[0]]"
   ]
  },
  {
   "cell_type": "code",
   "execution_count": null,
   "metadata": {},
   "outputs": [],
   "source": [
    "final_estimator_mlflow[sorted_models_df.iloc[:1,:].index.values[0]]"
   ]
  },
  {
   "cell_type": "code",
   "execution_count": null,
   "metadata": {},
   "outputs": [],
   "source": [
    "final_estimator_mlflow"
   ]
  },
  {
   "cell_type": "code",
   "execution_count": null,
   "metadata": {},
   "outputs": [],
   "source": [
    "final_estimator_mlflow[sorted_models_df.iloc[:1,:].index.values[0]]"
   ]
  },
  {
   "cell_type": "code",
   "execution_count": null,
   "metadata": {},
   "outputs": [],
   "source": [
    "pd.DataFrame(run_details).T.loc['KNN_Classifier']['params']"
   ]
  },
  {
   "cell_type": "code",
   "execution_count": null,
   "metadata": {},
   "outputs": [],
   "source": [
    "pd.DataFrame(run_details).T.loc['Decision_Tree_Classifier']['params']"
   ]
  },
  {
   "cell_type": "code",
   "execution_count": null,
   "metadata": {},
   "outputs": [],
   "source": [
    "stack_clf_mlflow = StackingClassifier(estimators = best_estimators_mlflow,\n",
    "                   final_estimator = final_estimator_mlflow[sorted_models_df.iloc[:1,:].index.values[0]],\n",
    "                   cv = 5,                 \n",
    "                   n_jobs = -1,\n",
    "                   verbose = 3)"
   ]
  },
  {
   "cell_type": "code",
   "execution_count": null,
   "metadata": {},
   "outputs": [],
   "source": [
    "stack_clf_mlflow.fit(X = train_data.drop(columns = 'class'),\n",
    "              y = train_data['class'])"
   ]
  },
  {
   "cell_type": "code",
   "execution_count": null,
   "metadata": {},
   "outputs": [],
   "source": [
    "y_pred_mlflow = stack_clf_mlflow.predict(X = test_data.drop(columns = 'class'))"
   ]
  },
  {
   "cell_type": "code",
   "execution_count": null,
   "metadata": {},
   "outputs": [],
   "source": [
    "metrics_stacking_clf = eval_metrics(y_true = test_data['class'], \n",
    "              y_pred = y_pred_mlflow)"
   ]
  },
  {
   "cell_type": "code",
   "execution_count": null,
   "metadata": {},
   "outputs": [],
   "source": [
    "cn_matrix = confusion_matrix(y_true = test_data['class'], \n",
    "              y_pred = y_pred_mlflow)\n",
    "\n",
    "cn_matric_display = ConfusionMatrixDisplay(cn_matrix)\n",
    "cn_matric_display.plot()"
   ]
  },
  {
   "cell_type": "markdown",
   "metadata": {},
   "source": [
    "### Voting Classifier"
   ]
  },
  {
   "cell_type": "code",
   "execution_count": null,
   "metadata": {},
   "outputs": [],
   "source": [
    "voting_clf = VotingClassifier(estimators=best_estimators_mlflow,\n",
    "                              n_jobs = -1,\n",
    "                              verbose = True)\n",
    "voting_clf"
   ]
  },
  {
   "cell_type": "code",
   "execution_count": null,
   "metadata": {},
   "outputs": [],
   "source": [
    "voting_clf.fit(X = train_data.drop(columns = 'class'),\n",
    "              y = train_data['class'])"
   ]
  },
  {
   "cell_type": "code",
   "execution_count": null,
   "metadata": {},
   "outputs": [],
   "source": [
    "y_pred_mlflow_voting_clf = voting_clf.predict(X = test_data.drop(columns = 'class'))"
   ]
  },
  {
   "cell_type": "code",
   "execution_count": null,
   "metadata": {},
   "outputs": [],
   "source": [
    "metrics_voting_clf = eval_metrics(y_true = test_data['class'], \n",
    "              y_pred = y_pred_mlflow_voting_clf)"
   ]
  },
  {
   "cell_type": "code",
   "execution_count": null,
   "metadata": {},
   "outputs": [],
   "source": [
    "metrics_voting_clf"
   ]
  },
  {
   "cell_type": "code",
   "execution_count": null,
   "metadata": {},
   "outputs": [],
   "source": [
    "cn_matrix_voting_clf = confusion_matrix(y_true = test_data['class'], \n",
    "              y_pred = y_pred_mlflow_voting_clf)\n",
    "\n",
    "cn_matric_display_voting_clf = ConfusionMatrixDisplay(cn_matrix_voting_clf)\n",
    "cn_matric_display_voting_clf.plot()"
   ]
  },
  {
   "cell_type": "code",
   "execution_count": null,
   "metadata": {},
   "outputs": [],
   "source": []
  },
  {
   "cell_type": "code",
   "execution_count": null,
   "metadata": {},
   "outputs": [],
   "source": [
    "if metrics_stacking_clf['Accuracy_Score'] > metrics_voting_clf['Accuracy_Score']:\n",
    "    print (\"Stacking CLF Wins\")\n",
    "\n",
    "else:\n",
    "    print (\"Voting CLF wins!\")"
   ]
  },
  {
   "cell_type": "code",
   "execution_count": null,
   "metadata": {},
   "outputs": [],
   "source": [
    "sample_params"
   ]
  },
  {
   "cell_type": "code",
   "execution_count": null,
   "metadata": {},
   "outputs": [],
   "source": [
    "client.get_run('cd460708497e4677a2cdcadeaefd8878').data.params"
   ]
  },
  {
   "cell_type": "code",
   "execution_count": null,
   "metadata": {},
   "outputs": [],
   "source": [
    "np.mean([0.982,0.982,0.9840,0.982,0.9840,0.984,0.98,0.981,0.976,0.981])"
   ]
  },
  {
   "cell_type": "code",
   "execution_count": null,
   "metadata": {},
   "outputs": [],
   "source": [
    "np.mean([0.981,0.983,0.985,0.983,0.983,0.985,0.981,0.982,0.979,0.981])"
   ]
  },
  {
   "cell_type": "code",
   "execution_count": null,
   "metadata": {},
   "outputs": [],
   "source": [
    "import re"
   ]
  },
  {
   "cell_type": "code",
   "execution_count": null,
   "metadata": {},
   "outputs": [],
   "source": [
    "original_string = 'SGD_Classifier_Trial_0'\n",
    "\n",
    "# Using regular expression to remove '_Trial_' followed by any number\n",
    "result_string = re.sub(r'_Trial_\\d+', '', original_string)\n",
    "\n",
    "result_string"
   ]
  },
  {
   "cell_type": "code",
   "execution_count": null,
   "metadata": {},
   "outputs": [],
   "source": [
    "import mlflow\n",
    "\n",
    "mlflow.get_tracking_uri()"
   ]
  },
  {
   "cell_type": "code",
   "execution_count": null,
   "metadata": {},
   "outputs": [],
   "source": [
    "parent_runs = mlflow.search_registered_models()\n",
    "# print(\"Experiment IDs: \",exp_id)\n",
    "runs_df = mlflow.search_runs(experiment_ids = list(range(358,371)),\n",
    "                    search_all_experiments = True,\n",
    "                    filter_string = f\"tags.run_type ilike 'parent'\")"
   ]
  },
  {
   "cell_type": "code",
   "execution_count": null,
   "metadata": {},
   "outputs": [],
   "source": [
    "runs_df.sort_values(by = 'metrics.Accuracy_Score', ascending=False)"
   ]
  },
  {
   "cell_type": "code",
   "execution_count": null,
   "metadata": {},
   "outputs": [],
   "source": [
    "parent_runs"
   ]
  },
  {
   "cell_type": "code",
   "execution_count": null,
   "metadata": {},
   "outputs": [],
   "source": [
    "runs_list_ = [parent_runs[i].latest_versions[0].run_id for i in range(len(parent_runs))]\n",
    "runs_list_"
   ]
  },
  {
   "cell_type": "code",
   "execution_count": null,
   "metadata": {},
   "outputs": [],
   "source": [
    "best_run = runs_df[runs_df['run_id'].isin(runs_list_)].sort_values(by = \"metrics.Accuracy_Score\", ascending = False).reset_index(drop=True)['run_id'][0]\n",
    "best_run"
   ]
  },
  {
   "cell_type": "code",
   "execution_count": null,
   "metadata": {},
   "outputs": [],
   "source": [
    "runs_df[runs_df['run_id'] == best_run]['experiment_id'].values[0]"
   ]
  },
  {
   "cell_type": "code",
   "execution_count": null,
   "metadata": {},
   "outputs": [],
   "source": [
    "runs_df[runs_df['run_id'] == best_run].columns"
   ]
  },
  {
   "cell_type": "code",
   "execution_count": null,
   "metadata": {},
   "outputs": [],
   "source": [
    "client.set_tag('8910203da9014861a55037e2f8daec87', \"model_type\", \"Challenger\")"
   ]
  },
  {
   "cell_type": "code",
   "execution_count": null,
   "metadata": {},
   "outputs": [],
   "source": [
    "client.tracking_uri"
   ]
  },
  {
   "cell_type": "code",
   "execution_count": null,
   "metadata": {},
   "outputs": [],
   "source": [
    "runs_df = mlflow.search_runs(experiment_ids = list(range(358,371)),\n",
    "                                search_all_experiments = True,\n",
    "                                filter_string = f\"tags.run_type ilike 'parent' and tags.model_type ilike 'Challenger'\")\n",
    "\n",
    "# runs_df = mlflow.search_runs(\n",
    "#     experiment_ids=list(range(358, 371)),\n",
    "#     search_all_experiments=True,\n",
    "#     filter_string=\"tags.run_type ilike 'parent' and tags.model_type ilike 'Challenger'\"\n",
    "# )\n",
    "\n",
    "runs_df"
   ]
  },
  {
   "cell_type": "code",
   "execution_count": null,
   "metadata": {},
   "outputs": [],
   "source": [
    "runs_df = mlflow.search_runs(\n",
    "    experiment_ids=list(range(358, 371)),\n",
    "    search_all_experiments=True,\n",
    "    filter_string=\"tags.run_type ilike 'parent' and tags.model_type ilike 'Challenger'\"\n",
    ")\n"
   ]
  },
  {
   "cell_type": "code",
   "execution_count": null,
   "metadata": {},
   "outputs": [],
   "source": [
    "runs_df"
   ]
  },
  {
   "cell_type": "code",
   "execution_count": null,
   "metadata": {},
   "outputs": [],
   "source": []
  },
  {
   "cell_type": "code",
   "execution_count": null,
   "metadata": {},
   "outputs": [],
   "source": []
  },
  {
   "cell_type": "code",
   "execution_count": null,
   "metadata": {},
   "outputs": [],
   "source": []
  },
  {
   "cell_type": "code",
   "execution_count": null,
   "metadata": {},
   "outputs": [],
   "source": []
  },
  {
   "cell_type": "code",
   "execution_count": null,
   "metadata": {},
   "outputs": [],
   "source": []
  },
  {
   "cell_type": "code",
   "execution_count": null,
   "metadata": {},
   "outputs": [],
   "source": [
    "train_data.shape"
   ]
  },
  {
   "cell_type": "code",
   "execution_count": null,
   "metadata": {},
   "outputs": [],
   "source": [
    "train_data['class'].value_counts()"
   ]
  },
  {
   "cell_type": "code",
   "execution_count": null,
   "metadata": {},
   "outputs": [],
   "source": [
    "train_data.isna().sum().unique()"
   ]
  },
  {
   "cell_type": "code",
   "execution_count": null,
   "metadata": {},
   "outputs": [],
   "source": [
    "test_data.shape"
   ]
  },
  {
   "cell_type": "code",
   "execution_count": null,
   "metadata": {},
   "outputs": [],
   "source": [
    "test_data['class'].value_counts()"
   ]
  },
  {
   "cell_type": "code",
   "execution_count": null,
   "metadata": {},
   "outputs": [],
   "source": [
    "test_data.isna().sum().unique()"
   ]
  },
  {
   "cell_type": "code",
   "execution_count": null,
   "metadata": {},
   "outputs": [],
   "source": [
    "stack_clf.fit(X = train_data.drop(columns = 'class'),\n",
    "              y = train_data['class'])"
   ]
  },
  {
   "cell_type": "code",
   "execution_count": null,
   "metadata": {},
   "outputs": [],
   "source": [
    "sample = [0.4649627097389646, 0.4772051592082544]\n",
    "\n",
    "max(sample)"
   ]
  },
  {
   "cell_type": "code",
   "execution_count": null,
   "metadata": {},
   "outputs": [],
   "source": [
    "filter_string = f\"tags.run_type ilike 'parent'\"\n",
    "mlflow.search_runs(experiment_ids=['725605848744062801'],\n",
    "                   order_by = ['metrics.Accuracy_Score'],\n",
    "                   filter_string = filter_string).columns"
   ]
  },
  {
   "cell_type": "code",
   "execution_count": null,
   "metadata": {},
   "outputs": [],
   "source": [
    "client.get_run('ed29462e8f104eb59bf3ecc45883e00f')"
   ]
  },
  {
   "cell_type": "code",
   "execution_count": 170,
   "metadata": {},
   "outputs": [],
   "source": [
    "models = {'Logistic_Regression': LogisticRegression, \n",
    "                  'SGD_Classifier': SGDClassifier,\n",
    "                  'Random Forest': RandomForestClassifier, \n",
    "                  'Ada_Boost': AdaBoostClassifier, \n",
    "                  'Grad_Boost': GradientBoostingClassifier, \n",
    "                  'Bagging_Classifier': BaggingClassifier, \n",
    "                  'ExtraTreesClassifier': ExtraTreesClassifier, \n",
    "                  'Hist_Grad_Boost_Classifier': HistGradientBoostingClassifier, \n",
    "                  'Decision_Tree_Classifier': DecisionTreeClassifier,\n",
    "                  'XGB_Classifier': XGBClassifier,\n",
    "                  'KNN_Classifier': KNeighborsClassifier,\n",
    "                  'Stacked_Classifier' : StackingClassifier,\n",
    "                  'Voting_Classifier' : VotingClassifier,\n",
    "                  'Light_GBM': LGBMClassifier\n",
    "                  }\n",
    "\n",
    "for key in models.keys():\n",
    "     try:\n",
    "        client.delete_registered_model(f\"Challenger {key}\")\n",
    "     except:\n",
    "      try:\n",
    "         client.delete_registered_model(f\"Champion {key}\")\n",
    "      except:\n",
    "         try:\n",
    "            client.delete_registered_model(f\"Candidate_{key}\")\n",
    "         except: \n",
    "            pass"
   ]
  },
  {
   "cell_type": "code",
   "execution_count": 169,
   "metadata": {},
   "outputs": [
    {
     "name": "stdout",
     "output_type": "stream",
     "text": [
      "[2024-02-04 00:32:47,846: WARNING: connectionpool: Retrying (Retry(total=4, connect=5, read=4, redirect=5, status=5)) after connection broken by 'RemoteDisconnected('Remote end closed connection without response')': /Raj-Narayanan-B/StudentMLProjectRegression.mlflow/api/2.0/mlflow/experiments/delete]\n",
      "564\n",
      "565\n",
      "566\n",
      "567\n",
      "568\n",
      "569\n",
      "570\n",
      "571\n",
      "572\n",
      "573\n",
      "574\n",
      "575\n",
      "578\n",
      "579\n"
     ]
    }
   ],
   "source": [
    "for i in range(564, 580):\n",
    "    try:\n",
    "        mlflow.delete_experiment(i)\n",
    "        print(i)\n",
    "    except:\n",
    "        pass"
   ]
  },
  {
   "cell_type": "code",
   "execution_count": null,
   "metadata": {},
   "outputs": [],
   "source": [
    "import re\n",
    "re.sub(r\"Challenger \",\"\",'Challenger Stacked_Classifier')"
   ]
  },
  {
   "cell_type": "code",
   "execution_count": null,
   "metadata": {},
   "outputs": [],
   "source": [
    "train_df = pd.read_csv('F:\\iNeuron\\Projects\\scania_failures_2\\\\artifacts\\data\\processed\\stage_2_processing\\processed_train_data.csv')\n",
    "test_df = pd.read_csv('F:\\iNeuron\\Projects\\scania_failures_2\\\\artifacts\\data\\processed\\stage_2_processing\\processed_test_data.csv')   #################CHANGED\n",
    "\n",
    "# Initialize x_train, x_test, y_train, y_test\n",
    "x_train, y_train = train_df.drop(columns = 'class'), train_df['class']\n",
    "x_test, y_test = test_df.drop(columns = 'class'), test_df['class']\n",
    "from src.utils import parameter_tuning\n",
    "parameter_tuning(model_class = LogisticRegression,\n",
    "                model_name = 'LOGREG',\n",
    "                x_train = x_train,\n",
    "                x_test = x_test,\n",
    "                y_train = y_train,\n",
    "                y_test = y_test,\n",
    "                report_ = {})"
   ]
  },
  {
   "cell_type": "code",
   "execution_count": null,
   "metadata": {},
   "outputs": [],
   "source": [
    "mlflow.get_tracking_uri()"
   ]
  },
  {
   "cell_type": "code",
   "execution_count": null,
   "metadata": {},
   "outputs": [],
   "source": [
    "mlflow.delete_run('67f2092833c349a9ba011fa0d38fbe07')"
   ]
  },
  {
   "cell_type": "code",
   "execution_count": null,
   "metadata": {},
   "outputs": [],
   "source": [
    "source = mlflow.search_registered_models(filter_string = f\"tags.model_type ilike 'champion'\")[0].latest_versions[0].source\n",
    "source"
   ]
  },
  {
   "cell_type": "code",
   "execution_count": null,
   "metadata": {},
   "outputs": [],
   "source": [
    "source_run_id = mlflow.search_registered_models(filter_string = f\"tags.model_type ilike 'champion'\")[0].latest_versions[0].run_id\n",
    "source_run_id"
   ]
  },
  {
   "cell_type": "code",
   "execution_count": null,
   "metadata": {},
   "outputs": [],
   "source": [
    "source_model_name = mlflow.search_registered_models(filter_string = f\"tags.model_type ilike 'champion'\")[0].latest_versions[0].name\n",
    "source_model_name"
   ]
  },
  {
   "cell_type": "code",
   "execution_count": null,
   "metadata": {},
   "outputs": [],
   "source": [
    "import re\n",
    "\n",
    "re.sub(r\"Champion \",\"\",source_model_name)"
   ]
  },
  {
   "cell_type": "code",
   "execution_count": null,
   "metadata": {},
   "outputs": [],
   "source": [
    "def params_evaluator(sample_params: dict):\n",
    "    # sample_params = client.get_run('cd460708497e4677a2cdcadeaefd8878').data.params\n",
    "    for key,value in sample_params.items():\n",
    "        try:\n",
    "            sample_params[key] = eval(value)\n",
    "        except:\n",
    "            sample_params[key] = value\n",
    "            if value == 'nan':\n",
    "                sample_params[key] = np.nan\n",
    "    return sample_params"
   ]
  },
  {
   "cell_type": "code",
   "execution_count": null,
   "metadata": {},
   "outputs": [],
   "source": [
    "registered_models = {mlflow.search_registered_models()[i].latest_versions[0].name : mlflow.search_registered_models()[i].latest_versions[0].run_id for i in range(len(mlflow.search_registered_models()))}\n",
    "\n",
    "# Get the accuracies and the respective params of the models as dict\n",
    "run_details = {}\n",
    "for key,value in registered_models.items():\n",
    "    run_details[client.get_run(value).data.tags['model']] = {}\n",
    "    run_details[client.get_run(value).data.tags['model']]['accuracy'] = client.get_run(value).data.metrics['Accuracy_Score']\n",
    "    run_details[client.get_run(value).data.tags['model']]['params'] = params_evaluator(client.get_run(value).data.params)\n",
    "\n",
    "# Create a dataframe from the \"run_details\" dict and sort it by \"accuracy\" in DESC\n",
    "# In this dataframe only the models whose accuracy is greater than 0.9 are chosen.\n",
    "models_df = pd.DataFrame(run_details).T\n",
    "\n",
    "sorted_models_df = models_df[models_df['accuracy'] > 0.9].sort_values(by = 'accuracy', ascending=False)\n",
    "\n",
    "# Using the sorted_models_df from above, we are creating another dict that has the models fitted with the parameters.\n",
    "mlflow_models = {key:value(**(sorted_models_df.params[key])) for key,value in models.items() if  key in sorted_models_df.index}\n",
    "\n",
    "# Create the list[tuple] best_estimators to fit in the voting classifier\n",
    "best_estimators_mlflow = list(zip(mlflow_models.keys(),mlflow_models.values()))\n",
    "\n",
    "# If using stacking classifier, get the final estimator using:\n",
    "final_estimator_mlflow = {key:value(**(sorted_models_df.iloc[:1,:].params[key])) for key,value in models.items() if key in sorted_models_df.iloc[:1,:].index}"
   ]
  },
  {
   "cell_type": "code",
   "execution_count": null,
   "metadata": {},
   "outputs": [],
   "source": [
    "final_estimator_mlflow"
   ]
  },
  {
   "cell_type": "code",
   "execution_count": null,
   "metadata": {},
   "outputs": [],
   "source": [
    "model = mlflow.pyfunc.load_model(model_uri = source)"
   ]
  },
  {
   "cell_type": "code",
   "execution_count": null,
   "metadata": {},
   "outputs": [],
   "source": [
    "model"
   ]
  },
  {
   "cell_type": "code",
   "execution_count": null,
   "metadata": {},
   "outputs": [],
   "source": [
    "import re #type: ignore\n",
    "re.sub(r\"candidate_\", \"\", model.metadata.artifact_path)"
   ]
  },
  {
   "cell_type": "code",
   "execution_count": null,
   "metadata": {},
   "outputs": [],
   "source": [
    "re.sub(r\"candidate_\", \"\", model.metadata.artifact_path) in final_estimator_mlflow.keys() "
   ]
  },
  {
   "cell_type": "code",
   "execution_count": null,
   "metadata": {},
   "outputs": [],
   "source": [
    "loaded_stack_clf = mlflow.sklearn.load_model('mlflow-artifacts:/92a6b27dedeb4142985af421c5d6731e/0aa02c5eb103416482e71383a8fdb813/artifacts/candidate_Stacked_Classifier')"
   ]
  },
  {
   "cell_type": "code",
   "execution_count": null,
   "metadata": {},
   "outputs": [],
   "source": [
    "loaded_voting_clf = mlflow.sklearn.load_model(\"mlflow-artifacts:/11903934978c460a9384642b0de314e5/a2c39c6251e54870824b7f00638675ef/artifacts/candidate_Voting_Classifier\")"
   ]
  },
  {
   "cell_type": "code",
   "execution_count": null,
   "metadata": {},
   "outputs": [],
   "source": [
    "for i in range(384, 403):\n",
    "    try:\n",
    "        client.restore_experiment(i)\n",
    "        print(i)\n",
    "    except:\n",
    "        pass"
   ]
  },
  {
   "cell_type": "code",
   "execution_count": null,
   "metadata": {},
   "outputs": [],
   "source": [
    "loaded_xgboost = mlflow.xgboost.load_model(\"mlflow-artifacts:/be9321f5e0e04a3aaf79bdb2c29e4f0b/2d7d8b1edcb6427bb09dc86a4d27081e/artifacts/candidate_XGB_Classifier\")"
   ]
  },
  {
   "cell_type": "code",
   "execution_count": null,
   "metadata": {},
   "outputs": [],
   "source": [
    "loaded_lightgbm = mlflow.lightgbm.load_model(\"mlflow-artifacts:/6eaba79300574ad8a99256300411876d/ec2dba1bcc77439ea00ae90824f4dea0/artifacts/Light_GBM_batch_0\")"
   ]
  },
  {
   "cell_type": "code",
   "execution_count": null,
   "metadata": {},
   "outputs": [],
   "source": [
    "loaded_lightgbm.get_params()"
   ]
  },
  {
   "cell_type": "code",
   "execution_count": null,
   "metadata": {},
   "outputs": [],
   "source": [
    "loaded_xgboost.get_params()"
   ]
  },
  {
   "cell_type": "code",
   "execution_count": null,
   "metadata": {},
   "outputs": [],
   "source": [
    "loaded_voting_clf.get_params()"
   ]
  },
  {
   "cell_type": "code",
   "execution_count": null,
   "metadata": {},
   "outputs": [],
   "source": [
    "model.metadata.get_model_info()"
   ]
  },
  {
   "cell_type": "code",
   "execution_count": null,
   "metadata": {},
   "outputs": [],
   "source": [
    "mlflow.search_registered_models(filter_string = f\"tags.model_type ilike 'champion'\")"
   ]
  },
  {
   "cell_type": "code",
   "execution_count": null,
   "metadata": {},
   "outputs": [],
   "source": []
  },
  {
   "cell_type": "code",
   "execution_count": null,
   "metadata": {},
   "outputs": [],
   "source": []
  },
  {
   "cell_type": "code",
   "execution_count": null,
   "metadata": {},
   "outputs": [],
   "source": []
  },
  {
   "cell_type": "code",
   "execution_count": null,
   "metadata": {},
   "outputs": [],
   "source": []
  },
  {
   "cell_type": "code",
   "execution_count": null,
   "metadata": {},
   "outputs": [],
   "source": []
  },
  {
   "cell_type": "code",
   "execution_count": null,
   "metadata": {},
   "outputs": [],
   "source": []
  },
  {
   "cell_type": "code",
   "execution_count": null,
   "metadata": {},
   "outputs": [],
   "source": []
  },
  {
   "cell_type": "code",
   "execution_count": null,
   "metadata": {},
   "outputs": [],
   "source": [
    "0.46279279558254016 * 0.9999"
   ]
  },
  {
   "cell_type": "code",
   "execution_count": null,
   "metadata": {},
   "outputs": [],
   "source": [
    "np.mean([0.9877997989837807, 0.9879993989197358, 0.9869994788557294])"
   ]
  },
  {
   "cell_type": "code",
   "execution_count": null,
   "metadata": {},
   "outputs": [],
   "source": [
    "np.mean([0.9877997989837807, 0.9879993989197358, 0.9869994788557294]) * 0.99"
   ]
  },
  {
   "cell_type": "code",
   "execution_count": null,
   "metadata": {},
   "outputs": [],
   "source": [
    "Accuracy of Ada_Boost: 0.9850001188237743"
   ]
  },
  {
   "cell_type": "code",
   "execution_count": null,
   "metadata": {},
   "outputs": [],
   "source": [
    "# np.mean([0.9877997989837807, 0.9879993989197358, 0.9869994788557294])<\n",
    "np.quantile([0.9839994786156815, 0.9829995585516751, 0.9859999188637664, 0.9857993587356959, 0.9881992389037199, 0.9844004788478079, 0.9855995187517119], 0.15)"
   ]
  },
  {
   "cell_type": "code",
   "execution_count": null,
   "metadata": {},
   "outputs": [],
   "source": [
    "rf = RandomForestClassifier(n_estimators=123,\n",
    "max_features='sqrt',\n",
    "criterion = 'entropy',\n",
    "class_weight='balanced_subsample',\n",
    "n_jobs=-1)\n",
    "rf"
   ]
  },
  {
   "cell_type": "code",
   "execution_count": null,
   "metadata": {},
   "outputs": [],
   "source": [
    "testing_df = pd.concat([batch_list[10],batch_list[11]])"
   ]
  },
  {
   "cell_type": "code",
   "execution_count": null,
   "metadata": {},
   "outputs": [],
   "source": [
    "training_df = pd.concat([batch_list[i] for i in range(len(batch_list)-2)])"
   ]
  },
  {
   "cell_type": "code",
   "execution_count": null,
   "metadata": {},
   "outputs": [],
   "source": [
    "pipeline_rf = Pipeline(steps = [(\"KNN_Imputer\", KNNImputer()),\n",
    "                            (\"Robust_Scaler\", RobustScaler())])\n",
    "skf_cv = StratifiedKFold(n_splits = 3, shuffle = True, random_state = 42)\n",
    "smote_ = SMOTETomek(sampling_strategy = \"minority\",random_state = 42, n_jobs = -1)\n",
    "\n",
    "x_rf_train = training_df.drop(columns = 'class')\n",
    "y_rf_train = training_df['class']\n",
    "\n",
    "x_rf_test = testing_df.drop(columns = 'class')\n",
    "y_rf_test = testing_df['class']"
   ]
  },
  {
   "cell_type": "code",
   "execution_count": null,
   "metadata": {},
   "outputs": [],
   "source": [
    "print(x_rf_train.shape, y_rf_train.shape)"
   ]
  },
  {
   "cell_type": "code",
   "execution_count": null,
   "metadata": {},
   "outputs": [],
   "source": [
    "print(x_rf_test.shape, y_rf_test.shape)"
   ]
  },
  {
   "cell_type": "code",
   "execution_count": null,
   "metadata": {},
   "outputs": [],
   "source": [
    "print(x_rf_train.isna().sum().unique(),\"\\n\",x_rf_test.isna().sum().unique())"
   ]
  },
  {
   "cell_type": "code",
   "execution_count": null,
   "metadata": {},
   "outputs": [],
   "source": [
    "print(y_rf_train.value_counts(),\"\\n\",y_rf_test.value_counts())"
   ]
  },
  {
   "cell_type": "code",
   "execution_count": null,
   "metadata": {},
   "outputs": [],
   "source": [
    "pipeline_rf"
   ]
  },
  {
   "cell_type": "code",
   "execution_count": null,
   "metadata": {},
   "outputs": [],
   "source": [
    "x_rf_train_transformed = pipeline_rf.fit_transform(x_rf_train)"
   ]
  },
  {
   "cell_type": "code",
   "execution_count": null,
   "metadata": {},
   "outputs": [],
   "source": [
    "pd.DataFrame(x_rf_train_transformed).isna().sum().unique()"
   ]
  },
  {
   "cell_type": "code",
   "execution_count": null,
   "metadata": {},
   "outputs": [],
   "source": [
    "x_rf_train_smote, y_rf_train_smote = smote_.fit_resample(x_rf_train_transformed,y_rf_train)\n",
    "rf.fit(x_rf_train_smote,y_rf_train_smote)"
   ]
  },
  {
   "cell_type": "code",
   "execution_count": null,
   "metadata": {},
   "outputs": [],
   "source": [
    "x_rf_test_transformed = pipeline_rf.transform(x_rf_test)\n",
    "x_rf_test_smote, y_rf_test_smote = smote_.fit_resample(x_rf_test_transformed,y_rf_test)\n",
    "\n",
    "y_rf_pred = rf.predict(x_rf_test_smote)"
   ]
  },
  {
   "cell_type": "code",
   "execution_count": null,
   "metadata": {},
   "outputs": [],
   "source": [
    "eval_metrics(y_true = y_rf_test_smote, y_pred = y_rf_pred)"
   ]
  },
  {
   "cell_type": "code",
   "execution_count": null,
   "metadata": {},
   "outputs": [],
   "source": [
    "import matplotlib.pyplot as plt\n",
    "tn, fp, fn, tp = confusion_matrix(y_true = y_rf_test_smote, y_pred = y_rf_pred).ravel()\n",
    "cm = confusion_matrix(y_true = y_rf_test_smote, y_pred = y_rf_pred)\n",
    "cm_display = ConfusionMatrixDisplay(cm)\n",
    "\n",
    "cm_display.plot()\n",
    "plt.show()"
   ]
  },
  {
   "cell_type": "code",
   "execution_count": null,
   "metadata": {},
   "outputs": [],
   "source": [
    "tn, fp, fn, tp"
   ]
  },
  {
   "cell_type": "markdown",
   "metadata": {},
   "source": [
    "### With Test Data"
   ]
  },
  {
   "cell_type": "code",
   "execution_count": null,
   "metadata": {},
   "outputs": [],
   "source": [
    "test_df_path = Path('D:\\\\VSCode_Stuff\\\\updated_scania_truck\\\\scania_truck\\\\artifacts\\\\data\\\\processed\\\\stage_1_processing\\\\preprocessed_test_data.csv')\n",
    "test_df = pd.read_csv(test_df_path)"
   ]
  },
  {
   "cell_type": "code",
   "execution_count": null,
   "metadata": {},
   "outputs": [],
   "source": [
    "test_df.shape"
   ]
  },
  {
   "cell_type": "code",
   "execution_count": null,
   "metadata": {},
   "outputs": [],
   "source": [
    "test_x = test_df.drop(columns = 'class')\n",
    "test_y = test_df['class']"
   ]
  },
  {
   "cell_type": "code",
   "execution_count": null,
   "metadata": {},
   "outputs": [],
   "source": [
    "test_x.isna().sum().unique()"
   ]
  },
  {
   "cell_type": "code",
   "execution_count": null,
   "metadata": {},
   "outputs": [],
   "source": [
    "test_y.value_counts()"
   ]
  },
  {
   "cell_type": "code",
   "execution_count": null,
   "metadata": {},
   "outputs": [],
   "source": [
    "test_x_transformed = pipeline_rf.transform(test_x)\n",
    "test_x_smote,test_y_smote = smote_.fit_resample(test_x_transformed, test_y)\n",
    "# pipeline_rf = Pipeline(steps = [(\"KNN_Imputer\", KNNImputer()),\n",
    "#                             (\"Robust_Scaler\", RobustScaler())])\n",
    "# skf_cv = StratifiedKFold(n_splits = 3, shuffle = True, random_state = 42)\n",
    "# smote_ = SMOTETomek(sampling_strategy = \"minority\",random_state = 42, n_jobs = -1)"
   ]
  },
  {
   "cell_type": "code",
   "execution_count": null,
   "metadata": {},
   "outputs": [],
   "source": [
    "test_y_pred = rf.predict(test_x_smote)"
   ]
  },
  {
   "cell_type": "code",
   "execution_count": null,
   "metadata": {},
   "outputs": [],
   "source": [
    "eval_metrics(y_true = test_y_smote, y_pred = test_y_pred)"
   ]
  },
  {
   "cell_type": "code",
   "execution_count": null,
   "metadata": {},
   "outputs": [],
   "source": [
    "import matplotlib.pyplot as plt\n",
    "tn_test, fp_test, fn_test, tp_test = confusion_matrix(y_true = test_y_smote, y_pred = test_y_pred).ravel()\n",
    "cm_test = confusion_matrix(y_true = test_y_smote, y_pred = test_y_pred)\n",
    "cm_display_test = ConfusionMatrixDisplay(cm_test)\n",
    "\n",
    "cm_display_test.plot()\n",
    "plt.show()"
   ]
  },
  {
   "cell_type": "code",
   "execution_count": null,
   "metadata": {},
   "outputs": [],
   "source": [
    "tn_test, fp_test, fn_test, tp_test"
   ]
  },
  {
   "cell_type": "markdown",
   "metadata": {},
   "source": [
    "### Checking with LightGBM"
   ]
  },
  {
   "cell_type": "code",
   "execution_count": null,
   "metadata": {},
   "outputs": [],
   "source": []
  },
  {
   "cell_type": "code",
   "execution_count": null,
   "metadata": {},
   "outputs": [],
   "source": [
    "l"
   ]
  },
  {
   "cell_type": "code",
   "execution_count": null,
   "metadata": {},
   "outputs": [],
   "source": []
  },
  {
   "cell_type": "code",
   "execution_count": null,
   "metadata": {},
   "outputs": [],
   "source": []
  },
  {
   "cell_type": "code",
   "execution_count": null,
   "metadata": {},
   "outputs": [],
   "source": []
  },
  {
   "cell_type": "code",
   "execution_count": null,
   "metadata": {},
   "outputs": [],
   "source": []
  },
  {
   "cell_type": "code",
   "execution_count": null,
   "metadata": {},
   "outputs": [],
   "source": []
  },
  {
   "cell_type": "code",
   "execution_count": null,
   "metadata": {},
   "outputs": [],
   "source": [
    "[batch_list[i] for i in range(len(batch_list)-2)]"
   ]
  },
  {
   "cell_type": "code",
   "execution_count": null,
   "metadata": {},
   "outputs": [],
   "source": [
    "\n",
    "accuracy = cross_val_score(estimator=pipeline_rf,\n",
    "                        X= x_rf_test,\n",
    "                        y = y_rf_test,\n",
    "                        scoring = 'accuracy',\n",
    "                        cv = skf_cv,\n",
    "                        n_jobs = -1,\n",
    "                        verbose = 2)"
   ]
  },
  {
   "cell_type": "code",
   "execution_count": null,
   "metadata": {},
   "outputs": [],
   "source": [
    "unpruned_trials = []\n",
    "for key,value in models.items():\n",
    "    unpruned_trials.append(model_trial_study_df[key][model_trial_study_df[key]['state'] == \"COMPLETE\"])"
   ]
  },
  {
   "cell_type": "code",
   "execution_count": null,
   "metadata": {},
   "outputs": [],
   "source": [
    "accuracies == load_yaml(filepath='artifacts/metrics/batch_metrics_optuna.yaml')"
   ]
  },
  {
   "cell_type": "code",
   "execution_count": null,
   "metadata": {},
   "outputs": [],
   "source": [
    "pd.DataFrame(accuracies).to_csv(\"artifacts\\metrics\\\\batch_metrics_df\\\\batch_metrics_optuna.csv\")"
   ]
  },
  {
   "cell_type": "code",
   "execution_count": null,
   "metadata": {},
   "outputs": [],
   "source": [
    "save_yaml(file = accuracies, filepath='artifacts/metrics/batch_metrics_optuna.yaml')"
   ]
  },
  {
   "cell_type": "code",
   "execution_count": null,
   "metadata": {},
   "outputs": [],
   "source": [
    "model_trial_study_df"
   ]
  },
  {
   "cell_type": "code",
   "execution_count": null,
   "metadata": {},
   "outputs": [],
   "source": [
    "for key in models.keys():\n",
    "    model_trial_study_df[key].to_csv(f\"artifacts\\metrics\\\\batch_metrics_df\\{key}.csv\",index=False)"
   ]
  },
  {
   "cell_type": "code",
   "execution_count": null,
   "metadata": {},
   "outputs": [],
   "source": []
  },
  {
   "cell_type": "code",
   "execution_count": null,
   "metadata": {},
   "outputs": [],
   "source": [
    "find_params.trials_dataframe()"
   ]
  },
  {
   "cell_type": "code",
   "execution_count": null,
   "metadata": {},
   "outputs": [],
   "source": [
    "pprint(accuracies,compact=True)"
   ]
  },
  {
   "cell_type": "code",
   "execution_count": null,
   "metadata": {},
   "outputs": [],
   "source": [
    "np.median(accuracies['Logistic_Regression']['Optuna'][:5])"
   ]
  },
  {
   "cell_type": "code",
   "execution_count": null,
   "metadata": {},
   "outputs": [],
   "source": [
    "accuracies['Logistic_Regression']['Optuna'][:6]"
   ]
  },
  {
   "cell_type": "code",
   "execution_count": null,
   "metadata": {},
   "outputs": [],
   "source": [
    "find_params.user_attrs"
   ]
  },
  {
   "cell_type": "code",
   "execution_count": null,
   "metadata": {},
   "outputs": [],
   "source": [
    "find_params.trials_dataframe()"
   ]
  },
  {
   "cell_type": "code",
   "execution_count": null,
   "metadata": {},
   "outputs": [],
   "source": [
    "np.mean(accuracies['Logistic_Regression']['Optuna'][:24])"
   ]
  },
  {
   "cell_type": "code",
   "execution_count": null,
   "metadata": {},
   "outputs": [],
   "source": [
    "np.mean(accuracies['Logistic_Regression']['Optuna'])"
   ]
  },
  {
   "cell_type": "code",
   "execution_count": null,
   "metadata": {},
   "outputs": [],
   "source": [
    "np.mean(list(set(accuracies['Logistic_Regression']['Optuna'])))"
   ]
  },
  {
   "cell_type": "code",
   "execution_count": null,
   "metadata": {},
   "outputs": [],
   "source": [
    "# find_params = optuna.create_study(direction = 'maximize')\n",
    "# find_params.optimize(func = optuna_objective,\n",
    "#                      n_trials = 5)\n",
    "#                     #  n_jobs = -1)"
   ]
  },
  {
   "cell_type": "code",
   "execution_count": null,
   "metadata": {},
   "outputs": [],
   "source": [
    "space = {\n",
    "    'n_estimators': optuna.distributions.IntDistribution(100, 150),\n",
    "    'criterion' : optuna.distributions.CategoricalDistribution(['log_loss', 'entropy', 'gini']),\n",
    "    'max_features' : optuna.distributions.CategoricalDistribution(['sqrt', 'log2', None]),\n",
    "    'class_weight' : optuna.distributions.CategoricalDistribution(['balanced', 'balanced_subsample'])\n",
    "    }\n",
    "\n",
    "pipeline = Pipeline(steps = [(\"KNN_Imputer\", KNNImputer()),\n",
    "                                    (\"Robust_Scaler\", RobustScaler()),\n",
    "                                    (\"SMOTETomek\", SMOTETomek(sampling_strategy = \"minority\",random_state = 42, n_jobs = -1)),\n",
    "                                    (f\"Random Forest\", RandomForestClassifier(n_jobs=-1).set_params(**space))])\n",
    "skf_cv = StratifiedKFold(n_splits = 5, shuffle = True, random_state = 42)\n",
    "\n",
    "# optuna_search = optuna.integration.OptunaSearchCV(estimator = pipeline,\n",
    "#                                   param_distributions = {'verbose':optuna.distributions.CategoricalDistribution([True,False])},\n",
    "#                                   cv = skf_cv,\n",
    "#                                   n_jobs = -1,\n",
    "#                                   n_trials = 10,\n",
    "#                                   random_state = 42,\n",
    "#                                   refit = True,\n",
    "#                                   return_train_score = False,\n",
    "#                                   scoring = 'accuracy',\n",
    "#                                   verbose = 3)"
   ]
  },
  {
   "cell_type": "code",
   "execution_count": null,
   "metadata": {},
   "outputs": [],
   "source": [
    "pipeline"
   ]
  },
  {
   "cell_type": "code",
   "execution_count": null,
   "metadata": {},
   "outputs": [],
   "source": [
    "x = batch_list[2].drop(columns='class')\n",
    "y = batch_list[2]['class']\n",
    "optuna_search.fit(x,y)"
   ]
  },
  {
   "cell_type": "markdown",
   "metadata": {},
   "source": [
    "### Testing Stacking Classfier logging"
   ]
  },
  {
   "cell_type": "code",
   "execution_count": null,
   "metadata": {},
   "outputs": [],
   "source": [
    "stack_clf_dict = {'estimators': [('Random Forest', RandomForestClassifier()), ('Ada_Boost', AdaBoostClassifier()), ('Bagging_Classifier', BaggingClassifier()), ('ExtraTreesClassifier', ExtraTreesClassifier()), ('Light_GBM', LGBMClassifier())], 'final_estimator': 'LGBMClassifier()', 'cv': 3, 'stack_method': 'auto', 'passthrough': False, 'Random Forest_Params': {'bootstrap': True, 'ccp_alpha': 0.0, 'class_weight': 'balanced_subsample', 'criterion': 'log_loss', 'max_features': 'sqrt', 'min_impurity_decrease': 0.0, 'min_samples_leaf': 1, 'min_samples_split': 2, 'min_weight_fraction_leaf': 0.0, 'n_estimators': 114, 'oob_score': False, 'verbose': 0, 'warm_start': False}, 'Ada_Boost_Params': {'algorithm': 'SAMME', 'base_estimator': 'deprecated', 'learning_rate': 1.0, 'n_estimators': 127}, 'Bagging_Classifier_Params': {'base_estimator': 'deprecated', 'bootstrap': True, 'bootstrap_features': False, 'max_features': 1.0, 'max_samples': 1.0, 'n_estimators': 77, 'oob_score': False, 'verbose': 0, 'warm_start': False}, 'ExtraTreesClassifier_Params': {'bootstrap': False, 'ccp_alpha': 0.0, 'class_weight': 'balanced', 'criterion': 'entropy', 'min_impurity_decrease': 0.0, 'min_samples_leaf': 1, 'min_samples_split': 2, 'min_weight_fraction_leaf': 0.0, 'n_estimators': 319, 'oob_score': False, 'verbose': 0, 'warm_start': False}, 'XGB_Classifier_Params': {'objective': 'binary:logistic', 'base_score': 0.5, 'booster': 'dart', 'colsample_bylevel': 1, 'colsample_bynode': 1, 'colsample_bytree': 1, 'gamma': 0, 'gpu_id': -1, 'importance_type': 'gain', 'interaction_constraints': '', 'learning_rate': 0.32915440895317144, 'max_delta_step': 0, 'max_depth': 6, 'min_child_weight': 1, 'missing': np.nan, 'monotone_constraints': (), 'n_estimators': 146, 'n_jobs': 0, 'num_parallel_tree': 1, 'random_state': 0, 'reg_alpha': 0, 'reg_lambda': 1, 'scale_pos_weight': 1, 'subsample': 1, 'tree_method': 'approx', 'validate_parameters': 1}, 'Light_GBM_Params': {'boosting_type': 'dart', \n",
    "'class_weight': 'balanced', 'colsample_bytree': 1.0, 'importance_type': 'split', 'learning_rate': 0.8121913899106948, 'max_depth': -1, 'min_child_samples': 20, 'min_child_weight': 0.001, 'min_split_gain': 0.0, 'n_estimators': 100, 'n_jobs': -1, 'num_leaves': 31, 'reg_alpha': 0.0, 'reg_lambda': 0.0, 'subsample': 1.0, 'subsample_for_bin': 200000, 'subsample_freq': 0}}"
   ]
  },
  {
   "cell_type": "code",
   "execution_count": null,
   "metadata": {},
   "outputs": [],
   "source": [
    "pprint(stack_clf_dict)"
   ]
  },
  {
   "cell_type": "code",
   "execution_count": null,
   "metadata": {},
   "outputs": [],
   "source": [
    "stack_clf_dict_updated = {}\n",
    "some_list = ['Light_GBM_Params','Random Forest_Params','XGB_Classifier_Params','ExtraTreesClassifier_Params','Bagging_Classifier_Params','Ada_Boost_Params']\n",
    "for key,value in stack_clf_dict.items():\n",
    "    if key in some_list:\n",
    "        pass\n",
    "    else:\n",
    "        stack_clf_dict_updated[key] = stack_clf_dict[key]\n",
    "\n",
    "pprint(stack_clf_dict_updated)        "
   ]
  },
  {
   "cell_type": "code",
   "execution_count": null,
   "metadata": {},
   "outputs": [],
   "source": []
  },
  {
   "cell_type": "code",
   "execution_count": null,
   "metadata": {},
   "outputs": [],
   "source": [
    "stack_clf_dict_updated['estimators'].append(('XGB_Classifier',f\"{XGBClassifier().__class__.__name__}()\"))"
   ]
  },
  {
   "cell_type": "code",
   "execution_count": null,
   "metadata": {},
   "outputs": [],
   "source": [
    "stack_clf_dict_updated"
   ]
  },
  {
   "cell_type": "code",
   "execution_count": null,
   "metadata": {},
   "outputs": [],
   "source": [
    "stack_clf_dict_updated"
   ]
  },
  {
   "cell_type": "code",
   "execution_count": null,
   "metadata": {},
   "outputs": [],
   "source": []
  },
  {
   "cell_type": "code",
   "execution_count": null,
   "metadata": {},
   "outputs": [],
   "source": [
    "exp_count = 268\n",
    "exp_id_stack_clf = mlflow.create_experiment(name = f\"{exp_count}_Stacked_Classifier_{exp_count}\")\n",
    "with mlflow.start_run(experiment_id = exp_id_stack_clf,\n",
    "                        run_name = f\"Stacked_Classifier_Trial_0\",\n",
    "                        tags = {'model' : 'Stacked_Classifier',\n",
    "                                \"run_type\": \"parent\",\n",
    "                                \"model_type\" : \"Challenger\"}):\n",
    "        mlflow.log_params(params = stack_clf_dict_updated)"
   ]
  },
  {
   "cell_type": "code",
   "execution_count": null,
   "metadata": {},
   "outputs": [],
   "source": [
    "for key,value in stack_clf_dict['XGB_Classifier_Params'].items():\n",
    "    if type(stack_clf_dict['XGB_Classifier_Params'][key]) == int or type(stack_clf_dict['XGB_Classifier_Params'][key]) == float:\n",
    "        pass\n",
    "    else:\n",
    "        stack_clf_dict['XGB_Classifier_Params'][key] = str(value)\n",
    "stack_clf_dict['XGB_Classifier_Params']['monotone_constraints']='np.nan'"
   ]
  },
  {
   "cell_type": "code",
   "execution_count": null,
   "metadata": {},
   "outputs": [],
   "source": [
    "stack_clf_dict['XGB_Classifier_Params']['interaction_constraints'] = np.nan\n",
    "stack_clf_dict['XGB_Classifier_Params']['monotone_constraints']=np.nan\n",
    "stack_clf_dict['XGB_Classifier_Params']['missing']=np.nan"
   ]
  },
  {
   "cell_type": "code",
   "execution_count": null,
   "metadata": {},
   "outputs": [],
   "source": [
    "stack_clf_dict['XGB_Classifier_Params']['tree_method'] = \"approx\""
   ]
  },
  {
   "cell_type": "code",
   "execution_count": null,
   "metadata": {},
   "outputs": [],
   "source": [
    "stack_clf_dict['XGB_Classifier_Params']['tree_method'] "
   ]
  },
  {
   "cell_type": "code",
   "execution_count": null,
   "metadata": {},
   "outputs": [],
   "source": [
    "stack_clf_dict['XGB_Classifier_Params']"
   ]
  },
  {
   "cell_type": "code",
   "execution_count": null,
   "metadata": {},
   "outputs": [],
   "source": [
    "pprint(stack_clf_dict['XGB_Classifier_Params'])"
   ]
  },
  {
   "cell_type": "code",
   "execution_count": null,
   "metadata": {},
   "outputs": [],
   "source": [
    "stack_clf_dict_XGB_Classifier_Params = {}\n",
    "exp_count = 242\n",
    "key_count = 0\n",
    "\n",
    "sample_xgb_keys = list(stack_clf_dict['XGB_Classifier_Params'].keys())\n",
    "\n",
    "while (key_count < len(sample_xgb_keys)):\n",
    "    for i in sample_xgb_keys[:key_count]:\n",
    "        stack_clf_dict_XGB_Classifier_Params[i] = stack_clf_dict['XGB_Classifier_Params'][i]\n",
    "    print(stack_clf_dict_XGB_Classifier_Params)\n",
    "    try:\n",
    "        exp_id_stack_clf = mlflow.create_experiment(name = f\"{exp_count}_Stacked_Classifier_{exp_count}\")\n",
    "        with mlflow.start_run(experiment_id = exp_id_stack_clf,\n",
    "                                run_name = f\"Stacked_Classifier_Trial_0\",\n",
    "                                tags = {'model' : 'Stacked_Classifier',\n",
    "                                        \"run_type\": \"parent\",\n",
    "                                        \"model_type\" : \"Challenger\"}):\n",
    "                mlflow.log_param(key = 'XGB_Classifier_Params',value = stack_clf_dict_XGB_Classifier_Params)\n",
    "    except Exception as e:\n",
    "        raise e\n",
    "    key_count+=1\n",
    "    exp_count+=1\n"
   ]
  },
  {
   "cell_type": "code",
   "execution_count": null,
   "metadata": {},
   "outputs": [],
   "source": [
    "import json\n",
    "json.loads(\"{'objective': 'binary:logistic', 'base_score': 0.5, 'booster': 'dart', 'colsample_bylevel': 1, 'colsample_bynode': 1, 'colsample_bytree': 1, 'gamma': 0, 'gpu_id': -1, 'importance_type': 'gain', 'interaction_constraints': '', 'learning_rate': 0.32915440895317144, 'max_delta_step': 0, 'max_depth': 6, 'min_child_weight': 1, 'missing': np.nan, 'monotone_constraints': (), 'n_estimators': 146, 'n_jobs': 0, 'num_parallel_tree': 1, 'random_state': 0, 'reg_alpha': 0, 'reg_lambda': 1, 'scale_pos_weight': 1, 'subsample': '1'}\")"
   ]
  },
  {
   "cell_type": "code",
   "execution_count": null,
   "metadata": {},
   "outputs": [],
   "source": []
  },
  {
   "cell_type": "code",
   "execution_count": null,
   "metadata": {},
   "outputs": [],
   "source": []
  },
  {
   "cell_type": "code",
   "execution_count": null,
   "metadata": {},
   "outputs": [],
   "source": [
    "source = 'mlflow-artifacts:/a6bebe58bc2048749568891330c4774d/16cbd15260bc4fd9a1fd1417296228ac/artifacts/candidate_Stacked_Classifier'\n",
    "stack_model = mlflow.sklearn.load_model(source)"
   ]
  },
  {
   "cell_type": "code",
   "execution_count": null,
   "metadata": {},
   "outputs": [],
   "source": [
    "stack_model.get_params()"
   ]
  },
  {
   "cell_type": "code",
   "execution_count": null,
   "metadata": {},
   "outputs": [],
   "source": [
    "source = 'mlflow-artifacts:/7f5fa5df091042b9a3bb451ae18da424/f3a17021cc38473c952fe3bc66ba57f0/artifacts/candidate_Voting_Classifier'\n",
    "voter_model = mlflow.sklearn.load_model(source)"
   ]
  },
  {
   "cell_type": "code",
   "execution_count": null,
   "metadata": {},
   "outputs": [],
   "source": [
    "voter_model.get_params()"
   ]
  },
  {
   "cell_type": "code",
   "execution_count": null,
   "metadata": {},
   "outputs": [],
   "source": [
    "train_df = pd.read_csv('artifacts\\data\\processed\\stage_2_processing\\processed_train_data.csv')\n",
    "test_df = pd.read_csv('artifacts\\data\\processed\\stage_2_processing\\processed_test_data.csv')\n",
    "\n",
    "x_train,y_train = train_df.drop(columns = 'class'), train_df['class']\n",
    "x_test,y_test = test_df.drop(columns = 'class'), test_df['class']\n",
    "\n",
    "print(f\"\\nx_train shape: {x_train.shape}, y_train shape: {y_train.shape}\")\n",
    "print(f\"x_test shape: {x_test.shape}, y_test shape: {y_test.shape}\")\n",
    "print(f\"\\nNA values in x_train: {x_train.isna().sum().unique()}\")\n",
    "print(f\"NA values in x_test: {x_test.isna().sum().unique()}\")\n",
    "print(f\"\\nTarget value counts in y_train: {y_train.value_counts()}\")\n",
    "print(f\"\\nTarget value counts in y_test: {y_test.value_counts()}\")"
   ]
  },
  {
   "cell_type": "code",
   "execution_count": null,
   "metadata": {},
   "outputs": [],
   "source": [
    "import mlflow.lightgbm"
   ]
  },
  {
   "cell_type": "code",
   "execution_count": null,
   "metadata": {},
   "outputs": [],
   "source": [
    "source = 'mlflow-artifacts:/3b56fdb7f0c145558ec6ecef1ee13c65/f15fa52cff254bc382f90d597bd8d467/artifacts/candidate_Light_GBM'\n",
    "model = mlflow.lightgbm.load_model(source)\n",
    "# model.fit(x_train,y_train)\n",
    "# y_pred = model.predict(x_test)"
   ]
  },
  {
   "cell_type": "code",
   "execution_count": null,
   "metadata": {},
   "outputs": [],
   "source": [
    "model = mlflow.pyfunc.load_model(source)"
   ]
  },
  {
   "cell_type": "code",
   "execution_count": null,
   "metadata": {},
   "outputs": [],
   "source": [
    "model"
   ]
  },
  {
   "cell_type": "code",
   "execution_count": null,
   "metadata": {},
   "outputs": [],
   "source": [
    "model"
   ]
  },
  {
   "cell_type": "code",
   "execution_count": null,
   "metadata": {},
   "outputs": [],
   "source": [
    "params = client.get_run('f15fa52cff254bc382f90d597bd8d467').data.params\n",
    "# 77ec2808938e4ecc82419ef63231d390"
   ]
  },
  {
   "cell_type": "code",
   "execution_count": null,
   "metadata": {},
   "outputs": [],
   "source": [
    "from src.utils import params_evaluator\n",
    "params_ = params_evaluator(params)"
   ]
  },
  {
   "cell_type": "code",
   "execution_count": null,
   "metadata": {},
   "outputs": [],
   "source": [
    "params"
   ]
  },
  {
   "cell_type": "code",
   "execution_count": null,
   "metadata": {},
   "outputs": [],
   "source": [
    "params_"
   ]
  },
  {
   "cell_type": "code",
   "execution_count": null,
   "metadata": {},
   "outputs": [],
   "source": [
    "lgbm = LGBMClassifier(**params_).fit(x_train,y_train)"
   ]
  },
  {
   "cell_type": "code",
   "execution_count": null,
   "metadata": {},
   "outputs": [],
   "source": [
    "x_train.shape,y_train.shape"
   ]
  },
  {
   "cell_type": "code",
   "execution_count": null,
   "metadata": {},
   "outputs": [],
   "source": [
    "lgbm"
   ]
  },
  {
   "cell_type": "code",
   "execution_count": null,
   "metadata": {},
   "outputs": [],
   "source": [
    "y_pred = lgbm.predict(x_test)"
   ]
  },
  {
   "cell_type": "code",
   "execution_count": null,
   "metadata": {},
   "outputs": [],
   "source": [
    "eval_metrics(y_test, y_pred)"
   ]
  },
  {
   "cell_type": "code",
   "execution_count": null,
   "metadata": {},
   "outputs": [],
   "source": [
    "cm = confusion_matrix(y_test, y_pred)\n",
    "\n",
    "cmd = ConfusionMatrixDisplay(cm)\n",
    "cmd.plot()"
   ]
  },
  {
   "cell_type": "code",
   "execution_count": null,
   "metadata": {},
   "outputs": [],
   "source": [
    "vparams = client.get_run('77ec2808938e4ecc82419ef63231d390').data.params\n"
   ]
  },
  {
   "cell_type": "code",
   "execution_count": null,
   "metadata": {},
   "outputs": [],
   "source": [
    "vparams"
   ]
  },
  {
   "cell_type": "code",
   "execution_count": null,
   "metadata": {},
   "outputs": [],
   "source": [
    "vparams_ = params_evaluator(vparams)"
   ]
  },
  {
   "cell_type": "code",
   "execution_count": null,
   "metadata": {},
   "outputs": [],
   "source": [
    "voter = VotingClassifier(**vparams_)"
   ]
  },
  {
   "cell_type": "code",
   "execution_count": null,
   "metadata": {},
   "outputs": [],
   "source": [
    "voter"
   ]
  },
  {
   "cell_type": "code",
   "execution_count": null,
   "metadata": {},
   "outputs": [],
   "source": [
    "voter.fit(x_train,y_train)"
   ]
  },
  {
   "cell_type": "code",
   "execution_count": null,
   "metadata": {},
   "outputs": [],
   "source": [
    "voter = mlflow.sklearn.load_model('mlflow-artifacts:/533f6cb174124ebab178f999387dccd7/77ec2808938e4ecc82419ef63231d390/artifacts/candidate_Voting_Classifier')"
   ]
  },
  {
   "cell_type": "code",
   "execution_count": null,
   "metadata": {},
   "outputs": [],
   "source": [
    "type(voter)"
   ]
  },
  {
   "cell_type": "code",
   "execution_count": null,
   "metadata": {},
   "outputs": [],
   "source": [
    "v_ypred = voter.predict(x_test)"
   ]
  },
  {
   "cell_type": "code",
   "execution_count": null,
   "metadata": {},
   "outputs": [],
   "source": [
    "eval_metrics(y_test, v_ypred)"
   ]
  },
  {
   "cell_type": "code",
   "execution_count": null,
   "metadata": {},
   "outputs": [],
   "source": [
    "vcm = confusion_matrix(y_test, v_ypred)\n",
    "\n",
    "vcmd = ConfusionMatrixDisplay(vcm)\n",
    "vcmd.plot()"
   ]
  },
  {
   "cell_type": "code",
   "execution_count": null,
   "metadata": {},
   "outputs": [],
   "source": [
    "light_gbm = mlflow.lightgbm.load_model('mlflow-artifacts:/3b56fdb7f0c145558ec6ecef1ee13c65/f15fa52cff254bc382f90d597bd8d467/artifacts/candidate_Light_GBM')"
   ]
  },
  {
   "cell_type": "code",
   "execution_count": null,
   "metadata": {},
   "outputs": [],
   "source": [
    "light_gbm"
   ]
  },
  {
   "cell_type": "code",
   "execution_count": null,
   "metadata": {},
   "outputs": [],
   "source": [
    "xgb_model = mlflow.xgboost.load_model('mlflow-artifacts:/18769b2484b4423c9f6aa9b634e15405/68d7436edd66459db5e8970f4217c1d6/artifacts/candidate_XGB_Classifier')"
   ]
  },
  {
   "cell_type": "code",
   "execution_count": null,
   "metadata": {},
   "outputs": [],
   "source": [
    "train_df = pd.read_csv('artifacts\\data\\processed\\stage_2_processing\\processed_train_data.csv')\n",
    "test_df = pd.read_csv('artifacts\\data\\processed\\stage_2_processing\\processed_test_data.csv')\n",
    "\n",
    "x_train,y_train = train_df.drop(columns = 'class'), train_df['class']\n",
    "x_test,y_test = test_df.drop(columns = 'class'), test_df['class']\n",
    "\n",
    "print(f\"\\nx_train shape: {x_train.shape}, y_train shape: {y_train.shape}\")\n",
    "print(f\"x_test shape: {x_test.shape}, y_test shape: {y_test.shape}\")\n",
    "print(f\"\\nNA values in x_train: {x_train.isna().sum().unique()}\")\n",
    "print(f\"NA values in x_test: {x_test.isna().sum().unique()}\")\n",
    "print(f\"\\nTarget value counts in y_train: {y_train.value_counts()}\")\n",
    "print(f\"\\nTarget value counts in y_test: {y_test.value_counts()}\")\n",
    "\n",
    "xgb_model = mlflow.xgboost.load_model('mlflow-artifacts:/18769b2484b4423c9f6aa9b634e15405/68d7436edd66459db5e8970f4217c1d6/artifacts/candidate_XGB_Classifier')\n",
    "xgb_model.fit(x_train,y_train)\n",
    "xgb_y_pred = xgb_model.predict(x_test)\n",
    "eval_metrics(y_test, xgb_y_pred)\n",
    "\n",
    "xgbcm = confusion_matrix(y_test, xgb_y_pred)\n",
    "\n",
    "xgbcmd = ConfusionMatrixDisplay(xgbcm)\n",
    "xgbcmd.plot()"
   ]
  },
  {
   "cell_type": "code",
   "execution_count": null,
   "metadata": {},
   "outputs": [],
   "source": [
    "eval_metrics(y_test, xgb_y_pred)"
   ]
  },
  {
   "cell_type": "code",
   "execution_count": null,
   "metadata": {},
   "outputs": [],
   "source": [
    "xgbcm = confusion_matrix(y_test, xgb_y_pred)\n",
    "\n",
    "xgbcmd = ConfusionMatrixDisplay(xgbcm)\n",
    "xgbcmd.plot()"
   ]
  },
  {
   "cell_type": "code",
   "execution_count": null,
   "metadata": {},
   "outputs": [],
   "source": [
    "new_xgb = mlflow.xgboost.load_model('mlflow-artifacts:/18769b2484b4423c9f6aa9b634e15405/68d7436edd66459db5e8970f4217c1d6/artifacts/candidate_XGB_Classifier')"
   ]
  },
  {
   "cell_type": "code",
   "execution_count": null,
   "metadata": {},
   "outputs": [],
   "source": [
    "new_xgb.fit()"
   ]
  },
  {
   "cell_type": "code",
   "execution_count": null,
   "metadata": {},
   "outputs": [],
   "source": [
    "xgb_new_y_pred = new_xgb.predict(x_test)"
   ]
  },
  {
   "cell_type": "code",
   "execution_count": null,
   "metadata": {},
   "outputs": [],
   "source": [
    "eval_metrics(y_test, xgb_new_y_pred)"
   ]
  },
  {
   "cell_type": "code",
   "execution_count": null,
   "metadata": {},
   "outputs": [],
   "source": [
    "xgbcm_new = confusion_matrix(y_test, xgb_new_y_pred)\n",
    "\n",
    "xgbcmd_new = ConfusionMatrixDisplay(xgbcm_new)\n",
    "xgbcmd_new.plot()"
   ]
  },
  {
   "cell_type": "code",
   "execution_count": null,
   "metadata": {},
   "outputs": [],
   "source": [
    "voter_new = mlflow.sklearn.load_model('mlflow-artifacts:/533f6cb174124ebab178f999387dccd7/77ec2808938e4ecc82419ef63231d390/artifacts/candidate_Voting_Classifier')"
   ]
  },
  {
   "cell_type": "code",
   "execution_count": null,
   "metadata": {},
   "outputs": [],
   "source": [
    "voter_new.fit(x_train,y_train)"
   ]
  },
  {
   "cell_type": "code",
   "execution_count": null,
   "metadata": {},
   "outputs": [],
   "source": [
    "voter_new"
   ]
  },
  {
   "cell_type": "code",
   "execution_count": null,
   "metadata": {},
   "outputs": [],
   "source": []
  },
  {
   "cell_type": "code",
   "execution_count": null,
   "metadata": {},
   "outputs": [],
   "source": [
    "mlflow.lightgbm.load_model('runs:/f15fa52cff254bc382f90d597bd8d467')"
   ]
  },
  {
   "cell_type": "code",
   "execution_count": null,
   "metadata": {},
   "outputs": [],
   "source": [
    "new_lgbm = mlflow.lightgbm.load_model('mlflow-artifacts:/3b56fdb7f0c145558ec6ecef1ee13c65/ca1373173b75483f8130f0ebac3bb2c2/artifacts/candidate_Light_GBM')"
   ]
  },
  {
   "cell_type": "code",
   "execution_count": null,
   "metadata": {},
   "outputs": [],
   "source": [
    "new_lgbm"
   ]
  },
  {
   "cell_type": "code",
   "execution_count": null,
   "metadata": {},
   "outputs": [],
   "source": [
    "mlflow.search_registered_models()"
   ]
  },
  {
   "cell_type": "code",
   "execution_count": null,
   "metadata": {},
   "outputs": [],
   "source": [
    "from src.utils import load_binary"
   ]
  },
  {
   "cell_type": "code",
   "execution_count": null,
   "metadata": {},
   "outputs": [],
   "source": [
    "obj = ConfigurationManager()\n",
    "stage1_obj = obj.get_stage1_processing_config()\n",
    "data_split_obj = obj.get_data_split_config()\n",
    "stage2_obj = obj.get_stage2_processing_config()"
   ]
  },
  {
   "cell_type": "code",
   "execution_count": null,
   "metadata": {},
   "outputs": [],
   "source": [
    "test_data = pd.read_csv(stage1_obj.test_data_path)"
   ]
  },
  {
   "cell_type": "code",
   "execution_count": null,
   "metadata": {},
   "outputs": [],
   "source": [
    "test_data"
   ]
  },
  {
   "cell_type": "code",
   "execution_count": null,
   "metadata": {},
   "outputs": [],
   "source": [
    "preprocessor = load_binary('preprocessor.joblib')"
   ]
  },
  {
   "cell_type": "code",
   "execution_count": null,
   "metadata": {},
   "outputs": [],
   "source": [
    "test_data_x = test_data.drop(columns = 'class')\n",
    "test_data_y = test_data['class']"
   ]
  },
  {
   "cell_type": "code",
   "execution_count": null,
   "metadata": {},
   "outputs": [],
   "source": [
    "transformed_test_data_x = preprocessor.transform(test_data_x)"
   ]
  },
  {
   "cell_type": "code",
   "execution_count": null,
   "metadata": {},
   "outputs": [],
   "source": [
    "test_smote = SMOTETomek(sampling_strategy='minority', random_state = 42)\n"
   ]
  },
  {
   "cell_type": "code",
   "execution_count": null,
   "metadata": {},
   "outputs": [],
   "source": [
    "xtest_data_x_smote, test_data_y_smote = test_smote.fit_resample(transformed_test_data_x, test_data_y)"
   ]
  },
  {
   "cell_type": "code",
   "execution_count": null,
   "metadata": {},
   "outputs": [],
   "source": [
    "train_df = pd.read_csv('artifacts\\data\\processed\\stage_2_processing\\processed_train_data.csv')\n",
    "test_df = pd.read_csv('artifacts\\data\\processed\\stage_2_processing\\processed_test_data.csv')\n",
    "\n",
    "x_train,y_train = train_df.drop(columns = 'class'), train_df['class']\n",
    "x_test,y_test = test_df.drop(columns = 'class'), test_df['class']\n",
    "\n",
    "print(f\"\\nx_train shape: {x_train.shape}, y_train shape: {y_train.shape}\")\n",
    "print(f\"x_test shape: {x_test.shape}, y_test shape: {y_test.shape}\")\n",
    "print(f\"\\nNA values in x_train: {x_train.isna().sum().unique()}\")\n",
    "print(f\"NA values in x_test: {x_test.isna().sum().unique()}\")\n",
    "print(f\"\\nTarget value counts in y_train: {y_train.value_counts()}\")\n",
    "print(f\"\\nTarget value counts in y_test: {y_test.value_counts()}\")"
   ]
  },
  {
   "cell_type": "code",
   "execution_count": null,
   "metadata": {},
   "outputs": [],
   "source": [
    "xgb_model = mlflow.xgboost.load_model('mlflow-artifacts:/18769b2484b4423c9f6aa9b634e15405/68d7436edd66459db5e8970f4217c1d6/artifacts/candidate_XGB_Classifier')\n",
    "xgb_model.fit(x_train,y_train)\n",
    "xgb_y_pred = xgb_model.predict(x_test)\n",
    "\n",
    "print(eval_metrics(y_test, xgb_y_pred))\n",
    "\n",
    "xgbcm = confusion_matrix(y_test, xgb_y_pred)\n",
    "\n",
    "xgbcmd = ConfusionMatrixDisplay(xgbcm)\n",
    "xgbcmd.plot()"
   ]
  },
  {
   "cell_type": "code",
   "execution_count": null,
   "metadata": {},
   "outputs": [],
   "source": [
    "test_xgb_y_pred = xgb_model.predict(xtest_data_x_smote)"
   ]
  },
  {
   "cell_type": "code",
   "execution_count": null,
   "metadata": {},
   "outputs": [],
   "source": [
    "eval_metrics(test_data_y_smote, test_xgb_y_pred)"
   ]
  },
  {
   "cell_type": "code",
   "execution_count": null,
   "metadata": {},
   "outputs": [],
   "source": [
    "xgbcm_new_ = confusion_matrix(test_data_y_smote, test_xgb_y_pred)\n",
    "\n",
    "xgbcmd_new_ = ConfusionMatrixDisplay(xgbcm_new_)\n",
    "xgbcmd_new_.plot()"
   ]
  },
  {
   "cell_type": "code",
   "execution_count": null,
   "metadata": {},
   "outputs": [],
   "source": []
  },
  {
   "cell_type": "code",
   "execution_count": null,
   "metadata": {},
   "outputs": [],
   "source": [
    "voter = mlflow.sklearn.load_model('mlflow-artifacts:/533f6cb174124ebab178f999387dccd7/77ec2808938e4ecc82419ef63231d390/artifacts/candidate_Voting_Classifier')"
   ]
  },
  {
   "cell_type": "code",
   "execution_count": null,
   "metadata": {},
   "outputs": [],
   "source": [
    "test_data_y_smote_voted = voter.predict(xtest_data_x_smote)"
   ]
  },
  {
   "cell_type": "code",
   "execution_count": null,
   "metadata": {},
   "outputs": [],
   "source": [
    "eval_metrics(test_data_y_smote, test_data_y_smote_voted)"
   ]
  },
  {
   "cell_type": "code",
   "execution_count": null,
   "metadata": {},
   "outputs": [],
   "source": [
    "voter_new_cm = confusion_matrix(test_data_y_smote, test_data_y_smote_voted)\n",
    "\n",
    "voter_new_cmd = ConfusionMatrixDisplay(voter_new_cm)\n",
    "voter_new_cmd.plot()"
   ]
  },
  {
   "cell_type": "code",
   "execution_count": null,
   "metadata": {},
   "outputs": [],
   "source": [
    "adaBoost = mlflow.sklearn.load_model('mlflow-artifacts:/69cc64934ab144a2823a5590705ba4d2/05d22f9172944dd7ac23e02eab0cc340/artifacts/candidate_Ada_Boost')"
   ]
  },
  {
   "cell_type": "code",
   "execution_count": null,
   "metadata": {},
   "outputs": [],
   "source": [
    "adaBoost_test_data_y_smote = adaBoost.predict(xtest_data_x_smote)"
   ]
  },
  {
   "cell_type": "code",
   "execution_count": null,
   "metadata": {},
   "outputs": [],
   "source": [
    "eval_metrics(test_data_y_smote, adaBoost_test_data_y_smote)"
   ]
  },
  {
   "cell_type": "code",
   "execution_count": null,
   "metadata": {},
   "outputs": [],
   "source": [
    "adabost_new_cm = confusion_matrix(test_data_y_smote, adaBoost_test_data_y_smote)\n",
    "\n",
    "adabost_new_cmd = ConfusionMatrixDisplay(adabost_new_cm)\n",
    "adabost_new_cmd.plot()"
   ]
  },
  {
   "cell_type": "code",
   "execution_count": null,
   "metadata": {},
   "outputs": [],
   "source": []
  },
  {
   "cell_type": "code",
   "execution_count": null,
   "metadata": {},
   "outputs": [],
   "source": [
    "lightgbm_params = client.get_run('f15fa52cff254bc382f90d597bd8d467').data.params\n",
    "lightgbm_params_ = params_evaluator(lightgbm_params)\n",
    "lightgbm_params_"
   ]
  },
  {
   "cell_type": "code",
   "execution_count": null,
   "metadata": {},
   "outputs": [],
   "source": [
    "light_gbm = LGBMClassifier(**lightgbm_params_)"
   ]
  },
  {
   "cell_type": "code",
   "execution_count": null,
   "metadata": {},
   "outputs": [],
   "source": [
    "light_gbm.fit(x_train,y_train)\n",
    "light_gbm_y_pred = light_gbm.predict(x_test)\n",
    "\n",
    "print(eval_metrics(y_test, light_gbm_y_pred))\n",
    "\n",
    "light_gbm_cm = confusion_matrix(y_test, light_gbm_y_pred)\n",
    "\n",
    "light_gbm_cmd = ConfusionMatrixDisplay(light_gbm_cm)\n",
    "light_gbm_cmd.plot()"
   ]
  },
  {
   "cell_type": "code",
   "execution_count": null,
   "metadata": {},
   "outputs": [],
   "source": [
    "light_gbm_test_data_y_smote = light_gbm.predict(xtest_data_x_smote)"
   ]
  },
  {
   "cell_type": "code",
   "execution_count": null,
   "metadata": {},
   "outputs": [],
   "source": [
    "eval_metrics(test_data_y_smote, light_gbm_test_data_y_smote)"
   ]
  },
  {
   "cell_type": "code",
   "execution_count": null,
   "metadata": {},
   "outputs": [],
   "source": [
    "light_gbm_cm_test = confusion_matrix(test_data_y_smote, light_gbm_test_data_y_smote)\n",
    "\n",
    "light_gbm_cmd_test = ConfusionMatrixDisplay(light_gbm_cm_test)\n",
    "light_gbm_cmd_test.plot()"
   ]
  },
  {
   "cell_type": "code",
   "execution_count": null,
   "metadata": {},
   "outputs": [],
   "source": [
    "light_gbm"
   ]
  },
  {
   "cell_type": "code",
   "execution_count": null,
   "metadata": {},
   "outputs": [],
   "source": [
    "dict_sample = {}\n",
    "\n",
    "dict_sample['model'] = light_gbm"
   ]
  },
  {
   "cell_type": "code",
   "execution_count": null,
   "metadata": {},
   "outputs": [],
   "source": [
    "dict_sample['model']"
   ]
  },
  {
   "cell_type": "code",
   "execution_count": null,
   "metadata": {},
   "outputs": [],
   "source": [
    "registered_models = {mlflow.search_registered_models()[i].latest_versions[0].name : mlflow.search_registered_models()[i].latest_versions[0].run_id for i in range(len(mlflow.search_registered_models()))}\n",
    "\n",
    "# Get the accuracies and the respective params of the models as dict\n",
    "run_details = {}\n",
    "for key,value in registered_models.items():\n",
    "    run_details[client.get_run(value).data.tags['model']] = {}\n",
    "    run_details[client.get_run(value).data.tags['model']]['accuracy'] = client.get_run(value).data.metrics['Accuracy_Score']\n",
    "    run_details[client.get_run(value).data.tags['model']]['params'] = params_evaluator(client.get_run(value).data.params)\n",
    "\n",
    "# Create a dataframe from the \"run_details\" dict and sort it by \"accuracy\" in DESC\n",
    "# In this dataframe only the models whose accuracy is greater than 0.9 are chosen.\n",
    "models_df = pd.DataFrame(run_details).T\n",
    "\n",
    "sorted_models_df = models_df[models_df['accuracy'] > 0.9].sort_values(by = 'accuracy', ascending=False)\n",
    "\n",
    "# Using the sorted_models_df from above, we are creating another dict that has the models fitted with the parameters.\n",
    "mlflow_models = {key:value(**(sorted_models_df.params[key])) for key,value in models.items() if  key in sorted_models_df.index}\n",
    "\n",
    "# Create the list[tuple] best_estimators to fit in the voting classifier\n",
    "best_estimators_mlflow = list(zip(mlflow_models.keys(),mlflow_models.values()))\n",
    "\n",
    "print(f\"\\nBest_Estimators: {best_estimators_mlflow}\")\n",
    "\n",
    "# If using stacking classifier, get the final estimator using:\n",
    "final_estimator_mlflow = {key:value(**(sorted_models_df.iloc[:1,:].params[key])) for key,value in models.items() if key in sorted_models_df.iloc[:1,:].index}\n",
    "# Access the final estimator model using:"
   ]
  },
  {
   "cell_type": "code",
   "execution_count": null,
   "metadata": {},
   "outputs": [],
   "source": [
    "list(final_estimator_mlflow.keys())[0]"
   ]
  },
  {
   "cell_type": "code",
   "execution_count": null,
   "metadata": {},
   "outputs": [],
   "source": [
    "sample_model = LGBMClassifier(boosting_type='dart', class_weight='balanced',\n",
    "               learning_rate=0.8121913899106948, n_jobs=-1)\n",
    "sample_model.__class__.__name__"
   ]
  },
  {
   "cell_type": "code",
   "execution_count": null,
   "metadata": {},
   "outputs": [],
   "source": [
    "sample_model"
   ]
  },
  {
   "cell_type": "code",
   "execution_count": null,
   "metadata": {},
   "outputs": [],
   "source": [
    "sample_xgb= XGBClassifier(base_score=0.5, booster='dart', colsample_bylevel=1,\n",
    "              colsample_bynode=1, colsample_bytree=1, gamma=0, gpu_id=-1,\n",
    "              importance_type='gain', interaction_constraints='',\n",
    "              learning_rate=0.32915440895317144, max_delta_step=0, max_depth=6,\n",
    "              min_child_weight=1, missing=np.nan, monotone_constraints=(),\n",
    "              n_estimators=146, n_jobs=0, num_parallel_tree=1, random_state=0,\n",
    "              reg_alpha=0, reg_lambda=1, scale_pos_weight=1, subsample=1,\n",
    "              tree_method='approx', validate_parameters=1, verbosity=None)\n",
    "sample_xgb"
   ]
  },
  {
   "cell_type": "code",
   "execution_count": null,
   "metadata": {},
   "outputs": [],
   "source": [
    "with mlflow.start_run(experiment_id = '447',\n",
    "                                  run_name = 'Challenger Model',\n",
    "                                  tags = {'model' : f\"sample\",\n",
    "                                      \"run_type\": \"Challenger\",\n",
    "                                      \"model_type\" : \"Challenger\"}) as final_estimator_run:\n",
    "        mlflow.sklearn.log_model(sk_model = sample_model, \n",
    "                                        artifact_path = 'sample')"
   ]
  },
  {
   "cell_type": "code",
   "execution_count": null,
   "metadata": {},
   "outputs": [],
   "source": [
    "loaded_model = mlflow.sklearn.load_model('mlflow-artifacts:/3b56fdb7f0c145558ec6ecef1ee13c65/5c336bdf0543445eb94baf22ed972a40/artifacts/sample')"
   ]
  },
  {
   "cell_type": "code",
   "execution_count": null,
   "metadata": {},
   "outputs": [],
   "source": [
    "type(loaded_model)"
   ]
  },
  {
   "cell_type": "code",
   "execution_count": null,
   "metadata": {},
   "outputs": [],
   "source": [
    "with mlflow.start_run(experiment_id = '446',\n",
    "                                  run_name = 'Challenger Model',\n",
    "                                  tags = {'model' : f\"sample\",\n",
    "                                      \"run_type\": \"Challenger\",\n",
    "                                      \"model_type\" : \"Challenger\"}) as final_estimator_run:\n",
    "        mlflow.sklearn.log_model(sk_model = sample_xgb, \n",
    "                                        artifact_path = 'sample')"
   ]
  },
  {
   "cell_type": "code",
   "execution_count": null,
   "metadata": {},
   "outputs": [],
   "source": [
    "loaded_xgb_ = mlflow.sklearn.load_model('mlflow-artifacts:/18769b2484b4423c9f6aa9b634e15405/e8761814eeb64f54a39bfc1e215de227/artifacts/sample')"
   ]
  },
  {
   "cell_type": "code",
   "execution_count": null,
   "metadata": {},
   "outputs": [],
   "source": [
    "loaded_xgb_"
   ]
  },
  {
   "cell_type": "code",
   "execution_count": null,
   "metadata": {},
   "outputs": [],
   "source": [
    "from src.components.copy_stage_5_model_tuning_and_tracking import model_tuning_tracking_component\n",
    "\n",
    "class model_trainer_component(model_tuning_tracking_component):\n",
    "    def __init__(self) -> None:\n",
    "        super().__init__()#(stage_2_conf: Stage2ProcessingConf,\n",
    "        #          metrics_conf: ModelMetricsConf,\n",
    "        #          model_conf: ModelTrainerConf,\n",
    "        #          preprocessor_conf: PreprocessorConf,\n",
    "        #          data_split_conf: DataSplitConf,\n",
    "        #          stage1_processor_conf: Stage1ProcessingConf)\n",
    "        self.stage_1_config = super().stage1_processor_config\n",
    "        # self.data_split_config = self.split_config\n",
    "        # self.stage_2_config = self.stage_2_config\n",
    "        # self.metrics_config = self.metrics_config\n",
    "        # self.model_config = self.model_config\n",
    "    \n",
    "    def sample(self):\n",
    "        print(self.split_config.test_path)\n",
    "        # print(super().models_tuning().__sizeof__)\n",
    "\n",
    "sample_obj = model_trainer_component()\n",
    "sample_obj.sample()"
   ]
  },
  {
   "cell_type": "code",
   "execution_count": null,
   "metadata": {},
   "outputs": [],
   "source": []
  },
  {
   "cell_type": "code",
   "execution_count": null,
   "metadata": {},
   "outputs": [],
   "source": [
    "import json\n",
    "artifact_path = json.loads(client.get_run('54fbd83b2bfc4880b21b608ac2314b29').data.tags['mlflow.log-model.history'])[0]['artifact_path']\n",
    "artifact_path"
   ]
  },
  {
   "cell_type": "code",
   "execution_count": null,
   "metadata": {},
   "outputs": [],
   "source": [
    "artifact_uri = client.get_run('54fbd83b2bfc4880b21b608ac2314b29').info.artifact_uri"
   ]
  },
  {
   "cell_type": "code",
   "execution_count": null,
   "metadata": {},
   "outputs": [],
   "source": [
    "artifact_uri+'/'+artifact_path"
   ]
  },
  {
   "cell_type": "code",
   "execution_count": null,
   "metadata": {},
   "outputs": [],
   "source": [
    "client.get_run('54fbd83b2bfc4880b21b608ac2314b29')"
   ]
  },
  {
   "cell_type": "code",
   "execution_count": null,
   "metadata": {},
   "outputs": [],
   "source": [
    "mlflow.search_registered_models(filter_string = f\"tags.model_type ilike 'Best_HP_Tuned_Candidate'\")[0].latest_versions[0].source"
   ]
  },
  {
   "cell_type": "code",
   "execution_count": null,
   "metadata": {},
   "outputs": [],
   "source": [
    "mlflow.sklearn.load_model('mlflow-artifacts:/ab43382289a342c6b3276113ffdd2c35/54fbd83b2bfc4880b21b608ac2314b29/artifacts/candidate_Ada_Boost')"
   ]
  },
  {
   "cell_type": "code",
   "execution_count": null,
   "metadata": {},
   "outputs": [],
   "source": [
    "client.list_artifacts(run_id = '54fbd83b2bfc4880b21b608ac2314b29')"
   ]
  },
  {
   "cell_type": "code",
   "execution_count": null,
   "metadata": {},
   "outputs": [],
   "source": [
    "client.list_artifacts(run_id = '54fbd83b2bfc4880b21b608ac2314b29')[0].path"
   ]
  },
  {
   "cell_type": "code",
   "execution_count": null,
   "metadata": {},
   "outputs": [],
   "source": [
    "client.get_run('54fbd83b2bfc4880b21b608ac2314b29')."
   ]
  },
  {
   "cell_type": "code",
   "execution_count": null,
   "metadata": {},
   "outputs": [],
   "source": [
    "Best_Estimators: [('Random Forest', RandomForestClassifier(class_weight='balanced_subsample')), ('Ada_Boost', AdaBoostClassifier(algorithm='SAMME', n_estimators=105)), ('Bagging_Classifier', BaggingClassifier(n_estimators=79)), ('ExtraTreesClassifier', ExtraTreesClassifier(class_weight='balanced', max_features='log2',\n",
    "                     n_estimators=207)), ('XGB_Classifier', XGBClassifier(base_score=0.5, booster='dart', colsample_bylevel=1,      \n",
    "              colsample_bynode=1, colsample_bytree=1, gamma=0, gpu_id=-1,\n",
    "              importance_type='gain', interaction_constraints='',\n",
    "              learning_rate=0.19527551803044957, max_delta_step=0, max_depth=6,\n",
    "              min_child_weight=1, missing=nan, monotone_constraints=(),\n",
    "              n_estimators=413, n_jobs=0, num_parallel_tree=1, random_state=0,\n",
    "              reg_alpha=0, reg_lambda=1, scale_pos_weight=1, subsample=1,\n",
    "              tree_method='approx', validate_parameters=1, verbosity=None)), ('Light_GBM', LGBMClassifier(class_weight='balanced', learning_rate=0.4417276983128657,\n",
    "               n_estimators=101, n_jobs=-1))]"
   ]
  },
  {
   "cell_type": "code",
   "execution_count": null,
   "metadata": {},
   "outputs": [],
   "source": [
    "lgbm_ = LGBMClassifier(class_weight='balanced', learning_rate=0.4417276983128657,\n",
    "               n_estimators=101, n_jobs=-1)"
   ]
  },
  {
   "cell_type": "code",
   "execution_count": null,
   "metadata": {},
   "outputs": [],
   "source": [
    "'n_jobs' in lgbm_.get_params()"
   ]
  },
  {
   "cell_type": "code",
   "execution_count": null,
   "metadata": {},
   "outputs": [],
   "source": [
    "lgbm_.set_params(n_jobs = None)"
   ]
  },
  {
   "cell_type": "code",
   "execution_count": null,
   "metadata": {},
   "outputs": [],
   "source": [
    "lgbm_.get_params()"
   ]
  },
  {
   "cell_type": "code",
   "execution_count": null,
   "metadata": {},
   "outputs": [],
   "source": [
    "y_train.unique()"
   ]
  },
  {
   "cell_type": "code",
   "execution_count": null,
   "metadata": {},
   "outputs": [],
   "source": [
    "list(y_train.unique())"
   ]
  },
  {
   "cell_type": "code",
   "execution_count": null,
   "metadata": {},
   "outputs": [],
   "source": [
    "all(y_train.unique().isin([0, 1]))"
   ]
  },
  {
   "cell_type": "code",
   "execution_count": null,
   "metadata": {},
   "outputs": [],
   "source": [
    "pd.DataFrame(y_train)"
   ]
  },
  {
   "cell_type": "code",
   "execution_count": null,
   "metadata": {},
   "outputs": [],
   "source": [
    "all(train_df['class'].isin([1, 0]))"
   ]
  },
  {
   "cell_type": "code",
   "execution_count": null,
   "metadata": {},
   "outputs": [],
   "source": [
    "train_df.columns"
   ]
  },
  {
   "cell_type": "code",
   "execution_count": null,
   "metadata": {},
   "outputs": [],
   "source": [
    "(train_df != 'na').any().any()"
   ]
  },
  {
   "cell_type": "code",
   "execution_count": null,
   "metadata": {},
   "outputs": [],
   "source": [
    "schema = load_yaml(SCHEMA_PATH)"
   ]
  },
  {
   "cell_type": "code",
   "execution_count": null,
   "metadata": {},
   "outputs": [],
   "source": [
    "list(train_df.drop(columns = 'class').columns) == list(schema.Features.keys())"
   ]
  },
  {
   "cell_type": "code",
   "execution_count": null,
   "metadata": {},
   "outputs": [],
   "source": [
    "train_df[list(schema.Features.keys())].dtypes.unique()"
   ]
  },
  {
   "cell_type": "code",
   "execution_count": null,
   "metadata": {},
   "outputs": [],
   "source": [
    "train_df.isna().any().any()"
   ]
  },
  {
   "cell_type": "code",
   "execution_count": null,
   "metadata": {},
   "outputs": [],
   "source": [
    "train_df['class'].value_counts()"
   ]
  },
  {
   "cell_type": "code",
   "execution_count": null,
   "metadata": {},
   "outputs": [],
   "source": [
    "train_df['class'].value_counts()[0] == train_df['class'].value_counts()[1]"
   ]
  },
  {
   "cell_type": "code",
   "execution_count": null,
   "metadata": {},
   "outputs": [],
   "source": [
    "from sklearn.datasets import make_classification"
   ]
  },
  {
   "cell_type": "code",
   "execution_count": null,
   "metadata": {},
   "outputs": [],
   "source": [
    "pprint(list(train_df.columns),compact = True)"
   ]
  },
  {
   "cell_type": "code",
   "execution_count": null,
   "metadata": {},
   "outputs": [],
   "source": [
    "x, y = make_classification(n_features = 171, n_samples=500)"
   ]
  },
  {
   "cell_type": "code",
   "execution_count": null,
   "metadata": {},
   "outputs": [],
   "source": [
    "x.shape"
   ]
  },
  {
   "cell_type": "code",
   "execution_count": null,
   "metadata": {},
   "outputs": [],
   "source": [
    "cols = ['ident_id','aa_000', 'ab_000', 'ac_000', 'ad_000', 'ae_000', 'af_000', 'ag_000', 'ag_001',\n",
    " 'ag_002', 'ag_003', 'ag_004', 'ag_005', 'ag_006', 'ag_007', 'ag_008', 'ag_009',\n",
    " 'ah_000', 'ai_000', 'aj_000', 'ak_000', 'al_000', 'am_0', 'an_000', 'ao_000',\n",
    " 'ap_000', 'aq_000', 'ar_000', 'as_000', 'at_000', 'au_000', 'av_000', 'ax_000',\n",
    " 'ay_000', 'ay_001', 'ay_002', 'ay_003', 'ay_004', 'ay_005', 'ay_006', 'ay_007',\n",
    " 'ay_008', 'ay_009', 'az_000', 'az_001', 'az_002', 'az_003', 'az_004', 'az_005',\n",
    " 'az_006', 'az_007', 'az_008', 'az_009', 'ba_000', 'ba_001', 'ba_002', 'ba_003',\n",
    " 'ba_004', 'ba_005', 'ba_006', 'ba_007', 'ba_008', 'ba_009', 'bb_000', 'bc_000',\n",
    " 'bd_000', 'be_000', 'bf_000', 'bg_000', 'bh_000', 'bi_000', 'bj_000', 'bk_000',\n",
    " 'bl_000', 'bm_000', 'bn_000', 'bo_000', 'bp_000', 'bq_000', 'br_000', 'bs_000',\n",
    " 'bt_000', 'bu_000', 'bv_000', 'bx_000', 'by_000', 'bz_000', 'ca_000', 'cb_000',\n",
    " 'cc_000', 'cd_000', 'ce_000', 'cf_000', 'cg_000', 'ch_000', 'ci_000', 'cj_000',\n",
    " 'ck_000', 'cl_000', 'cm_000', 'cn_000', 'cn_001', 'cn_002', 'cn_003', 'cn_004',\n",
    " 'cn_005', 'cn_006', 'cn_007', 'cn_008', 'cn_009', 'co_000', 'cp_000', 'cq_000',\n",
    " 'cr_000', 'cs_000', 'cs_001', 'cs_002', 'cs_003', 'cs_004', 'cs_005', 'cs_006',\n",
    " 'cs_007', 'cs_008', 'cs_009', 'ct_000', 'cu_000', 'cv_000', 'cx_000', 'cy_000',\n",
    " 'cz_000', 'da_000', 'db_000', 'dc_000', 'dd_000', 'de_000', 'df_000', 'dg_000',\n",
    " 'dh_000', 'di_000', 'dj_000', 'dk_000', 'dl_000', 'dm_000', 'dn_000', 'do_000',\n",
    " 'dp_000', 'dq_000', 'dr_000', 'ds_000', 'dt_000', 'du_000', 'dv_000', 'dx_000',\n",
    " 'dy_000', 'dz_000', 'ea_000', 'eb_000', 'ec_00', 'ed_000', 'ee_000', 'ee_001',\n",
    " 'ee_002', 'ee_003', 'ee_004', 'ee_005', 'ee_006', 'ee_007', 'ee_008', 'ee_009',\n",
    " 'ef_000', 'eg_000']\n",
    "target = 'class'\n",
    "\n",
    "x, y = make_classification(n_features = 171, n_samples=500)\n",
    "sample_df = pd.DataFrame(x, columns = cols)\n",
    "sample_df[sample_df < -1] = 'na'\n",
    "sample_df['class'] = y\n",
    "sample_df['class'] = sample_df['class'].map({0:'neg',1:'pos'})"
   ]
  },
  {
   "cell_type": "code",
   "execution_count": null,
   "metadata": {},
   "outputs": [],
   "source": [
    "sample_df = pd.DataFrame(x, columns = cols)\n",
    "sample_df"
   ]
  },
  {
   "cell_type": "code",
   "execution_count": null,
   "metadata": {},
   "outputs": [],
   "source": [
    "sample_df[sample_df < -1]"
   ]
  },
  {
   "cell_type": "code",
   "execution_count": null,
   "metadata": {},
   "outputs": [],
   "source": [
    "sample_df[sample_df < -1] = 'na'"
   ]
  },
  {
   "cell_type": "code",
   "execution_count": null,
   "metadata": {},
   "outputs": [],
   "source": [
    "sample_df['class'] = y"
   ]
  },
  {
   "cell_type": "code",
   "execution_count": null,
   "metadata": {},
   "outputs": [],
   "source": [
    "sample_df['class'] = sample_df['class'].map({0:'neg',1:'pos'})"
   ]
  },
  {
   "cell_type": "code",
   "execution_count": null,
   "metadata": {},
   "outputs": [],
   "source": [
    "sample_df"
   ]
  },
  {
   "cell_type": "code",
   "execution_count": 17,
   "metadata": {},
   "outputs": [
    {
     "ename": "NameError",
     "evalue": "name 'pprint' is not defined",
     "output_type": "error",
     "traceback": [
      "\u001b[1;31m---------------------------------------------------------------------------\u001b[0m",
      "\u001b[1;31mNameError\u001b[0m                                 Traceback (most recent call last)",
      "Cell \u001b[1;32mIn[17], line 2\u001b[0m\n\u001b[0;32m      1\u001b[0m raw_data \u001b[38;5;241m=\u001b[39m pd\u001b[38;5;241m.\u001b[39mread_csv(\u001b[38;5;124mr\u001b[39m\u001b[38;5;124m'\u001b[39m\u001b[38;5;124mF:\u001b[39m\u001b[38;5;124m\\\u001b[39m\u001b[38;5;124miNeuron\u001b[39m\u001b[38;5;124m\\\u001b[39m\u001b[38;5;124mProjects\u001b[39m\u001b[38;5;124m\\\u001b[39m\u001b[38;5;124mscania_failures_2\u001b[39m\u001b[38;5;124m\\\u001b[39m\u001b[38;5;124martifacts\u001b[39m\u001b[38;5;124m\\\u001b[39m\u001b[38;5;124mdata\u001b[39m\u001b[38;5;124m\\\u001b[39m\u001b[38;5;124mraw\u001b[39m\u001b[38;5;124m\\\u001b[39m\u001b[38;5;124mtest_data_3.csv\u001b[39m\u001b[38;5;124m'\u001b[39m)\n\u001b[1;32m----> 2\u001b[0m \u001b[43mpprint\u001b[49m(\u001b[38;5;28mlist\u001b[39m(raw_data\u001b[38;5;241m.\u001b[39mcolumns),compact \u001b[38;5;241m=\u001b[39m \u001b[38;5;28;01mTrue\u001b[39;00m)\n",
      "\u001b[1;31mNameError\u001b[0m: name 'pprint' is not defined"
     ]
    }
   ],
   "source": []
  },
  {
   "cell_type": "code",
   "execution_count": null,
   "metadata": {},
   "outputs": [],
   "source": [
    "for i in range(3):\n",
    "    print (i)"
   ]
  },
  {
   "cell_type": "code",
   "execution_count": 7,
   "metadata": {},
   "outputs": [],
   "source": [
    "from src.utils import make_synthetic_data_for_unit_testing, stage_1_processing_function\n",
    "from sklearn.datasets import make_classification\n",
    "import pandas as pd\n",
    "# sample_df = make_synthetic_data_for_unit_testing()"
   ]
  },
  {
   "cell_type": "code",
   "execution_count": 3,
   "metadata": {},
   "outputs": [
    {
     "ename": "NameError",
     "evalue": "name 'sample_df' is not defined",
     "output_type": "error",
     "traceback": [
      "\u001b[1;31m---------------------------------------------------------------------------\u001b[0m",
      "\u001b[1;31mNameError\u001b[0m                                 Traceback (most recent call last)",
      "Cell \u001b[1;32mIn[3], line 1\u001b[0m\n\u001b[1;32m----> 1\u001b[0m \u001b[43msample_df\u001b[49m\n",
      "\u001b[1;31mNameError\u001b[0m: name 'sample_df' is not defined"
     ]
    }
   ],
   "source": [
    "sample_df"
   ]
  },
  {
   "cell_type": "code",
   "execution_count": 77,
   "metadata": {},
   "outputs": [
    {
     "name": "stdout",
     "output_type": "stream",
     "text": [
      "(500, 75)\n",
      "['ident_id', 'aa_000', 'ab_000', 'ac_000', 'ad_000', 'ae_000', 'af_000', 'ag_000', 'ag_001', 'ag_002', 'ag_003', 'ag_004', 'ag_005', 'ag_006', 'ag_007', 'ag_008', 'ag_009', 'ah_000', 'ai_000', 'aj_000', 'ak_000', 'al_000', 'am_0', 'an_000', 'ao_000', 'ap_000', 'aq_000', 'ar_000', 'as_000', 'at_000', 'au_000', 'av_000', 'ax_000', 'ay_000', 'ay_001', 'ay_002', 'ay_003', 'ay_004', 'ay_005', 'ay_006', 'ay_007', 'ay_008', 'ay_009', 'az_000', 'az_001', 'az_002', 'az_003', 'az_004', 'az_005', 'az_006', 'az_007', 'az_008', 'az_009', 'ba_000', 'ba_001', 'ba_002', 'ba_003', 'ba_004', 'ba_005', 'ba_006', 'ba_007', 'ba_008', 'ba_009', 'bb_000', 'bc_000', 'bd_000', 'be_000', 'bf_000', 'bg_000', 'bh_000', 'bi_000', 'bj_000', 'bk_000', 'bl_000', 'field_74_']\n",
      "(500, 75)\n",
      "['ident_id', 'bm_000', 'bn_000', 'bo_000', 'bp_000', 'bq_000', 'br_000', 'bs_000', 'bt_000', 'bu_000', 'bv_000', 'bx_000', 'by_000', 'bz_000', 'ca_000', 'cb_000', 'cc_000', 'cd_000', 'ce_000', 'cf_000', 'cg_000', 'ch_000', 'ci_000', 'cj_000', 'ck_000', 'cl_000', 'cm_000', 'cn_000', 'cn_001', 'cn_002', 'cn_003', 'cn_004', 'cn_005', 'cn_006', 'cn_007', 'cn_008', 'cn_009', 'co_000', 'cp_000', 'cq_000', 'cr_000', 'cs_000', 'cs_001', 'cs_002', 'cs_003', 'cs_004', 'cs_005', 'cs_006', 'cs_007', 'cs_008', 'cs_009', 'ct_000', 'cu_000', 'cv_000', 'cx_000', 'cy_000', 'cz_000', 'da_000', 'db_000', 'dc_000', 'dd_000', 'de_000', 'df_000', 'dg_000', 'dh_000', 'di_000', 'dj_000', 'dk_000', 'dl_000', 'dm_000', 'dn_000', 'do_000', 'dp_000', 'dq_000', 'dr_000']\n",
      "(500, 24)\n",
      "['ident_id', 'ds_000', 'dt_000', 'du_000', 'dv_000', 'dx_000', 'dy_000', 'dz_000', 'ea_000', 'eb_000', 'ec_00', 'ed_000', 'ee_000', 'ee_001', 'ee_002', 'ee_003', 'ee_004', 'ee_005', 'ee_006', 'ee_007', 'ee_008', 'ee_009', 'ef_000', 'eg_000']\n"
     ]
    }
   ],
   "source": [
    "schema_1 = ['ident_id', 'aa_000', 'ab_000', 'ac_000', 'ad_000', 'ae_000', 'af_000',\n",
    "            'ag_000', 'ag_001', 'ag_002', 'ag_003', 'ag_004', 'ag_005', 'ag_006', 'ag_007',\n",
    "            'ag_008', 'ag_009', 'ah_000', 'ai_000', 'aj_000', 'ak_000', 'al_000', 'am_0',\n",
    "            'an_000', 'ao_000', 'ap_000', 'aq_000', 'ar_000', 'as_000', 'at_000', 'au_000',\n",
    "            'av_000', 'ax_000', 'ay_000', 'ay_001', 'ay_002', 'ay_003', 'ay_004', 'ay_005',\n",
    "            'ay_006', 'ay_007', 'ay_008', 'ay_009', 'az_000', 'az_001', 'az_002', 'az_003',\n",
    "            'az_004', 'az_005', 'az_006', 'az_007', 'az_008', 'az_009', 'ba_000', 'ba_001',\n",
    "            'ba_002', 'ba_003', 'ba_004', 'ba_005', 'ba_006', 'ba_007', 'ba_008', 'ba_009',\n",
    "            'bb_000', 'bc_000', 'bd_000', 'be_000', 'bf_000', 'bg_000', 'bh_000', 'bi_000',\n",
    "            'bj_000', 'bk_000', 'bl_000', 'field_74_']\n",
    "schema_2 = ['ident_id', 'bm_000', 'bn_000', 'bo_000', 'bp_000', 'bq_000', 'br_000',\n",
    "            'bs_000', 'bt_000', 'bu_000', 'bv_000', 'bx_000', 'by_000', 'bz_000', 'ca_000',\n",
    "            'cb_000', 'cc_000', 'cd_000', 'ce_000', 'cf_000', 'cg_000', 'ch_000', 'ci_000',\n",
    "            'cj_000', 'ck_000', 'cl_000', 'cm_000', 'cn_000', 'cn_001', 'cn_002', 'cn_003',\n",
    "            'cn_004', 'cn_005', 'cn_006', 'cn_007', 'cn_008', 'cn_009', 'co_000', 'cp_000',\n",
    "            'cq_000', 'cr_000', 'cs_000', 'cs_001', 'cs_002', 'cs_003', 'cs_004', 'cs_005',\n",
    "            'cs_006', 'cs_007', 'cs_008', 'cs_009', 'ct_000', 'cu_000', 'cv_000', 'cx_000',\n",
    "            'cy_000', 'cz_000', 'da_000', 'db_000', 'dc_000', 'dd_000', 'de_000', 'df_000',\n",
    "            'dg_000', 'dh_000', 'di_000', 'dj_000', 'dk_000', 'dl_000', 'dm_000', 'dn_000',\n",
    "            'do_000', 'dp_000', 'dq_000', 'dr_000']\n",
    "schema_3= ['ident_id', 'ds_000', 'dt_000', 'du_000', 'dv_000', 'dx_000', 'dy_000',\n",
    "            'dz_000', 'ea_000', 'eb_000', 'ec_00', 'ed_000', 'ee_000', 'ee_001', 'ee_002',\n",
    "            'ee_003', 'ee_004', 'ee_005', 'ee_006', 'ee_007', 'ee_008', 'ee_009', 'ef_000',\n",
    "            'eg_000']\n",
    "sample_df = []\n",
    "for i in range(3):\n",
    "    x, y = make_classification(n_features = len(eval(f\"schema_{i+1}\")), n_samples=500, random_state =42)\n",
    "    print(x.shape)\n",
    "    print(eval(f\"schema_{i+1}\"))\n",
    "    df = pd.DataFrame(x, columns = eval(f\"schema_{i+1}\"))\n",
    "    df['ident_id'] = list(range(1,501))\n",
    "    if i == 0:\n",
    "        df[df.drop(columns = ['ident_id','field_74_']) < -1] = 'na'\n",
    "        df['field_74_'] = y\n",
    "        df['field_74_'] = df['field_74_'].map({0:'neg',1:'pos'})\n",
    "    else:\n",
    "        df[df.drop(columns = ['ident_id']) < -1] = 'na'\n",
    "    # df = stage_1_processing_function(df)\n",
    "    sample_df.append(df)"
   ]
  },
  {
   "cell_type": "code",
   "execution_count": 75,
   "metadata": {},
   "outputs": [],
   "source": [
    "sample_df[2]['ident_id'] = list(range(1,501))"
   ]
  },
  {
   "cell_type": "code",
   "execution_count": 80,
   "metadata": {},
   "outputs": [
    {
     "data": {
      "text/html": [
       "<div>\n",
       "<style scoped>\n",
       "    .dataframe tbody tr th:only-of-type {\n",
       "        vertical-align: middle;\n",
       "    }\n",
       "\n",
       "    .dataframe tbody tr th {\n",
       "        vertical-align: top;\n",
       "    }\n",
       "\n",
       "    .dataframe thead th {\n",
       "        text-align: right;\n",
       "    }\n",
       "</style>\n",
       "<table border=\"1\" class=\"dataframe\">\n",
       "  <thead>\n",
       "    <tr style=\"text-align: right;\">\n",
       "      <th></th>\n",
       "      <th>ident_id</th>\n",
       "      <th>aa_000</th>\n",
       "      <th>ab_000</th>\n",
       "      <th>ac_000</th>\n",
       "      <th>ad_000</th>\n",
       "      <th>ae_000</th>\n",
       "      <th>af_000</th>\n",
       "      <th>ag_000</th>\n",
       "      <th>ag_001</th>\n",
       "      <th>ag_002</th>\n",
       "      <th>...</th>\n",
       "      <th>bd_000</th>\n",
       "      <th>be_000</th>\n",
       "      <th>bf_000</th>\n",
       "      <th>bg_000</th>\n",
       "      <th>bh_000</th>\n",
       "      <th>bi_000</th>\n",
       "      <th>bj_000</th>\n",
       "      <th>bk_000</th>\n",
       "      <th>bl_000</th>\n",
       "      <th>field_74_</th>\n",
       "    </tr>\n",
       "  </thead>\n",
       "  <tbody>\n",
       "    <tr>\n",
       "      <th>0</th>\n",
       "      <td>1</td>\n",
       "      <td>0.335494</td>\n",
       "      <td>-0.120715</td>\n",
       "      <td>-0.408265</td>\n",
       "      <td>0.671711</td>\n",
       "      <td>na</td>\n",
       "      <td>0.446959</td>\n",
       "      <td>0.77038</td>\n",
       "      <td>0.025395</td>\n",
       "      <td>0.805801</td>\n",
       "      <td>...</td>\n",
       "      <td>0.470888</td>\n",
       "      <td>na</td>\n",
       "      <td>na</td>\n",
       "      <td>0.059704</td>\n",
       "      <td>0.042301</td>\n",
       "      <td>0.8132</td>\n",
       "      <td>-0.865739</td>\n",
       "      <td>na</td>\n",
       "      <td>0.207264</td>\n",
       "      <td>pos</td>\n",
       "    </tr>\n",
       "    <tr>\n",
       "      <th>1</th>\n",
       "      <td>2</td>\n",
       "      <td>1.507708</td>\n",
       "      <td>na</td>\n",
       "      <td>1.197423</td>\n",
       "      <td>0.790642</td>\n",
       "      <td>na</td>\n",
       "      <td>1.232728</td>\n",
       "      <td>0.959508</td>\n",
       "      <td>0.893077</td>\n",
       "      <td>1.685744</td>\n",
       "      <td>...</td>\n",
       "      <td>-0.767347</td>\n",
       "      <td>0.125924</td>\n",
       "      <td>1.299631</td>\n",
       "      <td>na</td>\n",
       "      <td>-0.534854</td>\n",
       "      <td>-0.076186</td>\n",
       "      <td>-0.083332</td>\n",
       "      <td>-0.281194</td>\n",
       "      <td>0.794641</td>\n",
       "      <td>pos</td>\n",
       "    </tr>\n",
       "    <tr>\n",
       "      <th>2</th>\n",
       "      <td>3</td>\n",
       "      <td>-0.782599</td>\n",
       "      <td>0.049953</td>\n",
       "      <td>-0.641114</td>\n",
       "      <td>-0.104968</td>\n",
       "      <td>1.447796</td>\n",
       "      <td>na</td>\n",
       "      <td>1.255146</td>\n",
       "      <td>1.359189</td>\n",
       "      <td>-0.564196</td>\n",
       "      <td>...</td>\n",
       "      <td>0.082987</td>\n",
       "      <td>0.007363</td>\n",
       "      <td>na</td>\n",
       "      <td>0.760506</td>\n",
       "      <td>-0.341822</td>\n",
       "      <td>0.523961</td>\n",
       "      <td>0.047825</td>\n",
       "      <td>2.497415</td>\n",
       "      <td>-0.498634</td>\n",
       "      <td>neg</td>\n",
       "    </tr>\n",
       "    <tr>\n",
       "      <th>3</th>\n",
       "      <td>4</td>\n",
       "      <td>-0.709034</td>\n",
       "      <td>0.532367</td>\n",
       "      <td>na</td>\n",
       "      <td>-0.051054</td>\n",
       "      <td>0.830505</td>\n",
       "      <td>0.676188</td>\n",
       "      <td>-0.168007</td>\n",
       "      <td>0.437872</td>\n",
       "      <td>0.44048</td>\n",
       "      <td>...</td>\n",
       "      <td>-0.690075</td>\n",
       "      <td>-0.356212</td>\n",
       "      <td>na</td>\n",
       "      <td>1.342035</td>\n",
       "      <td>1.080356</td>\n",
       "      <td>-0.308314</td>\n",
       "      <td>0.907726</td>\n",
       "      <td>1.675976</td>\n",
       "      <td>0.109582</td>\n",
       "      <td>neg</td>\n",
       "    </tr>\n",
       "    <tr>\n",
       "      <th>4</th>\n",
       "      <td>5</td>\n",
       "      <td>-0.848067</td>\n",
       "      <td>0.012954</td>\n",
       "      <td>0.995784</td>\n",
       "      <td>-0.107127</td>\n",
       "      <td>0.063194</td>\n",
       "      <td>1.122771</td>\n",
       "      <td>0.661185</td>\n",
       "      <td>0.466322</td>\n",
       "      <td>na</td>\n",
       "      <td>...</td>\n",
       "      <td>-0.544401</td>\n",
       "      <td>na</td>\n",
       "      <td>-0.945468</td>\n",
       "      <td>1.422259</td>\n",
       "      <td>0.49295</td>\n",
       "      <td>0.707106</td>\n",
       "      <td>1.308989</td>\n",
       "      <td>0.257862</td>\n",
       "      <td>-0.935435</td>\n",
       "      <td>pos</td>\n",
       "    </tr>\n",
       "    <tr>\n",
       "      <th>...</th>\n",
       "      <td>...</td>\n",
       "      <td>...</td>\n",
       "      <td>...</td>\n",
       "      <td>...</td>\n",
       "      <td>...</td>\n",
       "      <td>...</td>\n",
       "      <td>...</td>\n",
       "      <td>...</td>\n",
       "      <td>...</td>\n",
       "      <td>...</td>\n",
       "      <td>...</td>\n",
       "      <td>...</td>\n",
       "      <td>...</td>\n",
       "      <td>...</td>\n",
       "      <td>...</td>\n",
       "      <td>...</td>\n",
       "      <td>...</td>\n",
       "      <td>...</td>\n",
       "      <td>...</td>\n",
       "      <td>...</td>\n",
       "      <td>...</td>\n",
       "    </tr>\n",
       "    <tr>\n",
       "      <th>495</th>\n",
       "      <td>496</td>\n",
       "      <td>na</td>\n",
       "      <td>2.236831</td>\n",
       "      <td>na</td>\n",
       "      <td>-0.987658</td>\n",
       "      <td>0.750832</td>\n",
       "      <td>1.716076</td>\n",
       "      <td>-0.099121</td>\n",
       "      <td>na</td>\n",
       "      <td>0.254819</td>\n",
       "      <td>...</td>\n",
       "      <td>0.487867</td>\n",
       "      <td>na</td>\n",
       "      <td>0.357854</td>\n",
       "      <td>0.982115</td>\n",
       "      <td>0.755028</td>\n",
       "      <td>0.50641</td>\n",
       "      <td>na</td>\n",
       "      <td>-0.266104</td>\n",
       "      <td>na</td>\n",
       "      <td>neg</td>\n",
       "    </tr>\n",
       "    <tr>\n",
       "      <th>496</th>\n",
       "      <td>497</td>\n",
       "      <td>3.186575</td>\n",
       "      <td>na</td>\n",
       "      <td>1.44011</td>\n",
       "      <td>na</td>\n",
       "      <td>0.75047</td>\n",
       "      <td>0.265288</td>\n",
       "      <td>na</td>\n",
       "      <td>0.081125</td>\n",
       "      <td>0.279822</td>\n",
       "      <td>...</td>\n",
       "      <td>0.203276</td>\n",
       "      <td>na</td>\n",
       "      <td>0.401539</td>\n",
       "      <td>-0.849417</td>\n",
       "      <td>0.759442</td>\n",
       "      <td>1.350994</td>\n",
       "      <td>-0.080083</td>\n",
       "      <td>2.110343</td>\n",
       "      <td>-0.596987</td>\n",
       "      <td>pos</td>\n",
       "    </tr>\n",
       "    <tr>\n",
       "      <th>497</th>\n",
       "      <td>498</td>\n",
       "      <td>1.458819</td>\n",
       "      <td>0.592041</td>\n",
       "      <td>-0.505621</td>\n",
       "      <td>-0.690337</td>\n",
       "      <td>0.4517</td>\n",
       "      <td>1.874424</td>\n",
       "      <td>0.125391</td>\n",
       "      <td>-0.749667</td>\n",
       "      <td>2.664614</td>\n",
       "      <td>...</td>\n",
       "      <td>0.758066</td>\n",
       "      <td>-0.574793</td>\n",
       "      <td>-0.113171</td>\n",
       "      <td>-0.334053</td>\n",
       "      <td>-0.065529</td>\n",
       "      <td>1.374798</td>\n",
       "      <td>-0.287359</td>\n",
       "      <td>1.363546</td>\n",
       "      <td>1.546109</td>\n",
       "      <td>pos</td>\n",
       "    </tr>\n",
       "    <tr>\n",
       "      <th>498</th>\n",
       "      <td>499</td>\n",
       "      <td>na</td>\n",
       "      <td>na</td>\n",
       "      <td>0.995527</td>\n",
       "      <td>na</td>\n",
       "      <td>1.003366</td>\n",
       "      <td>na</td>\n",
       "      <td>0.860333</td>\n",
       "      <td>-0.44965</td>\n",
       "      <td>-0.076278</td>\n",
       "      <td>...</td>\n",
       "      <td>na</td>\n",
       "      <td>0.906834</td>\n",
       "      <td>-0.121075</td>\n",
       "      <td>0.763903</td>\n",
       "      <td>-0.383095</td>\n",
       "      <td>-0.144</td>\n",
       "      <td>-0.269494</td>\n",
       "      <td>0.486842</td>\n",
       "      <td>-0.127159</td>\n",
       "      <td>pos</td>\n",
       "    </tr>\n",
       "    <tr>\n",
       "      <th>499</th>\n",
       "      <td>500</td>\n",
       "      <td>0.822859</td>\n",
       "      <td>0.027906</td>\n",
       "      <td>-0.4085</td>\n",
       "      <td>0.302744</td>\n",
       "      <td>1.008991</td>\n",
       "      <td>0.651842</td>\n",
       "      <td>0.462913</td>\n",
       "      <td>0.204</td>\n",
       "      <td>-0.022385</td>\n",
       "      <td>...</td>\n",
       "      <td>1.240939</td>\n",
       "      <td>-0.591646</td>\n",
       "      <td>-0.547218</td>\n",
       "      <td>0.67715</td>\n",
       "      <td>-0.717283</td>\n",
       "      <td>0.793935</td>\n",
       "      <td>-0.886039</td>\n",
       "      <td>1.590835</td>\n",
       "      <td>0.610134</td>\n",
       "      <td>pos</td>\n",
       "    </tr>\n",
       "  </tbody>\n",
       "</table>\n",
       "<p>500 rows × 75 columns</p>\n",
       "</div>"
      ],
      "text/plain": [
       "     ident_id    aa_000    ab_000    ac_000    ad_000    ae_000    af_000  \\\n",
       "0           1  0.335494 -0.120715 -0.408265  0.671711        na  0.446959   \n",
       "1           2  1.507708        na  1.197423  0.790642        na  1.232728   \n",
       "2           3 -0.782599  0.049953 -0.641114 -0.104968  1.447796        na   \n",
       "3           4 -0.709034  0.532367        na -0.051054  0.830505  0.676188   \n",
       "4           5 -0.848067  0.012954  0.995784 -0.107127  0.063194  1.122771   \n",
       "..        ...       ...       ...       ...       ...       ...       ...   \n",
       "495       496        na  2.236831        na -0.987658  0.750832  1.716076   \n",
       "496       497  3.186575        na   1.44011        na   0.75047  0.265288   \n",
       "497       498  1.458819  0.592041 -0.505621 -0.690337    0.4517  1.874424   \n",
       "498       499        na        na  0.995527        na  1.003366        na   \n",
       "499       500  0.822859  0.027906   -0.4085  0.302744  1.008991  0.651842   \n",
       "\n",
       "       ag_000    ag_001    ag_002  ...    bd_000    be_000    bf_000  \\\n",
       "0     0.77038  0.025395  0.805801  ...  0.470888        na        na   \n",
       "1    0.959508  0.893077  1.685744  ... -0.767347  0.125924  1.299631   \n",
       "2    1.255146  1.359189 -0.564196  ...  0.082987  0.007363        na   \n",
       "3   -0.168007  0.437872   0.44048  ... -0.690075 -0.356212        na   \n",
       "4    0.661185  0.466322        na  ... -0.544401        na -0.945468   \n",
       "..        ...       ...       ...  ...       ...       ...       ...   \n",
       "495 -0.099121        na  0.254819  ...  0.487867        na  0.357854   \n",
       "496        na  0.081125  0.279822  ...  0.203276        na  0.401539   \n",
       "497  0.125391 -0.749667  2.664614  ...  0.758066 -0.574793 -0.113171   \n",
       "498  0.860333  -0.44965 -0.076278  ...        na  0.906834 -0.121075   \n",
       "499  0.462913     0.204 -0.022385  ...  1.240939 -0.591646 -0.547218   \n",
       "\n",
       "       bg_000    bh_000    bi_000    bj_000    bk_000    bl_000 field_74_  \n",
       "0    0.059704  0.042301    0.8132 -0.865739        na  0.207264       pos  \n",
       "1          na -0.534854 -0.076186 -0.083332 -0.281194  0.794641       pos  \n",
       "2    0.760506 -0.341822  0.523961  0.047825  2.497415 -0.498634       neg  \n",
       "3    1.342035  1.080356 -0.308314  0.907726  1.675976  0.109582       neg  \n",
       "4    1.422259   0.49295  0.707106  1.308989  0.257862 -0.935435       pos  \n",
       "..        ...       ...       ...       ...       ...       ...       ...  \n",
       "495  0.982115  0.755028   0.50641        na -0.266104        na       neg  \n",
       "496 -0.849417  0.759442  1.350994 -0.080083  2.110343 -0.596987       pos  \n",
       "497 -0.334053 -0.065529  1.374798 -0.287359  1.363546  1.546109       pos  \n",
       "498  0.763903 -0.383095    -0.144 -0.269494  0.486842 -0.127159       pos  \n",
       "499   0.67715 -0.717283  0.793935 -0.886039  1.590835  0.610134       pos  \n",
       "\n",
       "[500 rows x 75 columns]"
      ]
     },
     "execution_count": 80,
     "metadata": {},
     "output_type": "execute_result"
    }
   ],
   "source": [
    "sample_df[0]"
   ]
  },
  {
   "cell_type": "code",
   "execution_count": null,
   "metadata": {},
   "outputs": [],
   "source": []
  },
  {
   "cell_type": "code",
   "execution_count": null,
   "metadata": {},
   "outputs": [],
   "source": []
  },
  {
   "cell_type": "code",
   "execution_count": 81,
   "metadata": {},
   "outputs": [
    {
     "name": "stdout",
     "output_type": "stream",
     "text": [
      "[2024-02-03 17:36:46,687: INFO: utils: Stage 1 Processing Commencing]\n",
      "[2024-02-03 17:36:46,702: INFO: utils: Data Merging commencing]\n",
      "[2024-02-03 17:36:46,708: INFO: utils: Data Merging complete]\n",
      "[2024-02-03 17:36:46,720: INFO: utils: Sorting and reseting_index complete]\n",
      "[2024-02-03 17:36:46,724: INFO: utils: Dropping column: 'ident_id']\n",
      "[2024-02-03 17:36:46,726: INFO: utils: Renaming Target Column]\n",
      "[2024-02-03 17:36:46,730: INFO: utils: Mapping Target Column values]\n",
      "[2024-02-03 17:36:46,749: INFO: utils: Replacing 'na' to 'np.nan' values]\n",
      "[2024-02-03 17:36:46,750: INFO: utils: Creating list of column names of input features]\n",
      "[2024-02-03 17:36:46,784: INFO: utils: dtype of input features converted from 'object' to 'float']\n",
      "[2024-02-03 17:36:46,785: INFO: utils: Stage 1 processing complete - Returning processed dataframe]\n"
     ]
    }
   ],
   "source": [
    "sample_dataframe = stage_1_processing_function(sample_df)"
   ]
  },
  {
   "cell_type": "code",
   "execution_count": 86,
   "metadata": {},
   "outputs": [
    {
     "data": {
      "text/plain": [
       "'mlflow-artifacts:/e4170a475e154897a8384bec97c3297e/5b0e9be884e641af824981ef888952cd/artifacts/challenger_LGBMClassifier'"
      ]
     },
     "execution_count": 86,
     "metadata": {},
     "output_type": "execute_result"
    }
   ],
   "source": [
    "mlflow.search_registered_models(filter_string = f\"tags.model_type ilike 'champion'\")[0].latest_versions[0].source"
   ]
  },
  {
   "cell_type": "code",
   "execution_count": 89,
   "metadata": {},
   "outputs": [
    {
     "data": {
      "text/plain": [
       "'LGBMClassifier'"
      ]
     },
     "execution_count": 89,
     "metadata": {},
     "output_type": "execute_result"
    }
   ],
   "source": [
    "source_model_name = mlflow.search_registered_models(filter_string = f\"tags.model_type ilike 'champion'\")[0].latest_versions[0].name\n",
    "source_model_name = re.sub(r\"Champion \",\"\",source_model_name)\n",
    "source_model_name"
   ]
  },
  {
   "cell_type": "code",
   "execution_count": 33,
   "metadata": {},
   "outputs": [
    {
     "name": "stdout",
     "output_type": "stream",
     "text": [
      "['ident_id', 'ds_000', 'dt_000', 'du_000', 'dv_000', 'dx_000', 'dy_000',\n",
      " 'dz_000', 'ea_000', 'eb_000', 'ec_00', 'ed_000', 'ee_000', 'ee_001', 'ee_002',\n",
      " 'ee_003', 'ee_004', 'ee_005', 'ee_006', 'ee_007', 'ee_008', 'ee_009', 'ef_000',\n",
      " 'eg_000']\n"
     ]
    }
   ],
   "source": [
    "from pprint import pprint\n",
    "raw_data = pd.read_csv(r'F:\\iNeuron\\Projects\\scania_failures_2\\artifacts\\data\\raw\\test_data_3.csv')\n",
    "pprint(list(raw_data.columns),compact = True)"
   ]
  },
  {
   "cell_type": "code",
   "execution_count": 34,
   "metadata": {},
   "outputs": [
    {
     "data": {
      "text/plain": [
       "24"
      ]
     },
     "execution_count": 34,
     "metadata": {},
     "output_type": "execute_result"
    }
   ],
   "source": [
    "len(list(raw_data.columns))"
   ]
  },
  {
   "cell_type": "code",
   "execution_count": 35,
   "metadata": {},
   "outputs": [
    {
     "data": {
      "text/plain": [
       "25"
      ]
     },
     "execution_count": 35,
     "metadata": {},
     "output_type": "execute_result"
    }
   ],
   "source": [
    "len(list(sample_df[2].columns))"
   ]
  },
  {
   "cell_type": "code",
   "execution_count": 42,
   "metadata": {},
   "outputs": [
    {
     "data": {
      "text/html": [
       "<div>\n",
       "<style scoped>\n",
       "    .dataframe tbody tr th:only-of-type {\n",
       "        vertical-align: middle;\n",
       "    }\n",
       "\n",
       "    .dataframe tbody tr th {\n",
       "        vertical-align: top;\n",
       "    }\n",
       "\n",
       "    .dataframe thead th {\n",
       "        text-align: right;\n",
       "    }\n",
       "</style>\n",
       "<table border=\"1\" class=\"dataframe\">\n",
       "  <thead>\n",
       "    <tr style=\"text-align: right;\">\n",
       "      <th></th>\n",
       "      <th>ident_id</th>\n",
       "      <th>aa_000</th>\n",
       "      <th>ab_000</th>\n",
       "      <th>ac_000</th>\n",
       "      <th>ad_000</th>\n",
       "      <th>ae_000</th>\n",
       "      <th>af_000</th>\n",
       "      <th>ag_000</th>\n",
       "      <th>ag_001</th>\n",
       "      <th>ag_002</th>\n",
       "      <th>...</th>\n",
       "      <th>bd_000</th>\n",
       "      <th>be_000</th>\n",
       "      <th>bf_000</th>\n",
       "      <th>bg_000</th>\n",
       "      <th>bh_000</th>\n",
       "      <th>bi_000</th>\n",
       "      <th>bj_000</th>\n",
       "      <th>bk_000</th>\n",
       "      <th>bl_000</th>\n",
       "      <th>field_74_</th>\n",
       "    </tr>\n",
       "  </thead>\n",
       "  <tbody>\n",
       "    <tr>\n",
       "      <th>0</th>\n",
       "      <td>-0.064449</td>\n",
       "      <td>0.335494</td>\n",
       "      <td>-0.120715</td>\n",
       "      <td>-0.408265</td>\n",
       "      <td>0.671711</td>\n",
       "      <td>na</td>\n",
       "      <td>0.446959</td>\n",
       "      <td>0.77038</td>\n",
       "      <td>0.025395</td>\n",
       "      <td>0.805801</td>\n",
       "      <td>...</td>\n",
       "      <td>0.470888</td>\n",
       "      <td>na</td>\n",
       "      <td>na</td>\n",
       "      <td>0.059704</td>\n",
       "      <td>0.042301</td>\n",
       "      <td>0.8132</td>\n",
       "      <td>-0.865739</td>\n",
       "      <td>na</td>\n",
       "      <td>0.207264</td>\n",
       "      <td>pos</td>\n",
       "    </tr>\n",
       "    <tr>\n",
       "      <th>1</th>\n",
       "      <td>na</td>\n",
       "      <td>1.507708</td>\n",
       "      <td>na</td>\n",
       "      <td>1.197423</td>\n",
       "      <td>0.790642</td>\n",
       "      <td>na</td>\n",
       "      <td>1.232728</td>\n",
       "      <td>0.959508</td>\n",
       "      <td>0.893077</td>\n",
       "      <td>1.685744</td>\n",
       "      <td>...</td>\n",
       "      <td>-0.767347</td>\n",
       "      <td>0.125924</td>\n",
       "      <td>1.299631</td>\n",
       "      <td>na</td>\n",
       "      <td>-0.534854</td>\n",
       "      <td>-0.076186</td>\n",
       "      <td>-0.083332</td>\n",
       "      <td>-0.281194</td>\n",
       "      <td>0.794641</td>\n",
       "      <td>pos</td>\n",
       "    </tr>\n",
       "    <tr>\n",
       "      <th>2</th>\n",
       "      <td>0.786406</td>\n",
       "      <td>-0.782599</td>\n",
       "      <td>0.049953</td>\n",
       "      <td>-0.641114</td>\n",
       "      <td>-0.104968</td>\n",
       "      <td>1.447796</td>\n",
       "      <td>na</td>\n",
       "      <td>1.255146</td>\n",
       "      <td>1.359189</td>\n",
       "      <td>-0.564196</td>\n",
       "      <td>...</td>\n",
       "      <td>0.082987</td>\n",
       "      <td>0.007363</td>\n",
       "      <td>na</td>\n",
       "      <td>0.760506</td>\n",
       "      <td>-0.341822</td>\n",
       "      <td>0.523961</td>\n",
       "      <td>0.047825</td>\n",
       "      <td>2.497415</td>\n",
       "      <td>-0.498634</td>\n",
       "      <td>neg</td>\n",
       "    </tr>\n",
       "    <tr>\n",
       "      <th>3</th>\n",
       "      <td>0.384971</td>\n",
       "      <td>-0.709034</td>\n",
       "      <td>0.532367</td>\n",
       "      <td>na</td>\n",
       "      <td>-0.051054</td>\n",
       "      <td>0.830505</td>\n",
       "      <td>0.676188</td>\n",
       "      <td>-0.168007</td>\n",
       "      <td>0.437872</td>\n",
       "      <td>0.44048</td>\n",
       "      <td>...</td>\n",
       "      <td>-0.690075</td>\n",
       "      <td>-0.356212</td>\n",
       "      <td>na</td>\n",
       "      <td>1.342035</td>\n",
       "      <td>1.080356</td>\n",
       "      <td>-0.308314</td>\n",
       "      <td>0.907726</td>\n",
       "      <td>1.675976</td>\n",
       "      <td>0.109582</td>\n",
       "      <td>neg</td>\n",
       "    </tr>\n",
       "    <tr>\n",
       "      <th>4</th>\n",
       "      <td>na</td>\n",
       "      <td>-0.848067</td>\n",
       "      <td>0.012954</td>\n",
       "      <td>0.995784</td>\n",
       "      <td>-0.107127</td>\n",
       "      <td>0.063194</td>\n",
       "      <td>1.122771</td>\n",
       "      <td>0.661185</td>\n",
       "      <td>0.466322</td>\n",
       "      <td>na</td>\n",
       "      <td>...</td>\n",
       "      <td>-0.544401</td>\n",
       "      <td>na</td>\n",
       "      <td>-0.945468</td>\n",
       "      <td>1.422259</td>\n",
       "      <td>0.49295</td>\n",
       "      <td>0.707106</td>\n",
       "      <td>1.308989</td>\n",
       "      <td>0.257862</td>\n",
       "      <td>-0.935435</td>\n",
       "      <td>pos</td>\n",
       "    </tr>\n",
       "    <tr>\n",
       "      <th>...</th>\n",
       "      <td>...</td>\n",
       "      <td>...</td>\n",
       "      <td>...</td>\n",
       "      <td>...</td>\n",
       "      <td>...</td>\n",
       "      <td>...</td>\n",
       "      <td>...</td>\n",
       "      <td>...</td>\n",
       "      <td>...</td>\n",
       "      <td>...</td>\n",
       "      <td>...</td>\n",
       "      <td>...</td>\n",
       "      <td>...</td>\n",
       "      <td>...</td>\n",
       "      <td>...</td>\n",
       "      <td>...</td>\n",
       "      <td>...</td>\n",
       "      <td>...</td>\n",
       "      <td>...</td>\n",
       "      <td>...</td>\n",
       "      <td>...</td>\n",
       "    </tr>\n",
       "    <tr>\n",
       "      <th>495</th>\n",
       "      <td>-0.184726</td>\n",
       "      <td>na</td>\n",
       "      <td>2.236831</td>\n",
       "      <td>na</td>\n",
       "      <td>-0.987658</td>\n",
       "      <td>0.750832</td>\n",
       "      <td>1.716076</td>\n",
       "      <td>-0.099121</td>\n",
       "      <td>na</td>\n",
       "      <td>0.254819</td>\n",
       "      <td>...</td>\n",
       "      <td>0.487867</td>\n",
       "      <td>na</td>\n",
       "      <td>0.357854</td>\n",
       "      <td>0.982115</td>\n",
       "      <td>0.755028</td>\n",
       "      <td>0.50641</td>\n",
       "      <td>na</td>\n",
       "      <td>-0.266104</td>\n",
       "      <td>na</td>\n",
       "      <td>neg</td>\n",
       "    </tr>\n",
       "    <tr>\n",
       "      <th>496</th>\n",
       "      <td>0.822111</td>\n",
       "      <td>3.186575</td>\n",
       "      <td>na</td>\n",
       "      <td>1.44011</td>\n",
       "      <td>na</td>\n",
       "      <td>0.75047</td>\n",
       "      <td>0.265288</td>\n",
       "      <td>na</td>\n",
       "      <td>0.081125</td>\n",
       "      <td>0.279822</td>\n",
       "      <td>...</td>\n",
       "      <td>0.203276</td>\n",
       "      <td>na</td>\n",
       "      <td>0.401539</td>\n",
       "      <td>-0.849417</td>\n",
       "      <td>0.759442</td>\n",
       "      <td>1.350994</td>\n",
       "      <td>-0.080083</td>\n",
       "      <td>2.110343</td>\n",
       "      <td>-0.596987</td>\n",
       "      <td>pos</td>\n",
       "    </tr>\n",
       "    <tr>\n",
       "      <th>497</th>\n",
       "      <td>0.824087</td>\n",
       "      <td>1.458819</td>\n",
       "      <td>0.592041</td>\n",
       "      <td>-0.505621</td>\n",
       "      <td>-0.690337</td>\n",
       "      <td>0.4517</td>\n",
       "      <td>1.874424</td>\n",
       "      <td>0.125391</td>\n",
       "      <td>-0.749667</td>\n",
       "      <td>2.664614</td>\n",
       "      <td>...</td>\n",
       "      <td>0.758066</td>\n",
       "      <td>-0.574793</td>\n",
       "      <td>-0.113171</td>\n",
       "      <td>-0.334053</td>\n",
       "      <td>-0.065529</td>\n",
       "      <td>1.374798</td>\n",
       "      <td>-0.287359</td>\n",
       "      <td>1.363546</td>\n",
       "      <td>1.546109</td>\n",
       "      <td>pos</td>\n",
       "    </tr>\n",
       "    <tr>\n",
       "      <th>498</th>\n",
       "      <td>-0.361717</td>\n",
       "      <td>na</td>\n",
       "      <td>na</td>\n",
       "      <td>0.995527</td>\n",
       "      <td>na</td>\n",
       "      <td>1.003366</td>\n",
       "      <td>na</td>\n",
       "      <td>0.860333</td>\n",
       "      <td>-0.44965</td>\n",
       "      <td>-0.076278</td>\n",
       "      <td>...</td>\n",
       "      <td>na</td>\n",
       "      <td>0.906834</td>\n",
       "      <td>-0.121075</td>\n",
       "      <td>0.763903</td>\n",
       "      <td>-0.383095</td>\n",
       "      <td>-0.144</td>\n",
       "      <td>-0.269494</td>\n",
       "      <td>0.486842</td>\n",
       "      <td>-0.127159</td>\n",
       "      <td>pos</td>\n",
       "    </tr>\n",
       "    <tr>\n",
       "      <th>499</th>\n",
       "      <td>0.653008</td>\n",
       "      <td>0.822859</td>\n",
       "      <td>0.027906</td>\n",
       "      <td>-0.4085</td>\n",
       "      <td>0.302744</td>\n",
       "      <td>1.008991</td>\n",
       "      <td>0.651842</td>\n",
       "      <td>0.462913</td>\n",
       "      <td>0.204</td>\n",
       "      <td>-0.022385</td>\n",
       "      <td>...</td>\n",
       "      <td>1.240939</td>\n",
       "      <td>-0.591646</td>\n",
       "      <td>-0.547218</td>\n",
       "      <td>0.67715</td>\n",
       "      <td>-0.717283</td>\n",
       "      <td>0.793935</td>\n",
       "      <td>-0.886039</td>\n",
       "      <td>1.590835</td>\n",
       "      <td>0.610134</td>\n",
       "      <td>pos</td>\n",
       "    </tr>\n",
       "  </tbody>\n",
       "</table>\n",
       "<p>500 rows × 75 columns</p>\n",
       "</div>"
      ],
      "text/plain": [
       "     ident_id    aa_000    ab_000    ac_000    ad_000    ae_000    af_000  \\\n",
       "0   -0.064449  0.335494 -0.120715 -0.408265  0.671711        na  0.446959   \n",
       "1          na  1.507708        na  1.197423  0.790642        na  1.232728   \n",
       "2    0.786406 -0.782599  0.049953 -0.641114 -0.104968  1.447796        na   \n",
       "3    0.384971 -0.709034  0.532367        na -0.051054  0.830505  0.676188   \n",
       "4          na -0.848067  0.012954  0.995784 -0.107127  0.063194  1.122771   \n",
       "..        ...       ...       ...       ...       ...       ...       ...   \n",
       "495 -0.184726        na  2.236831        na -0.987658  0.750832  1.716076   \n",
       "496  0.822111  3.186575        na   1.44011        na   0.75047  0.265288   \n",
       "497  0.824087  1.458819  0.592041 -0.505621 -0.690337    0.4517  1.874424   \n",
       "498 -0.361717        na        na  0.995527        na  1.003366        na   \n",
       "499  0.653008  0.822859  0.027906   -0.4085  0.302744  1.008991  0.651842   \n",
       "\n",
       "       ag_000    ag_001    ag_002  ...    bd_000    be_000    bf_000  \\\n",
       "0     0.77038  0.025395  0.805801  ...  0.470888        na        na   \n",
       "1    0.959508  0.893077  1.685744  ... -0.767347  0.125924  1.299631   \n",
       "2    1.255146  1.359189 -0.564196  ...  0.082987  0.007363        na   \n",
       "3   -0.168007  0.437872   0.44048  ... -0.690075 -0.356212        na   \n",
       "4    0.661185  0.466322        na  ... -0.544401        na -0.945468   \n",
       "..        ...       ...       ...  ...       ...       ...       ...   \n",
       "495 -0.099121        na  0.254819  ...  0.487867        na  0.357854   \n",
       "496        na  0.081125  0.279822  ...  0.203276        na  0.401539   \n",
       "497  0.125391 -0.749667  2.664614  ...  0.758066 -0.574793 -0.113171   \n",
       "498  0.860333  -0.44965 -0.076278  ...        na  0.906834 -0.121075   \n",
       "499  0.462913     0.204 -0.022385  ...  1.240939 -0.591646 -0.547218   \n",
       "\n",
       "       bg_000    bh_000    bi_000    bj_000    bk_000    bl_000 field_74_  \n",
       "0    0.059704  0.042301    0.8132 -0.865739        na  0.207264       pos  \n",
       "1          na -0.534854 -0.076186 -0.083332 -0.281194  0.794641       pos  \n",
       "2    0.760506 -0.341822  0.523961  0.047825  2.497415 -0.498634       neg  \n",
       "3    1.342035  1.080356 -0.308314  0.907726  1.675976  0.109582       neg  \n",
       "4    1.422259   0.49295  0.707106  1.308989  0.257862 -0.935435       pos  \n",
       "..        ...       ...       ...       ...       ...       ...       ...  \n",
       "495  0.982115  0.755028   0.50641        na -0.266104        na       neg  \n",
       "496 -0.849417  0.759442  1.350994 -0.080083  2.110343 -0.596987       pos  \n",
       "497 -0.334053 -0.065529  1.374798 -0.287359  1.363546  1.546109       pos  \n",
       "498  0.763903 -0.383095    -0.144 -0.269494  0.486842 -0.127159       pos  \n",
       "499   0.67715 -0.717283  0.793935 -0.886039  1.590835  0.610134       pos  \n",
       "\n",
       "[500 rows x 75 columns]"
      ]
     },
     "execution_count": 42,
     "metadata": {},
     "output_type": "execute_result"
    }
   ],
   "source": [
    "sample_df[0]"
   ]
  },
  {
   "cell_type": "code",
   "execution_count": 59,
   "metadata": {},
   "outputs": [
    {
     "name": "stdout",
     "output_type": "stream",
     "text": [
      "(500, 75)\n",
      "['ident_id', 'aa_000', 'ab_000', 'ac_000', 'ad_000', 'ae_000', 'af_000', 'ag_000', 'ag_001', 'ag_002', 'ag_003', 'ag_004', 'ag_005', 'ag_006', 'ag_007', 'ag_008', 'ag_009', 'ah_000', 'ai_000', 'aj_000', 'ak_000', 'al_000', 'am_0', 'an_000', 'ao_000', 'ap_000', 'aq_000', 'ar_000', 'as_000', 'at_000', 'au_000', 'av_000', 'ax_000', 'ay_000', 'ay_001', 'ay_002', 'ay_003', 'ay_004', 'ay_005', 'ay_006', 'ay_007', 'ay_008', 'ay_009', 'az_000', 'az_001', 'az_002', 'az_003', 'az_004', 'az_005', 'az_006', 'az_007', 'az_008', 'az_009', 'ba_000', 'ba_001', 'ba_002', 'ba_003', 'ba_004', 'ba_005', 'ba_006', 'ba_007', 'ba_008', 'ba_009', 'bb_000', 'bc_000', 'bd_000', 'be_000', 'bf_000', 'bg_000', 'bh_000', 'bi_000', 'bj_000', 'bk_000', 'bl_000', 'field_74_']\n"
     ]
    }
   ],
   "source": [
    "x, y = make_classification(n_features = len(eval(f\"schema_1\")), n_samples=500, random_state =42)\n",
    "print(x.shape)\n",
    "print(eval(f\"schema_1\"))\n",
    "df = pd.DataFrame(x, columns = eval(f\"schema_1\"))\n",
    "df[df.drop(columns = 'ident_id') < -1] = 'na'\n",
    "df[df.drop(columns = ['ident_id','field_74_']) < -1] = 'na'"
   ]
  },
  {
   "cell_type": "code",
   "execution_count": 64,
   "metadata": {},
   "outputs": [],
   "source": [
    "df[df.drop(columns = ['ident_id','field_74_']) < -1] = 'na'"
   ]
  },
  {
   "cell_type": "code",
   "execution_count": 66,
   "metadata": {},
   "outputs": [
    {
     "data": {
      "text/plain": [
       "0     -0.494668\n",
       "1      0.021627\n",
       "2     -0.559546\n",
       "3     -1.007031\n",
       "4      1.039762\n",
       "         ...   \n",
       "495    0.538839\n",
       "496    0.140467\n",
       "497    0.303154\n",
       "498    0.178670\n",
       "499    2.484144\n",
       "Name: field_74_, Length: 500, dtype: float64"
      ]
     },
     "execution_count": 66,
     "metadata": {},
     "output_type": "execute_result"
    }
   ],
   "source": [
    "df['field_74_']"
   ]
  },
  {
   "cell_type": "code",
   "execution_count": 48,
   "metadata": {},
   "outputs": [
    {
     "data": {
      "text/plain": [
       "array([-0.67151221, -1.02325322,  2.07777759,  0.07225205,  0.18641617,\n",
       "        0.85397598,  1.46171702, -0.58316572,  0.09893379, -1.75995888,\n",
       "       -0.26344822,  0.79634002, -1.43960813,  0.65984961, -0.05941518,\n",
       "        1.13731454,  1.58952304, -0.20811686,  0.67004967,  1.31491445,\n",
       "       -1.80926771,  1.18771338, -0.46913085,  0.2873289 , -0.1714956 ,\n",
       "        0.15809488, -0.23701197, -0.43548637,  1.85409257,  0.19358991,\n",
       "        0.57985729, -0.77649914, -0.80228003,  0.39904414,  0.70149478,\n",
       "        0.77511512, -1.47450269,  0.83783054, -1.92767258, -0.4134487 ,\n",
       "       -0.24852862, -2.22042101, -0.40439742,  0.64438845,  1.62839662,\n",
       "        0.76996873, -0.30704834,  0.17958178,  0.07964958, -0.26523754,\n",
       "       -0.10400923,  1.13987856,  0.95580275,  1.03265752, -0.37061433,\n",
       "        1.3863494 , -0.24788012,  1.66514238, -0.87581482,  0.1235477 ,\n",
       "        1.75862048,  1.98567641,  0.60379052,  0.0156978 , -2.21681884,\n",
       "       -0.99693163, -1.1989514 , -0.30911646, -0.30561911,  1.43633541,\n",
       "        0.95246197,  0.458994  ,  2.0604227 , -0.72430253, -0.45018926,\n",
       "       -0.54978936, -0.33866905, -1.17857278,  0.01054571, -0.40306587,\n",
       "       -0.42389004, -0.2470257 , -0.36172384, -0.35824438, -0.0074808 ,\n",
       "       -0.04147178,  0.09715579,  1.13562059, -0.19102776, -0.82383687,\n",
       "        1.4780719 , -1.23925839, -0.88566818,  1.37733503,  0.68022036,\n",
       "        0.81788966,  0.31318447,  2.23149891, -1.2981039 ,  1.36414043,\n",
       "        0.50783576, -0.30157981,  0.40705229,  0.20139456, -0.89783007,\n",
       "       -0.2748453 ,  1.29587178, -0.16414941, -0.15390523,  0.39876376,\n",
       "        0.59809916, -1.46752527,  0.30904684, -1.10358932,  0.96392542,\n",
       "       -1.91115933,  0.29271548, -0.9648933 , -3.17670381,  1.05389155,\n",
       "       -0.94001593,  0.85320155, -0.35807945,  1.12884749,  0.59252695,\n",
       "        1.19117304, -1.7690759 , -0.03151851, -1.03980653, -0.35326414,\n",
       "       -1.7930764 , -0.81025244,  0.34648848,  0.39329514, -1.06753291,\n",
       "        1.45582232,  0.31149086,  0.00939535,  0.65540383, -0.6484692 ,\n",
       "       -0.29548032, -0.25800854,  0.44575985, -0.77256875,  0.81683701,\n",
       "       -0.40469586,  0.94278851, -1.60470501,  0.26028051, -0.18732902,\n",
       "       -0.20661128,  0.29908573, -1.12291468,  0.69291862,  0.43100969,\n",
       "       -0.25262487,  0.5445824 , -0.74490264,  0.40609402, -0.33655259,\n",
       "       -1.40007072,  0.61279074, -1.6065771 , -0.20346114,  0.6308756 ,\n",
       "        1.21067455,  0.68631846, -0.29987747,  0.23071175, -0.31735049,\n",
       "       -0.22747626,  0.07227897, -0.83952756, -0.55713057, -2.21834776,\n",
       "       -0.28568655,  1.12149921, -1.83370577,  0.34005129, -1.23570302,\n",
       "        0.12249093,  0.48630999, -1.06623493,  0.36397063,  0.66587782,\n",
       "       -1.1941894 , -1.29604869,  0.66205183, -0.55111624,  0.40865281,\n",
       "       -0.2711236 , -1.21265713,  1.70536236,  0.05674168, -0.03287449,\n",
       "        1.0506544 , -0.15525905,  0.80485594, -1.80386279, -1.17165435,\n",
       "       -1.90494445,  0.38316819,  1.40200933, -0.7282722 , -0.65689428,\n",
       "       -1.42890461,  0.38203371, -0.14663177,  0.77080222,  0.32169781,\n",
       "       -1.82840588,  0.26032184, -1.17910821,  0.92427014,  1.18964265,\n",
       "       -0.64787229,  0.50014303, -0.65367914, -1.47919602,  0.39814727,\n",
       "       -0.1869713 ,  0.57117941, -0.65932413, -0.34287886,  1.3636073 ,\n",
       "       -0.49190245, -1.17028071,  0.30110734,  0.33935581,  0.34541418,\n",
       "       -1.0496555 , -0.8480656 , -2.08433162,  0.25473114, -0.99152704,\n",
       "       -0.61321189,  1.11833814, -0.43162031, -1.33267844,  0.11179916,\n",
       "       -0.4374583 ,  0.37963965,  0.97784756,  0.8985117 ,  0.36849759,\n",
       "        0.13517624, -1.40708719, -1.22236461, -0.69242098, -0.51006395,\n",
       "       -1.29921636, -0.3313523 , -2.83232592, -0.32417686, -1.18403056,\n",
       "        0.62271122,  0.27879981,  0.85071939,  0.6233423 ,  1.79452485,\n",
       "       -1.56462213, -0.63143703, -0.85140643,  1.14844571, -1.95160291,\n",
       "       -0.88776951,  1.86852719,  0.73918049, -1.01587883,  0.30700306,\n",
       "       -0.53384464, -1.88970348,  1.65540711, -1.62731173,  2.05381869,\n",
       "        0.80118176, -0.45813699,  0.13349942, -1.71570832, -1.73920515,\n",
       "        0.46259129,  0.00679984,  0.35884807, -0.48567874, -1.48239679,\n",
       "       -0.5436069 ,  0.02122265,  0.19410763, -0.90329311, -0.65903927,\n",
       "        0.19981043, -0.59270282, -0.03768712,  0.23160747,  1.35306916,\n",
       "        0.45780561,  0.5921139 , -0.2014199 , -1.43380582,  0.61516398,\n",
       "        0.83161679,  0.17041622,  0.07896405,  1.79636082, -0.59127801,\n",
       "       -0.39568071,  0.82592358,  0.29471925, -0.16036008, -1.12728552,\n",
       "       -0.2515519 ,  0.69797403, -1.06303627, -0.33577862, -0.02796941,\n",
       "        0.47944152, -1.32647213,  2.11732414, -1.50287061, -0.06003754,\n",
       "        1.36552646,  0.72147932,  0.52122999,  1.67762544, -0.68888554,\n",
       "       -0.53216856,  0.54028794,  0.36044168,  0.64612968, -0.02227898,\n",
       "       -0.10609064,  0.19894815, -0.58579272,  0.51562809,  0.4676901 ,\n",
       "        0.42416595,  0.94661831,  0.85022174,  0.51060069,  1.74094149,\n",
       "       -0.22327159,  0.06934434, -0.47209058,  0.5517408 , -1.13017873,\n",
       "        1.2307029 , -0.08371796, -0.71806478,  0.22323891,  1.33665736,\n",
       "       -0.31030771, -0.2227207 , -0.37439003,  0.85983356, -0.2407243 ,\n",
       "        1.0641707 , -1.34804711,  0.06807227, -0.80059034, -1.48928426,\n",
       "       -0.27950746, -1.09818638,  0.12417568, -1.45489217,  0.32129147,\n",
       "        0.09546204, -0.15326055,  1.16300097, -1.09904475, -0.15904521,\n",
       "       -0.05576908, -0.66032114,  0.12631251, -1.34770923,  0.05493411,\n",
       "       -0.10581876, -0.80587007, -0.04512289,  0.8173062 , -0.79252345,\n",
       "       -0.97972122,  0.36064789,  2.32004072,  0.63990296, -1.34799578,\n",
       "        0.39397523,  1.59947094, -0.3804559 ,  1.29274529,  0.96782602,\n",
       "        2.05409244,  0.55405777, -0.98717953,  2.14514913,  0.76624298,\n",
       "        1.71271141, -0.08606969,  1.04402513, -0.106337  ,  0.70117274,\n",
       "        0.26747539,  1.94352888, -0.14152575, -0.32483138,  1.09180534,\n",
       "       -0.0070629 ,  0.89464719, -1.18046049, -1.02792377, -0.28479556,\n",
       "        0.25131665,  0.18335992, -0.34409803, -0.19628065,  0.93791554,\n",
       "       -0.15647738,  0.08416823,  1.15166558, -0.45822303,  1.37010185,\n",
       "       -0.17961972,  0.07488758, -0.2846255 ,  1.82600971,  1.33422919,\n",
       "       -0.76194124, -0.64936482,  0.42591097, -0.78259136, -0.59449772,\n",
       "        0.02131165, -1.18308552,  0.43731319, -0.22526264, -0.39247111,\n",
       "        2.45236991,  0.01568224, -1.30110927, -0.26764109,  1.71061337,\n",
       "        0.16648527,  0.67318135,  1.31019191, -0.1712563 ,  1.09898336,\n",
       "        0.23425926,  2.25403811,  1.21209072, -0.19539035, -0.24989374,\n",
       "       -0.22908103,  1.0470983 ,  0.68723845,  0.05519924, -0.07823066,\n",
       "        0.87671419,  0.55769106,  0.72190349, -1.03979322,  0.48787228,\n",
       "       -0.4986339 ,  0.15714578,  0.55325122,  1.1084446 ,  0.83994454,\n",
       "        0.73487779, -0.61607122,  0.26881236,  0.34631271,  0.09798315,\n",
       "        0.00422986,  1.22280792,  2.02259023,  0.52783935,  0.13549137,\n",
       "        0.92567221, -0.35667313, -0.72800294, -0.31093752,  0.47200227,\n",
       "       -1.10629351, -0.21359324, -1.86973166,  0.39704667,  1.58449438,\n",
       "        0.39792705, -0.49291827, -1.68373257, -1.81488383,  2.21253104,\n",
       "       -1.10015423,  1.32893332, -1.4991812 , -0.26862162,  0.68695663,\n",
       "       -0.08809124, -2.87226221,  0.50309037, -1.5030803 , -0.49987103])"
      ]
     },
     "execution_count": 48,
     "metadata": {},
     "output_type": "execute_result"
    }
   ],
   "source": [
    "df['ident_id'].unique()"
   ]
  },
  {
   "cell_type": "code",
   "execution_count": 3,
   "metadata": {},
   "outputs": [
    {
     "data": {
      "text/plain": [
       "'LGBMClassifier'"
      ]
     },
     "execution_count": 3,
     "metadata": {},
     "output_type": "execute_result"
    }
   ],
   "source": [
    "LGBMClassifier().__class__.__name__"
   ]
  },
  {
   "cell_type": "code",
   "execution_count": 5,
   "metadata": {},
   "outputs": [
    {
     "data": {
      "text/plain": [
       "[<RegisteredModel: aliases={}, creation_timestamp=1706961767711, description='LGBMClassifier is a Champion model', last_updated_timestamp=1706962825748, latest_versions=[<ModelVersion: aliases=[], creation_timestamp=1706961768197, current_stage='None', description='', last_updated_timestamp=1706962825748, name='Champion LGBMClassifier', run_id='5b0e9be884e641af824981ef888952cd', run_link='', source='mlflow-artifacts:/e4170a475e154897a8384bec97c3297e/5b0e9be884e641af824981ef888952cd/artifacts/challenger_LGBMClassifier', status='READY', status_message='', tags={'model_name': 'LGBMClassifier', 'model_type': 'Champion'}, user_id='', version='1'>], name='Champion LGBMClassifier', tags={'model_type': 'Champion'}>]"
      ]
     },
     "execution_count": 5,
     "metadata": {},
     "output_type": "execute_result"
    }
   ],
   "source": [
    "mlflow.search_registered_models(filter_string = f\"tags.model_type ilike 'champion'\")[0].latest_versions[0].source"
   ]
  },
  {
   "cell_type": "code",
   "execution_count": 7,
   "metadata": {},
   "outputs": [
    {
     "data": {
      "text/plain": [
       "'mlflow-artifacts:/e4170a475e154897a8384bec97c3297e/5b0e9be884e641af824981ef888952cd/artifacts/challenger_LGBMClassifier'"
      ]
     },
     "execution_count": 7,
     "metadata": {},
     "output_type": "execute_result"
    }
   ],
   "source": [
    "client.search_registered_models(filter_string = f\"tags.model_type ilike 'champion'\")[0].latest_versions[0].source"
   ]
  },
  {
   "cell_type": "code",
   "execution_count": 9,
   "metadata": {},
   "outputs": [],
   "source": [
    "data = pd.read_csv(r\"F:\\iNeuron\\Projects\\scania_failures_2\\artifacts\\data\\transformed_test_df.csv\")\n",
    "x = data.drop(columns = 'class')\n",
    "y = data['class']"
   ]
  },
  {
   "cell_type": "code",
   "execution_count": 10,
   "metadata": {},
   "outputs": [
    {
     "name": "stdout",
     "output_type": "stream",
     "text": [
      "[2024-02-03 19:48:11,007: WARNING: connectionpool: Retrying (Retry(total=4, connect=5, read=4, redirect=5, status=5)) after connection broken by 'RemoteDisconnected('Remote end closed connection without response')': /Raj-Narayanan-B/StudentMLProjectRegression.mlflow/api/2.0/mlflow-artifacts/artifacts?path=ab3547075e654292b08e9f8f13d7dbf4%2F96c114f6f6f1409da17f19672d77a0ab%2Fartifacts%2Fcandidate_Voting_Classifier]\n"
     ]
    },
    {
     "name": "stderr",
     "output_type": "stream",
     "text": [
      "Downloading artifacts: 100%|██████████| 5/5 [00:07<00:00,  1.49s/it]\n"
     ]
    },
    {
     "data": {
      "text/plain": [
       "{'Balanced_Accuracy_Score': 0.9820123124278569,\n",
       " 'F1_Score': 0.9817732869813834,\n",
       " 'Accuracy_Score': 0.9820123124278569,\n",
       " 'Cost': 243260.0}"
      ]
     },
     "execution_count": 10,
     "metadata": {},
     "output_type": "execute_result"
    }
   ],
   "source": [
    "source = 'mlflow-artifacts:/ab3547075e654292b08e9f8f13d7dbf4/96c114f6f6f1409da17f19672d77a0ab/artifacts/candidate_Voting_Classifier'\n",
    "voter_clf = mlflow.sklearn.load_model(source)\n",
    "y_pred_voter = voter_clf.predict(x)\n",
    "report_voter = eval_metrics(y, y_pred_voter)\n",
    "report_voter"
   ]
  },
  {
   "cell_type": "code",
   "execution_count": 12,
   "metadata": {},
   "outputs": [
    {
     "data": {
      "text/plain": [
       "<sklearn.metrics._plot.confusion_matrix.ConfusionMatrixDisplay at 0x1fbfeca8850>"
      ]
     },
     "execution_count": 12,
     "metadata": {},
     "output_type": "execute_result"
    },
    {
     "data": {
      "image/png": "[encoded data removed]",
      "text/plain": [
       "<Figure size 640x480 with 2 Axes>"
      ]
     },
     "metadata": {},
     "output_type": "display_data"
    }
   ],
   "source": [
    "voter_cm = confusion_matrix(y, y_pred_voter)\n",
    "voter_cmd = ConfusionMatrixDisplay(voter_cm)\n",
    "voter_cmd.plot()"
   ]
  },
  {
   "cell_type": "code",
   "execution_count": 11,
   "metadata": {},
   "outputs": [
    {
     "name": "stderr",
     "output_type": "stream",
     "text": [
      "Downloading artifacts: 100%|██████████| 5/5 [00:06<00:00,  1.30s/it]\n"
     ]
    },
    {
     "data": {
      "text/plain": [
       "{'Balanced_Accuracy_Score': 0.9018212132871617,\n",
       " 'F1_Score': 0.8911559789563486,\n",
       " 'Accuracy_Score': 0.9018212132871617,\n",
       " 'Cost': 1529530.0}"
      ]
     },
     "execution_count": 11,
     "metadata": {},
     "output_type": "execute_result"
    }
   ],
   "source": [
    "source = 'mlflow-artifacts:/345dcf209f6c4e558ae241b57e1bd5d5/9d2269666ff049bda7fa6894e18b869a/artifacts/candidate_Stacked_Classifier'\n",
    "stacked_clf = mlflow.sklearn.load_model(source)\n",
    "y_pred_stacked = stacked_clf.predict(x)\n",
    "report_stacked = eval_metrics(y, y_pred_stacked)\n",
    "report_stacked"
   ]
  },
  {
   "cell_type": "code",
   "execution_count": 13,
   "metadata": {},
   "outputs": [
    {
     "data": {
      "text/plain": [
       "<sklearn.metrics._plot.confusion_matrix.ConfusionMatrixDisplay at 0x1fba87a68d0>"
      ]
     },
     "execution_count": 13,
     "metadata": {},
     "output_type": "execute_result"
    },
    {
     "data": {
      "image/png": "[encoded data removed]",
      "text/plain": [
       "<Figure size 640x480 with 2 Axes>"
      ]
     },
     "metadata": {},
     "output_type": "display_data"
    }
   ],
   "source": [
    "stacked_cm = confusion_matrix(y, y_pred_stacked)\n",
    "stacked_cmd = ConfusionMatrixDisplay(stacked_cm)\n",
    "stacked_cmd.plot()"
   ]
  },
  {
   "cell_type": "code",
   "execution_count": 14,
   "metadata": {},
   "outputs": [
    {
     "name": "stderr",
     "output_type": "stream",
     "text": [
      "Downloading artifacts: 100%|██████████| 5/5 [00:00<00:00,  5.53it/s]\n"
     ]
    },
    {
     "data": {
      "text/plain": [
       "{'Balanced_Accuracy_Score': 0.9806015134025907,\n",
       " 'F1_Score': 0.980268093017188,\n",
       " 'Accuracy_Score': 0.9806015134025907,\n",
       " 'Cost': 283390.0}"
      ]
     },
     "execution_count": 14,
     "metadata": {},
     "output_type": "execute_result"
    }
   ],
   "source": [
    "source = 'mlflow-artifacts:/e4170a475e154897a8384bec97c3297e/5b0e9be884e641af824981ef888952cd/artifacts/challenger_LGBMClassifier'\n",
    "lgbm = mlflow.sklearn.load_model(source)\n",
    "y_pred_lgbm = lgbm.predict(x)\n",
    "report_lgbm = eval_metrics(y, y_pred_lgbm)\n",
    "report_lgbm"
   ]
  },
  {
   "cell_type": "code",
   "execution_count": 15,
   "metadata": {},
   "outputs": [
    {
     "data": {
      "text/plain": [
       "<sklearn.metrics._plot.confusion_matrix.ConfusionMatrixDisplay at 0x1fb88f68850>"
      ]
     },
     "execution_count": 15,
     "metadata": {},
     "output_type": "execute_result"
    },
    {
     "data": {
      "image/png": "[encoded data removed]",
      "text/plain": [
       "<Figure size 640x480 with 2 Axes>"
      ]
     },
     "metadata": {},
     "output_type": "display_data"
    }
   ],
   "source": [
    "lgbm_cm = confusion_matrix(y, y_pred_lgbm)\n",
    "lgbm_cmd = ConfusionMatrixDisplay(lgbm_cm)\n",
    "lgbm_cmd.plot()"
   ]
  },
  {
   "cell_type": "code",
   "execution_count": 22,
   "metadata": {},
   "outputs": [
    {
     "data": {
      "text/plain": [
       "[564,\n",
       " 565,\n",
       " 566,\n",
       " 567,\n",
       " 568,\n",
       " 569,\n",
       " 570,\n",
       " 571,\n",
       " 572,\n",
       " 573,\n",
       " 574,\n",
       " 575,\n",
       " 576,\n",
       " 577,\n",
       " 578,\n",
       " 579]"
      ]
     },
     "execution_count": 22,
     "metadata": {},
     "output_type": "execute_result"
    }
   ],
   "source": [
    "exp_id = list(range(564,580))\n",
    "exp_id"
   ]
  },
  {
   "cell_type": "code",
   "execution_count": 39,
   "metadata": {},
   "outputs": [],
   "source": [
    "parent_runs = mlflow.search_registered_models()\n",
    "runs_df = mlflow.search_runs(experiment_ids = exp_id,\n",
    "                                search_all_experiments = True,\n",
    "                                filter_string = f\"tags.run_type ilike 'parent'\")\n",
    "runs_list_ = [parent_runs[i].latest_versions[0].run_id for i in range(len(parent_runs))]\n",
    "best_run = runs_df[runs_df['run_id'].isin(runs_list_)].sort_values(by = \"metrics.Accuracy_Score\", ascending=False).reset_index(drop=True)['run_id'][0]\n",
    "best_artifact = runs_df[runs_df['run_id'].isin(runs_list_)].sort_values(by = \"metrics.Accuracy_Score\", ascending=False).reset_index(drop=True)['artifact_uri'][0]\n",
    "artifact_path_name = client.list_artifacts(f'{best_run}')[0].path\n",
    "best_exp_id = runs_df[runs_df['run_id'] == best_run]['experiment_id'].values[0]\n",
    "model_name = json.loads(runs_df[runs_df['run_id'].isin(runs_list_)].sort_values(by = \"metrics.Accuracy_Score\", ascending=False).reset_index(drop=True)['tags.mlflow.log-model.history'][0])[0]['artifact_path']\n",
    "# model_name = model_name.replace(\"Optuna for \", \"\")\n",
    "model_name = re.sub(r'candidate_', '', model_name)\n",
    "\n"
   ]
  },
  {
   "cell_type": "code",
   "execution_count": 40,
   "metadata": {},
   "outputs": [
    {
     "data": {
      "text/plain": [
       "'Light_GBM'"
      ]
     },
     "execution_count": 40,
     "metadata": {},
     "output_type": "execute_result"
    }
   ],
   "source": [
    "model_name"
   ]
  },
  {
   "cell_type": "code",
   "execution_count": 34,
   "metadata": {},
   "outputs": [
    {
     "data": {
      "text/plain": [
       "'candidate_Light_GBM'"
      ]
     },
     "execution_count": 34,
     "metadata": {},
     "output_type": "execute_result"
    }
   ],
   "source": [
    "import json\n",
    "json.loads(runs_df[runs_df['run_id'].isin(runs_list_)].sort_values(by = \"metrics.Accuracy_Score\", ascending=False).reset_index(drop=True)['tags.mlflow.log-model.history'][0])[0]['artifact_path']"
   ]
  },
  {
   "cell_type": "code",
   "execution_count": 35,
   "metadata": {},
   "outputs": [
    {
     "data": {
      "text/plain": [
       "'candidate_Light_GBM'"
      ]
     },
     "execution_count": 35,
     "metadata": {},
     "output_type": "execute_result"
    }
   ],
   "source": [
    "json.loads(runs_df[runs_df['run_id'].isin(runs_list_)].sort_values(by = \"metrics.Accuracy_Score\", ascending=False).reset_index(drop=True)['tags.mlflow.log-model.history'][0])[0]['artifact_path']"
   ]
  },
  {
   "cell_type": "code",
   "execution_count": 42,
   "metadata": {},
   "outputs": [
    {
     "name": "stdout",
     "output_type": "stream",
     "text": [
      "Candidate_Light_GBM\n"
     ]
    }
   ],
   "source": [
    "registered_model_name = 'Candidate_'\n",
    "model_name = 'Light_GBM'\n",
    "print(f\"{registered_model_name}{model_name}\")"
   ]
  },
  {
   "cell_type": "code",
   "execution_count": 44,
   "metadata": {},
   "outputs": [],
   "source": [
    "client.set_registered_model_tag(name = 'Challenger Voting_Classifier',\n",
    "                                key = 'model_type',\n",
    "                                value = 'Challenger')"
   ]
  },
  {
   "cell_type": "code",
   "execution_count": 72,
   "metadata": {},
   "outputs": [],
   "source": [
    "filter_string = None"
   ]
  },
  {
   "cell_type": "code",
   "execution_count": 93,
   "metadata": {},
   "outputs": [],
   "source": [
    "filter_string = f\"tags.model_type ilike 'Challenger'\""
   ]
  },
  {
   "cell_type": "code",
   "execution_count": 94,
   "metadata": {},
   "outputs": [],
   "source": [
    "registered_models = {mlflow.search_registered_models(filter_string = filter_string)[i].latest_versions[0].name : mlflow.search_registered_models(filter_string = filter_string)[i].latest_versions[0].run_id for i in range(len(mlflow.search_registered_models(filter_string = filter_string)))}"
   ]
  },
  {
   "cell_type": "code",
   "execution_count": 143,
   "metadata": {},
   "outputs": [
    {
     "data": {
      "text/plain": [
       "['mlflow-artifacts:/e4170a475e154897a8384bec97c3297e/5b0e9be884e641af824981ef888952cd/artifacts/challenger_LGBMClassifier',\n",
       " 'mlflow-artifacts:/345dcf209f6c4e558ae241b57e1bd5d5/9d2269666ff049bda7fa6894e18b869a/artifacts/candidate_Stacked_Classifier',\n",
       " 'mlflow-artifacts:/ab3547075e654292b08e9f8f13d7dbf4/96c114f6f6f1409da17f19672d77a0ab/artifacts/candidate_Voting_Classifier']"
      ]
     },
     "execution_count": 143,
     "metadata": {},
     "output_type": "execute_result"
    }
   ],
   "source": [
    "sources = []\n",
    "for i in range(3):\n",
    "    sources.append(mlflow.search_registered_models(filter_string = f\"tags.model_type ilike 'Challenger'\")[i].latest_versions[0].source)\n",
    "sources"
   ]
  },
  {
   "cell_type": "code",
   "execution_count": 139,
   "metadata": {},
   "outputs": [
    {
     "data": {
      "text/plain": [
       "'Challenger Voting_Classifier'"
      ]
     },
     "execution_count": 139,
     "metadata": {},
     "output_type": "execute_result"
    }
   ],
   "source": [
    "mlflow.search_registered_models(filter_string = f\"tags.model_type ilike 'Challenger'\")[2].name#[i].latest_versions[0]"
   ]
  },
  {
   "cell_type": "code",
   "execution_count": 140,
   "metadata": {},
   "outputs": [
    {
     "name": "stderr",
     "output_type": "stream",
     "text": [
      "Downloading artifacts:  20%|██        | 1/5 [00:00<00:01,  2.10it/s]"
     ]
    },
    {
     "name": "stdout",
     "output_type": "stream",
     "text": [
      "[2024-02-03 23:51:44,384: WARNING: connectionpool: Retrying (Retry(total=4, connect=5, read=4, redirect=5, status=5)) after connection broken by 'RemoteDisconnected('Remote end closed connection without response')': /Raj-Narayanan-B/StudentMLProjectRegression.mlflow/api/2.0/mlflow-artifacts/artifacts/e4170a475e154897a8384bec97c3297e/5b0e9be884e641af824981ef888952cd/artifacts/challenger_LGBMClassifier/python_env.yaml]\n",
      "[2024-02-03 23:51:44,413: WARNING: connectionpool: Retrying (Retry(total=4, connect=5, read=4, redirect=5, status=5)) after connection broken by 'RemoteDisconnected('Remote end closed connection without response')': /Raj-Narayanan-B/StudentMLProjectRegression.mlflow/api/2.0/mlflow-artifacts/artifacts/e4170a475e154897a8384bec97c3297e/5b0e9be884e641af824981ef888952cd/artifacts/challenger_LGBMClassifier/conda.yaml]\n",
      "[2024-02-03 23:51:44,419: WARNING: connectionpool: Retrying (Retry(total=4, connect=5, read=4, redirect=5, status=5)) after connection broken by 'RemoteDisconnected('Remote end closed connection without response')': /Raj-Narayanan-B/StudentMLProjectRegression.mlflow/api/2.0/mlflow-artifacts/artifacts/e4170a475e154897a8384bec97c3297e/5b0e9be884e641af824981ef888952cd/artifacts/challenger_LGBMClassifier/requirements.txt]\n",
      "[2024-02-03 23:51:44,428: WARNING: connectionpool: Retrying (Retry(total=4, connect=5, read=4, redirect=5, status=5)) after connection broken by 'RemoteDisconnected('Remote end closed connection without response')': /Raj-Narayanan-B/StudentMLProjectRegression.mlflow/api/2.0/mlflow-artifacts/artifacts/e4170a475e154897a8384bec97c3297e/5b0e9be884e641af824981ef888952cd/artifacts/challenger_LGBMClassifier/model.pkl]\n"
     ]
    },
    {
     "name": "stderr",
     "output_type": "stream",
     "text": [
      "Downloading artifacts: 100%|██████████| 5/5 [00:20<00:00,  4.11s/it]\n",
      "Downloading artifacts: 100%|██████████| 5/5 [00:05<00:00,  1.11s/it]\n",
      "Downloading artifacts: 100%|██████████| 5/5 [00:06<00:00,  1.33s/it]\n"
     ]
    }
   ],
   "source": [
    "data = pd.read_csv(r\"F:\\iNeuron\\Projects\\scania_failures_2\\artifacts\\data\\transformed_test_df.csv\")\n",
    "x = data.drop(columns = 'class')\n",
    "y = data['class']\n",
    "report = {}\n",
    "for i in range(len(sources)):\n",
    "    model = mlflow.sklearn.load_model(sources[i])\n",
    "    report[mlflow.search_registered_models(filter_string = f\"tags.model_type ilike 'Challenger'\")[i].name] = eval_metrics(y_true = y, \n",
    "                                                    y_pred = model.predict(x))"
   ]
  },
  {
   "cell_type": "code",
   "execution_count": 145,
   "metadata": {},
   "outputs": [],
   "source": [
    "report_df = pd.DataFrame(report).T.sort_values(by = 'Accuracy_Score',ascending = False)"
   ]
  },
  {
   "cell_type": "code",
   "execution_count": 151,
   "metadata": {},
   "outputs": [
    {
     "data": {
      "text/plain": [
       "'Challenger Voting_Classifier'"
      ]
     },
     "execution_count": 151,
     "metadata": {},
     "output_type": "execute_result"
    }
   ],
   "source": [
    "list(report_df.iloc[:1,:]['Accuracy_Score'].index)[0]"
   ]
  },
  {
   "cell_type": "code",
   "execution_count": 156,
   "metadata": {},
   "outputs": [
    {
     "data": {
      "text/plain": [
       "0.9820123124278569"
      ]
     },
     "execution_count": 156,
     "metadata": {},
     "output_type": "execute_result"
    }
   ],
   "source": [
    "list(report_df.iloc[:1,:]['Accuracy_Score'].values)[0]"
   ]
  },
  {
   "cell_type": "code",
   "execution_count": 162,
   "metadata": {},
   "outputs": [],
   "source": [
    "client.set_registered_model_alias(name = 'Challenger LGBMClassifier',\n",
    "                                          alias = 'champion',\n",
    "                                          version = '1')"
   ]
  },
  {
   "cell_type": "code",
   "execution_count": 124,
   "metadata": {},
   "outputs": [
    {
     "data": {
      "text/plain": [
       "'LGBMClassifier'"
      ]
     },
     "execution_count": 124,
     "metadata": {},
     "output_type": "execute_result"
    }
   ],
   "source": [
    "models[0].__class__.__name__"
   ]
  },
  {
   "cell_type": "code",
   "execution_count": 95,
   "metadata": {},
   "outputs": [
    {
     "data": {
      "text/plain": [
       "{'Challenger LGBMClassifier': '5b0e9be884e641af824981ef888952cd',\n",
       " 'Challenger Stacked_Classifier': '9d2269666ff049bda7fa6894e18b869a',\n",
       " 'Challenger Voting_Classifier': '96c114f6f6f1409da17f19672d77a0ab'}"
      ]
     },
     "execution_count": 95,
     "metadata": {},
     "output_type": "execute_result"
    }
   ],
   "source": [
    "registered_models"
   ]
  },
  {
   "cell_type": "code",
   "execution_count": 96,
   "metadata": {},
   "outputs": [],
   "source": [
    "run_details = {}\n",
    "for key,value in registered_models.items():\n",
    "    run_details[client.get_run(value).data.tags['model']] = {}\n",
    "    run_details[client.get_run(value).data.tags['model']]['accuracy'] = client.get_run(value).data.metrics['Accuracy_Score']\n",
    "    run_details[client.get_run(value).data.tags['model']]['params'] = params_evaluator(client.get_run(value).data.params)\n",
    "\n",
    "# Create a dataframe from the \"run_details\" dict and sort it by \"accuracy\" in DESC\n",
    "# In this dataframe only the models whose accuracy is greater than 0.9 are chosen.\n",
    "models_df = pd.DataFrame(run_details).T\n",
    "\n",
    "sorted_models_df = models_df[models_df['accuracy'] > 0.9].sort_values(by = 'accuracy', ascending=False)"
   ]
  },
  {
   "cell_type": "code",
   "execution_count": 97,
   "metadata": {},
   "outputs": [
    {
     "data": {
      "text/html": [
       "<div>\n",
       "<style scoped>\n",
       "    .dataframe tbody tr th:only-of-type {\n",
       "        vertical-align: middle;\n",
       "    }\n",
       "\n",
       "    .dataframe tbody tr th {\n",
       "        vertical-align: top;\n",
       "    }\n",
       "\n",
       "    .dataframe thead th {\n",
       "        text-align: right;\n",
       "    }\n",
       "</style>\n",
       "<table border=\"1\" class=\"dataframe\">\n",
       "  <thead>\n",
       "    <tr style=\"text-align: right;\">\n",
       "      <th></th>\n",
       "      <th>accuracy</th>\n",
       "      <th>params</th>\n",
       "    </tr>\n",
       "  </thead>\n",
       "  <tbody>\n",
       "    <tr>\n",
       "      <th>LGBMClassifier</th>\n",
       "      <td>0.980208</td>\n",
       "      <td>{}</td>\n",
       "    </tr>\n",
       "    <tr>\n",
       "      <th>Voting_Classifier</th>\n",
       "      <td>0.976093</td>\n",
       "      <td>{'estimators': [('Random Forest', 'RandomFores...</td>\n",
       "    </tr>\n",
       "    <tr>\n",
       "      <th>Stacked_Classifier</th>\n",
       "      <td>0.924029</td>\n",
       "      <td>{'estimators': [('Random Forest', 'RandomFores...</td>\n",
       "    </tr>\n",
       "  </tbody>\n",
       "</table>\n",
       "</div>"
      ],
      "text/plain": [
       "                    accuracy  \\\n",
       "LGBMClassifier      0.980208   \n",
       "Voting_Classifier   0.976093   \n",
       "Stacked_Classifier  0.924029   \n",
       "\n",
       "                                                               params  \n",
       "LGBMClassifier                                                     {}  \n",
       "Voting_Classifier   {'estimators': [('Random Forest', 'RandomFores...  \n",
       "Stacked_Classifier  {'estimators': [('Random Forest', 'RandomFores...  "
      ]
     },
     "execution_count": 97,
     "metadata": {},
     "output_type": "execute_result"
    }
   ],
   "source": [
    "sorted_models_df"
   ]
  },
  {
   "cell_type": "code",
   "execution_count": 105,
   "metadata": {},
   "outputs": [
    {
     "data": {
      "text/plain": [
       "array([0.980208120791675], dtype=object)"
      ]
     },
     "execution_count": 105,
     "metadata": {},
     "output_type": "execute_result"
    }
   ],
   "source": [
    "sorted_models_df.iloc[:1,]['accuracy'].values"
   ]
  },
  {
   "cell_type": "code",
   "execution_count": null,
   "metadata": {},
   "outputs": [],
   "source": []
  },
  {
   "cell_type": "code",
   "execution_count": 49,
   "metadata": {},
   "outputs": [],
   "source": [
    "mlflow_models = {key:value(**(sorted_models_df.params[key])) for key,value in models.items() if  key in sorted_models_df.index}\n",
    "\n",
    "    # Create the list[tuple] best_estimators to fit in the voting classifier\n",
    "best_estimators_mlflow = list(zip(mlflow_models.keys(),mlflow_models.values()))\n",
    "\n",
    "# If using stacking classifier, get the final estimator using:\n",
    "final_estimator_mlflow = {key:value(**(sorted_models_df.iloc[:1,:].params[key])) for key,value in models.items() if key in sorted_models_df.iloc[:1,:].index}\n",
    "# Access the final estimator model using:\n",
    "\n",
    "final_estimator = final_estimator_mlflow[sorted_models_df.iloc[:1,:].index.values[0]]\n"
   ]
  },
  {
   "cell_type": "code",
   "execution_count": 50,
   "metadata": {},
   "outputs": [
    {
     "data": {
      "text/plain": [
       "{'Random Forest': RandomForestClassifier(class_weight='balanced_subsample'),\n",
       " 'Ada_Boost': AdaBoostClassifier(algorithm='SAMME', n_estimators=105),\n",
       " 'Bagging_Classifier': BaggingClassifier(n_estimators=79),\n",
       " 'ExtraTreesClassifier': ExtraTreesClassifier(class_weight='balanced', max_features='log2',\n",
       "                      n_estimators=207),\n",
       " 'XGB_Classifier': XGBClassifier(base_score=0.5, booster='dart', colsample_bylevel=1,\n",
       "               colsample_bynode=1, colsample_bytree=1, gamma=0, gpu_id=-1,\n",
       "               importance_type='gain', interaction_constraints='',\n",
       "               learning_rate=0.19527551803044957, max_delta_step=0, max_depth=6,\n",
       "               min_child_weight=1, missing=nan, monotone_constraints=(),\n",
       "               n_estimators=413, n_jobs=0, num_parallel_tree=1, random_state=0,\n",
       "               reg_alpha=0, reg_lambda=1, scale_pos_weight=1, subsample=1,\n",
       "               tree_method='approx', validate_parameters=1, verbosity=None),\n",
       " 'Light_GBM': LGBMClassifier(class_weight='balanced', learning_rate=0.4417276983128657,\n",
       "                n_estimators=101, n_jobs=-1)}"
      ]
     },
     "execution_count": 50,
     "metadata": {},
     "output_type": "execute_result"
    }
   ],
   "source": [
    "mlflow_models"
   ]
  },
  {
   "cell_type": "code",
   "execution_count": 51,
   "metadata": {},
   "outputs": [
    {
     "data": {
      "text/plain": [
       "[('Random Forest', RandomForestClassifier(class_weight='balanced_subsample')),\n",
       " ('Ada_Boost', AdaBoostClassifier(algorithm='SAMME', n_estimators=105)),\n",
       " ('Bagging_Classifier', BaggingClassifier(n_estimators=79)),\n",
       " ('ExtraTreesClassifier',\n",
       "  ExtraTreesClassifier(class_weight='balanced', max_features='log2',\n",
       "                       n_estimators=207)),\n",
       " ('XGB_Classifier',\n",
       "  XGBClassifier(base_score=0.5, booster='dart', colsample_bylevel=1,\n",
       "                colsample_bynode=1, colsample_bytree=1, gamma=0, gpu_id=-1,\n",
       "                importance_type='gain', interaction_constraints='',\n",
       "                learning_rate=0.19527551803044957, max_delta_step=0, max_depth=6,\n",
       "                min_child_weight=1, missing=nan, monotone_constraints=(),\n",
       "                n_estimators=413, n_jobs=0, num_parallel_tree=1, random_state=0,\n",
       "                reg_alpha=0, reg_lambda=1, scale_pos_weight=1, subsample=1,\n",
       "                tree_method='approx', validate_parameters=1, verbosity=None)),\n",
       " ('Light_GBM',\n",
       "  LGBMClassifier(class_weight='balanced', learning_rate=0.4417276983128657,\n",
       "                 n_estimators=101, n_jobs=-1))]"
      ]
     },
     "execution_count": 51,
     "metadata": {},
     "output_type": "execute_result"
    }
   ],
   "source": [
    "best_estimators_mlflow"
   ]
  },
  {
   "cell_type": "code",
   "execution_count": 52,
   "metadata": {},
   "outputs": [
    {
     "data": {
      "text/plain": [
       "{'Light_GBM': LGBMClassifier(class_weight='balanced', learning_rate=0.4417276983128657,\n",
       "                n_estimators=101, n_jobs=-1)}"
      ]
     },
     "execution_count": 52,
     "metadata": {},
     "output_type": "execute_result"
    }
   ],
   "source": [
    "final_estimator_mlflow"
   ]
  },
  {
   "cell_type": "code",
   "execution_count": 53,
   "metadata": {},
   "outputs": [
    {
     "data": {
      "text/html": [
       "<style>#sk-container-id-2 {color: black;}#sk-container-id-2 pre{padding: 0;}#sk-container-id-2 div.sk-toggleable {background-color: white;}#sk-container-id-2 label.sk-toggleable__label {cursor: pointer;display: block;width: 100%;margin-bottom: 0;padding: 0.3em;box-sizing: border-box;text-align: center;}#sk-container-id-2 label.sk-toggleable__label-arrow:before {content: \"▸\";float: left;margin-right: 0.25em;color: #696969;}#sk-container-id-2 label.sk-toggleable__label-arrow:hover:before {color: black;}#sk-container-id-2 div.sk-estimator:hover label.sk-toggleable__label-arrow:before {color: black;}#sk-container-id-2 div.sk-toggleable__content {max-height: 0;max-width: 0;overflow: hidden;text-align: left;background-color: #f0f8ff;}#sk-container-id-2 div.sk-toggleable__content pre {margin: 0.2em;color: black;border-radius: 0.25em;background-color: #f0f8ff;}#sk-container-id-2 input.sk-toggleable__control:checked~div.sk-toggleable__content {max-height: 200px;max-width: 100%;overflow: auto;}#sk-container-id-2 input.sk-toggleable__control:checked~label.sk-toggleable__label-arrow:before {content: \"▾\";}#sk-container-id-2 div.sk-estimator input.sk-toggleable__control:checked~label.sk-toggleable__label {background-color: #d4ebff;}#sk-container-id-2 div.sk-label input.sk-toggleable__control:checked~label.sk-toggleable__label {background-color: #d4ebff;}#sk-container-id-2 input.sk-hidden--visually {border: 0;clip: rect(1px 1px 1px 1px);clip: rect(1px, 1px, 1px, 1px);height: 1px;margin: -1px;overflow: hidden;padding: 0;position: absolute;width: 1px;}#sk-container-id-2 div.sk-estimator {font-family: monospace;background-color: #f0f8ff;border: 1px dotted black;border-radius: 0.25em;box-sizing: border-box;margin-bottom: 0.5em;}#sk-container-id-2 div.sk-estimator:hover {background-color: #d4ebff;}#sk-container-id-2 div.sk-parallel-item::after {content: \"\";width: 100%;border-bottom: 1px solid gray;flex-grow: 1;}#sk-container-id-2 div.sk-label:hover label.sk-toggleable__label {background-color: #d4ebff;}#sk-container-id-2 div.sk-serial::before {content: \"\";position: absolute;border-left: 1px solid gray;box-sizing: border-box;top: 0;bottom: 0;left: 50%;z-index: 0;}#sk-container-id-2 div.sk-serial {display: flex;flex-direction: column;align-items: center;background-color: white;padding-right: 0.2em;padding-left: 0.2em;position: relative;}#sk-container-id-2 div.sk-item {position: relative;z-index: 1;}#sk-container-id-2 div.sk-parallel {display: flex;align-items: stretch;justify-content: center;background-color: white;position: relative;}#sk-container-id-2 div.sk-item::before, #sk-container-id-2 div.sk-parallel-item::before {content: \"\";position: absolute;border-left: 1px solid gray;box-sizing: border-box;top: 0;bottom: 0;left: 50%;z-index: -1;}#sk-container-id-2 div.sk-parallel-item {display: flex;flex-direction: column;z-index: 1;position: relative;background-color: white;}#sk-container-id-2 div.sk-parallel-item:first-child::after {align-self: flex-end;width: 50%;}#sk-container-id-2 div.sk-parallel-item:last-child::after {align-self: flex-start;width: 50%;}#sk-container-id-2 div.sk-parallel-item:only-child::after {width: 0;}#sk-container-id-2 div.sk-dashed-wrapped {border: 1px dashed gray;margin: 0 0.4em 0.5em 0.4em;box-sizing: border-box;padding-bottom: 0.4em;background-color: white;}#sk-container-id-2 div.sk-label label {font-family: monospace;font-weight: bold;display: inline-block;line-height: 1.2em;}#sk-container-id-2 div.sk-label-container {text-align: center;}#sk-container-id-2 div.sk-container {/* jupyter's `normalize.less` sets `[hidden] { display: none; }` but bootstrap.min.css set `[hidden] { display: none !important; }` so we also need the `!important` here to be able to override the default hidden behavior on the sphinx rendered scikit-learn.org. See: https://github.com/scikit-learn/scikit-learn/issues/21755 */display: inline-block !important;position: relative;}#sk-container-id-2 div.sk-text-repr-fallback {display: none;}</style><div id=\"sk-container-id-2\" class=\"sk-top-container\"><div class=\"sk-text-repr-fallback\"><pre>LGBMClassifier(class_weight=&#x27;balanced&#x27;, learning_rate=0.4417276983128657,\n",
       "               n_estimators=101, n_jobs=-1)</pre><b>In a Jupyter environment, please rerun this cell to show the HTML representation or trust the notebook. <br />On GitHub, the HTML representation is unable to render, please try loading this page with nbviewer.org.</b></div><div class=\"sk-container\" hidden><div class=\"sk-item\"><div class=\"sk-estimator sk-toggleable\"><input class=\"sk-toggleable__control sk-hidden--visually\" id=\"sk-estimator-id-2\" type=\"checkbox\" checked><label for=\"sk-estimator-id-2\" class=\"sk-toggleable__label sk-toggleable__label-arrow\">LGBMClassifier</label><div class=\"sk-toggleable__content\"><pre>LGBMClassifier(class_weight=&#x27;balanced&#x27;, learning_rate=0.4417276983128657,\n",
       "               n_estimators=101, n_jobs=-1)</pre></div></div></div></div></div>"
      ],
      "text/plain": [
       "LGBMClassifier(class_weight='balanced', learning_rate=0.4417276983128657,\n",
       "               n_estimators=101, n_jobs=-1)"
      ]
     },
     "execution_count": 53,
     "metadata": {},
     "output_type": "execute_result"
    }
   ],
   "source": [
    "final_estimator"
   ]
  },
  {
   "cell_type": "code",
   "execution_count": 163,
   "metadata": {},
   "outputs": [],
   "source": [
    "metrics_stacking_clf = 3\n",
    "metrics_voting_clf = 5\n",
    "metrics_final_estimator = 7"
   ]
  },
  {
   "cell_type": "code",
   "execution_count": 168,
   "metadata": {},
   "outputs": [
    {
     "name": "stdout",
     "output_type": "stream",
     "text": [
      "\n",
      "Metrics are: \n",
      "***************************\n",
      "Stacking_CLF:\n",
      "3\n",
      "**************************\n",
      "Voting_CLF:\n",
      "5\n",
      "**************************\n",
      "final_estimator:\n",
      "7\n",
      "**************************\n",
      "\n"
     ]
    }
   ],
   "source": [
    "print(f\"\\nMetrics are: \\n***************************\\nStacking_CLF:\\n{metrics_stacking_clf}\\n**************************\\nVoting_CLF:\\n{metrics_voting_clf}\\n**************************\\nfinal_estimator:\\n{metrics_final_estimator}\\n**************************\\n\")"
   ]
  },
  {
   "cell_type": "code",
   "execution_count": null,
   "metadata": {},
   "outputs": [],
   "source": []
  }
 ],
 "metadata": {
  "kernelspec": {
   "display_name": "Python 3.8.10 ('scania_truck': venv)",
   "language": "python",
   "name": "python3"
  },
  "language_info": {
   "codemirror_mode": {
    "name": "ipython",
    "version": 3
   },
   "file_extension": ".py",
   "mimetype": "text/x-python",
   "name": "python",
   "nbconvert_exporter": "python",
   "pygments_lexer": "ipython3",
   "version": "3.11.5"
  },
  "vscode": {
   "interpreter": {
    "hash": "90491c7785a74524e526617bb4e2471af3c739a0cb58cbf092281fb10a424f0c"
   }
  }
 },
 "nbformat": 4,
 "nbformat_minor": 2
}
