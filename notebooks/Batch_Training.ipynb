{
 "cells": [
  {
   "cell_type": "code",
   "execution_count": 1,
   "metadata": {},
   "outputs": [],
   "source": [
    "import os\n",
    "os.chdir(\"f:\\\\iNeuron\\\\Projects\\\\scania_failures_2\")\n",
    "import pandas as pd\n",
    "import numpy as np\n",
    "from pprint import pprint\n",
    "\n",
    "\n",
    "from src.utils import (load_yaml,save_yaml,save_binary,\n",
    "                       eval_metrics, parameter_tuning, best_model_finder, \n",
    "                       stacking_clf_trainer, voting_clf_trainer, model_trainer, mlflow_logger)\n",
    "from src.constants import *\n",
    "from src.utils import load_yaml\n",
    "from src.components.stage_3_data_split import data_splitting_component\n",
    "from src.components.stage_4_final_preprocessing import stage_4_final_processing_component\n",
    "from src.config.configuration_manager import ConfigurationManager\n",
    "from src.entity.entity_config import (Stage2ProcessingConf,\n",
    "                                      ModelMetricsConf, \n",
    "                                      ModelTrainerConf, \n",
    "                                      PreprocessorConf, \n",
    "                                      DataSplitConf,\n",
    "                                      Stage1ProcessingConf)\n",
    "from src import logger\n",
    "\n",
    "import optuna\n",
    "\n",
    "from sklearn.linear_model import LogisticRegression, SGDClassifier\n",
    "from sklearn.ensemble import (RandomForestClassifier, AdaBoostClassifier, \n",
    "                              GradientBoostingClassifier, BaggingClassifier, ExtraTreesClassifier, \n",
    "                              HistGradientBoostingClassifier, StackingClassifier, VotingClassifier)\n",
    "from sklearn.tree import DecisionTreeClassifier\n",
    "from xgboost import XGBClassifier\n",
    "# from catboost import CatBoostClassifier\n",
    "from sklearn.neighbors import KNeighborsClassifier\n",
    "\n",
    "from sklearn.model_selection import train_test_split, StratifiedKFold, cross_val_score\n",
    "from sklearn.utils import shuffle\n",
    "\n",
    "from src.utils import eval_metrics\n",
    "# from sklearn.pipeline import Pipeline\n",
    "from sklearn.preprocessing import RobustScaler\n",
    "from sklearn.impute import KNNImputer\n",
    "\n",
    "from imblearn.combine import SMOTETomek\n",
    "from imblearn.pipeline import Pipeline\n",
    "\n",
    "models = {'Logistic_Regression': LogisticRegression, \n",
    "            'SGD_Classifier': SGDClassifier,\n",
    "            'Random Forest': RandomForestClassifier ,\n",
    "            'Ada_Boost': AdaBoostClassifier, \n",
    "            'Grad_Boost': GradientBoostingClassifier, \n",
    "            'Bagging_Classifier': BaggingClassifier, \n",
    "            'ExtraTreesClassifier': ExtraTreesClassifier, \n",
    "            'Hist_Grad_Boost_Classifier': HistGradientBoostingClassifier, \n",
    "            'Decision_Tree_Classifier': DecisionTreeClassifier,\n",
    "            'XGB_Classifier': XGBClassifier,\n",
    "            'KNN_Classifier': KNeighborsClassifier,\n",
    "            }"
   ]
  },
  {
   "cell_type": "code",
   "execution_count": 2,
   "metadata": {},
   "outputs": [],
   "source": [
    "import pandas as pd\n",
    "data_path = \"F:\\iNeuron\\Projects\\scania_failures_2\\\\artifacts\\data\\processed\\stage_1_processing\\preprocessed_train_data.csv\"\n",
    "data = pd.read_csv(data_path)"
   ]
  },
  {
   "cell_type": "code",
   "execution_count": 3,
   "metadata": {},
   "outputs": [
    {
     "name": "stdout",
     "output_type": "stream",
     "text": [
      "Batch: 0\n",
      "class\n",
      "0    4913\n",
      "1      87\n",
      "Name: count, dtype: int64 \n",
      "\n",
      "Batch: 1\n",
      "class\n",
      "0    4917\n",
      "1      83\n",
      "Name: count, dtype: int64 \n",
      "\n",
      "Batch: 2\n",
      "class\n",
      "0    4916\n",
      "1      84\n",
      "Name: count, dtype: int64 \n",
      "\n",
      "Batch: 3\n",
      "class\n",
      "0    4916\n",
      "1      84\n",
      "Name: count, dtype: int64 \n",
      "\n",
      "Batch: 4\n",
      "class\n",
      "0    4915\n",
      "1      85\n",
      "Name: count, dtype: int64 \n",
      "\n",
      "Batch: 5\n",
      "class\n",
      "0    4916\n",
      "1      84\n",
      "Name: count, dtype: int64 \n",
      "\n",
      "Batch: 6\n",
      "class\n",
      "0    4910\n",
      "1      90\n",
      "Name: count, dtype: int64 \n",
      "\n",
      "Batch: 7\n",
      "class\n",
      "0    4919\n",
      "1      81\n",
      "Name: count, dtype: int64 \n",
      "\n",
      "Batch: 8\n",
      "class\n",
      "0    4919\n",
      "1      81\n",
      "Name: count, dtype: int64 \n",
      "\n",
      "Batch: 9\n",
      "class\n",
      "0    4919\n",
      "1      81\n",
      "Name: count, dtype: int64 \n",
      "\n",
      "Batch: 10\n",
      "class\n",
      "0    4923\n",
      "1      77\n",
      "Name: count, dtype: int64 \n",
      "\n",
      "Batch: 11\n",
      "class\n",
      "0    4917\n",
      "1      83\n",
      "Name: count, dtype: int64 \n",
      "\n",
      "Total no of Class 0 in all batches: 59000\n",
      "Total no of Class 1 in all batches: 1000\n"
     ]
    }
   ],
   "source": [
    "batch_size = 5000\n",
    "num_batches = data.shape[0] // batch_size\n",
    "data_shuffled = shuffle(data, random_state=42)\n",
    "\n",
    "batch_list = []\n",
    "# Iterate through batches\n",
    "for i in range(num_batches):\n",
    "    # Extract a batch\n",
    "    start_idx = i * batch_size\n",
    "    end_idx = ((i + 1) * batch_size)\n",
    "    # print(f\"start_idx: {start_idx}, end_idx: {end_idx}\")\n",
    "    batch_list.append(data_shuffled.iloc[start_idx:end_idx, :])\n",
    "\n",
    "sum1 = 0\n",
    "sum0 = 0\n",
    "for i in range(len(batch_list)):\n",
    "    print(f\"Batch: {i}\")\n",
    "    sum0 += batch_list[i]['class'].value_counts()[0] \n",
    "    sum1 += batch_list[i]['class'].value_counts()[1] \n",
    "    print(batch_list[i]['class'].value_counts(),'\\n')\n",
    "\n",
    "print(f\"Total no of Class 0 in all batches: {sum0}\")\n",
    "print(f\"Total no of Class 1 in all batches: {sum1}\")\n",
    "    "
   ]
  },
  {
   "cell_type": "code",
   "execution_count": 7,
   "metadata": {},
   "outputs": [
    {
     "name": "stdout",
     "output_type": "stream",
     "text": [
      "[2024-01-28 19:48:40,060: INFO: utils: params.yaml yaml_file is loaded]\n"
     ]
    },
    {
     "name": "stderr",
     "output_type": "stream",
     "text": [
      "[I 2024-01-28 19:48:40,064] A new study created in memory with name: no-name-c0e35f13-7efc-48e3-a9d3-29e4a8c91ce8\n"
     ]
    },
    {
     "name": "stdout",
     "output_type": "stream",
     "text": [
      "\n",
      "**************\n",
      "Trial_Number: 0\n",
      "**************\n",
      "\n",
      "Batch 1\n",
      "\"\\nSpace: {'penalty': None}\"\n"
     ]
    },
    {
     "name": "stderr",
     "output_type": "stream",
     "text": [
      "[Parallel(n_jobs=-1)]: Using backend LokyBackend with 8 concurrent workers.\n",
      "[Parallel(n_jobs=-1)]: Done   3 out of   3 | elapsed:   10.1s finished\n",
      "[Parallel(n_jobs=-1)]: Using backend LokyBackend with 8 concurrent workers.\n"
     ]
    },
    {
     "name": "stdout",
     "output_type": "stream",
     "text": [
      "\n",
      "Accuracy of Logistic_Regression: 0.46279279558254016\n",
      "\n",
      "Batchwise_accuracies: [0.46279279558254016]\n",
      "\n",
      "Batchwise_Median_Accuracy: 0.46279279558254016\n",
      "\n",
      "Accumulated Accuracies:\n",
      "{'Logistic_Regression': {'Optuna': [0.46279279558254016], 'HyperOpt': []}, 'SGD_Classifier': {'Optuna': [], 'HyperOpt': []}, 'Random Forest': {'Optuna': [], 'HyperOpt': []}, 'Ada_Boost': {'Optuna': [], 'HyperOpt': []}, 'Grad_Boost': {'Optuna': [], 'HyperOpt': []}, 'Bagging_Classifier': {'Optuna': [], 'HyperOpt': []}, 'ExtraTreesClassifier': {'Optuna': [], 'HyperOpt': []}, 'Hist_Grad_Boost_Classifier': {'Optuna': [], 'HyperOpt': []}, 'Decision_Tree_Classifier': {'Optuna': [], 'HyperOpt': []}, 'XGB_Classifier': {'Optuna': [], 'HyperOpt': []}, 'KNN_Classifier': {'Optuna': [], 'HyperOpt': []}}\n",
      "\n",
      "\n",
      "Batch 2\n",
      "\"\\nSpace: {'penalty': None}\"\n"
     ]
    },
    {
     "name": "stderr",
     "output_type": "stream",
     "text": [
      "[Parallel(n_jobs=-1)]: Done   3 out of   3 | elapsed:   11.3s finished\n",
      "[Parallel(n_jobs=-1)]: Using backend LokyBackend with 8 concurrent workers.\n"
     ]
    },
    {
     "name": "stdout",
     "output_type": "stream",
     "text": [
      "\n",
      "Accuracy of Logistic_Regression: 0.4274040750073275\n",
      "\n",
      "Batchwise_accuracies: [0.46279279558254016, 0.4274040750073275]\n",
      "\n",
      "Batchwise_Median_Accuracy: 0.44509843529493387\n",
      "\n",
      "Accumulated Accuracies:\n",
      "{'Logistic_Regression': {'Optuna': [0.46279279558254016, 0.4274040750073275], 'HyperOpt': []}, 'SGD_Classifier': {'Optuna': [], 'HyperOpt': []}, 'Random Forest': {'Optuna': [], 'HyperOpt': []}, 'Ada_Boost': {'Optuna': [], 'HyperOpt': []}, 'Grad_Boost': {'Optuna': [], 'HyperOpt': []}, 'Bagging_Classifier': {'Optuna': [], 'HyperOpt': []}, 'ExtraTreesClassifier': {'Optuna': [], 'HyperOpt': []}, 'Hist_Grad_Boost_Classifier': {'Optuna': [], 'HyperOpt': []}, 'Decision_Tree_Classifier': {'Optuna': [], 'HyperOpt': []}, 'XGB_Classifier': {'Optuna': [], 'HyperOpt': []}, 'KNN_Classifier': {'Optuna': [], 'HyperOpt': []}}\n",
      "\n",
      "\n",
      "Batch 3\n",
      "\"\\nSpace: {'penalty': None}\"\n"
     ]
    },
    {
     "name": "stderr",
     "output_type": "stream",
     "text": [
      "[Parallel(n_jobs=-1)]: Done   3 out of   3 | elapsed:   11.1s finished\n",
      "[Parallel(n_jobs=-1)]: Using backend LokyBackend with 8 concurrent workers.\n"
     ]
    },
    {
     "name": "stdout",
     "output_type": "stream",
     "text": [
      "\n",
      "Accuracy of Logistic_Regression: 0.37198526681218375\n",
      "\n",
      "Batchwise_accuracies: [0.46279279558254016, 0.4274040750073275, 0.37198526681218375]\n",
      "\n",
      "Batchwise_Median_Accuracy: 0.4274040750073275\n",
      "\n",
      "Accumulated Accuracies:\n",
      "{'Logistic_Regression': {'Optuna': [0.46279279558254016, 0.4274040750073275, 0.37198526681218375], 'HyperOpt': []}, 'SGD_Classifier': {'Optuna': [], 'HyperOpt': []}, 'Random Forest': {'Optuna': [], 'HyperOpt': []}, 'Ada_Boost': {'Optuna': [], 'HyperOpt': []}, 'Grad_Boost': {'Optuna': [], 'HyperOpt': []}, 'Bagging_Classifier': {'Optuna': [], 'HyperOpt': []}, 'ExtraTreesClassifier': {'Optuna': [], 'HyperOpt': []}, 'Hist_Grad_Boost_Classifier': {'Optuna': [], 'HyperOpt': []}, 'Decision_Tree_Classifier': {'Optuna': [], 'HyperOpt': []}, 'XGB_Classifier': {'Optuna': [], 'HyperOpt': []}, 'KNN_Classifier': {'Optuna': [], 'HyperOpt': []}}\n",
      "\n",
      "\n",
      "Batch 4\n",
      "\"\\nSpace: {'penalty': None}\"\n"
     ]
    },
    {
     "name": "stderr",
     "output_type": "stream",
     "text": [
      "[Parallel(n_jobs=-1)]: Done   3 out of   3 | elapsed:   10.2s finished\n",
      "[Parallel(n_jobs=-1)]: Using backend LokyBackend with 8 concurrent workers.\n"
     ]
    },
    {
     "name": "stdout",
     "output_type": "stream",
     "text": [
      "\n",
      "Accuracy of Logistic_Regression: 0.4565850335335094\n",
      "\n",
      "Batchwise_accuracies: [0.46279279558254016, 0.4274040750073275, 0.37198526681218375, 0.4565850335335094]\n",
      "\n",
      "Batchwise_Median_Accuracy: 0.44199455427041845\n",
      "\n",
      "Accumulated Accuracies:\n",
      "{'Logistic_Regression': {'Optuna': [0.46279279558254016, 0.4274040750073275, 0.37198526681218375, 0.4565850335335094], 'HyperOpt': []}, 'SGD_Classifier': {'Optuna': [], 'HyperOpt': []}, 'Random Forest': {'Optuna': [], 'HyperOpt': []}, 'Ada_Boost': {'Optuna': [], 'HyperOpt': []}, 'Grad_Boost': {'Optuna': [], 'HyperOpt': []}, 'Bagging_Classifier': {'Optuna': [], 'HyperOpt': []}, 'ExtraTreesClassifier': {'Optuna': [], 'HyperOpt': []}, 'Hist_Grad_Boost_Classifier': {'Optuna': [], 'HyperOpt': []}, 'Decision_Tree_Classifier': {'Optuna': [], 'HyperOpt': []}, 'XGB_Classifier': {'Optuna': [], 'HyperOpt': []}, 'KNN_Classifier': {'Optuna': [], 'HyperOpt': []}}\n",
      "\n",
      "\n",
      "Batch 5\n",
      "\"\\nSpace: {'penalty': None}\"\n"
     ]
    },
    {
     "name": "stderr",
     "output_type": "stream",
     "text": [
      "[Parallel(n_jobs=-1)]: Done   3 out of   3 | elapsed:   10.0s finished\n",
      "[I 2024-01-28 19:49:33,891] Trial 0 pruned. \n",
      "[Parallel(n_jobs=-1)]: Using backend LokyBackend with 8 concurrent workers.\n"
     ]
    },
    {
     "name": "stdout",
     "output_type": "stream",
     "text": [
      "\n",
      "Accuracy of Logistic_Regression: 0.40799655195011414\n",
      "\n",
      "Batchwise_accuracies: [0.46279279558254016, 0.4274040750073275, 0.37198526681218375, 0.4565850335335094, 0.40799655195011414]\n",
      "\n",
      "Batchwise_Median_Accuracy: 0.4274040750073275\n",
      "\n",
      "Accumulated Accuracies:\n",
      "{'Logistic_Regression': {'Optuna': [0.46279279558254016, 0.4274040750073275, 0.37198526681218375, 0.4565850335335094, 0.40799655195011414], 'HyperOpt': []}, 'SGD_Classifier': {'Optuna': [], 'HyperOpt': []}, 'Random Forest': {'Optuna': [], 'HyperOpt': []}, 'Ada_Boost': {'Optuna': [], 'HyperOpt': []}, 'Grad_Boost': {'Optuna': [], 'HyperOpt': []}, 'Bagging_Classifier': {'Optuna': [], 'HyperOpt': []}, 'ExtraTreesClassifier': {'Optuna': [], 'HyperOpt': []}, 'Hist_Grad_Boost_Classifier': {'Optuna': [], 'HyperOpt': []}, 'Decision_Tree_Classifier': {'Optuna': [], 'HyperOpt': []}, 'XGB_Classifier': {'Optuna': [], 'HyperOpt': []}, 'KNN_Classifier': {'Optuna': [], 'HyperOpt': []}}\n",
      "\n",
      "\n",
      "**************\n",
      "Trial_Number: 1\n",
      "**************\n",
      "\n",
      "Batch 1\n",
      "\"\\nSpace: {'penalty': 'l2'}\"\n"
     ]
    },
    {
     "name": "stderr",
     "output_type": "stream",
     "text": [
      "[Parallel(n_jobs=-1)]: Done   3 out of   3 | elapsed:   10.3s finished\n",
      "[Parallel(n_jobs=-1)]: Using backend LokyBackend with 8 concurrent workers.\n"
     ]
    },
    {
     "name": "stdout",
     "output_type": "stream",
     "text": [
      "\n",
      "Accuracy of Logistic_Regression: 0.43138215094076027\n",
      "\n",
      "Batchwise_accuracies: [0.43138215094076027]\n",
      "\n",
      "Batchwise_Median_Accuracy: 0.43138215094076027\n",
      "\n",
      "Accumulated Accuracies:\n",
      "{'Logistic_Regression': {'Optuna': [0.46279279558254016, 0.4274040750073275, 0.37198526681218375, 0.4565850335335094, 0.40799655195011414, 0.43138215094076027], 'HyperOpt': []}, 'SGD_Classifier': {'Optuna': [], 'HyperOpt': []}, 'Random Forest': {'Optuna': [], 'HyperOpt': []}, 'Ada_Boost': {'Optuna': [], 'HyperOpt': []}, 'Grad_Boost': {'Optuna': [], 'HyperOpt': []}, 'Bagging_Classifier': {'Optuna': [], 'HyperOpt': []}, 'ExtraTreesClassifier': {'Optuna': [], 'HyperOpt': []}, 'Hist_Grad_Boost_Classifier': {'Optuna': [], 'HyperOpt': []}, 'Decision_Tree_Classifier': {'Optuna': [], 'HyperOpt': []}, 'XGB_Classifier': {'Optuna': [], 'HyperOpt': []}, 'KNN_Classifier': {'Optuna': [], 'HyperOpt': []}}\n",
      "\n",
      "\n",
      "Batch 2\n",
      "\"\\nSpace: {'penalty': 'l2'}\"\n"
     ]
    },
    {
     "name": "stderr",
     "output_type": "stream",
     "text": [
      "[Parallel(n_jobs=-1)]: Done   3 out of   3 | elapsed:   10.3s finished\n",
      "[Parallel(n_jobs=-1)]: Using backend LokyBackend with 8 concurrent workers.\n"
     ]
    },
    {
     "name": "stdout",
     "output_type": "stream",
     "text": [
      "\n",
      "Accuracy of Logistic_Regression: 0.41100531394321377\n",
      "\n",
      "Batchwise_accuracies: [0.43138215094076027, 0.41100531394321377]\n",
      "\n",
      "Batchwise_Median_Accuracy: 0.421193732441987\n",
      "\n",
      "Accumulated Accuracies:\n",
      "{'Logistic_Regression': {'Optuna': [0.46279279558254016, 0.4274040750073275, 0.37198526681218375, 0.4565850335335094, 0.40799655195011414, 0.43138215094076027, 0.41100531394321377], 'HyperOpt': []}, 'SGD_Classifier': {'Optuna': [], 'HyperOpt': []}, 'Random Forest': {'Optuna': [], 'HyperOpt': []}, 'Ada_Boost': {'Optuna': [], 'HyperOpt': []}, 'Grad_Boost': {'Optuna': [], 'HyperOpt': []}, 'Bagging_Classifier': {'Optuna': [], 'HyperOpt': []}, 'ExtraTreesClassifier': {'Optuna': [], 'HyperOpt': []}, 'Hist_Grad_Boost_Classifier': {'Optuna': [], 'HyperOpt': []}, 'Decision_Tree_Classifier': {'Optuna': [], 'HyperOpt': []}, 'XGB_Classifier': {'Optuna': [], 'HyperOpt': []}, 'KNN_Classifier': {'Optuna': [], 'HyperOpt': []}}\n",
      "\n",
      "\n",
      "Batch 3\n",
      "\"\\nSpace: {'penalty': 'l2'}\"\n"
     ]
    },
    {
     "name": "stderr",
     "output_type": "stream",
     "text": [
      "[Parallel(n_jobs=-1)]: Done   3 out of   3 | elapsed:   10.5s finished\n",
      "[Parallel(n_jobs=-1)]: Using backend LokyBackend with 8 concurrent workers.\n"
     ]
    },
    {
     "name": "stdout",
     "output_type": "stream",
     "text": [
      "\n",
      "Accuracy of Logistic_Regression: 0.37338486684415817\n",
      "\n",
      "Batchwise_accuracies: [0.43138215094076027, 0.41100531394321377, 0.37338486684415817]\n",
      "\n",
      "Batchwise_Median_Accuracy: 0.41100531394321377\n",
      "\n",
      "Accumulated Accuracies:\n",
      "{'Logistic_Regression': {'Optuna': [0.46279279558254016, 0.4274040750073275, 0.37198526681218375, 0.4565850335335094, 0.40799655195011414, 0.43138215094076027, 0.41100531394321377, 0.37338486684415817], 'HyperOpt': []}, 'SGD_Classifier': {'Optuna': [], 'HyperOpt': []}, 'Random Forest': {'Optuna': [], 'HyperOpt': []}, 'Ada_Boost': {'Optuna': [], 'HyperOpt': []}, 'Grad_Boost': {'Optuna': [], 'HyperOpt': []}, 'Bagging_Classifier': {'Optuna': [], 'HyperOpt': []}, 'ExtraTreesClassifier': {'Optuna': [], 'HyperOpt': []}, 'Hist_Grad_Boost_Classifier': {'Optuna': [], 'HyperOpt': []}, 'Decision_Tree_Classifier': {'Optuna': [], 'HyperOpt': []}, 'XGB_Classifier': {'Optuna': [], 'HyperOpt': []}, 'KNN_Classifier': {'Optuna': [], 'HyperOpt': []}}\n",
      "\n",
      "\n",
      "Batch 4\n",
      "\"\\nSpace: {'penalty': 'l2'}\"\n"
     ]
    },
    {
     "name": "stderr",
     "output_type": "stream",
     "text": [
      "[Parallel(n_jobs=-1)]: Done   3 out of   3 | elapsed:   10.6s finished\n",
      "[Parallel(n_jobs=-1)]: Using backend LokyBackend with 8 concurrent workers.\n"
     ]
    },
    {
     "name": "stdout",
     "output_type": "stream",
     "text": [
      "\n",
      "Accuracy of Logistic_Regression: 0.4611895147981208\n",
      "\n",
      "Batchwise_accuracies: [0.43138215094076027, 0.41100531394321377, 0.37338486684415817, 0.4611895147981208]\n",
      "\n",
      "Batchwise_Median_Accuracy: 0.421193732441987\n",
      "\n",
      "Accumulated Accuracies:\n",
      "{'Logistic_Regression': {'Optuna': [0.46279279558254016, 0.4274040750073275, 0.37198526681218375, 0.4565850335335094, 0.40799655195011414, 0.43138215094076027, 0.41100531394321377, 0.37338486684415817, 0.4611895147981208], 'HyperOpt': []}, 'SGD_Classifier': {'Optuna': [], 'HyperOpt': []}, 'Random Forest': {'Optuna': [], 'HyperOpt': []}, 'Ada_Boost': {'Optuna': [], 'HyperOpt': []}, 'Grad_Boost': {'Optuna': [], 'HyperOpt': []}, 'Bagging_Classifier': {'Optuna': [], 'HyperOpt': []}, 'ExtraTreesClassifier': {'Optuna': [], 'HyperOpt': []}, 'Hist_Grad_Boost_Classifier': {'Optuna': [], 'HyperOpt': []}, 'Decision_Tree_Classifier': {'Optuna': [], 'HyperOpt': []}, 'XGB_Classifier': {'Optuna': [], 'HyperOpt': []}, 'KNN_Classifier': {'Optuna': [], 'HyperOpt': []}}\n",
      "\n",
      "\n",
      "Batch 5\n",
      "\"\\nSpace: {'penalty': 'l2'}\"\n"
     ]
    },
    {
     "name": "stderr",
     "output_type": "stream",
     "text": [
      "[Parallel(n_jobs=-1)]: Done   3 out of   3 | elapsed:   10.1s finished\n",
      "[Parallel(n_jobs=-1)]: Using backend LokyBackend with 8 concurrent workers.\n"
     ]
    },
    {
     "name": "stdout",
     "output_type": "stream",
     "text": [
      "\n",
      "Accuracy of Logistic_Regression: 0.412395672126079\n",
      "\n",
      "Batchwise_accuracies: [0.43138215094076027, 0.41100531394321377, 0.37338486684415817, 0.4611895147981208, 0.412395672126079]\n",
      "\n",
      "Batchwise_Median_Accuracy: 0.412395672126079\n",
      "\n",
      "Accumulated Accuracies:\n",
      "{'Logistic_Regression': {'Optuna': [0.46279279558254016, 0.4274040750073275, 0.37198526681218375, 0.4565850335335094, 0.40799655195011414, 0.43138215094076027, 0.41100531394321377, 0.37338486684415817, 0.4611895147981208, 0.412395672126079], 'HyperOpt': []}, 'SGD_Classifier': {'Optuna': [], 'HyperOpt': []}, 'Random Forest': {'Optuna': [], 'HyperOpt': []}, 'Ada_Boost': {'Optuna': [], 'HyperOpt': []}, 'Grad_Boost': {'Optuna': [], 'HyperOpt': []}, 'Bagging_Classifier': {'Optuna': [], 'HyperOpt': []}, 'ExtraTreesClassifier': {'Optuna': [], 'HyperOpt': []}, 'Hist_Grad_Boost_Classifier': {'Optuna': [], 'HyperOpt': []}, 'Decision_Tree_Classifier': {'Optuna': [], 'HyperOpt': []}, 'XGB_Classifier': {'Optuna': [], 'HyperOpt': []}, 'KNN_Classifier': {'Optuna': [], 'HyperOpt': []}}\n",
      "\n",
      "\n",
      "Batch 6\n",
      "\"\\nSpace: {'penalty': 'l2'}\"\n"
     ]
    },
    {
     "name": "stderr",
     "output_type": "stream",
     "text": [
      "[Parallel(n_jobs=-1)]: Done   3 out of   3 | elapsed:   10.4s finished\n",
      "[Parallel(n_jobs=-1)]: Using backend LokyBackend with 8 concurrent workers.\n"
     ]
    },
    {
     "name": "stdout",
     "output_type": "stream",
     "text": [
      "\n",
      "Accuracy of Logistic_Regression: 0.47438819559017364\n",
      "\n",
      "Batchwise_accuracies: [0.43138215094076027, 0.41100531394321377, 0.37338486684415817, 0.4611895147981208, 0.412395672126079, 0.47438819559017364]\n",
      "\n",
      "Batchwise_Median_Accuracy: 0.4218889115334197\n",
      "\n",
      "Accumulated Accuracies:\n",
      "{'Logistic_Regression': {'Optuna': [0.46279279558254016, 0.4274040750073275, 0.37198526681218375, 0.4565850335335094, 0.40799655195011414, 0.43138215094076027, 0.41100531394321377, 0.37338486684415817, 0.4611895147981208, 0.412395672126079, 0.47438819559017364], 'HyperOpt': []}, 'SGD_Classifier': {'Optuna': [], 'HyperOpt': []}, 'Random Forest': {'Optuna': [], 'HyperOpt': []}, 'Ada_Boost': {'Optuna': [], 'HyperOpt': []}, 'Grad_Boost': {'Optuna': [], 'HyperOpt': []}, 'Bagging_Classifier': {'Optuna': [], 'HyperOpt': []}, 'ExtraTreesClassifier': {'Optuna': [], 'HyperOpt': []}, 'Hist_Grad_Boost_Classifier': {'Optuna': [], 'HyperOpt': []}, 'Decision_Tree_Classifier': {'Optuna': [], 'HyperOpt': []}, 'XGB_Classifier': {'Optuna': [], 'HyperOpt': []}, 'KNN_Classifier': {'Optuna': [], 'HyperOpt': []}}\n",
      "\n",
      "\n",
      "Batch 7\n",
      "\"\\nSpace: {'penalty': 'l2'}\"\n"
     ]
    },
    {
     "name": "stderr",
     "output_type": "stream",
     "text": [
      "[Parallel(n_jobs=-1)]: Done   3 out of   3 | elapsed:   11.1s finished\n",
      "[Parallel(n_jobs=-1)]: Using backend LokyBackend with 8 concurrent workers.\n"
     ]
    },
    {
     "name": "stdout",
     "output_type": "stream",
     "text": [
      "\n",
      "Accuracy of Logistic_Regression: 0.47601140036098427\n",
      "\n",
      "Batchwise_accuracies: [0.43138215094076027, 0.41100531394321377, 0.37338486684415817, 0.4611895147981208, 0.412395672126079, 0.47438819559017364, 0.47601140036098427]\n",
      "\n",
      "Batchwise_Median_Accuracy: 0.43138215094076027\n",
      "\n",
      "Accumulated Accuracies:\n",
      "{'Logistic_Regression': {'Optuna': [0.46279279558254016, 0.4274040750073275, 0.37198526681218375, 0.4565850335335094, 0.40799655195011414, 0.43138215094076027, 0.41100531394321377, 0.37338486684415817, 0.4611895147981208, 0.412395672126079, 0.47438819559017364, 0.47601140036098427], 'HyperOpt': []}, 'SGD_Classifier': {'Optuna': [], 'HyperOpt': []}, 'Random Forest': {'Optuna': [], 'HyperOpt': []}, 'Ada_Boost': {'Optuna': [], 'HyperOpt': []}, 'Grad_Boost': {'Optuna': [], 'HyperOpt': []}, 'Bagging_Classifier': {'Optuna': [], 'HyperOpt': []}, 'ExtraTreesClassifier': {'Optuna': [], 'HyperOpt': []}, 'Hist_Grad_Boost_Classifier': {'Optuna': [], 'HyperOpt': []}, 'Decision_Tree_Classifier': {'Optuna': [], 'HyperOpt': []}, 'XGB_Classifier': {'Optuna': [], 'HyperOpt': []}, 'KNN_Classifier': {'Optuna': [], 'HyperOpt': []}}\n",
      "\n",
      "\n",
      "Batch 8\n",
      "\"\\nSpace: {'penalty': 'l2'}\"\n"
     ]
    },
    {
     "name": "stderr",
     "output_type": "stream",
     "text": [
      "[Parallel(n_jobs=-1)]: Done   3 out of   3 | elapsed:   10.5s finished\n",
      "[Parallel(n_jobs=-1)]: Using backend LokyBackend with 8 concurrent workers.\n"
     ]
    },
    {
     "name": "stdout",
     "output_type": "stream",
     "text": [
      "\n",
      "Accuracy of Logistic_Regression: 0.462385074005607\n",
      "\n",
      "Batchwise_accuracies: [0.43138215094076027, 0.41100531394321377, 0.37338486684415817, 0.4611895147981208, 0.412395672126079, 0.47438819559017364, 0.47601140036098427, 0.462385074005607]\n",
      "\n",
      "Batchwise_Median_Accuracy: 0.44628583286944057\n",
      "\n",
      "Accumulated Accuracies:\n",
      "{'Logistic_Regression': {'Optuna': [0.46279279558254016, 0.4274040750073275, 0.37198526681218375, 0.4565850335335094, 0.40799655195011414, 0.43138215094076027, 0.41100531394321377, 0.37338486684415817, 0.4611895147981208, 0.412395672126079, 0.47438819559017364, 0.47601140036098427, 0.462385074005607], 'HyperOpt': []}, 'SGD_Classifier': {'Optuna': [], 'HyperOpt': []}, 'Random Forest': {'Optuna': [], 'HyperOpt': []}, 'Ada_Boost': {'Optuna': [], 'HyperOpt': []}, 'Grad_Boost': {'Optuna': [], 'HyperOpt': []}, 'Bagging_Classifier': {'Optuna': [], 'HyperOpt': []}, 'ExtraTreesClassifier': {'Optuna': [], 'HyperOpt': []}, 'Hist_Grad_Boost_Classifier': {'Optuna': [], 'HyperOpt': []}, 'Decision_Tree_Classifier': {'Optuna': [], 'HyperOpt': []}, 'XGB_Classifier': {'Optuna': [], 'HyperOpt': []}, 'KNN_Classifier': {'Optuna': [], 'HyperOpt': []}}\n",
      "\n",
      "\n",
      "Batch 9\n",
      "\"\\nSpace: {'penalty': 'l2'}\"\n"
     ]
    },
    {
     "name": "stderr",
     "output_type": "stream",
     "text": [
      "[Parallel(n_jobs=-1)]: Done   3 out of   3 | elapsed:   10.8s finished\n",
      "[I 2024-01-28 19:51:10,335] Trial 1 pruned. \n",
      "[Parallel(n_jobs=-1)]: Using backend LokyBackend with 8 concurrent workers.\n"
     ]
    },
    {
     "name": "stdout",
     "output_type": "stream",
     "text": [
      "\n",
      "Accuracy of Logistic_Regression: 0.4256062352955579\n",
      "\n",
      "Batchwise_accuracies: [0.43138215094076027, 0.41100531394321377, 0.37338486684415817, 0.4611895147981208, 0.412395672126079, 0.47438819559017364, 0.47601140036098427, 0.462385074005607, 0.4256062352955579]\n",
      "\n",
      "Batchwise_Median_Accuracy: 0.43138215094076027\n",
      "\n",
      "Accumulated Accuracies:\n",
      "{'Logistic_Regression': {'Optuna': [0.46279279558254016, 0.4274040750073275, 0.37198526681218375, 0.4565850335335094, 0.40799655195011414, 0.43138215094076027, 0.41100531394321377, 0.37338486684415817, 0.4611895147981208, 0.412395672126079, 0.47438819559017364, 0.47601140036098427, 0.462385074005607, 0.4256062352955579], 'HyperOpt': []}, 'SGD_Classifier': {'Optuna': [], 'HyperOpt': []}, 'Random Forest': {'Optuna': [], 'HyperOpt': []}, 'Ada_Boost': {'Optuna': [], 'HyperOpt': []}, 'Grad_Boost': {'Optuna': [], 'HyperOpt': []}, 'Bagging_Classifier': {'Optuna': [], 'HyperOpt': []}, 'ExtraTreesClassifier': {'Optuna': [], 'HyperOpt': []}, 'Hist_Grad_Boost_Classifier': {'Optuna': [], 'HyperOpt': []}, 'Decision_Tree_Classifier': {'Optuna': [], 'HyperOpt': []}, 'XGB_Classifier': {'Optuna': [], 'HyperOpt': []}, 'KNN_Classifier': {'Optuna': [], 'HyperOpt': []}}\n",
      "\n",
      "\n",
      "**************\n",
      "Trial_Number: 2\n",
      "**************\n",
      "\n",
      "Batch 1\n",
      "\"\\nSpace: {'penalty': 'l2'}\"\n"
     ]
    },
    {
     "name": "stderr",
     "output_type": "stream",
     "text": [
      "[Parallel(n_jobs=-1)]: Done   3 out of   3 | elapsed:   11.5s finished\n",
      "[Parallel(n_jobs=-1)]: Using backend LokyBackend with 8 concurrent workers.\n"
     ]
    },
    {
     "name": "stdout",
     "output_type": "stream",
     "text": [
      "\n",
      "Accuracy of Logistic_Regression: 0.43138215094076027\n",
      "\n",
      "Batchwise_accuracies: [0.43138215094076027]\n",
      "\n",
      "Batchwise_Median_Accuracy: 0.43138215094076027\n",
      "\n",
      "Accumulated Accuracies:\n",
      "{'Logistic_Regression': {'Optuna': [0.46279279558254016, 0.4274040750073275, 0.37198526681218375, 0.4565850335335094, 0.40799655195011414, 0.43138215094076027, 0.41100531394321377, 0.37338486684415817, 0.4611895147981208, 0.412395672126079, 0.47438819559017364, 0.47601140036098427, 0.462385074005607, 0.4256062352955579, 0.43138215094076027], 'HyperOpt': []}, 'SGD_Classifier': {'Optuna': [], 'HyperOpt': []}, 'Random Forest': {'Optuna': [], 'HyperOpt': []}, 'Ada_Boost': {'Optuna': [], 'HyperOpt': []}, 'Grad_Boost': {'Optuna': [], 'HyperOpt': []}, 'Bagging_Classifier': {'Optuna': [], 'HyperOpt': []}, 'ExtraTreesClassifier': {'Optuna': [], 'HyperOpt': []}, 'Hist_Grad_Boost_Classifier': {'Optuna': [], 'HyperOpt': []}, 'Decision_Tree_Classifier': {'Optuna': [], 'HyperOpt': []}, 'XGB_Classifier': {'Optuna': [], 'HyperOpt': []}, 'KNN_Classifier': {'Optuna': [], 'HyperOpt': []}}\n",
      "\n",
      "\n",
      "Batch 2\n",
      "\"\\nSpace: {'penalty': 'l2'}\"\n"
     ]
    },
    {
     "name": "stderr",
     "output_type": "stream",
     "text": [
      "[Parallel(n_jobs=-1)]: Done   3 out of   3 | elapsed:   12.0s finished\n",
      "[Parallel(n_jobs=-1)]: Using backend LokyBackend with 8 concurrent workers.\n"
     ]
    },
    {
     "name": "stdout",
     "output_type": "stream",
     "text": [
      "\n",
      "Accuracy of Logistic_Regression: 0.41100531394321377\n",
      "\n",
      "Batchwise_accuracies: [0.43138215094076027, 0.41100531394321377]\n",
      "\n",
      "Batchwise_Median_Accuracy: 0.421193732441987\n",
      "\n",
      "Accumulated Accuracies:\n",
      "{'Logistic_Regression': {'Optuna': [0.46279279558254016, 0.4274040750073275, 0.37198526681218375, 0.4565850335335094, 0.40799655195011414, 0.43138215094076027, 0.41100531394321377, 0.37338486684415817, 0.4611895147981208, 0.412395672126079, 0.47438819559017364, 0.47601140036098427, 0.462385074005607, 0.4256062352955579, 0.43138215094076027, 0.41100531394321377], 'HyperOpt': []}, 'SGD_Classifier': {'Optuna': [], 'HyperOpt': []}, 'Random Forest': {'Optuna': [], 'HyperOpt': []}, 'Ada_Boost': {'Optuna': [], 'HyperOpt': []}, 'Grad_Boost': {'Optuna': [], 'HyperOpt': []}, 'Bagging_Classifier': {'Optuna': [], 'HyperOpt': []}, 'ExtraTreesClassifier': {'Optuna': [], 'HyperOpt': []}, 'Hist_Grad_Boost_Classifier': {'Optuna': [], 'HyperOpt': []}, 'Decision_Tree_Classifier': {'Optuna': [], 'HyperOpt': []}, 'XGB_Classifier': {'Optuna': [], 'HyperOpt': []}, 'KNN_Classifier': {'Optuna': [], 'HyperOpt': []}}\n",
      "\n",
      "\n",
      "Batch 3\n",
      "\"\\nSpace: {'penalty': 'l2'}\"\n"
     ]
    },
    {
     "name": "stderr",
     "output_type": "stream",
     "text": [
      "[Parallel(n_jobs=-1)]: Done   3 out of   3 | elapsed:   13.6s finished\n",
      "[Parallel(n_jobs=-1)]: Using backend LokyBackend with 8 concurrent workers.\n"
     ]
    },
    {
     "name": "stdout",
     "output_type": "stream",
     "text": [
      "\n",
      "Accuracy of Logistic_Regression: 0.37338486684415817\n",
      "\n",
      "Batchwise_accuracies: [0.43138215094076027, 0.41100531394321377, 0.37338486684415817]\n",
      "\n",
      "Batchwise_Median_Accuracy: 0.41100531394321377\n",
      "\n",
      "Accumulated Accuracies:\n",
      "{'Logistic_Regression': {'Optuna': [0.46279279558254016, 0.4274040750073275, 0.37198526681218375, 0.4565850335335094, 0.40799655195011414, 0.43138215094076027, 0.41100531394321377, 0.37338486684415817, 0.4611895147981208, 0.412395672126079, 0.47438819559017364, 0.47601140036098427, 0.462385074005607, 0.4256062352955579, 0.43138215094076027, 0.41100531394321377, 0.37338486684415817], 'HyperOpt': []}, 'SGD_Classifier': {'Optuna': [], 'HyperOpt': []}, 'Random Forest': {'Optuna': [], 'HyperOpt': []}, 'Ada_Boost': {'Optuna': [], 'HyperOpt': []}, 'Grad_Boost': {'Optuna': [], 'HyperOpt': []}, 'Bagging_Classifier': {'Optuna': [], 'HyperOpt': []}, 'ExtraTreesClassifier': {'Optuna': [], 'HyperOpt': []}, 'Hist_Grad_Boost_Classifier': {'Optuna': [], 'HyperOpt': []}, 'Decision_Tree_Classifier': {'Optuna': [], 'HyperOpt': []}, 'XGB_Classifier': {'Optuna': [], 'HyperOpt': []}, 'KNN_Classifier': {'Optuna': [], 'HyperOpt': []}}\n",
      "\n",
      "\n",
      "Batch 4\n",
      "\"\\nSpace: {'penalty': 'l2'}\"\n"
     ]
    },
    {
     "name": "stderr",
     "output_type": "stream",
     "text": [
      "[Parallel(n_jobs=-1)]: Done   3 out of   3 | elapsed:   11.8s finished\n",
      "[Parallel(n_jobs=-1)]: Using backend LokyBackend with 8 concurrent workers.\n"
     ]
    },
    {
     "name": "stdout",
     "output_type": "stream",
     "text": [
      "\n",
      "Accuracy of Logistic_Regression: 0.4611895147981208\n",
      "\n",
      "Batchwise_accuracies: [0.43138215094076027, 0.41100531394321377, 0.37338486684415817, 0.4611895147981208]\n",
      "\n",
      "Batchwise_Median_Accuracy: 0.421193732441987\n",
      "\n",
      "Accumulated Accuracies:\n",
      "{'Logistic_Regression': {'Optuna': [0.46279279558254016, 0.4274040750073275, 0.37198526681218375, 0.4565850335335094, 0.40799655195011414, 0.43138215094076027, 0.41100531394321377, 0.37338486684415817, 0.4611895147981208, 0.412395672126079, 0.47438819559017364, 0.47601140036098427, 0.462385074005607, 0.4256062352955579, 0.43138215094076027, 0.41100531394321377, 0.37338486684415817, 0.4611895147981208], 'HyperOpt': []}, 'SGD_Classifier': {'Optuna': [], 'HyperOpt': []}, 'Random Forest': {'Optuna': [], 'HyperOpt': []}, 'Ada_Boost': {'Optuna': [], 'HyperOpt': []}, 'Grad_Boost': {'Optuna': [], 'HyperOpt': []}, 'Bagging_Classifier': {'Optuna': [], 'HyperOpt': []}, 'ExtraTreesClassifier': {'Optuna': [], 'HyperOpt': []}, 'Hist_Grad_Boost_Classifier': {'Optuna': [], 'HyperOpt': []}, 'Decision_Tree_Classifier': {'Optuna': [], 'HyperOpt': []}, 'XGB_Classifier': {'Optuna': [], 'HyperOpt': []}, 'KNN_Classifier': {'Optuna': [], 'HyperOpt': []}}\n",
      "\n",
      "\n",
      "Batch 5\n",
      "\"\\nSpace: {'penalty': 'l2'}\"\n"
     ]
    },
    {
     "name": "stderr",
     "output_type": "stream",
     "text": [
      "[Parallel(n_jobs=-1)]: Done   3 out of   3 | elapsed:   11.2s finished\n",
      "[Parallel(n_jobs=-1)]: Using backend LokyBackend with 8 concurrent workers.\n"
     ]
    },
    {
     "name": "stdout",
     "output_type": "stream",
     "text": [
      "\n",
      "Accuracy of Logistic_Regression: 0.412395672126079\n",
      "\n",
      "Batchwise_accuracies: [0.43138215094076027, 0.41100531394321377, 0.37338486684415817, 0.4611895147981208, 0.412395672126079]\n",
      "\n",
      "Batchwise_Median_Accuracy: 0.412395672126079\n",
      "\n",
      "Accumulated Accuracies:\n",
      "{'Logistic_Regression': {'Optuna': [0.46279279558254016, 0.4274040750073275, 0.37198526681218375, 0.4565850335335094, 0.40799655195011414, 0.43138215094076027, 0.41100531394321377, 0.37338486684415817, 0.4611895147981208, 0.412395672126079, 0.47438819559017364, 0.47601140036098427, 0.462385074005607, 0.4256062352955579, 0.43138215094076027, 0.41100531394321377, 0.37338486684415817, 0.4611895147981208, 0.412395672126079], 'HyperOpt': []}, 'SGD_Classifier': {'Optuna': [], 'HyperOpt': []}, 'Random Forest': {'Optuna': [], 'HyperOpt': []}, 'Ada_Boost': {'Optuna': [], 'HyperOpt': []}, 'Grad_Boost': {'Optuna': [], 'HyperOpt': []}, 'Bagging_Classifier': {'Optuna': [], 'HyperOpt': []}, 'ExtraTreesClassifier': {'Optuna': [], 'HyperOpt': []}, 'Hist_Grad_Boost_Classifier': {'Optuna': [], 'HyperOpt': []}, 'Decision_Tree_Classifier': {'Optuna': [], 'HyperOpt': []}, 'XGB_Classifier': {'Optuna': [], 'HyperOpt': []}, 'KNN_Classifier': {'Optuna': [], 'HyperOpt': []}}\n",
      "\n",
      "\n",
      "Batch 6\n",
      "\"\\nSpace: {'penalty': 'l2'}\"\n"
     ]
    },
    {
     "name": "stderr",
     "output_type": "stream",
     "text": [
      "[Parallel(n_jobs=-1)]: Done   3 out of   3 | elapsed:   11.2s finished\n",
      "[Parallel(n_jobs=-1)]: Using backend LokyBackend with 8 concurrent workers.\n"
     ]
    },
    {
     "name": "stdout",
     "output_type": "stream",
     "text": [
      "\n",
      "Accuracy of Logistic_Regression: 0.47438819559017364\n",
      "\n",
      "Batchwise_accuracies: [0.43138215094076027, 0.41100531394321377, 0.37338486684415817, 0.4611895147981208, 0.412395672126079, 0.47438819559017364]\n",
      "\n",
      "Batchwise_Median_Accuracy: 0.4218889115334197\n",
      "\n",
      "Accumulated Accuracies:\n",
      "{'Logistic_Regression': {'Optuna': [0.46279279558254016, 0.4274040750073275, 0.37198526681218375, 0.4565850335335094, 0.40799655195011414, 0.43138215094076027, 0.41100531394321377, 0.37338486684415817, 0.4611895147981208, 0.412395672126079, 0.47438819559017364, 0.47601140036098427, 0.462385074005607, 0.4256062352955579, 0.43138215094076027, 0.41100531394321377, 0.37338486684415817, 0.4611895147981208, 0.412395672126079, 0.47438819559017364], 'HyperOpt': []}, 'SGD_Classifier': {'Optuna': [], 'HyperOpt': []}, 'Random Forest': {'Optuna': [], 'HyperOpt': []}, 'Ada_Boost': {'Optuna': [], 'HyperOpt': []}, 'Grad_Boost': {'Optuna': [], 'HyperOpt': []}, 'Bagging_Classifier': {'Optuna': [], 'HyperOpt': []}, 'ExtraTreesClassifier': {'Optuna': [], 'HyperOpt': []}, 'Hist_Grad_Boost_Classifier': {'Optuna': [], 'HyperOpt': []}, 'Decision_Tree_Classifier': {'Optuna': [], 'HyperOpt': []}, 'XGB_Classifier': {'Optuna': [], 'HyperOpt': []}, 'KNN_Classifier': {'Optuna': [], 'HyperOpt': []}}\n",
      "\n",
      "\n",
      "Batch 7\n",
      "\"\\nSpace: {'penalty': 'l2'}\"\n"
     ]
    },
    {
     "name": "stderr",
     "output_type": "stream",
     "text": [
      "[Parallel(n_jobs=-1)]: Done   3 out of   3 | elapsed:   11.7s finished\n",
      "[Parallel(n_jobs=-1)]: Using backend LokyBackend with 8 concurrent workers.\n"
     ]
    },
    {
     "name": "stdout",
     "output_type": "stream",
     "text": [
      "\n",
      "Accuracy of Logistic_Regression: 0.47601140036098427\n",
      "\n",
      "Batchwise_accuracies: [0.43138215094076027, 0.41100531394321377, 0.37338486684415817, 0.4611895147981208, 0.412395672126079, 0.47438819559017364, 0.47601140036098427]\n",
      "\n",
      "Batchwise_Median_Accuracy: 0.43138215094076027\n",
      "\n",
      "Accumulated Accuracies:\n",
      "{'Logistic_Regression': {'Optuna': [0.46279279558254016, 0.4274040750073275, 0.37198526681218375, 0.4565850335335094, 0.40799655195011414, 0.43138215094076027, 0.41100531394321377, 0.37338486684415817, 0.4611895147981208, 0.412395672126079, 0.47438819559017364, 0.47601140036098427, 0.462385074005607, 0.4256062352955579, 0.43138215094076027, 0.41100531394321377, 0.37338486684415817, 0.4611895147981208, 0.412395672126079, 0.47438819559017364, 0.47601140036098427], 'HyperOpt': []}, 'SGD_Classifier': {'Optuna': [], 'HyperOpt': []}, 'Random Forest': {'Optuna': [], 'HyperOpt': []}, 'Ada_Boost': {'Optuna': [], 'HyperOpt': []}, 'Grad_Boost': {'Optuna': [], 'HyperOpt': []}, 'Bagging_Classifier': {'Optuna': [], 'HyperOpt': []}, 'ExtraTreesClassifier': {'Optuna': [], 'HyperOpt': []}, 'Hist_Grad_Boost_Classifier': {'Optuna': [], 'HyperOpt': []}, 'Decision_Tree_Classifier': {'Optuna': [], 'HyperOpt': []}, 'XGB_Classifier': {'Optuna': [], 'HyperOpt': []}, 'KNN_Classifier': {'Optuna': [], 'HyperOpt': []}}\n",
      "\n",
      "\n",
      "Batch 8\n",
      "\"\\nSpace: {'penalty': 'l2'}\"\n"
     ]
    },
    {
     "name": "stderr",
     "output_type": "stream",
     "text": [
      "[Parallel(n_jobs=-1)]: Done   3 out of   3 | elapsed:   11.3s finished\n",
      "[Parallel(n_jobs=-1)]: Using backend LokyBackend with 8 concurrent workers.\n"
     ]
    },
    {
     "name": "stdout",
     "output_type": "stream",
     "text": [
      "\n",
      "Accuracy of Logistic_Regression: 0.462385074005607\n",
      "\n",
      "Batchwise_accuracies: [0.43138215094076027, 0.41100531394321377, 0.37338486684415817, 0.4611895147981208, 0.412395672126079, 0.47438819559017364, 0.47601140036098427, 0.462385074005607]\n",
      "\n",
      "Batchwise_Median_Accuracy: 0.44628583286944057\n",
      "\n",
      "Accumulated Accuracies:\n",
      "{'Logistic_Regression': {'Optuna': [0.46279279558254016, 0.4274040750073275, 0.37198526681218375, 0.4565850335335094, 0.40799655195011414, 0.43138215094076027, 0.41100531394321377, 0.37338486684415817, 0.4611895147981208, 0.412395672126079, 0.47438819559017364, 0.47601140036098427, 0.462385074005607, 0.4256062352955579, 0.43138215094076027, 0.41100531394321377, 0.37338486684415817, 0.4611895147981208, 0.412395672126079, 0.47438819559017364, 0.47601140036098427, 0.462385074005607], 'HyperOpt': []}, 'SGD_Classifier': {'Optuna': [], 'HyperOpt': []}, 'Random Forest': {'Optuna': [], 'HyperOpt': []}, 'Ada_Boost': {'Optuna': [], 'HyperOpt': []}, 'Grad_Boost': {'Optuna': [], 'HyperOpt': []}, 'Bagging_Classifier': {'Optuna': [], 'HyperOpt': []}, 'ExtraTreesClassifier': {'Optuna': [], 'HyperOpt': []}, 'Hist_Grad_Boost_Classifier': {'Optuna': [], 'HyperOpt': []}, 'Decision_Tree_Classifier': {'Optuna': [], 'HyperOpt': []}, 'XGB_Classifier': {'Optuna': [], 'HyperOpt': []}, 'KNN_Classifier': {'Optuna': [], 'HyperOpt': []}}\n",
      "\n",
      "\n",
      "Batch 9\n",
      "\"\\nSpace: {'penalty': 'l2'}\"\n"
     ]
    },
    {
     "name": "stderr",
     "output_type": "stream",
     "text": [
      "[Parallel(n_jobs=-1)]: Done   3 out of   3 | elapsed:   11.5s finished\n",
      "[I 2024-01-28 19:52:58,180] Trial 2 pruned. \n",
      "[I 2024-01-28 19:52:58,181] A new study created in memory with name: no-name-ebb7d5d6-a56c-4436-ab54-dd060f387c9e\n",
      "[Parallel(n_jobs=-1)]: Using backend LokyBackend with 8 concurrent workers.\n"
     ]
    },
    {
     "name": "stdout",
     "output_type": "stream",
     "text": [
      "\n",
      "Accuracy of Logistic_Regression: 0.4256062352955579\n",
      "\n",
      "Batchwise_accuracies: [0.43138215094076027, 0.41100531394321377, 0.37338486684415817, 0.4611895147981208, 0.412395672126079, 0.47438819559017364, 0.47601140036098427, 0.462385074005607, 0.4256062352955579]\n",
      "\n",
      "Batchwise_Median_Accuracy: 0.43138215094076027\n",
      "\n",
      "Accumulated Accuracies:\n",
      "{'Logistic_Regression': {'Optuna': [0.46279279558254016, 0.4274040750073275, 0.37198526681218375, 0.4565850335335094, 0.40799655195011414, 0.43138215094076027, 0.41100531394321377, 0.37338486684415817, 0.4611895147981208, 0.412395672126079, 0.47438819559017364, 0.47601140036098427, 0.462385074005607, 0.4256062352955579, 0.43138215094076027, 0.41100531394321377, 0.37338486684415817, 0.4611895147981208, 0.412395672126079, 0.47438819559017364, 0.47601140036098427, 0.462385074005607, 0.4256062352955579], 'HyperOpt': []}, 'SGD_Classifier': {'Optuna': [], 'HyperOpt': []}, 'Random Forest': {'Optuna': [], 'HyperOpt': []}, 'Ada_Boost': {'Optuna': [], 'HyperOpt': []}, 'Grad_Boost': {'Optuna': [], 'HyperOpt': []}, 'Bagging_Classifier': {'Optuna': [], 'HyperOpt': []}, 'ExtraTreesClassifier': {'Optuna': [], 'HyperOpt': []}, 'Hist_Grad_Boost_Classifier': {'Optuna': [], 'HyperOpt': []}, 'Decision_Tree_Classifier': {'Optuna': [], 'HyperOpt': []}, 'XGB_Classifier': {'Optuna': [], 'HyperOpt': []}, 'KNN_Classifier': {'Optuna': [], 'HyperOpt': []}}\n",
      "\n",
      "\n",
      "**************\n",
      "Trial_Number: 0\n",
      "**************\n",
      "\n",
      "Batch 1\n",
      "\"\\nSpace: {'loss': 'perceptron'}\"\n"
     ]
    },
    {
     "name": "stderr",
     "output_type": "stream",
     "text": [
      "[Parallel(n_jobs=-1)]: Done   3 out of   3 | elapsed:   11.1s finished\n",
      "[Parallel(n_jobs=-1)]: Using backend LokyBackend with 8 concurrent workers.\n"
     ]
    },
    {
     "name": "stdout",
     "output_type": "stream",
     "text": [
      "\n",
      "Accuracy of SGD_Classifier: 0.5031919186390813\n",
      "\n",
      "Batchwise_accuracies: [0.5031919186390813]\n",
      "\n",
      "Batchwise_Median_Accuracy: 0.5031919186390813\n",
      "\n",
      "Accumulated Accuracies:\n",
      "{'Logistic_Regression': {'Optuna': [0.46279279558254016, 0.4274040750073275, 0.37198526681218375, 0.4565850335335094, 0.40799655195011414, 0.43138215094076027, 0.41100531394321377, 0.37338486684415817, 0.4611895147981208, 0.412395672126079, 0.47438819559017364, 0.47601140036098427, 0.462385074005607, 0.4256062352955579, 0.43138215094076027, 0.41100531394321377, 0.37338486684415817, 0.4611895147981208, 0.412395672126079, 0.47438819559017364, 0.47601140036098427, 0.462385074005607, 0.4256062352955579], 'HyperOpt': []}, 'SGD_Classifier': {'Optuna': [0.5031919186390813], 'HyperOpt': []}, 'Random Forest': {'Optuna': [], 'HyperOpt': []}, 'Ada_Boost': {'Optuna': [], 'HyperOpt': []}, 'Grad_Boost': {'Optuna': [], 'HyperOpt': []}, 'Bagging_Classifier': {'Optuna': [], 'HyperOpt': []}, 'ExtraTreesClassifier': {'Optuna': [], 'HyperOpt': []}, 'Hist_Grad_Boost_Classifier': {'Optuna': [], 'HyperOpt': []}, 'Decision_Tree_Classifier': {'Optuna': [], 'HyperOpt': []}, 'XGB_Classifier': {'Optuna': [], 'HyperOpt': []}, 'KNN_Classifier': {'Optuna': [], 'HyperOpt': []}}\n",
      "\n",
      "\n",
      "Batch 2\n",
      "\"\\nSpace: {'loss': 'perceptron'}\"\n"
     ]
    },
    {
     "name": "stderr",
     "output_type": "stream",
     "text": [
      "[Parallel(n_jobs=-1)]: Done   3 out of   3 | elapsed:   11.4s finished\n",
      "[Parallel(n_jobs=-1)]: Using backend LokyBackend with 8 concurrent workers.\n"
     ]
    },
    {
     "name": "stdout",
     "output_type": "stream",
     "text": [
      "\n",
      "Accuracy of SGD_Classifier: 0.45941519979317463\n",
      "\n",
      "Batchwise_accuracies: [0.5031919186390813, 0.45941519979317463]\n",
      "\n",
      "Batchwise_Median_Accuracy: 0.481303559216128\n",
      "\n",
      "Accumulated Accuracies:\n",
      "{'Logistic_Regression': {'Optuna': [0.46279279558254016, 0.4274040750073275, 0.37198526681218375, 0.4565850335335094, 0.40799655195011414, 0.43138215094076027, 0.41100531394321377, 0.37338486684415817, 0.4611895147981208, 0.412395672126079, 0.47438819559017364, 0.47601140036098427, 0.462385074005607, 0.4256062352955579, 0.43138215094076027, 0.41100531394321377, 0.37338486684415817, 0.4611895147981208, 0.412395672126079, 0.47438819559017364, 0.47601140036098427, 0.462385074005607, 0.4256062352955579], 'HyperOpt': []}, 'SGD_Classifier': {'Optuna': [0.5031919186390813, 0.45941519979317463], 'HyperOpt': []}, 'Random Forest': {'Optuna': [], 'HyperOpt': []}, 'Ada_Boost': {'Optuna': [], 'HyperOpt': []}, 'Grad_Boost': {'Optuna': [], 'HyperOpt': []}, 'Bagging_Classifier': {'Optuna': [], 'HyperOpt': []}, 'ExtraTreesClassifier': {'Optuna': [], 'HyperOpt': []}, 'Hist_Grad_Boost_Classifier': {'Optuna': [], 'HyperOpt': []}, 'Decision_Tree_Classifier': {'Optuna': [], 'HyperOpt': []}, 'XGB_Classifier': {'Optuna': [], 'HyperOpt': []}, 'KNN_Classifier': {'Optuna': [], 'HyperOpt': []}}\n",
      "\n",
      "\n",
      "Batch 3\n",
      "\"\\nSpace: {'loss': 'perceptron'}\"\n"
     ]
    },
    {
     "name": "stderr",
     "output_type": "stream",
     "text": [
      "[Parallel(n_jobs=-1)]: Done   3 out of   3 | elapsed:   11.6s finished\n",
      "[Parallel(n_jobs=-1)]: Using backend LokyBackend with 8 concurrent workers.\n"
     ]
    },
    {
     "name": "stdout",
     "output_type": "stream",
     "text": [
      "\n",
      "Accuracy of SGD_Classifier: 0.5387783187660187\n",
      "\n",
      "Batchwise_accuracies: [0.5031919186390813, 0.45941519979317463, 0.5387783187660187]\n",
      "\n",
      "Batchwise_Median_Accuracy: 0.5031919186390813\n",
      "\n",
      "Accumulated Accuracies:\n",
      "{'Logistic_Regression': {'Optuna': [0.46279279558254016, 0.4274040750073275, 0.37198526681218375, 0.4565850335335094, 0.40799655195011414, 0.43138215094076027, 0.41100531394321377, 0.37338486684415817, 0.4611895147981208, 0.412395672126079, 0.47438819559017364, 0.47601140036098427, 0.462385074005607, 0.4256062352955579, 0.43138215094076027, 0.41100531394321377, 0.37338486684415817, 0.4611895147981208, 0.412395672126079, 0.47438819559017364, 0.47601140036098427, 0.462385074005607, 0.4256062352955579], 'HyperOpt': []}, 'SGD_Classifier': {'Optuna': [0.5031919186390813, 0.45941519979317463, 0.5387783187660187], 'HyperOpt': []}, 'Random Forest': {'Optuna': [], 'HyperOpt': []}, 'Ada_Boost': {'Optuna': [], 'HyperOpt': []}, 'Grad_Boost': {'Optuna': [], 'HyperOpt': []}, 'Bagging_Classifier': {'Optuna': [], 'HyperOpt': []}, 'ExtraTreesClassifier': {'Optuna': [], 'HyperOpt': []}, 'Hist_Grad_Boost_Classifier': {'Optuna': [], 'HyperOpt': []}, 'Decision_Tree_Classifier': {'Optuna': [], 'HyperOpt': []}, 'XGB_Classifier': {'Optuna': [], 'HyperOpt': []}, 'KNN_Classifier': {'Optuna': [], 'HyperOpt': []}}\n",
      "\n",
      "\n",
      "Batch 4\n",
      "\"\\nSpace: {'loss': 'perceptron'}\"\n"
     ]
    },
    {
     "name": "stderr",
     "output_type": "stream",
     "text": [
      "[Parallel(n_jobs=-1)]: Done   3 out of   3 | elapsed:   10.9s finished\n",
      "[Parallel(n_jobs=-1)]: Using backend LokyBackend with 8 concurrent workers.\n"
     ]
    },
    {
     "name": "stdout",
     "output_type": "stream",
     "text": [
      "\n",
      "Accuracy of SGD_Classifier: 0.4933956786073758\n",
      "\n",
      "Batchwise_accuracies: [0.5031919186390813, 0.45941519979317463, 0.5387783187660187, 0.4933956786073758]\n",
      "\n",
      "Batchwise_Median_Accuracy: 0.49829379862322853\n",
      "\n",
      "Accumulated Accuracies:\n",
      "{'Logistic_Regression': {'Optuna': [0.46279279558254016, 0.4274040750073275, 0.37198526681218375, 0.4565850335335094, 0.40799655195011414, 0.43138215094076027, 0.41100531394321377, 0.37338486684415817, 0.4611895147981208, 0.412395672126079, 0.47438819559017364, 0.47601140036098427, 0.462385074005607, 0.4256062352955579, 0.43138215094076027, 0.41100531394321377, 0.37338486684415817, 0.4611895147981208, 0.412395672126079, 0.47438819559017364, 0.47601140036098427, 0.462385074005607, 0.4256062352955579], 'HyperOpt': []}, 'SGD_Classifier': {'Optuna': [0.5031919186390813, 0.45941519979317463, 0.5387783187660187, 0.4933956786073758], 'HyperOpt': []}, 'Random Forest': {'Optuna': [], 'HyperOpt': []}, 'Ada_Boost': {'Optuna': [], 'HyperOpt': []}, 'Grad_Boost': {'Optuna': [], 'HyperOpt': []}, 'Bagging_Classifier': {'Optuna': [], 'HyperOpt': []}, 'ExtraTreesClassifier': {'Optuna': [], 'HyperOpt': []}, 'Hist_Grad_Boost_Classifier': {'Optuna': [], 'HyperOpt': []}, 'Decision_Tree_Classifier': {'Optuna': [], 'HyperOpt': []}, 'XGB_Classifier': {'Optuna': [], 'HyperOpt': []}, 'KNN_Classifier': {'Optuna': [], 'HyperOpt': []}}\n",
      "\n",
      "\n",
      "Batch 5\n",
      "\"\\nSpace: {'loss': 'perceptron'}\"\n"
     ]
    },
    {
     "name": "stderr",
     "output_type": "stream",
     "text": [
      "[Parallel(n_jobs=-1)]: Done   3 out of   3 | elapsed:   10.7s finished\n",
      "[I 2024-01-28 19:53:55,015] Trial 0 pruned. \n",
      "[Parallel(n_jobs=-1)]: Using backend LokyBackend with 8 concurrent workers.\n"
     ]
    },
    {
     "name": "stdout",
     "output_type": "stream",
     "text": [
      "\n",
      "Accuracy of SGD_Classifier: 0.4823880361982826\n",
      "\n",
      "Batchwise_accuracies: [0.5031919186390813, 0.45941519979317463, 0.5387783187660187, 0.4933956786073758, 0.4823880361982826]\n",
      "\n",
      "Batchwise_Median_Accuracy: 0.4933956786073758\n",
      "\n",
      "Accumulated Accuracies:\n",
      "{'Logistic_Regression': {'Optuna': [0.46279279558254016, 0.4274040750073275, 0.37198526681218375, 0.4565850335335094, 0.40799655195011414, 0.43138215094076027, 0.41100531394321377, 0.37338486684415817, 0.4611895147981208, 0.412395672126079, 0.47438819559017364, 0.47601140036098427, 0.462385074005607, 0.4256062352955579, 0.43138215094076027, 0.41100531394321377, 0.37338486684415817, 0.4611895147981208, 0.412395672126079, 0.47438819559017364, 0.47601140036098427, 0.462385074005607, 0.4256062352955579], 'HyperOpt': []}, 'SGD_Classifier': {'Optuna': [0.5031919186390813, 0.45941519979317463, 0.5387783187660187, 0.4933956786073758, 0.4823880361982826], 'HyperOpt': []}, 'Random Forest': {'Optuna': [], 'HyperOpt': []}, 'Ada_Boost': {'Optuna': [], 'HyperOpt': []}, 'Grad_Boost': {'Optuna': [], 'HyperOpt': []}, 'Bagging_Classifier': {'Optuna': [], 'HyperOpt': []}, 'ExtraTreesClassifier': {'Optuna': [], 'HyperOpt': []}, 'Hist_Grad_Boost_Classifier': {'Optuna': [], 'HyperOpt': []}, 'Decision_Tree_Classifier': {'Optuna': [], 'HyperOpt': []}, 'XGB_Classifier': {'Optuna': [], 'HyperOpt': []}, 'KNN_Classifier': {'Optuna': [], 'HyperOpt': []}}\n",
      "\n",
      "\n",
      "**************\n",
      "Trial_Number: 1\n",
      "**************\n",
      "\n",
      "Batch 1\n",
      "\"\\nSpace: {'loss': 'squared_hinge'}\"\n"
     ]
    },
    {
     "name": "stderr",
     "output_type": "stream",
     "text": [
      "[Parallel(n_jobs=-1)]: Done   3 out of   3 | elapsed:   11.4s finished\n",
      "[Parallel(n_jobs=-1)]: Using backend LokyBackend with 8 concurrent workers.\n"
     ]
    },
    {
     "name": "stdout",
     "output_type": "stream",
     "text": [
      "\n",
      "Accuracy of SGD_Classifier: 0.54839596306429\n",
      "\n",
      "Batchwise_accuracies: [0.54839596306429]\n",
      "\n",
      "Batchwise_Median_Accuracy: 0.54839596306429\n",
      "\n",
      "Accumulated Accuracies:\n",
      "{'Logistic_Regression': {'Optuna': [0.46279279558254016, 0.4274040750073275, 0.37198526681218375, 0.4565850335335094, 0.40799655195011414, 0.43138215094076027, 0.41100531394321377, 0.37338486684415817, 0.4611895147981208, 0.412395672126079, 0.47438819559017364, 0.47601140036098427, 0.462385074005607, 0.4256062352955579, 0.43138215094076027, 0.41100531394321377, 0.37338486684415817, 0.4611895147981208, 0.412395672126079, 0.47438819559017364, 0.47601140036098427, 0.462385074005607, 0.4256062352955579], 'HyperOpt': []}, 'SGD_Classifier': {'Optuna': [0.5031919186390813, 0.45941519979317463, 0.5387783187660187, 0.4933956786073758, 0.4823880361982826, 0.54839596306429], 'HyperOpt': []}, 'Random Forest': {'Optuna': [], 'HyperOpt': []}, 'Ada_Boost': {'Optuna': [], 'HyperOpt': []}, 'Grad_Boost': {'Optuna': [], 'HyperOpt': []}, 'Bagging_Classifier': {'Optuna': [], 'HyperOpt': []}, 'ExtraTreesClassifier': {'Optuna': [], 'HyperOpt': []}, 'Hist_Grad_Boost_Classifier': {'Optuna': [], 'HyperOpt': []}, 'Decision_Tree_Classifier': {'Optuna': [], 'HyperOpt': []}, 'XGB_Classifier': {'Optuna': [], 'HyperOpt': []}, 'KNN_Classifier': {'Optuna': [], 'HyperOpt': []}}\n",
      "\n",
      "\n",
      "Batch 2\n",
      "\"\\nSpace: {'loss': 'squared_hinge'}\"\n"
     ]
    },
    {
     "name": "stderr",
     "output_type": "stream",
     "text": [
      "[Parallel(n_jobs=-1)]: Done   3 out of   3 | elapsed:   10.9s finished\n",
      "[Parallel(n_jobs=-1)]: Using backend LokyBackend with 8 concurrent workers.\n"
     ]
    },
    {
     "name": "stdout",
     "output_type": "stream",
     "text": [
      "\n",
      "Accuracy of SGD_Classifier: 0.4728127603770962\n",
      "\n",
      "Batchwise_accuracies: [0.54839596306429, 0.4728127603770962]\n",
      "\n",
      "Batchwise_Median_Accuracy: 0.510604361720693\n",
      "\n",
      "Accumulated Accuracies:\n",
      "{'Logistic_Regression': {'Optuna': [0.46279279558254016, 0.4274040750073275, 0.37198526681218375, 0.4565850335335094, 0.40799655195011414, 0.43138215094076027, 0.41100531394321377, 0.37338486684415817, 0.4611895147981208, 0.412395672126079, 0.47438819559017364, 0.47601140036098427, 0.462385074005607, 0.4256062352955579, 0.43138215094076027, 0.41100531394321377, 0.37338486684415817, 0.4611895147981208, 0.412395672126079, 0.47438819559017364, 0.47601140036098427, 0.462385074005607, 0.4256062352955579], 'HyperOpt': []}, 'SGD_Classifier': {'Optuna': [0.5031919186390813, 0.45941519979317463, 0.5387783187660187, 0.4933956786073758, 0.4823880361982826, 0.54839596306429, 0.4728127603770962], 'HyperOpt': []}, 'Random Forest': {'Optuna': [], 'HyperOpt': []}, 'Ada_Boost': {'Optuna': [], 'HyperOpt': []}, 'Grad_Boost': {'Optuna': [], 'HyperOpt': []}, 'Bagging_Classifier': {'Optuna': [], 'HyperOpt': []}, 'ExtraTreesClassifier': {'Optuna': [], 'HyperOpt': []}, 'Hist_Grad_Boost_Classifier': {'Optuna': [], 'HyperOpt': []}, 'Decision_Tree_Classifier': {'Optuna': [], 'HyperOpt': []}, 'XGB_Classifier': {'Optuna': [], 'HyperOpt': []}, 'KNN_Classifier': {'Optuna': [], 'HyperOpt': []}}\n",
      "\n",
      "\n",
      "Batch 3\n",
      "\"\\nSpace: {'loss': 'squared_hinge'}\"\n"
     ]
    },
    {
     "name": "stderr",
     "output_type": "stream",
     "text": [
      "[Parallel(n_jobs=-1)]: Done   3 out of   3 | elapsed:   11.2s finished\n",
      "[Parallel(n_jobs=-1)]: Using backend LokyBackend with 8 concurrent workers.\n"
     ]
    },
    {
     "name": "stdout",
     "output_type": "stream",
     "text": [
      "\n",
      "Accuracy of SGD_Classifier: 0.5334030432808996\n",
      "\n",
      "Batchwise_accuracies: [0.54839596306429, 0.4728127603770962, 0.5334030432808996]\n",
      "\n",
      "Batchwise_Median_Accuracy: 0.5334030432808996\n",
      "\n",
      "Accumulated Accuracies:\n",
      "{'Logistic_Regression': {'Optuna': [0.46279279558254016, 0.4274040750073275, 0.37198526681218375, 0.4565850335335094, 0.40799655195011414, 0.43138215094076027, 0.41100531394321377, 0.37338486684415817, 0.4611895147981208, 0.412395672126079, 0.47438819559017364, 0.47601140036098427, 0.462385074005607, 0.4256062352955579, 0.43138215094076027, 0.41100531394321377, 0.37338486684415817, 0.4611895147981208, 0.412395672126079, 0.47438819559017364, 0.47601140036098427, 0.462385074005607, 0.4256062352955579], 'HyperOpt': []}, 'SGD_Classifier': {'Optuna': [0.5031919186390813, 0.45941519979317463, 0.5387783187660187, 0.4933956786073758, 0.4823880361982826, 0.54839596306429, 0.4728127603770962, 0.5334030432808996], 'HyperOpt': []}, 'Random Forest': {'Optuna': [], 'HyperOpt': []}, 'Ada_Boost': {'Optuna': [], 'HyperOpt': []}, 'Grad_Boost': {'Optuna': [], 'HyperOpt': []}, 'Bagging_Classifier': {'Optuna': [], 'HyperOpt': []}, 'ExtraTreesClassifier': {'Optuna': [], 'HyperOpt': []}, 'Hist_Grad_Boost_Classifier': {'Optuna': [], 'HyperOpt': []}, 'Decision_Tree_Classifier': {'Optuna': [], 'HyperOpt': []}, 'XGB_Classifier': {'Optuna': [], 'HyperOpt': []}, 'KNN_Classifier': {'Optuna': [], 'HyperOpt': []}}\n",
      "\n",
      "\n",
      "Batch 4\n",
      "\"\\nSpace: {'loss': 'squared_hinge'}\"\n"
     ]
    },
    {
     "name": "stderr",
     "output_type": "stream",
     "text": [
      "[Parallel(n_jobs=-1)]: Done   3 out of   3 | elapsed:   11.0s finished\n",
      "[Parallel(n_jobs=-1)]: Using backend LokyBackend with 8 concurrent workers.\n"
     ]
    },
    {
     "name": "stdout",
     "output_type": "stream",
     "text": [
      "\n",
      "Accuracy of SGD_Classifier: 0.449612118392648\n",
      "\n",
      "Batchwise_accuracies: [0.54839596306429, 0.4728127603770962, 0.5334030432808996, 0.449612118392648]\n",
      "\n",
      "Batchwise_Median_Accuracy: 0.5031079018289979\n",
      "\n",
      "Accumulated Accuracies:\n",
      "{'Logistic_Regression': {'Optuna': [0.46279279558254016, 0.4274040750073275, 0.37198526681218375, 0.4565850335335094, 0.40799655195011414, 0.43138215094076027, 0.41100531394321377, 0.37338486684415817, 0.4611895147981208, 0.412395672126079, 0.47438819559017364, 0.47601140036098427, 0.462385074005607, 0.4256062352955579, 0.43138215094076027, 0.41100531394321377, 0.37338486684415817, 0.4611895147981208, 0.412395672126079, 0.47438819559017364, 0.47601140036098427, 0.462385074005607, 0.4256062352955579], 'HyperOpt': []}, 'SGD_Classifier': {'Optuna': [0.5031919186390813, 0.45941519979317463, 0.5387783187660187, 0.4933956786073758, 0.4823880361982826, 0.54839596306429, 0.4728127603770962, 0.5334030432808996, 0.449612118392648], 'HyperOpt': []}, 'Random Forest': {'Optuna': [], 'HyperOpt': []}, 'Ada_Boost': {'Optuna': [], 'HyperOpt': []}, 'Grad_Boost': {'Optuna': [], 'HyperOpt': []}, 'Bagging_Classifier': {'Optuna': [], 'HyperOpt': []}, 'ExtraTreesClassifier': {'Optuna': [], 'HyperOpt': []}, 'Hist_Grad_Boost_Classifier': {'Optuna': [], 'HyperOpt': []}, 'Decision_Tree_Classifier': {'Optuna': [], 'HyperOpt': []}, 'XGB_Classifier': {'Optuna': [], 'HyperOpt': []}, 'KNN_Classifier': {'Optuna': [], 'HyperOpt': []}}\n",
      "\n",
      "\n",
      "Batch 5\n",
      "\"\\nSpace: {'loss': 'squared_hinge'}\"\n"
     ]
    },
    {
     "name": "stderr",
     "output_type": "stream",
     "text": [
      "[Parallel(n_jobs=-1)]: Done   3 out of   3 | elapsed:   10.5s finished\n",
      "[I 2024-01-28 19:54:51,120] Trial 1 pruned. \n",
      "[Parallel(n_jobs=-1)]: Using backend LokyBackend with 8 concurrent workers.\n"
     ]
    },
    {
     "name": "stdout",
     "output_type": "stream",
     "text": [
      "\n",
      "Accuracy of SGD_Classifier: 0.4353850718451748\n",
      "\n",
      "Batchwise_accuracies: [0.54839596306429, 0.4728127603770962, 0.5334030432808996, 0.449612118392648, 0.4353850718451748]\n",
      "\n",
      "Batchwise_Median_Accuracy: 0.4728127603770962\n",
      "\n",
      "Accumulated Accuracies:\n",
      "{'Logistic_Regression': {'Optuna': [0.46279279558254016, 0.4274040750073275, 0.37198526681218375, 0.4565850335335094, 0.40799655195011414, 0.43138215094076027, 0.41100531394321377, 0.37338486684415817, 0.4611895147981208, 0.412395672126079, 0.47438819559017364, 0.47601140036098427, 0.462385074005607, 0.4256062352955579, 0.43138215094076027, 0.41100531394321377, 0.37338486684415817, 0.4611895147981208, 0.412395672126079, 0.47438819559017364, 0.47601140036098427, 0.462385074005607, 0.4256062352955579], 'HyperOpt': []}, 'SGD_Classifier': {'Optuna': [0.5031919186390813, 0.45941519979317463, 0.5387783187660187, 0.4933956786073758, 0.4823880361982826, 0.54839596306429, 0.4728127603770962, 0.5334030432808996, 0.449612118392648, 0.4353850718451748], 'HyperOpt': []}, 'Random Forest': {'Optuna': [], 'HyperOpt': []}, 'Ada_Boost': {'Optuna': [], 'HyperOpt': []}, 'Grad_Boost': {'Optuna': [], 'HyperOpt': []}, 'Bagging_Classifier': {'Optuna': [], 'HyperOpt': []}, 'ExtraTreesClassifier': {'Optuna': [], 'HyperOpt': []}, 'Hist_Grad_Boost_Classifier': {'Optuna': [], 'HyperOpt': []}, 'Decision_Tree_Classifier': {'Optuna': [], 'HyperOpt': []}, 'XGB_Classifier': {'Optuna': [], 'HyperOpt': []}, 'KNN_Classifier': {'Optuna': [], 'HyperOpt': []}}\n",
      "\n",
      "\n",
      "**************\n",
      "Trial_Number: 2\n",
      "**************\n",
      "\n",
      "Batch 1\n",
      "\"\\nSpace: {'loss': 'squared_hinge'}\"\n"
     ]
    },
    {
     "name": "stderr",
     "output_type": "stream",
     "text": [
      "[Parallel(n_jobs=-1)]: Done   3 out of   3 | elapsed:   10.8s finished\n",
      "[Parallel(n_jobs=-1)]: Using backend LokyBackend with 8 concurrent workers.\n"
     ]
    },
    {
     "name": "stdout",
     "output_type": "stream",
     "text": [
      "\n",
      "Accuracy of SGD_Classifier: 0.572011047970478\n",
      "\n",
      "Batchwise_accuracies: [0.572011047970478]\n",
      "\n",
      "Batchwise_Median_Accuracy: 0.572011047970478\n",
      "\n",
      "Accumulated Accuracies:\n",
      "{'Logistic_Regression': {'Optuna': [0.46279279558254016, 0.4274040750073275, 0.37198526681218375, 0.4565850335335094, 0.40799655195011414, 0.43138215094076027, 0.41100531394321377, 0.37338486684415817, 0.4611895147981208, 0.412395672126079, 0.47438819559017364, 0.47601140036098427, 0.462385074005607, 0.4256062352955579, 0.43138215094076027, 0.41100531394321377, 0.37338486684415817, 0.4611895147981208, 0.412395672126079, 0.47438819559017364, 0.47601140036098427, 0.462385074005607, 0.4256062352955579], 'HyperOpt': []}, 'SGD_Classifier': {'Optuna': [0.5031919186390813, 0.45941519979317463, 0.5387783187660187, 0.4933956786073758, 0.4823880361982826, 0.54839596306429, 0.4728127603770962, 0.5334030432808996, 0.449612118392648, 0.4353850718451748, 0.572011047970478], 'HyperOpt': []}, 'Random Forest': {'Optuna': [], 'HyperOpt': []}, 'Ada_Boost': {'Optuna': [], 'HyperOpt': []}, 'Grad_Boost': {'Optuna': [], 'HyperOpt': []}, 'Bagging_Classifier': {'Optuna': [], 'HyperOpt': []}, 'ExtraTreesClassifier': {'Optuna': [], 'HyperOpt': []}, 'Hist_Grad_Boost_Classifier': {'Optuna': [], 'HyperOpt': []}, 'Decision_Tree_Classifier': {'Optuna': [], 'HyperOpt': []}, 'XGB_Classifier': {'Optuna': [], 'HyperOpt': []}, 'KNN_Classifier': {'Optuna': [], 'HyperOpt': []}}\n",
      "\n",
      "\n",
      "Batch 2\n",
      "\"\\nSpace: {'loss': 'squared_hinge'}\"\n"
     ]
    },
    {
     "name": "stderr",
     "output_type": "stream",
     "text": [
      "[Parallel(n_jobs=-1)]: Done   3 out of   3 | elapsed:   11.0s finished\n",
      "[Parallel(n_jobs=-1)]: Using backend LokyBackend with 8 concurrent workers.\n"
     ]
    },
    {
     "name": "stdout",
     "output_type": "stream",
     "text": [
      "\n",
      "Accuracy of SGD_Classifier: 0.46422612236256233\n",
      "\n",
      "Batchwise_accuracies: [0.572011047970478, 0.46422612236256233]\n",
      "\n",
      "Batchwise_Median_Accuracy: 0.5181185851665202\n",
      "\n",
      "Accumulated Accuracies:\n",
      "{'Logistic_Regression': {'Optuna': [0.46279279558254016, 0.4274040750073275, 0.37198526681218375, 0.4565850335335094, 0.40799655195011414, 0.43138215094076027, 0.41100531394321377, 0.37338486684415817, 0.4611895147981208, 0.412395672126079, 0.47438819559017364, 0.47601140036098427, 0.462385074005607, 0.4256062352955579, 0.43138215094076027, 0.41100531394321377, 0.37338486684415817, 0.4611895147981208, 0.412395672126079, 0.47438819559017364, 0.47601140036098427, 0.462385074005607, 0.4256062352955579], 'HyperOpt': []}, 'SGD_Classifier': {'Optuna': [0.5031919186390813, 0.45941519979317463, 0.5387783187660187, 0.4933956786073758, 0.4823880361982826, 0.54839596306429, 0.4728127603770962, 0.5334030432808996, 0.449612118392648, 0.4353850718451748, 0.572011047970478, 0.46422612236256233], 'HyperOpt': []}, 'Random Forest': {'Optuna': [], 'HyperOpt': []}, 'Ada_Boost': {'Optuna': [], 'HyperOpt': []}, 'Grad_Boost': {'Optuna': [], 'HyperOpt': []}, 'Bagging_Classifier': {'Optuna': [], 'HyperOpt': []}, 'ExtraTreesClassifier': {'Optuna': [], 'HyperOpt': []}, 'Hist_Grad_Boost_Classifier': {'Optuna': [], 'HyperOpt': []}, 'Decision_Tree_Classifier': {'Optuna': [], 'HyperOpt': []}, 'XGB_Classifier': {'Optuna': [], 'HyperOpt': []}, 'KNN_Classifier': {'Optuna': [], 'HyperOpt': []}}\n",
      "\n",
      "\n",
      "Batch 3\n",
      "\"\\nSpace: {'loss': 'squared_hinge'}\"\n"
     ]
    },
    {
     "name": "stderr",
     "output_type": "stream",
     "text": [
      "[Parallel(n_jobs=-1)]: Done   3 out of   3 | elapsed:   11.1s finished\n",
      "[Parallel(n_jobs=-1)]: Using backend LokyBackend with 8 concurrent workers.\n"
     ]
    },
    {
     "name": "stdout",
     "output_type": "stream",
     "text": [
      "\n",
      "Accuracy of SGD_Classifier: 0.5265819585182604\n",
      "\n",
      "Batchwise_accuracies: [0.572011047970478, 0.46422612236256233, 0.5265819585182604]\n",
      "\n",
      "Batchwise_Median_Accuracy: 0.5265819585182604\n",
      "\n",
      "Accumulated Accuracies:\n",
      "{'Logistic_Regression': {'Optuna': [0.46279279558254016, 0.4274040750073275, 0.37198526681218375, 0.4565850335335094, 0.40799655195011414, 0.43138215094076027, 0.41100531394321377, 0.37338486684415817, 0.4611895147981208, 0.412395672126079, 0.47438819559017364, 0.47601140036098427, 0.462385074005607, 0.4256062352955579, 0.43138215094076027, 0.41100531394321377, 0.37338486684415817, 0.4611895147981208, 0.412395672126079, 0.47438819559017364, 0.47601140036098427, 0.462385074005607, 0.4256062352955579], 'HyperOpt': []}, 'SGD_Classifier': {'Optuna': [0.5031919186390813, 0.45941519979317463, 0.5387783187660187, 0.4933956786073758, 0.4823880361982826, 0.54839596306429, 0.4728127603770962, 0.5334030432808996, 0.449612118392648, 0.4353850718451748, 0.572011047970478, 0.46422612236256233, 0.5265819585182604], 'HyperOpt': []}, 'Random Forest': {'Optuna': [], 'HyperOpt': []}, 'Ada_Boost': {'Optuna': [], 'HyperOpt': []}, 'Grad_Boost': {'Optuna': [], 'HyperOpt': []}, 'Bagging_Classifier': {'Optuna': [], 'HyperOpt': []}, 'ExtraTreesClassifier': {'Optuna': [], 'HyperOpt': []}, 'Hist_Grad_Boost_Classifier': {'Optuna': [], 'HyperOpt': []}, 'Decision_Tree_Classifier': {'Optuna': [], 'HyperOpt': []}, 'XGB_Classifier': {'Optuna': [], 'HyperOpt': []}, 'KNN_Classifier': {'Optuna': [], 'HyperOpt': []}}\n",
      "\n",
      "\n",
      "Batch 4\n",
      "\"\\nSpace: {'loss': 'squared_hinge'}\"\n"
     ]
    },
    {
     "name": "stderr",
     "output_type": "stream",
     "text": [
      "[Parallel(n_jobs=-1)]: Done   3 out of   3 | elapsed:   11.3s finished\n",
      "[Parallel(n_jobs=-1)]: Using backend LokyBackend with 8 concurrent workers.\n"
     ]
    },
    {
     "name": "stdout",
     "output_type": "stream",
     "text": [
      "\n",
      "Accuracy of SGD_Classifier: 0.4288073957837484\n",
      "\n",
      "Batchwise_accuracies: [0.572011047970478, 0.46422612236256233, 0.5265819585182604, 0.4288073957837484]\n",
      "\n",
      "Batchwise_Median_Accuracy: 0.49540404044041136\n",
      "\n",
      "Accumulated Accuracies:\n",
      "{'Logistic_Regression': {'Optuna': [0.46279279558254016, 0.4274040750073275, 0.37198526681218375, 0.4565850335335094, 0.40799655195011414, 0.43138215094076027, 0.41100531394321377, 0.37338486684415817, 0.4611895147981208, 0.412395672126079, 0.47438819559017364, 0.47601140036098427, 0.462385074005607, 0.4256062352955579, 0.43138215094076027, 0.41100531394321377, 0.37338486684415817, 0.4611895147981208, 0.412395672126079, 0.47438819559017364, 0.47601140036098427, 0.462385074005607, 0.4256062352955579], 'HyperOpt': []}, 'SGD_Classifier': {'Optuna': [0.5031919186390813, 0.45941519979317463, 0.5387783187660187, 0.4933956786073758, 0.4823880361982826, 0.54839596306429, 0.4728127603770962, 0.5334030432808996, 0.449612118392648, 0.4353850718451748, 0.572011047970478, 0.46422612236256233, 0.5265819585182604, 0.4288073957837484], 'HyperOpt': []}, 'Random Forest': {'Optuna': [], 'HyperOpt': []}, 'Ada_Boost': {'Optuna': [], 'HyperOpt': []}, 'Grad_Boost': {'Optuna': [], 'HyperOpt': []}, 'Bagging_Classifier': {'Optuna': [], 'HyperOpt': []}, 'ExtraTreesClassifier': {'Optuna': [], 'HyperOpt': []}, 'Hist_Grad_Boost_Classifier': {'Optuna': [], 'HyperOpt': []}, 'Decision_Tree_Classifier': {'Optuna': [], 'HyperOpt': []}, 'XGB_Classifier': {'Optuna': [], 'HyperOpt': []}, 'KNN_Classifier': {'Optuna': [], 'HyperOpt': []}}\n",
      "\n",
      "\n",
      "Batch 5\n",
      "\"\\nSpace: {'loss': 'squared_hinge'}\"\n"
     ]
    },
    {
     "name": "stderr",
     "output_type": "stream",
     "text": [
      "[Parallel(n_jobs=-1)]: Done   3 out of   3 | elapsed:   10.9s finished\n",
      "[I 2024-01-28 19:55:47,369] Trial 2 pruned. \n",
      "[I 2024-01-28 19:55:47,370] A new study created in memory with name: no-name-f2906f33-3888-44b4-a574-482f2b6307ac\n",
      "[Parallel(n_jobs=-1)]: Using backend LokyBackend with 8 concurrent workers.\n"
     ]
    },
    {
     "name": "stdout",
     "output_type": "stream",
     "text": [
      "\n",
      "Accuracy of SGD_Classifier: 0.46379187547844575\n",
      "\n",
      "Batchwise_accuracies: [0.572011047970478, 0.46422612236256233, 0.5265819585182604, 0.4288073957837484, 0.46379187547844575]\n",
      "\n",
      "Batchwise_Median_Accuracy: 0.46422612236256233\n",
      "\n",
      "Accumulated Accuracies:\n",
      "{'Logistic_Regression': {'Optuna': [0.46279279558254016, 0.4274040750073275, 0.37198526681218375, 0.4565850335335094, 0.40799655195011414, 0.43138215094076027, 0.41100531394321377, 0.37338486684415817, 0.4611895147981208, 0.412395672126079, 0.47438819559017364, 0.47601140036098427, 0.462385074005607, 0.4256062352955579, 0.43138215094076027, 0.41100531394321377, 0.37338486684415817, 0.4611895147981208, 0.412395672126079, 0.47438819559017364, 0.47601140036098427, 0.462385074005607, 0.4256062352955579], 'HyperOpt': []}, 'SGD_Classifier': {'Optuna': [0.5031919186390813, 0.45941519979317463, 0.5387783187660187, 0.4933956786073758, 0.4823880361982826, 0.54839596306429, 0.4728127603770962, 0.5334030432808996, 0.449612118392648, 0.4353850718451748, 0.572011047970478, 0.46422612236256233, 0.5265819585182604, 0.4288073957837484, 0.46379187547844575], 'HyperOpt': []}, 'Random Forest': {'Optuna': [], 'HyperOpt': []}, 'Ada_Boost': {'Optuna': [], 'HyperOpt': []}, 'Grad_Boost': {'Optuna': [], 'HyperOpt': []}, 'Bagging_Classifier': {'Optuna': [], 'HyperOpt': []}, 'ExtraTreesClassifier': {'Optuna': [], 'HyperOpt': []}, 'Hist_Grad_Boost_Classifier': {'Optuna': [], 'HyperOpt': []}, 'Decision_Tree_Classifier': {'Optuna': [], 'HyperOpt': []}, 'XGB_Classifier': {'Optuna': [], 'HyperOpt': []}, 'KNN_Classifier': {'Optuna': [], 'HyperOpt': []}}\n",
      "\n",
      "\n",
      "**************\n",
      "Trial_Number: 0\n",
      "**************\n",
      "\n",
      "Batch 1\n",
      "('\\n'\n",
      " \"Space: {'n_estimators': 144, 'criterion': 'log_loss', 'max_features': \"\n",
      " \"'log2', 'class_weight': 'balanced'}\")\n"
     ]
    },
    {
     "name": "stderr",
     "output_type": "stream",
     "text": [
      "[Parallel(n_jobs=-1)]: Done   3 out of   3 | elapsed:   20.4s finished\n",
      "[Parallel(n_jobs=-1)]: Using backend LokyBackend with 8 concurrent workers.\n"
     ]
    },
    {
     "name": "stdout",
     "output_type": "stream",
     "text": [
      "\n",
      "Accuracy of Random Forest: 0.9811991983356031\n",
      "\n",
      "Batchwise_accuracies: [0.9811991983356031]\n",
      "\n",
      "Batchwise_Median_Accuracy: 0.9811991983356031\n",
      "\n",
      "Accumulated Accuracies:\n",
      "{'Logistic_Regression': {'Optuna': [0.46279279558254016, 0.4274040750073275, 0.37198526681218375, 0.4565850335335094, 0.40799655195011414, 0.43138215094076027, 0.41100531394321377, 0.37338486684415817, 0.4611895147981208, 0.412395672126079, 0.47438819559017364, 0.47601140036098427, 0.462385074005607, 0.4256062352955579, 0.43138215094076027, 0.41100531394321377, 0.37338486684415817, 0.4611895147981208, 0.412395672126079, 0.47438819559017364, 0.47601140036098427, 0.462385074005607, 0.4256062352955579], 'HyperOpt': []}, 'SGD_Classifier': {'Optuna': [0.5031919186390813, 0.45941519979317463, 0.5387783187660187, 0.4933956786073758, 0.4823880361982826, 0.54839596306429, 0.4728127603770962, 0.5334030432808996, 0.449612118392648, 0.4353850718451748, 0.572011047970478, 0.46422612236256233, 0.5265819585182604, 0.4288073957837484, 0.46379187547844575], 'HyperOpt': []}, 'Random Forest': {'Optuna': [0.9811991983356031], 'HyperOpt': []}, 'Ada_Boost': {'Optuna': [], 'HyperOpt': []}, 'Grad_Boost': {'Optuna': [], 'HyperOpt': []}, 'Bagging_Classifier': {'Optuna': [], 'HyperOpt': []}, 'ExtraTreesClassifier': {'Optuna': [], 'HyperOpt': []}, 'Hist_Grad_Boost_Classifier': {'Optuna': [], 'HyperOpt': []}, 'Decision_Tree_Classifier': {'Optuna': [], 'HyperOpt': []}, 'XGB_Classifier': {'Optuna': [], 'HyperOpt': []}, 'KNN_Classifier': {'Optuna': [], 'HyperOpt': []}}\n",
      "\n",
      "\n",
      "Batch 2\n",
      "('\\n'\n",
      " \"Space: {'n_estimators': 144, 'criterion': 'log_loss', 'max_features': \"\n",
      " \"'log2', 'class_weight': 'balanced'}\")\n"
     ]
    },
    {
     "name": "stderr",
     "output_type": "stream",
     "text": [
      "[Parallel(n_jobs=-1)]: Done   3 out of   3 | elapsed:   19.8s finished\n",
      "[Parallel(n_jobs=-1)]: Using backend LokyBackend with 8 concurrent workers.\n"
     ]
    },
    {
     "name": "stdout",
     "output_type": "stream",
     "text": [
      "\n",
      "Accuracy of Random Forest: 0.9775999181916318\n",
      "\n",
      "Batchwise_accuracies: [0.9811991983356031, 0.9775999181916318]\n",
      "\n",
      "Batchwise_Median_Accuracy: 0.9793995582636175\n",
      "\n",
      "Accumulated Accuracies:\n",
      "{'Logistic_Regression': {'Optuna': [0.46279279558254016, 0.4274040750073275, 0.37198526681218375, 0.4565850335335094, 0.40799655195011414, 0.43138215094076027, 0.41100531394321377, 0.37338486684415817, 0.4611895147981208, 0.412395672126079, 0.47438819559017364, 0.47601140036098427, 0.462385074005607, 0.4256062352955579, 0.43138215094076027, 0.41100531394321377, 0.37338486684415817, 0.4611895147981208, 0.412395672126079, 0.47438819559017364, 0.47601140036098427, 0.462385074005607, 0.4256062352955579], 'HyperOpt': []}, 'SGD_Classifier': {'Optuna': [0.5031919186390813, 0.45941519979317463, 0.5387783187660187, 0.4933956786073758, 0.4823880361982826, 0.54839596306429, 0.4728127603770962, 0.5334030432808996, 0.449612118392648, 0.4353850718451748, 0.572011047970478, 0.46422612236256233, 0.5265819585182604, 0.4288073957837484, 0.46379187547844575], 'HyperOpt': []}, 'Random Forest': {'Optuna': [0.9811991983356031, 0.9775999181916318], 'HyperOpt': []}, 'Ada_Boost': {'Optuna': [], 'HyperOpt': []}, 'Grad_Boost': {'Optuna': [], 'HyperOpt': []}, 'Bagging_Classifier': {'Optuna': [], 'HyperOpt': []}, 'ExtraTreesClassifier': {'Optuna': [], 'HyperOpt': []}, 'Hist_Grad_Boost_Classifier': {'Optuna': [], 'HyperOpt': []}, 'Decision_Tree_Classifier': {'Optuna': [], 'HyperOpt': []}, 'XGB_Classifier': {'Optuna': [], 'HyperOpt': []}, 'KNN_Classifier': {'Optuna': [], 'HyperOpt': []}}\n",
      "\n",
      "\n",
      "Batch 3\n",
      "('\\n'\n",
      " \"Space: {'n_estimators': 144, 'criterion': 'log_loss', 'max_features': \"\n",
      " \"'log2', 'class_weight': 'balanced'}\")\n"
     ]
    },
    {
     "name": "stderr",
     "output_type": "stream",
     "text": [
      "[Parallel(n_jobs=-1)]: Done   3 out of   3 | elapsed:   20.2s finished\n",
      "[Parallel(n_jobs=-1)]: Using backend LokyBackend with 8 concurrent workers.\n"
     ]
    },
    {
     "name": "stdout",
     "output_type": "stream",
     "text": [
      "\n",
      "Accuracy of Random Forest: 0.9819993984396399\n",
      "\n",
      "Batchwise_accuracies: [0.9811991983356031, 0.9775999181916318, 0.9819993984396399]\n",
      "\n",
      "Batchwise_Median_Accuracy: 0.9811991983356031\n",
      "\n",
      "Accumulated Accuracies:\n",
      "{'Logistic_Regression': {'Optuna': [0.46279279558254016, 0.4274040750073275, 0.37198526681218375, 0.4565850335335094, 0.40799655195011414, 0.43138215094076027, 0.41100531394321377, 0.37338486684415817, 0.4611895147981208, 0.412395672126079, 0.47438819559017364, 0.47601140036098427, 0.462385074005607, 0.4256062352955579, 0.43138215094076027, 0.41100531394321377, 0.37338486684415817, 0.4611895147981208, 0.412395672126079, 0.47438819559017364, 0.47601140036098427, 0.462385074005607, 0.4256062352955579], 'HyperOpt': []}, 'SGD_Classifier': {'Optuna': [0.5031919186390813, 0.45941519979317463, 0.5387783187660187, 0.4933956786073758, 0.4823880361982826, 0.54839596306429, 0.4728127603770962, 0.5334030432808996, 0.449612118392648, 0.4353850718451748, 0.572011047970478, 0.46422612236256233, 0.5265819585182604, 0.4288073957837484, 0.46379187547844575], 'HyperOpt': []}, 'Random Forest': {'Optuna': [0.9811991983356031, 0.9775999181916318, 0.9819993984396399], 'HyperOpt': []}, 'Ada_Boost': {'Optuna': [], 'HyperOpt': []}, 'Grad_Boost': {'Optuna': [], 'HyperOpt': []}, 'Bagging_Classifier': {'Optuna': [], 'HyperOpt': []}, 'ExtraTreesClassifier': {'Optuna': [], 'HyperOpt': []}, 'Hist_Grad_Boost_Classifier': {'Optuna': [], 'HyperOpt': []}, 'Decision_Tree_Classifier': {'Optuna': [], 'HyperOpt': []}, 'XGB_Classifier': {'Optuna': [], 'HyperOpt': []}, 'KNN_Classifier': {'Optuna': [], 'HyperOpt': []}}\n",
      "\n",
      "\n",
      "Batch 4\n",
      "('\\n'\n",
      " \"Space: {'n_estimators': 144, 'criterion': 'log_loss', 'max_features': \"\n",
      " \"'log2', 'class_weight': 'balanced'}\")\n"
     ]
    },
    {
     "name": "stderr",
     "output_type": "stream",
     "text": [
      "[Parallel(n_jobs=-1)]: Done   3 out of   3 | elapsed:   20.2s finished\n",
      "[Parallel(n_jobs=-1)]: Using backend LokyBackend with 8 concurrent workers.\n"
     ]
    },
    {
     "name": "stdout",
     "output_type": "stream",
     "text": [
      "\n",
      "Accuracy of Random Forest: 0.9807997584156638\n",
      "\n",
      "Batchwise_accuracies: [0.9811991983356031, 0.9775999181916318, 0.9819993984396399, 0.9807997584156638]\n",
      "\n",
      "Batchwise_Median_Accuracy: 0.9809994783756335\n",
      "\n",
      "Accumulated Accuracies:\n",
      "{'Logistic_Regression': {'Optuna': [0.46279279558254016, 0.4274040750073275, 0.37198526681218375, 0.4565850335335094, 0.40799655195011414, 0.43138215094076027, 0.41100531394321377, 0.37338486684415817, 0.4611895147981208, 0.412395672126079, 0.47438819559017364, 0.47601140036098427, 0.462385074005607, 0.4256062352955579, 0.43138215094076027, 0.41100531394321377, 0.37338486684415817, 0.4611895147981208, 0.412395672126079, 0.47438819559017364, 0.47601140036098427, 0.462385074005607, 0.4256062352955579], 'HyperOpt': []}, 'SGD_Classifier': {'Optuna': [0.5031919186390813, 0.45941519979317463, 0.5387783187660187, 0.4933956786073758, 0.4823880361982826, 0.54839596306429, 0.4728127603770962, 0.5334030432808996, 0.449612118392648, 0.4353850718451748, 0.572011047970478, 0.46422612236256233, 0.5265819585182604, 0.4288073957837484, 0.46379187547844575], 'HyperOpt': []}, 'Random Forest': {'Optuna': [0.9811991983356031, 0.9775999181916318, 0.9819993984396399, 0.9807997584156638], 'HyperOpt': []}, 'Ada_Boost': {'Optuna': [], 'HyperOpt': []}, 'Grad_Boost': {'Optuna': [], 'HyperOpt': []}, 'Bagging_Classifier': {'Optuna': [], 'HyperOpt': []}, 'ExtraTreesClassifier': {'Optuna': [], 'HyperOpt': []}, 'Hist_Grad_Boost_Classifier': {'Optuna': [], 'HyperOpt': []}, 'Decision_Tree_Classifier': {'Optuna': [], 'HyperOpt': []}, 'XGB_Classifier': {'Optuna': [], 'HyperOpt': []}, 'KNN_Classifier': {'Optuna': [], 'HyperOpt': []}}\n",
      "\n",
      "\n",
      "Batch 5\n",
      "('\\n'\n",
      " \"Space: {'n_estimators': 144, 'criterion': 'log_loss', 'max_features': \"\n",
      " \"'log2', 'class_weight': 'balanced'}\")\n"
     ]
    },
    {
     "name": "stderr",
     "output_type": "stream",
     "text": [
      "[Parallel(n_jobs=-1)]: Done   3 out of   3 | elapsed:   19.7s finished\n",
      "[Parallel(n_jobs=-1)]: Using backend LokyBackend with 8 concurrent workers.\n"
     ]
    },
    {
     "name": "stdout",
     "output_type": "stream",
     "text": [
      "\n",
      "Accuracy of Random Forest: 0.9851998387837438\n",
      "\n",
      "Batchwise_accuracies: [0.9811991983356031, 0.9775999181916318, 0.9819993984396399, 0.9807997584156638, 0.9851998387837438]\n",
      "\n",
      "Batchwise_Median_Accuracy: 0.9811991983356031\n",
      "\n",
      "Accumulated Accuracies:\n",
      "{'Logistic_Regression': {'Optuna': [0.46279279558254016, 0.4274040750073275, 0.37198526681218375, 0.4565850335335094, 0.40799655195011414, 0.43138215094076027, 0.41100531394321377, 0.37338486684415817, 0.4611895147981208, 0.412395672126079, 0.47438819559017364, 0.47601140036098427, 0.462385074005607, 0.4256062352955579, 0.43138215094076027, 0.41100531394321377, 0.37338486684415817, 0.4611895147981208, 0.412395672126079, 0.47438819559017364, 0.47601140036098427, 0.462385074005607, 0.4256062352955579], 'HyperOpt': []}, 'SGD_Classifier': {'Optuna': [0.5031919186390813, 0.45941519979317463, 0.5387783187660187, 0.4933956786073758, 0.4823880361982826, 0.54839596306429, 0.4728127603770962, 0.5334030432808996, 0.449612118392648, 0.4353850718451748, 0.572011047970478, 0.46422612236256233, 0.5265819585182604, 0.4288073957837484, 0.46379187547844575], 'HyperOpt': []}, 'Random Forest': {'Optuna': [0.9811991983356031, 0.9775999181916318, 0.9819993984396399, 0.9807997584156638, 0.9851998387837438], 'HyperOpt': []}, 'Ada_Boost': {'Optuna': [], 'HyperOpt': []}, 'Grad_Boost': {'Optuna': [], 'HyperOpt': []}, 'Bagging_Classifier': {'Optuna': [], 'HyperOpt': []}, 'ExtraTreesClassifier': {'Optuna': [], 'HyperOpt': []}, 'Hist_Grad_Boost_Classifier': {'Optuna': [], 'HyperOpt': []}, 'Decision_Tree_Classifier': {'Optuna': [], 'HyperOpt': []}, 'XGB_Classifier': {'Optuna': [], 'HyperOpt': []}, 'KNN_Classifier': {'Optuna': [], 'HyperOpt': []}}\n",
      "\n",
      "\n",
      "Batch 6\n",
      "('\\n'\n",
      " \"Space: {'n_estimators': 144, 'criterion': 'log_loss', 'max_features': \"\n",
      " \"'log2', 'class_weight': 'balanced'}\")\n"
     ]
    },
    {
     "name": "stderr",
     "output_type": "stream",
     "text": [
      "[Parallel(n_jobs=-1)]: Done   3 out of   3 | elapsed:   21.3s finished\n",
      "[Parallel(n_jobs=-1)]: Using backend LokyBackend with 8 concurrent workers.\n"
     ]
    },
    {
     "name": "stdout",
     "output_type": "stream",
     "text": [
      "\n",
      "Accuracy of Random Forest: 0.9818009987438286\n",
      "\n",
      "Batchwise_accuracies: [0.9811991983356031, 0.9775999181916318, 0.9819993984396399, 0.9807997584156638, 0.9851998387837438, 0.9818009987438286]\n",
      "\n",
      "Batchwise_Median_Accuracy: 0.9815000985397159\n",
      "\n",
      "Accumulated Accuracies:\n",
      "{'Logistic_Regression': {'Optuna': [0.46279279558254016, 0.4274040750073275, 0.37198526681218375, 0.4565850335335094, 0.40799655195011414, 0.43138215094076027, 0.41100531394321377, 0.37338486684415817, 0.4611895147981208, 0.412395672126079, 0.47438819559017364, 0.47601140036098427, 0.462385074005607, 0.4256062352955579, 0.43138215094076027, 0.41100531394321377, 0.37338486684415817, 0.4611895147981208, 0.412395672126079, 0.47438819559017364, 0.47601140036098427, 0.462385074005607, 0.4256062352955579], 'HyperOpt': []}, 'SGD_Classifier': {'Optuna': [0.5031919186390813, 0.45941519979317463, 0.5387783187660187, 0.4933956786073758, 0.4823880361982826, 0.54839596306429, 0.4728127603770962, 0.5334030432808996, 0.449612118392648, 0.4353850718451748, 0.572011047970478, 0.46422612236256233, 0.5265819585182604, 0.4288073957837484, 0.46379187547844575], 'HyperOpt': []}, 'Random Forest': {'Optuna': [0.9811991983356031, 0.9775999181916318, 0.9819993984396399, 0.9807997584156638, 0.9851998387837438, 0.9818009987438286], 'HyperOpt': []}, 'Ada_Boost': {'Optuna': [], 'HyperOpt': []}, 'Grad_Boost': {'Optuna': [], 'HyperOpt': []}, 'Bagging_Classifier': {'Optuna': [], 'HyperOpt': []}, 'ExtraTreesClassifier': {'Optuna': [], 'HyperOpt': []}, 'Hist_Grad_Boost_Classifier': {'Optuna': [], 'HyperOpt': []}, 'Decision_Tree_Classifier': {'Optuna': [], 'HyperOpt': []}, 'XGB_Classifier': {'Optuna': [], 'HyperOpt': []}, 'KNN_Classifier': {'Optuna': [], 'HyperOpt': []}}\n",
      "\n",
      "\n",
      "Batch 7\n",
      "('\\n'\n",
      " \"Space: {'n_estimators': 144, 'criterion': 'log_loss', 'max_features': \"\n",
      " \"'log2', 'class_weight': 'balanced'}\")\n"
     ]
    },
    {
     "name": "stderr",
     "output_type": "stream",
     "text": [
      "[Parallel(n_jobs=-1)]: Done   3 out of   3 | elapsed:   19.5s finished\n",
      "[Parallel(n_jobs=-1)]: Using backend LokyBackend with 8 concurrent workers.\n"
     ]
    },
    {
     "name": "stdout",
     "output_type": "stream",
     "text": [
      "\n",
      "Accuracy of Random Forest: 0.9837987984635966\n",
      "\n",
      "Batchwise_accuracies: [0.9811991983356031, 0.9775999181916318, 0.9819993984396399, 0.9807997584156638, 0.9851998387837438, 0.9818009987438286, 0.9837987984635966]\n",
      "\n",
      "Batchwise_Median_Accuracy: 0.9818009987438286\n",
      "\n",
      "Accumulated Accuracies:\n",
      "{'Logistic_Regression': {'Optuna': [0.46279279558254016, 0.4274040750073275, 0.37198526681218375, 0.4565850335335094, 0.40799655195011414, 0.43138215094076027, 0.41100531394321377, 0.37338486684415817, 0.4611895147981208, 0.412395672126079, 0.47438819559017364, 0.47601140036098427, 0.462385074005607, 0.4256062352955579, 0.43138215094076027, 0.41100531394321377, 0.37338486684415817, 0.4611895147981208, 0.412395672126079, 0.47438819559017364, 0.47601140036098427, 0.462385074005607, 0.4256062352955579], 'HyperOpt': []}, 'SGD_Classifier': {'Optuna': [0.5031919186390813, 0.45941519979317463, 0.5387783187660187, 0.4933956786073758, 0.4823880361982826, 0.54839596306429, 0.4728127603770962, 0.5334030432808996, 0.449612118392648, 0.4353850718451748, 0.572011047970478, 0.46422612236256233, 0.5265819585182604, 0.4288073957837484, 0.46379187547844575], 'HyperOpt': []}, 'Random Forest': {'Optuna': [0.9811991983356031, 0.9775999181916318, 0.9819993984396399, 0.9807997584156638, 0.9851998387837438, 0.9818009987438286, 0.9837987984635966], 'HyperOpt': []}, 'Ada_Boost': {'Optuna': [], 'HyperOpt': []}, 'Grad_Boost': {'Optuna': [], 'HyperOpt': []}, 'Bagging_Classifier': {'Optuna': [], 'HyperOpt': []}, 'ExtraTreesClassifier': {'Optuna': [], 'HyperOpt': []}, 'Hist_Grad_Boost_Classifier': {'Optuna': [], 'HyperOpt': []}, 'Decision_Tree_Classifier': {'Optuna': [], 'HyperOpt': []}, 'XGB_Classifier': {'Optuna': [], 'HyperOpt': []}, 'KNN_Classifier': {'Optuna': [], 'HyperOpt': []}}\n",
      "\n",
      "\n",
      "Batch 8\n",
      "('\\n'\n",
      " \"Space: {'n_estimators': 144, 'criterion': 'log_loss', 'max_features': \"\n",
      " \"'log2', 'class_weight': 'balanced'}\")\n"
     ]
    },
    {
     "name": "stderr",
     "output_type": "stream",
     "text": [
      "[Parallel(n_jobs=-1)]: Done   3 out of   3 | elapsed:   19.5s finished\n",
      "[Parallel(n_jobs=-1)]: Using backend LokyBackend with 8 concurrent workers.\n"
     ]
    },
    {
     "name": "stdout",
     "output_type": "stream",
     "text": [
      "\n",
      "Accuracy of Random Forest: 0.9854000388397711\n",
      "\n",
      "Batchwise_accuracies: [0.9811991983356031, 0.9775999181916318, 0.9819993984396399, 0.9807997584156638, 0.9851998387837438, 0.9818009987438286, 0.9837987984635966, 0.9854000388397711]\n",
      "\n",
      "Batchwise_Median_Accuracy: 0.9819001985917343\n",
      "\n",
      "Accumulated Accuracies:\n",
      "{'Logistic_Regression': {'Optuna': [0.46279279558254016, 0.4274040750073275, 0.37198526681218375, 0.4565850335335094, 0.40799655195011414, 0.43138215094076027, 0.41100531394321377, 0.37338486684415817, 0.4611895147981208, 0.412395672126079, 0.47438819559017364, 0.47601140036098427, 0.462385074005607, 0.4256062352955579, 0.43138215094076027, 0.41100531394321377, 0.37338486684415817, 0.4611895147981208, 0.412395672126079, 0.47438819559017364, 0.47601140036098427, 0.462385074005607, 0.4256062352955579], 'HyperOpt': []}, 'SGD_Classifier': {'Optuna': [0.5031919186390813, 0.45941519979317463, 0.5387783187660187, 0.4933956786073758, 0.4823880361982826, 0.54839596306429, 0.4728127603770962, 0.5334030432808996, 0.449612118392648, 0.4353850718451748, 0.572011047970478, 0.46422612236256233, 0.5265819585182604, 0.4288073957837484, 0.46379187547844575], 'HyperOpt': []}, 'Random Forest': {'Optuna': [0.9811991983356031, 0.9775999181916318, 0.9819993984396399, 0.9807997584156638, 0.9851998387837438, 0.9818009987438286, 0.9837987984635966, 0.9854000388397711], 'HyperOpt': []}, 'Ada_Boost': {'Optuna': [], 'HyperOpt': []}, 'Grad_Boost': {'Optuna': [], 'HyperOpt': []}, 'Bagging_Classifier': {'Optuna': [], 'HyperOpt': []}, 'ExtraTreesClassifier': {'Optuna': [], 'HyperOpt': []}, 'Hist_Grad_Boost_Classifier': {'Optuna': [], 'HyperOpt': []}, 'Decision_Tree_Classifier': {'Optuna': [], 'HyperOpt': []}, 'XGB_Classifier': {'Optuna': [], 'HyperOpt': []}, 'KNN_Classifier': {'Optuna': [], 'HyperOpt': []}}\n",
      "\n",
      "\n",
      "Batch 9\n",
      "('\\n'\n",
      " \"Space: {'n_estimators': 144, 'criterion': 'log_loss', 'max_features': \"\n",
      " \"'log2', 'class_weight': 'balanced'}\")\n"
     ]
    },
    {
     "name": "stderr",
     "output_type": "stream",
     "text": [
      "[Parallel(n_jobs=-1)]: Done   3 out of   3 | elapsed:   20.0s finished\n",
      "[Parallel(n_jobs=-1)]: Using backend LokyBackend with 8 concurrent workers.\n"
     ]
    },
    {
     "name": "stdout",
     "output_type": "stream",
     "text": [
      "\n",
      "Accuracy of Random Forest: 0.9836002787437711\n",
      "\n",
      "Batchwise_accuracies: [0.9811991983356031, 0.9775999181916318, 0.9819993984396399, 0.9807997584156638, 0.9851998387837438, 0.9818009987438286, 0.9837987984635966, 0.9854000388397711, 0.9836002787437711]\n",
      "\n",
      "Batchwise_Median_Accuracy: 0.9819993984396399\n",
      "\n",
      "Accumulated Accuracies:\n",
      "{'Logistic_Regression': {'Optuna': [0.46279279558254016, 0.4274040750073275, 0.37198526681218375, 0.4565850335335094, 0.40799655195011414, 0.43138215094076027, 0.41100531394321377, 0.37338486684415817, 0.4611895147981208, 0.412395672126079, 0.47438819559017364, 0.47601140036098427, 0.462385074005607, 0.4256062352955579, 0.43138215094076027, 0.41100531394321377, 0.37338486684415817, 0.4611895147981208, 0.412395672126079, 0.47438819559017364, 0.47601140036098427, 0.462385074005607, 0.4256062352955579], 'HyperOpt': []}, 'SGD_Classifier': {'Optuna': [0.5031919186390813, 0.45941519979317463, 0.5387783187660187, 0.4933956786073758, 0.4823880361982826, 0.54839596306429, 0.4728127603770962, 0.5334030432808996, 0.449612118392648, 0.4353850718451748, 0.572011047970478, 0.46422612236256233, 0.5265819585182604, 0.4288073957837484, 0.46379187547844575], 'HyperOpt': []}, 'Random Forest': {'Optuna': [0.9811991983356031, 0.9775999181916318, 0.9819993984396399, 0.9807997584156638, 0.9851998387837438, 0.9818009987438286, 0.9837987984635966, 0.9854000388397711, 0.9836002787437711], 'HyperOpt': []}, 'Ada_Boost': {'Optuna': [], 'HyperOpt': []}, 'Grad_Boost': {'Optuna': [], 'HyperOpt': []}, 'Bagging_Classifier': {'Optuna': [], 'HyperOpt': []}, 'ExtraTreesClassifier': {'Optuna': [], 'HyperOpt': []}, 'Hist_Grad_Boost_Classifier': {'Optuna': [], 'HyperOpt': []}, 'Decision_Tree_Classifier': {'Optuna': [], 'HyperOpt': []}, 'XGB_Classifier': {'Optuna': [], 'HyperOpt': []}, 'KNN_Classifier': {'Optuna': [], 'HyperOpt': []}}\n",
      "\n",
      "\n",
      "Batch 10\n",
      "('\\n'\n",
      " \"Space: {'n_estimators': 144, 'criterion': 'log_loss', 'max_features': \"\n",
      " \"'log2', 'class_weight': 'balanced'}\")\n"
     ]
    },
    {
     "name": "stderr",
     "output_type": "stream",
     "text": [
      "[Parallel(n_jobs=-1)]: Done   3 out of   3 | elapsed:   19.8s finished\n",
      "[Parallel(n_jobs=-1)]: Using backend LokyBackend with 8 concurrent workers.\n"
     ]
    },
    {
     "name": "stdout",
     "output_type": "stream",
     "text": [
      "\n",
      "Accuracy of Random Forest: 0.9806006385757661\n",
      "\n",
      "Batchwise_accuracies: [0.9811991983356031, 0.9775999181916318, 0.9819993984396399, 0.9807997584156638, 0.9851998387837438, 0.9818009987438286, 0.9837987984635966, 0.9854000388397711, 0.9836002787437711, 0.9806006385757661]\n",
      "\n",
      "Batchwise_Median_Accuracy: 0.9819001985917343\n",
      "\n",
      "Accumulated Accuracies:\n",
      "{'Logistic_Regression': {'Optuna': [0.46279279558254016, 0.4274040750073275, 0.37198526681218375, 0.4565850335335094, 0.40799655195011414, 0.43138215094076027, 0.41100531394321377, 0.37338486684415817, 0.4611895147981208, 0.412395672126079, 0.47438819559017364, 0.47601140036098427, 0.462385074005607, 0.4256062352955579, 0.43138215094076027, 0.41100531394321377, 0.37338486684415817, 0.4611895147981208, 0.412395672126079, 0.47438819559017364, 0.47601140036098427, 0.462385074005607, 0.4256062352955579], 'HyperOpt': []}, 'SGD_Classifier': {'Optuna': [0.5031919186390813, 0.45941519979317463, 0.5387783187660187, 0.4933956786073758, 0.4823880361982826, 0.54839596306429, 0.4728127603770962, 0.5334030432808996, 0.449612118392648, 0.4353850718451748, 0.572011047970478, 0.46422612236256233, 0.5265819585182604, 0.4288073957837484, 0.46379187547844575], 'HyperOpt': []}, 'Random Forest': {'Optuna': [0.9811991983356031, 0.9775999181916318, 0.9819993984396399, 0.9807997584156638, 0.9851998387837438, 0.9818009987438286, 0.9837987984635966, 0.9854000388397711, 0.9836002787437711, 0.9806006385757661], 'HyperOpt': []}, 'Ada_Boost': {'Optuna': [], 'HyperOpt': []}, 'Grad_Boost': {'Optuna': [], 'HyperOpt': []}, 'Bagging_Classifier': {'Optuna': [], 'HyperOpt': []}, 'ExtraTreesClassifier': {'Optuna': [], 'HyperOpt': []}, 'Hist_Grad_Boost_Classifier': {'Optuna': [], 'HyperOpt': []}, 'Decision_Tree_Classifier': {'Optuna': [], 'HyperOpt': []}, 'XGB_Classifier': {'Optuna': [], 'HyperOpt': []}, 'KNN_Classifier': {'Optuna': [], 'HyperOpt': []}}\n",
      "\n",
      "\n",
      "Batch 11\n",
      "('\\n'\n",
      " \"Space: {'n_estimators': 144, 'criterion': 'log_loss', 'max_features': \"\n",
      " \"'log2', 'class_weight': 'balanced'}\")\n"
     ]
    },
    {
     "name": "stderr",
     "output_type": "stream",
     "text": [
      "[Parallel(n_jobs=-1)]: Done   3 out of   3 | elapsed:   19.1s finished\n",
      "[Parallel(n_jobs=-1)]: Using backend LokyBackend with 8 concurrent workers.\n"
     ]
    },
    {
     "name": "stdout",
     "output_type": "stream",
     "text": [
      "\n",
      "Accuracy of Random Forest: 0.9862001189197934\n",
      "\n",
      "Batchwise_accuracies: [0.9811991983356031, 0.9775999181916318, 0.9819993984396399, 0.9807997584156638, 0.9851998387837438, 0.9818009987438286, 0.9837987984635966, 0.9854000388397711, 0.9836002787437711, 0.9806006385757661, 0.9862001189197934]\n",
      "\n",
      "Batchwise_Median_Accuracy: 0.9819993984396399\n",
      "\n",
      "Accumulated Accuracies:\n",
      "{'Logistic_Regression': {'Optuna': [0.46279279558254016, 0.4274040750073275, 0.37198526681218375, 0.4565850335335094, 0.40799655195011414, 0.43138215094076027, 0.41100531394321377, 0.37338486684415817, 0.4611895147981208, 0.412395672126079, 0.47438819559017364, 0.47601140036098427, 0.462385074005607, 0.4256062352955579, 0.43138215094076027, 0.41100531394321377, 0.37338486684415817, 0.4611895147981208, 0.412395672126079, 0.47438819559017364, 0.47601140036098427, 0.462385074005607, 0.4256062352955579], 'HyperOpt': []}, 'SGD_Classifier': {'Optuna': [0.5031919186390813, 0.45941519979317463, 0.5387783187660187, 0.4933956786073758, 0.4823880361982826, 0.54839596306429, 0.4728127603770962, 0.5334030432808996, 0.449612118392648, 0.4353850718451748, 0.572011047970478, 0.46422612236256233, 0.5265819585182604, 0.4288073957837484, 0.46379187547844575], 'HyperOpt': []}, 'Random Forest': {'Optuna': [0.9811991983356031, 0.9775999181916318, 0.9819993984396399, 0.9807997584156638, 0.9851998387837438, 0.9818009987438286, 0.9837987984635966, 0.9854000388397711, 0.9836002787437711, 0.9806006385757661, 0.9862001189197934], 'HyperOpt': []}, 'Ada_Boost': {'Optuna': [], 'HyperOpt': []}, 'Grad_Boost': {'Optuna': [], 'HyperOpt': []}, 'Bagging_Classifier': {'Optuna': [], 'HyperOpt': []}, 'ExtraTreesClassifier': {'Optuna': [], 'HyperOpt': []}, 'Hist_Grad_Boost_Classifier': {'Optuna': [], 'HyperOpt': []}, 'Decision_Tree_Classifier': {'Optuna': [], 'HyperOpt': []}, 'XGB_Classifier': {'Optuna': [], 'HyperOpt': []}, 'KNN_Classifier': {'Optuna': [], 'HyperOpt': []}}\n",
      "\n",
      "\n",
      "Batch 12\n",
      "('\\n'\n",
      " \"Space: {'n_estimators': 144, 'criterion': 'log_loss', 'max_features': \"\n",
      " \"'log2', 'class_weight': 'balanced'}\")\n"
     ]
    },
    {
     "name": "stderr",
     "output_type": "stream",
     "text": [
      "[Parallel(n_jobs=-1)]: Done   3 out of   3 | elapsed:   20.4s finished\n",
      "[I 2024-01-28 19:59:49,806] Trial 0 finished with value: 0.9824499285817105 and parameters: {'n_estimators': 144, 'criterion': 'log_loss', 'max_features': 'log2', 'class_weight': 'balanced'}. Best is trial 0 with value: 0.9824499285817105.\n",
      "[Parallel(n_jobs=-1)]: Using backend LokyBackend with 8 concurrent workers.\n"
     ]
    },
    {
     "name": "stdout",
     "output_type": "stream",
     "text": [
      "\n",
      "Accuracy of Random Forest: 0.9812001585277184\n",
      "\n",
      "Batchwise_accuracies: [0.9811991983356031, 0.9775999181916318, 0.9819993984396399, 0.9807997584156638, 0.9851998387837438, 0.9818009987438286, 0.9837987984635966, 0.9854000388397711, 0.9836002787437711, 0.9806006385757661, 0.9862001189197934, 0.9812001585277184]\n",
      "\n",
      "Batchwise_Median_Accuracy: 0.9819001985917343\n",
      "\n",
      "Accumulated Accuracies:\n",
      "{'Logistic_Regression': {'Optuna': [0.46279279558254016, 0.4274040750073275, 0.37198526681218375, 0.4565850335335094, 0.40799655195011414, 0.43138215094076027, 0.41100531394321377, 0.37338486684415817, 0.4611895147981208, 0.412395672126079, 0.47438819559017364, 0.47601140036098427, 0.462385074005607, 0.4256062352955579, 0.43138215094076027, 0.41100531394321377, 0.37338486684415817, 0.4611895147981208, 0.412395672126079, 0.47438819559017364, 0.47601140036098427, 0.462385074005607, 0.4256062352955579], 'HyperOpt': []}, 'SGD_Classifier': {'Optuna': [0.5031919186390813, 0.45941519979317463, 0.5387783187660187, 0.4933956786073758, 0.4823880361982826, 0.54839596306429, 0.4728127603770962, 0.5334030432808996, 0.449612118392648, 0.4353850718451748, 0.572011047970478, 0.46422612236256233, 0.5265819585182604, 0.4288073957837484, 0.46379187547844575], 'HyperOpt': []}, 'Random Forest': {'Optuna': [0.9811991983356031, 0.9775999181916318, 0.9819993984396399, 0.9807997584156638, 0.9851998387837438, 0.9818009987438286, 0.9837987984635966, 0.9854000388397711, 0.9836002787437711, 0.9806006385757661, 0.9862001189197934, 0.9812001585277184], 'HyperOpt': []}, 'Ada_Boost': {'Optuna': [], 'HyperOpt': []}, 'Grad_Boost': {'Optuna': [], 'HyperOpt': []}, 'Bagging_Classifier': {'Optuna': [], 'HyperOpt': []}, 'ExtraTreesClassifier': {'Optuna': [], 'HyperOpt': []}, 'Hist_Grad_Boost_Classifier': {'Optuna': [], 'HyperOpt': []}, 'Decision_Tree_Classifier': {'Optuna': [], 'HyperOpt': []}, 'XGB_Classifier': {'Optuna': [], 'HyperOpt': []}, 'KNN_Classifier': {'Optuna': [], 'HyperOpt': []}}\n",
      "\n",
      "\n",
      "**************\n",
      "Trial_Number: 1\n",
      "**************\n",
      "\n",
      "Batch 1\n",
      "('\\n'\n",
      " \"Space: {'n_estimators': 101, 'criterion': 'entropy', 'max_features': None, \"\n",
      " \"'class_weight': 'balanced'}\")\n"
     ]
    },
    {
     "name": "stderr",
     "output_type": "stream",
     "text": [
      "[Parallel(n_jobs=-1)]: Done   3 out of   3 | elapsed:  2.9min finished\n",
      "[Parallel(n_jobs=-1)]: Using backend LokyBackend with 8 concurrent workers.\n"
     ]
    },
    {
     "name": "stdout",
     "output_type": "stream",
     "text": [
      "\n",
      "Accuracy of Random Forest: 0.9809988782555613\n",
      "\n",
      "Batchwise_accuracies: [0.9809988782555613]\n",
      "\n",
      "Batchwise_Median_Accuracy: 0.9809988782555613\n",
      "\n",
      "Accumulated Accuracies:\n",
      "{'Logistic_Regression': {'Optuna': [0.46279279558254016, 0.4274040750073275, 0.37198526681218375, 0.4565850335335094, 0.40799655195011414, 0.43138215094076027, 0.41100531394321377, 0.37338486684415817, 0.4611895147981208, 0.412395672126079, 0.47438819559017364, 0.47601140036098427, 0.462385074005607, 0.4256062352955579, 0.43138215094076027, 0.41100531394321377, 0.37338486684415817, 0.4611895147981208, 0.412395672126079, 0.47438819559017364, 0.47601140036098427, 0.462385074005607, 0.4256062352955579], 'HyperOpt': []}, 'SGD_Classifier': {'Optuna': [0.5031919186390813, 0.45941519979317463, 0.5387783187660187, 0.4933956786073758, 0.4823880361982826, 0.54839596306429, 0.4728127603770962, 0.5334030432808996, 0.449612118392648, 0.4353850718451748, 0.572011047970478, 0.46422612236256233, 0.5265819585182604, 0.4288073957837484, 0.46379187547844575], 'HyperOpt': []}, 'Random Forest': {'Optuna': [0.9811991983356031, 0.9775999181916318, 0.9819993984396399, 0.9807997584156638, 0.9851998387837438, 0.9818009987438286, 0.9837987984635966, 0.9854000388397711, 0.9836002787437711, 0.9806006385757661, 0.9862001189197934, 0.9812001585277184, 0.9809988782555613], 'HyperOpt': []}, 'Ada_Boost': {'Optuna': [], 'HyperOpt': []}, 'Grad_Boost': {'Optuna': [], 'HyperOpt': []}, 'Bagging_Classifier': {'Optuna': [], 'HyperOpt': []}, 'ExtraTreesClassifier': {'Optuna': [], 'HyperOpt': []}, 'Hist_Grad_Boost_Classifier': {'Optuna': [], 'HyperOpt': []}, 'Decision_Tree_Classifier': {'Optuna': [], 'HyperOpt': []}, 'XGB_Classifier': {'Optuna': [], 'HyperOpt': []}, 'KNN_Classifier': {'Optuna': [], 'HyperOpt': []}}\n",
      "\n",
      "\n",
      "Batch 2\n",
      "('\\n'\n",
      " \"Space: {'n_estimators': 101, 'criterion': 'entropy', 'max_features': None, \"\n",
      " \"'class_weight': 'balanced'}\")\n"
     ]
    },
    {
     "name": "stderr",
     "output_type": "stream",
     "text": [
      "[Parallel(n_jobs=-1)]: Done   3 out of   3 | elapsed:  2.6min finished\n",
      "[Parallel(n_jobs=-1)]: Using backend LokyBackend with 8 concurrent workers.\n"
     ]
    },
    {
     "name": "stdout",
     "output_type": "stream",
     "text": [
      "\n",
      "Accuracy of Random Forest: 0.9816005586397726\n",
      "\n",
      "Batchwise_accuracies: [0.9809988782555613, 0.9816005586397726]\n",
      "\n",
      "Batchwise_Median_Accuracy: 0.981299718447667\n",
      "\n",
      "Accumulated Accuracies:\n",
      "{'Logistic_Regression': {'Optuna': [0.46279279558254016, 0.4274040750073275, 0.37198526681218375, 0.4565850335335094, 0.40799655195011414, 0.43138215094076027, 0.41100531394321377, 0.37338486684415817, 0.4611895147981208, 0.412395672126079, 0.47438819559017364, 0.47601140036098427, 0.462385074005607, 0.4256062352955579, 0.43138215094076027, 0.41100531394321377, 0.37338486684415817, 0.4611895147981208, 0.412395672126079, 0.47438819559017364, 0.47601140036098427, 0.462385074005607, 0.4256062352955579], 'HyperOpt': []}, 'SGD_Classifier': {'Optuna': [0.5031919186390813, 0.45941519979317463, 0.5387783187660187, 0.4933956786073758, 0.4823880361982826, 0.54839596306429, 0.4728127603770962, 0.5334030432808996, 0.449612118392648, 0.4353850718451748, 0.572011047970478, 0.46422612236256233, 0.5265819585182604, 0.4288073957837484, 0.46379187547844575], 'HyperOpt': []}, 'Random Forest': {'Optuna': [0.9811991983356031, 0.9775999181916318, 0.9819993984396399, 0.9807997584156638, 0.9851998387837438, 0.9818009987438286, 0.9837987984635966, 0.9854000388397711, 0.9836002787437711, 0.9806006385757661, 0.9862001189197934, 0.9812001585277184, 0.9809988782555613, 0.9816005586397726], 'HyperOpt': []}, 'Ada_Boost': {'Optuna': [], 'HyperOpt': []}, 'Grad_Boost': {'Optuna': [], 'HyperOpt': []}, 'Bagging_Classifier': {'Optuna': [], 'HyperOpt': []}, 'ExtraTreesClassifier': {'Optuna': [], 'HyperOpt': []}, 'Hist_Grad_Boost_Classifier': {'Optuna': [], 'HyperOpt': []}, 'Decision_Tree_Classifier': {'Optuna': [], 'HyperOpt': []}, 'XGB_Classifier': {'Optuna': [], 'HyperOpt': []}, 'KNN_Classifier': {'Optuna': [], 'HyperOpt': []}}\n",
      "\n",
      "\n",
      "Batch 3\n",
      "('\\n'\n",
      " \"Space: {'n_estimators': 101, 'criterion': 'entropy', 'max_features': None, \"\n",
      " \"'class_weight': 'balanced'}\")\n"
     ]
    },
    {
     "name": "stderr",
     "output_type": "stream",
     "text": [
      "[Parallel(n_jobs=-1)]: Done   3 out of   3 | elapsed:  2.5min finished\n",
      "[Parallel(n_jobs=-1)]: Using backend LokyBackend with 8 concurrent workers.\n"
     ]
    },
    {
     "name": "stdout",
     "output_type": "stream",
     "text": [
      "\n",
      "Accuracy of Random Forest: 0.981799318407627\n",
      "\n",
      "Batchwise_accuracies: [0.9809988782555613, 0.9816005586397726, 0.981799318407627]\n",
      "\n",
      "Batchwise_Median_Accuracy: 0.9816005586397726\n",
      "\n",
      "Accumulated Accuracies:\n",
      "{'Logistic_Regression': {'Optuna': [0.46279279558254016, 0.4274040750073275, 0.37198526681218375, 0.4565850335335094, 0.40799655195011414, 0.43138215094076027, 0.41100531394321377, 0.37338486684415817, 0.4611895147981208, 0.412395672126079, 0.47438819559017364, 0.47601140036098427, 0.462385074005607, 0.4256062352955579, 0.43138215094076027, 0.41100531394321377, 0.37338486684415817, 0.4611895147981208, 0.412395672126079, 0.47438819559017364, 0.47601140036098427, 0.462385074005607, 0.4256062352955579], 'HyperOpt': []}, 'SGD_Classifier': {'Optuna': [0.5031919186390813, 0.45941519979317463, 0.5387783187660187, 0.4933956786073758, 0.4823880361982826, 0.54839596306429, 0.4728127603770962, 0.5334030432808996, 0.449612118392648, 0.4353850718451748, 0.572011047970478, 0.46422612236256233, 0.5265819585182604, 0.4288073957837484, 0.46379187547844575], 'HyperOpt': []}, 'Random Forest': {'Optuna': [0.9811991983356031, 0.9775999181916318, 0.9819993984396399, 0.9807997584156638, 0.9851998387837438, 0.9818009987438286, 0.9837987984635966, 0.9854000388397711, 0.9836002787437711, 0.9806006385757661, 0.9862001189197934, 0.9812001585277184, 0.9809988782555613, 0.9816005586397726, 0.981799318407627], 'HyperOpt': []}, 'Ada_Boost': {'Optuna': [], 'HyperOpt': []}, 'Grad_Boost': {'Optuna': [], 'HyperOpt': []}, 'Bagging_Classifier': {'Optuna': [], 'HyperOpt': []}, 'ExtraTreesClassifier': {'Optuna': [], 'HyperOpt': []}, 'Hist_Grad_Boost_Classifier': {'Optuna': [], 'HyperOpt': []}, 'Decision_Tree_Classifier': {'Optuna': [], 'HyperOpt': []}, 'XGB_Classifier': {'Optuna': [], 'HyperOpt': []}, 'KNN_Classifier': {'Optuna': [], 'HyperOpt': []}}\n",
      "\n",
      "\n",
      "Batch 4\n",
      "('\\n'\n",
      " \"Space: {'n_estimators': 101, 'criterion': 'entropy', 'max_features': None, \"\n",
      " \"'class_weight': 'balanced'}\")\n"
     ]
    },
    {
     "name": "stderr",
     "output_type": "stream",
     "text": [
      "[Parallel(n_jobs=-1)]: Done   3 out of   3 | elapsed:  2.2min finished\n",
      "[Parallel(n_jobs=-1)]: Using backend LokyBackend with 8 concurrent workers.\n"
     ]
    },
    {
     "name": "stdout",
     "output_type": "stream",
     "text": [
      "\n",
      "Accuracy of Random Forest: 0.9841999187197374\n",
      "\n",
      "Batchwise_accuracies: [0.9809988782555613, 0.9816005586397726, 0.981799318407627, 0.9841999187197374]\n",
      "\n",
      "Batchwise_Median_Accuracy: 0.9816999385236997\n",
      "\n",
      "Accumulated Accuracies:\n",
      "{'Logistic_Regression': {'Optuna': [0.46279279558254016, 0.4274040750073275, 0.37198526681218375, 0.4565850335335094, 0.40799655195011414, 0.43138215094076027, 0.41100531394321377, 0.37338486684415817, 0.4611895147981208, 0.412395672126079, 0.47438819559017364, 0.47601140036098427, 0.462385074005607, 0.4256062352955579, 0.43138215094076027, 0.41100531394321377, 0.37338486684415817, 0.4611895147981208, 0.412395672126079, 0.47438819559017364, 0.47601140036098427, 0.462385074005607, 0.4256062352955579], 'HyperOpt': []}, 'SGD_Classifier': {'Optuna': [0.5031919186390813, 0.45941519979317463, 0.5387783187660187, 0.4933956786073758, 0.4823880361982826, 0.54839596306429, 0.4728127603770962, 0.5334030432808996, 0.449612118392648, 0.4353850718451748, 0.572011047970478, 0.46422612236256233, 0.5265819585182604, 0.4288073957837484, 0.46379187547844575], 'HyperOpt': []}, 'Random Forest': {'Optuna': [0.9811991983356031, 0.9775999181916318, 0.9819993984396399, 0.9807997584156638, 0.9851998387837438, 0.9818009987438286, 0.9837987984635966, 0.9854000388397711, 0.9836002787437711, 0.9806006385757661, 0.9862001189197934, 0.9812001585277184, 0.9809988782555613, 0.9816005586397726, 0.981799318407627, 0.9841999187197374], 'HyperOpt': []}, 'Ada_Boost': {'Optuna': [], 'HyperOpt': []}, 'Grad_Boost': {'Optuna': [], 'HyperOpt': []}, 'Bagging_Classifier': {'Optuna': [], 'HyperOpt': []}, 'ExtraTreesClassifier': {'Optuna': [], 'HyperOpt': []}, 'Hist_Grad_Boost_Classifier': {'Optuna': [], 'HyperOpt': []}, 'Decision_Tree_Classifier': {'Optuna': [], 'HyperOpt': []}, 'XGB_Classifier': {'Optuna': [], 'HyperOpt': []}, 'KNN_Classifier': {'Optuna': [], 'HyperOpt': []}}\n",
      "\n",
      "\n",
      "Batch 5\n",
      "('\\n'\n",
      " \"Space: {'n_estimators': 101, 'criterion': 'entropy', 'max_features': None, \"\n",
      " \"'class_weight': 'balanced'}\")\n"
     ]
    },
    {
     "name": "stderr",
     "output_type": "stream",
     "text": [
      "[Parallel(n_jobs=-1)]: Done   3 out of   3 | elapsed:  2.9min finished\n",
      "[Parallel(n_jobs=-1)]: Using backend LokyBackend with 8 concurrent workers.\n"
     ]
    },
    {
     "name": "stdout",
     "output_type": "stream",
     "text": [
      "\n",
      "Accuracy of Random Forest: 0.9838001187277551\n",
      "\n",
      "Batchwise_accuracies: [0.9809988782555613, 0.9816005586397726, 0.981799318407627, 0.9841999187197374, 0.9838001187277551]\n",
      "\n",
      "Batchwise_Median_Accuracy: 0.981799318407627\n",
      "\n",
      "Accumulated Accuracies:\n",
      "{'Logistic_Regression': {'Optuna': [0.46279279558254016, 0.4274040750073275, 0.37198526681218375, 0.4565850335335094, 0.40799655195011414, 0.43138215094076027, 0.41100531394321377, 0.37338486684415817, 0.4611895147981208, 0.412395672126079, 0.47438819559017364, 0.47601140036098427, 0.462385074005607, 0.4256062352955579, 0.43138215094076027, 0.41100531394321377, 0.37338486684415817, 0.4611895147981208, 0.412395672126079, 0.47438819559017364, 0.47601140036098427, 0.462385074005607, 0.4256062352955579], 'HyperOpt': []}, 'SGD_Classifier': {'Optuna': [0.5031919186390813, 0.45941519979317463, 0.5387783187660187, 0.4933956786073758, 0.4823880361982826, 0.54839596306429, 0.4728127603770962, 0.5334030432808996, 0.449612118392648, 0.4353850718451748, 0.572011047970478, 0.46422612236256233, 0.5265819585182604, 0.4288073957837484, 0.46379187547844575], 'HyperOpt': []}, 'Random Forest': {'Optuna': [0.9811991983356031, 0.9775999181916318, 0.9819993984396399, 0.9807997584156638, 0.9851998387837438, 0.9818009987438286, 0.9837987984635966, 0.9854000388397711, 0.9836002787437711, 0.9806006385757661, 0.9862001189197934, 0.9812001585277184, 0.9809988782555613, 0.9816005586397726, 0.981799318407627, 0.9841999187197374, 0.9838001187277551], 'HyperOpt': []}, 'Ada_Boost': {'Optuna': [], 'HyperOpt': []}, 'Grad_Boost': {'Optuna': [], 'HyperOpt': []}, 'Bagging_Classifier': {'Optuna': [], 'HyperOpt': []}, 'ExtraTreesClassifier': {'Optuna': [], 'HyperOpt': []}, 'Hist_Grad_Boost_Classifier': {'Optuna': [], 'HyperOpt': []}, 'Decision_Tree_Classifier': {'Optuna': [], 'HyperOpt': []}, 'XGB_Classifier': {'Optuna': [], 'HyperOpt': []}, 'KNN_Classifier': {'Optuna': [], 'HyperOpt': []}}\n",
      "\n",
      "\n",
      "Batch 6\n",
      "('\\n'\n",
      " \"Space: {'n_estimators': 101, 'criterion': 'entropy', 'max_features': None, \"\n",
      " \"'class_weight': 'balanced'}\")\n"
     ]
    },
    {
     "name": "stderr",
     "output_type": "stream",
     "text": [
      "[Parallel(n_jobs=-1)]: Done   3 out of   3 | elapsed:  3.4min finished\n",
      "[Parallel(n_jobs=-1)]: Using backend LokyBackend with 8 concurrent workers.\n"
     ]
    },
    {
     "name": "stdout",
     "output_type": "stream",
     "text": [
      "\n",
      "Accuracy of Random Forest: 0.9792006784717486\n",
      "\n",
      "Batchwise_accuracies: [0.9809988782555613, 0.9816005586397726, 0.981799318407627, 0.9841999187197374, 0.9838001187277551, 0.9792006784717486]\n",
      "\n",
      "Batchwise_Median_Accuracy: 0.9816999385236997\n",
      "\n",
      "Accumulated Accuracies:\n",
      "{'Logistic_Regression': {'Optuna': [0.46279279558254016, 0.4274040750073275, 0.37198526681218375, 0.4565850335335094, 0.40799655195011414, 0.43138215094076027, 0.41100531394321377, 0.37338486684415817, 0.4611895147981208, 0.412395672126079, 0.47438819559017364, 0.47601140036098427, 0.462385074005607, 0.4256062352955579, 0.43138215094076027, 0.41100531394321377, 0.37338486684415817, 0.4611895147981208, 0.412395672126079, 0.47438819559017364, 0.47601140036098427, 0.462385074005607, 0.4256062352955579], 'HyperOpt': []}, 'SGD_Classifier': {'Optuna': [0.5031919186390813, 0.45941519979317463, 0.5387783187660187, 0.4933956786073758, 0.4823880361982826, 0.54839596306429, 0.4728127603770962, 0.5334030432808996, 0.449612118392648, 0.4353850718451748, 0.572011047970478, 0.46422612236256233, 0.5265819585182604, 0.4288073957837484, 0.46379187547844575], 'HyperOpt': []}, 'Random Forest': {'Optuna': [0.9811991983356031, 0.9775999181916318, 0.9819993984396399, 0.9807997584156638, 0.9851998387837438, 0.9818009987438286, 0.9837987984635966, 0.9854000388397711, 0.9836002787437711, 0.9806006385757661, 0.9862001189197934, 0.9812001585277184, 0.9809988782555613, 0.9816005586397726, 0.981799318407627, 0.9841999187197374, 0.9838001187277551, 0.9792006784717486], 'HyperOpt': []}, 'Ada_Boost': {'Optuna': [], 'HyperOpt': []}, 'Grad_Boost': {'Optuna': [], 'HyperOpt': []}, 'Bagging_Classifier': {'Optuna': [], 'HyperOpt': []}, 'ExtraTreesClassifier': {'Optuna': [], 'HyperOpt': []}, 'Hist_Grad_Boost_Classifier': {'Optuna': [], 'HyperOpt': []}, 'Decision_Tree_Classifier': {'Optuna': [], 'HyperOpt': []}, 'XGB_Classifier': {'Optuna': [], 'HyperOpt': []}, 'KNN_Classifier': {'Optuna': [], 'HyperOpt': []}}\n",
      "\n",
      "\n",
      "Batch 7\n",
      "('\\n'\n",
      " \"Space: {'n_estimators': 101, 'criterion': 'entropy', 'max_features': None, \"\n",
      " \"'class_weight': 'balanced'}\")\n"
     ]
    },
    {
     "name": "stderr",
     "output_type": "stream",
     "text": [
      "[Parallel(n_jobs=-1)]: Done   3 out of   3 | elapsed:  2.9min finished\n",
      "[Parallel(n_jobs=-1)]: Using backend LokyBackend with 8 concurrent workers.\n"
     ]
    },
    {
     "name": "stdout",
     "output_type": "stream",
     "text": [
      "\n",
      "Accuracy of Random Forest: 0.984199198575651\n",
      "\n",
      "Batchwise_accuracies: [0.9809988782555613, 0.9816005586397726, 0.981799318407627, 0.9841999187197374, 0.9838001187277551, 0.9792006784717486, 0.984199198575651]\n",
      "\n",
      "Batchwise_Median_Accuracy: 0.981799318407627\n",
      "\n",
      "Accumulated Accuracies:\n",
      "{'Logistic_Regression': {'Optuna': [0.46279279558254016, 0.4274040750073275, 0.37198526681218375, 0.4565850335335094, 0.40799655195011414, 0.43138215094076027, 0.41100531394321377, 0.37338486684415817, 0.4611895147981208, 0.412395672126079, 0.47438819559017364, 0.47601140036098427, 0.462385074005607, 0.4256062352955579, 0.43138215094076027, 0.41100531394321377, 0.37338486684415817, 0.4611895147981208, 0.412395672126079, 0.47438819559017364, 0.47601140036098427, 0.462385074005607, 0.4256062352955579], 'HyperOpt': []}, 'SGD_Classifier': {'Optuna': [0.5031919186390813, 0.45941519979317463, 0.5387783187660187, 0.4933956786073758, 0.4823880361982826, 0.54839596306429, 0.4728127603770962, 0.5334030432808996, 0.449612118392648, 0.4353850718451748, 0.572011047970478, 0.46422612236256233, 0.5265819585182604, 0.4288073957837484, 0.46379187547844575], 'HyperOpt': []}, 'Random Forest': {'Optuna': [0.9811991983356031, 0.9775999181916318, 0.9819993984396399, 0.9807997584156638, 0.9851998387837438, 0.9818009987438286, 0.9837987984635966, 0.9854000388397711, 0.9836002787437711, 0.9806006385757661, 0.9862001189197934, 0.9812001585277184, 0.9809988782555613, 0.9816005586397726, 0.981799318407627, 0.9841999187197374, 0.9838001187277551, 0.9792006784717486, 0.984199198575651], 'HyperOpt': []}, 'Ada_Boost': {'Optuna': [], 'HyperOpt': []}, 'Grad_Boost': {'Optuna': [], 'HyperOpt': []}, 'Bagging_Classifier': {'Optuna': [], 'HyperOpt': []}, 'ExtraTreesClassifier': {'Optuna': [], 'HyperOpt': []}, 'Hist_Grad_Boost_Classifier': {'Optuna': [], 'HyperOpt': []}, 'Decision_Tree_Classifier': {'Optuna': [], 'HyperOpt': []}, 'XGB_Classifier': {'Optuna': [], 'HyperOpt': []}, 'KNN_Classifier': {'Optuna': [], 'HyperOpt': []}}\n",
      "\n",
      "\n",
      "Batch 8\n",
      "('\\n'\n",
      " \"Space: {'n_estimators': 101, 'criterion': 'entropy', 'max_features': None, \"\n",
      " \"'class_weight': 'balanced'}\")\n"
     ]
    },
    {
     "name": "stderr",
     "output_type": "stream",
     "text": [
      "[Parallel(n_jobs=-1)]: Done   3 out of   3 | elapsed:  2.6min finished\n",
      "[Parallel(n_jobs=-1)]: Using backend LokyBackend with 8 concurrent workers.\n"
     ]
    },
    {
     "name": "stdout",
     "output_type": "stream",
     "text": [
      "\n",
      "Accuracy of Random Forest: 0.983199998655731\n",
      "\n",
      "Batchwise_accuracies: [0.9809988782555613, 0.9816005586397726, 0.981799318407627, 0.9841999187197374, 0.9838001187277551, 0.9792006784717486, 0.984199198575651, 0.983199998655731]\n",
      "\n",
      "Batchwise_Median_Accuracy: 0.982499658531679\n",
      "\n",
      "Accumulated Accuracies:\n",
      "{'Logistic_Regression': {'Optuna': [0.46279279558254016, 0.4274040750073275, 0.37198526681218375, 0.4565850335335094, 0.40799655195011414, 0.43138215094076027, 0.41100531394321377, 0.37338486684415817, 0.4611895147981208, 0.412395672126079, 0.47438819559017364, 0.47601140036098427, 0.462385074005607, 0.4256062352955579, 0.43138215094076027, 0.41100531394321377, 0.37338486684415817, 0.4611895147981208, 0.412395672126079, 0.47438819559017364, 0.47601140036098427, 0.462385074005607, 0.4256062352955579], 'HyperOpt': []}, 'SGD_Classifier': {'Optuna': [0.5031919186390813, 0.45941519979317463, 0.5387783187660187, 0.4933956786073758, 0.4823880361982826, 0.54839596306429, 0.4728127603770962, 0.5334030432808996, 0.449612118392648, 0.4353850718451748, 0.572011047970478, 0.46422612236256233, 0.5265819585182604, 0.4288073957837484, 0.46379187547844575], 'HyperOpt': []}, 'Random Forest': {'Optuna': [0.9811991983356031, 0.9775999181916318, 0.9819993984396399, 0.9807997584156638, 0.9851998387837438, 0.9818009987438286, 0.9837987984635966, 0.9854000388397711, 0.9836002787437711, 0.9806006385757661, 0.9862001189197934, 0.9812001585277184, 0.9809988782555613, 0.9816005586397726, 0.981799318407627, 0.9841999187197374, 0.9838001187277551, 0.9792006784717486, 0.984199198575651, 0.983199998655731], 'HyperOpt': []}, 'Ada_Boost': {'Optuna': [], 'HyperOpt': []}, 'Grad_Boost': {'Optuna': [], 'HyperOpt': []}, 'Bagging_Classifier': {'Optuna': [], 'HyperOpt': []}, 'ExtraTreesClassifier': {'Optuna': [], 'HyperOpt': []}, 'Hist_Grad_Boost_Classifier': {'Optuna': [], 'HyperOpt': []}, 'Decision_Tree_Classifier': {'Optuna': [], 'HyperOpt': []}, 'XGB_Classifier': {'Optuna': [], 'HyperOpt': []}, 'KNN_Classifier': {'Optuna': [], 'HyperOpt': []}}\n",
      "\n",
      "\n",
      "Batch 9\n",
      "('\\n'\n",
      " \"Space: {'n_estimators': 101, 'criterion': 'entropy', 'max_features': None, \"\n",
      " \"'class_weight': 'balanced'}\")\n"
     ]
    },
    {
     "name": "stderr",
     "output_type": "stream",
     "text": [
      "[Parallel(n_jobs=-1)]: Done   3 out of   3 | elapsed:  2.6min finished\n",
      "[Parallel(n_jobs=-1)]: Using backend LokyBackend with 8 concurrent workers.\n"
     ]
    },
    {
     "name": "stdout",
     "output_type": "stream",
     "text": [
      "\n",
      "Accuracy of Random Forest: 0.9824007587438096\n",
      "\n",
      "Batchwise_accuracies: [0.9809988782555613, 0.9816005586397726, 0.981799318407627, 0.9841999187197374, 0.9838001187277551, 0.9792006784717486, 0.984199198575651, 0.983199998655731, 0.9824007587438096]\n",
      "\n",
      "Batchwise_Median_Accuracy: 0.9824007587438096\n",
      "\n",
      "Accumulated Accuracies:\n",
      "{'Logistic_Regression': {'Optuna': [0.46279279558254016, 0.4274040750073275, 0.37198526681218375, 0.4565850335335094, 0.40799655195011414, 0.43138215094076027, 0.41100531394321377, 0.37338486684415817, 0.4611895147981208, 0.412395672126079, 0.47438819559017364, 0.47601140036098427, 0.462385074005607, 0.4256062352955579, 0.43138215094076027, 0.41100531394321377, 0.37338486684415817, 0.4611895147981208, 0.412395672126079, 0.47438819559017364, 0.47601140036098427, 0.462385074005607, 0.4256062352955579], 'HyperOpt': []}, 'SGD_Classifier': {'Optuna': [0.5031919186390813, 0.45941519979317463, 0.5387783187660187, 0.4933956786073758, 0.4823880361982826, 0.54839596306429, 0.4728127603770962, 0.5334030432808996, 0.449612118392648, 0.4353850718451748, 0.572011047970478, 0.46422612236256233, 0.5265819585182604, 0.4288073957837484, 0.46379187547844575], 'HyperOpt': []}, 'Random Forest': {'Optuna': [0.9811991983356031, 0.9775999181916318, 0.9819993984396399, 0.9807997584156638, 0.9851998387837438, 0.9818009987438286, 0.9837987984635966, 0.9854000388397711, 0.9836002787437711, 0.9806006385757661, 0.9862001189197934, 0.9812001585277184, 0.9809988782555613, 0.9816005586397726, 0.981799318407627, 0.9841999187197374, 0.9838001187277551, 0.9792006784717486, 0.984199198575651, 0.983199998655731, 0.9824007587438096], 'HyperOpt': []}, 'Ada_Boost': {'Optuna': [], 'HyperOpt': []}, 'Grad_Boost': {'Optuna': [], 'HyperOpt': []}, 'Bagging_Classifier': {'Optuna': [], 'HyperOpt': []}, 'ExtraTreesClassifier': {'Optuna': [], 'HyperOpt': []}, 'Hist_Grad_Boost_Classifier': {'Optuna': [], 'HyperOpt': []}, 'Decision_Tree_Classifier': {'Optuna': [], 'HyperOpt': []}, 'XGB_Classifier': {'Optuna': [], 'HyperOpt': []}, 'KNN_Classifier': {'Optuna': [], 'HyperOpt': []}}\n",
      "\n",
      "\n",
      "Batch 10\n",
      "('\\n'\n",
      " \"Space: {'n_estimators': 101, 'criterion': 'entropy', 'max_features': None, \"\n",
      " \"'class_weight': 'balanced'}\")\n"
     ]
    },
    {
     "name": "stderr",
     "output_type": "stream",
     "text": [
      "[Parallel(n_jobs=-1)]: Done   3 out of   3 | elapsed:  2.9min finished\n",
      "[Parallel(n_jobs=-1)]: Using backend LokyBackend with 8 concurrent workers.\n"
     ]
    },
    {
     "name": "stdout",
     "output_type": "stream",
     "text": [
      "\n",
      "Accuracy of Random Forest: 0.9807998784396782\n",
      "\n",
      "Batchwise_accuracies: [0.9809988782555613, 0.9816005586397726, 0.981799318407627, 0.9841999187197374, 0.9838001187277551, 0.9792006784717486, 0.984199198575651, 0.983199998655731, 0.9824007587438096, 0.9807998784396782]\n",
      "\n",
      "Batchwise_Median_Accuracy: 0.9821000385757184\n",
      "\n",
      "Accumulated Accuracies:\n",
      "{'Logistic_Regression': {'Optuna': [0.46279279558254016, 0.4274040750073275, 0.37198526681218375, 0.4565850335335094, 0.40799655195011414, 0.43138215094076027, 0.41100531394321377, 0.37338486684415817, 0.4611895147981208, 0.412395672126079, 0.47438819559017364, 0.47601140036098427, 0.462385074005607, 0.4256062352955579, 0.43138215094076027, 0.41100531394321377, 0.37338486684415817, 0.4611895147981208, 0.412395672126079, 0.47438819559017364, 0.47601140036098427, 0.462385074005607, 0.4256062352955579], 'HyperOpt': []}, 'SGD_Classifier': {'Optuna': [0.5031919186390813, 0.45941519979317463, 0.5387783187660187, 0.4933956786073758, 0.4823880361982826, 0.54839596306429, 0.4728127603770962, 0.5334030432808996, 0.449612118392648, 0.4353850718451748, 0.572011047970478, 0.46422612236256233, 0.5265819585182604, 0.4288073957837484, 0.46379187547844575], 'HyperOpt': []}, 'Random Forest': {'Optuna': [0.9811991983356031, 0.9775999181916318, 0.9819993984396399, 0.9807997584156638, 0.9851998387837438, 0.9818009987438286, 0.9837987984635966, 0.9854000388397711, 0.9836002787437711, 0.9806006385757661, 0.9862001189197934, 0.9812001585277184, 0.9809988782555613, 0.9816005586397726, 0.981799318407627, 0.9841999187197374, 0.9838001187277551, 0.9792006784717486, 0.984199198575651, 0.983199998655731, 0.9824007587438096, 0.9807998784396782], 'HyperOpt': []}, 'Ada_Boost': {'Optuna': [], 'HyperOpt': []}, 'Grad_Boost': {'Optuna': [], 'HyperOpt': []}, 'Bagging_Classifier': {'Optuna': [], 'HyperOpt': []}, 'ExtraTreesClassifier': {'Optuna': [], 'HyperOpt': []}, 'Hist_Grad_Boost_Classifier': {'Optuna': [], 'HyperOpt': []}, 'Decision_Tree_Classifier': {'Optuna': [], 'HyperOpt': []}, 'XGB_Classifier': {'Optuna': [], 'HyperOpt': []}, 'KNN_Classifier': {'Optuna': [], 'HyperOpt': []}}\n",
      "\n",
      "\n",
      "Batch 11\n",
      "('\\n'\n",
      " \"Space: {'n_estimators': 101, 'criterion': 'entropy', 'max_features': None, \"\n",
      " \"'class_weight': 'balanced'}\")\n"
     ]
    },
    {
     "name": "stderr",
     "output_type": "stream",
     "text": [
      "[Parallel(n_jobs=-1)]: Done   3 out of   3 | elapsed:  2.6min finished\n",
      "[Parallel(n_jobs=-1)]: Using backend LokyBackend with 8 concurrent workers.\n"
     ]
    },
    {
     "name": "stdout",
     "output_type": "stream",
     "text": [
      "\n",
      "Accuracy of Random Forest: 0.9828007987838207\n",
      "\n",
      "Batchwise_accuracies: [0.9809988782555613, 0.9816005586397726, 0.981799318407627, 0.9841999187197374, 0.9838001187277551, 0.9792006784717486, 0.984199198575651, 0.983199998655731, 0.9824007587438096, 0.9807998784396782, 0.9828007987838207]\n",
      "\n",
      "Batchwise_Median_Accuracy: 0.9824007587438096\n",
      "\n",
      "Accumulated Accuracies:\n",
      "{'Logistic_Regression': {'Optuna': [0.46279279558254016, 0.4274040750073275, 0.37198526681218375, 0.4565850335335094, 0.40799655195011414, 0.43138215094076027, 0.41100531394321377, 0.37338486684415817, 0.4611895147981208, 0.412395672126079, 0.47438819559017364, 0.47601140036098427, 0.462385074005607, 0.4256062352955579, 0.43138215094076027, 0.41100531394321377, 0.37338486684415817, 0.4611895147981208, 0.412395672126079, 0.47438819559017364, 0.47601140036098427, 0.462385074005607, 0.4256062352955579], 'HyperOpt': []}, 'SGD_Classifier': {'Optuna': [0.5031919186390813, 0.45941519979317463, 0.5387783187660187, 0.4933956786073758, 0.4823880361982826, 0.54839596306429, 0.4728127603770962, 0.5334030432808996, 0.449612118392648, 0.4353850718451748, 0.572011047970478, 0.46422612236256233, 0.5265819585182604, 0.4288073957837484, 0.46379187547844575], 'HyperOpt': []}, 'Random Forest': {'Optuna': [0.9811991983356031, 0.9775999181916318, 0.9819993984396399, 0.9807997584156638, 0.9851998387837438, 0.9818009987438286, 0.9837987984635966, 0.9854000388397711, 0.9836002787437711, 0.9806006385757661, 0.9862001189197934, 0.9812001585277184, 0.9809988782555613, 0.9816005586397726, 0.981799318407627, 0.9841999187197374, 0.9838001187277551, 0.9792006784717486, 0.984199198575651, 0.983199998655731, 0.9824007587438096, 0.9807998784396782, 0.9828007987838207], 'HyperOpt': []}, 'Ada_Boost': {'Optuna': [], 'HyperOpt': []}, 'Grad_Boost': {'Optuna': [], 'HyperOpt': []}, 'Bagging_Classifier': {'Optuna': [], 'HyperOpt': []}, 'ExtraTreesClassifier': {'Optuna': [], 'HyperOpt': []}, 'Hist_Grad_Boost_Classifier': {'Optuna': [], 'HyperOpt': []}, 'Decision_Tree_Classifier': {'Optuna': [], 'HyperOpt': []}, 'XGB_Classifier': {'Optuna': [], 'HyperOpt': []}, 'KNN_Classifier': {'Optuna': [], 'HyperOpt': []}}\n",
      "\n",
      "\n",
      "Batch 12\n",
      "('\\n'\n",
      " \"Space: {'n_estimators': 101, 'criterion': 'entropy', 'max_features': None, \"\n",
      " \"'class_weight': 'balanced'}\")\n"
     ]
    },
    {
     "name": "stderr",
     "output_type": "stream",
     "text": [
      "[Parallel(n_jobs=-1)]: Done   3 out of   3 | elapsed:  3.6min finished\n",
      "[I 2024-01-28 20:33:40,696] Trial 1 finished with value: 0.9821499885697129 and parameters: {'n_estimators': 101, 'criterion': 'entropy', 'max_features': None, 'class_weight': 'balanced'}. Best is trial 0 with value: 0.9824499285817105.\n",
      "[Parallel(n_jobs=-1)]: Using backend LokyBackend with 8 concurrent workers.\n"
     ]
    },
    {
     "name": "stdout",
     "output_type": "stream",
     "text": [
      "\n",
      "Accuracy of Random Forest: 0.9807997584156638\n",
      "\n",
      "Batchwise_accuracies: [0.9809988782555613, 0.9816005586397726, 0.981799318407627, 0.9841999187197374, 0.9838001187277551, 0.9792006784717486, 0.984199198575651, 0.983199998655731, 0.9824007587438096, 0.9807998784396782, 0.9828007987838207, 0.9807997584156638]\n",
      "\n",
      "Batchwise_Median_Accuracy: 0.9821000385757184\n",
      "\n",
      "Accumulated Accuracies:\n",
      "{'Logistic_Regression': {'Optuna': [0.46279279558254016, 0.4274040750073275, 0.37198526681218375, 0.4565850335335094, 0.40799655195011414, 0.43138215094076027, 0.41100531394321377, 0.37338486684415817, 0.4611895147981208, 0.412395672126079, 0.47438819559017364, 0.47601140036098427, 0.462385074005607, 0.4256062352955579, 0.43138215094076027, 0.41100531394321377, 0.37338486684415817, 0.4611895147981208, 0.412395672126079, 0.47438819559017364, 0.47601140036098427, 0.462385074005607, 0.4256062352955579], 'HyperOpt': []}, 'SGD_Classifier': {'Optuna': [0.5031919186390813, 0.45941519979317463, 0.5387783187660187, 0.4933956786073758, 0.4823880361982826, 0.54839596306429, 0.4728127603770962, 0.5334030432808996, 0.449612118392648, 0.4353850718451748, 0.572011047970478, 0.46422612236256233, 0.5265819585182604, 0.4288073957837484, 0.46379187547844575], 'HyperOpt': []}, 'Random Forest': {'Optuna': [0.9811991983356031, 0.9775999181916318, 0.9819993984396399, 0.9807997584156638, 0.9851998387837438, 0.9818009987438286, 0.9837987984635966, 0.9854000388397711, 0.9836002787437711, 0.9806006385757661, 0.9862001189197934, 0.9812001585277184, 0.9809988782555613, 0.9816005586397726, 0.981799318407627, 0.9841999187197374, 0.9838001187277551, 0.9792006784717486, 0.984199198575651, 0.983199998655731, 0.9824007587438096, 0.9807998784396782, 0.9828007987838207, 0.9807997584156638], 'HyperOpt': []}, 'Ada_Boost': {'Optuna': [], 'HyperOpt': []}, 'Grad_Boost': {'Optuna': [], 'HyperOpt': []}, 'Bagging_Classifier': {'Optuna': [], 'HyperOpt': []}, 'ExtraTreesClassifier': {'Optuna': [], 'HyperOpt': []}, 'Hist_Grad_Boost_Classifier': {'Optuna': [], 'HyperOpt': []}, 'Decision_Tree_Classifier': {'Optuna': [], 'HyperOpt': []}, 'XGB_Classifier': {'Optuna': [], 'HyperOpt': []}, 'KNN_Classifier': {'Optuna': [], 'HyperOpt': []}}\n",
      "\n",
      "\n",
      "**************\n",
      "Trial_Number: 2\n",
      "**************\n",
      "\n",
      "Batch 1\n",
      "('\\n'\n",
      " \"Space: {'n_estimators': 114, 'criterion': 'gini', 'max_features': None, \"\n",
      " \"'class_weight': 'balanced'}\")\n"
     ]
    },
    {
     "name": "stderr",
     "output_type": "stream",
     "text": [
      "[Parallel(n_jobs=-1)]: Done   3 out of   3 | elapsed:  5.8min finished\n",
      "[Parallel(n_jobs=-1)]: Using backend LokyBackend with 8 concurrent workers.\n"
     ]
    },
    {
     "name": "stdout",
     "output_type": "stream",
     "text": [
      "\n",
      "Accuracy of Random Forest: 0.979799118207571\n",
      "\n",
      "Batchwise_accuracies: [0.979799118207571]\n",
      "\n",
      "Batchwise_Median_Accuracy: 0.979799118207571\n",
      "\n",
      "Accumulated Accuracies:\n",
      "{'Logistic_Regression': {'Optuna': [0.46279279558254016, 0.4274040750073275, 0.37198526681218375, 0.4565850335335094, 0.40799655195011414, 0.43138215094076027, 0.41100531394321377, 0.37338486684415817, 0.4611895147981208, 0.412395672126079, 0.47438819559017364, 0.47601140036098427, 0.462385074005607, 0.4256062352955579, 0.43138215094076027, 0.41100531394321377, 0.37338486684415817, 0.4611895147981208, 0.412395672126079, 0.47438819559017364, 0.47601140036098427, 0.462385074005607, 0.4256062352955579], 'HyperOpt': []}, 'SGD_Classifier': {'Optuna': [0.5031919186390813, 0.45941519979317463, 0.5387783187660187, 0.4933956786073758, 0.4823880361982826, 0.54839596306429, 0.4728127603770962, 0.5334030432808996, 0.449612118392648, 0.4353850718451748, 0.572011047970478, 0.46422612236256233, 0.5265819585182604, 0.4288073957837484, 0.46379187547844575], 'HyperOpt': []}, 'Random Forest': {'Optuna': [0.9811991983356031, 0.9775999181916318, 0.9819993984396399, 0.9807997584156638, 0.9851998387837438, 0.9818009987438286, 0.9837987984635966, 0.9854000388397711, 0.9836002787437711, 0.9806006385757661, 0.9862001189197934, 0.9812001585277184, 0.9809988782555613, 0.9816005586397726, 0.981799318407627, 0.9841999187197374, 0.9838001187277551, 0.9792006784717486, 0.984199198575651, 0.983199998655731, 0.9824007587438096, 0.9807998784396782, 0.9828007987838207, 0.9807997584156638, 0.979799118207571], 'HyperOpt': []}, 'Ada_Boost': {'Optuna': [], 'HyperOpt': []}, 'Grad_Boost': {'Optuna': [], 'HyperOpt': []}, 'Bagging_Classifier': {'Optuna': [], 'HyperOpt': []}, 'ExtraTreesClassifier': {'Optuna': [], 'HyperOpt': []}, 'Hist_Grad_Boost_Classifier': {'Optuna': [], 'HyperOpt': []}, 'Decision_Tree_Classifier': {'Optuna': [], 'HyperOpt': []}, 'XGB_Classifier': {'Optuna': [], 'HyperOpt': []}, 'KNN_Classifier': {'Optuna': [], 'HyperOpt': []}}\n",
      "\n",
      "\n",
      "Batch 2\n",
      "('\\n'\n",
      " \"Space: {'n_estimators': 114, 'criterion': 'gini', 'max_features': None, \"\n",
      " \"'class_weight': 'balanced'}\")\n"
     ]
    },
    {
     "name": "stderr",
     "output_type": "stream",
     "text": [
      "[Parallel(n_jobs=-1)]: Done   3 out of   3 | elapsed:  6.0min finished\n",
      "[Parallel(n_jobs=-1)]: Using backend LokyBackend with 8 concurrent workers.\n"
     ]
    },
    {
     "name": "stdout",
     "output_type": "stream",
     "text": [
      "\n",
      "Accuracy of Random Forest: 0.9744010381597151\n",
      "\n",
      "Batchwise_accuracies: [0.979799118207571, 0.9744010381597151]\n",
      "\n",
      "Batchwise_Median_Accuracy: 0.9771000781836431\n",
      "\n",
      "Accumulated Accuracies:\n",
      "{'Logistic_Regression': {'Optuna': [0.46279279558254016, 0.4274040750073275, 0.37198526681218375, 0.4565850335335094, 0.40799655195011414, 0.43138215094076027, 0.41100531394321377, 0.37338486684415817, 0.4611895147981208, 0.412395672126079, 0.47438819559017364, 0.47601140036098427, 0.462385074005607, 0.4256062352955579, 0.43138215094076027, 0.41100531394321377, 0.37338486684415817, 0.4611895147981208, 0.412395672126079, 0.47438819559017364, 0.47601140036098427, 0.462385074005607, 0.4256062352955579], 'HyperOpt': []}, 'SGD_Classifier': {'Optuna': [0.5031919186390813, 0.45941519979317463, 0.5387783187660187, 0.4933956786073758, 0.4823880361982826, 0.54839596306429, 0.4728127603770962, 0.5334030432808996, 0.449612118392648, 0.4353850718451748, 0.572011047970478, 0.46422612236256233, 0.5265819585182604, 0.4288073957837484, 0.46379187547844575], 'HyperOpt': []}, 'Random Forest': {'Optuna': [0.9811991983356031, 0.9775999181916318, 0.9819993984396399, 0.9807997584156638, 0.9851998387837438, 0.9818009987438286, 0.9837987984635966, 0.9854000388397711, 0.9836002787437711, 0.9806006385757661, 0.9862001189197934, 0.9812001585277184, 0.9809988782555613, 0.9816005586397726, 0.981799318407627, 0.9841999187197374, 0.9838001187277551, 0.9792006784717486, 0.984199198575651, 0.983199998655731, 0.9824007587438096, 0.9807998784396782, 0.9828007987838207, 0.9807997584156638, 0.979799118207571, 0.9744010381597151], 'HyperOpt': []}, 'Ada_Boost': {'Optuna': [], 'HyperOpt': []}, 'Grad_Boost': {'Optuna': [], 'HyperOpt': []}, 'Bagging_Classifier': {'Optuna': [], 'HyperOpt': []}, 'ExtraTreesClassifier': {'Optuna': [], 'HyperOpt': []}, 'Hist_Grad_Boost_Classifier': {'Optuna': [], 'HyperOpt': []}, 'Decision_Tree_Classifier': {'Optuna': [], 'HyperOpt': []}, 'XGB_Classifier': {'Optuna': [], 'HyperOpt': []}, 'KNN_Classifier': {'Optuna': [], 'HyperOpt': []}}\n",
      "\n",
      "\n",
      "Batch 3\n",
      "('\\n'\n",
      " \"Space: {'n_estimators': 114, 'criterion': 'gini', 'max_features': None, \"\n",
      " \"'class_weight': 'balanced'}\")\n"
     ]
    },
    {
     "name": "stderr",
     "output_type": "stream",
     "text": [
      "[Parallel(n_jobs=-1)]: Done   3 out of   3 | elapsed:  5.0min finished\n",
      "[Parallel(n_jobs=-1)]: Using backend LokyBackend with 8 concurrent workers.\n"
     ]
    },
    {
     "name": "stdout",
     "output_type": "stream",
     "text": [
      "\n",
      "Accuracy of Random Forest: 0.9803987581835374\n",
      "\n",
      "Batchwise_accuracies: [0.979799118207571, 0.9744010381597151, 0.9803987581835374]\n",
      "\n",
      "Batchwise_Median_Accuracy: 0.979799118207571\n",
      "\n",
      "Accumulated Accuracies:\n",
      "{'Logistic_Regression': {'Optuna': [0.46279279558254016, 0.4274040750073275, 0.37198526681218375, 0.4565850335335094, 0.40799655195011414, 0.43138215094076027, 0.41100531394321377, 0.37338486684415817, 0.4611895147981208, 0.412395672126079, 0.47438819559017364, 0.47601140036098427, 0.462385074005607, 0.4256062352955579, 0.43138215094076027, 0.41100531394321377, 0.37338486684415817, 0.4611895147981208, 0.412395672126079, 0.47438819559017364, 0.47601140036098427, 0.462385074005607, 0.4256062352955579], 'HyperOpt': []}, 'SGD_Classifier': {'Optuna': [0.5031919186390813, 0.45941519979317463, 0.5387783187660187, 0.4933956786073758, 0.4823880361982826, 0.54839596306429, 0.4728127603770962, 0.5334030432808996, 0.449612118392648, 0.4353850718451748, 0.572011047970478, 0.46422612236256233, 0.5265819585182604, 0.4288073957837484, 0.46379187547844575], 'HyperOpt': []}, 'Random Forest': {'Optuna': [0.9811991983356031, 0.9775999181916318, 0.9819993984396399, 0.9807997584156638, 0.9851998387837438, 0.9818009987438286, 0.9837987984635966, 0.9854000388397711, 0.9836002787437711, 0.9806006385757661, 0.9862001189197934, 0.9812001585277184, 0.9809988782555613, 0.9816005586397726, 0.981799318407627, 0.9841999187197374, 0.9838001187277551, 0.9792006784717486, 0.984199198575651, 0.983199998655731, 0.9824007587438096, 0.9807998784396782, 0.9828007987838207, 0.9807997584156638, 0.979799118207571, 0.9744010381597151, 0.9803987581835374], 'HyperOpt': []}, 'Ada_Boost': {'Optuna': [], 'HyperOpt': []}, 'Grad_Boost': {'Optuna': [], 'HyperOpt': []}, 'Bagging_Classifier': {'Optuna': [], 'HyperOpt': []}, 'ExtraTreesClassifier': {'Optuna': [], 'HyperOpt': []}, 'Hist_Grad_Boost_Classifier': {'Optuna': [], 'HyperOpt': []}, 'Decision_Tree_Classifier': {'Optuna': [], 'HyperOpt': []}, 'XGB_Classifier': {'Optuna': [], 'HyperOpt': []}, 'KNN_Classifier': {'Optuna': [], 'HyperOpt': []}}\n",
      "\n",
      "\n",
      "Batch 4\n",
      "('\\n'\n",
      " \"Space: {'n_estimators': 114, 'criterion': 'gini', 'max_features': None, \"\n",
      " \"'class_weight': 'balanced'}\")\n"
     ]
    },
    {
     "name": "stderr",
     "output_type": "stream",
     "text": [
      "[Parallel(n_jobs=-1)]: Done   3 out of   3 | elapsed:  5.6min finished\n",
      "[Parallel(n_jobs=-1)]: Using backend LokyBackend with 8 concurrent workers.\n"
     ]
    },
    {
     "name": "stdout",
     "output_type": "stream",
     "text": [
      "\n",
      "Accuracy of Random Forest: 0.9759993979595438\n",
      "\n",
      "Batchwise_accuracies: [0.979799118207571, 0.9744010381597151, 0.9803987581835374, 0.9759993979595438]\n",
      "\n",
      "Batchwise_Median_Accuracy: 0.9778992580835575\n",
      "\n",
      "Accumulated Accuracies:\n",
      "{'Logistic_Regression': {'Optuna': [0.46279279558254016, 0.4274040750073275, 0.37198526681218375, 0.4565850335335094, 0.40799655195011414, 0.43138215094076027, 0.41100531394321377, 0.37338486684415817, 0.4611895147981208, 0.412395672126079, 0.47438819559017364, 0.47601140036098427, 0.462385074005607, 0.4256062352955579, 0.43138215094076027, 0.41100531394321377, 0.37338486684415817, 0.4611895147981208, 0.412395672126079, 0.47438819559017364, 0.47601140036098427, 0.462385074005607, 0.4256062352955579], 'HyperOpt': []}, 'SGD_Classifier': {'Optuna': [0.5031919186390813, 0.45941519979317463, 0.5387783187660187, 0.4933956786073758, 0.4823880361982826, 0.54839596306429, 0.4728127603770962, 0.5334030432808996, 0.449612118392648, 0.4353850718451748, 0.572011047970478, 0.46422612236256233, 0.5265819585182604, 0.4288073957837484, 0.46379187547844575], 'HyperOpt': []}, 'Random Forest': {'Optuna': [0.9811991983356031, 0.9775999181916318, 0.9819993984396399, 0.9807997584156638, 0.9851998387837438, 0.9818009987438286, 0.9837987984635966, 0.9854000388397711, 0.9836002787437711, 0.9806006385757661, 0.9862001189197934, 0.9812001585277184, 0.9809988782555613, 0.9816005586397726, 0.981799318407627, 0.9841999187197374, 0.9838001187277551, 0.9792006784717486, 0.984199198575651, 0.983199998655731, 0.9824007587438096, 0.9807998784396782, 0.9828007987838207, 0.9807997584156638, 0.979799118207571, 0.9744010381597151, 0.9803987581835374, 0.9759993979595438], 'HyperOpt': []}, 'Ada_Boost': {'Optuna': [], 'HyperOpt': []}, 'Grad_Boost': {'Optuna': [], 'HyperOpt': []}, 'Bagging_Classifier': {'Optuna': [], 'HyperOpt': []}, 'ExtraTreesClassifier': {'Optuna': [], 'HyperOpt': []}, 'Hist_Grad_Boost_Classifier': {'Optuna': [], 'HyperOpt': []}, 'Decision_Tree_Classifier': {'Optuna': [], 'HyperOpt': []}, 'XGB_Classifier': {'Optuna': [], 'HyperOpt': []}, 'KNN_Classifier': {'Optuna': [], 'HyperOpt': []}}\n",
      "\n",
      "\n",
      "Batch 5\n",
      "('\\n'\n",
      " \"Space: {'n_estimators': 114, 'criterion': 'gini', 'max_features': None, \"\n",
      " \"'class_weight': 'balanced'}\")\n"
     ]
    },
    {
     "name": "stderr",
     "output_type": "stream",
     "text": [
      "[Parallel(n_jobs=-1)]: Done   3 out of   3 | elapsed:  4.8min finished\n",
      "[Parallel(n_jobs=-1)]: Using backend LokyBackend with 8 concurrent workers.\n"
     ]
    },
    {
     "name": "stdout",
     "output_type": "stream",
     "text": [
      "\n",
      "Accuracy of Random Forest: 0.9821997185196815\n",
      "\n",
      "Batchwise_accuracies: [0.979799118207571, 0.9744010381597151, 0.9803987581835374, 0.9759993979595438, 0.9821997185196815]\n",
      "\n",
      "Batchwise_Median_Accuracy: 0.979799118207571\n",
      "\n",
      "Accumulated Accuracies:\n",
      "{'Logistic_Regression': {'Optuna': [0.46279279558254016, 0.4274040750073275, 0.37198526681218375, 0.4565850335335094, 0.40799655195011414, 0.43138215094076027, 0.41100531394321377, 0.37338486684415817, 0.4611895147981208, 0.412395672126079, 0.47438819559017364, 0.47601140036098427, 0.462385074005607, 0.4256062352955579, 0.43138215094076027, 0.41100531394321377, 0.37338486684415817, 0.4611895147981208, 0.412395672126079, 0.47438819559017364, 0.47601140036098427, 0.462385074005607, 0.4256062352955579], 'HyperOpt': []}, 'SGD_Classifier': {'Optuna': [0.5031919186390813, 0.45941519979317463, 0.5387783187660187, 0.4933956786073758, 0.4823880361982826, 0.54839596306429, 0.4728127603770962, 0.5334030432808996, 0.449612118392648, 0.4353850718451748, 0.572011047970478, 0.46422612236256233, 0.5265819585182604, 0.4288073957837484, 0.46379187547844575], 'HyperOpt': []}, 'Random Forest': {'Optuna': [0.9811991983356031, 0.9775999181916318, 0.9819993984396399, 0.9807997584156638, 0.9851998387837438, 0.9818009987438286, 0.9837987984635966, 0.9854000388397711, 0.9836002787437711, 0.9806006385757661, 0.9862001189197934, 0.9812001585277184, 0.9809988782555613, 0.9816005586397726, 0.981799318407627, 0.9841999187197374, 0.9838001187277551, 0.9792006784717486, 0.984199198575651, 0.983199998655731, 0.9824007587438096, 0.9807998784396782, 0.9828007987838207, 0.9807997584156638, 0.979799118207571, 0.9744010381597151, 0.9803987581835374, 0.9759993979595438, 0.9821997185196815], 'HyperOpt': []}, 'Ada_Boost': {'Optuna': [], 'HyperOpt': []}, 'Grad_Boost': {'Optuna': [], 'HyperOpt': []}, 'Bagging_Classifier': {'Optuna': [], 'HyperOpt': []}, 'ExtraTreesClassifier': {'Optuna': [], 'HyperOpt': []}, 'Hist_Grad_Boost_Classifier': {'Optuna': [], 'HyperOpt': []}, 'Decision_Tree_Classifier': {'Optuna': [], 'HyperOpt': []}, 'XGB_Classifier': {'Optuna': [], 'HyperOpt': []}, 'KNN_Classifier': {'Optuna': [], 'HyperOpt': []}}\n",
      "\n",
      "\n",
      "Batch 6\n",
      "('\\n'\n",
      " \"Space: {'n_estimators': 114, 'criterion': 'gini', 'max_features': None, \"\n",
      " \"'class_weight': 'balanced'}\")\n"
     ]
    },
    {
     "name": "stderr",
     "output_type": "stream",
     "text": [
      "[Parallel(n_jobs=-1)]: Done   3 out of   3 | elapsed:  5.3min finished\n",
      "[Parallel(n_jobs=-1)]: Using backend LokyBackend with 8 concurrent workers.\n"
     ]
    },
    {
     "name": "stdout",
     "output_type": "stream",
     "text": [
      "\n",
      "Accuracy of Random Forest: 0.9788006384317374\n",
      "\n",
      "Batchwise_accuracies: [0.979799118207571, 0.9744010381597151, 0.9803987581835374, 0.9759993979595438, 0.9821997185196815, 0.9788006384317374]\n",
      "\n",
      "Batchwise_Median_Accuracy: 0.9792998783196543\n",
      "\n",
      "Accumulated Accuracies:\n",
      "{'Logistic_Regression': {'Optuna': [0.46279279558254016, 0.4274040750073275, 0.37198526681218375, 0.4565850335335094, 0.40799655195011414, 0.43138215094076027, 0.41100531394321377, 0.37338486684415817, 0.4611895147981208, 0.412395672126079, 0.47438819559017364, 0.47601140036098427, 0.462385074005607, 0.4256062352955579, 0.43138215094076027, 0.41100531394321377, 0.37338486684415817, 0.4611895147981208, 0.412395672126079, 0.47438819559017364, 0.47601140036098427, 0.462385074005607, 0.4256062352955579], 'HyperOpt': []}, 'SGD_Classifier': {'Optuna': [0.5031919186390813, 0.45941519979317463, 0.5387783187660187, 0.4933956786073758, 0.4823880361982826, 0.54839596306429, 0.4728127603770962, 0.5334030432808996, 0.449612118392648, 0.4353850718451748, 0.572011047970478, 0.46422612236256233, 0.5265819585182604, 0.4288073957837484, 0.46379187547844575], 'HyperOpt': []}, 'Random Forest': {'Optuna': [0.9811991983356031, 0.9775999181916318, 0.9819993984396399, 0.9807997584156638, 0.9851998387837438, 0.9818009987438286, 0.9837987984635966, 0.9854000388397711, 0.9836002787437711, 0.9806006385757661, 0.9862001189197934, 0.9812001585277184, 0.9809988782555613, 0.9816005586397726, 0.981799318407627, 0.9841999187197374, 0.9838001187277551, 0.9792006784717486, 0.984199198575651, 0.983199998655731, 0.9824007587438096, 0.9807998784396782, 0.9828007987838207, 0.9807997584156638, 0.979799118207571, 0.9744010381597151, 0.9803987581835374, 0.9759993979595438, 0.9821997185196815, 0.9788006384317374], 'HyperOpt': []}, 'Ada_Boost': {'Optuna': [], 'HyperOpt': []}, 'Grad_Boost': {'Optuna': [], 'HyperOpt': []}, 'Bagging_Classifier': {'Optuna': [], 'HyperOpt': []}, 'ExtraTreesClassifier': {'Optuna': [], 'HyperOpt': []}, 'Hist_Grad_Boost_Classifier': {'Optuna': [], 'HyperOpt': []}, 'Decision_Tree_Classifier': {'Optuna': [], 'HyperOpt': []}, 'XGB_Classifier': {'Optuna': [], 'HyperOpt': []}, 'KNN_Classifier': {'Optuna': [], 'HyperOpt': []}}\n",
      "\n",
      "\n",
      "Batch 7\n",
      "('\\n'\n",
      " \"Space: {'n_estimators': 114, 'criterion': 'gini', 'max_features': None, \"\n",
      " \"'class_weight': 'balanced'}\")\n"
     ]
    },
    {
     "name": "stderr",
     "output_type": "stream",
     "text": [
      "[Parallel(n_jobs=-1)]: Done   3 out of   3 | elapsed:  5.0min finished\n",
      "[I 2024-01-28 21:11:16,031] Trial 2 pruned. \n",
      "[I 2024-01-28 21:11:16,035] A new study created in memory with name: no-name-36e67ab6-4d83-4160-bc89-e49399c2ef11\n",
      "[Parallel(n_jobs=-1)]: Using backend LokyBackend with 8 concurrent workers.\n"
     ]
    },
    {
     "name": "stdout",
     "output_type": "stream",
     "text": [
      "\n",
      "Accuracy of Random Forest: 0.9779989980395278\n",
      "\n",
      "Batchwise_accuracies: [0.979799118207571, 0.9744010381597151, 0.9803987581835374, 0.9759993979595438, 0.9821997185196815, 0.9788006384317374, 0.9779989980395278]\n",
      "\n",
      "Batchwise_Median_Accuracy: 0.9788006384317374\n",
      "\n",
      "Accumulated Accuracies:\n",
      "{'Logistic_Regression': {'Optuna': [0.46279279558254016, 0.4274040750073275, 0.37198526681218375, 0.4565850335335094, 0.40799655195011414, 0.43138215094076027, 0.41100531394321377, 0.37338486684415817, 0.4611895147981208, 0.412395672126079, 0.47438819559017364, 0.47601140036098427, 0.462385074005607, 0.4256062352955579, 0.43138215094076027, 0.41100531394321377, 0.37338486684415817, 0.4611895147981208, 0.412395672126079, 0.47438819559017364, 0.47601140036098427, 0.462385074005607, 0.4256062352955579], 'HyperOpt': []}, 'SGD_Classifier': {'Optuna': [0.5031919186390813, 0.45941519979317463, 0.5387783187660187, 0.4933956786073758, 0.4823880361982826, 0.54839596306429, 0.4728127603770962, 0.5334030432808996, 0.449612118392648, 0.4353850718451748, 0.572011047970478, 0.46422612236256233, 0.5265819585182604, 0.4288073957837484, 0.46379187547844575], 'HyperOpt': []}, 'Random Forest': {'Optuna': [0.9811991983356031, 0.9775999181916318, 0.9819993984396399, 0.9807997584156638, 0.9851998387837438, 0.9818009987438286, 0.9837987984635966, 0.9854000388397711, 0.9836002787437711, 0.9806006385757661, 0.9862001189197934, 0.9812001585277184, 0.9809988782555613, 0.9816005586397726, 0.981799318407627, 0.9841999187197374, 0.9838001187277551, 0.9792006784717486, 0.984199198575651, 0.983199998655731, 0.9824007587438096, 0.9807998784396782, 0.9828007987838207, 0.9807997584156638, 0.979799118207571, 0.9744010381597151, 0.9803987581835374, 0.9759993979595438, 0.9821997185196815, 0.9788006384317374, 0.9779989980395278], 'HyperOpt': []}, 'Ada_Boost': {'Optuna': [], 'HyperOpt': []}, 'Grad_Boost': {'Optuna': [], 'HyperOpt': []}, 'Bagging_Classifier': {'Optuna': [], 'HyperOpt': []}, 'ExtraTreesClassifier': {'Optuna': [], 'HyperOpt': []}, 'Hist_Grad_Boost_Classifier': {'Optuna': [], 'HyperOpt': []}, 'Decision_Tree_Classifier': {'Optuna': [], 'HyperOpt': []}, 'XGB_Classifier': {'Optuna': [], 'HyperOpt': []}, 'KNN_Classifier': {'Optuna': [], 'HyperOpt': []}}\n",
      "\n",
      "\n",
      "**************\n",
      "Trial_Number: 0\n",
      "**************\n",
      "\n",
      "Batch 1\n",
      "\"\\nSpace: {'n_estimators': 130, 'algorithm': 'SAMME.R'}\"\n"
     ]
    },
    {
     "name": "stderr",
     "output_type": "stream",
     "text": [
      "[Parallel(n_jobs=-1)]: Done   3 out of   3 | elapsed:   51.9s finished\n",
      "[Parallel(n_jobs=-1)]: Using backend LokyBackend with 8 concurrent workers.\n"
     ]
    },
    {
     "name": "stdout",
     "output_type": "stream",
     "text": [
      "\n",
      "Accuracy of Ada_Boost: 0.9841993185996655\n",
      "\n",
      "Batchwise_accuracies: [0.9841993185996655]\n",
      "\n",
      "Batchwise_Median_Accuracy: 0.9841993185996655\n",
      "\n",
      "Accumulated Accuracies:\n",
      "{'Logistic_Regression': {'Optuna': [0.46279279558254016, 0.4274040750073275, 0.37198526681218375, 0.4565850335335094, 0.40799655195011414, 0.43138215094076027, 0.41100531394321377, 0.37338486684415817, 0.4611895147981208, 0.412395672126079, 0.47438819559017364, 0.47601140036098427, 0.462385074005607, 0.4256062352955579, 0.43138215094076027, 0.41100531394321377, 0.37338486684415817, 0.4611895147981208, 0.412395672126079, 0.47438819559017364, 0.47601140036098427, 0.462385074005607, 0.4256062352955579], 'HyperOpt': []}, 'SGD_Classifier': {'Optuna': [0.5031919186390813, 0.45941519979317463, 0.5387783187660187, 0.4933956786073758, 0.4823880361982826, 0.54839596306429, 0.4728127603770962, 0.5334030432808996, 0.449612118392648, 0.4353850718451748, 0.572011047970478, 0.46422612236256233, 0.5265819585182604, 0.4288073957837484, 0.46379187547844575], 'HyperOpt': []}, 'Random Forest': {'Optuna': [0.9811991983356031, 0.9775999181916318, 0.9819993984396399, 0.9807997584156638, 0.9851998387837438, 0.9818009987438286, 0.9837987984635966, 0.9854000388397711, 0.9836002787437711, 0.9806006385757661, 0.9862001189197934, 0.9812001585277184, 0.9809988782555613, 0.9816005586397726, 0.981799318407627, 0.9841999187197374, 0.9838001187277551, 0.9792006784717486, 0.984199198575651, 0.983199998655731, 0.9824007587438096, 0.9807998784396782, 0.9828007987838207, 0.9807997584156638, 0.979799118207571, 0.9744010381597151, 0.9803987581835374, 0.9759993979595438, 0.9821997185196815, 0.9788006384317374, 0.9779989980395278], 'HyperOpt': []}, 'Ada_Boost': {'Optuna': [0.9841993185996655], 'HyperOpt': []}, 'Grad_Boost': {'Optuna': [], 'HyperOpt': []}, 'Bagging_Classifier': {'Optuna': [], 'HyperOpt': []}, 'ExtraTreesClassifier': {'Optuna': [], 'HyperOpt': []}, 'Hist_Grad_Boost_Classifier': {'Optuna': [], 'HyperOpt': []}, 'Decision_Tree_Classifier': {'Optuna': [], 'HyperOpt': []}, 'XGB_Classifier': {'Optuna': [], 'HyperOpt': []}, 'KNN_Classifier': {'Optuna': [], 'HyperOpt': []}}\n",
      "\n",
      "\n",
      "Batch 2\n",
      "\"\\nSpace: {'n_estimators': 130, 'algorithm': 'SAMME.R'}\"\n"
     ]
    },
    {
     "name": "stderr",
     "output_type": "stream",
     "text": [
      "[Parallel(n_jobs=-1)]: Done   3 out of   3 | elapsed:   51.8s finished\n",
      "[Parallel(n_jobs=-1)]: Using backend LokyBackend with 8 concurrent workers.\n"
     ]
    },
    {
     "name": "stdout",
     "output_type": "stream",
     "text": [
      "\n",
      "Accuracy of Ada_Boost: 0.9847997987437326\n",
      "\n",
      "Batchwise_accuracies: [0.9841993185996655, 0.9847997987437326]\n",
      "\n",
      "Batchwise_Median_Accuracy: 0.984499558671699\n",
      "\n",
      "Accumulated Accuracies:\n",
      "{'Logistic_Regression': {'Optuna': [0.46279279558254016, 0.4274040750073275, 0.37198526681218375, 0.4565850335335094, 0.40799655195011414, 0.43138215094076027, 0.41100531394321377, 0.37338486684415817, 0.4611895147981208, 0.412395672126079, 0.47438819559017364, 0.47601140036098427, 0.462385074005607, 0.4256062352955579, 0.43138215094076027, 0.41100531394321377, 0.37338486684415817, 0.4611895147981208, 0.412395672126079, 0.47438819559017364, 0.47601140036098427, 0.462385074005607, 0.4256062352955579], 'HyperOpt': []}, 'SGD_Classifier': {'Optuna': [0.5031919186390813, 0.45941519979317463, 0.5387783187660187, 0.4933956786073758, 0.4823880361982826, 0.54839596306429, 0.4728127603770962, 0.5334030432808996, 0.449612118392648, 0.4353850718451748, 0.572011047970478, 0.46422612236256233, 0.5265819585182604, 0.4288073957837484, 0.46379187547844575], 'HyperOpt': []}, 'Random Forest': {'Optuna': [0.9811991983356031, 0.9775999181916318, 0.9819993984396399, 0.9807997584156638, 0.9851998387837438, 0.9818009987438286, 0.9837987984635966, 0.9854000388397711, 0.9836002787437711, 0.9806006385757661, 0.9862001189197934, 0.9812001585277184, 0.9809988782555613, 0.9816005586397726, 0.981799318407627, 0.9841999187197374, 0.9838001187277551, 0.9792006784717486, 0.984199198575651, 0.983199998655731, 0.9824007587438096, 0.9807998784396782, 0.9828007987838207, 0.9807997584156638, 0.979799118207571, 0.9744010381597151, 0.9803987581835374, 0.9759993979595438, 0.9821997185196815, 0.9788006384317374, 0.9779989980395278], 'HyperOpt': []}, 'Ada_Boost': {'Optuna': [0.9841993185996655, 0.9847997987437326], 'HyperOpt': []}, 'Grad_Boost': {'Optuna': [], 'HyperOpt': []}, 'Bagging_Classifier': {'Optuna': [], 'HyperOpt': []}, 'ExtraTreesClassifier': {'Optuna': [], 'HyperOpt': []}, 'Hist_Grad_Boost_Classifier': {'Optuna': [], 'HyperOpt': []}, 'Decision_Tree_Classifier': {'Optuna': [], 'HyperOpt': []}, 'XGB_Classifier': {'Optuna': [], 'HyperOpt': []}, 'KNN_Classifier': {'Optuna': [], 'HyperOpt': []}}\n",
      "\n",
      "\n",
      "Batch 3\n",
      "\"\\nSpace: {'n_estimators': 130, 'algorithm': 'SAMME.R'}\"\n"
     ]
    },
    {
     "name": "stderr",
     "output_type": "stream",
     "text": [
      "[Parallel(n_jobs=-1)]: Done   3 out of   3 | elapsed:   51.1s finished\n",
      "[Parallel(n_jobs=-1)]: Using backend LokyBackend with 8 concurrent workers.\n"
     ]
    },
    {
     "name": "stdout",
     "output_type": "stream",
     "text": [
      "\n",
      "Accuracy of Ada_Boost: 0.9863999589037776\n",
      "\n",
      "Batchwise_accuracies: [0.9841993185996655, 0.9847997987437326, 0.9863999589037776]\n",
      "\n",
      "Batchwise_Median_Accuracy: 0.9847997987437326\n",
      "\n",
      "Accumulated Accuracies:\n",
      "{'Logistic_Regression': {'Optuna': [0.46279279558254016, 0.4274040750073275, 0.37198526681218375, 0.4565850335335094, 0.40799655195011414, 0.43138215094076027, 0.41100531394321377, 0.37338486684415817, 0.4611895147981208, 0.412395672126079, 0.47438819559017364, 0.47601140036098427, 0.462385074005607, 0.4256062352955579, 0.43138215094076027, 0.41100531394321377, 0.37338486684415817, 0.4611895147981208, 0.412395672126079, 0.47438819559017364, 0.47601140036098427, 0.462385074005607, 0.4256062352955579], 'HyperOpt': []}, 'SGD_Classifier': {'Optuna': [0.5031919186390813, 0.45941519979317463, 0.5387783187660187, 0.4933956786073758, 0.4823880361982826, 0.54839596306429, 0.4728127603770962, 0.5334030432808996, 0.449612118392648, 0.4353850718451748, 0.572011047970478, 0.46422612236256233, 0.5265819585182604, 0.4288073957837484, 0.46379187547844575], 'HyperOpt': []}, 'Random Forest': {'Optuna': [0.9811991983356031, 0.9775999181916318, 0.9819993984396399, 0.9807997584156638, 0.9851998387837438, 0.9818009987438286, 0.9837987984635966, 0.9854000388397711, 0.9836002787437711, 0.9806006385757661, 0.9862001189197934, 0.9812001585277184, 0.9809988782555613, 0.9816005586397726, 0.981799318407627, 0.9841999187197374, 0.9838001187277551, 0.9792006784717486, 0.984199198575651, 0.983199998655731, 0.9824007587438096, 0.9807998784396782, 0.9828007987838207, 0.9807997584156638, 0.979799118207571, 0.9744010381597151, 0.9803987581835374, 0.9759993979595438, 0.9821997185196815, 0.9788006384317374, 0.9779989980395278], 'HyperOpt': []}, 'Ada_Boost': {'Optuna': [0.9841993185996655, 0.9847997987437326, 0.9863999589037776], 'HyperOpt': []}, 'Grad_Boost': {'Optuna': [], 'HyperOpt': []}, 'Bagging_Classifier': {'Optuna': [], 'HyperOpt': []}, 'ExtraTreesClassifier': {'Optuna': [], 'HyperOpt': []}, 'Hist_Grad_Boost_Classifier': {'Optuna': [], 'HyperOpt': []}, 'Decision_Tree_Classifier': {'Optuna': [], 'HyperOpt': []}, 'XGB_Classifier': {'Optuna': [], 'HyperOpt': []}, 'KNN_Classifier': {'Optuna': [], 'HyperOpt': []}}\n",
      "\n",
      "\n",
      "Batch 4\n",
      "\"\\nSpace: {'n_estimators': 130, 'algorithm': 'SAMME.R'}\"\n"
     ]
    },
    {
     "name": "stderr",
     "output_type": "stream",
     "text": [
      "[Parallel(n_jobs=-1)]: Done   3 out of   3 | elapsed:   50.0s finished\n",
      "[Parallel(n_jobs=-1)]: Using backend LokyBackend with 8 concurrent workers.\n"
     ]
    },
    {
     "name": "stdout",
     "output_type": "stream",
     "text": [
      "\n",
      "Accuracy of Ada_Boost: 0.986799518847731\n",
      "\n",
      "Batchwise_accuracies: [0.9841993185996655, 0.9847997987437326, 0.9863999589037776, 0.986799518847731]\n",
      "\n",
      "Batchwise_Median_Accuracy: 0.9855998788237551\n",
      "\n",
      "Accumulated Accuracies:\n",
      "{'Logistic_Regression': {'Optuna': [0.46279279558254016, 0.4274040750073275, 0.37198526681218375, 0.4565850335335094, 0.40799655195011414, 0.43138215094076027, 0.41100531394321377, 0.37338486684415817, 0.4611895147981208, 0.412395672126079, 0.47438819559017364, 0.47601140036098427, 0.462385074005607, 0.4256062352955579, 0.43138215094076027, 0.41100531394321377, 0.37338486684415817, 0.4611895147981208, 0.412395672126079, 0.47438819559017364, 0.47601140036098427, 0.462385074005607, 0.4256062352955579], 'HyperOpt': []}, 'SGD_Classifier': {'Optuna': [0.5031919186390813, 0.45941519979317463, 0.5387783187660187, 0.4933956786073758, 0.4823880361982826, 0.54839596306429, 0.4728127603770962, 0.5334030432808996, 0.449612118392648, 0.4353850718451748, 0.572011047970478, 0.46422612236256233, 0.5265819585182604, 0.4288073957837484, 0.46379187547844575], 'HyperOpt': []}, 'Random Forest': {'Optuna': [0.9811991983356031, 0.9775999181916318, 0.9819993984396399, 0.9807997584156638, 0.9851998387837438, 0.9818009987438286, 0.9837987984635966, 0.9854000388397711, 0.9836002787437711, 0.9806006385757661, 0.9862001189197934, 0.9812001585277184, 0.9809988782555613, 0.9816005586397726, 0.981799318407627, 0.9841999187197374, 0.9838001187277551, 0.9792006784717486, 0.984199198575651, 0.983199998655731, 0.9824007587438096, 0.9807998784396782, 0.9828007987838207, 0.9807997584156638, 0.979799118207571, 0.9744010381597151, 0.9803987581835374, 0.9759993979595438, 0.9821997185196815, 0.9788006384317374, 0.9779989980395278], 'HyperOpt': []}, 'Ada_Boost': {'Optuna': [0.9841993185996655, 0.9847997987437326, 0.9863999589037776, 0.986799518847731], 'HyperOpt': []}, 'Grad_Boost': {'Optuna': [], 'HyperOpt': []}, 'Bagging_Classifier': {'Optuna': [], 'HyperOpt': []}, 'ExtraTreesClassifier': {'Optuna': [], 'HyperOpt': []}, 'Hist_Grad_Boost_Classifier': {'Optuna': [], 'HyperOpt': []}, 'Decision_Tree_Classifier': {'Optuna': [], 'HyperOpt': []}, 'XGB_Classifier': {'Optuna': [], 'HyperOpt': []}, 'KNN_Classifier': {'Optuna': [], 'HyperOpt': []}}\n",
      "\n",
      "\n",
      "Batch 5\n",
      "\"\\nSpace: {'n_estimators': 130, 'algorithm': 'SAMME.R'}\"\n"
     ]
    },
    {
     "name": "stderr",
     "output_type": "stream",
     "text": [
      "[Parallel(n_jobs=-1)]: Done   3 out of   3 | elapsed:   50.1s finished\n",
      "[Parallel(n_jobs=-1)]: Using backend LokyBackend with 8 concurrent workers.\n"
     ]
    },
    {
     "name": "stdout",
     "output_type": "stream",
     "text": [
      "\n",
      "Accuracy of Ada_Boost: 0.9877996789597662\n",
      "\n",
      "Batchwise_accuracies: [0.9841993185996655, 0.9847997987437326, 0.9863999589037776, 0.986799518847731, 0.9877996789597662]\n",
      "\n",
      "Batchwise_Median_Accuracy: 0.9863999589037776\n",
      "\n",
      "Accumulated Accuracies:\n",
      "{'Logistic_Regression': {'Optuna': [0.46279279558254016, 0.4274040750073275, 0.37198526681218375, 0.4565850335335094, 0.40799655195011414, 0.43138215094076027, 0.41100531394321377, 0.37338486684415817, 0.4611895147981208, 0.412395672126079, 0.47438819559017364, 0.47601140036098427, 0.462385074005607, 0.4256062352955579, 0.43138215094076027, 0.41100531394321377, 0.37338486684415817, 0.4611895147981208, 0.412395672126079, 0.47438819559017364, 0.47601140036098427, 0.462385074005607, 0.4256062352955579], 'HyperOpt': []}, 'SGD_Classifier': {'Optuna': [0.5031919186390813, 0.45941519979317463, 0.5387783187660187, 0.4933956786073758, 0.4823880361982826, 0.54839596306429, 0.4728127603770962, 0.5334030432808996, 0.449612118392648, 0.4353850718451748, 0.572011047970478, 0.46422612236256233, 0.5265819585182604, 0.4288073957837484, 0.46379187547844575], 'HyperOpt': []}, 'Random Forest': {'Optuna': [0.9811991983356031, 0.9775999181916318, 0.9819993984396399, 0.9807997584156638, 0.9851998387837438, 0.9818009987438286, 0.9837987984635966, 0.9854000388397711, 0.9836002787437711, 0.9806006385757661, 0.9862001189197934, 0.9812001585277184, 0.9809988782555613, 0.9816005586397726, 0.981799318407627, 0.9841999187197374, 0.9838001187277551, 0.9792006784717486, 0.984199198575651, 0.983199998655731, 0.9824007587438096, 0.9807998784396782, 0.9828007987838207, 0.9807997584156638, 0.979799118207571, 0.9744010381597151, 0.9803987581835374, 0.9759993979595438, 0.9821997185196815, 0.9788006384317374, 0.9779989980395278], 'HyperOpt': []}, 'Ada_Boost': {'Optuna': [0.9841993185996655, 0.9847997987437326, 0.9863999589037776, 0.986799518847731, 0.9877996789597662], 'HyperOpt': []}, 'Grad_Boost': {'Optuna': [], 'HyperOpt': []}, 'Bagging_Classifier': {'Optuna': [], 'HyperOpt': []}, 'ExtraTreesClassifier': {'Optuna': [], 'HyperOpt': []}, 'Hist_Grad_Boost_Classifier': {'Optuna': [], 'HyperOpt': []}, 'Decision_Tree_Classifier': {'Optuna': [], 'HyperOpt': []}, 'XGB_Classifier': {'Optuna': [], 'HyperOpt': []}, 'KNN_Classifier': {'Optuna': [], 'HyperOpt': []}}\n",
      "\n",
      "\n",
      "Batch 6\n",
      "\"\\nSpace: {'n_estimators': 130, 'algorithm': 'SAMME.R'}\"\n"
     ]
    },
    {
     "name": "stderr",
     "output_type": "stream",
     "text": [
      "[Parallel(n_jobs=-1)]: Done   3 out of   3 | elapsed:   50.1s finished\n",
      "[Parallel(n_jobs=-1)]: Using backend LokyBackend with 8 concurrent workers.\n"
     ]
    },
    {
     "name": "stdout",
     "output_type": "stream",
     "text": [
      "\n",
      "Accuracy of Ada_Boost: 0.9852004389038159\n",
      "\n",
      "Batchwise_accuracies: [0.9841993185996655, 0.9847997987437326, 0.9863999589037776, 0.986799518847731, 0.9877996789597662, 0.9852004389038159]\n",
      "\n",
      "Batchwise_Median_Accuracy: 0.9858001989037968\n",
      "\n",
      "Accumulated Accuracies:\n",
      "{'Logistic_Regression': {'Optuna': [0.46279279558254016, 0.4274040750073275, 0.37198526681218375, 0.4565850335335094, 0.40799655195011414, 0.43138215094076027, 0.41100531394321377, 0.37338486684415817, 0.4611895147981208, 0.412395672126079, 0.47438819559017364, 0.47601140036098427, 0.462385074005607, 0.4256062352955579, 0.43138215094076027, 0.41100531394321377, 0.37338486684415817, 0.4611895147981208, 0.412395672126079, 0.47438819559017364, 0.47601140036098427, 0.462385074005607, 0.4256062352955579], 'HyperOpt': []}, 'SGD_Classifier': {'Optuna': [0.5031919186390813, 0.45941519979317463, 0.5387783187660187, 0.4933956786073758, 0.4823880361982826, 0.54839596306429, 0.4728127603770962, 0.5334030432808996, 0.449612118392648, 0.4353850718451748, 0.572011047970478, 0.46422612236256233, 0.5265819585182604, 0.4288073957837484, 0.46379187547844575], 'HyperOpt': []}, 'Random Forest': {'Optuna': [0.9811991983356031, 0.9775999181916318, 0.9819993984396399, 0.9807997584156638, 0.9851998387837438, 0.9818009987438286, 0.9837987984635966, 0.9854000388397711, 0.9836002787437711, 0.9806006385757661, 0.9862001189197934, 0.9812001585277184, 0.9809988782555613, 0.9816005586397726, 0.981799318407627, 0.9841999187197374, 0.9838001187277551, 0.9792006784717486, 0.984199198575651, 0.983199998655731, 0.9824007587438096, 0.9807998784396782, 0.9828007987838207, 0.9807997584156638, 0.979799118207571, 0.9744010381597151, 0.9803987581835374, 0.9759993979595438, 0.9821997185196815, 0.9788006384317374, 0.9779989980395278], 'HyperOpt': []}, 'Ada_Boost': {'Optuna': [0.9841993185996655, 0.9847997987437326, 0.9863999589037776, 0.986799518847731, 0.9877996789597662, 0.9852004389038159], 'HyperOpt': []}, 'Grad_Boost': {'Optuna': [], 'HyperOpt': []}, 'Bagging_Classifier': {'Optuna': [], 'HyperOpt': []}, 'ExtraTreesClassifier': {'Optuna': [], 'HyperOpt': []}, 'Hist_Grad_Boost_Classifier': {'Optuna': [], 'HyperOpt': []}, 'Decision_Tree_Classifier': {'Optuna': [], 'HyperOpt': []}, 'XGB_Classifier': {'Optuna': [], 'HyperOpt': []}, 'KNN_Classifier': {'Optuna': [], 'HyperOpt': []}}\n",
      "\n",
      "\n",
      "Batch 7\n",
      "\"\\nSpace: {'n_estimators': 130, 'algorithm': 'SAMME.R'}\"\n"
     ]
    },
    {
     "name": "stderr",
     "output_type": "stream",
     "text": [
      "[Parallel(n_jobs=-1)]: Done   3 out of   3 | elapsed:   49.3s finished\n",
      "[Parallel(n_jobs=-1)]: Using backend LokyBackend with 8 concurrent workers.\n"
     ]
    },
    {
     "name": "stdout",
     "output_type": "stream",
     "text": [
      "\n",
      "Accuracy of Ada_Boost: 0.9857997188077391\n",
      "\n",
      "Batchwise_accuracies: [0.9841993185996655, 0.9847997987437326, 0.9863999589037776, 0.986799518847731, 0.9877996789597662, 0.9852004389038159, 0.9857997188077391]\n",
      "\n",
      "Batchwise_Median_Accuracy: 0.9857997188077391\n",
      "\n",
      "Accumulated Accuracies:\n",
      "{'Logistic_Regression': {'Optuna': [0.46279279558254016, 0.4274040750073275, 0.37198526681218375, 0.4565850335335094, 0.40799655195011414, 0.43138215094076027, 0.41100531394321377, 0.37338486684415817, 0.4611895147981208, 0.412395672126079, 0.47438819559017364, 0.47601140036098427, 0.462385074005607, 0.4256062352955579, 0.43138215094076027, 0.41100531394321377, 0.37338486684415817, 0.4611895147981208, 0.412395672126079, 0.47438819559017364, 0.47601140036098427, 0.462385074005607, 0.4256062352955579], 'HyperOpt': []}, 'SGD_Classifier': {'Optuna': [0.5031919186390813, 0.45941519979317463, 0.5387783187660187, 0.4933956786073758, 0.4823880361982826, 0.54839596306429, 0.4728127603770962, 0.5334030432808996, 0.449612118392648, 0.4353850718451748, 0.572011047970478, 0.46422612236256233, 0.5265819585182604, 0.4288073957837484, 0.46379187547844575], 'HyperOpt': []}, 'Random Forest': {'Optuna': [0.9811991983356031, 0.9775999181916318, 0.9819993984396399, 0.9807997584156638, 0.9851998387837438, 0.9818009987438286, 0.9837987984635966, 0.9854000388397711, 0.9836002787437711, 0.9806006385757661, 0.9862001189197934, 0.9812001585277184, 0.9809988782555613, 0.9816005586397726, 0.981799318407627, 0.9841999187197374, 0.9838001187277551, 0.9792006784717486, 0.984199198575651, 0.983199998655731, 0.9824007587438096, 0.9807998784396782, 0.9828007987838207, 0.9807997584156638, 0.979799118207571, 0.9744010381597151, 0.9803987581835374, 0.9759993979595438, 0.9821997185196815, 0.9788006384317374, 0.9779989980395278], 'HyperOpt': []}, 'Ada_Boost': {'Optuna': [0.9841993185996655, 0.9847997987437326, 0.9863999589037776, 0.986799518847731, 0.9877996789597662, 0.9852004389038159, 0.9857997188077391], 'HyperOpt': []}, 'Grad_Boost': {'Optuna': [], 'HyperOpt': []}, 'Bagging_Classifier': {'Optuna': [], 'HyperOpt': []}, 'ExtraTreesClassifier': {'Optuna': [], 'HyperOpt': []}, 'Hist_Grad_Boost_Classifier': {'Optuna': [], 'HyperOpt': []}, 'Decision_Tree_Classifier': {'Optuna': [], 'HyperOpt': []}, 'XGB_Classifier': {'Optuna': [], 'HyperOpt': []}, 'KNN_Classifier': {'Optuna': [], 'HyperOpt': []}}\n",
      "\n",
      "\n",
      "Batch 8\n",
      "\"\\nSpace: {'n_estimators': 130, 'algorithm': 'SAMME.R'}\"\n"
     ]
    },
    {
     "name": "stderr",
     "output_type": "stream",
     "text": [
      "[Parallel(n_jobs=-1)]: Done   3 out of   3 | elapsed:   50.4s finished\n",
      "[Parallel(n_jobs=-1)]: Using backend LokyBackend with 8 concurrent workers.\n"
     ]
    },
    {
     "name": "stdout",
     "output_type": "stream",
     "text": [
      "\n",
      "Accuracy of Ada_Boost: 0.9861999988957791\n",
      "\n",
      "Batchwise_accuracies: [0.9841993185996655, 0.9847997987437326, 0.9863999589037776, 0.986799518847731, 0.9877996789597662, 0.9852004389038159, 0.9857997188077391, 0.9861999988957791]\n",
      "\n",
      "Batchwise_Median_Accuracy: 0.9859998588517591\n",
      "\n",
      "Accumulated Accuracies:\n",
      "{'Logistic_Regression': {'Optuna': [0.46279279558254016, 0.4274040750073275, 0.37198526681218375, 0.4565850335335094, 0.40799655195011414, 0.43138215094076027, 0.41100531394321377, 0.37338486684415817, 0.4611895147981208, 0.412395672126079, 0.47438819559017364, 0.47601140036098427, 0.462385074005607, 0.4256062352955579, 0.43138215094076027, 0.41100531394321377, 0.37338486684415817, 0.4611895147981208, 0.412395672126079, 0.47438819559017364, 0.47601140036098427, 0.462385074005607, 0.4256062352955579], 'HyperOpt': []}, 'SGD_Classifier': {'Optuna': [0.5031919186390813, 0.45941519979317463, 0.5387783187660187, 0.4933956786073758, 0.4823880361982826, 0.54839596306429, 0.4728127603770962, 0.5334030432808996, 0.449612118392648, 0.4353850718451748, 0.572011047970478, 0.46422612236256233, 0.5265819585182604, 0.4288073957837484, 0.46379187547844575], 'HyperOpt': []}, 'Random Forest': {'Optuna': [0.9811991983356031, 0.9775999181916318, 0.9819993984396399, 0.9807997584156638, 0.9851998387837438, 0.9818009987438286, 0.9837987984635966, 0.9854000388397711, 0.9836002787437711, 0.9806006385757661, 0.9862001189197934, 0.9812001585277184, 0.9809988782555613, 0.9816005586397726, 0.981799318407627, 0.9841999187197374, 0.9838001187277551, 0.9792006784717486, 0.984199198575651, 0.983199998655731, 0.9824007587438096, 0.9807998784396782, 0.9828007987838207, 0.9807997584156638, 0.979799118207571, 0.9744010381597151, 0.9803987581835374, 0.9759993979595438, 0.9821997185196815, 0.9788006384317374, 0.9779989980395278], 'HyperOpt': []}, 'Ada_Boost': {'Optuna': [0.9841993185996655, 0.9847997987437326, 0.9863999589037776, 0.986799518847731, 0.9877996789597662, 0.9852004389038159, 0.9857997188077391, 0.9861999988957791], 'HyperOpt': []}, 'Grad_Boost': {'Optuna': [], 'HyperOpt': []}, 'Bagging_Classifier': {'Optuna': [], 'HyperOpt': []}, 'ExtraTreesClassifier': {'Optuna': [], 'HyperOpt': []}, 'Hist_Grad_Boost_Classifier': {'Optuna': [], 'HyperOpt': []}, 'Decision_Tree_Classifier': {'Optuna': [], 'HyperOpt': []}, 'XGB_Classifier': {'Optuna': [], 'HyperOpt': []}, 'KNN_Classifier': {'Optuna': [], 'HyperOpt': []}}\n",
      "\n",
      "\n",
      "Batch 9\n",
      "\"\\nSpace: {'n_estimators': 130, 'algorithm': 'SAMME.R'}\"\n"
     ]
    },
    {
     "name": "stderr",
     "output_type": "stream",
     "text": [
      "[Parallel(n_jobs=-1)]: Done   3 out of   3 | elapsed:   49.7s finished\n",
      "[Parallel(n_jobs=-1)]: Using backend LokyBackend with 8 concurrent workers.\n"
     ]
    },
    {
     "name": "stdout",
     "output_type": "stream",
     "text": [
      "\n",
      "Accuracy of Ada_Boost: 0.9862003589678222\n",
      "\n",
      "Batchwise_accuracies: [0.9841993185996655, 0.9847997987437326, 0.9863999589037776, 0.986799518847731, 0.9877996789597662, 0.9852004389038159, 0.9857997188077391, 0.9861999988957791, 0.9862003589678222]\n",
      "\n",
      "Batchwise_Median_Accuracy: 0.9861999988957791\n",
      "\n",
      "Accumulated Accuracies:\n",
      "{'Logistic_Regression': {'Optuna': [0.46279279558254016, 0.4274040750073275, 0.37198526681218375, 0.4565850335335094, 0.40799655195011414, 0.43138215094076027, 0.41100531394321377, 0.37338486684415817, 0.4611895147981208, 0.412395672126079, 0.47438819559017364, 0.47601140036098427, 0.462385074005607, 0.4256062352955579, 0.43138215094076027, 0.41100531394321377, 0.37338486684415817, 0.4611895147981208, 0.412395672126079, 0.47438819559017364, 0.47601140036098427, 0.462385074005607, 0.4256062352955579], 'HyperOpt': []}, 'SGD_Classifier': {'Optuna': [0.5031919186390813, 0.45941519979317463, 0.5387783187660187, 0.4933956786073758, 0.4823880361982826, 0.54839596306429, 0.4728127603770962, 0.5334030432808996, 0.449612118392648, 0.4353850718451748, 0.572011047970478, 0.46422612236256233, 0.5265819585182604, 0.4288073957837484, 0.46379187547844575], 'HyperOpt': []}, 'Random Forest': {'Optuna': [0.9811991983356031, 0.9775999181916318, 0.9819993984396399, 0.9807997584156638, 0.9851998387837438, 0.9818009987438286, 0.9837987984635966, 0.9854000388397711, 0.9836002787437711, 0.9806006385757661, 0.9862001189197934, 0.9812001585277184, 0.9809988782555613, 0.9816005586397726, 0.981799318407627, 0.9841999187197374, 0.9838001187277551, 0.9792006784717486, 0.984199198575651, 0.983199998655731, 0.9824007587438096, 0.9807998784396782, 0.9828007987838207, 0.9807997584156638, 0.979799118207571, 0.9744010381597151, 0.9803987581835374, 0.9759993979595438, 0.9821997185196815, 0.9788006384317374, 0.9779989980395278], 'HyperOpt': []}, 'Ada_Boost': {'Optuna': [0.9841993185996655, 0.9847997987437326, 0.9863999589037776, 0.986799518847731, 0.9877996789597662, 0.9852004389038159, 0.9857997188077391, 0.9861999988957791, 0.9862003589678222], 'HyperOpt': []}, 'Grad_Boost': {'Optuna': [], 'HyperOpt': []}, 'Bagging_Classifier': {'Optuna': [], 'HyperOpt': []}, 'ExtraTreesClassifier': {'Optuna': [], 'HyperOpt': []}, 'Hist_Grad_Boost_Classifier': {'Optuna': [], 'HyperOpt': []}, 'Decision_Tree_Classifier': {'Optuna': [], 'HyperOpt': []}, 'XGB_Classifier': {'Optuna': [], 'HyperOpt': []}, 'KNN_Classifier': {'Optuna': [], 'HyperOpt': []}}\n",
      "\n",
      "\n",
      "Batch 10\n",
      "\"\\nSpace: {'n_estimators': 130, 'algorithm': 'SAMME.R'}\"\n"
     ]
    },
    {
     "name": "stderr",
     "output_type": "stream",
     "text": [
      "[Parallel(n_jobs=-1)]: Done   3 out of   3 | elapsed:   50.1s finished\n",
      "[Parallel(n_jobs=-1)]: Using backend LokyBackend with 8 concurrent workers.\n"
     ]
    },
    {
     "name": "stdout",
     "output_type": "stream",
     "text": [
      "\n",
      "Accuracy of Ada_Boost: 0.9858003189278111\n",
      "\n",
      "Batchwise_accuracies: [0.9841993185996655, 0.9847997987437326, 0.9863999589037776, 0.986799518847731, 0.9877996789597662, 0.9852004389038159, 0.9857997188077391, 0.9861999988957791, 0.9862003589678222, 0.9858003189278111]\n",
      "\n",
      "Batchwise_Median_Accuracy: 0.986000158911795\n",
      "\n",
      "Accumulated Accuracies:\n",
      "{'Logistic_Regression': {'Optuna': [0.46279279558254016, 0.4274040750073275, 0.37198526681218375, 0.4565850335335094, 0.40799655195011414, 0.43138215094076027, 0.41100531394321377, 0.37338486684415817, 0.4611895147981208, 0.412395672126079, 0.47438819559017364, 0.47601140036098427, 0.462385074005607, 0.4256062352955579, 0.43138215094076027, 0.41100531394321377, 0.37338486684415817, 0.4611895147981208, 0.412395672126079, 0.47438819559017364, 0.47601140036098427, 0.462385074005607, 0.4256062352955579], 'HyperOpt': []}, 'SGD_Classifier': {'Optuna': [0.5031919186390813, 0.45941519979317463, 0.5387783187660187, 0.4933956786073758, 0.4823880361982826, 0.54839596306429, 0.4728127603770962, 0.5334030432808996, 0.449612118392648, 0.4353850718451748, 0.572011047970478, 0.46422612236256233, 0.5265819585182604, 0.4288073957837484, 0.46379187547844575], 'HyperOpt': []}, 'Random Forest': {'Optuna': [0.9811991983356031, 0.9775999181916318, 0.9819993984396399, 0.9807997584156638, 0.9851998387837438, 0.9818009987438286, 0.9837987984635966, 0.9854000388397711, 0.9836002787437711, 0.9806006385757661, 0.9862001189197934, 0.9812001585277184, 0.9809988782555613, 0.9816005586397726, 0.981799318407627, 0.9841999187197374, 0.9838001187277551, 0.9792006784717486, 0.984199198575651, 0.983199998655731, 0.9824007587438096, 0.9807998784396782, 0.9828007987838207, 0.9807997584156638, 0.979799118207571, 0.9744010381597151, 0.9803987581835374, 0.9759993979595438, 0.9821997185196815, 0.9788006384317374, 0.9779989980395278], 'HyperOpt': []}, 'Ada_Boost': {'Optuna': [0.9841993185996655, 0.9847997987437326, 0.9863999589037776, 0.986799518847731, 0.9877996789597662, 0.9852004389038159, 0.9857997188077391, 0.9861999988957791, 0.9862003589678222, 0.9858003189278111], 'HyperOpt': []}, 'Grad_Boost': {'Optuna': [], 'HyperOpt': []}, 'Bagging_Classifier': {'Optuna': [], 'HyperOpt': []}, 'ExtraTreesClassifier': {'Optuna': [], 'HyperOpt': []}, 'Hist_Grad_Boost_Classifier': {'Optuna': [], 'HyperOpt': []}, 'Decision_Tree_Classifier': {'Optuna': [], 'HyperOpt': []}, 'XGB_Classifier': {'Optuna': [], 'HyperOpt': []}, 'KNN_Classifier': {'Optuna': [], 'HyperOpt': []}}\n",
      "\n",
      "\n",
      "Batch 11\n",
      "\"\\nSpace: {'n_estimators': 130, 'algorithm': 'SAMME.R'}\"\n"
     ]
    },
    {
     "name": "stderr",
     "output_type": "stream",
     "text": [
      "[Parallel(n_jobs=-1)]: Done   3 out of   3 | elapsed:   50.1s finished\n",
      "[Parallel(n_jobs=-1)]: Using backend LokyBackend with 8 concurrent workers.\n"
     ]
    },
    {
     "name": "stdout",
     "output_type": "stream",
     "text": [
      "\n",
      "Accuracy of Ada_Boost: 0.9887998390718016\n",
      "\n",
      "Batchwise_accuracies: [0.9841993185996655, 0.9847997987437326, 0.9863999589037776, 0.986799518847731, 0.9877996789597662, 0.9852004389038159, 0.9857997188077391, 0.9861999988957791, 0.9862003589678222, 0.9858003189278111, 0.9887998390718016]\n",
      "\n",
      "Batchwise_Median_Accuracy: 0.9861999988957791\n",
      "\n",
      "Accumulated Accuracies:\n",
      "{'Logistic_Regression': {'Optuna': [0.46279279558254016, 0.4274040750073275, 0.37198526681218375, 0.4565850335335094, 0.40799655195011414, 0.43138215094076027, 0.41100531394321377, 0.37338486684415817, 0.4611895147981208, 0.412395672126079, 0.47438819559017364, 0.47601140036098427, 0.462385074005607, 0.4256062352955579, 0.43138215094076027, 0.41100531394321377, 0.37338486684415817, 0.4611895147981208, 0.412395672126079, 0.47438819559017364, 0.47601140036098427, 0.462385074005607, 0.4256062352955579], 'HyperOpt': []}, 'SGD_Classifier': {'Optuna': [0.5031919186390813, 0.45941519979317463, 0.5387783187660187, 0.4933956786073758, 0.4823880361982826, 0.54839596306429, 0.4728127603770962, 0.5334030432808996, 0.449612118392648, 0.4353850718451748, 0.572011047970478, 0.46422612236256233, 0.5265819585182604, 0.4288073957837484, 0.46379187547844575], 'HyperOpt': []}, 'Random Forest': {'Optuna': [0.9811991983356031, 0.9775999181916318, 0.9819993984396399, 0.9807997584156638, 0.9851998387837438, 0.9818009987438286, 0.9837987984635966, 0.9854000388397711, 0.9836002787437711, 0.9806006385757661, 0.9862001189197934, 0.9812001585277184, 0.9809988782555613, 0.9816005586397726, 0.981799318407627, 0.9841999187197374, 0.9838001187277551, 0.9792006784717486, 0.984199198575651, 0.983199998655731, 0.9824007587438096, 0.9807998784396782, 0.9828007987838207, 0.9807997584156638, 0.979799118207571, 0.9744010381597151, 0.9803987581835374, 0.9759993979595438, 0.9821997185196815, 0.9788006384317374, 0.9779989980395278], 'HyperOpt': []}, 'Ada_Boost': {'Optuna': [0.9841993185996655, 0.9847997987437326, 0.9863999589037776, 0.986799518847731, 0.9877996789597662, 0.9852004389038159, 0.9857997188077391, 0.9861999988957791, 0.9862003589678222, 0.9858003189278111, 0.9887998390718016], 'HyperOpt': []}, 'Grad_Boost': {'Optuna': [], 'HyperOpt': []}, 'Bagging_Classifier': {'Optuna': [], 'HyperOpt': []}, 'ExtraTreesClassifier': {'Optuna': [], 'HyperOpt': []}, 'Hist_Grad_Boost_Classifier': {'Optuna': [], 'HyperOpt': []}, 'Decision_Tree_Classifier': {'Optuna': [], 'HyperOpt': []}, 'XGB_Classifier': {'Optuna': [], 'HyperOpt': []}, 'KNN_Classifier': {'Optuna': [], 'HyperOpt': []}}\n",
      "\n",
      "\n",
      "Batch 12\n",
      "\"\\nSpace: {'n_estimators': 130, 'algorithm': 'SAMME.R'}\"\n"
     ]
    },
    {
     "name": "stderr",
     "output_type": "stream",
     "text": [
      "[Parallel(n_jobs=-1)]: Done   3 out of   3 | elapsed:   49.1s finished\n",
      "[I 2024-01-28 21:21:22,323] Trial 0 finished with value: 0.986099878863763 and parameters: {'n_estimators': 130, 'algorithm': 'SAMME.R'}. Best is trial 0 with value: 0.986099878863763.\n",
      "[Parallel(n_jobs=-1)]: Using backend LokyBackend with 8 concurrent workers.\n"
     ]
    },
    {
     "name": "stdout",
     "output_type": "stream",
     "text": [
      "\n",
      "Accuracy of Ada_Boost: 0.985199598735715\n",
      "\n",
      "Batchwise_accuracies: [0.9841993185996655, 0.9847997987437326, 0.9863999589037776, 0.986799518847731, 0.9877996789597662, 0.9852004389038159, 0.9857997188077391, 0.9861999988957791, 0.9862003589678222, 0.9858003189278111, 0.9887998390718016, 0.985199598735715]\n",
      "\n",
      "Batchwise_Median_Accuracy: 0.986000158911795\n",
      "\n",
      "Accumulated Accuracies:\n",
      "{'Logistic_Regression': {'Optuna': [0.46279279558254016, 0.4274040750073275, 0.37198526681218375, 0.4565850335335094, 0.40799655195011414, 0.43138215094076027, 0.41100531394321377, 0.37338486684415817, 0.4611895147981208, 0.412395672126079, 0.47438819559017364, 0.47601140036098427, 0.462385074005607, 0.4256062352955579, 0.43138215094076027, 0.41100531394321377, 0.37338486684415817, 0.4611895147981208, 0.412395672126079, 0.47438819559017364, 0.47601140036098427, 0.462385074005607, 0.4256062352955579], 'HyperOpt': []}, 'SGD_Classifier': {'Optuna': [0.5031919186390813, 0.45941519979317463, 0.5387783187660187, 0.4933956786073758, 0.4823880361982826, 0.54839596306429, 0.4728127603770962, 0.5334030432808996, 0.449612118392648, 0.4353850718451748, 0.572011047970478, 0.46422612236256233, 0.5265819585182604, 0.4288073957837484, 0.46379187547844575], 'HyperOpt': []}, 'Random Forest': {'Optuna': [0.9811991983356031, 0.9775999181916318, 0.9819993984396399, 0.9807997584156638, 0.9851998387837438, 0.9818009987438286, 0.9837987984635966, 0.9854000388397711, 0.9836002787437711, 0.9806006385757661, 0.9862001189197934, 0.9812001585277184, 0.9809988782555613, 0.9816005586397726, 0.981799318407627, 0.9841999187197374, 0.9838001187277551, 0.9792006784717486, 0.984199198575651, 0.983199998655731, 0.9824007587438096, 0.9807998784396782, 0.9828007987838207, 0.9807997584156638, 0.979799118207571, 0.9744010381597151, 0.9803987581835374, 0.9759993979595438, 0.9821997185196815, 0.9788006384317374, 0.9779989980395278], 'HyperOpt': []}, 'Ada_Boost': {'Optuna': [0.9841993185996655, 0.9847997987437326, 0.9863999589037776, 0.986799518847731, 0.9877996789597662, 0.9852004389038159, 0.9857997188077391, 0.9861999988957791, 0.9862003589678222, 0.9858003189278111, 0.9887998390718016, 0.985199598735715], 'HyperOpt': []}, 'Grad_Boost': {'Optuna': [], 'HyperOpt': []}, 'Bagging_Classifier': {'Optuna': [], 'HyperOpt': []}, 'ExtraTreesClassifier': {'Optuna': [], 'HyperOpt': []}, 'Hist_Grad_Boost_Classifier': {'Optuna': [], 'HyperOpt': []}, 'Decision_Tree_Classifier': {'Optuna': [], 'HyperOpt': []}, 'XGB_Classifier': {'Optuna': [], 'HyperOpt': []}, 'KNN_Classifier': {'Optuna': [], 'HyperOpt': []}}\n",
      "\n",
      "\n",
      "**************\n",
      "Trial_Number: 1\n",
      "**************\n",
      "\n",
      "Batch 1\n",
      "\"\\nSpace: {'n_estimators': 123, 'algorithm': 'SAMME.R'}\"\n"
     ]
    },
    {
     "name": "stderr",
     "output_type": "stream",
     "text": [
      "[Parallel(n_jobs=-1)]: Done   3 out of   3 | elapsed:   47.3s finished\n",
      "[Parallel(n_jobs=-1)]: Using backend LokyBackend with 8 concurrent workers.\n"
     ]
    },
    {
     "name": "stdout",
     "output_type": "stream",
     "text": [
      "\n",
      "Accuracy of Ada_Boost: 0.9835993185516557\n",
      "\n",
      "Batchwise_accuracies: [0.9835993185516557]\n",
      "\n",
      "Batchwise_Median_Accuracy: 0.9835993185516557\n",
      "\n",
      "Accumulated Accuracies:\n",
      "{'Logistic_Regression': {'Optuna': [0.46279279558254016, 0.4274040750073275, 0.37198526681218375, 0.4565850335335094, 0.40799655195011414, 0.43138215094076027, 0.41100531394321377, 0.37338486684415817, 0.4611895147981208, 0.412395672126079, 0.47438819559017364, 0.47601140036098427, 0.462385074005607, 0.4256062352955579, 0.43138215094076027, 0.41100531394321377, 0.37338486684415817, 0.4611895147981208, 0.412395672126079, 0.47438819559017364, 0.47601140036098427, 0.462385074005607, 0.4256062352955579], 'HyperOpt': []}, 'SGD_Classifier': {'Optuna': [0.5031919186390813, 0.45941519979317463, 0.5387783187660187, 0.4933956786073758, 0.4823880361982826, 0.54839596306429, 0.4728127603770962, 0.5334030432808996, 0.449612118392648, 0.4353850718451748, 0.572011047970478, 0.46422612236256233, 0.5265819585182604, 0.4288073957837484, 0.46379187547844575], 'HyperOpt': []}, 'Random Forest': {'Optuna': [0.9811991983356031, 0.9775999181916318, 0.9819993984396399, 0.9807997584156638, 0.9851998387837438, 0.9818009987438286, 0.9837987984635966, 0.9854000388397711, 0.9836002787437711, 0.9806006385757661, 0.9862001189197934, 0.9812001585277184, 0.9809988782555613, 0.9816005586397726, 0.981799318407627, 0.9841999187197374, 0.9838001187277551, 0.9792006784717486, 0.984199198575651, 0.983199998655731, 0.9824007587438096, 0.9807998784396782, 0.9828007987838207, 0.9807997584156638, 0.979799118207571, 0.9744010381597151, 0.9803987581835374, 0.9759993979595438, 0.9821997185196815, 0.9788006384317374, 0.9779989980395278], 'HyperOpt': []}, 'Ada_Boost': {'Optuna': [0.9841993185996655, 0.9847997987437326, 0.9863999589037776, 0.986799518847731, 0.9877996789597662, 0.9852004389038159, 0.9857997188077391, 0.9861999988957791, 0.9862003589678222, 0.9858003189278111, 0.9887998390718016, 0.985199598735715, 0.9835993185516557], 'HyperOpt': []}, 'Grad_Boost': {'Optuna': [], 'HyperOpt': []}, 'Bagging_Classifier': {'Optuna': [], 'HyperOpt': []}, 'ExtraTreesClassifier': {'Optuna': [], 'HyperOpt': []}, 'Hist_Grad_Boost_Classifier': {'Optuna': [], 'HyperOpt': []}, 'Decision_Tree_Classifier': {'Optuna': [], 'HyperOpt': []}, 'XGB_Classifier': {'Optuna': [], 'HyperOpt': []}, 'KNN_Classifier': {'Optuna': [], 'HyperOpt': []}}\n",
      "\n",
      "\n",
      "Batch 2\n",
      "\"\\nSpace: {'n_estimators': 123, 'algorithm': 'SAMME.R'}\"\n"
     ]
    },
    {
     "name": "stderr",
     "output_type": "stream",
     "text": [
      "[Parallel(n_jobs=-1)]: Done   3 out of   3 | elapsed:   46.8s finished\n",
      "[Parallel(n_jobs=-1)]: Using backend LokyBackend with 8 concurrent workers.\n"
     ]
    },
    {
     "name": "stdout",
     "output_type": "stream",
     "text": [
      "\n",
      "Accuracy of Ada_Boost: 0.9843992786076639\n",
      "\n",
      "Batchwise_accuracies: [0.9835993185516557, 0.9843992786076639]\n",
      "\n",
      "Batchwise_Median_Accuracy: 0.9839992985796597\n",
      "\n",
      "Accumulated Accuracies:\n",
      "{'Logistic_Regression': {'Optuna': [0.46279279558254016, 0.4274040750073275, 0.37198526681218375, 0.4565850335335094, 0.40799655195011414, 0.43138215094076027, 0.41100531394321377, 0.37338486684415817, 0.4611895147981208, 0.412395672126079, 0.47438819559017364, 0.47601140036098427, 0.462385074005607, 0.4256062352955579, 0.43138215094076027, 0.41100531394321377, 0.37338486684415817, 0.4611895147981208, 0.412395672126079, 0.47438819559017364, 0.47601140036098427, 0.462385074005607, 0.4256062352955579], 'HyperOpt': []}, 'SGD_Classifier': {'Optuna': [0.5031919186390813, 0.45941519979317463, 0.5387783187660187, 0.4933956786073758, 0.4823880361982826, 0.54839596306429, 0.4728127603770962, 0.5334030432808996, 0.449612118392648, 0.4353850718451748, 0.572011047970478, 0.46422612236256233, 0.5265819585182604, 0.4288073957837484, 0.46379187547844575], 'HyperOpt': []}, 'Random Forest': {'Optuna': [0.9811991983356031, 0.9775999181916318, 0.9819993984396399, 0.9807997584156638, 0.9851998387837438, 0.9818009987438286, 0.9837987984635966, 0.9854000388397711, 0.9836002787437711, 0.9806006385757661, 0.9862001189197934, 0.9812001585277184, 0.9809988782555613, 0.9816005586397726, 0.981799318407627, 0.9841999187197374, 0.9838001187277551, 0.9792006784717486, 0.984199198575651, 0.983199998655731, 0.9824007587438096, 0.9807998784396782, 0.9828007987838207, 0.9807997584156638, 0.979799118207571, 0.9744010381597151, 0.9803987581835374, 0.9759993979595438, 0.9821997185196815, 0.9788006384317374, 0.9779989980395278], 'HyperOpt': []}, 'Ada_Boost': {'Optuna': [0.9841993185996655, 0.9847997987437326, 0.9863999589037776, 0.986799518847731, 0.9877996789597662, 0.9852004389038159, 0.9857997188077391, 0.9861999988957791, 0.9862003589678222, 0.9858003189278111, 0.9887998390718016, 0.985199598735715, 0.9835993185516557, 0.9843992786076639], 'HyperOpt': []}, 'Grad_Boost': {'Optuna': [], 'HyperOpt': []}, 'Bagging_Classifier': {'Optuna': [], 'HyperOpt': []}, 'ExtraTreesClassifier': {'Optuna': [], 'HyperOpt': []}, 'Hist_Grad_Boost_Classifier': {'Optuna': [], 'HyperOpt': []}, 'Decision_Tree_Classifier': {'Optuna': [], 'HyperOpt': []}, 'XGB_Classifier': {'Optuna': [], 'HyperOpt': []}, 'KNN_Classifier': {'Optuna': [], 'HyperOpt': []}}\n",
      "\n",
      "\n",
      "Batch 3\n",
      "\"\\nSpace: {'n_estimators': 123, 'algorithm': 'SAMME.R'}\"\n"
     ]
    },
    {
     "name": "stderr",
     "output_type": "stream",
     "text": [
      "[Parallel(n_jobs=-1)]: Done   3 out of   3 | elapsed:   47.6s finished\n",
      "[Parallel(n_jobs=-1)]: Using backend LokyBackend with 8 concurrent workers.\n"
     ]
    },
    {
     "name": "stdout",
     "output_type": "stream",
     "text": [
      "\n",
      "Accuracy of Ada_Boost: 0.9863999589037776\n",
      "\n",
      "Batchwise_accuracies: [0.9835993185516557, 0.9843992786076639, 0.9863999589037776]\n",
      "\n",
      "Batchwise_Median_Accuracy: 0.9843992786076639\n",
      "\n",
      "Accumulated Accuracies:\n",
      "{'Logistic_Regression': {'Optuna': [0.46279279558254016, 0.4274040750073275, 0.37198526681218375, 0.4565850335335094, 0.40799655195011414, 0.43138215094076027, 0.41100531394321377, 0.37338486684415817, 0.4611895147981208, 0.412395672126079, 0.47438819559017364, 0.47601140036098427, 0.462385074005607, 0.4256062352955579, 0.43138215094076027, 0.41100531394321377, 0.37338486684415817, 0.4611895147981208, 0.412395672126079, 0.47438819559017364, 0.47601140036098427, 0.462385074005607, 0.4256062352955579], 'HyperOpt': []}, 'SGD_Classifier': {'Optuna': [0.5031919186390813, 0.45941519979317463, 0.5387783187660187, 0.4933956786073758, 0.4823880361982826, 0.54839596306429, 0.4728127603770962, 0.5334030432808996, 0.449612118392648, 0.4353850718451748, 0.572011047970478, 0.46422612236256233, 0.5265819585182604, 0.4288073957837484, 0.46379187547844575], 'HyperOpt': []}, 'Random Forest': {'Optuna': [0.9811991983356031, 0.9775999181916318, 0.9819993984396399, 0.9807997584156638, 0.9851998387837438, 0.9818009987438286, 0.9837987984635966, 0.9854000388397711, 0.9836002787437711, 0.9806006385757661, 0.9862001189197934, 0.9812001585277184, 0.9809988782555613, 0.9816005586397726, 0.981799318407627, 0.9841999187197374, 0.9838001187277551, 0.9792006784717486, 0.984199198575651, 0.983199998655731, 0.9824007587438096, 0.9807998784396782, 0.9828007987838207, 0.9807997584156638, 0.979799118207571, 0.9744010381597151, 0.9803987581835374, 0.9759993979595438, 0.9821997185196815, 0.9788006384317374, 0.9779989980395278], 'HyperOpt': []}, 'Ada_Boost': {'Optuna': [0.9841993185996655, 0.9847997987437326, 0.9863999589037776, 0.986799518847731, 0.9877996789597662, 0.9852004389038159, 0.9857997188077391, 0.9861999988957791, 0.9862003589678222, 0.9858003189278111, 0.9887998390718016, 0.985199598735715, 0.9835993185516557, 0.9843992786076639, 0.9863999589037776], 'HyperOpt': []}, 'Grad_Boost': {'Optuna': [], 'HyperOpt': []}, 'Bagging_Classifier': {'Optuna': [], 'HyperOpt': []}, 'ExtraTreesClassifier': {'Optuna': [], 'HyperOpt': []}, 'Hist_Grad_Boost_Classifier': {'Optuna': [], 'HyperOpt': []}, 'Decision_Tree_Classifier': {'Optuna': [], 'HyperOpt': []}, 'XGB_Classifier': {'Optuna': [], 'HyperOpt': []}, 'KNN_Classifier': {'Optuna': [], 'HyperOpt': []}}\n",
      "\n",
      "\n",
      "Batch 4\n",
      "\"\\nSpace: {'n_estimators': 123, 'algorithm': 'SAMME.R'}\"\n"
     ]
    },
    {
     "name": "stderr",
     "output_type": "stream",
     "text": [
      "[Parallel(n_jobs=-1)]: Done   3 out of   3 | elapsed:   47.4s finished\n",
      "[Parallel(n_jobs=-1)]: Using backend LokyBackend with 8 concurrent workers.\n"
     ]
    },
    {
     "name": "stdout",
     "output_type": "stream",
     "text": [
      "\n",
      "Accuracy of Ada_Boost: 0.9863994788077198\n",
      "\n",
      "Batchwise_accuracies: [0.9835993185516557, 0.9843992786076639, 0.9863999589037776, 0.9863994788077198]\n",
      "\n",
      "Batchwise_Median_Accuracy: 0.9853993787076918\n",
      "\n",
      "Accumulated Accuracies:\n",
      "{'Logistic_Regression': {'Optuna': [0.46279279558254016, 0.4274040750073275, 0.37198526681218375, 0.4565850335335094, 0.40799655195011414, 0.43138215094076027, 0.41100531394321377, 0.37338486684415817, 0.4611895147981208, 0.412395672126079, 0.47438819559017364, 0.47601140036098427, 0.462385074005607, 0.4256062352955579, 0.43138215094076027, 0.41100531394321377, 0.37338486684415817, 0.4611895147981208, 0.412395672126079, 0.47438819559017364, 0.47601140036098427, 0.462385074005607, 0.4256062352955579], 'HyperOpt': []}, 'SGD_Classifier': {'Optuna': [0.5031919186390813, 0.45941519979317463, 0.5387783187660187, 0.4933956786073758, 0.4823880361982826, 0.54839596306429, 0.4728127603770962, 0.5334030432808996, 0.449612118392648, 0.4353850718451748, 0.572011047970478, 0.46422612236256233, 0.5265819585182604, 0.4288073957837484, 0.46379187547844575], 'HyperOpt': []}, 'Random Forest': {'Optuna': [0.9811991983356031, 0.9775999181916318, 0.9819993984396399, 0.9807997584156638, 0.9851998387837438, 0.9818009987438286, 0.9837987984635966, 0.9854000388397711, 0.9836002787437711, 0.9806006385757661, 0.9862001189197934, 0.9812001585277184, 0.9809988782555613, 0.9816005586397726, 0.981799318407627, 0.9841999187197374, 0.9838001187277551, 0.9792006784717486, 0.984199198575651, 0.983199998655731, 0.9824007587438096, 0.9807998784396782, 0.9828007987838207, 0.9807997584156638, 0.979799118207571, 0.9744010381597151, 0.9803987581835374, 0.9759993979595438, 0.9821997185196815, 0.9788006384317374, 0.9779989980395278], 'HyperOpt': []}, 'Ada_Boost': {'Optuna': [0.9841993185996655, 0.9847997987437326, 0.9863999589037776, 0.986799518847731, 0.9877996789597662, 0.9852004389038159, 0.9857997188077391, 0.9861999988957791, 0.9862003589678222, 0.9858003189278111, 0.9887998390718016, 0.985199598735715, 0.9835993185516557, 0.9843992786076639, 0.9863999589037776, 0.9863994788077198], 'HyperOpt': []}, 'Grad_Boost': {'Optuna': [], 'HyperOpt': []}, 'Bagging_Classifier': {'Optuna': [], 'HyperOpt': []}, 'ExtraTreesClassifier': {'Optuna': [], 'HyperOpt': []}, 'Hist_Grad_Boost_Classifier': {'Optuna': [], 'HyperOpt': []}, 'Decision_Tree_Classifier': {'Optuna': [], 'HyperOpt': []}, 'XGB_Classifier': {'Optuna': [], 'HyperOpt': []}, 'KNN_Classifier': {'Optuna': [], 'HyperOpt': []}}\n",
      "\n",
      "\n",
      "Batch 5\n",
      "\"\\nSpace: {'n_estimators': 123, 'algorithm': 'SAMME.R'}\"\n"
     ]
    },
    {
     "name": "stderr",
     "output_type": "stream",
     "text": [
      "[Parallel(n_jobs=-1)]: Done   3 out of   3 | elapsed:   47.8s finished\n",
      "[Parallel(n_jobs=-1)]: Using backend LokyBackend with 8 concurrent workers.\n"
     ]
    },
    {
     "name": "stdout",
     "output_type": "stream",
     "text": [
      "\n",
      "Accuracy of Ada_Boost: 0.9879995189437504\n",
      "\n",
      "Batchwise_accuracies: [0.9835993185516557, 0.9843992786076639, 0.9863999589037776, 0.9863994788077198, 0.9879995189437504]\n",
      "\n",
      "Batchwise_Median_Accuracy: 0.9863994788077198\n",
      "\n",
      "Accumulated Accuracies:\n",
      "{'Logistic_Regression': {'Optuna': [0.46279279558254016, 0.4274040750073275, 0.37198526681218375, 0.4565850335335094, 0.40799655195011414, 0.43138215094076027, 0.41100531394321377, 0.37338486684415817, 0.4611895147981208, 0.412395672126079, 0.47438819559017364, 0.47601140036098427, 0.462385074005607, 0.4256062352955579, 0.43138215094076027, 0.41100531394321377, 0.37338486684415817, 0.4611895147981208, 0.412395672126079, 0.47438819559017364, 0.47601140036098427, 0.462385074005607, 0.4256062352955579], 'HyperOpt': []}, 'SGD_Classifier': {'Optuna': [0.5031919186390813, 0.45941519979317463, 0.5387783187660187, 0.4933956786073758, 0.4823880361982826, 0.54839596306429, 0.4728127603770962, 0.5334030432808996, 0.449612118392648, 0.4353850718451748, 0.572011047970478, 0.46422612236256233, 0.5265819585182604, 0.4288073957837484, 0.46379187547844575], 'HyperOpt': []}, 'Random Forest': {'Optuna': [0.9811991983356031, 0.9775999181916318, 0.9819993984396399, 0.9807997584156638, 0.9851998387837438, 0.9818009987438286, 0.9837987984635966, 0.9854000388397711, 0.9836002787437711, 0.9806006385757661, 0.9862001189197934, 0.9812001585277184, 0.9809988782555613, 0.9816005586397726, 0.981799318407627, 0.9841999187197374, 0.9838001187277551, 0.9792006784717486, 0.984199198575651, 0.983199998655731, 0.9824007587438096, 0.9807998784396782, 0.9828007987838207, 0.9807997584156638, 0.979799118207571, 0.9744010381597151, 0.9803987581835374, 0.9759993979595438, 0.9821997185196815, 0.9788006384317374, 0.9779989980395278], 'HyperOpt': []}, 'Ada_Boost': {'Optuna': [0.9841993185996655, 0.9847997987437326, 0.9863999589037776, 0.986799518847731, 0.9877996789597662, 0.9852004389038159, 0.9857997188077391, 0.9861999988957791, 0.9862003589678222, 0.9858003189278111, 0.9887998390718016, 0.985199598735715, 0.9835993185516557, 0.9843992786076639, 0.9863999589037776, 0.9863994788077198, 0.9879995189437504], 'HyperOpt': []}, 'Grad_Boost': {'Optuna': [], 'HyperOpt': []}, 'Bagging_Classifier': {'Optuna': [], 'HyperOpt': []}, 'ExtraTreesClassifier': {'Optuna': [], 'HyperOpt': []}, 'Hist_Grad_Boost_Classifier': {'Optuna': [], 'HyperOpt': []}, 'Decision_Tree_Classifier': {'Optuna': [], 'HyperOpt': []}, 'XGB_Classifier': {'Optuna': [], 'HyperOpt': []}, 'KNN_Classifier': {'Optuna': [], 'HyperOpt': []}}\n",
      "\n",
      "\n",
      "Batch 6\n",
      "\"\\nSpace: {'n_estimators': 123, 'algorithm': 'SAMME.R'}\"\n"
     ]
    },
    {
     "name": "stderr",
     "output_type": "stream",
     "text": [
      "[Parallel(n_jobs=-1)]: Done   3 out of   3 | elapsed:   47.2s finished\n",
      "[Parallel(n_jobs=-1)]: Using backend LokyBackend with 8 concurrent workers.\n"
     ]
    },
    {
     "name": "stdout",
     "output_type": "stream",
     "text": [
      "\n",
      "Accuracy of Ada_Boost: 0.9860005189838383\n",
      "\n",
      "Batchwise_accuracies: [0.9835993185516557, 0.9843992786076639, 0.9863999589037776, 0.9863994788077198, 0.9879995189437504, 0.9860005189838383]\n",
      "\n",
      "Batchwise_Median_Accuracy: 0.986199998895779\n",
      "\n",
      "Accumulated Accuracies:\n",
      "{'Logistic_Regression': {'Optuna': [0.46279279558254016, 0.4274040750073275, 0.37198526681218375, 0.4565850335335094, 0.40799655195011414, 0.43138215094076027, 0.41100531394321377, 0.37338486684415817, 0.4611895147981208, 0.412395672126079, 0.47438819559017364, 0.47601140036098427, 0.462385074005607, 0.4256062352955579, 0.43138215094076027, 0.41100531394321377, 0.37338486684415817, 0.4611895147981208, 0.412395672126079, 0.47438819559017364, 0.47601140036098427, 0.462385074005607, 0.4256062352955579], 'HyperOpt': []}, 'SGD_Classifier': {'Optuna': [0.5031919186390813, 0.45941519979317463, 0.5387783187660187, 0.4933956786073758, 0.4823880361982826, 0.54839596306429, 0.4728127603770962, 0.5334030432808996, 0.449612118392648, 0.4353850718451748, 0.572011047970478, 0.46422612236256233, 0.5265819585182604, 0.4288073957837484, 0.46379187547844575], 'HyperOpt': []}, 'Random Forest': {'Optuna': [0.9811991983356031, 0.9775999181916318, 0.9819993984396399, 0.9807997584156638, 0.9851998387837438, 0.9818009987438286, 0.9837987984635966, 0.9854000388397711, 0.9836002787437711, 0.9806006385757661, 0.9862001189197934, 0.9812001585277184, 0.9809988782555613, 0.9816005586397726, 0.981799318407627, 0.9841999187197374, 0.9838001187277551, 0.9792006784717486, 0.984199198575651, 0.983199998655731, 0.9824007587438096, 0.9807998784396782, 0.9828007987838207, 0.9807997584156638, 0.979799118207571, 0.9744010381597151, 0.9803987581835374, 0.9759993979595438, 0.9821997185196815, 0.9788006384317374, 0.9779989980395278], 'HyperOpt': []}, 'Ada_Boost': {'Optuna': [0.9841993185996655, 0.9847997987437326, 0.9863999589037776, 0.986799518847731, 0.9877996789597662, 0.9852004389038159, 0.9857997188077391, 0.9861999988957791, 0.9862003589678222, 0.9858003189278111, 0.9887998390718016, 0.985199598735715, 0.9835993185516557, 0.9843992786076639, 0.9863999589037776, 0.9863994788077198, 0.9879995189437504, 0.9860005189838383], 'HyperOpt': []}, 'Grad_Boost': {'Optuna': [], 'HyperOpt': []}, 'Bagging_Classifier': {'Optuna': [], 'HyperOpt': []}, 'ExtraTreesClassifier': {'Optuna': [], 'HyperOpt': []}, 'Hist_Grad_Boost_Classifier': {'Optuna': [], 'HyperOpt': []}, 'Decision_Tree_Classifier': {'Optuna': [], 'HyperOpt': []}, 'XGB_Classifier': {'Optuna': [], 'HyperOpt': []}, 'KNN_Classifier': {'Optuna': [], 'HyperOpt': []}}\n",
      "\n",
      "\n",
      "Batch 7\n",
      "\"\\nSpace: {'n_estimators': 123, 'algorithm': 'SAMME.R'}\"\n"
     ]
    },
    {
     "name": "stderr",
     "output_type": "stream",
     "text": [
      "[Parallel(n_jobs=-1)]: Done   3 out of   3 | elapsed:   46.2s finished\n",
      "[I 2024-01-28 21:26:53,905] Trial 1 pruned. \n",
      "[Parallel(n_jobs=-1)]: Using backend LokyBackend with 8 concurrent workers.\n"
     ]
    },
    {
     "name": "stdout",
     "output_type": "stream",
     "text": [
      "\n",
      "Accuracy of Ada_Boost: 0.9855996387757262\n",
      "\n",
      "Batchwise_accuracies: [0.9835993185516557, 0.9843992786076639, 0.9863999589037776, 0.9863994788077198, 0.9879995189437504, 0.9860005189838383, 0.9855996387757262]\n",
      "\n",
      "Batchwise_Median_Accuracy: 0.9860005189838383\n",
      "\n",
      "Accumulated Accuracies:\n",
      "{'Logistic_Regression': {'Optuna': [0.46279279558254016, 0.4274040750073275, 0.37198526681218375, 0.4565850335335094, 0.40799655195011414, 0.43138215094076027, 0.41100531394321377, 0.37338486684415817, 0.4611895147981208, 0.412395672126079, 0.47438819559017364, 0.47601140036098427, 0.462385074005607, 0.4256062352955579, 0.43138215094076027, 0.41100531394321377, 0.37338486684415817, 0.4611895147981208, 0.412395672126079, 0.47438819559017364, 0.47601140036098427, 0.462385074005607, 0.4256062352955579], 'HyperOpt': []}, 'SGD_Classifier': {'Optuna': [0.5031919186390813, 0.45941519979317463, 0.5387783187660187, 0.4933956786073758, 0.4823880361982826, 0.54839596306429, 0.4728127603770962, 0.5334030432808996, 0.449612118392648, 0.4353850718451748, 0.572011047970478, 0.46422612236256233, 0.5265819585182604, 0.4288073957837484, 0.46379187547844575], 'HyperOpt': []}, 'Random Forest': {'Optuna': [0.9811991983356031, 0.9775999181916318, 0.9819993984396399, 0.9807997584156638, 0.9851998387837438, 0.9818009987438286, 0.9837987984635966, 0.9854000388397711, 0.9836002787437711, 0.9806006385757661, 0.9862001189197934, 0.9812001585277184, 0.9809988782555613, 0.9816005586397726, 0.981799318407627, 0.9841999187197374, 0.9838001187277551, 0.9792006784717486, 0.984199198575651, 0.983199998655731, 0.9824007587438096, 0.9807998784396782, 0.9828007987838207, 0.9807997584156638, 0.979799118207571, 0.9744010381597151, 0.9803987581835374, 0.9759993979595438, 0.9821997185196815, 0.9788006384317374, 0.9779989980395278], 'HyperOpt': []}, 'Ada_Boost': {'Optuna': [0.9841993185996655, 0.9847997987437326, 0.9863999589037776, 0.986799518847731, 0.9877996789597662, 0.9852004389038159, 0.9857997188077391, 0.9861999988957791, 0.9862003589678222, 0.9858003189278111, 0.9887998390718016, 0.985199598735715, 0.9835993185516557, 0.9843992786076639, 0.9863999589037776, 0.9863994788077198, 0.9879995189437504, 0.9860005189838383, 0.9855996387757262], 'HyperOpt': []}, 'Grad_Boost': {'Optuna': [], 'HyperOpt': []}, 'Bagging_Classifier': {'Optuna': [], 'HyperOpt': []}, 'ExtraTreesClassifier': {'Optuna': [], 'HyperOpt': []}, 'Hist_Grad_Boost_Classifier': {'Optuna': [], 'HyperOpt': []}, 'Decision_Tree_Classifier': {'Optuna': [], 'HyperOpt': []}, 'XGB_Classifier': {'Optuna': [], 'HyperOpt': []}, 'KNN_Classifier': {'Optuna': [], 'HyperOpt': []}}\n",
      "\n",
      "\n",
      "**************\n",
      "Trial_Number: 2\n",
      "**************\n",
      "\n",
      "Batch 1\n",
      "\"\\nSpace: {'n_estimators': 126, 'algorithm': 'SAMME.R'}\"\n"
     ]
    },
    {
     "name": "stderr",
     "output_type": "stream",
     "text": [
      "[Parallel(n_jobs=-1)]: Done   3 out of   3 | elapsed:   48.0s finished\n",
      "[Parallel(n_jobs=-1)]: Using backend LokyBackend with 8 concurrent workers.\n"
     ]
    },
    {
     "name": "stdout",
     "output_type": "stream",
     "text": [
      "\n",
      "Accuracy of Ada_Boost: 0.983999358591667\n",
      "\n",
      "Batchwise_accuracies: [0.983999358591667]\n",
      "\n",
      "Batchwise_Median_Accuracy: 0.983999358591667\n",
      "\n",
      "Accumulated Accuracies:\n",
      "{'Logistic_Regression': {'Optuna': [0.46279279558254016, 0.4274040750073275, 0.37198526681218375, 0.4565850335335094, 0.40799655195011414, 0.43138215094076027, 0.41100531394321377, 0.37338486684415817, 0.4611895147981208, 0.412395672126079, 0.47438819559017364, 0.47601140036098427, 0.462385074005607, 0.4256062352955579, 0.43138215094076027, 0.41100531394321377, 0.37338486684415817, 0.4611895147981208, 0.412395672126079, 0.47438819559017364, 0.47601140036098427, 0.462385074005607, 0.4256062352955579], 'HyperOpt': []}, 'SGD_Classifier': {'Optuna': [0.5031919186390813, 0.45941519979317463, 0.5387783187660187, 0.4933956786073758, 0.4823880361982826, 0.54839596306429, 0.4728127603770962, 0.5334030432808996, 0.449612118392648, 0.4353850718451748, 0.572011047970478, 0.46422612236256233, 0.5265819585182604, 0.4288073957837484, 0.46379187547844575], 'HyperOpt': []}, 'Random Forest': {'Optuna': [0.9811991983356031, 0.9775999181916318, 0.9819993984396399, 0.9807997584156638, 0.9851998387837438, 0.9818009987438286, 0.9837987984635966, 0.9854000388397711, 0.9836002787437711, 0.9806006385757661, 0.9862001189197934, 0.9812001585277184, 0.9809988782555613, 0.9816005586397726, 0.981799318407627, 0.9841999187197374, 0.9838001187277551, 0.9792006784717486, 0.984199198575651, 0.983199998655731, 0.9824007587438096, 0.9807998784396782, 0.9828007987838207, 0.9807997584156638, 0.979799118207571, 0.9744010381597151, 0.9803987581835374, 0.9759993979595438, 0.9821997185196815, 0.9788006384317374, 0.9779989980395278], 'HyperOpt': []}, 'Ada_Boost': {'Optuna': [0.9841993185996655, 0.9847997987437326, 0.9863999589037776, 0.986799518847731, 0.9877996789597662, 0.9852004389038159, 0.9857997188077391, 0.9861999988957791, 0.9862003589678222, 0.9858003189278111, 0.9887998390718016, 0.985199598735715, 0.9835993185516557, 0.9843992786076639, 0.9863999589037776, 0.9863994788077198, 0.9879995189437504, 0.9860005189838383, 0.9855996387757262, 0.983999358591667], 'HyperOpt': []}, 'Grad_Boost': {'Optuna': [], 'HyperOpt': []}, 'Bagging_Classifier': {'Optuna': [], 'HyperOpt': []}, 'ExtraTreesClassifier': {'Optuna': [], 'HyperOpt': []}, 'Hist_Grad_Boost_Classifier': {'Optuna': [], 'HyperOpt': []}, 'Decision_Tree_Classifier': {'Optuna': [], 'HyperOpt': []}, 'XGB_Classifier': {'Optuna': [], 'HyperOpt': []}, 'KNN_Classifier': {'Optuna': [], 'HyperOpt': []}}\n",
      "\n",
      "\n",
      "Batch 2\n",
      "\"\\nSpace: {'n_estimators': 126, 'algorithm': 'SAMME.R'}\"\n"
     ]
    },
    {
     "name": "stderr",
     "output_type": "stream",
     "text": [
      "[Parallel(n_jobs=-1)]: Done   3 out of   3 | elapsed:   48.8s finished\n",
      "[Parallel(n_jobs=-1)]: Using backend LokyBackend with 8 concurrent workers.\n"
     ]
    },
    {
     "name": "stdout",
     "output_type": "stream",
     "text": [
      "\n",
      "Accuracy of Ada_Boost: 0.9843995186556928\n",
      "\n",
      "Batchwise_accuracies: [0.983999358591667, 0.9843995186556928]\n",
      "\n",
      "Batchwise_Median_Accuracy: 0.9841994386236799\n",
      "\n",
      "Accumulated Accuracies:\n",
      "{'Logistic_Regression': {'Optuna': [0.46279279558254016, 0.4274040750073275, 0.37198526681218375, 0.4565850335335094, 0.40799655195011414, 0.43138215094076027, 0.41100531394321377, 0.37338486684415817, 0.4611895147981208, 0.412395672126079, 0.47438819559017364, 0.47601140036098427, 0.462385074005607, 0.4256062352955579, 0.43138215094076027, 0.41100531394321377, 0.37338486684415817, 0.4611895147981208, 0.412395672126079, 0.47438819559017364, 0.47601140036098427, 0.462385074005607, 0.4256062352955579], 'HyperOpt': []}, 'SGD_Classifier': {'Optuna': [0.5031919186390813, 0.45941519979317463, 0.5387783187660187, 0.4933956786073758, 0.4823880361982826, 0.54839596306429, 0.4728127603770962, 0.5334030432808996, 0.449612118392648, 0.4353850718451748, 0.572011047970478, 0.46422612236256233, 0.5265819585182604, 0.4288073957837484, 0.46379187547844575], 'HyperOpt': []}, 'Random Forest': {'Optuna': [0.9811991983356031, 0.9775999181916318, 0.9819993984396399, 0.9807997584156638, 0.9851998387837438, 0.9818009987438286, 0.9837987984635966, 0.9854000388397711, 0.9836002787437711, 0.9806006385757661, 0.9862001189197934, 0.9812001585277184, 0.9809988782555613, 0.9816005586397726, 0.981799318407627, 0.9841999187197374, 0.9838001187277551, 0.9792006784717486, 0.984199198575651, 0.983199998655731, 0.9824007587438096, 0.9807998784396782, 0.9828007987838207, 0.9807997584156638, 0.979799118207571, 0.9744010381597151, 0.9803987581835374, 0.9759993979595438, 0.9821997185196815, 0.9788006384317374, 0.9779989980395278], 'HyperOpt': []}, 'Ada_Boost': {'Optuna': [0.9841993185996655, 0.9847997987437326, 0.9863999589037776, 0.986799518847731, 0.9877996789597662, 0.9852004389038159, 0.9857997188077391, 0.9861999988957791, 0.9862003589678222, 0.9858003189278111, 0.9887998390718016, 0.985199598735715, 0.9835993185516557, 0.9843992786076639, 0.9863999589037776, 0.9863994788077198, 0.9879995189437504, 0.9860005189838383, 0.9855996387757262, 0.983999358591667, 0.9843995186556928], 'HyperOpt': []}, 'Grad_Boost': {'Optuna': [], 'HyperOpt': []}, 'Bagging_Classifier': {'Optuna': [], 'HyperOpt': []}, 'ExtraTreesClassifier': {'Optuna': [], 'HyperOpt': []}, 'Hist_Grad_Boost_Classifier': {'Optuna': [], 'HyperOpt': []}, 'Decision_Tree_Classifier': {'Optuna': [], 'HyperOpt': []}, 'XGB_Classifier': {'Optuna': [], 'HyperOpt': []}, 'KNN_Classifier': {'Optuna': [], 'HyperOpt': []}}\n",
      "\n",
      "\n",
      "Batch 3\n",
      "\"\\nSpace: {'n_estimators': 126, 'algorithm': 'SAMME.R'}\"\n"
     ]
    },
    {
     "name": "stderr",
     "output_type": "stream",
     "text": [
      "[Parallel(n_jobs=-1)]: Done   3 out of   3 | elapsed:   48.2s finished\n",
      "[Parallel(n_jobs=-1)]: Using backend LokyBackend with 8 concurrent workers.\n"
     ]
    },
    {
     "name": "stdout",
     "output_type": "stream",
     "text": [
      "\n",
      "Accuracy of Ada_Boost: 0.9868001189678032\n",
      "\n",
      "Batchwise_accuracies: [0.983999358591667, 0.9843995186556928, 0.9868001189678032]\n",
      "\n",
      "Batchwise_Median_Accuracy: 0.9843995186556928\n",
      "\n",
      "Accumulated Accuracies:\n",
      "{'Logistic_Regression': {'Optuna': [0.46279279558254016, 0.4274040750073275, 0.37198526681218375, 0.4565850335335094, 0.40799655195011414, 0.43138215094076027, 0.41100531394321377, 0.37338486684415817, 0.4611895147981208, 0.412395672126079, 0.47438819559017364, 0.47601140036098427, 0.462385074005607, 0.4256062352955579, 0.43138215094076027, 0.41100531394321377, 0.37338486684415817, 0.4611895147981208, 0.412395672126079, 0.47438819559017364, 0.47601140036098427, 0.462385074005607, 0.4256062352955579], 'HyperOpt': []}, 'SGD_Classifier': {'Optuna': [0.5031919186390813, 0.45941519979317463, 0.5387783187660187, 0.4933956786073758, 0.4823880361982826, 0.54839596306429, 0.4728127603770962, 0.5334030432808996, 0.449612118392648, 0.4353850718451748, 0.572011047970478, 0.46422612236256233, 0.5265819585182604, 0.4288073957837484, 0.46379187547844575], 'HyperOpt': []}, 'Random Forest': {'Optuna': [0.9811991983356031, 0.9775999181916318, 0.9819993984396399, 0.9807997584156638, 0.9851998387837438, 0.9818009987438286, 0.9837987984635966, 0.9854000388397711, 0.9836002787437711, 0.9806006385757661, 0.9862001189197934, 0.9812001585277184, 0.9809988782555613, 0.9816005586397726, 0.981799318407627, 0.9841999187197374, 0.9838001187277551, 0.9792006784717486, 0.984199198575651, 0.983199998655731, 0.9824007587438096, 0.9807998784396782, 0.9828007987838207, 0.9807997584156638, 0.979799118207571, 0.9744010381597151, 0.9803987581835374, 0.9759993979595438, 0.9821997185196815, 0.9788006384317374, 0.9779989980395278], 'HyperOpt': []}, 'Ada_Boost': {'Optuna': [0.9841993185996655, 0.9847997987437326, 0.9863999589037776, 0.986799518847731, 0.9877996789597662, 0.9852004389038159, 0.9857997188077391, 0.9861999988957791, 0.9862003589678222, 0.9858003189278111, 0.9887998390718016, 0.985199598735715, 0.9835993185516557, 0.9843992786076639, 0.9863999589037776, 0.9863994788077198, 0.9879995189437504, 0.9860005189838383, 0.9855996387757262, 0.983999358591667, 0.9843995186556928, 0.9868001189678032], 'HyperOpt': []}, 'Grad_Boost': {'Optuna': [], 'HyperOpt': []}, 'Bagging_Classifier': {'Optuna': [], 'HyperOpt': []}, 'ExtraTreesClassifier': {'Optuna': [], 'HyperOpt': []}, 'Hist_Grad_Boost_Classifier': {'Optuna': [], 'HyperOpt': []}, 'Decision_Tree_Classifier': {'Optuna': [], 'HyperOpt': []}, 'XGB_Classifier': {'Optuna': [], 'HyperOpt': []}, 'KNN_Classifier': {'Optuna': [], 'HyperOpt': []}}\n",
      "\n",
      "\n",
      "Batch 4\n",
      "\"\\nSpace: {'n_estimators': 126, 'algorithm': 'SAMME.R'}\"\n"
     ]
    },
    {
     "name": "stderr",
     "output_type": "stream",
     "text": [
      "[Parallel(n_jobs=-1)]: Done   3 out of   3 | elapsed:   48.5s finished\n",
      "[Parallel(n_jobs=-1)]: Using backend LokyBackend with 8 concurrent workers.\n"
     ]
    },
    {
     "name": "stdout",
     "output_type": "stream",
     "text": [
      "\n",
      "Accuracy of Ada_Boost: 0.9867993988237167\n",
      "\n",
      "Batchwise_accuracies: [0.983999358591667, 0.9843995186556928, 0.9868001189678032, 0.9867993988237167]\n",
      "\n",
      "Batchwise_Median_Accuracy: 0.9855994587397048\n",
      "\n",
      "Accumulated Accuracies:\n",
      "{'Logistic_Regression': {'Optuna': [0.46279279558254016, 0.4274040750073275, 0.37198526681218375, 0.4565850335335094, 0.40799655195011414, 0.43138215094076027, 0.41100531394321377, 0.37338486684415817, 0.4611895147981208, 0.412395672126079, 0.47438819559017364, 0.47601140036098427, 0.462385074005607, 0.4256062352955579, 0.43138215094076027, 0.41100531394321377, 0.37338486684415817, 0.4611895147981208, 0.412395672126079, 0.47438819559017364, 0.47601140036098427, 0.462385074005607, 0.4256062352955579], 'HyperOpt': []}, 'SGD_Classifier': {'Optuna': [0.5031919186390813, 0.45941519979317463, 0.5387783187660187, 0.4933956786073758, 0.4823880361982826, 0.54839596306429, 0.4728127603770962, 0.5334030432808996, 0.449612118392648, 0.4353850718451748, 0.572011047970478, 0.46422612236256233, 0.5265819585182604, 0.4288073957837484, 0.46379187547844575], 'HyperOpt': []}, 'Random Forest': {'Optuna': [0.9811991983356031, 0.9775999181916318, 0.9819993984396399, 0.9807997584156638, 0.9851998387837438, 0.9818009987438286, 0.9837987984635966, 0.9854000388397711, 0.9836002787437711, 0.9806006385757661, 0.9862001189197934, 0.9812001585277184, 0.9809988782555613, 0.9816005586397726, 0.981799318407627, 0.9841999187197374, 0.9838001187277551, 0.9792006784717486, 0.984199198575651, 0.983199998655731, 0.9824007587438096, 0.9807998784396782, 0.9828007987838207, 0.9807997584156638, 0.979799118207571, 0.9744010381597151, 0.9803987581835374, 0.9759993979595438, 0.9821997185196815, 0.9788006384317374, 0.9779989980395278], 'HyperOpt': []}, 'Ada_Boost': {'Optuna': [0.9841993185996655, 0.9847997987437326, 0.9863999589037776, 0.986799518847731, 0.9877996789597662, 0.9852004389038159, 0.9857997188077391, 0.9861999988957791, 0.9862003589678222, 0.9858003189278111, 0.9887998390718016, 0.985199598735715, 0.9835993185516557, 0.9843992786076639, 0.9863999589037776, 0.9863994788077198, 0.9879995189437504, 0.9860005189838383, 0.9855996387757262, 0.983999358591667, 0.9843995186556928, 0.9868001189678032, 0.9867993988237167], 'HyperOpt': []}, 'Grad_Boost': {'Optuna': [], 'HyperOpt': []}, 'Bagging_Classifier': {'Optuna': [], 'HyperOpt': []}, 'ExtraTreesClassifier': {'Optuna': [], 'HyperOpt': []}, 'Hist_Grad_Boost_Classifier': {'Optuna': [], 'HyperOpt': []}, 'Decision_Tree_Classifier': {'Optuna': [], 'HyperOpt': []}, 'XGB_Classifier': {'Optuna': [], 'HyperOpt': []}, 'KNN_Classifier': {'Optuna': [], 'HyperOpt': []}}\n",
      "\n",
      "\n",
      "Batch 5\n",
      "\"\\nSpace: {'n_estimators': 126, 'algorithm': 'SAMME.R'}\"\n"
     ]
    },
    {
     "name": "stderr",
     "output_type": "stream",
     "text": [
      "[Parallel(n_jobs=-1)]: Done   3 out of   3 | elapsed:   48.1s finished\n",
      "[Parallel(n_jobs=-1)]: Using backend LokyBackend with 8 concurrent workers.\n"
     ]
    },
    {
     "name": "stdout",
     "output_type": "stream",
     "text": [
      "\n",
      "Accuracy of Ada_Boost: 0.9877995589357519\n",
      "\n",
      "Batchwise_accuracies: [0.983999358591667, 0.9843995186556928, 0.9868001189678032, 0.9867993988237167, 0.9877995589357519]\n",
      "\n",
      "Batchwise_Median_Accuracy: 0.9867993988237167\n",
      "\n",
      "Accumulated Accuracies:\n",
      "{'Logistic_Regression': {'Optuna': [0.46279279558254016, 0.4274040750073275, 0.37198526681218375, 0.4565850335335094, 0.40799655195011414, 0.43138215094076027, 0.41100531394321377, 0.37338486684415817, 0.4611895147981208, 0.412395672126079, 0.47438819559017364, 0.47601140036098427, 0.462385074005607, 0.4256062352955579, 0.43138215094076027, 0.41100531394321377, 0.37338486684415817, 0.4611895147981208, 0.412395672126079, 0.47438819559017364, 0.47601140036098427, 0.462385074005607, 0.4256062352955579], 'HyperOpt': []}, 'SGD_Classifier': {'Optuna': [0.5031919186390813, 0.45941519979317463, 0.5387783187660187, 0.4933956786073758, 0.4823880361982826, 0.54839596306429, 0.4728127603770962, 0.5334030432808996, 0.449612118392648, 0.4353850718451748, 0.572011047970478, 0.46422612236256233, 0.5265819585182604, 0.4288073957837484, 0.46379187547844575], 'HyperOpt': []}, 'Random Forest': {'Optuna': [0.9811991983356031, 0.9775999181916318, 0.9819993984396399, 0.9807997584156638, 0.9851998387837438, 0.9818009987438286, 0.9837987984635966, 0.9854000388397711, 0.9836002787437711, 0.9806006385757661, 0.9862001189197934, 0.9812001585277184, 0.9809988782555613, 0.9816005586397726, 0.981799318407627, 0.9841999187197374, 0.9838001187277551, 0.9792006784717486, 0.984199198575651, 0.983199998655731, 0.9824007587438096, 0.9807998784396782, 0.9828007987838207, 0.9807997584156638, 0.979799118207571, 0.9744010381597151, 0.9803987581835374, 0.9759993979595438, 0.9821997185196815, 0.9788006384317374, 0.9779989980395278], 'HyperOpt': []}, 'Ada_Boost': {'Optuna': [0.9841993185996655, 0.9847997987437326, 0.9863999589037776, 0.986799518847731, 0.9877996789597662, 0.9852004389038159, 0.9857997188077391, 0.9861999988957791, 0.9862003589678222, 0.9858003189278111, 0.9887998390718016, 0.985199598735715, 0.9835993185516557, 0.9843992786076639, 0.9863999589037776, 0.9863994788077198, 0.9879995189437504, 0.9860005189838383, 0.9855996387757262, 0.983999358591667, 0.9843995186556928, 0.9868001189678032, 0.9867993988237167, 0.9877995589357519], 'HyperOpt': []}, 'Grad_Boost': {'Optuna': [], 'HyperOpt': []}, 'Bagging_Classifier': {'Optuna': [], 'HyperOpt': []}, 'ExtraTreesClassifier': {'Optuna': [], 'HyperOpt': []}, 'Hist_Grad_Boost_Classifier': {'Optuna': [], 'HyperOpt': []}, 'Decision_Tree_Classifier': {'Optuna': [], 'HyperOpt': []}, 'XGB_Classifier': {'Optuna': [], 'HyperOpt': []}, 'KNN_Classifier': {'Optuna': [], 'HyperOpt': []}}\n",
      "\n",
      "\n",
      "Batch 6\n",
      "\"\\nSpace: {'n_estimators': 126, 'algorithm': 'SAMME.R'}\"\n"
     ]
    },
    {
     "name": "stderr",
     "output_type": "stream",
     "text": [
      "[Parallel(n_jobs=-1)]: Done   3 out of   3 | elapsed:   47.9s finished\n",
      "[Parallel(n_jobs=-1)]: Using backend LokyBackend with 8 concurrent workers.\n"
     ]
    },
    {
     "name": "stdout",
     "output_type": "stream",
     "text": [
      "\n",
      "Accuracy of Ada_Boost: 0.98580055897584\n",
      "\n",
      "Batchwise_accuracies: [0.983999358591667, 0.9843995186556928, 0.9868001189678032, 0.9867993988237167, 0.9877995589357519, 0.98580055897584]\n",
      "\n",
      "Batchwise_Median_Accuracy: 0.9862999788997784\n",
      "\n",
      "Accumulated Accuracies:\n",
      "{'Logistic_Regression': {'Optuna': [0.46279279558254016, 0.4274040750073275, 0.37198526681218375, 0.4565850335335094, 0.40799655195011414, 0.43138215094076027, 0.41100531394321377, 0.37338486684415817, 0.4611895147981208, 0.412395672126079, 0.47438819559017364, 0.47601140036098427, 0.462385074005607, 0.4256062352955579, 0.43138215094076027, 0.41100531394321377, 0.37338486684415817, 0.4611895147981208, 0.412395672126079, 0.47438819559017364, 0.47601140036098427, 0.462385074005607, 0.4256062352955579], 'HyperOpt': []}, 'SGD_Classifier': {'Optuna': [0.5031919186390813, 0.45941519979317463, 0.5387783187660187, 0.4933956786073758, 0.4823880361982826, 0.54839596306429, 0.4728127603770962, 0.5334030432808996, 0.449612118392648, 0.4353850718451748, 0.572011047970478, 0.46422612236256233, 0.5265819585182604, 0.4288073957837484, 0.46379187547844575], 'HyperOpt': []}, 'Random Forest': {'Optuna': [0.9811991983356031, 0.9775999181916318, 0.9819993984396399, 0.9807997584156638, 0.9851998387837438, 0.9818009987438286, 0.9837987984635966, 0.9854000388397711, 0.9836002787437711, 0.9806006385757661, 0.9862001189197934, 0.9812001585277184, 0.9809988782555613, 0.9816005586397726, 0.981799318407627, 0.9841999187197374, 0.9838001187277551, 0.9792006784717486, 0.984199198575651, 0.983199998655731, 0.9824007587438096, 0.9807998784396782, 0.9828007987838207, 0.9807997584156638, 0.979799118207571, 0.9744010381597151, 0.9803987581835374, 0.9759993979595438, 0.9821997185196815, 0.9788006384317374, 0.9779989980395278], 'HyperOpt': []}, 'Ada_Boost': {'Optuna': [0.9841993185996655, 0.9847997987437326, 0.9863999589037776, 0.986799518847731, 0.9877996789597662, 0.9852004389038159, 0.9857997188077391, 0.9861999988957791, 0.9862003589678222, 0.9858003189278111, 0.9887998390718016, 0.985199598735715, 0.9835993185516557, 0.9843992786076639, 0.9863999589037776, 0.9863994788077198, 0.9879995189437504, 0.9860005189838383, 0.9855996387757262, 0.983999358591667, 0.9843995186556928, 0.9868001189678032, 0.9867993988237167, 0.9877995589357519, 0.98580055897584], 'HyperOpt': []}, 'Grad_Boost': {'Optuna': [], 'HyperOpt': []}, 'Bagging_Classifier': {'Optuna': [], 'HyperOpt': []}, 'ExtraTreesClassifier': {'Optuna': [], 'HyperOpt': []}, 'Hist_Grad_Boost_Classifier': {'Optuna': [], 'HyperOpt': []}, 'Decision_Tree_Classifier': {'Optuna': [], 'HyperOpt': []}, 'XGB_Classifier': {'Optuna': [], 'HyperOpt': []}, 'KNN_Classifier': {'Optuna': [], 'HyperOpt': []}}\n",
      "\n",
      "\n",
      "Batch 7\n",
      "\"\\nSpace: {'n_estimators': 126, 'algorithm': 'SAMME.R'}\"\n"
     ]
    },
    {
     "name": "stderr",
     "output_type": "stream",
     "text": [
      "[Parallel(n_jobs=-1)]: Done   3 out of   3 | elapsed:   47.5s finished\n",
      "[I 2024-01-28 21:32:32,536] Trial 2 pruned. \n",
      "[I 2024-01-28 21:32:32,538] A new study created in memory with name: no-name-f7079538-b33a-4e9a-8206-47da6dda2bb7\n",
      "[Parallel(n_jobs=-1)]: Using backend LokyBackend with 8 concurrent workers.\n"
     ]
    },
    {
     "name": "stdout",
     "output_type": "stream",
     "text": [
      "\n",
      "Accuracy of Ada_Boost: 0.9857997188077391\n",
      "\n",
      "Batchwise_accuracies: [0.983999358591667, 0.9843995186556928, 0.9868001189678032, 0.9867993988237167, 0.9877995589357519, 0.98580055897584, 0.9857997188077391]\n",
      "\n",
      "Batchwise_Median_Accuracy: 0.98580055897584\n",
      "\n",
      "Accumulated Accuracies:\n",
      "{'Logistic_Regression': {'Optuna': [0.46279279558254016, 0.4274040750073275, 0.37198526681218375, 0.4565850335335094, 0.40799655195011414, 0.43138215094076027, 0.41100531394321377, 0.37338486684415817, 0.4611895147981208, 0.412395672126079, 0.47438819559017364, 0.47601140036098427, 0.462385074005607, 0.4256062352955579, 0.43138215094076027, 0.41100531394321377, 0.37338486684415817, 0.4611895147981208, 0.412395672126079, 0.47438819559017364, 0.47601140036098427, 0.462385074005607, 0.4256062352955579], 'HyperOpt': []}, 'SGD_Classifier': {'Optuna': [0.5031919186390813, 0.45941519979317463, 0.5387783187660187, 0.4933956786073758, 0.4823880361982826, 0.54839596306429, 0.4728127603770962, 0.5334030432808996, 0.449612118392648, 0.4353850718451748, 0.572011047970478, 0.46422612236256233, 0.5265819585182604, 0.4288073957837484, 0.46379187547844575], 'HyperOpt': []}, 'Random Forest': {'Optuna': [0.9811991983356031, 0.9775999181916318, 0.9819993984396399, 0.9807997584156638, 0.9851998387837438, 0.9818009987438286, 0.9837987984635966, 0.9854000388397711, 0.9836002787437711, 0.9806006385757661, 0.9862001189197934, 0.9812001585277184, 0.9809988782555613, 0.9816005586397726, 0.981799318407627, 0.9841999187197374, 0.9838001187277551, 0.9792006784717486, 0.984199198575651, 0.983199998655731, 0.9824007587438096, 0.9807998784396782, 0.9828007987838207, 0.9807997584156638, 0.979799118207571, 0.9744010381597151, 0.9803987581835374, 0.9759993979595438, 0.9821997185196815, 0.9788006384317374, 0.9779989980395278], 'HyperOpt': []}, 'Ada_Boost': {'Optuna': [0.9841993185996655, 0.9847997987437326, 0.9863999589037776, 0.986799518847731, 0.9877996789597662, 0.9852004389038159, 0.9857997188077391, 0.9861999988957791, 0.9862003589678222, 0.9858003189278111, 0.9887998390718016, 0.985199598735715, 0.9835993185516557, 0.9843992786076639, 0.9863999589037776, 0.9863994788077198, 0.9879995189437504, 0.9860005189838383, 0.9855996387757262, 0.983999358591667, 0.9843995186556928, 0.9868001189678032, 0.9867993988237167, 0.9877995589357519, 0.98580055897584, 0.9857997188077391], 'HyperOpt': []}, 'Grad_Boost': {'Optuna': [], 'HyperOpt': []}, 'Bagging_Classifier': {'Optuna': [], 'HyperOpt': []}, 'ExtraTreesClassifier': {'Optuna': [], 'HyperOpt': []}, 'Hist_Grad_Boost_Classifier': {'Optuna': [], 'HyperOpt': []}, 'Decision_Tree_Classifier': {'Optuna': [], 'HyperOpt': []}, 'XGB_Classifier': {'Optuna': [], 'HyperOpt': []}, 'KNN_Classifier': {'Optuna': [], 'HyperOpt': []}}\n",
      "\n",
      "\n",
      "**************\n",
      "Trial_Number: 0\n",
      "**************\n",
      "\n",
      "Batch 1\n",
      "('\\n'\n",
      " \"Space: {'loss': 'log_loss', 'n_estimators': 138, 'criterion': \"\n",
      " \"'squared_error', 'max_features': None}\")\n"
     ]
    },
    {
     "name": "stderr",
     "output_type": "stream",
     "text": [
      "[Parallel(n_jobs=-1)]: Done   3 out of   3 | elapsed:  2.1min finished\n",
      "[Parallel(n_jobs=-1)]: Using backend LokyBackend with 8 concurrent workers.\n"
     ]
    },
    {
     "name": "stdout",
     "output_type": "stream",
     "text": [
      "\n",
      "Accuracy of Grad_Boost: 0.979799718327643\n",
      "\n",
      "Batchwise_accuracies: [0.979799718327643]\n",
      "\n",
      "Batchwise_Median_Accuracy: 0.979799718327643\n",
      "\n",
      "Accumulated Accuracies:\n",
      "{'Logistic_Regression': {'Optuna': [0.46279279558254016, 0.4274040750073275, 0.37198526681218375, 0.4565850335335094, 0.40799655195011414, 0.43138215094076027, 0.41100531394321377, 0.37338486684415817, 0.4611895147981208, 0.412395672126079, 0.47438819559017364, 0.47601140036098427, 0.462385074005607, 0.4256062352955579, 0.43138215094076027, 0.41100531394321377, 0.37338486684415817, 0.4611895147981208, 0.412395672126079, 0.47438819559017364, 0.47601140036098427, 0.462385074005607, 0.4256062352955579], 'HyperOpt': []}, 'SGD_Classifier': {'Optuna': [0.5031919186390813, 0.45941519979317463, 0.5387783187660187, 0.4933956786073758, 0.4823880361982826, 0.54839596306429, 0.4728127603770962, 0.5334030432808996, 0.449612118392648, 0.4353850718451748, 0.572011047970478, 0.46422612236256233, 0.5265819585182604, 0.4288073957837484, 0.46379187547844575], 'HyperOpt': []}, 'Random Forest': {'Optuna': [0.9811991983356031, 0.9775999181916318, 0.9819993984396399, 0.9807997584156638, 0.9851998387837438, 0.9818009987438286, 0.9837987984635966, 0.9854000388397711, 0.9836002787437711, 0.9806006385757661, 0.9862001189197934, 0.9812001585277184, 0.9809988782555613, 0.9816005586397726, 0.981799318407627, 0.9841999187197374, 0.9838001187277551, 0.9792006784717486, 0.984199198575651, 0.983199998655731, 0.9824007587438096, 0.9807998784396782, 0.9828007987838207, 0.9807997584156638, 0.979799118207571, 0.9744010381597151, 0.9803987581835374, 0.9759993979595438, 0.9821997185196815, 0.9788006384317374, 0.9779989980395278], 'HyperOpt': []}, 'Ada_Boost': {'Optuna': [0.9841993185996655, 0.9847997987437326, 0.9863999589037776, 0.986799518847731, 0.9877996789597662, 0.9852004389038159, 0.9857997188077391, 0.9861999988957791, 0.9862003589678222, 0.9858003189278111, 0.9887998390718016, 0.985199598735715, 0.9835993185516557, 0.9843992786076639, 0.9863999589037776, 0.9863994788077198, 0.9879995189437504, 0.9860005189838383, 0.9855996387757262, 0.983999358591667, 0.9843995186556928, 0.9868001189678032, 0.9867993988237167, 0.9877995589357519, 0.98580055897584, 0.9857997188077391], 'HyperOpt': []}, 'Grad_Boost': {'Optuna': [0.979799718327643], 'HyperOpt': []}, 'Bagging_Classifier': {'Optuna': [], 'HyperOpt': []}, 'ExtraTreesClassifier': {'Optuna': [], 'HyperOpt': []}, 'Hist_Grad_Boost_Classifier': {'Optuna': [], 'HyperOpt': []}, 'Decision_Tree_Classifier': {'Optuna': [], 'HyperOpt': []}, 'XGB_Classifier': {'Optuna': [], 'HyperOpt': []}, 'KNN_Classifier': {'Optuna': [], 'HyperOpt': []}}\n",
      "\n",
      "\n",
      "Batch 2\n",
      "('\\n'\n",
      " \"Space: {'loss': 'log_loss', 'n_estimators': 138, 'criterion': \"\n",
      " \"'squared_error', 'max_features': None}\")\n"
     ]
    },
    {
     "name": "stderr",
     "output_type": "stream",
     "text": [
      "[Parallel(n_jobs=-1)]: Done   3 out of   3 | elapsed:  2.1min finished\n",
      "[Parallel(n_jobs=-1)]: Using backend LokyBackend with 8 concurrent workers.\n"
     ]
    },
    {
     "name": "stdout",
     "output_type": "stream",
     "text": [
      "\n",
      "Accuracy of Grad_Boost: 0.9758006381916894\n",
      "\n",
      "Batchwise_accuracies: [0.979799718327643, 0.9758006381916894]\n",
      "\n",
      "Batchwise_Median_Accuracy: 0.9778001782596661\n",
      "\n",
      "Accumulated Accuracies:\n",
      "{'Logistic_Regression': {'Optuna': [0.46279279558254016, 0.4274040750073275, 0.37198526681218375, 0.4565850335335094, 0.40799655195011414, 0.43138215094076027, 0.41100531394321377, 0.37338486684415817, 0.4611895147981208, 0.412395672126079, 0.47438819559017364, 0.47601140036098427, 0.462385074005607, 0.4256062352955579, 0.43138215094076027, 0.41100531394321377, 0.37338486684415817, 0.4611895147981208, 0.412395672126079, 0.47438819559017364, 0.47601140036098427, 0.462385074005607, 0.4256062352955579], 'HyperOpt': []}, 'SGD_Classifier': {'Optuna': [0.5031919186390813, 0.45941519979317463, 0.5387783187660187, 0.4933956786073758, 0.4823880361982826, 0.54839596306429, 0.4728127603770962, 0.5334030432808996, 0.449612118392648, 0.4353850718451748, 0.572011047970478, 0.46422612236256233, 0.5265819585182604, 0.4288073957837484, 0.46379187547844575], 'HyperOpt': []}, 'Random Forest': {'Optuna': [0.9811991983356031, 0.9775999181916318, 0.9819993984396399, 0.9807997584156638, 0.9851998387837438, 0.9818009987438286, 0.9837987984635966, 0.9854000388397711, 0.9836002787437711, 0.9806006385757661, 0.9862001189197934, 0.9812001585277184, 0.9809988782555613, 0.9816005586397726, 0.981799318407627, 0.9841999187197374, 0.9838001187277551, 0.9792006784717486, 0.984199198575651, 0.983199998655731, 0.9824007587438096, 0.9807998784396782, 0.9828007987838207, 0.9807997584156638, 0.979799118207571, 0.9744010381597151, 0.9803987581835374, 0.9759993979595438, 0.9821997185196815, 0.9788006384317374, 0.9779989980395278], 'HyperOpt': []}, 'Ada_Boost': {'Optuna': [0.9841993185996655, 0.9847997987437326, 0.9863999589037776, 0.986799518847731, 0.9877996789597662, 0.9852004389038159, 0.9857997188077391, 0.9861999988957791, 0.9862003589678222, 0.9858003189278111, 0.9887998390718016, 0.985199598735715, 0.9835993185516557, 0.9843992786076639, 0.9863999589037776, 0.9863994788077198, 0.9879995189437504, 0.9860005189838383, 0.9855996387757262, 0.983999358591667, 0.9843995186556928, 0.9868001189678032, 0.9867993988237167, 0.9877995589357519, 0.98580055897584, 0.9857997188077391], 'HyperOpt': []}, 'Grad_Boost': {'Optuna': [0.979799718327643, 0.9758006381916894], 'HyperOpt': []}, 'Bagging_Classifier': {'Optuna': [], 'HyperOpt': []}, 'ExtraTreesClassifier': {'Optuna': [], 'HyperOpt': []}, 'Hist_Grad_Boost_Classifier': {'Optuna': [], 'HyperOpt': []}, 'Decision_Tree_Classifier': {'Optuna': [], 'HyperOpt': []}, 'XGB_Classifier': {'Optuna': [], 'HyperOpt': []}, 'KNN_Classifier': {'Optuna': [], 'HyperOpt': []}}\n",
      "\n",
      "\n",
      "Batch 3\n",
      "('\\n'\n",
      " \"Space: {'loss': 'log_loss', 'n_estimators': 138, 'criterion': \"\n",
      " \"'squared_error', 'max_features': None}\")\n"
     ]
    },
    {
     "name": "stderr",
     "output_type": "stream",
     "text": [
      "[Parallel(n_jobs=-1)]: Done   3 out of   3 | elapsed:  2.2min finished\n",
      "[Parallel(n_jobs=-1)]: Using backend LokyBackend with 8 concurrent workers.\n"
     ]
    },
    {
     "name": "stdout",
     "output_type": "stream",
     "text": [
      "\n",
      "Accuracy of Grad_Boost: 0.9817991983836126\n",
      "\n",
      "Batchwise_accuracies: [0.979799718327643, 0.9758006381916894, 0.9817991983836126]\n",
      "\n",
      "Batchwise_Median_Accuracy: 0.979799718327643\n",
      "\n",
      "Accumulated Accuracies:\n",
      "{'Logistic_Regression': {'Optuna': [0.46279279558254016, 0.4274040750073275, 0.37198526681218375, 0.4565850335335094, 0.40799655195011414, 0.43138215094076027, 0.41100531394321377, 0.37338486684415817, 0.4611895147981208, 0.412395672126079, 0.47438819559017364, 0.47601140036098427, 0.462385074005607, 0.4256062352955579, 0.43138215094076027, 0.41100531394321377, 0.37338486684415817, 0.4611895147981208, 0.412395672126079, 0.47438819559017364, 0.47601140036098427, 0.462385074005607, 0.4256062352955579], 'HyperOpt': []}, 'SGD_Classifier': {'Optuna': [0.5031919186390813, 0.45941519979317463, 0.5387783187660187, 0.4933956786073758, 0.4823880361982826, 0.54839596306429, 0.4728127603770962, 0.5334030432808996, 0.449612118392648, 0.4353850718451748, 0.572011047970478, 0.46422612236256233, 0.5265819585182604, 0.4288073957837484, 0.46379187547844575], 'HyperOpt': []}, 'Random Forest': {'Optuna': [0.9811991983356031, 0.9775999181916318, 0.9819993984396399, 0.9807997584156638, 0.9851998387837438, 0.9818009987438286, 0.9837987984635966, 0.9854000388397711, 0.9836002787437711, 0.9806006385757661, 0.9862001189197934, 0.9812001585277184, 0.9809988782555613, 0.9816005586397726, 0.981799318407627, 0.9841999187197374, 0.9838001187277551, 0.9792006784717486, 0.984199198575651, 0.983199998655731, 0.9824007587438096, 0.9807998784396782, 0.9828007987838207, 0.9807997584156638, 0.979799118207571, 0.9744010381597151, 0.9803987581835374, 0.9759993979595438, 0.9821997185196815, 0.9788006384317374, 0.9779989980395278], 'HyperOpt': []}, 'Ada_Boost': {'Optuna': [0.9841993185996655, 0.9847997987437326, 0.9863999589037776, 0.986799518847731, 0.9877996789597662, 0.9852004389038159, 0.9857997188077391, 0.9861999988957791, 0.9862003589678222, 0.9858003189278111, 0.9887998390718016, 0.985199598735715, 0.9835993185516557, 0.9843992786076639, 0.9863999589037776, 0.9863994788077198, 0.9879995189437504, 0.9860005189838383, 0.9855996387757262, 0.983999358591667, 0.9843995186556928, 0.9868001189678032, 0.9867993988237167, 0.9877995589357519, 0.98580055897584, 0.9857997188077391], 'HyperOpt': []}, 'Grad_Boost': {'Optuna': [0.979799718327643, 0.9758006381916894, 0.9817991983836126], 'HyperOpt': []}, 'Bagging_Classifier': {'Optuna': [], 'HyperOpt': []}, 'ExtraTreesClassifier': {'Optuna': [], 'HyperOpt': []}, 'Hist_Grad_Boost_Classifier': {'Optuna': [], 'HyperOpt': []}, 'Decision_Tree_Classifier': {'Optuna': [], 'HyperOpt': []}, 'XGB_Classifier': {'Optuna': [], 'HyperOpt': []}, 'KNN_Classifier': {'Optuna': [], 'HyperOpt': []}}\n",
      "\n",
      "\n",
      "Batch 4\n",
      "('\\n'\n",
      " \"Space: {'loss': 'log_loss', 'n_estimators': 138, 'criterion': \"\n",
      " \"'squared_error', 'max_features': None}\")\n"
     ]
    },
    {
     "name": "stderr",
     "output_type": "stream",
     "text": [
      "[Parallel(n_jobs=-1)]: Done   3 out of   3 | elapsed:  2.1min finished\n",
      "[Parallel(n_jobs=-1)]: Using backend LokyBackend with 8 concurrent workers.\n"
     ]
    },
    {
     "name": "stdout",
     "output_type": "stream",
     "text": [
      "\n",
      "Accuracy of Grad_Boost: 0.9821999585677101\n",
      "\n",
      "Batchwise_accuracies: [0.979799718327643, 0.9758006381916894, 0.9817991983836126, 0.9821999585677101]\n",
      "\n",
      "Batchwise_Median_Accuracy: 0.9807994583556279\n",
      "\n",
      "Accumulated Accuracies:\n",
      "{'Logistic_Regression': {'Optuna': [0.46279279558254016, 0.4274040750073275, 0.37198526681218375, 0.4565850335335094, 0.40799655195011414, 0.43138215094076027, 0.41100531394321377, 0.37338486684415817, 0.4611895147981208, 0.412395672126079, 0.47438819559017364, 0.47601140036098427, 0.462385074005607, 0.4256062352955579, 0.43138215094076027, 0.41100531394321377, 0.37338486684415817, 0.4611895147981208, 0.412395672126079, 0.47438819559017364, 0.47601140036098427, 0.462385074005607, 0.4256062352955579], 'HyperOpt': []}, 'SGD_Classifier': {'Optuna': [0.5031919186390813, 0.45941519979317463, 0.5387783187660187, 0.4933956786073758, 0.4823880361982826, 0.54839596306429, 0.4728127603770962, 0.5334030432808996, 0.449612118392648, 0.4353850718451748, 0.572011047970478, 0.46422612236256233, 0.5265819585182604, 0.4288073957837484, 0.46379187547844575], 'HyperOpt': []}, 'Random Forest': {'Optuna': [0.9811991983356031, 0.9775999181916318, 0.9819993984396399, 0.9807997584156638, 0.9851998387837438, 0.9818009987438286, 0.9837987984635966, 0.9854000388397711, 0.9836002787437711, 0.9806006385757661, 0.9862001189197934, 0.9812001585277184, 0.9809988782555613, 0.9816005586397726, 0.981799318407627, 0.9841999187197374, 0.9838001187277551, 0.9792006784717486, 0.984199198575651, 0.983199998655731, 0.9824007587438096, 0.9807998784396782, 0.9828007987838207, 0.9807997584156638, 0.979799118207571, 0.9744010381597151, 0.9803987581835374, 0.9759993979595438, 0.9821997185196815, 0.9788006384317374, 0.9779989980395278], 'HyperOpt': []}, 'Ada_Boost': {'Optuna': [0.9841993185996655, 0.9847997987437326, 0.9863999589037776, 0.986799518847731, 0.9877996789597662, 0.9852004389038159, 0.9857997188077391, 0.9861999988957791, 0.9862003589678222, 0.9858003189278111, 0.9887998390718016, 0.985199598735715, 0.9835993185516557, 0.9843992786076639, 0.9863999589037776, 0.9863994788077198, 0.9879995189437504, 0.9860005189838383, 0.9855996387757262, 0.983999358591667, 0.9843995186556928, 0.9868001189678032, 0.9867993988237167, 0.9877995589357519, 0.98580055897584, 0.9857997188077391], 'HyperOpt': []}, 'Grad_Boost': {'Optuna': [0.979799718327643, 0.9758006381916894, 0.9817991983836126, 0.9821999585677101], 'HyperOpt': []}, 'Bagging_Classifier': {'Optuna': [], 'HyperOpt': []}, 'ExtraTreesClassifier': {'Optuna': [], 'HyperOpt': []}, 'Hist_Grad_Boost_Classifier': {'Optuna': [], 'HyperOpt': []}, 'Decision_Tree_Classifier': {'Optuna': [], 'HyperOpt': []}, 'XGB_Classifier': {'Optuna': [], 'HyperOpt': []}, 'KNN_Classifier': {'Optuna': [], 'HyperOpt': []}}\n",
      "\n",
      "\n",
      "Batch 5\n",
      "('\\n'\n",
      " \"Space: {'loss': 'log_loss', 'n_estimators': 138, 'criterion': \"\n",
      " \"'squared_error', 'max_features': None}\")\n"
     ]
    },
    {
     "name": "stderr",
     "output_type": "stream",
     "text": [
      "[Parallel(n_jobs=-1)]: Done   3 out of   3 | elapsed:  2.1min finished\n",
      "[Parallel(n_jobs=-1)]: Using backend LokyBackend with 8 concurrent workers.\n"
     ]
    },
    {
     "name": "stdout",
     "output_type": "stream",
     "text": [
      "\n",
      "Accuracy of Grad_Boost: 0.9843991585836495\n",
      "\n",
      "Batchwise_accuracies: [0.979799718327643, 0.9758006381916894, 0.9817991983836126, 0.9821999585677101, 0.9843991585836495]\n",
      "\n",
      "Batchwise_Median_Accuracy: 0.9817991983836126\n",
      "\n",
      "Accumulated Accuracies:\n",
      "{'Logistic_Regression': {'Optuna': [0.46279279558254016, 0.4274040750073275, 0.37198526681218375, 0.4565850335335094, 0.40799655195011414, 0.43138215094076027, 0.41100531394321377, 0.37338486684415817, 0.4611895147981208, 0.412395672126079, 0.47438819559017364, 0.47601140036098427, 0.462385074005607, 0.4256062352955579, 0.43138215094076027, 0.41100531394321377, 0.37338486684415817, 0.4611895147981208, 0.412395672126079, 0.47438819559017364, 0.47601140036098427, 0.462385074005607, 0.4256062352955579], 'HyperOpt': []}, 'SGD_Classifier': {'Optuna': [0.5031919186390813, 0.45941519979317463, 0.5387783187660187, 0.4933956786073758, 0.4823880361982826, 0.54839596306429, 0.4728127603770962, 0.5334030432808996, 0.449612118392648, 0.4353850718451748, 0.572011047970478, 0.46422612236256233, 0.5265819585182604, 0.4288073957837484, 0.46379187547844575], 'HyperOpt': []}, 'Random Forest': {'Optuna': [0.9811991983356031, 0.9775999181916318, 0.9819993984396399, 0.9807997584156638, 0.9851998387837438, 0.9818009987438286, 0.9837987984635966, 0.9854000388397711, 0.9836002787437711, 0.9806006385757661, 0.9862001189197934, 0.9812001585277184, 0.9809988782555613, 0.9816005586397726, 0.981799318407627, 0.9841999187197374, 0.9838001187277551, 0.9792006784717486, 0.984199198575651, 0.983199998655731, 0.9824007587438096, 0.9807998784396782, 0.9828007987838207, 0.9807997584156638, 0.979799118207571, 0.9744010381597151, 0.9803987581835374, 0.9759993979595438, 0.9821997185196815, 0.9788006384317374, 0.9779989980395278], 'HyperOpt': []}, 'Ada_Boost': {'Optuna': [0.9841993185996655, 0.9847997987437326, 0.9863999589037776, 0.986799518847731, 0.9877996789597662, 0.9852004389038159, 0.9857997188077391, 0.9861999988957791, 0.9862003589678222, 0.9858003189278111, 0.9887998390718016, 0.985199598735715, 0.9835993185516557, 0.9843992786076639, 0.9863999589037776, 0.9863994788077198, 0.9879995189437504, 0.9860005189838383, 0.9855996387757262, 0.983999358591667, 0.9843995186556928, 0.9868001189678032, 0.9867993988237167, 0.9877995589357519, 0.98580055897584, 0.9857997188077391], 'HyperOpt': []}, 'Grad_Boost': {'Optuna': [0.979799718327643, 0.9758006381916894, 0.9817991983836126, 0.9821999585677101, 0.9843991585836495], 'HyperOpt': []}, 'Bagging_Classifier': {'Optuna': [], 'HyperOpt': []}, 'ExtraTreesClassifier': {'Optuna': [], 'HyperOpt': []}, 'Hist_Grad_Boost_Classifier': {'Optuna': [], 'HyperOpt': []}, 'Decision_Tree_Classifier': {'Optuna': [], 'HyperOpt': []}, 'XGB_Classifier': {'Optuna': [], 'HyperOpt': []}, 'KNN_Classifier': {'Optuna': [], 'HyperOpt': []}}\n",
      "\n",
      "\n",
      "Batch 6\n",
      "('\\n'\n",
      " \"Space: {'loss': 'log_loss', 'n_estimators': 138, 'criterion': \"\n",
      " \"'squared_error', 'max_features': None}\")\n"
     ]
    },
    {
     "name": "stderr",
     "output_type": "stream",
     "text": [
      "[Parallel(n_jobs=-1)]: Done   3 out of   3 | elapsed:  2.1min finished\n",
      "[Parallel(n_jobs=-1)]: Using backend LokyBackend with 8 concurrent workers.\n"
     ]
    },
    {
     "name": "stdout",
     "output_type": "stream",
     "text": [
      "\n",
      "Accuracy of Grad_Boost: 0.9796010785838031\n",
      "\n",
      "Batchwise_accuracies: [0.979799718327643, 0.9758006381916894, 0.9817991983836126, 0.9821999585677101, 0.9843991585836495, 0.9796010785838031]\n",
      "\n",
      "Batchwise_Median_Accuracy: 0.9807994583556279\n",
      "\n",
      "Accumulated Accuracies:\n",
      "{'Logistic_Regression': {'Optuna': [0.46279279558254016, 0.4274040750073275, 0.37198526681218375, 0.4565850335335094, 0.40799655195011414, 0.43138215094076027, 0.41100531394321377, 0.37338486684415817, 0.4611895147981208, 0.412395672126079, 0.47438819559017364, 0.47601140036098427, 0.462385074005607, 0.4256062352955579, 0.43138215094076027, 0.41100531394321377, 0.37338486684415817, 0.4611895147981208, 0.412395672126079, 0.47438819559017364, 0.47601140036098427, 0.462385074005607, 0.4256062352955579], 'HyperOpt': []}, 'SGD_Classifier': {'Optuna': [0.5031919186390813, 0.45941519979317463, 0.5387783187660187, 0.4933956786073758, 0.4823880361982826, 0.54839596306429, 0.4728127603770962, 0.5334030432808996, 0.449612118392648, 0.4353850718451748, 0.572011047970478, 0.46422612236256233, 0.5265819585182604, 0.4288073957837484, 0.46379187547844575], 'HyperOpt': []}, 'Random Forest': {'Optuna': [0.9811991983356031, 0.9775999181916318, 0.9819993984396399, 0.9807997584156638, 0.9851998387837438, 0.9818009987438286, 0.9837987984635966, 0.9854000388397711, 0.9836002787437711, 0.9806006385757661, 0.9862001189197934, 0.9812001585277184, 0.9809988782555613, 0.9816005586397726, 0.981799318407627, 0.9841999187197374, 0.9838001187277551, 0.9792006784717486, 0.984199198575651, 0.983199998655731, 0.9824007587438096, 0.9807998784396782, 0.9828007987838207, 0.9807997584156638, 0.979799118207571, 0.9744010381597151, 0.9803987581835374, 0.9759993979595438, 0.9821997185196815, 0.9788006384317374, 0.9779989980395278], 'HyperOpt': []}, 'Ada_Boost': {'Optuna': [0.9841993185996655, 0.9847997987437326, 0.9863999589037776, 0.986799518847731, 0.9877996789597662, 0.9852004389038159, 0.9857997188077391, 0.9861999988957791, 0.9862003589678222, 0.9858003189278111, 0.9887998390718016, 0.985199598735715, 0.9835993185516557, 0.9843992786076639, 0.9863999589037776, 0.9863994788077198, 0.9879995189437504, 0.9860005189838383, 0.9855996387757262, 0.983999358591667, 0.9843995186556928, 0.9868001189678032, 0.9867993988237167, 0.9877995589357519, 0.98580055897584, 0.9857997188077391], 'HyperOpt': []}, 'Grad_Boost': {'Optuna': [0.979799718327643, 0.9758006381916894, 0.9817991983836126, 0.9821999585677101, 0.9843991585836495, 0.9796010785838031], 'HyperOpt': []}, 'Bagging_Classifier': {'Optuna': [], 'HyperOpt': []}, 'ExtraTreesClassifier': {'Optuna': [], 'HyperOpt': []}, 'Hist_Grad_Boost_Classifier': {'Optuna': [], 'HyperOpt': []}, 'Decision_Tree_Classifier': {'Optuna': [], 'HyperOpt': []}, 'XGB_Classifier': {'Optuna': [], 'HyperOpt': []}, 'KNN_Classifier': {'Optuna': [], 'HyperOpt': []}}\n",
      "\n",
      "\n",
      "Batch 7\n",
      "('\\n'\n",
      " \"Space: {'loss': 'log_loss', 'n_estimators': 138, 'criterion': \"\n",
      " \"'squared_error', 'max_features': None}\")\n"
     ]
    },
    {
     "name": "stderr",
     "output_type": "stream",
     "text": [
      "[Parallel(n_jobs=-1)]: Done   3 out of   3 | elapsed:  2.1min finished\n",
      "[Parallel(n_jobs=-1)]: Using backend LokyBackend with 8 concurrent workers.\n"
     ]
    },
    {
     "name": "stdout",
     "output_type": "stream",
     "text": [
      "\n",
      "Accuracy of Grad_Boost: 0.9825985583195486\n",
      "\n",
      "Batchwise_accuracies: [0.979799718327643, 0.9758006381916894, 0.9817991983836126, 0.9821999585677101, 0.9843991585836495, 0.9796010785838031, 0.9825985583195486]\n",
      "\n",
      "Batchwise_Median_Accuracy: 0.9817991983836126\n",
      "\n",
      "Accumulated Accuracies:\n",
      "{'Logistic_Regression': {'Optuna': [0.46279279558254016, 0.4274040750073275, 0.37198526681218375, 0.4565850335335094, 0.40799655195011414, 0.43138215094076027, 0.41100531394321377, 0.37338486684415817, 0.4611895147981208, 0.412395672126079, 0.47438819559017364, 0.47601140036098427, 0.462385074005607, 0.4256062352955579, 0.43138215094076027, 0.41100531394321377, 0.37338486684415817, 0.4611895147981208, 0.412395672126079, 0.47438819559017364, 0.47601140036098427, 0.462385074005607, 0.4256062352955579], 'HyperOpt': []}, 'SGD_Classifier': {'Optuna': [0.5031919186390813, 0.45941519979317463, 0.5387783187660187, 0.4933956786073758, 0.4823880361982826, 0.54839596306429, 0.4728127603770962, 0.5334030432808996, 0.449612118392648, 0.4353850718451748, 0.572011047970478, 0.46422612236256233, 0.5265819585182604, 0.4288073957837484, 0.46379187547844575], 'HyperOpt': []}, 'Random Forest': {'Optuna': [0.9811991983356031, 0.9775999181916318, 0.9819993984396399, 0.9807997584156638, 0.9851998387837438, 0.9818009987438286, 0.9837987984635966, 0.9854000388397711, 0.9836002787437711, 0.9806006385757661, 0.9862001189197934, 0.9812001585277184, 0.9809988782555613, 0.9816005586397726, 0.981799318407627, 0.9841999187197374, 0.9838001187277551, 0.9792006784717486, 0.984199198575651, 0.983199998655731, 0.9824007587438096, 0.9807998784396782, 0.9828007987838207, 0.9807997584156638, 0.979799118207571, 0.9744010381597151, 0.9803987581835374, 0.9759993979595438, 0.9821997185196815, 0.9788006384317374, 0.9779989980395278], 'HyperOpt': []}, 'Ada_Boost': {'Optuna': [0.9841993185996655, 0.9847997987437326, 0.9863999589037776, 0.986799518847731, 0.9877996789597662, 0.9852004389038159, 0.9857997188077391, 0.9861999988957791, 0.9862003589678222, 0.9858003189278111, 0.9887998390718016, 0.985199598735715, 0.9835993185516557, 0.9843992786076639, 0.9863999589037776, 0.9863994788077198, 0.9879995189437504, 0.9860005189838383, 0.9855996387757262, 0.983999358591667, 0.9843995186556928, 0.9868001189678032, 0.9867993988237167, 0.9877995589357519, 0.98580055897584, 0.9857997188077391], 'HyperOpt': []}, 'Grad_Boost': {'Optuna': [0.979799718327643, 0.9758006381916894, 0.9817991983836126, 0.9821999585677101, 0.9843991585836495, 0.9796010785838031, 0.9825985583195486], 'HyperOpt': []}, 'Bagging_Classifier': {'Optuna': [], 'HyperOpt': []}, 'ExtraTreesClassifier': {'Optuna': [], 'HyperOpt': []}, 'Hist_Grad_Boost_Classifier': {'Optuna': [], 'HyperOpt': []}, 'Decision_Tree_Classifier': {'Optuna': [], 'HyperOpt': []}, 'XGB_Classifier': {'Optuna': [], 'HyperOpt': []}, 'KNN_Classifier': {'Optuna': [], 'HyperOpt': []}}\n",
      "\n",
      "\n",
      "Batch 8\n",
      "('\\n'\n",
      " \"Space: {'loss': 'log_loss', 'n_estimators': 138, 'criterion': \"\n",
      " \"'squared_error', 'max_features': None}\")\n"
     ]
    },
    {
     "name": "stderr",
     "output_type": "stream",
     "text": [
      "[Parallel(n_jobs=-1)]: Done   3 out of   3 | elapsed:  2.1min finished\n",
      "[Parallel(n_jobs=-1)]: Using backend LokyBackend with 8 concurrent workers.\n"
     ]
    },
    {
     "name": "stdout",
     "output_type": "stream",
     "text": [
      "\n",
      "Accuracy of Grad_Boost: 0.9823999185757085\n",
      "\n",
      "Batchwise_accuracies: [0.979799718327643, 0.9758006381916894, 0.9817991983836126, 0.9821999585677101, 0.9843991585836495, 0.9796010785838031, 0.9825985583195486, 0.9823999185757085]\n",
      "\n",
      "Batchwise_Median_Accuracy: 0.9819995784756614\n",
      "\n",
      "Accumulated Accuracies:\n",
      "{'Logistic_Regression': {'Optuna': [0.46279279558254016, 0.4274040750073275, 0.37198526681218375, 0.4565850335335094, 0.40799655195011414, 0.43138215094076027, 0.41100531394321377, 0.37338486684415817, 0.4611895147981208, 0.412395672126079, 0.47438819559017364, 0.47601140036098427, 0.462385074005607, 0.4256062352955579, 0.43138215094076027, 0.41100531394321377, 0.37338486684415817, 0.4611895147981208, 0.412395672126079, 0.47438819559017364, 0.47601140036098427, 0.462385074005607, 0.4256062352955579], 'HyperOpt': []}, 'SGD_Classifier': {'Optuna': [0.5031919186390813, 0.45941519979317463, 0.5387783187660187, 0.4933956786073758, 0.4823880361982826, 0.54839596306429, 0.4728127603770962, 0.5334030432808996, 0.449612118392648, 0.4353850718451748, 0.572011047970478, 0.46422612236256233, 0.5265819585182604, 0.4288073957837484, 0.46379187547844575], 'HyperOpt': []}, 'Random Forest': {'Optuna': [0.9811991983356031, 0.9775999181916318, 0.9819993984396399, 0.9807997584156638, 0.9851998387837438, 0.9818009987438286, 0.9837987984635966, 0.9854000388397711, 0.9836002787437711, 0.9806006385757661, 0.9862001189197934, 0.9812001585277184, 0.9809988782555613, 0.9816005586397726, 0.981799318407627, 0.9841999187197374, 0.9838001187277551, 0.9792006784717486, 0.984199198575651, 0.983199998655731, 0.9824007587438096, 0.9807998784396782, 0.9828007987838207, 0.9807997584156638, 0.979799118207571, 0.9744010381597151, 0.9803987581835374, 0.9759993979595438, 0.9821997185196815, 0.9788006384317374, 0.9779989980395278], 'HyperOpt': []}, 'Ada_Boost': {'Optuna': [0.9841993185996655, 0.9847997987437326, 0.9863999589037776, 0.986799518847731, 0.9877996789597662, 0.9852004389038159, 0.9857997188077391, 0.9861999988957791, 0.9862003589678222, 0.9858003189278111, 0.9887998390718016, 0.985199598735715, 0.9835993185516557, 0.9843992786076639, 0.9863999589037776, 0.9863994788077198, 0.9879995189437504, 0.9860005189838383, 0.9855996387757262, 0.983999358591667, 0.9843995186556928, 0.9868001189678032, 0.9867993988237167, 0.9877995589357519, 0.98580055897584, 0.9857997188077391], 'HyperOpt': []}, 'Grad_Boost': {'Optuna': [0.979799718327643, 0.9758006381916894, 0.9817991983836126, 0.9821999585677101, 0.9843991585836495, 0.9796010785838031, 0.9825985583195486, 0.9823999185757085], 'HyperOpt': []}, 'Bagging_Classifier': {'Optuna': [], 'HyperOpt': []}, 'ExtraTreesClassifier': {'Optuna': [], 'HyperOpt': []}, 'Hist_Grad_Boost_Classifier': {'Optuna': [], 'HyperOpt': []}, 'Decision_Tree_Classifier': {'Optuna': [], 'HyperOpt': []}, 'XGB_Classifier': {'Optuna': [], 'HyperOpt': []}, 'KNN_Classifier': {'Optuna': [], 'HyperOpt': []}}\n",
      "\n",
      "\n",
      "Batch 9\n",
      "('\\n'\n",
      " \"Space: {'loss': 'log_loss', 'n_estimators': 138, 'criterion': \"\n",
      " \"'squared_error', 'max_features': None}\")\n"
     ]
    },
    {
     "name": "stderr",
     "output_type": "stream",
     "text": [
      "[Parallel(n_jobs=-1)]: Done   3 out of   3 | elapsed:  2.1min finished\n",
      "[I 2024-01-28 21:51:39,934] Trial 0 pruned. \n",
      "[Parallel(n_jobs=-1)]: Using backend LokyBackend with 8 concurrent workers.\n"
     ]
    },
    {
     "name": "stdout",
     "output_type": "stream",
     "text": [
      "\n",
      "Accuracy of Grad_Boost: 0.9796008385357743\n",
      "\n",
      "Batchwise_accuracies: [0.979799718327643, 0.9758006381916894, 0.9817991983836126, 0.9821999585677101, 0.9843991585836495, 0.9796010785838031, 0.9825985583195486, 0.9823999185757085, 0.9796008385357743]\n",
      "\n",
      "Batchwise_Median_Accuracy: 0.9817991983836126\n",
      "\n",
      "Accumulated Accuracies:\n",
      "{'Logistic_Regression': {'Optuna': [0.46279279558254016, 0.4274040750073275, 0.37198526681218375, 0.4565850335335094, 0.40799655195011414, 0.43138215094076027, 0.41100531394321377, 0.37338486684415817, 0.4611895147981208, 0.412395672126079, 0.47438819559017364, 0.47601140036098427, 0.462385074005607, 0.4256062352955579, 0.43138215094076027, 0.41100531394321377, 0.37338486684415817, 0.4611895147981208, 0.412395672126079, 0.47438819559017364, 0.47601140036098427, 0.462385074005607, 0.4256062352955579], 'HyperOpt': []}, 'SGD_Classifier': {'Optuna': [0.5031919186390813, 0.45941519979317463, 0.5387783187660187, 0.4933956786073758, 0.4823880361982826, 0.54839596306429, 0.4728127603770962, 0.5334030432808996, 0.449612118392648, 0.4353850718451748, 0.572011047970478, 0.46422612236256233, 0.5265819585182604, 0.4288073957837484, 0.46379187547844575], 'HyperOpt': []}, 'Random Forest': {'Optuna': [0.9811991983356031, 0.9775999181916318, 0.9819993984396399, 0.9807997584156638, 0.9851998387837438, 0.9818009987438286, 0.9837987984635966, 0.9854000388397711, 0.9836002787437711, 0.9806006385757661, 0.9862001189197934, 0.9812001585277184, 0.9809988782555613, 0.9816005586397726, 0.981799318407627, 0.9841999187197374, 0.9838001187277551, 0.9792006784717486, 0.984199198575651, 0.983199998655731, 0.9824007587438096, 0.9807998784396782, 0.9828007987838207, 0.9807997584156638, 0.979799118207571, 0.9744010381597151, 0.9803987581835374, 0.9759993979595438, 0.9821997185196815, 0.9788006384317374, 0.9779989980395278], 'HyperOpt': []}, 'Ada_Boost': {'Optuna': [0.9841993185996655, 0.9847997987437326, 0.9863999589037776, 0.986799518847731, 0.9877996789597662, 0.9852004389038159, 0.9857997188077391, 0.9861999988957791, 0.9862003589678222, 0.9858003189278111, 0.9887998390718016, 0.985199598735715, 0.9835993185516557, 0.9843992786076639, 0.9863999589037776, 0.9863994788077198, 0.9879995189437504, 0.9860005189838383, 0.9855996387757262, 0.983999358591667, 0.9843995186556928, 0.9868001189678032, 0.9867993988237167, 0.9877995589357519, 0.98580055897584, 0.9857997188077391], 'HyperOpt': []}, 'Grad_Boost': {'Optuna': [0.979799718327643, 0.9758006381916894, 0.9817991983836126, 0.9821999585677101, 0.9843991585836495, 0.9796010785838031, 0.9825985583195486, 0.9823999185757085, 0.9796008385357743], 'HyperOpt': []}, 'Bagging_Classifier': {'Optuna': [], 'HyperOpt': []}, 'ExtraTreesClassifier': {'Optuna': [], 'HyperOpt': []}, 'Hist_Grad_Boost_Classifier': {'Optuna': [], 'HyperOpt': []}, 'Decision_Tree_Classifier': {'Optuna': [], 'HyperOpt': []}, 'XGB_Classifier': {'Optuna': [], 'HyperOpt': []}, 'KNN_Classifier': {'Optuna': [], 'HyperOpt': []}}\n",
      "\n",
      "\n",
      "**************\n",
      "Trial_Number: 1\n",
      "**************\n",
      "\n",
      "Batch 1\n",
      "('\\n'\n",
      " \"Space: {'loss': 'exponential', 'n_estimators': 125, 'criterion': \"\n",
      " \"'friedman_mse', 'max_features': 'log2'}\")\n"
     ]
    },
    {
     "name": "stderr",
     "output_type": "stream",
     "text": [
      "[Parallel(n_jobs=-1)]: Done   3 out of   3 | elapsed:   14.8s finished\n",
      "[Parallel(n_jobs=-1)]: Using backend LokyBackend with 8 concurrent workers.\n"
     ]
    },
    {
     "name": "stdout",
     "output_type": "stream",
     "text": [
      "\n",
      "Accuracy of Grad_Boost: 0.9739996778555454\n",
      "\n",
      "Batchwise_accuracies: [0.9739996778555454]\n",
      "\n",
      "Batchwise_Median_Accuracy: 0.9739996778555454\n",
      "\n",
      "Accumulated Accuracies:\n",
      "{'Logistic_Regression': {'Optuna': [0.46279279558254016, 0.4274040750073275, 0.37198526681218375, 0.4565850335335094, 0.40799655195011414, 0.43138215094076027, 0.41100531394321377, 0.37338486684415817, 0.4611895147981208, 0.412395672126079, 0.47438819559017364, 0.47601140036098427, 0.462385074005607, 0.4256062352955579, 0.43138215094076027, 0.41100531394321377, 0.37338486684415817, 0.4611895147981208, 0.412395672126079, 0.47438819559017364, 0.47601140036098427, 0.462385074005607, 0.4256062352955579], 'HyperOpt': []}, 'SGD_Classifier': {'Optuna': [0.5031919186390813, 0.45941519979317463, 0.5387783187660187, 0.4933956786073758, 0.4823880361982826, 0.54839596306429, 0.4728127603770962, 0.5334030432808996, 0.449612118392648, 0.4353850718451748, 0.572011047970478, 0.46422612236256233, 0.5265819585182604, 0.4288073957837484, 0.46379187547844575], 'HyperOpt': []}, 'Random Forest': {'Optuna': [0.9811991983356031, 0.9775999181916318, 0.9819993984396399, 0.9807997584156638, 0.9851998387837438, 0.9818009987438286, 0.9837987984635966, 0.9854000388397711, 0.9836002787437711, 0.9806006385757661, 0.9862001189197934, 0.9812001585277184, 0.9809988782555613, 0.9816005586397726, 0.981799318407627, 0.9841999187197374, 0.9838001187277551, 0.9792006784717486, 0.984199198575651, 0.983199998655731, 0.9824007587438096, 0.9807998784396782, 0.9828007987838207, 0.9807997584156638, 0.979799118207571, 0.9744010381597151, 0.9803987581835374, 0.9759993979595438, 0.9821997185196815, 0.9788006384317374, 0.9779989980395278], 'HyperOpt': []}, 'Ada_Boost': {'Optuna': [0.9841993185996655, 0.9847997987437326, 0.9863999589037776, 0.986799518847731, 0.9877996789597662, 0.9852004389038159, 0.9857997188077391, 0.9861999988957791, 0.9862003589678222, 0.9858003189278111, 0.9887998390718016, 0.985199598735715, 0.9835993185516557, 0.9843992786076639, 0.9863999589037776, 0.9863994788077198, 0.9879995189437504, 0.9860005189838383, 0.9855996387757262, 0.983999358591667, 0.9843995186556928, 0.9868001189678032, 0.9867993988237167, 0.9877995589357519, 0.98580055897584, 0.9857997188077391], 'HyperOpt': []}, 'Grad_Boost': {'Optuna': [0.979799718327643, 0.9758006381916894, 0.9817991983836126, 0.9821999585677101, 0.9843991585836495, 0.9796010785838031, 0.9825985583195486, 0.9823999185757085, 0.9796008385357743, 0.9739996778555454], 'HyperOpt': []}, 'Bagging_Classifier': {'Optuna': [], 'HyperOpt': []}, 'ExtraTreesClassifier': {'Optuna': [], 'HyperOpt': []}, 'Hist_Grad_Boost_Classifier': {'Optuna': [], 'HyperOpt': []}, 'Decision_Tree_Classifier': {'Optuna': [], 'HyperOpt': []}, 'XGB_Classifier': {'Optuna': [], 'HyperOpt': []}, 'KNN_Classifier': {'Optuna': [], 'HyperOpt': []}}\n",
      "\n",
      "\n",
      "Batch 2\n",
      "('\\n'\n",
      " \"Space: {'loss': 'exponential', 'n_estimators': 125, 'criterion': \"\n",
      " \"'friedman_mse', 'max_features': 'log2'}\")\n"
     ]
    },
    {
     "name": "stderr",
     "output_type": "stream",
     "text": [
      "[Parallel(n_jobs=-1)]: Done   3 out of   3 | elapsed:   14.7s finished\n",
      "[Parallel(n_jobs=-1)]: Using backend LokyBackend with 8 concurrent workers.\n"
     ]
    },
    {
     "name": "stdout",
     "output_type": "stream",
     "text": [
      "\n",
      "Accuracy of Grad_Boost: 0.9712004777915965\n",
      "\n",
      "Batchwise_accuracies: [0.9739996778555454, 0.9712004777915965]\n",
      "\n",
      "Batchwise_Median_Accuracy: 0.9726000778235709\n",
      "\n",
      "Accumulated Accuracies:\n",
      "{'Logistic_Regression': {'Optuna': [0.46279279558254016, 0.4274040750073275, 0.37198526681218375, 0.4565850335335094, 0.40799655195011414, 0.43138215094076027, 0.41100531394321377, 0.37338486684415817, 0.4611895147981208, 0.412395672126079, 0.47438819559017364, 0.47601140036098427, 0.462385074005607, 0.4256062352955579, 0.43138215094076027, 0.41100531394321377, 0.37338486684415817, 0.4611895147981208, 0.412395672126079, 0.47438819559017364, 0.47601140036098427, 0.462385074005607, 0.4256062352955579], 'HyperOpt': []}, 'SGD_Classifier': {'Optuna': [0.5031919186390813, 0.45941519979317463, 0.5387783187660187, 0.4933956786073758, 0.4823880361982826, 0.54839596306429, 0.4728127603770962, 0.5334030432808996, 0.449612118392648, 0.4353850718451748, 0.572011047970478, 0.46422612236256233, 0.5265819585182604, 0.4288073957837484, 0.46379187547844575], 'HyperOpt': []}, 'Random Forest': {'Optuna': [0.9811991983356031, 0.9775999181916318, 0.9819993984396399, 0.9807997584156638, 0.9851998387837438, 0.9818009987438286, 0.9837987984635966, 0.9854000388397711, 0.9836002787437711, 0.9806006385757661, 0.9862001189197934, 0.9812001585277184, 0.9809988782555613, 0.9816005586397726, 0.981799318407627, 0.9841999187197374, 0.9838001187277551, 0.9792006784717486, 0.984199198575651, 0.983199998655731, 0.9824007587438096, 0.9807998784396782, 0.9828007987838207, 0.9807997584156638, 0.979799118207571, 0.9744010381597151, 0.9803987581835374, 0.9759993979595438, 0.9821997185196815, 0.9788006384317374, 0.9779989980395278], 'HyperOpt': []}, 'Ada_Boost': {'Optuna': [0.9841993185996655, 0.9847997987437326, 0.9863999589037776, 0.986799518847731, 0.9877996789597662, 0.9852004389038159, 0.9857997188077391, 0.9861999988957791, 0.9862003589678222, 0.9858003189278111, 0.9887998390718016, 0.985199598735715, 0.9835993185516557, 0.9843992786076639, 0.9863999589037776, 0.9863994788077198, 0.9879995189437504, 0.9860005189838383, 0.9855996387757262, 0.983999358591667, 0.9843995186556928, 0.9868001189678032, 0.9867993988237167, 0.9877995589357519, 0.98580055897584, 0.9857997188077391], 'HyperOpt': []}, 'Grad_Boost': {'Optuna': [0.979799718327643, 0.9758006381916894, 0.9817991983836126, 0.9821999585677101, 0.9843991585836495, 0.9796010785838031, 0.9825985583195486, 0.9823999185757085, 0.9796008385357743, 0.9739996778555454, 0.9712004777915965], 'HyperOpt': []}, 'Bagging_Classifier': {'Optuna': [], 'HyperOpt': []}, 'ExtraTreesClassifier': {'Optuna': [], 'HyperOpt': []}, 'Hist_Grad_Boost_Classifier': {'Optuna': [], 'HyperOpt': []}, 'Decision_Tree_Classifier': {'Optuna': [], 'HyperOpt': []}, 'XGB_Classifier': {'Optuna': [], 'HyperOpt': []}, 'KNN_Classifier': {'Optuna': [], 'HyperOpt': []}}\n",
      "\n",
      "\n",
      "Batch 3\n",
      "('\\n'\n",
      " \"Space: {'loss': 'exponential', 'n_estimators': 125, 'criterion': \"\n",
      " \"'friedman_mse', 'max_features': 'log2'}\")\n"
     ]
    },
    {
     "name": "stderr",
     "output_type": "stream",
     "text": [
      "[Parallel(n_jobs=-1)]: Done   3 out of   3 | elapsed:   14.4s finished\n",
      "[Parallel(n_jobs=-1)]: Using backend LokyBackend with 8 concurrent workers.\n"
     ]
    },
    {
     "name": "stdout",
     "output_type": "stream",
     "text": [
      "\n",
      "Accuracy of Grad_Boost: 0.9755993579195326\n",
      "\n",
      "Batchwise_accuracies: [0.9739996778555454, 0.9712004777915965, 0.9755993579195326]\n",
      "\n",
      "Batchwise_Median_Accuracy: 0.9739996778555454\n",
      "\n",
      "Accumulated Accuracies:\n",
      "{'Logistic_Regression': {'Optuna': [0.46279279558254016, 0.4274040750073275, 0.37198526681218375, 0.4565850335335094, 0.40799655195011414, 0.43138215094076027, 0.41100531394321377, 0.37338486684415817, 0.4611895147981208, 0.412395672126079, 0.47438819559017364, 0.47601140036098427, 0.462385074005607, 0.4256062352955579, 0.43138215094076027, 0.41100531394321377, 0.37338486684415817, 0.4611895147981208, 0.412395672126079, 0.47438819559017364, 0.47601140036098427, 0.462385074005607, 0.4256062352955579], 'HyperOpt': []}, 'SGD_Classifier': {'Optuna': [0.5031919186390813, 0.45941519979317463, 0.5387783187660187, 0.4933956786073758, 0.4823880361982826, 0.54839596306429, 0.4728127603770962, 0.5334030432808996, 0.449612118392648, 0.4353850718451748, 0.572011047970478, 0.46422612236256233, 0.5265819585182604, 0.4288073957837484, 0.46379187547844575], 'HyperOpt': []}, 'Random Forest': {'Optuna': [0.9811991983356031, 0.9775999181916318, 0.9819993984396399, 0.9807997584156638, 0.9851998387837438, 0.9818009987438286, 0.9837987984635966, 0.9854000388397711, 0.9836002787437711, 0.9806006385757661, 0.9862001189197934, 0.9812001585277184, 0.9809988782555613, 0.9816005586397726, 0.981799318407627, 0.9841999187197374, 0.9838001187277551, 0.9792006784717486, 0.984199198575651, 0.983199998655731, 0.9824007587438096, 0.9807998784396782, 0.9828007987838207, 0.9807997584156638, 0.979799118207571, 0.9744010381597151, 0.9803987581835374, 0.9759993979595438, 0.9821997185196815, 0.9788006384317374, 0.9779989980395278], 'HyperOpt': []}, 'Ada_Boost': {'Optuna': [0.9841993185996655, 0.9847997987437326, 0.9863999589037776, 0.986799518847731, 0.9877996789597662, 0.9852004389038159, 0.9857997188077391, 0.9861999988957791, 0.9862003589678222, 0.9858003189278111, 0.9887998390718016, 0.985199598735715, 0.9835993185516557, 0.9843992786076639, 0.9863999589037776, 0.9863994788077198, 0.9879995189437504, 0.9860005189838383, 0.9855996387757262, 0.983999358591667, 0.9843995186556928, 0.9868001189678032, 0.9867993988237167, 0.9877995589357519, 0.98580055897584, 0.9857997188077391], 'HyperOpt': []}, 'Grad_Boost': {'Optuna': [0.979799718327643, 0.9758006381916894, 0.9817991983836126, 0.9821999585677101, 0.9843991585836495, 0.9796010785838031, 0.9825985583195486, 0.9823999185757085, 0.9796008385357743, 0.9739996778555454, 0.9712004777915965, 0.9755993579195326], 'HyperOpt': []}, 'Bagging_Classifier': {'Optuna': [], 'HyperOpt': []}, 'ExtraTreesClassifier': {'Optuna': [], 'HyperOpt': []}, 'Hist_Grad_Boost_Classifier': {'Optuna': [], 'HyperOpt': []}, 'Decision_Tree_Classifier': {'Optuna': [], 'HyperOpt': []}, 'XGB_Classifier': {'Optuna': [], 'HyperOpt': []}, 'KNN_Classifier': {'Optuna': [], 'HyperOpt': []}}\n",
      "\n",
      "\n",
      "Batch 4\n",
      "('\\n'\n",
      " \"Space: {'loss': 'exponential', 'n_estimators': 125, 'criterion': \"\n",
      " \"'friedman_mse', 'max_features': 'log2'}\")\n"
     ]
    },
    {
     "name": "stderr",
     "output_type": "stream",
     "text": [
      "[Parallel(n_jobs=-1)]: Done   3 out of   3 | elapsed:   14.6s finished\n",
      "[Parallel(n_jobs=-1)]: Using backend LokyBackend with 8 concurrent workers.\n"
     ]
    },
    {
     "name": "stdout",
     "output_type": "stream",
     "text": [
      "\n",
      "Accuracy of Grad_Boost: 0.9751999179995933\n",
      "\n",
      "Batchwise_accuracies: [0.9739996778555454, 0.9712004777915965, 0.9755993579195326, 0.9751999179995933]\n",
      "\n",
      "Batchwise_Median_Accuracy: 0.9745997979275693\n",
      "\n",
      "Accumulated Accuracies:\n",
      "{'Logistic_Regression': {'Optuna': [0.46279279558254016, 0.4274040750073275, 0.37198526681218375, 0.4565850335335094, 0.40799655195011414, 0.43138215094076027, 0.41100531394321377, 0.37338486684415817, 0.4611895147981208, 0.412395672126079, 0.47438819559017364, 0.47601140036098427, 0.462385074005607, 0.4256062352955579, 0.43138215094076027, 0.41100531394321377, 0.37338486684415817, 0.4611895147981208, 0.412395672126079, 0.47438819559017364, 0.47601140036098427, 0.462385074005607, 0.4256062352955579], 'HyperOpt': []}, 'SGD_Classifier': {'Optuna': [0.5031919186390813, 0.45941519979317463, 0.5387783187660187, 0.4933956786073758, 0.4823880361982826, 0.54839596306429, 0.4728127603770962, 0.5334030432808996, 0.449612118392648, 0.4353850718451748, 0.572011047970478, 0.46422612236256233, 0.5265819585182604, 0.4288073957837484, 0.46379187547844575], 'HyperOpt': []}, 'Random Forest': {'Optuna': [0.9811991983356031, 0.9775999181916318, 0.9819993984396399, 0.9807997584156638, 0.9851998387837438, 0.9818009987438286, 0.9837987984635966, 0.9854000388397711, 0.9836002787437711, 0.9806006385757661, 0.9862001189197934, 0.9812001585277184, 0.9809988782555613, 0.9816005586397726, 0.981799318407627, 0.9841999187197374, 0.9838001187277551, 0.9792006784717486, 0.984199198575651, 0.983199998655731, 0.9824007587438096, 0.9807998784396782, 0.9828007987838207, 0.9807997584156638, 0.979799118207571, 0.9744010381597151, 0.9803987581835374, 0.9759993979595438, 0.9821997185196815, 0.9788006384317374, 0.9779989980395278], 'HyperOpt': []}, 'Ada_Boost': {'Optuna': [0.9841993185996655, 0.9847997987437326, 0.9863999589037776, 0.986799518847731, 0.9877996789597662, 0.9852004389038159, 0.9857997188077391, 0.9861999988957791, 0.9862003589678222, 0.9858003189278111, 0.9887998390718016, 0.985199598735715, 0.9835993185516557, 0.9843992786076639, 0.9863999589037776, 0.9863994788077198, 0.9879995189437504, 0.9860005189838383, 0.9855996387757262, 0.983999358591667, 0.9843995186556928, 0.9868001189678032, 0.9867993988237167, 0.9877995589357519, 0.98580055897584, 0.9857997188077391], 'HyperOpt': []}, 'Grad_Boost': {'Optuna': [0.979799718327643, 0.9758006381916894, 0.9817991983836126, 0.9821999585677101, 0.9843991585836495, 0.9796010785838031, 0.9825985583195486, 0.9823999185757085, 0.9796008385357743, 0.9739996778555454, 0.9712004777915965, 0.9755993579195326, 0.9751999179995933], 'HyperOpt': []}, 'Bagging_Classifier': {'Optuna': [], 'HyperOpt': []}, 'ExtraTreesClassifier': {'Optuna': [], 'HyperOpt': []}, 'Hist_Grad_Boost_Classifier': {'Optuna': [], 'HyperOpt': []}, 'Decision_Tree_Classifier': {'Optuna': [], 'HyperOpt': []}, 'XGB_Classifier': {'Optuna': [], 'HyperOpt': []}, 'KNN_Classifier': {'Optuna': [], 'HyperOpt': []}}\n",
      "\n",
      "\n",
      "Batch 5\n",
      "('\\n'\n",
      " \"Space: {'loss': 'exponential', 'n_estimators': 125, 'criterion': \"\n",
      " \"'friedman_mse', 'max_features': 'log2'}\")\n"
     ]
    },
    {
     "name": "stderr",
     "output_type": "stream",
     "text": [
      "[Parallel(n_jobs=-1)]: Done   3 out of   3 | elapsed:   14.5s finished\n",
      "[Parallel(n_jobs=-1)]: Using backend LokyBackend with 8 concurrent workers.\n"
     ]
    },
    {
     "name": "stdout",
     "output_type": "stream",
     "text": [
      "\n",
      "Accuracy of Grad_Boost: 0.9790004784157215\n",
      "\n",
      "Batchwise_accuracies: [0.9739996778555454, 0.9712004777915965, 0.9755993579195326, 0.9751999179995933, 0.9790004784157215]\n",
      "\n",
      "Batchwise_Median_Accuracy: 0.9751999179995933\n",
      "\n",
      "Accumulated Accuracies:\n",
      "{'Logistic_Regression': {'Optuna': [0.46279279558254016, 0.4274040750073275, 0.37198526681218375, 0.4565850335335094, 0.40799655195011414, 0.43138215094076027, 0.41100531394321377, 0.37338486684415817, 0.4611895147981208, 0.412395672126079, 0.47438819559017364, 0.47601140036098427, 0.462385074005607, 0.4256062352955579, 0.43138215094076027, 0.41100531394321377, 0.37338486684415817, 0.4611895147981208, 0.412395672126079, 0.47438819559017364, 0.47601140036098427, 0.462385074005607, 0.4256062352955579], 'HyperOpt': []}, 'SGD_Classifier': {'Optuna': [0.5031919186390813, 0.45941519979317463, 0.5387783187660187, 0.4933956786073758, 0.4823880361982826, 0.54839596306429, 0.4728127603770962, 0.5334030432808996, 0.449612118392648, 0.4353850718451748, 0.572011047970478, 0.46422612236256233, 0.5265819585182604, 0.4288073957837484, 0.46379187547844575], 'HyperOpt': []}, 'Random Forest': {'Optuna': [0.9811991983356031, 0.9775999181916318, 0.9819993984396399, 0.9807997584156638, 0.9851998387837438, 0.9818009987438286, 0.9837987984635966, 0.9854000388397711, 0.9836002787437711, 0.9806006385757661, 0.9862001189197934, 0.9812001585277184, 0.9809988782555613, 0.9816005586397726, 0.981799318407627, 0.9841999187197374, 0.9838001187277551, 0.9792006784717486, 0.984199198575651, 0.983199998655731, 0.9824007587438096, 0.9807998784396782, 0.9828007987838207, 0.9807997584156638, 0.979799118207571, 0.9744010381597151, 0.9803987581835374, 0.9759993979595438, 0.9821997185196815, 0.9788006384317374, 0.9779989980395278], 'HyperOpt': []}, 'Ada_Boost': {'Optuna': [0.9841993185996655, 0.9847997987437326, 0.9863999589037776, 0.986799518847731, 0.9877996789597662, 0.9852004389038159, 0.9857997188077391, 0.9861999988957791, 0.9862003589678222, 0.9858003189278111, 0.9887998390718016, 0.985199598735715, 0.9835993185516557, 0.9843992786076639, 0.9863999589037776, 0.9863994788077198, 0.9879995189437504, 0.9860005189838383, 0.9855996387757262, 0.983999358591667, 0.9843995186556928, 0.9868001189678032, 0.9867993988237167, 0.9877995589357519, 0.98580055897584, 0.9857997188077391], 'HyperOpt': []}, 'Grad_Boost': {'Optuna': [0.979799718327643, 0.9758006381916894, 0.9817991983836126, 0.9821999585677101, 0.9843991585836495, 0.9796010785838031, 0.9825985583195486, 0.9823999185757085, 0.9796008385357743, 0.9739996778555454, 0.9712004777915965, 0.9755993579195326, 0.9751999179995933, 0.9790004784157215], 'HyperOpt': []}, 'Bagging_Classifier': {'Optuna': [], 'HyperOpt': []}, 'ExtraTreesClassifier': {'Optuna': [], 'HyperOpt': []}, 'Hist_Grad_Boost_Classifier': {'Optuna': [], 'HyperOpt': []}, 'Decision_Tree_Classifier': {'Optuna': [], 'HyperOpt': []}, 'XGB_Classifier': {'Optuna': [], 'HyperOpt': []}, 'KNN_Classifier': {'Optuna': [], 'HyperOpt': []}}\n",
      "\n",
      "\n",
      "Batch 6\n",
      "('\\n'\n",
      " \"Space: {'loss': 'exponential', 'n_estimators': 125, 'criterion': \"\n",
      " \"'friedman_mse', 'max_features': 'log2'}\")\n"
     ]
    },
    {
     "name": "stderr",
     "output_type": "stream",
     "text": [
      "[Parallel(n_jobs=-1)]: Done   3 out of   3 | elapsed:   14.6s finished\n",
      "[Parallel(n_jobs=-1)]: Using backend LokyBackend with 8 concurrent workers.\n"
     ]
    },
    {
     "name": "stdout",
     "output_type": "stream",
     "text": [
      "\n",
      "Accuracy of Grad_Boost: 0.9766008382957262\n",
      "\n",
      "Batchwise_accuracies: [0.9739996778555454, 0.9712004777915965, 0.9755993579195326, 0.9751999179995933, 0.9790004784157215, 0.9766008382957262]\n",
      "\n",
      "Batchwise_Median_Accuracy: 0.9753996379595629\n",
      "\n",
      "Accumulated Accuracies:\n",
      "{'Logistic_Regression': {'Optuna': [0.46279279558254016, 0.4274040750073275, 0.37198526681218375, 0.4565850335335094, 0.40799655195011414, 0.43138215094076027, 0.41100531394321377, 0.37338486684415817, 0.4611895147981208, 0.412395672126079, 0.47438819559017364, 0.47601140036098427, 0.462385074005607, 0.4256062352955579, 0.43138215094076027, 0.41100531394321377, 0.37338486684415817, 0.4611895147981208, 0.412395672126079, 0.47438819559017364, 0.47601140036098427, 0.462385074005607, 0.4256062352955579], 'HyperOpt': []}, 'SGD_Classifier': {'Optuna': [0.5031919186390813, 0.45941519979317463, 0.5387783187660187, 0.4933956786073758, 0.4823880361982826, 0.54839596306429, 0.4728127603770962, 0.5334030432808996, 0.449612118392648, 0.4353850718451748, 0.572011047970478, 0.46422612236256233, 0.5265819585182604, 0.4288073957837484, 0.46379187547844575], 'HyperOpt': []}, 'Random Forest': {'Optuna': [0.9811991983356031, 0.9775999181916318, 0.9819993984396399, 0.9807997584156638, 0.9851998387837438, 0.9818009987438286, 0.9837987984635966, 0.9854000388397711, 0.9836002787437711, 0.9806006385757661, 0.9862001189197934, 0.9812001585277184, 0.9809988782555613, 0.9816005586397726, 0.981799318407627, 0.9841999187197374, 0.9838001187277551, 0.9792006784717486, 0.984199198575651, 0.983199998655731, 0.9824007587438096, 0.9807998784396782, 0.9828007987838207, 0.9807997584156638, 0.979799118207571, 0.9744010381597151, 0.9803987581835374, 0.9759993979595438, 0.9821997185196815, 0.9788006384317374, 0.9779989980395278], 'HyperOpt': []}, 'Ada_Boost': {'Optuna': [0.9841993185996655, 0.9847997987437326, 0.9863999589037776, 0.986799518847731, 0.9877996789597662, 0.9852004389038159, 0.9857997188077391, 0.9861999988957791, 0.9862003589678222, 0.9858003189278111, 0.9887998390718016, 0.985199598735715, 0.9835993185516557, 0.9843992786076639, 0.9863999589037776, 0.9863994788077198, 0.9879995189437504, 0.9860005189838383, 0.9855996387757262, 0.983999358591667, 0.9843995186556928, 0.9868001189678032, 0.9867993988237167, 0.9877995589357519, 0.98580055897584, 0.9857997188077391], 'HyperOpt': []}, 'Grad_Boost': {'Optuna': [0.979799718327643, 0.9758006381916894, 0.9817991983836126, 0.9821999585677101, 0.9843991585836495, 0.9796010785838031, 0.9825985583195486, 0.9823999185757085, 0.9796008385357743, 0.9739996778555454, 0.9712004777915965, 0.9755993579195326, 0.9751999179995933, 0.9790004784157215, 0.9766008382957262], 'HyperOpt': []}, 'Bagging_Classifier': {'Optuna': [], 'HyperOpt': []}, 'ExtraTreesClassifier': {'Optuna': [], 'HyperOpt': []}, 'Hist_Grad_Boost_Classifier': {'Optuna': [], 'HyperOpt': []}, 'Decision_Tree_Classifier': {'Optuna': [], 'HyperOpt': []}, 'XGB_Classifier': {'Optuna': [], 'HyperOpt': []}, 'KNN_Classifier': {'Optuna': [], 'HyperOpt': []}}\n",
      "\n",
      "\n",
      "Batch 7\n",
      "('\\n'\n",
      " \"Space: {'loss': 'exponential', 'n_estimators': 125, 'criterion': \"\n",
      " \"'friedman_mse', 'max_features': 'log2'}\")\n"
     ]
    },
    {
     "name": "stderr",
     "output_type": "stream",
     "text": [
      "[Parallel(n_jobs=-1)]: Done   3 out of   3 | elapsed:   14.5s finished\n",
      "[Parallel(n_jobs=-1)]: Using backend LokyBackend with 8 concurrent workers.\n"
     ]
    },
    {
     "name": "stdout",
     "output_type": "stream",
     "text": [
      "\n",
      "Accuracy of Grad_Boost: 0.9781987179994974\n",
      "\n",
      "Batchwise_accuracies: [0.9739996778555454, 0.9712004777915965, 0.9755993579195326, 0.9751999179995933, 0.9790004784157215, 0.9766008382957262, 0.9781987179994974]\n",
      "\n",
      "Batchwise_Median_Accuracy: 0.9755993579195326\n",
      "\n",
      "Accumulated Accuracies:\n",
      "{'Logistic_Regression': {'Optuna': [0.46279279558254016, 0.4274040750073275, 0.37198526681218375, 0.4565850335335094, 0.40799655195011414, 0.43138215094076027, 0.41100531394321377, 0.37338486684415817, 0.4611895147981208, 0.412395672126079, 0.47438819559017364, 0.47601140036098427, 0.462385074005607, 0.4256062352955579, 0.43138215094076027, 0.41100531394321377, 0.37338486684415817, 0.4611895147981208, 0.412395672126079, 0.47438819559017364, 0.47601140036098427, 0.462385074005607, 0.4256062352955579], 'HyperOpt': []}, 'SGD_Classifier': {'Optuna': [0.5031919186390813, 0.45941519979317463, 0.5387783187660187, 0.4933956786073758, 0.4823880361982826, 0.54839596306429, 0.4728127603770962, 0.5334030432808996, 0.449612118392648, 0.4353850718451748, 0.572011047970478, 0.46422612236256233, 0.5265819585182604, 0.4288073957837484, 0.46379187547844575], 'HyperOpt': []}, 'Random Forest': {'Optuna': [0.9811991983356031, 0.9775999181916318, 0.9819993984396399, 0.9807997584156638, 0.9851998387837438, 0.9818009987438286, 0.9837987984635966, 0.9854000388397711, 0.9836002787437711, 0.9806006385757661, 0.9862001189197934, 0.9812001585277184, 0.9809988782555613, 0.9816005586397726, 0.981799318407627, 0.9841999187197374, 0.9838001187277551, 0.9792006784717486, 0.984199198575651, 0.983199998655731, 0.9824007587438096, 0.9807998784396782, 0.9828007987838207, 0.9807997584156638, 0.979799118207571, 0.9744010381597151, 0.9803987581835374, 0.9759993979595438, 0.9821997185196815, 0.9788006384317374, 0.9779989980395278], 'HyperOpt': []}, 'Ada_Boost': {'Optuna': [0.9841993185996655, 0.9847997987437326, 0.9863999589037776, 0.986799518847731, 0.9877996789597662, 0.9852004389038159, 0.9857997188077391, 0.9861999988957791, 0.9862003589678222, 0.9858003189278111, 0.9887998390718016, 0.985199598735715, 0.9835993185516557, 0.9843992786076639, 0.9863999589037776, 0.9863994788077198, 0.9879995189437504, 0.9860005189838383, 0.9855996387757262, 0.983999358591667, 0.9843995186556928, 0.9868001189678032, 0.9867993988237167, 0.9877995589357519, 0.98580055897584, 0.9857997188077391], 'HyperOpt': []}, 'Grad_Boost': {'Optuna': [0.979799718327643, 0.9758006381916894, 0.9817991983836126, 0.9821999585677101, 0.9843991585836495, 0.9796010785838031, 0.9825985583195486, 0.9823999185757085, 0.9796008385357743, 0.9739996778555454, 0.9712004777915965, 0.9755993579195326, 0.9751999179995933, 0.9790004784157215, 0.9766008382957262, 0.9781987179994974], 'HyperOpt': []}, 'Bagging_Classifier': {'Optuna': [], 'HyperOpt': []}, 'ExtraTreesClassifier': {'Optuna': [], 'HyperOpt': []}, 'Hist_Grad_Boost_Classifier': {'Optuna': [], 'HyperOpt': []}, 'Decision_Tree_Classifier': {'Optuna': [], 'HyperOpt': []}, 'XGB_Classifier': {'Optuna': [], 'HyperOpt': []}, 'KNN_Classifier': {'Optuna': [], 'HyperOpt': []}}\n",
      "\n",
      "\n",
      "Batch 8\n",
      "('\\n'\n",
      " \"Space: {'loss': 'exponential', 'n_estimators': 125, 'criterion': \"\n",
      " \"'friedman_mse', 'max_features': 'log2'}\")\n"
     ]
    },
    {
     "name": "stderr",
     "output_type": "stream",
     "text": [
      "[Parallel(n_jobs=-1)]: Done   3 out of   3 | elapsed:   14.9s finished\n",
      "[Parallel(n_jobs=-1)]: Using backend LokyBackend with 8 concurrent workers.\n"
     ]
    },
    {
     "name": "stdout",
     "output_type": "stream",
     "text": [
      "\n",
      "Accuracy of Grad_Boost: 0.9777992780795581\n",
      "\n",
      "Batchwise_accuracies: [0.9739996778555454, 0.9712004777915965, 0.9755993579195326, 0.9751999179995933, 0.9790004784157215, 0.9766008382957262, 0.9781987179994974, 0.9777992780795581]\n",
      "\n",
      "Batchwise_Median_Accuracy: 0.9761000981076293\n",
      "\n",
      "Accumulated Accuracies:\n",
      "{'Logistic_Regression': {'Optuna': [0.46279279558254016, 0.4274040750073275, 0.37198526681218375, 0.4565850335335094, 0.40799655195011414, 0.43138215094076027, 0.41100531394321377, 0.37338486684415817, 0.4611895147981208, 0.412395672126079, 0.47438819559017364, 0.47601140036098427, 0.462385074005607, 0.4256062352955579, 0.43138215094076027, 0.41100531394321377, 0.37338486684415817, 0.4611895147981208, 0.412395672126079, 0.47438819559017364, 0.47601140036098427, 0.462385074005607, 0.4256062352955579], 'HyperOpt': []}, 'SGD_Classifier': {'Optuna': [0.5031919186390813, 0.45941519979317463, 0.5387783187660187, 0.4933956786073758, 0.4823880361982826, 0.54839596306429, 0.4728127603770962, 0.5334030432808996, 0.449612118392648, 0.4353850718451748, 0.572011047970478, 0.46422612236256233, 0.5265819585182604, 0.4288073957837484, 0.46379187547844575], 'HyperOpt': []}, 'Random Forest': {'Optuna': [0.9811991983356031, 0.9775999181916318, 0.9819993984396399, 0.9807997584156638, 0.9851998387837438, 0.9818009987438286, 0.9837987984635966, 0.9854000388397711, 0.9836002787437711, 0.9806006385757661, 0.9862001189197934, 0.9812001585277184, 0.9809988782555613, 0.9816005586397726, 0.981799318407627, 0.9841999187197374, 0.9838001187277551, 0.9792006784717486, 0.984199198575651, 0.983199998655731, 0.9824007587438096, 0.9807998784396782, 0.9828007987838207, 0.9807997584156638, 0.979799118207571, 0.9744010381597151, 0.9803987581835374, 0.9759993979595438, 0.9821997185196815, 0.9788006384317374, 0.9779989980395278], 'HyperOpt': []}, 'Ada_Boost': {'Optuna': [0.9841993185996655, 0.9847997987437326, 0.9863999589037776, 0.986799518847731, 0.9877996789597662, 0.9852004389038159, 0.9857997188077391, 0.9861999988957791, 0.9862003589678222, 0.9858003189278111, 0.9887998390718016, 0.985199598735715, 0.9835993185516557, 0.9843992786076639, 0.9863999589037776, 0.9863994788077198, 0.9879995189437504, 0.9860005189838383, 0.9855996387757262, 0.983999358591667, 0.9843995186556928, 0.9868001189678032, 0.9867993988237167, 0.9877995589357519, 0.98580055897584, 0.9857997188077391], 'HyperOpt': []}, 'Grad_Boost': {'Optuna': [0.979799718327643, 0.9758006381916894, 0.9817991983836126, 0.9821999585677101, 0.9843991585836495, 0.9796010785838031, 0.9825985583195486, 0.9823999185757085, 0.9796008385357743, 0.9739996778555454, 0.9712004777915965, 0.9755993579195326, 0.9751999179995933, 0.9790004784157215, 0.9766008382957262, 0.9781987179994974, 0.9777992780795581], 'HyperOpt': []}, 'Bagging_Classifier': {'Optuna': [], 'HyperOpt': []}, 'ExtraTreesClassifier': {'Optuna': [], 'HyperOpt': []}, 'Hist_Grad_Boost_Classifier': {'Optuna': [], 'HyperOpt': []}, 'Decision_Tree_Classifier': {'Optuna': [], 'HyperOpt': []}, 'XGB_Classifier': {'Optuna': [], 'HyperOpt': []}, 'KNN_Classifier': {'Optuna': [], 'HyperOpt': []}}\n",
      "\n",
      "\n",
      "Batch 9\n",
      "('\\n'\n",
      " \"Space: {'loss': 'exponential', 'n_estimators': 125, 'criterion': \"\n",
      " \"'friedman_mse', 'max_features': 'log2'}\")\n"
     ]
    },
    {
     "name": "stderr",
     "output_type": "stream",
     "text": [
      "[Parallel(n_jobs=-1)]: Done   3 out of   3 | elapsed:   14.9s finished\n",
      "[Parallel(n_jobs=-1)]: Using backend LokyBackend with 8 concurrent workers.\n"
     ]
    },
    {
     "name": "stdout",
     "output_type": "stream",
     "text": [
      "\n",
      "Accuracy of Grad_Boost: 0.976000958271731\n",
      "\n",
      "Batchwise_accuracies: [0.9739996778555454, 0.9712004777915965, 0.9755993579195326, 0.9751999179995933, 0.9790004784157215, 0.9766008382957262, 0.9781987179994974, 0.9777992780795581, 0.976000958271731]\n",
      "\n",
      "Batchwise_Median_Accuracy: 0.976000958271731\n",
      "\n",
      "Accumulated Accuracies:\n",
      "{'Logistic_Regression': {'Optuna': [0.46279279558254016, 0.4274040750073275, 0.37198526681218375, 0.4565850335335094, 0.40799655195011414, 0.43138215094076027, 0.41100531394321377, 0.37338486684415817, 0.4611895147981208, 0.412395672126079, 0.47438819559017364, 0.47601140036098427, 0.462385074005607, 0.4256062352955579, 0.43138215094076027, 0.41100531394321377, 0.37338486684415817, 0.4611895147981208, 0.412395672126079, 0.47438819559017364, 0.47601140036098427, 0.462385074005607, 0.4256062352955579], 'HyperOpt': []}, 'SGD_Classifier': {'Optuna': [0.5031919186390813, 0.45941519979317463, 0.5387783187660187, 0.4933956786073758, 0.4823880361982826, 0.54839596306429, 0.4728127603770962, 0.5334030432808996, 0.449612118392648, 0.4353850718451748, 0.572011047970478, 0.46422612236256233, 0.5265819585182604, 0.4288073957837484, 0.46379187547844575], 'HyperOpt': []}, 'Random Forest': {'Optuna': [0.9811991983356031, 0.9775999181916318, 0.9819993984396399, 0.9807997584156638, 0.9851998387837438, 0.9818009987438286, 0.9837987984635966, 0.9854000388397711, 0.9836002787437711, 0.9806006385757661, 0.9862001189197934, 0.9812001585277184, 0.9809988782555613, 0.9816005586397726, 0.981799318407627, 0.9841999187197374, 0.9838001187277551, 0.9792006784717486, 0.984199198575651, 0.983199998655731, 0.9824007587438096, 0.9807998784396782, 0.9828007987838207, 0.9807997584156638, 0.979799118207571, 0.9744010381597151, 0.9803987581835374, 0.9759993979595438, 0.9821997185196815, 0.9788006384317374, 0.9779989980395278], 'HyperOpt': []}, 'Ada_Boost': {'Optuna': [0.9841993185996655, 0.9847997987437326, 0.9863999589037776, 0.986799518847731, 0.9877996789597662, 0.9852004389038159, 0.9857997188077391, 0.9861999988957791, 0.9862003589678222, 0.9858003189278111, 0.9887998390718016, 0.985199598735715, 0.9835993185516557, 0.9843992786076639, 0.9863999589037776, 0.9863994788077198, 0.9879995189437504, 0.9860005189838383, 0.9855996387757262, 0.983999358591667, 0.9843995186556928, 0.9868001189678032, 0.9867993988237167, 0.9877995589357519, 0.98580055897584, 0.9857997188077391], 'HyperOpt': []}, 'Grad_Boost': {'Optuna': [0.979799718327643, 0.9758006381916894, 0.9817991983836126, 0.9821999585677101, 0.9843991585836495, 0.9796010785838031, 0.9825985583195486, 0.9823999185757085, 0.9796008385357743, 0.9739996778555454, 0.9712004777915965, 0.9755993579195326, 0.9751999179995933, 0.9790004784157215, 0.9766008382957262, 0.9781987179994974, 0.9777992780795581, 0.976000958271731], 'HyperOpt': []}, 'Bagging_Classifier': {'Optuna': [], 'HyperOpt': []}, 'ExtraTreesClassifier': {'Optuna': [], 'HyperOpt': []}, 'Hist_Grad_Boost_Classifier': {'Optuna': [], 'HyperOpt': []}, 'Decision_Tree_Classifier': {'Optuna': [], 'HyperOpt': []}, 'XGB_Classifier': {'Optuna': [], 'HyperOpt': []}, 'KNN_Classifier': {'Optuna': [], 'HyperOpt': []}}\n",
      "\n",
      "\n",
      "Batch 10\n",
      "('\\n'\n",
      " \"Space: {'loss': 'exponential', 'n_estimators': 125, 'criterion': \"\n",
      " \"'friedman_mse', 'max_features': 'log2'}\")\n"
     ]
    },
    {
     "name": "stderr",
     "output_type": "stream",
     "text": [
      "[Parallel(n_jobs=-1)]: Done   3 out of   3 | elapsed:   14.8s finished\n",
      "[Parallel(n_jobs=-1)]: Using backend LokyBackend with 8 concurrent workers.\n"
     ]
    },
    {
     "name": "stdout",
     "output_type": "stream",
     "text": [
      "\n",
      "Accuracy of Grad_Boost: 0.9746013582397567\n",
      "\n",
      "Batchwise_accuracies: [0.9739996778555454, 0.9712004777915965, 0.9755993579195326, 0.9751999179995933, 0.9790004784157215, 0.9766008382957262, 0.9781987179994974, 0.9777992780795581, 0.976000958271731, 0.9746013582397567]\n",
      "\n",
      "Batchwise_Median_Accuracy: 0.9758001580956317\n",
      "\n",
      "Accumulated Accuracies:\n",
      "{'Logistic_Regression': {'Optuna': [0.46279279558254016, 0.4274040750073275, 0.37198526681218375, 0.4565850335335094, 0.40799655195011414, 0.43138215094076027, 0.41100531394321377, 0.37338486684415817, 0.4611895147981208, 0.412395672126079, 0.47438819559017364, 0.47601140036098427, 0.462385074005607, 0.4256062352955579, 0.43138215094076027, 0.41100531394321377, 0.37338486684415817, 0.4611895147981208, 0.412395672126079, 0.47438819559017364, 0.47601140036098427, 0.462385074005607, 0.4256062352955579], 'HyperOpt': []}, 'SGD_Classifier': {'Optuna': [0.5031919186390813, 0.45941519979317463, 0.5387783187660187, 0.4933956786073758, 0.4823880361982826, 0.54839596306429, 0.4728127603770962, 0.5334030432808996, 0.449612118392648, 0.4353850718451748, 0.572011047970478, 0.46422612236256233, 0.5265819585182604, 0.4288073957837484, 0.46379187547844575], 'HyperOpt': []}, 'Random Forest': {'Optuna': [0.9811991983356031, 0.9775999181916318, 0.9819993984396399, 0.9807997584156638, 0.9851998387837438, 0.9818009987438286, 0.9837987984635966, 0.9854000388397711, 0.9836002787437711, 0.9806006385757661, 0.9862001189197934, 0.9812001585277184, 0.9809988782555613, 0.9816005586397726, 0.981799318407627, 0.9841999187197374, 0.9838001187277551, 0.9792006784717486, 0.984199198575651, 0.983199998655731, 0.9824007587438096, 0.9807998784396782, 0.9828007987838207, 0.9807997584156638, 0.979799118207571, 0.9744010381597151, 0.9803987581835374, 0.9759993979595438, 0.9821997185196815, 0.9788006384317374, 0.9779989980395278], 'HyperOpt': []}, 'Ada_Boost': {'Optuna': [0.9841993185996655, 0.9847997987437326, 0.9863999589037776, 0.986799518847731, 0.9877996789597662, 0.9852004389038159, 0.9857997188077391, 0.9861999988957791, 0.9862003589678222, 0.9858003189278111, 0.9887998390718016, 0.985199598735715, 0.9835993185516557, 0.9843992786076639, 0.9863999589037776, 0.9863994788077198, 0.9879995189437504, 0.9860005189838383, 0.9855996387757262, 0.983999358591667, 0.9843995186556928, 0.9868001189678032, 0.9867993988237167, 0.9877995589357519, 0.98580055897584, 0.9857997188077391], 'HyperOpt': []}, 'Grad_Boost': {'Optuna': [0.979799718327643, 0.9758006381916894, 0.9817991983836126, 0.9821999585677101, 0.9843991585836495, 0.9796010785838031, 0.9825985583195486, 0.9823999185757085, 0.9796008385357743, 0.9739996778555454, 0.9712004777915965, 0.9755993579195326, 0.9751999179995933, 0.9790004784157215, 0.9766008382957262, 0.9781987179994974, 0.9777992780795581, 0.976000958271731, 0.9746013582397567], 'HyperOpt': []}, 'Bagging_Classifier': {'Optuna': [], 'HyperOpt': []}, 'ExtraTreesClassifier': {'Optuna': [], 'HyperOpt': []}, 'Hist_Grad_Boost_Classifier': {'Optuna': [], 'HyperOpt': []}, 'Decision_Tree_Classifier': {'Optuna': [], 'HyperOpt': []}, 'XGB_Classifier': {'Optuna': [], 'HyperOpt': []}, 'KNN_Classifier': {'Optuna': [], 'HyperOpt': []}}\n",
      "\n",
      "\n",
      "Batch 11\n",
      "('\\n'\n",
      " \"Space: {'loss': 'exponential', 'n_estimators': 125, 'criterion': \"\n",
      " \"'friedman_mse', 'max_features': 'log2'}\")\n"
     ]
    },
    {
     "name": "stderr",
     "output_type": "stream",
     "text": [
      "[Parallel(n_jobs=-1)]: Done   3 out of   3 | elapsed:   14.9s finished\n",
      "[Parallel(n_jobs=-1)]: Using backend LokyBackend with 8 concurrent workers.\n"
     ]
    },
    {
     "name": "stdout",
     "output_type": "stream",
     "text": [
      "\n",
      "Accuracy of Grad_Boost: 0.9768005582556958\n",
      "\n",
      "Batchwise_accuracies: [0.9739996778555454, 0.9712004777915965, 0.9755993579195326, 0.9751999179995933, 0.9790004784157215, 0.9766008382957262, 0.9781987179994974, 0.9777992780795581, 0.976000958271731, 0.9746013582397567, 0.9768005582556958]\n",
      "\n",
      "Batchwise_Median_Accuracy: 0.976000958271731\n",
      "\n",
      "Accumulated Accuracies:\n",
      "{'Logistic_Regression': {'Optuna': [0.46279279558254016, 0.4274040750073275, 0.37198526681218375, 0.4565850335335094, 0.40799655195011414, 0.43138215094076027, 0.41100531394321377, 0.37338486684415817, 0.4611895147981208, 0.412395672126079, 0.47438819559017364, 0.47601140036098427, 0.462385074005607, 0.4256062352955579, 0.43138215094076027, 0.41100531394321377, 0.37338486684415817, 0.4611895147981208, 0.412395672126079, 0.47438819559017364, 0.47601140036098427, 0.462385074005607, 0.4256062352955579], 'HyperOpt': []}, 'SGD_Classifier': {'Optuna': [0.5031919186390813, 0.45941519979317463, 0.5387783187660187, 0.4933956786073758, 0.4823880361982826, 0.54839596306429, 0.4728127603770962, 0.5334030432808996, 0.449612118392648, 0.4353850718451748, 0.572011047970478, 0.46422612236256233, 0.5265819585182604, 0.4288073957837484, 0.46379187547844575], 'HyperOpt': []}, 'Random Forest': {'Optuna': [0.9811991983356031, 0.9775999181916318, 0.9819993984396399, 0.9807997584156638, 0.9851998387837438, 0.9818009987438286, 0.9837987984635966, 0.9854000388397711, 0.9836002787437711, 0.9806006385757661, 0.9862001189197934, 0.9812001585277184, 0.9809988782555613, 0.9816005586397726, 0.981799318407627, 0.9841999187197374, 0.9838001187277551, 0.9792006784717486, 0.984199198575651, 0.983199998655731, 0.9824007587438096, 0.9807998784396782, 0.9828007987838207, 0.9807997584156638, 0.979799118207571, 0.9744010381597151, 0.9803987581835374, 0.9759993979595438, 0.9821997185196815, 0.9788006384317374, 0.9779989980395278], 'HyperOpt': []}, 'Ada_Boost': {'Optuna': [0.9841993185996655, 0.9847997987437326, 0.9863999589037776, 0.986799518847731, 0.9877996789597662, 0.9852004389038159, 0.9857997188077391, 0.9861999988957791, 0.9862003589678222, 0.9858003189278111, 0.9887998390718016, 0.985199598735715, 0.9835993185516557, 0.9843992786076639, 0.9863999589037776, 0.9863994788077198, 0.9879995189437504, 0.9860005189838383, 0.9855996387757262, 0.983999358591667, 0.9843995186556928, 0.9868001189678032, 0.9867993988237167, 0.9877995589357519, 0.98580055897584, 0.9857997188077391], 'HyperOpt': []}, 'Grad_Boost': {'Optuna': [0.979799718327643, 0.9758006381916894, 0.9817991983836126, 0.9821999585677101, 0.9843991585836495, 0.9796010785838031, 0.9825985583195486, 0.9823999185757085, 0.9796008385357743, 0.9739996778555454, 0.9712004777915965, 0.9755993579195326, 0.9751999179995933, 0.9790004784157215, 0.9766008382957262, 0.9781987179994974, 0.9777992780795581, 0.976000958271731, 0.9746013582397567, 0.9768005582556958], 'HyperOpt': []}, 'Bagging_Classifier': {'Optuna': [], 'HyperOpt': []}, 'ExtraTreesClassifier': {'Optuna': [], 'HyperOpt': []}, 'Hist_Grad_Boost_Classifier': {'Optuna': [], 'HyperOpt': []}, 'Decision_Tree_Classifier': {'Optuna': [], 'HyperOpt': []}, 'XGB_Classifier': {'Optuna': [], 'HyperOpt': []}, 'KNN_Classifier': {'Optuna': [], 'HyperOpt': []}}\n",
      "\n",
      "\n",
      "Batch 12\n",
      "('\\n'\n",
      " \"Space: {'loss': 'exponential', 'n_estimators': 125, 'criterion': \"\n",
      " \"'friedman_mse', 'max_features': 'log2'}\")\n"
     ]
    },
    {
     "name": "stderr",
     "output_type": "stream",
     "text": [
      "[Parallel(n_jobs=-1)]: Done   3 out of   3 | elapsed:   14.7s finished\n",
      "[I 2024-01-28 21:54:38,719] Trial 1 finished with value: 0.9756668514236327 and parameters: {'loss': 'exponential', 'n_estimators': 125, 'criterion': 'friedman_mse', 'max_features': 'log2'}. Best is trial 1 with value: 0.9756668514236327.\n",
      "[Parallel(n_jobs=-1)]: Using backend LokyBackend with 8 concurrent workers.\n"
     ]
    },
    {
     "name": "stdout",
     "output_type": "stream",
     "text": [
      "\n",
      "Accuracy of Grad_Boost: 0.9730005979596398\n",
      "\n",
      "Batchwise_accuracies: [0.9739996778555454, 0.9712004777915965, 0.9755993579195326, 0.9751999179995933, 0.9790004784157215, 0.9766008382957262, 0.9781987179994974, 0.9777992780795581, 0.976000958271731, 0.9746013582397567, 0.9768005582556958, 0.9730005979596398]\n",
      "\n",
      "Batchwise_Median_Accuracy: 0.9758001580956317\n",
      "\n",
      "Accumulated Accuracies:\n",
      "{'Logistic_Regression': {'Optuna': [0.46279279558254016, 0.4274040750073275, 0.37198526681218375, 0.4565850335335094, 0.40799655195011414, 0.43138215094076027, 0.41100531394321377, 0.37338486684415817, 0.4611895147981208, 0.412395672126079, 0.47438819559017364, 0.47601140036098427, 0.462385074005607, 0.4256062352955579, 0.43138215094076027, 0.41100531394321377, 0.37338486684415817, 0.4611895147981208, 0.412395672126079, 0.47438819559017364, 0.47601140036098427, 0.462385074005607, 0.4256062352955579], 'HyperOpt': []}, 'SGD_Classifier': {'Optuna': [0.5031919186390813, 0.45941519979317463, 0.5387783187660187, 0.4933956786073758, 0.4823880361982826, 0.54839596306429, 0.4728127603770962, 0.5334030432808996, 0.449612118392648, 0.4353850718451748, 0.572011047970478, 0.46422612236256233, 0.5265819585182604, 0.4288073957837484, 0.46379187547844575], 'HyperOpt': []}, 'Random Forest': {'Optuna': [0.9811991983356031, 0.9775999181916318, 0.9819993984396399, 0.9807997584156638, 0.9851998387837438, 0.9818009987438286, 0.9837987984635966, 0.9854000388397711, 0.9836002787437711, 0.9806006385757661, 0.9862001189197934, 0.9812001585277184, 0.9809988782555613, 0.9816005586397726, 0.981799318407627, 0.9841999187197374, 0.9838001187277551, 0.9792006784717486, 0.984199198575651, 0.983199998655731, 0.9824007587438096, 0.9807998784396782, 0.9828007987838207, 0.9807997584156638, 0.979799118207571, 0.9744010381597151, 0.9803987581835374, 0.9759993979595438, 0.9821997185196815, 0.9788006384317374, 0.9779989980395278], 'HyperOpt': []}, 'Ada_Boost': {'Optuna': [0.9841993185996655, 0.9847997987437326, 0.9863999589037776, 0.986799518847731, 0.9877996789597662, 0.9852004389038159, 0.9857997188077391, 0.9861999988957791, 0.9862003589678222, 0.9858003189278111, 0.9887998390718016, 0.985199598735715, 0.9835993185516557, 0.9843992786076639, 0.9863999589037776, 0.9863994788077198, 0.9879995189437504, 0.9860005189838383, 0.9855996387757262, 0.983999358591667, 0.9843995186556928, 0.9868001189678032, 0.9867993988237167, 0.9877995589357519, 0.98580055897584, 0.9857997188077391], 'HyperOpt': []}, 'Grad_Boost': {'Optuna': [0.979799718327643, 0.9758006381916894, 0.9817991983836126, 0.9821999585677101, 0.9843991585836495, 0.9796010785838031, 0.9825985583195486, 0.9823999185757085, 0.9796008385357743, 0.9739996778555454, 0.9712004777915965, 0.9755993579195326, 0.9751999179995933, 0.9790004784157215, 0.9766008382957262, 0.9781987179994974, 0.9777992780795581, 0.976000958271731, 0.9746013582397567, 0.9768005582556958, 0.9730005979596398], 'HyperOpt': []}, 'Bagging_Classifier': {'Optuna': [], 'HyperOpt': []}, 'ExtraTreesClassifier': {'Optuna': [], 'HyperOpt': []}, 'Hist_Grad_Boost_Classifier': {'Optuna': [], 'HyperOpt': []}, 'Decision_Tree_Classifier': {'Optuna': [], 'HyperOpt': []}, 'XGB_Classifier': {'Optuna': [], 'HyperOpt': []}, 'KNN_Classifier': {'Optuna': [], 'HyperOpt': []}}\n",
      "\n",
      "\n",
      "**************\n",
      "Trial_Number: 2\n",
      "**************\n",
      "\n",
      "Batch 1\n",
      "('\\n'\n",
      " \"Space: {'loss': 'exponential', 'n_estimators': 116, 'criterion': \"\n",
      " \"'squared_error', 'max_features': 'sqrt'}\")\n"
     ]
    },
    {
     "name": "stderr",
     "output_type": "stream",
     "text": [
      "[Parallel(n_jobs=-1)]: Done   3 out of   3 | elapsed:   18.1s finished\n",
      "[Parallel(n_jobs=-1)]: Using backend LokyBackend with 8 concurrent workers.\n"
     ]
    },
    {
     "name": "stdout",
     "output_type": "stream",
     "text": [
      "\n",
      "Accuracy of Grad_Boost: 0.9751997979755789\n",
      "\n",
      "Batchwise_accuracies: [0.9751997979755789]\n",
      "\n",
      "Batchwise_Median_Accuracy: 0.9751997979755789\n",
      "\n",
      "Accumulated Accuracies:\n",
      "{'Logistic_Regression': {'Optuna': [0.46279279558254016, 0.4274040750073275, 0.37198526681218375, 0.4565850335335094, 0.40799655195011414, 0.43138215094076027, 0.41100531394321377, 0.37338486684415817, 0.4611895147981208, 0.412395672126079, 0.47438819559017364, 0.47601140036098427, 0.462385074005607, 0.4256062352955579, 0.43138215094076027, 0.41100531394321377, 0.37338486684415817, 0.4611895147981208, 0.412395672126079, 0.47438819559017364, 0.47601140036098427, 0.462385074005607, 0.4256062352955579], 'HyperOpt': []}, 'SGD_Classifier': {'Optuna': [0.5031919186390813, 0.45941519979317463, 0.5387783187660187, 0.4933956786073758, 0.4823880361982826, 0.54839596306429, 0.4728127603770962, 0.5334030432808996, 0.449612118392648, 0.4353850718451748, 0.572011047970478, 0.46422612236256233, 0.5265819585182604, 0.4288073957837484, 0.46379187547844575], 'HyperOpt': []}, 'Random Forest': {'Optuna': [0.9811991983356031, 0.9775999181916318, 0.9819993984396399, 0.9807997584156638, 0.9851998387837438, 0.9818009987438286, 0.9837987984635966, 0.9854000388397711, 0.9836002787437711, 0.9806006385757661, 0.9862001189197934, 0.9812001585277184, 0.9809988782555613, 0.9816005586397726, 0.981799318407627, 0.9841999187197374, 0.9838001187277551, 0.9792006784717486, 0.984199198575651, 0.983199998655731, 0.9824007587438096, 0.9807998784396782, 0.9828007987838207, 0.9807997584156638, 0.979799118207571, 0.9744010381597151, 0.9803987581835374, 0.9759993979595438, 0.9821997185196815, 0.9788006384317374, 0.9779989980395278], 'HyperOpt': []}, 'Ada_Boost': {'Optuna': [0.9841993185996655, 0.9847997987437326, 0.9863999589037776, 0.986799518847731, 0.9877996789597662, 0.9852004389038159, 0.9857997188077391, 0.9861999988957791, 0.9862003589678222, 0.9858003189278111, 0.9887998390718016, 0.985199598735715, 0.9835993185516557, 0.9843992786076639, 0.9863999589037776, 0.9863994788077198, 0.9879995189437504, 0.9860005189838383, 0.9855996387757262, 0.983999358591667, 0.9843995186556928, 0.9868001189678032, 0.9867993988237167, 0.9877995589357519, 0.98580055897584, 0.9857997188077391], 'HyperOpt': []}, 'Grad_Boost': {'Optuna': [0.979799718327643, 0.9758006381916894, 0.9817991983836126, 0.9821999585677101, 0.9843991585836495, 0.9796010785838031, 0.9825985583195486, 0.9823999185757085, 0.9796008385357743, 0.9739996778555454, 0.9712004777915965, 0.9755993579195326, 0.9751999179995933, 0.9790004784157215, 0.9766008382957262, 0.9781987179994974, 0.9777992780795581, 0.976000958271731, 0.9746013582397567, 0.9768005582556958, 0.9730005979596398, 0.9751997979755789], 'HyperOpt': []}, 'Bagging_Classifier': {'Optuna': [], 'HyperOpt': []}, 'ExtraTreesClassifier': {'Optuna': [], 'HyperOpt': []}, 'Hist_Grad_Boost_Classifier': {'Optuna': [], 'HyperOpt': []}, 'Decision_Tree_Classifier': {'Optuna': [], 'HyperOpt': []}, 'XGB_Classifier': {'Optuna': [], 'HyperOpt': []}, 'KNN_Classifier': {'Optuna': [], 'HyperOpt': []}}\n",
      "\n",
      "\n",
      "Batch 2\n",
      "('\\n'\n",
      " \"Space: {'loss': 'exponential', 'n_estimators': 116, 'criterion': \"\n",
      " \"'squared_error', 'max_features': 'sqrt'}\")\n"
     ]
    },
    {
     "name": "stderr",
     "output_type": "stream",
     "text": [
      "[Parallel(n_jobs=-1)]: Done   3 out of   3 | elapsed:   18.1s finished\n",
      "[Parallel(n_jobs=-1)]: Using backend LokyBackend with 8 concurrent workers.\n"
     ]
    },
    {
     "name": "stdout",
     "output_type": "stream",
     "text": [
      "\n",
      "Accuracy of Grad_Boost: 0.9720004378476045\n",
      "\n",
      "Batchwise_accuracies: [0.9751997979755789, 0.9720004378476045]\n",
      "\n",
      "Batchwise_Median_Accuracy: 0.9736001179115916\n",
      "\n",
      "Accumulated Accuracies:\n",
      "{'Logistic_Regression': {'Optuna': [0.46279279558254016, 0.4274040750073275, 0.37198526681218375, 0.4565850335335094, 0.40799655195011414, 0.43138215094076027, 0.41100531394321377, 0.37338486684415817, 0.4611895147981208, 0.412395672126079, 0.47438819559017364, 0.47601140036098427, 0.462385074005607, 0.4256062352955579, 0.43138215094076027, 0.41100531394321377, 0.37338486684415817, 0.4611895147981208, 0.412395672126079, 0.47438819559017364, 0.47601140036098427, 0.462385074005607, 0.4256062352955579], 'HyperOpt': []}, 'SGD_Classifier': {'Optuna': [0.5031919186390813, 0.45941519979317463, 0.5387783187660187, 0.4933956786073758, 0.4823880361982826, 0.54839596306429, 0.4728127603770962, 0.5334030432808996, 0.449612118392648, 0.4353850718451748, 0.572011047970478, 0.46422612236256233, 0.5265819585182604, 0.4288073957837484, 0.46379187547844575], 'HyperOpt': []}, 'Random Forest': {'Optuna': [0.9811991983356031, 0.9775999181916318, 0.9819993984396399, 0.9807997584156638, 0.9851998387837438, 0.9818009987438286, 0.9837987984635966, 0.9854000388397711, 0.9836002787437711, 0.9806006385757661, 0.9862001189197934, 0.9812001585277184, 0.9809988782555613, 0.9816005586397726, 0.981799318407627, 0.9841999187197374, 0.9838001187277551, 0.9792006784717486, 0.984199198575651, 0.983199998655731, 0.9824007587438096, 0.9807998784396782, 0.9828007987838207, 0.9807997584156638, 0.979799118207571, 0.9744010381597151, 0.9803987581835374, 0.9759993979595438, 0.9821997185196815, 0.9788006384317374, 0.9779989980395278], 'HyperOpt': []}, 'Ada_Boost': {'Optuna': [0.9841993185996655, 0.9847997987437326, 0.9863999589037776, 0.986799518847731, 0.9877996789597662, 0.9852004389038159, 0.9857997188077391, 0.9861999988957791, 0.9862003589678222, 0.9858003189278111, 0.9887998390718016, 0.985199598735715, 0.9835993185516557, 0.9843992786076639, 0.9863999589037776, 0.9863994788077198, 0.9879995189437504, 0.9860005189838383, 0.9855996387757262, 0.983999358591667, 0.9843995186556928, 0.9868001189678032, 0.9867993988237167, 0.9877995589357519, 0.98580055897584, 0.9857997188077391], 'HyperOpt': []}, 'Grad_Boost': {'Optuna': [0.979799718327643, 0.9758006381916894, 0.9817991983836126, 0.9821999585677101, 0.9843991585836495, 0.9796010785838031, 0.9825985583195486, 0.9823999185757085, 0.9796008385357743, 0.9739996778555454, 0.9712004777915965, 0.9755993579195326, 0.9751999179995933, 0.9790004784157215, 0.9766008382957262, 0.9781987179994974, 0.9777992780795581, 0.976000958271731, 0.9746013582397567, 0.9768005582556958, 0.9730005979596398, 0.9751997979755789, 0.9720004378476045], 'HyperOpt': []}, 'Bagging_Classifier': {'Optuna': [], 'HyperOpt': []}, 'ExtraTreesClassifier': {'Optuna': [], 'HyperOpt': []}, 'Hist_Grad_Boost_Classifier': {'Optuna': [], 'HyperOpt': []}, 'Decision_Tree_Classifier': {'Optuna': [], 'HyperOpt': []}, 'XGB_Classifier': {'Optuna': [], 'HyperOpt': []}, 'KNN_Classifier': {'Optuna': [], 'HyperOpt': []}}\n",
      "\n",
      "\n",
      "Batch 3\n",
      "('\\n'\n",
      " \"Space: {'loss': 'exponential', 'n_estimators': 116, 'criterion': \"\n",
      " \"'squared_error', 'max_features': 'sqrt'}\")\n"
     ]
    },
    {
     "name": "stderr",
     "output_type": "stream",
     "text": [
      "[Parallel(n_jobs=-1)]: Done   3 out of   3 | elapsed:   18.3s finished\n",
      "[Parallel(n_jobs=-1)]: Using backend LokyBackend with 8 concurrent workers.\n"
     ]
    },
    {
     "name": "stdout",
     "output_type": "stream",
     "text": [
      "\n",
      "Accuracy of Grad_Boost: 0.9765997580795966\n",
      "\n",
      "Batchwise_accuracies: [0.9751997979755789, 0.9720004378476045, 0.9765997580795966]\n",
      "\n",
      "Batchwise_Median_Accuracy: 0.9751997979755789\n",
      "\n",
      "Accumulated Accuracies:\n",
      "{'Logistic_Regression': {'Optuna': [0.46279279558254016, 0.4274040750073275, 0.37198526681218375, 0.4565850335335094, 0.40799655195011414, 0.43138215094076027, 0.41100531394321377, 0.37338486684415817, 0.4611895147981208, 0.412395672126079, 0.47438819559017364, 0.47601140036098427, 0.462385074005607, 0.4256062352955579, 0.43138215094076027, 0.41100531394321377, 0.37338486684415817, 0.4611895147981208, 0.412395672126079, 0.47438819559017364, 0.47601140036098427, 0.462385074005607, 0.4256062352955579], 'HyperOpt': []}, 'SGD_Classifier': {'Optuna': [0.5031919186390813, 0.45941519979317463, 0.5387783187660187, 0.4933956786073758, 0.4823880361982826, 0.54839596306429, 0.4728127603770962, 0.5334030432808996, 0.449612118392648, 0.4353850718451748, 0.572011047970478, 0.46422612236256233, 0.5265819585182604, 0.4288073957837484, 0.46379187547844575], 'HyperOpt': []}, 'Random Forest': {'Optuna': [0.9811991983356031, 0.9775999181916318, 0.9819993984396399, 0.9807997584156638, 0.9851998387837438, 0.9818009987438286, 0.9837987984635966, 0.9854000388397711, 0.9836002787437711, 0.9806006385757661, 0.9862001189197934, 0.9812001585277184, 0.9809988782555613, 0.9816005586397726, 0.981799318407627, 0.9841999187197374, 0.9838001187277551, 0.9792006784717486, 0.984199198575651, 0.983199998655731, 0.9824007587438096, 0.9807998784396782, 0.9828007987838207, 0.9807997584156638, 0.979799118207571, 0.9744010381597151, 0.9803987581835374, 0.9759993979595438, 0.9821997185196815, 0.9788006384317374, 0.9779989980395278], 'HyperOpt': []}, 'Ada_Boost': {'Optuna': [0.9841993185996655, 0.9847997987437326, 0.9863999589037776, 0.986799518847731, 0.9877996789597662, 0.9852004389038159, 0.9857997188077391, 0.9861999988957791, 0.9862003589678222, 0.9858003189278111, 0.9887998390718016, 0.985199598735715, 0.9835993185516557, 0.9843992786076639, 0.9863999589037776, 0.9863994788077198, 0.9879995189437504, 0.9860005189838383, 0.9855996387757262, 0.983999358591667, 0.9843995186556928, 0.9868001189678032, 0.9867993988237167, 0.9877995589357519, 0.98580055897584, 0.9857997188077391], 'HyperOpt': []}, 'Grad_Boost': {'Optuna': [0.979799718327643, 0.9758006381916894, 0.9817991983836126, 0.9821999585677101, 0.9843991585836495, 0.9796010785838031, 0.9825985583195486, 0.9823999185757085, 0.9796008385357743, 0.9739996778555454, 0.9712004777915965, 0.9755993579195326, 0.9751999179995933, 0.9790004784157215, 0.9766008382957262, 0.9781987179994974, 0.9777992780795581, 0.976000958271731, 0.9746013582397567, 0.9768005582556958, 0.9730005979596398, 0.9751997979755789, 0.9720004378476045, 0.9765997580795966], 'HyperOpt': []}, 'Bagging_Classifier': {'Optuna': [], 'HyperOpt': []}, 'ExtraTreesClassifier': {'Optuna': [], 'HyperOpt': []}, 'Hist_Grad_Boost_Classifier': {'Optuna': [], 'HyperOpt': []}, 'Decision_Tree_Classifier': {'Optuna': [], 'HyperOpt': []}, 'XGB_Classifier': {'Optuna': [], 'HyperOpt': []}, 'KNN_Classifier': {'Optuna': [], 'HyperOpt': []}}\n",
      "\n",
      "\n",
      "Batch 4\n",
      "('\\n'\n",
      " \"Space: {'loss': 'exponential', 'n_estimators': 116, 'criterion': \"\n",
      " \"'squared_error', 'max_features': 'sqrt'}\")\n"
     ]
    },
    {
     "name": "stderr",
     "output_type": "stream",
     "text": [
      "[Parallel(n_jobs=-1)]: Done   3 out of   3 | elapsed:   17.8s finished\n",
      "[Parallel(n_jobs=-1)]: Using backend LokyBackend with 8 concurrent workers.\n"
     ]
    },
    {
     "name": "stdout",
     "output_type": "stream",
     "text": [
      "\n",
      "Accuracy of Grad_Boost: 0.9773998381596191\n",
      "\n",
      "Batchwise_accuracies: [0.9751997979755789, 0.9720004378476045, 0.9765997580795966, 0.9773998381596191]\n",
      "\n",
      "Batchwise_Median_Accuracy: 0.9758997780275878\n",
      "\n",
      "Accumulated Accuracies:\n",
      "{'Logistic_Regression': {'Optuna': [0.46279279558254016, 0.4274040750073275, 0.37198526681218375, 0.4565850335335094, 0.40799655195011414, 0.43138215094076027, 0.41100531394321377, 0.37338486684415817, 0.4611895147981208, 0.412395672126079, 0.47438819559017364, 0.47601140036098427, 0.462385074005607, 0.4256062352955579, 0.43138215094076027, 0.41100531394321377, 0.37338486684415817, 0.4611895147981208, 0.412395672126079, 0.47438819559017364, 0.47601140036098427, 0.462385074005607, 0.4256062352955579], 'HyperOpt': []}, 'SGD_Classifier': {'Optuna': [0.5031919186390813, 0.45941519979317463, 0.5387783187660187, 0.4933956786073758, 0.4823880361982826, 0.54839596306429, 0.4728127603770962, 0.5334030432808996, 0.449612118392648, 0.4353850718451748, 0.572011047970478, 0.46422612236256233, 0.5265819585182604, 0.4288073957837484, 0.46379187547844575], 'HyperOpt': []}, 'Random Forest': {'Optuna': [0.9811991983356031, 0.9775999181916318, 0.9819993984396399, 0.9807997584156638, 0.9851998387837438, 0.9818009987438286, 0.9837987984635966, 0.9854000388397711, 0.9836002787437711, 0.9806006385757661, 0.9862001189197934, 0.9812001585277184, 0.9809988782555613, 0.9816005586397726, 0.981799318407627, 0.9841999187197374, 0.9838001187277551, 0.9792006784717486, 0.984199198575651, 0.983199998655731, 0.9824007587438096, 0.9807998784396782, 0.9828007987838207, 0.9807997584156638, 0.979799118207571, 0.9744010381597151, 0.9803987581835374, 0.9759993979595438, 0.9821997185196815, 0.9788006384317374, 0.9779989980395278], 'HyperOpt': []}, 'Ada_Boost': {'Optuna': [0.9841993185996655, 0.9847997987437326, 0.9863999589037776, 0.986799518847731, 0.9877996789597662, 0.9852004389038159, 0.9857997188077391, 0.9861999988957791, 0.9862003589678222, 0.9858003189278111, 0.9887998390718016, 0.985199598735715, 0.9835993185516557, 0.9843992786076639, 0.9863999589037776, 0.9863994788077198, 0.9879995189437504, 0.9860005189838383, 0.9855996387757262, 0.983999358591667, 0.9843995186556928, 0.9868001189678032, 0.9867993988237167, 0.9877995589357519, 0.98580055897584, 0.9857997188077391], 'HyperOpt': []}, 'Grad_Boost': {'Optuna': [0.979799718327643, 0.9758006381916894, 0.9817991983836126, 0.9821999585677101, 0.9843991585836495, 0.9796010785838031, 0.9825985583195486, 0.9823999185757085, 0.9796008385357743, 0.9739996778555454, 0.9712004777915965, 0.9755993579195326, 0.9751999179995933, 0.9790004784157215, 0.9766008382957262, 0.9781987179994974, 0.9777992780795581, 0.976000958271731, 0.9746013582397567, 0.9768005582556958, 0.9730005979596398, 0.9751997979755789, 0.9720004378476045, 0.9765997580795966, 0.9773998381596191], 'HyperOpt': []}, 'Bagging_Classifier': {'Optuna': [], 'HyperOpt': []}, 'ExtraTreesClassifier': {'Optuna': [], 'HyperOpt': []}, 'Hist_Grad_Boost_Classifier': {'Optuna': [], 'HyperOpt': []}, 'Decision_Tree_Classifier': {'Optuna': [], 'HyperOpt': []}, 'XGB_Classifier': {'Optuna': [], 'HyperOpt': []}, 'KNN_Classifier': {'Optuna': [], 'HyperOpt': []}}\n",
      "\n",
      "\n",
      "Batch 5\n",
      "('\\n'\n",
      " \"Space: {'loss': 'exponential', 'n_estimators': 116, 'criterion': \"\n",
      " \"'squared_error', 'max_features': 'sqrt'}\")\n"
     ]
    },
    {
     "name": "stderr",
     "output_type": "stream",
     "text": [
      "[Parallel(n_jobs=-1)]: Done   3 out of   3 | elapsed:   17.8s finished\n",
      "[Parallel(n_jobs=-1)]: Using backend LokyBackend with 8 concurrent workers.\n"
     ]
    },
    {
     "name": "stdout",
     "output_type": "stream",
     "text": [
      "\n",
      "Accuracy of Grad_Boost: 0.9807997584156638\n",
      "\n",
      "Batchwise_accuracies: [0.9751997979755789, 0.9720004378476045, 0.9765997580795966, 0.9773998381596191, 0.9807997584156638]\n",
      "\n",
      "Batchwise_Median_Accuracy: 0.9765997580795966\n",
      "\n",
      "Accumulated Accuracies:\n",
      "{'Logistic_Regression': {'Optuna': [0.46279279558254016, 0.4274040750073275, 0.37198526681218375, 0.4565850335335094, 0.40799655195011414, 0.43138215094076027, 0.41100531394321377, 0.37338486684415817, 0.4611895147981208, 0.412395672126079, 0.47438819559017364, 0.47601140036098427, 0.462385074005607, 0.4256062352955579, 0.43138215094076027, 0.41100531394321377, 0.37338486684415817, 0.4611895147981208, 0.412395672126079, 0.47438819559017364, 0.47601140036098427, 0.462385074005607, 0.4256062352955579], 'HyperOpt': []}, 'SGD_Classifier': {'Optuna': [0.5031919186390813, 0.45941519979317463, 0.5387783187660187, 0.4933956786073758, 0.4823880361982826, 0.54839596306429, 0.4728127603770962, 0.5334030432808996, 0.449612118392648, 0.4353850718451748, 0.572011047970478, 0.46422612236256233, 0.5265819585182604, 0.4288073957837484, 0.46379187547844575], 'HyperOpt': []}, 'Random Forest': {'Optuna': [0.9811991983356031, 0.9775999181916318, 0.9819993984396399, 0.9807997584156638, 0.9851998387837438, 0.9818009987438286, 0.9837987984635966, 0.9854000388397711, 0.9836002787437711, 0.9806006385757661, 0.9862001189197934, 0.9812001585277184, 0.9809988782555613, 0.9816005586397726, 0.981799318407627, 0.9841999187197374, 0.9838001187277551, 0.9792006784717486, 0.984199198575651, 0.983199998655731, 0.9824007587438096, 0.9807998784396782, 0.9828007987838207, 0.9807997584156638, 0.979799118207571, 0.9744010381597151, 0.9803987581835374, 0.9759993979595438, 0.9821997185196815, 0.9788006384317374, 0.9779989980395278], 'HyperOpt': []}, 'Ada_Boost': {'Optuna': [0.9841993185996655, 0.9847997987437326, 0.9863999589037776, 0.986799518847731, 0.9877996789597662, 0.9852004389038159, 0.9857997188077391, 0.9861999988957791, 0.9862003589678222, 0.9858003189278111, 0.9887998390718016, 0.985199598735715, 0.9835993185516557, 0.9843992786076639, 0.9863999589037776, 0.9863994788077198, 0.9879995189437504, 0.9860005189838383, 0.9855996387757262, 0.983999358591667, 0.9843995186556928, 0.9868001189678032, 0.9867993988237167, 0.9877995589357519, 0.98580055897584, 0.9857997188077391], 'HyperOpt': []}, 'Grad_Boost': {'Optuna': [0.979799718327643, 0.9758006381916894, 0.9817991983836126, 0.9821999585677101, 0.9843991585836495, 0.9796010785838031, 0.9825985583195486, 0.9823999185757085, 0.9796008385357743, 0.9739996778555454, 0.9712004777915965, 0.9755993579195326, 0.9751999179995933, 0.9790004784157215, 0.9766008382957262, 0.9781987179994974, 0.9777992780795581, 0.976000958271731, 0.9746013582397567, 0.9768005582556958, 0.9730005979596398, 0.9751997979755789, 0.9720004378476045, 0.9765997580795966, 0.9773998381596191, 0.9807997584156638], 'HyperOpt': []}, 'Bagging_Classifier': {'Optuna': [], 'HyperOpt': []}, 'ExtraTreesClassifier': {'Optuna': [], 'HyperOpt': []}, 'Hist_Grad_Boost_Classifier': {'Optuna': [], 'HyperOpt': []}, 'Decision_Tree_Classifier': {'Optuna': [], 'HyperOpt': []}, 'XGB_Classifier': {'Optuna': [], 'HyperOpt': []}, 'KNN_Classifier': {'Optuna': [], 'HyperOpt': []}}\n",
      "\n",
      "\n",
      "Batch 6\n",
      "('\\n'\n",
      " \"Space: {'loss': 'exponential', 'n_estimators': 116, 'criterion': \"\n",
      " \"'squared_error', 'max_features': 'sqrt'}\")\n"
     ]
    },
    {
     "name": "stderr",
     "output_type": "stream",
     "text": [
      "[Parallel(n_jobs=-1)]: Done   3 out of   3 | elapsed:   17.9s finished\n",
      "[Parallel(n_jobs=-1)]: Using backend LokyBackend with 8 concurrent workers.\n"
     ]
    },
    {
     "name": "stdout",
     "output_type": "stream",
     "text": [
      "\n",
      "Accuracy of Grad_Boost: 0.9764009983117422\n",
      "\n",
      "Batchwise_accuracies: [0.9751997979755789, 0.9720004378476045, 0.9765997580795966, 0.9773998381596191, 0.9807997584156638, 0.9764009983117422]\n",
      "\n",
      "Batchwise_Median_Accuracy: 0.9765003781956694\n",
      "\n",
      "Accumulated Accuracies:\n",
      "{'Logistic_Regression': {'Optuna': [0.46279279558254016, 0.4274040750073275, 0.37198526681218375, 0.4565850335335094, 0.40799655195011414, 0.43138215094076027, 0.41100531394321377, 0.37338486684415817, 0.4611895147981208, 0.412395672126079, 0.47438819559017364, 0.47601140036098427, 0.462385074005607, 0.4256062352955579, 0.43138215094076027, 0.41100531394321377, 0.37338486684415817, 0.4611895147981208, 0.412395672126079, 0.47438819559017364, 0.47601140036098427, 0.462385074005607, 0.4256062352955579], 'HyperOpt': []}, 'SGD_Classifier': {'Optuna': [0.5031919186390813, 0.45941519979317463, 0.5387783187660187, 0.4933956786073758, 0.4823880361982826, 0.54839596306429, 0.4728127603770962, 0.5334030432808996, 0.449612118392648, 0.4353850718451748, 0.572011047970478, 0.46422612236256233, 0.5265819585182604, 0.4288073957837484, 0.46379187547844575], 'HyperOpt': []}, 'Random Forest': {'Optuna': [0.9811991983356031, 0.9775999181916318, 0.9819993984396399, 0.9807997584156638, 0.9851998387837438, 0.9818009987438286, 0.9837987984635966, 0.9854000388397711, 0.9836002787437711, 0.9806006385757661, 0.9862001189197934, 0.9812001585277184, 0.9809988782555613, 0.9816005586397726, 0.981799318407627, 0.9841999187197374, 0.9838001187277551, 0.9792006784717486, 0.984199198575651, 0.983199998655731, 0.9824007587438096, 0.9807998784396782, 0.9828007987838207, 0.9807997584156638, 0.979799118207571, 0.9744010381597151, 0.9803987581835374, 0.9759993979595438, 0.9821997185196815, 0.9788006384317374, 0.9779989980395278], 'HyperOpt': []}, 'Ada_Boost': {'Optuna': [0.9841993185996655, 0.9847997987437326, 0.9863999589037776, 0.986799518847731, 0.9877996789597662, 0.9852004389038159, 0.9857997188077391, 0.9861999988957791, 0.9862003589678222, 0.9858003189278111, 0.9887998390718016, 0.985199598735715, 0.9835993185516557, 0.9843992786076639, 0.9863999589037776, 0.9863994788077198, 0.9879995189437504, 0.9860005189838383, 0.9855996387757262, 0.983999358591667, 0.9843995186556928, 0.9868001189678032, 0.9867993988237167, 0.9877995589357519, 0.98580055897584, 0.9857997188077391], 'HyperOpt': []}, 'Grad_Boost': {'Optuna': [0.979799718327643, 0.9758006381916894, 0.9817991983836126, 0.9821999585677101, 0.9843991585836495, 0.9796010785838031, 0.9825985583195486, 0.9823999185757085, 0.9796008385357743, 0.9739996778555454, 0.9712004777915965, 0.9755993579195326, 0.9751999179995933, 0.9790004784157215, 0.9766008382957262, 0.9781987179994974, 0.9777992780795581, 0.976000958271731, 0.9746013582397567, 0.9768005582556958, 0.9730005979596398, 0.9751997979755789, 0.9720004378476045, 0.9765997580795966, 0.9773998381596191, 0.9807997584156638, 0.9764009983117422], 'HyperOpt': []}, 'Bagging_Classifier': {'Optuna': [], 'HyperOpt': []}, 'ExtraTreesClassifier': {'Optuna': [], 'HyperOpt': []}, 'Hist_Grad_Boost_Classifier': {'Optuna': [], 'HyperOpt': []}, 'Decision_Tree_Classifier': {'Optuna': [], 'HyperOpt': []}, 'XGB_Classifier': {'Optuna': [], 'HyperOpt': []}, 'KNN_Classifier': {'Optuna': [], 'HyperOpt': []}}\n",
      "\n",
      "\n",
      "Batch 7\n",
      "('\\n'\n",
      " \"Space: {'loss': 'exponential', 'n_estimators': 116, 'criterion': \"\n",
      " \"'squared_error', 'max_features': 'sqrt'}\")\n"
     ]
    },
    {
     "name": "stderr",
     "output_type": "stream",
     "text": [
      "[Parallel(n_jobs=-1)]: Done   3 out of   3 | elapsed:   17.3s finished\n",
      "[Parallel(n_jobs=-1)]: Using backend LokyBackend with 8 concurrent workers.\n"
     ]
    },
    {
     "name": "stdout",
     "output_type": "stream",
     "text": [
      "\n",
      "Accuracy of Grad_Boost: 0.9781983579274541\n",
      "\n",
      "Batchwise_accuracies: [0.9751997979755789, 0.9720004378476045, 0.9765997580795966, 0.9773998381596191, 0.9807997584156638, 0.9764009983117422, 0.9781983579274541]\n",
      "\n",
      "Batchwise_Median_Accuracy: 0.9765997580795966\n",
      "\n",
      "Accumulated Accuracies:\n",
      "{'Logistic_Regression': {'Optuna': [0.46279279558254016, 0.4274040750073275, 0.37198526681218375, 0.4565850335335094, 0.40799655195011414, 0.43138215094076027, 0.41100531394321377, 0.37338486684415817, 0.4611895147981208, 0.412395672126079, 0.47438819559017364, 0.47601140036098427, 0.462385074005607, 0.4256062352955579, 0.43138215094076027, 0.41100531394321377, 0.37338486684415817, 0.4611895147981208, 0.412395672126079, 0.47438819559017364, 0.47601140036098427, 0.462385074005607, 0.4256062352955579], 'HyperOpt': []}, 'SGD_Classifier': {'Optuna': [0.5031919186390813, 0.45941519979317463, 0.5387783187660187, 0.4933956786073758, 0.4823880361982826, 0.54839596306429, 0.4728127603770962, 0.5334030432808996, 0.449612118392648, 0.4353850718451748, 0.572011047970478, 0.46422612236256233, 0.5265819585182604, 0.4288073957837484, 0.46379187547844575], 'HyperOpt': []}, 'Random Forest': {'Optuna': [0.9811991983356031, 0.9775999181916318, 0.9819993984396399, 0.9807997584156638, 0.9851998387837438, 0.9818009987438286, 0.9837987984635966, 0.9854000388397711, 0.9836002787437711, 0.9806006385757661, 0.9862001189197934, 0.9812001585277184, 0.9809988782555613, 0.9816005586397726, 0.981799318407627, 0.9841999187197374, 0.9838001187277551, 0.9792006784717486, 0.984199198575651, 0.983199998655731, 0.9824007587438096, 0.9807998784396782, 0.9828007987838207, 0.9807997584156638, 0.979799118207571, 0.9744010381597151, 0.9803987581835374, 0.9759993979595438, 0.9821997185196815, 0.9788006384317374, 0.9779989980395278], 'HyperOpt': []}, 'Ada_Boost': {'Optuna': [0.9841993185996655, 0.9847997987437326, 0.9863999589037776, 0.986799518847731, 0.9877996789597662, 0.9852004389038159, 0.9857997188077391, 0.9861999988957791, 0.9862003589678222, 0.9858003189278111, 0.9887998390718016, 0.985199598735715, 0.9835993185516557, 0.9843992786076639, 0.9863999589037776, 0.9863994788077198, 0.9879995189437504, 0.9860005189838383, 0.9855996387757262, 0.983999358591667, 0.9843995186556928, 0.9868001189678032, 0.9867993988237167, 0.9877995589357519, 0.98580055897584, 0.9857997188077391], 'HyperOpt': []}, 'Grad_Boost': {'Optuna': [0.979799718327643, 0.9758006381916894, 0.9817991983836126, 0.9821999585677101, 0.9843991585836495, 0.9796010785838031, 0.9825985583195486, 0.9823999185757085, 0.9796008385357743, 0.9739996778555454, 0.9712004777915965, 0.9755993579195326, 0.9751999179995933, 0.9790004784157215, 0.9766008382957262, 0.9781987179994974, 0.9777992780795581, 0.976000958271731, 0.9746013582397567, 0.9768005582556958, 0.9730005979596398, 0.9751997979755789, 0.9720004378476045, 0.9765997580795966, 0.9773998381596191, 0.9807997584156638, 0.9764009983117422, 0.9781983579274541], 'HyperOpt': []}, 'Bagging_Classifier': {'Optuna': [], 'HyperOpt': []}, 'ExtraTreesClassifier': {'Optuna': [], 'HyperOpt': []}, 'Hist_Grad_Boost_Classifier': {'Optuna': [], 'HyperOpt': []}, 'Decision_Tree_Classifier': {'Optuna': [], 'HyperOpt': []}, 'XGB_Classifier': {'Optuna': [], 'HyperOpt': []}, 'KNN_Classifier': {'Optuna': [], 'HyperOpt': []}}\n",
      "\n",
      "\n",
      "Batch 8\n",
      "('\\n'\n",
      " \"Space: {'loss': 'exponential', 'n_estimators': 116, 'criterion': \"\n",
      " \"'squared_error', 'max_features': 'sqrt'}\")\n"
     ]
    },
    {
     "name": "stderr",
     "output_type": "stream",
     "text": [
      "[Parallel(n_jobs=-1)]: Done   3 out of   3 | elapsed:   17.5s finished\n",
      "[Parallel(n_jobs=-1)]: Using backend LokyBackend with 8 concurrent workers.\n"
     ]
    },
    {
     "name": "stdout",
     "output_type": "stream",
     "text": [
      "\n",
      "Accuracy of Grad_Boost: 0.9770000381676366\n",
      "\n",
      "Batchwise_accuracies: [0.9751997979755789, 0.9720004378476045, 0.9765997580795966, 0.9773998381596191, 0.9807997584156638, 0.9764009983117422, 0.9781983579274541, 0.9770000381676366]\n",
      "\n",
      "Batchwise_Median_Accuracy: 0.9767998981236166\n",
      "\n",
      "Accumulated Accuracies:\n",
      "{'Logistic_Regression': {'Optuna': [0.46279279558254016, 0.4274040750073275, 0.37198526681218375, 0.4565850335335094, 0.40799655195011414, 0.43138215094076027, 0.41100531394321377, 0.37338486684415817, 0.4611895147981208, 0.412395672126079, 0.47438819559017364, 0.47601140036098427, 0.462385074005607, 0.4256062352955579, 0.43138215094076027, 0.41100531394321377, 0.37338486684415817, 0.4611895147981208, 0.412395672126079, 0.47438819559017364, 0.47601140036098427, 0.462385074005607, 0.4256062352955579], 'HyperOpt': []}, 'SGD_Classifier': {'Optuna': [0.5031919186390813, 0.45941519979317463, 0.5387783187660187, 0.4933956786073758, 0.4823880361982826, 0.54839596306429, 0.4728127603770962, 0.5334030432808996, 0.449612118392648, 0.4353850718451748, 0.572011047970478, 0.46422612236256233, 0.5265819585182604, 0.4288073957837484, 0.46379187547844575], 'HyperOpt': []}, 'Random Forest': {'Optuna': [0.9811991983356031, 0.9775999181916318, 0.9819993984396399, 0.9807997584156638, 0.9851998387837438, 0.9818009987438286, 0.9837987984635966, 0.9854000388397711, 0.9836002787437711, 0.9806006385757661, 0.9862001189197934, 0.9812001585277184, 0.9809988782555613, 0.9816005586397726, 0.981799318407627, 0.9841999187197374, 0.9838001187277551, 0.9792006784717486, 0.984199198575651, 0.983199998655731, 0.9824007587438096, 0.9807998784396782, 0.9828007987838207, 0.9807997584156638, 0.979799118207571, 0.9744010381597151, 0.9803987581835374, 0.9759993979595438, 0.9821997185196815, 0.9788006384317374, 0.9779989980395278], 'HyperOpt': []}, 'Ada_Boost': {'Optuna': [0.9841993185996655, 0.9847997987437326, 0.9863999589037776, 0.986799518847731, 0.9877996789597662, 0.9852004389038159, 0.9857997188077391, 0.9861999988957791, 0.9862003589678222, 0.9858003189278111, 0.9887998390718016, 0.985199598735715, 0.9835993185516557, 0.9843992786076639, 0.9863999589037776, 0.9863994788077198, 0.9879995189437504, 0.9860005189838383, 0.9855996387757262, 0.983999358591667, 0.9843995186556928, 0.9868001189678032, 0.9867993988237167, 0.9877995589357519, 0.98580055897584, 0.9857997188077391], 'HyperOpt': []}, 'Grad_Boost': {'Optuna': [0.979799718327643, 0.9758006381916894, 0.9817991983836126, 0.9821999585677101, 0.9843991585836495, 0.9796010785838031, 0.9825985583195486, 0.9823999185757085, 0.9796008385357743, 0.9739996778555454, 0.9712004777915965, 0.9755993579195326, 0.9751999179995933, 0.9790004784157215, 0.9766008382957262, 0.9781987179994974, 0.9777992780795581, 0.976000958271731, 0.9746013582397567, 0.9768005582556958, 0.9730005979596398, 0.9751997979755789, 0.9720004378476045, 0.9765997580795966, 0.9773998381596191, 0.9807997584156638, 0.9764009983117422, 0.9781983579274541, 0.9770000381676366], 'HyperOpt': []}, 'Bagging_Classifier': {'Optuna': [], 'HyperOpt': []}, 'ExtraTreesClassifier': {'Optuna': [], 'HyperOpt': []}, 'Hist_Grad_Boost_Classifier': {'Optuna': [], 'HyperOpt': []}, 'Decision_Tree_Classifier': {'Optuna': [], 'HyperOpt': []}, 'XGB_Classifier': {'Optuna': [], 'HyperOpt': []}, 'KNN_Classifier': {'Optuna': [], 'HyperOpt': []}}\n",
      "\n",
      "\n",
      "Batch 9\n",
      "('\\n'\n",
      " \"Space: {'loss': 'exponential', 'n_estimators': 116, 'criterion': \"\n",
      " \"'squared_error', 'max_features': 'sqrt'}\")\n"
     ]
    },
    {
     "name": "stderr",
     "output_type": "stream",
     "text": [
      "[Parallel(n_jobs=-1)]: Done   3 out of   3 | elapsed:   17.5s finished\n",
      "[I 2024-01-28 21:57:21,039] Trial 2 pruned. \n",
      "[I 2024-01-28 21:57:21,041] A new study created in memory with name: no-name-b61dcf8d-26b2-45e1-b4cb-1748093cbae8\n",
      "[Parallel(n_jobs=-1)]: Using backend LokyBackend with 8 concurrent workers.\n"
     ]
    },
    {
     "name": "stdout",
     "output_type": "stream",
     "text": [
      "\n",
      "Accuracy of Grad_Boost: 0.975800518167675\n",
      "\n",
      "Batchwise_accuracies: [0.9751997979755789, 0.9720004378476045, 0.9765997580795966, 0.9773998381596191, 0.9807997584156638, 0.9764009983117422, 0.9781983579274541, 0.9770000381676366, 0.975800518167675]\n",
      "\n",
      "Batchwise_Median_Accuracy: 0.9765997580795966\n",
      "\n",
      "Accumulated Accuracies:\n",
      "{'Logistic_Regression': {'Optuna': [0.46279279558254016, 0.4274040750073275, 0.37198526681218375, 0.4565850335335094, 0.40799655195011414, 0.43138215094076027, 0.41100531394321377, 0.37338486684415817, 0.4611895147981208, 0.412395672126079, 0.47438819559017364, 0.47601140036098427, 0.462385074005607, 0.4256062352955579, 0.43138215094076027, 0.41100531394321377, 0.37338486684415817, 0.4611895147981208, 0.412395672126079, 0.47438819559017364, 0.47601140036098427, 0.462385074005607, 0.4256062352955579], 'HyperOpt': []}, 'SGD_Classifier': {'Optuna': [0.5031919186390813, 0.45941519979317463, 0.5387783187660187, 0.4933956786073758, 0.4823880361982826, 0.54839596306429, 0.4728127603770962, 0.5334030432808996, 0.449612118392648, 0.4353850718451748, 0.572011047970478, 0.46422612236256233, 0.5265819585182604, 0.4288073957837484, 0.46379187547844575], 'HyperOpt': []}, 'Random Forest': {'Optuna': [0.9811991983356031, 0.9775999181916318, 0.9819993984396399, 0.9807997584156638, 0.9851998387837438, 0.9818009987438286, 0.9837987984635966, 0.9854000388397711, 0.9836002787437711, 0.9806006385757661, 0.9862001189197934, 0.9812001585277184, 0.9809988782555613, 0.9816005586397726, 0.981799318407627, 0.9841999187197374, 0.9838001187277551, 0.9792006784717486, 0.984199198575651, 0.983199998655731, 0.9824007587438096, 0.9807998784396782, 0.9828007987838207, 0.9807997584156638, 0.979799118207571, 0.9744010381597151, 0.9803987581835374, 0.9759993979595438, 0.9821997185196815, 0.9788006384317374, 0.9779989980395278], 'HyperOpt': []}, 'Ada_Boost': {'Optuna': [0.9841993185996655, 0.9847997987437326, 0.9863999589037776, 0.986799518847731, 0.9877996789597662, 0.9852004389038159, 0.9857997188077391, 0.9861999988957791, 0.9862003589678222, 0.9858003189278111, 0.9887998390718016, 0.985199598735715, 0.9835993185516557, 0.9843992786076639, 0.9863999589037776, 0.9863994788077198, 0.9879995189437504, 0.9860005189838383, 0.9855996387757262, 0.983999358591667, 0.9843995186556928, 0.9868001189678032, 0.9867993988237167, 0.9877995589357519, 0.98580055897584, 0.9857997188077391], 'HyperOpt': []}, 'Grad_Boost': {'Optuna': [0.979799718327643, 0.9758006381916894, 0.9817991983836126, 0.9821999585677101, 0.9843991585836495, 0.9796010785838031, 0.9825985583195486, 0.9823999185757085, 0.9796008385357743, 0.9739996778555454, 0.9712004777915965, 0.9755993579195326, 0.9751999179995933, 0.9790004784157215, 0.9766008382957262, 0.9781987179994974, 0.9777992780795581, 0.976000958271731, 0.9746013582397567, 0.9768005582556958, 0.9730005979596398, 0.9751997979755789, 0.9720004378476045, 0.9765997580795966, 0.9773998381596191, 0.9807997584156638, 0.9764009983117422, 0.9781983579274541, 0.9770000381676366, 0.975800518167675], 'HyperOpt': []}, 'Bagging_Classifier': {'Optuna': [], 'HyperOpt': []}, 'ExtraTreesClassifier': {'Optuna': [], 'HyperOpt': []}, 'Hist_Grad_Boost_Classifier': {'Optuna': [], 'HyperOpt': []}, 'Decision_Tree_Classifier': {'Optuna': [], 'HyperOpt': []}, 'XGB_Classifier': {'Optuna': [], 'HyperOpt': []}, 'KNN_Classifier': {'Optuna': [], 'HyperOpt': []}}\n",
      "\n",
      "\n",
      "**************\n",
      "Trial_Number: 0\n",
      "**************\n",
      "\n",
      "Batch 1\n",
      "\"\\nSpace: {'n_estimators': 57}\"\n"
     ]
    },
    {
     "name": "stderr",
     "output_type": "stream",
     "text": [
      "[W 2024-01-28 22:00:08,803] Trial 0 failed with parameters: {'n_estimators': 57} because of the following error: KeyboardInterrupt().\n",
      "Traceback (most recent call last):\n",
      "  File \"f:\\iNeuron\\Projects\\scania_failures_2\\scania_truck\\Lib\\site-packages\\optuna\\study\\_optimize.py\", line 200, in _run_trial\n",
      "    value_or_values = func(trial)\n",
      "                      ^^^^^^^^^^^\n",
      "  File \"C:\\Users\\DELL\\AppData\\Local\\Temp\\ipykernel_2688\\650444866.py\", line 31, in optuna_objective\n",
      "    accuracy = cross_val_score(estimator=pipeline,\n",
      "               ^^^^^^^^^^^^^^^^^^^^^^^^^^^^^^^^^^^\n",
      "  File \"f:\\iNeuron\\Projects\\scania_failures_2\\scania_truck\\Lib\\site-packages\\sklearn\\model_selection\\_validation.py\", line 562, in cross_val_score\n",
      "    cv_results = cross_validate(\n",
      "                 ^^^^^^^^^^^^^^^\n",
      "  File \"f:\\iNeuron\\Projects\\scania_failures_2\\scania_truck\\Lib\\site-packages\\sklearn\\utils\\_param_validation.py\", line 214, in wrapper\n",
      "    return func(*args, **kwargs)\n",
      "           ^^^^^^^^^^^^^^^^^^^^^\n",
      "  File \"f:\\iNeuron\\Projects\\scania_failures_2\\scania_truck\\Lib\\site-packages\\sklearn\\model_selection\\_validation.py\", line 309, in cross_validate\n",
      "    results = parallel(\n",
      "              ^^^^^^^^^\n",
      "  File \"f:\\iNeuron\\Projects\\scania_failures_2\\scania_truck\\Lib\\site-packages\\sklearn\\utils\\parallel.py\", line 65, in __call__\n",
      "    return super().__call__(iterable_with_config)\n",
      "           ^^^^^^^^^^^^^^^^^^^^^^^^^^^^^^^^^^^^^^\n",
      "  File \"f:\\iNeuron\\Projects\\scania_failures_2\\scania_truck\\Lib\\site-packages\\joblib\\parallel.py\", line 1952, in __call__\n",
      "    return output if self.return_generator else list(output)\n",
      "                                                ^^^^^^^^^^^^\n",
      "  File \"f:\\iNeuron\\Projects\\scania_failures_2\\scania_truck\\Lib\\site-packages\\joblib\\parallel.py\", line 1595, in _get_outputs\n",
      "    yield from self._retrieve()\n",
      "  File \"f:\\iNeuron\\Projects\\scania_failures_2\\scania_truck\\Lib\\site-packages\\joblib\\parallel.py\", line 1707, in _retrieve\n",
      "    time.sleep(0.01)\n",
      "KeyboardInterrupt\n",
      "[W 2024-01-28 22:00:08,808] Trial 0 failed with value None.\n"
     ]
    },
    {
     "ename": "KeyboardInterrupt",
     "evalue": "",
     "output_type": "error",
     "traceback": [
      "\u001b[1;31m---------------------------------------------------------------------------\u001b[0m",
      "\u001b[1;31mKeyboardInterrupt\u001b[0m                         Traceback (most recent call last)",
      "Cell \u001b[1;32mIn[7], line 57\u001b[0m\n\u001b[0;32m     55\u001b[0m     \u001b[38;5;28;01mreturn\u001b[39;00m np\u001b[38;5;241m.\u001b[39mmean(batch_wise_accuracy)\n\u001b[0;32m     56\u001b[0m find_params \u001b[38;5;241m=\u001b[39m optuna\u001b[38;5;241m.\u001b[39mcreate_study(direction \u001b[38;5;241m=\u001b[39m \u001b[38;5;124m'\u001b[39m\u001b[38;5;124mmaximize\u001b[39m\u001b[38;5;124m'\u001b[39m,pruner\u001b[38;5;241m=\u001b[39moptuna\u001b[38;5;241m.\u001b[39mpruners\u001b[38;5;241m.\u001b[39mMedianPruner(),sampler \u001b[38;5;241m=\u001b[39m optuna\u001b[38;5;241m.\u001b[39msamplers\u001b[38;5;241m.\u001b[39mTPESampler(constant_liar\u001b[38;5;241m=\u001b[39m\u001b[38;5;28;01mTrue\u001b[39;00m))\n\u001b[1;32m---> 57\u001b[0m \u001b[43mfind_params\u001b[49m\u001b[38;5;241;43m.\u001b[39;49m\u001b[43moptimize\u001b[49m\u001b[43m(\u001b[49m\u001b[43mfunc\u001b[49m\u001b[43m \u001b[49m\u001b[38;5;241;43m=\u001b[39;49m\u001b[43m \u001b[49m\u001b[43moptuna_objective\u001b[49m\u001b[43m,\u001b[49m\n\u001b[0;32m     58\u001b[0m \u001b[43m                     \u001b[49m\u001b[43mn_trials\u001b[49m\u001b[43m \u001b[49m\u001b[38;5;241;43m=\u001b[39;49m\u001b[43m \u001b[49m\u001b[38;5;241;43m3\u001b[39;49m\u001b[43m)\u001b[49m\n",
      "File \u001b[1;32mf:\\iNeuron\\Projects\\scania_failures_2\\scania_truck\\Lib\\site-packages\\optuna\\study\\study.py:451\u001b[0m, in \u001b[0;36mStudy.optimize\u001b[1;34m(self, func, n_trials, timeout, n_jobs, catch, callbacks, gc_after_trial, show_progress_bar)\u001b[0m\n\u001b[0;32m    348\u001b[0m \u001b[38;5;28;01mdef\u001b[39;00m \u001b[38;5;21moptimize\u001b[39m(\n\u001b[0;32m    349\u001b[0m     \u001b[38;5;28mself\u001b[39m,\n\u001b[0;32m    350\u001b[0m     func: ObjectiveFuncType,\n\u001b[1;32m   (...)\u001b[0m\n\u001b[0;32m    357\u001b[0m     show_progress_bar: \u001b[38;5;28mbool\u001b[39m \u001b[38;5;241m=\u001b[39m \u001b[38;5;28;01mFalse\u001b[39;00m,\n\u001b[0;32m    358\u001b[0m ) \u001b[38;5;241m-\u001b[39m\u001b[38;5;241m>\u001b[39m \u001b[38;5;28;01mNone\u001b[39;00m:\n\u001b[0;32m    359\u001b[0m \u001b[38;5;250m    \u001b[39m\u001b[38;5;124;03m\"\"\"Optimize an objective function.\u001b[39;00m\n\u001b[0;32m    360\u001b[0m \n\u001b[0;32m    361\u001b[0m \u001b[38;5;124;03m    Optimization is done by choosing a suitable set of hyperparameter values from a given\u001b[39;00m\n\u001b[1;32m   (...)\u001b[0m\n\u001b[0;32m    449\u001b[0m \u001b[38;5;124;03m            If nested invocation of this method occurs.\u001b[39;00m\n\u001b[0;32m    450\u001b[0m \u001b[38;5;124;03m    \"\"\"\u001b[39;00m\n\u001b[1;32m--> 451\u001b[0m     \u001b[43m_optimize\u001b[49m\u001b[43m(\u001b[49m\n\u001b[0;32m    452\u001b[0m \u001b[43m        \u001b[49m\u001b[43mstudy\u001b[49m\u001b[38;5;241;43m=\u001b[39;49m\u001b[38;5;28;43mself\u001b[39;49m\u001b[43m,\u001b[49m\n\u001b[0;32m    453\u001b[0m \u001b[43m        \u001b[49m\u001b[43mfunc\u001b[49m\u001b[38;5;241;43m=\u001b[39;49m\u001b[43mfunc\u001b[49m\u001b[43m,\u001b[49m\n\u001b[0;32m    454\u001b[0m \u001b[43m        \u001b[49m\u001b[43mn_trials\u001b[49m\u001b[38;5;241;43m=\u001b[39;49m\u001b[43mn_trials\u001b[49m\u001b[43m,\u001b[49m\n\u001b[0;32m    455\u001b[0m \u001b[43m        \u001b[49m\u001b[43mtimeout\u001b[49m\u001b[38;5;241;43m=\u001b[39;49m\u001b[43mtimeout\u001b[49m\u001b[43m,\u001b[49m\n\u001b[0;32m    456\u001b[0m \u001b[43m        \u001b[49m\u001b[43mn_jobs\u001b[49m\u001b[38;5;241;43m=\u001b[39;49m\u001b[43mn_jobs\u001b[49m\u001b[43m,\u001b[49m\n\u001b[0;32m    457\u001b[0m \u001b[43m        \u001b[49m\u001b[43mcatch\u001b[49m\u001b[38;5;241;43m=\u001b[39;49m\u001b[38;5;28;43mtuple\u001b[39;49m\u001b[43m(\u001b[49m\u001b[43mcatch\u001b[49m\u001b[43m)\u001b[49m\u001b[43m \u001b[49m\u001b[38;5;28;43;01mif\u001b[39;49;00m\u001b[43m \u001b[49m\u001b[38;5;28;43misinstance\u001b[39;49m\u001b[43m(\u001b[49m\u001b[43mcatch\u001b[49m\u001b[43m,\u001b[49m\u001b[43m \u001b[49m\u001b[43mIterable\u001b[49m\u001b[43m)\u001b[49m\u001b[43m \u001b[49m\u001b[38;5;28;43;01melse\u001b[39;49;00m\u001b[43m \u001b[49m\u001b[43m(\u001b[49m\u001b[43mcatch\u001b[49m\u001b[43m,\u001b[49m\u001b[43m)\u001b[49m\u001b[43m,\u001b[49m\n\u001b[0;32m    458\u001b[0m \u001b[43m        \u001b[49m\u001b[43mcallbacks\u001b[49m\u001b[38;5;241;43m=\u001b[39;49m\u001b[43mcallbacks\u001b[49m\u001b[43m,\u001b[49m\n\u001b[0;32m    459\u001b[0m \u001b[43m        \u001b[49m\u001b[43mgc_after_trial\u001b[49m\u001b[38;5;241;43m=\u001b[39;49m\u001b[43mgc_after_trial\u001b[49m\u001b[43m,\u001b[49m\n\u001b[0;32m    460\u001b[0m \u001b[43m        \u001b[49m\u001b[43mshow_progress_bar\u001b[49m\u001b[38;5;241;43m=\u001b[39;49m\u001b[43mshow_progress_bar\u001b[49m\u001b[43m,\u001b[49m\n\u001b[0;32m    461\u001b[0m \u001b[43m    \u001b[49m\u001b[43m)\u001b[49m\n",
      "File \u001b[1;32mf:\\iNeuron\\Projects\\scania_failures_2\\scania_truck\\Lib\\site-packages\\optuna\\study\\_optimize.py:66\u001b[0m, in \u001b[0;36m_optimize\u001b[1;34m(study, func, n_trials, timeout, n_jobs, catch, callbacks, gc_after_trial, show_progress_bar)\u001b[0m\n\u001b[0;32m     64\u001b[0m \u001b[38;5;28;01mtry\u001b[39;00m:\n\u001b[0;32m     65\u001b[0m     \u001b[38;5;28;01mif\u001b[39;00m n_jobs \u001b[38;5;241m==\u001b[39m \u001b[38;5;241m1\u001b[39m:\n\u001b[1;32m---> 66\u001b[0m         \u001b[43m_optimize_sequential\u001b[49m\u001b[43m(\u001b[49m\n\u001b[0;32m     67\u001b[0m \u001b[43m            \u001b[49m\u001b[43mstudy\u001b[49m\u001b[43m,\u001b[49m\n\u001b[0;32m     68\u001b[0m \u001b[43m            \u001b[49m\u001b[43mfunc\u001b[49m\u001b[43m,\u001b[49m\n\u001b[0;32m     69\u001b[0m \u001b[43m            \u001b[49m\u001b[43mn_trials\u001b[49m\u001b[43m,\u001b[49m\n\u001b[0;32m     70\u001b[0m \u001b[43m            \u001b[49m\u001b[43mtimeout\u001b[49m\u001b[43m,\u001b[49m\n\u001b[0;32m     71\u001b[0m \u001b[43m            \u001b[49m\u001b[43mcatch\u001b[49m\u001b[43m,\u001b[49m\n\u001b[0;32m     72\u001b[0m \u001b[43m            \u001b[49m\u001b[43mcallbacks\u001b[49m\u001b[43m,\u001b[49m\n\u001b[0;32m     73\u001b[0m \u001b[43m            \u001b[49m\u001b[43mgc_after_trial\u001b[49m\u001b[43m,\u001b[49m\n\u001b[0;32m     74\u001b[0m \u001b[43m            \u001b[49m\u001b[43mreseed_sampler_rng\u001b[49m\u001b[38;5;241;43m=\u001b[39;49m\u001b[38;5;28;43;01mFalse\u001b[39;49;00m\u001b[43m,\u001b[49m\n\u001b[0;32m     75\u001b[0m \u001b[43m            \u001b[49m\u001b[43mtime_start\u001b[49m\u001b[38;5;241;43m=\u001b[39;49m\u001b[38;5;28;43;01mNone\u001b[39;49;00m\u001b[43m,\u001b[49m\n\u001b[0;32m     76\u001b[0m \u001b[43m            \u001b[49m\u001b[43mprogress_bar\u001b[49m\u001b[38;5;241;43m=\u001b[39;49m\u001b[43mprogress_bar\u001b[49m\u001b[43m,\u001b[49m\n\u001b[0;32m     77\u001b[0m \u001b[43m        \u001b[49m\u001b[43m)\u001b[49m\n\u001b[0;32m     78\u001b[0m     \u001b[38;5;28;01melse\u001b[39;00m:\n\u001b[0;32m     79\u001b[0m         \u001b[38;5;28;01mif\u001b[39;00m n_jobs \u001b[38;5;241m==\u001b[39m \u001b[38;5;241m-\u001b[39m\u001b[38;5;241m1\u001b[39m:\n",
      "File \u001b[1;32mf:\\iNeuron\\Projects\\scania_failures_2\\scania_truck\\Lib\\site-packages\\optuna\\study\\_optimize.py:163\u001b[0m, in \u001b[0;36m_optimize_sequential\u001b[1;34m(study, func, n_trials, timeout, catch, callbacks, gc_after_trial, reseed_sampler_rng, time_start, progress_bar)\u001b[0m\n\u001b[0;32m    160\u001b[0m         \u001b[38;5;28;01mbreak\u001b[39;00m\n\u001b[0;32m    162\u001b[0m \u001b[38;5;28;01mtry\u001b[39;00m:\n\u001b[1;32m--> 163\u001b[0m     frozen_trial \u001b[38;5;241m=\u001b[39m \u001b[43m_run_trial\u001b[49m\u001b[43m(\u001b[49m\u001b[43mstudy\u001b[49m\u001b[43m,\u001b[49m\u001b[43m \u001b[49m\u001b[43mfunc\u001b[49m\u001b[43m,\u001b[49m\u001b[43m \u001b[49m\u001b[43mcatch\u001b[49m\u001b[43m)\u001b[49m\n\u001b[0;32m    164\u001b[0m \u001b[38;5;28;01mfinally\u001b[39;00m:\n\u001b[0;32m    165\u001b[0m     \u001b[38;5;66;03m# The following line mitigates memory problems that can be occurred in some\u001b[39;00m\n\u001b[0;32m    166\u001b[0m     \u001b[38;5;66;03m# environments (e.g., services that use computing containers such as GitHub Actions).\u001b[39;00m\n\u001b[0;32m    167\u001b[0m     \u001b[38;5;66;03m# Please refer to the following PR for further details:\u001b[39;00m\n\u001b[0;32m    168\u001b[0m     \u001b[38;5;66;03m# https://github.com/optuna/optuna/pull/325.\u001b[39;00m\n\u001b[0;32m    169\u001b[0m     \u001b[38;5;28;01mif\u001b[39;00m gc_after_trial:\n",
      "File \u001b[1;32mf:\\iNeuron\\Projects\\scania_failures_2\\scania_truck\\Lib\\site-packages\\optuna\\study\\_optimize.py:251\u001b[0m, in \u001b[0;36m_run_trial\u001b[1;34m(study, func, catch)\u001b[0m\n\u001b[0;32m    244\u001b[0m         \u001b[38;5;28;01massert\u001b[39;00m \u001b[38;5;28;01mFalse\u001b[39;00m, \u001b[38;5;124m\"\u001b[39m\u001b[38;5;124mShould not reach.\u001b[39m\u001b[38;5;124m\"\u001b[39m\n\u001b[0;32m    246\u001b[0m \u001b[38;5;28;01mif\u001b[39;00m (\n\u001b[0;32m    247\u001b[0m     frozen_trial\u001b[38;5;241m.\u001b[39mstate \u001b[38;5;241m==\u001b[39m TrialState\u001b[38;5;241m.\u001b[39mFAIL\n\u001b[0;32m    248\u001b[0m     \u001b[38;5;129;01mand\u001b[39;00m func_err \u001b[38;5;129;01mis\u001b[39;00m \u001b[38;5;129;01mnot\u001b[39;00m \u001b[38;5;28;01mNone\u001b[39;00m\n\u001b[0;32m    249\u001b[0m     \u001b[38;5;129;01mand\u001b[39;00m \u001b[38;5;129;01mnot\u001b[39;00m \u001b[38;5;28misinstance\u001b[39m(func_err, catch)\n\u001b[0;32m    250\u001b[0m ):\n\u001b[1;32m--> 251\u001b[0m     \u001b[38;5;28;01mraise\u001b[39;00m func_err\n\u001b[0;32m    252\u001b[0m \u001b[38;5;28;01mreturn\u001b[39;00m frozen_trial\n",
      "File \u001b[1;32mf:\\iNeuron\\Projects\\scania_failures_2\\scania_truck\\Lib\\site-packages\\optuna\\study\\_optimize.py:200\u001b[0m, in \u001b[0;36m_run_trial\u001b[1;34m(study, func, catch)\u001b[0m\n\u001b[0;32m    198\u001b[0m \u001b[38;5;28;01mwith\u001b[39;00m get_heartbeat_thread(trial\u001b[38;5;241m.\u001b[39m_trial_id, study\u001b[38;5;241m.\u001b[39m_storage):\n\u001b[0;32m    199\u001b[0m     \u001b[38;5;28;01mtry\u001b[39;00m:\n\u001b[1;32m--> 200\u001b[0m         value_or_values \u001b[38;5;241m=\u001b[39m \u001b[43mfunc\u001b[49m\u001b[43m(\u001b[49m\u001b[43mtrial\u001b[49m\u001b[43m)\u001b[49m\n\u001b[0;32m    201\u001b[0m     \u001b[38;5;28;01mexcept\u001b[39;00m exceptions\u001b[38;5;241m.\u001b[39mTrialPruned \u001b[38;5;28;01mas\u001b[39;00m e:\n\u001b[0;32m    202\u001b[0m         \u001b[38;5;66;03m# TODO(mamu): Handle multi-objective cases.\u001b[39;00m\n\u001b[0;32m    203\u001b[0m         state \u001b[38;5;241m=\u001b[39m TrialState\u001b[38;5;241m.\u001b[39mPRUNED\n",
      "Cell \u001b[1;32mIn[7], line 31\u001b[0m, in \u001b[0;36moptuna_objective\u001b[1;34m(trial)\u001b[0m\n\u001b[0;32m     25\u001b[0m pipeline \u001b[38;5;241m=\u001b[39m Pipeline(steps \u001b[38;5;241m=\u001b[39m [(\u001b[38;5;124m\"\u001b[39m\u001b[38;5;124mKNN_Imputer\u001b[39m\u001b[38;5;124m\"\u001b[39m, KNNImputer()),\n\u001b[0;32m     26\u001b[0m                             (\u001b[38;5;124m\"\u001b[39m\u001b[38;5;124mRobust_Scaler\u001b[39m\u001b[38;5;124m\"\u001b[39m, RobustScaler()),\n\u001b[0;32m     27\u001b[0m                             (\u001b[38;5;124m\"\u001b[39m\u001b[38;5;124mSMOTETomek\u001b[39m\u001b[38;5;124m\"\u001b[39m, SMOTETomek(sampling_strategy \u001b[38;5;241m=\u001b[39m \u001b[38;5;124m\"\u001b[39m\u001b[38;5;124mminority\u001b[39m\u001b[38;5;124m\"\u001b[39m,random_state \u001b[38;5;241m=\u001b[39m \u001b[38;5;241m42\u001b[39m, n_jobs \u001b[38;5;241m=\u001b[39m \u001b[38;5;241m-\u001b[39m\u001b[38;5;241m1\u001b[39m)),\n\u001b[0;32m     28\u001b[0m                             (\u001b[38;5;124mf\u001b[39m\u001b[38;5;124m\"\u001b[39m\u001b[38;5;132;01m{\u001b[39;00mkey\u001b[38;5;132;01m}\u001b[39;00m\u001b[38;5;124m\"\u001b[39m, value(\u001b[38;5;241m*\u001b[39m\u001b[38;5;241m*\u001b[39mspace))])\n\u001b[0;32m     29\u001b[0m skf_cv \u001b[38;5;241m=\u001b[39m StratifiedKFold(n_splits \u001b[38;5;241m=\u001b[39m \u001b[38;5;241m3\u001b[39m, shuffle \u001b[38;5;241m=\u001b[39m \u001b[38;5;28;01mTrue\u001b[39;00m, random_state \u001b[38;5;241m=\u001b[39m \u001b[38;5;241m42\u001b[39m)\n\u001b[1;32m---> 31\u001b[0m accuracy \u001b[38;5;241m=\u001b[39m \u001b[43mcross_val_score\u001b[49m\u001b[43m(\u001b[49m\u001b[43mestimator\u001b[49m\u001b[38;5;241;43m=\u001b[39;49m\u001b[43mpipeline\u001b[49m\u001b[43m,\u001b[49m\n\u001b[0;32m     32\u001b[0m \u001b[43m                        \u001b[49m\u001b[43mX\u001b[49m\u001b[38;5;241;43m=\u001b[39;49m\u001b[43m \u001b[49m\u001b[43mx\u001b[49m\u001b[43m,\u001b[49m\n\u001b[0;32m     33\u001b[0m \u001b[43m                        \u001b[49m\u001b[43my\u001b[49m\u001b[43m \u001b[49m\u001b[38;5;241;43m=\u001b[39;49m\u001b[43m \u001b[49m\u001b[43my\u001b[49m\u001b[43m,\u001b[49m\n\u001b[0;32m     34\u001b[0m \u001b[43m                        \u001b[49m\u001b[43mscoring\u001b[49m\u001b[43m \u001b[49m\u001b[38;5;241;43m=\u001b[39;49m\u001b[43m \u001b[49m\u001b[38;5;124;43m'\u001b[39;49m\u001b[38;5;124;43maccuracy\u001b[39;49m\u001b[38;5;124;43m'\u001b[39;49m\u001b[43m,\u001b[49m\n\u001b[0;32m     35\u001b[0m \u001b[43m                        \u001b[49m\u001b[43mcv\u001b[49m\u001b[43m \u001b[49m\u001b[38;5;241;43m=\u001b[39;49m\u001b[43m \u001b[49m\u001b[43mskf_cv\u001b[49m\u001b[43m,\u001b[49m\n\u001b[0;32m     36\u001b[0m \u001b[43m                        \u001b[49m\u001b[43mn_jobs\u001b[49m\u001b[43m \u001b[49m\u001b[38;5;241;43m=\u001b[39;49m\u001b[43m \u001b[49m\u001b[38;5;241;43m-\u001b[39;49m\u001b[38;5;241;43m1\u001b[39;49m\u001b[43m,\u001b[49m\n\u001b[0;32m     37\u001b[0m \u001b[43m                        \u001b[49m\u001b[43mverbose\u001b[49m\u001b[43m \u001b[49m\u001b[38;5;241;43m=\u001b[39;49m\u001b[43m \u001b[49m\u001b[38;5;241;43m2\u001b[39;49m\u001b[43m)\u001b[49m\n\u001b[0;32m     38\u001b[0m \u001b[38;5;28mprint\u001b[39m(\u001b[38;5;124mf\u001b[39m\u001b[38;5;124m\"\u001b[39m\u001b[38;5;130;01m\\n\u001b[39;00m\u001b[38;5;124mAccuracy of \u001b[39m\u001b[38;5;132;01m{\u001b[39;00mkey\u001b[38;5;132;01m}\u001b[39;00m\u001b[38;5;124m: \u001b[39m\u001b[38;5;132;01m{\u001b[39;00mnp\u001b[38;5;241m.\u001b[39mmean(accuracy)\u001b[38;5;132;01m}\u001b[39;00m\u001b[38;5;124m\"\u001b[39m)\n\u001b[0;32m     39\u001b[0m batch_wise_accuracy\u001b[38;5;241m.\u001b[39mappend(np\u001b[38;5;241m.\u001b[39mmean(accuracy))\n",
      "File \u001b[1;32mf:\\iNeuron\\Projects\\scania_failures_2\\scania_truck\\Lib\\site-packages\\sklearn\\model_selection\\_validation.py:562\u001b[0m, in \u001b[0;36mcross_val_score\u001b[1;34m(estimator, X, y, groups, scoring, cv, n_jobs, verbose, fit_params, pre_dispatch, error_score)\u001b[0m\n\u001b[0;32m    559\u001b[0m \u001b[38;5;66;03m# To ensure multimetric format is not supported\u001b[39;00m\n\u001b[0;32m    560\u001b[0m scorer \u001b[38;5;241m=\u001b[39m check_scoring(estimator, scoring\u001b[38;5;241m=\u001b[39mscoring)\n\u001b[1;32m--> 562\u001b[0m cv_results \u001b[38;5;241m=\u001b[39m \u001b[43mcross_validate\u001b[49m\u001b[43m(\u001b[49m\n\u001b[0;32m    563\u001b[0m \u001b[43m    \u001b[49m\u001b[43mestimator\u001b[49m\u001b[38;5;241;43m=\u001b[39;49m\u001b[43mestimator\u001b[49m\u001b[43m,\u001b[49m\n\u001b[0;32m    564\u001b[0m \u001b[43m    \u001b[49m\u001b[43mX\u001b[49m\u001b[38;5;241;43m=\u001b[39;49m\u001b[43mX\u001b[49m\u001b[43m,\u001b[49m\n\u001b[0;32m    565\u001b[0m \u001b[43m    \u001b[49m\u001b[43my\u001b[49m\u001b[38;5;241;43m=\u001b[39;49m\u001b[43my\u001b[49m\u001b[43m,\u001b[49m\n\u001b[0;32m    566\u001b[0m \u001b[43m    \u001b[49m\u001b[43mgroups\u001b[49m\u001b[38;5;241;43m=\u001b[39;49m\u001b[43mgroups\u001b[49m\u001b[43m,\u001b[49m\n\u001b[0;32m    567\u001b[0m \u001b[43m    \u001b[49m\u001b[43mscoring\u001b[49m\u001b[38;5;241;43m=\u001b[39;49m\u001b[43m{\u001b[49m\u001b[38;5;124;43m\"\u001b[39;49m\u001b[38;5;124;43mscore\u001b[39;49m\u001b[38;5;124;43m\"\u001b[39;49m\u001b[43m:\u001b[49m\u001b[43m \u001b[49m\u001b[43mscorer\u001b[49m\u001b[43m}\u001b[49m\u001b[43m,\u001b[49m\n\u001b[0;32m    568\u001b[0m \u001b[43m    \u001b[49m\u001b[43mcv\u001b[49m\u001b[38;5;241;43m=\u001b[39;49m\u001b[43mcv\u001b[49m\u001b[43m,\u001b[49m\n\u001b[0;32m    569\u001b[0m \u001b[43m    \u001b[49m\u001b[43mn_jobs\u001b[49m\u001b[38;5;241;43m=\u001b[39;49m\u001b[43mn_jobs\u001b[49m\u001b[43m,\u001b[49m\n\u001b[0;32m    570\u001b[0m \u001b[43m    \u001b[49m\u001b[43mverbose\u001b[49m\u001b[38;5;241;43m=\u001b[39;49m\u001b[43mverbose\u001b[49m\u001b[43m,\u001b[49m\n\u001b[0;32m    571\u001b[0m \u001b[43m    \u001b[49m\u001b[43mfit_params\u001b[49m\u001b[38;5;241;43m=\u001b[39;49m\u001b[43mfit_params\u001b[49m\u001b[43m,\u001b[49m\n\u001b[0;32m    572\u001b[0m \u001b[43m    \u001b[49m\u001b[43mpre_dispatch\u001b[49m\u001b[38;5;241;43m=\u001b[39;49m\u001b[43mpre_dispatch\u001b[49m\u001b[43m,\u001b[49m\n\u001b[0;32m    573\u001b[0m \u001b[43m    \u001b[49m\u001b[43merror_score\u001b[49m\u001b[38;5;241;43m=\u001b[39;49m\u001b[43merror_score\u001b[49m\u001b[43m,\u001b[49m\n\u001b[0;32m    574\u001b[0m \u001b[43m\u001b[49m\u001b[43m)\u001b[49m\n\u001b[0;32m    575\u001b[0m \u001b[38;5;28;01mreturn\u001b[39;00m cv_results[\u001b[38;5;124m\"\u001b[39m\u001b[38;5;124mtest_score\u001b[39m\u001b[38;5;124m\"\u001b[39m]\n",
      "File \u001b[1;32mf:\\iNeuron\\Projects\\scania_failures_2\\scania_truck\\Lib\\site-packages\\sklearn\\utils\\_param_validation.py:214\u001b[0m, in \u001b[0;36mvalidate_params.<locals>.decorator.<locals>.wrapper\u001b[1;34m(*args, **kwargs)\u001b[0m\n\u001b[0;32m    208\u001b[0m \u001b[38;5;28;01mtry\u001b[39;00m:\n\u001b[0;32m    209\u001b[0m     \u001b[38;5;28;01mwith\u001b[39;00m config_context(\n\u001b[0;32m    210\u001b[0m         skip_parameter_validation\u001b[38;5;241m=\u001b[39m(\n\u001b[0;32m    211\u001b[0m             prefer_skip_nested_validation \u001b[38;5;129;01mor\u001b[39;00m global_skip_validation\n\u001b[0;32m    212\u001b[0m         )\n\u001b[0;32m    213\u001b[0m     ):\n\u001b[1;32m--> 214\u001b[0m         \u001b[38;5;28;01mreturn\u001b[39;00m \u001b[43mfunc\u001b[49m\u001b[43m(\u001b[49m\u001b[38;5;241;43m*\u001b[39;49m\u001b[43margs\u001b[49m\u001b[43m,\u001b[49m\u001b[43m \u001b[49m\u001b[38;5;241;43m*\u001b[39;49m\u001b[38;5;241;43m*\u001b[39;49m\u001b[43mkwargs\u001b[49m\u001b[43m)\u001b[49m\n\u001b[0;32m    215\u001b[0m \u001b[38;5;28;01mexcept\u001b[39;00m InvalidParameterError \u001b[38;5;28;01mas\u001b[39;00m e:\n\u001b[0;32m    216\u001b[0m     \u001b[38;5;66;03m# When the function is just a wrapper around an estimator, we allow\u001b[39;00m\n\u001b[0;32m    217\u001b[0m     \u001b[38;5;66;03m# the function to delegate validation to the estimator, but we replace\u001b[39;00m\n\u001b[0;32m    218\u001b[0m     \u001b[38;5;66;03m# the name of the estimator by the name of the function in the error\u001b[39;00m\n\u001b[0;32m    219\u001b[0m     \u001b[38;5;66;03m# message to avoid confusion.\u001b[39;00m\n\u001b[0;32m    220\u001b[0m     msg \u001b[38;5;241m=\u001b[39m re\u001b[38;5;241m.\u001b[39msub(\n\u001b[0;32m    221\u001b[0m         \u001b[38;5;124mr\u001b[39m\u001b[38;5;124m\"\u001b[39m\u001b[38;5;124mparameter of \u001b[39m\u001b[38;5;124m\\\u001b[39m\u001b[38;5;124mw+ must be\u001b[39m\u001b[38;5;124m\"\u001b[39m,\n\u001b[0;32m    222\u001b[0m         \u001b[38;5;124mf\u001b[39m\u001b[38;5;124m\"\u001b[39m\u001b[38;5;124mparameter of \u001b[39m\u001b[38;5;132;01m{\u001b[39;00mfunc\u001b[38;5;241m.\u001b[39m\u001b[38;5;18m__qualname__\u001b[39m\u001b[38;5;132;01m}\u001b[39;00m\u001b[38;5;124m must be\u001b[39m\u001b[38;5;124m\"\u001b[39m,\n\u001b[0;32m    223\u001b[0m         \u001b[38;5;28mstr\u001b[39m(e),\n\u001b[0;32m    224\u001b[0m     )\n",
      "File \u001b[1;32mf:\\iNeuron\\Projects\\scania_failures_2\\scania_truck\\Lib\\site-packages\\sklearn\\model_selection\\_validation.py:309\u001b[0m, in \u001b[0;36mcross_validate\u001b[1;34m(estimator, X, y, groups, scoring, cv, n_jobs, verbose, fit_params, pre_dispatch, return_train_score, return_estimator, return_indices, error_score)\u001b[0m\n\u001b[0;32m    306\u001b[0m \u001b[38;5;66;03m# We clone the estimator to make sure that all the folds are\u001b[39;00m\n\u001b[0;32m    307\u001b[0m \u001b[38;5;66;03m# independent, and that it is pickle-able.\u001b[39;00m\n\u001b[0;32m    308\u001b[0m parallel \u001b[38;5;241m=\u001b[39m Parallel(n_jobs\u001b[38;5;241m=\u001b[39mn_jobs, verbose\u001b[38;5;241m=\u001b[39mverbose, pre_dispatch\u001b[38;5;241m=\u001b[39mpre_dispatch)\n\u001b[1;32m--> 309\u001b[0m results \u001b[38;5;241m=\u001b[39m \u001b[43mparallel\u001b[49m\u001b[43m(\u001b[49m\n\u001b[0;32m    310\u001b[0m \u001b[43m    \u001b[49m\u001b[43mdelayed\u001b[49m\u001b[43m(\u001b[49m\u001b[43m_fit_and_score\u001b[49m\u001b[43m)\u001b[49m\u001b[43m(\u001b[49m\n\u001b[0;32m    311\u001b[0m \u001b[43m        \u001b[49m\u001b[43mclone\u001b[49m\u001b[43m(\u001b[49m\u001b[43mestimator\u001b[49m\u001b[43m)\u001b[49m\u001b[43m,\u001b[49m\n\u001b[0;32m    312\u001b[0m \u001b[43m        \u001b[49m\u001b[43mX\u001b[49m\u001b[43m,\u001b[49m\n\u001b[0;32m    313\u001b[0m \u001b[43m        \u001b[49m\u001b[43my\u001b[49m\u001b[43m,\u001b[49m\n\u001b[0;32m    314\u001b[0m \u001b[43m        \u001b[49m\u001b[43mscorers\u001b[49m\u001b[43m,\u001b[49m\n\u001b[0;32m    315\u001b[0m \u001b[43m        \u001b[49m\u001b[43mtrain\u001b[49m\u001b[43m,\u001b[49m\n\u001b[0;32m    316\u001b[0m \u001b[43m        \u001b[49m\u001b[43mtest\u001b[49m\u001b[43m,\u001b[49m\n\u001b[0;32m    317\u001b[0m \u001b[43m        \u001b[49m\u001b[43mverbose\u001b[49m\u001b[43m,\u001b[49m\n\u001b[0;32m    318\u001b[0m \u001b[43m        \u001b[49m\u001b[38;5;28;43;01mNone\u001b[39;49;00m\u001b[43m,\u001b[49m\n\u001b[0;32m    319\u001b[0m \u001b[43m        \u001b[49m\u001b[43mfit_params\u001b[49m\u001b[43m,\u001b[49m\n\u001b[0;32m    320\u001b[0m \u001b[43m        \u001b[49m\u001b[43mreturn_train_score\u001b[49m\u001b[38;5;241;43m=\u001b[39;49m\u001b[43mreturn_train_score\u001b[49m\u001b[43m,\u001b[49m\n\u001b[0;32m    321\u001b[0m \u001b[43m        \u001b[49m\u001b[43mreturn_times\u001b[49m\u001b[38;5;241;43m=\u001b[39;49m\u001b[38;5;28;43;01mTrue\u001b[39;49;00m\u001b[43m,\u001b[49m\n\u001b[0;32m    322\u001b[0m \u001b[43m        \u001b[49m\u001b[43mreturn_estimator\u001b[49m\u001b[38;5;241;43m=\u001b[39;49m\u001b[43mreturn_estimator\u001b[49m\u001b[43m,\u001b[49m\n\u001b[0;32m    323\u001b[0m \u001b[43m        \u001b[49m\u001b[43merror_score\u001b[49m\u001b[38;5;241;43m=\u001b[39;49m\u001b[43merror_score\u001b[49m\u001b[43m,\u001b[49m\n\u001b[0;32m    324\u001b[0m \u001b[43m    \u001b[49m\u001b[43m)\u001b[49m\n\u001b[0;32m    325\u001b[0m \u001b[43m    \u001b[49m\u001b[38;5;28;43;01mfor\u001b[39;49;00m\u001b[43m \u001b[49m\u001b[43mtrain\u001b[49m\u001b[43m,\u001b[49m\u001b[43m \u001b[49m\u001b[43mtest\u001b[49m\u001b[43m \u001b[49m\u001b[38;5;129;43;01min\u001b[39;49;00m\u001b[43m \u001b[49m\u001b[43mindices\u001b[49m\n\u001b[0;32m    326\u001b[0m \u001b[43m\u001b[49m\u001b[43m)\u001b[49m\n\u001b[0;32m    328\u001b[0m _warn_or_raise_about_fit_failures(results, error_score)\n\u001b[0;32m    330\u001b[0m \u001b[38;5;66;03m# For callable scoring, the return type is only know after calling. If the\u001b[39;00m\n\u001b[0;32m    331\u001b[0m \u001b[38;5;66;03m# return type is a dictionary, the error scores can now be inserted with\u001b[39;00m\n\u001b[0;32m    332\u001b[0m \u001b[38;5;66;03m# the correct key.\u001b[39;00m\n",
      "File \u001b[1;32mf:\\iNeuron\\Projects\\scania_failures_2\\scania_truck\\Lib\\site-packages\\sklearn\\utils\\parallel.py:65\u001b[0m, in \u001b[0;36mParallel.__call__\u001b[1;34m(self, iterable)\u001b[0m\n\u001b[0;32m     60\u001b[0m config \u001b[38;5;241m=\u001b[39m get_config()\n\u001b[0;32m     61\u001b[0m iterable_with_config \u001b[38;5;241m=\u001b[39m (\n\u001b[0;32m     62\u001b[0m     (_with_config(delayed_func, config), args, kwargs)\n\u001b[0;32m     63\u001b[0m     \u001b[38;5;28;01mfor\u001b[39;00m delayed_func, args, kwargs \u001b[38;5;129;01min\u001b[39;00m iterable\n\u001b[0;32m     64\u001b[0m )\n\u001b[1;32m---> 65\u001b[0m \u001b[38;5;28;01mreturn\u001b[39;00m \u001b[38;5;28;43msuper\u001b[39;49m\u001b[43m(\u001b[49m\u001b[43m)\u001b[49m\u001b[38;5;241;43m.\u001b[39;49m\u001b[38;5;21;43m__call__\u001b[39;49m\u001b[43m(\u001b[49m\u001b[43miterable_with_config\u001b[49m\u001b[43m)\u001b[49m\n",
      "File \u001b[1;32mf:\\iNeuron\\Projects\\scania_failures_2\\scania_truck\\Lib\\site-packages\\joblib\\parallel.py:1952\u001b[0m, in \u001b[0;36mParallel.__call__\u001b[1;34m(self, iterable)\u001b[0m\n\u001b[0;32m   1946\u001b[0m \u001b[38;5;66;03m# The first item from the output is blank, but it makes the interpreter\u001b[39;00m\n\u001b[0;32m   1947\u001b[0m \u001b[38;5;66;03m# progress until it enters the Try/Except block of the generator and\u001b[39;00m\n\u001b[0;32m   1948\u001b[0m \u001b[38;5;66;03m# reach the first `yield` statement. This starts the aynchronous\u001b[39;00m\n\u001b[0;32m   1949\u001b[0m \u001b[38;5;66;03m# dispatch of the tasks to the workers.\u001b[39;00m\n\u001b[0;32m   1950\u001b[0m \u001b[38;5;28mnext\u001b[39m(output)\n\u001b[1;32m-> 1952\u001b[0m \u001b[38;5;28;01mreturn\u001b[39;00m output \u001b[38;5;28;01mif\u001b[39;00m \u001b[38;5;28mself\u001b[39m\u001b[38;5;241m.\u001b[39mreturn_generator \u001b[38;5;28;01melse\u001b[39;00m \u001b[38;5;28mlist\u001b[39m(output)\n",
      "File \u001b[1;32mf:\\iNeuron\\Projects\\scania_failures_2\\scania_truck\\Lib\\site-packages\\joblib\\parallel.py:1595\u001b[0m, in \u001b[0;36mParallel._get_outputs\u001b[1;34m(self, iterator, pre_dispatch)\u001b[0m\n\u001b[0;32m   1592\u001b[0m     \u001b[38;5;28;01myield\u001b[39;00m\n\u001b[0;32m   1594\u001b[0m     \u001b[38;5;28;01mwith\u001b[39;00m \u001b[38;5;28mself\u001b[39m\u001b[38;5;241m.\u001b[39m_backend\u001b[38;5;241m.\u001b[39mretrieval_context():\n\u001b[1;32m-> 1595\u001b[0m         \u001b[38;5;28;01myield from\u001b[39;00m \u001b[38;5;28mself\u001b[39m\u001b[38;5;241m.\u001b[39m_retrieve()\n\u001b[0;32m   1597\u001b[0m \u001b[38;5;28;01mexcept\u001b[39;00m \u001b[38;5;167;01mGeneratorExit\u001b[39;00m:\n\u001b[0;32m   1598\u001b[0m     \u001b[38;5;66;03m# The generator has been garbage collected before being fully\u001b[39;00m\n\u001b[0;32m   1599\u001b[0m     \u001b[38;5;66;03m# consumed. This aborts the remaining tasks if possible and warn\u001b[39;00m\n\u001b[0;32m   1600\u001b[0m     \u001b[38;5;66;03m# the user if necessary.\u001b[39;00m\n\u001b[0;32m   1601\u001b[0m     \u001b[38;5;28mself\u001b[39m\u001b[38;5;241m.\u001b[39m_exception \u001b[38;5;241m=\u001b[39m \u001b[38;5;28;01mTrue\u001b[39;00m\n",
      "File \u001b[1;32mf:\\iNeuron\\Projects\\scania_failures_2\\scania_truck\\Lib\\site-packages\\joblib\\parallel.py:1707\u001b[0m, in \u001b[0;36mParallel._retrieve\u001b[1;34m(self)\u001b[0m\n\u001b[0;32m   1702\u001b[0m \u001b[38;5;66;03m# If the next job is not ready for retrieval yet, we just wait for\u001b[39;00m\n\u001b[0;32m   1703\u001b[0m \u001b[38;5;66;03m# async callbacks to progress.\u001b[39;00m\n\u001b[0;32m   1704\u001b[0m \u001b[38;5;28;01mif\u001b[39;00m ((\u001b[38;5;28mlen\u001b[39m(\u001b[38;5;28mself\u001b[39m\u001b[38;5;241m.\u001b[39m_jobs) \u001b[38;5;241m==\u001b[39m \u001b[38;5;241m0\u001b[39m) \u001b[38;5;129;01mor\u001b[39;00m\n\u001b[0;32m   1705\u001b[0m     (\u001b[38;5;28mself\u001b[39m\u001b[38;5;241m.\u001b[39m_jobs[\u001b[38;5;241m0\u001b[39m]\u001b[38;5;241m.\u001b[39mget_status(\n\u001b[0;32m   1706\u001b[0m         timeout\u001b[38;5;241m=\u001b[39m\u001b[38;5;28mself\u001b[39m\u001b[38;5;241m.\u001b[39mtimeout) \u001b[38;5;241m==\u001b[39m TASK_PENDING)):\n\u001b[1;32m-> 1707\u001b[0m     time\u001b[38;5;241m.\u001b[39msleep(\u001b[38;5;241m0.01\u001b[39m)\n\u001b[0;32m   1708\u001b[0m     \u001b[38;5;28;01mcontinue\u001b[39;00m\n\u001b[0;32m   1710\u001b[0m \u001b[38;5;66;03m# We need to be careful: the job list can be filling up as\u001b[39;00m\n\u001b[0;32m   1711\u001b[0m \u001b[38;5;66;03m# we empty it and Python list are not thread-safe by\u001b[39;00m\n\u001b[0;32m   1712\u001b[0m \u001b[38;5;66;03m# default hence the use of the lock\u001b[39;00m\n",
      "\u001b[1;31mKeyboardInterrupt\u001b[0m: "
     ]
    }
   ],
   "source": [
    "# batchwise_accuracies = {}\n",
    "params = load_yaml(PARAMS_PATH)\n",
    "accuracies = {}\n",
    "for keys in models.keys():\n",
    "    accuracies[keys] = {}\n",
    "    accuracies[keys]['Optuna'] = []\n",
    "    accuracies[keys]['HyperOpt'] = []\n",
    "\n",
    "for key,value in models.items():\n",
    "    def optuna_objective(trial):\n",
    "        batch_wise_accuracy = []\n",
    "        batch_number = 1\n",
    "        space = {}\n",
    "        flag = 0\n",
    "        print(f\"\\n**************\\nTrial_Number: {trial.number}\\n**************\")\n",
    "        for key_,value_ in params['optuna'][key].items():\n",
    "                space[key_] = eval(value_)\n",
    "        for batch in batch_list:\n",
    "            x = batch.drop(columns='class')\n",
    "            y = batch['class']\n",
    "            print(f\"\\nBatch {batch_number}\")\n",
    "            # for key,value in models.items():\n",
    "                       \n",
    "            pprint(f\"\\nSpace: {space}\",compact=True)\n",
    "            pipeline = Pipeline(steps = [(\"KNN_Imputer\", KNNImputer()),\n",
    "                                        (\"Robust_Scaler\", RobustScaler()),\n",
    "                                        (\"SMOTETomek\", SMOTETomek(sampling_strategy = \"minority\",random_state = 42, n_jobs = -1)),\n",
    "                                        (f\"{key}\", value(**space))])\n",
    "            skf_cv = StratifiedKFold(n_splits = 3, shuffle = True, random_state = 42)\n",
    "            \n",
    "            accuracy = cross_val_score(estimator=pipeline,\n",
    "                                    X= x,\n",
    "                                    y = y,\n",
    "                                    scoring = 'accuracy',\n",
    "                                    cv = skf_cv,\n",
    "                                    n_jobs = -1,\n",
    "                                    verbose = 2)\n",
    "            print(f\"\\nAccuracy of {key}: {np.mean(accuracy)}\")\n",
    "            batch_wise_accuracy.append(np.mean(accuracy))\n",
    "            accuracies[key]['Optuna'].append(np.mean(accuracy))\n",
    "            print(f\"\\nBatchwise_accuracies: {batch_wise_accuracy}\")         \n",
    "            print(f\"\\nBatchwise_Median_Accuracy: {np.median(batch_wise_accuracy)}\")         \n",
    "            print(f\"\\nAccumulated Accuracies:\\n{accuracies}\\n\")\n",
    "            batch_number += 1\n",
    "\n",
    "            trial.report(np.mean(accuracy),batch_number)\n",
    "            if (batch_number > 5) and (batch_number % 2 == 0):\n",
    "                 trial.study.set_user_attr('median_accuracy',np.median(batch_wise_accuracy))\n",
    "                 if np.mean(accuracy) < np.median(batch_wise_accuracy):\n",
    "                      flag = 1\n",
    "                      break\n",
    "\n",
    "        if flag == 1:\n",
    "             raise optuna.TrialPruned()\n",
    "        return np.mean(batch_wise_accuracy)\n",
    "    find_params = optuna.create_study(direction = 'maximize',pruner=optuna.pruners.MedianPruner(),sampler = optuna.samplers.TPESampler(constant_liar=True))\n",
    "    find_params.optimize(func = optuna_objective,\n",
    "                         n_trials = 3)\n",
    "    "
   ]
  },
  {
   "cell_type": "code",
   "execution_count": 9,
   "metadata": {},
   "outputs": [
    {
     "data": {
      "text/html": [
       "<div>\n",
       "<style scoped>\n",
       "    .dataframe tbody tr th:only-of-type {\n",
       "        vertical-align: middle;\n",
       "    }\n",
       "\n",
       "    .dataframe tbody tr th {\n",
       "        vertical-align: top;\n",
       "    }\n",
       "\n",
       "    .dataframe thead th {\n",
       "        text-align: right;\n",
       "    }\n",
       "</style>\n",
       "<table border=\"1\" class=\"dataframe\">\n",
       "  <thead>\n",
       "    <tr style=\"text-align: right;\">\n",
       "      <th></th>\n",
       "      <th>number</th>\n",
       "      <th>value</th>\n",
       "      <th>datetime_start</th>\n",
       "      <th>datetime_complete</th>\n",
       "      <th>duration</th>\n",
       "      <th>params_n_estimators</th>\n",
       "      <th>state</th>\n",
       "    </tr>\n",
       "  </thead>\n",
       "  <tbody>\n",
       "    <tr>\n",
       "      <th>0</th>\n",
       "      <td>0</td>\n",
       "      <td>None</td>\n",
       "      <td>2024-01-28 21:57:21.043754</td>\n",
       "      <td>2024-01-28 22:00:08.803868</td>\n",
       "      <td>0 days 00:02:47.760114</td>\n",
       "      <td>57</td>\n",
       "      <td>FAIL</td>\n",
       "    </tr>\n",
       "  </tbody>\n",
       "</table>\n",
       "</div>"
      ],
      "text/plain": [
       "   number value             datetime_start          datetime_complete  \\\n",
       "0       0  None 2024-01-28 21:57:21.043754 2024-01-28 22:00:08.803868   \n",
       "\n",
       "                duration  params_n_estimators state  \n",
       "0 0 days 00:02:47.760114                   57  FAIL  "
      ]
     },
     "execution_count": 9,
     "metadata": {},
     "output_type": "execute_result"
    }
   ],
   "source": [
    "find_params.trials_dataframe()"
   ]
  },
  {
   "cell_type": "code",
   "execution_count": 11,
   "metadata": {},
   "outputs": [
    {
     "name": "stdout",
     "output_type": "stream",
     "text": [
      "{'Ada_Boost': {'HyperOpt': [],\n",
      "               'Optuna': [0.9841993185996655, 0.9847997987437326,\n",
      "                          0.9863999589037776, 0.986799518847731,\n",
      "                          0.9877996789597662, 0.9852004389038159,\n",
      "                          0.9857997188077391, 0.9861999988957791,\n",
      "                          0.9862003589678222, 0.9858003189278111,\n",
      "                          0.9887998390718016, 0.985199598735715,\n",
      "                          0.9835993185516557, 0.9843992786076639,\n",
      "                          0.9863999589037776, 0.9863994788077198,\n",
      "                          0.9879995189437504, 0.9860005189838383,\n",
      "                          0.9855996387757262, 0.983999358591667,\n",
      "                          0.9843995186556928, 0.9868001189678032,\n",
      "                          0.9867993988237167, 0.9877995589357519,\n",
      "                          0.98580055897584, 0.9857997188077391]},\n",
      " 'Bagging_Classifier': {'HyperOpt': [], 'Optuna': []},\n",
      " 'Decision_Tree_Classifier': {'HyperOpt': [], 'Optuna': []},\n",
      " 'ExtraTreesClassifier': {'HyperOpt': [], 'Optuna': []},\n",
      " 'Grad_Boost': {'HyperOpt': [],\n",
      "                'Optuna': [0.979799718327643, 0.9758006381916894,\n",
      "                           0.9817991983836126, 0.9821999585677101,\n",
      "                           0.9843991585836495, 0.9796010785838031,\n",
      "                           0.9825985583195486, 0.9823999185757085,\n",
      "                           0.9796008385357743, 0.9739996778555454,\n",
      "                           0.9712004777915965, 0.9755993579195326,\n",
      "                           0.9751999179995933, 0.9790004784157215,\n",
      "                           0.9766008382957262, 0.9781987179994974,\n",
      "                           0.9777992780795581, 0.976000958271731,\n",
      "                           0.9746013582397567, 0.9768005582556958,\n",
      "                           0.9730005979596398, 0.9751997979755789,\n",
      "                           0.9720004378476045, 0.9765997580795966,\n",
      "                           0.9773998381596191, 0.9807997584156638,\n",
      "                           0.9764009983117422, 0.9781983579274541,\n",
      "                           0.9770000381676366, 0.975800518167675]},\n",
      " 'Hist_Grad_Boost_Classifier': {'HyperOpt': [], 'Optuna': []},\n",
      " 'KNN_Classifier': {'HyperOpt': [], 'Optuna': []},\n",
      " 'Logistic_Regression': {'HyperOpt': [],\n",
      "                         'Optuna': [0.46279279558254016, 0.4274040750073275,\n",
      "                                    0.37198526681218375, 0.4565850335335094,\n",
      "                                    0.40799655195011414, 0.43138215094076027,\n",
      "                                    0.41100531394321377, 0.37338486684415817,\n",
      "                                    0.4611895147981208, 0.412395672126079,\n",
      "                                    0.47438819559017364, 0.47601140036098427,\n",
      "                                    0.462385074005607, 0.4256062352955579,\n",
      "                                    0.43138215094076027, 0.41100531394321377,\n",
      "                                    0.37338486684415817, 0.4611895147981208,\n",
      "                                    0.412395672126079, 0.47438819559017364,\n",
      "                                    0.47601140036098427, 0.462385074005607,\n",
      "                                    0.4256062352955579]},\n",
      " 'Random Forest': {'HyperOpt': [],\n",
      "                   'Optuna': [0.9811991983356031, 0.9775999181916318,\n",
      "                              0.9819993984396399, 0.9807997584156638,\n",
      "                              0.9851998387837438, 0.9818009987438286,\n",
      "                              0.9837987984635966, 0.9854000388397711,\n",
      "                              0.9836002787437711, 0.9806006385757661,\n",
      "                              0.9862001189197934, 0.9812001585277184,\n",
      "                              0.9809988782555613, 0.9816005586397726,\n",
      "                              0.981799318407627, 0.9841999187197374,\n",
      "                              0.9838001187277551, 0.9792006784717486,\n",
      "                              0.984199198575651, 0.983199998655731,\n",
      "                              0.9824007587438096, 0.9807998784396782,\n",
      "                              0.9828007987838207, 0.9807997584156638,\n",
      "                              0.979799118207571, 0.9744010381597151,\n",
      "                              0.9803987581835374, 0.9759993979595438,\n",
      "                              0.9821997185196815, 0.9788006384317374,\n",
      "                              0.9779989980395278]},\n",
      " 'SGD_Classifier': {'HyperOpt': [],\n",
      "                    'Optuna': [0.5031919186390813, 0.45941519979317463,\n",
      "                               0.5387783187660187, 0.4933956786073758,\n",
      "                               0.4823880361982826, 0.54839596306429,\n",
      "                               0.4728127603770962, 0.5334030432808996,\n",
      "                               0.449612118392648, 0.4353850718451748,\n",
      "                               0.572011047970478, 0.46422612236256233,\n",
      "                               0.5265819585182604, 0.4288073957837484,\n",
      "                               0.46379187547844575]},\n",
      " 'XGB_Classifier': {'HyperOpt': [], 'Optuna': []}}\n"
     ]
    }
   ],
   "source": [
    "pprint(accuracies,compact=True)"
   ]
  },
  {
   "cell_type": "code",
   "execution_count": null,
   "metadata": {},
   "outputs": [],
   "source": [
    "np.median(accuracies['Logistic_Regression']['Optuna'][:5])"
   ]
  },
  {
   "cell_type": "code",
   "execution_count": null,
   "metadata": {},
   "outputs": [],
   "source": [
    "accuracies['Logistic_Regression']['Optuna'][:6]"
   ]
  },
  {
   "cell_type": "code",
   "execution_count": null,
   "metadata": {},
   "outputs": [],
   "source": [
    "find_params.user_attrs"
   ]
  },
  {
   "cell_type": "code",
   "execution_count": null,
   "metadata": {},
   "outputs": [],
   "source": [
    "find_params.trials_dataframe()"
   ]
  },
  {
   "cell_type": "code",
   "execution_count": null,
   "metadata": {},
   "outputs": [],
   "source": [
    "np.mean(accuracies['Logistic_Regression']['Optuna'][:24])"
   ]
  },
  {
   "cell_type": "code",
   "execution_count": null,
   "metadata": {},
   "outputs": [],
   "source": [
    "np.mean(accuracies['Logistic_Regression']['Optuna'])"
   ]
  },
  {
   "cell_type": "code",
   "execution_count": null,
   "metadata": {},
   "outputs": [],
   "source": [
    "np.mean(list(set(accuracies['Logistic_Regression']['Optuna'])))"
   ]
  },
  {
   "cell_type": "code",
   "execution_count": null,
   "metadata": {},
   "outputs": [],
   "source": [
    "# find_params = optuna.create_study(direction = 'maximize')\n",
    "# find_params.optimize(func = optuna_objective,\n",
    "#                      n_trials = 5)\n",
    "#                     #  n_jobs = -1)"
   ]
  },
  {
   "cell_type": "code",
   "execution_count": null,
   "metadata": {},
   "outputs": [],
   "source": [
    "space = {\n",
    "    'n_estimators': optuna.distributions.IntDistribution(100, 150),\n",
    "    'criterion' : optuna.distributions.CategoricalDistribution(['log_loss', 'entropy', 'gini']),\n",
    "    'max_features' : optuna.distributions.CategoricalDistribution(['sqrt', 'log2', None]),\n",
    "    'class_weight' : optuna.distributions.CategoricalDistribution(['balanced', 'balanced_subsample'])\n",
    "    }\n",
    "\n",
    "pipeline = Pipeline(steps = [(\"KNN_Imputer\", KNNImputer()),\n",
    "                                    (\"Robust_Scaler\", RobustScaler()),\n",
    "                                    (\"SMOTETomek\", SMOTETomek(sampling_strategy = \"minority\",random_state = 42, n_jobs = -1)),\n",
    "                                    (f\"Random Forest\", RandomForestClassifier(n_jobs=-1).set_params(**space))])\n",
    "skf_cv = StratifiedKFold(n_splits = 5, shuffle = True, random_state = 42)\n",
    "\n",
    "# optuna_search = optuna.integration.OptunaSearchCV(estimator = pipeline,\n",
    "#                                   param_distributions = {'verbose':optuna.distributions.CategoricalDistribution([True,False])},\n",
    "#                                   cv = skf_cv,\n",
    "#                                   n_jobs = -1,\n",
    "#                                   n_trials = 10,\n",
    "#                                   random_state = 42,\n",
    "#                                   refit = True,\n",
    "#                                   return_train_score = False,\n",
    "#                                   scoring = 'accuracy',\n",
    "#                                   verbose = 3)"
   ]
  },
  {
   "cell_type": "code",
   "execution_count": null,
   "metadata": {},
   "outputs": [],
   "source": [
    "pipeline"
   ]
  },
  {
   "cell_type": "code",
   "execution_count": null,
   "metadata": {},
   "outputs": [],
   "source": [
    "x = batch_list[2].drop(columns='class')\n",
    "y = batch_list[2]['class']\n",
    "optuna_search.fit(x,y)"
   ]
  },
  {
   "cell_type": "code",
   "execution_count": null,
   "metadata": {},
   "outputs": [],
   "source": []
  }
 ],
 "metadata": {
  "kernelspec": {
   "display_name": "Python 3",
   "language": "python",
   "name": "python3"
  },
  "language_info": {
   "codemirror_mode": {
    "name": "ipython",
    "version": 3
   },
   "file_extension": ".py",
   "mimetype": "text/x-python",
   "name": "python",
   "nbconvert_exporter": "python",
   "pygments_lexer": "ipython3",
   "version": "3.11.5"
  }
 },
 "nbformat": 4,
 "nbformat_minor": 2
}
