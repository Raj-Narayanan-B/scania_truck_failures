{
 "cells": [
  {
   "cell_type": "code",
   "execution_count": 8,
   "metadata": {},
   "outputs": [],
   "source": [
    "import pandas as pd\n",
    "import numpy as np\n",
    "import mlflow\n",
    "import mlflow.sklearn\n",
    "from pathlib import Path\n",
    "import os\n",
    "import string\n",
    "import warnings\n",
    "import matplotlib.pyplot as plt\n",
    "import seaborn as sns\n",
    "warnings.filterwarnings('ignore')\n",
    "import yaml\n",
    "\n",
    "# import ruamel.yaml as ryaml\n",
    "import json\n",
    "# import ast\n",
    "\n",
    "os.environ['MLFLOW_TRACKING_URI'] = 'https://dagshub.com/Raj-Narayanan-B/StudentMLProjectRegression.mlflow'\n",
    "os.environ['MLFLOW_TRACKING_USERNAME'] = 'Raj-Narayanan-B'\n",
    "os.environ['MLFLOW_TRACKING_PASSWORD'] = '8af4cc66be8aec751397fd525e47ae395fa67442'\n",
    "\n",
    "# from sklearn.linear_model import LogisticRegression\n",
    "# from sklearn.svm import SVC\n",
    "from sklearn.model_selection import train_test_split\n",
    "from sklearn.linear_model import LogisticRegression, SGDClassifier\n",
    "from sklearn.ensemble import (RandomForestClassifier, AdaBoostClassifier, \n",
    "                              GradientBoostingClassifier, BaggingClassifier, ExtraTreesClassifier, \n",
    "                              HistGradientBoostingClassifier, StackingClassifier, VotingClassifier)\n",
    "from sklearn.tree import DecisionTreeClassifier\n",
    "from xgboost import XGBClassifier\n",
    "# from catboost import CatBoostClassifier\n",
    "from sklearn.neighbors import KNeighborsClassifier\n",
    "from sklearn.neural_network import MLPClassifier\n",
    "\n",
    "from sklearn.metrics import (balanced_accuracy_score, f1_score,\n",
    "                             accuracy_score, confusion_matrix)\n",
    "\n",
    "from sklearn.model_selection import train_test_split, StratifiedKFold\n",
    "\n",
    "from src.constants import *\n",
    "from src.utils import load_yaml, parameter_tuning, stage_2_processing_function,eval_metrics, save_yaml, load_binary\n",
    "# from src.config.configuration_manager import ConfigurationManager\n",
    "# from src.entity.entity_config import DataSplitConf\n",
    "# from src.components.stage_5_model_tuning_and_tracking\n",
    "os.chdir('f:\\\\iNeuron\\\\Projects\\\\Scania_Truck_Failures')"
   ]
  },
  {
   "cell_type": "code",
   "execution_count": 90,
   "metadata": {},
   "outputs": [
    {
     "name": "stdout",
     "output_type": "stream",
     "text": [
      "Shape:  (10000, 171)\n",
      "NA:  [   0 7782  595 2475  443  124  116  107  790  115   99  489  125  127\n",
      " 3729 4459 6538 7287 7695 7938 8086 8171  128   39  126  563   81  785\n",
      "   65 1601 1658 2309  718 1719]\n",
      "Target Value_Counts:  class\n",
      "0    9805\n",
      "1     195\n",
      "Name: count, dtype: int64\n",
      "\n",
      "Transformed_train_df.shape: (88330, 171),\n",
      "Transformed_test_df.shape: (29406, 171)\n",
      "\n",
      "x_train.shape: (88330, 170),\n",
      "y_train.shape: (88330,),\n",
      "x_test.shape: (29406, 170),\n",
      "y_test.shape: (29406,)\n",
      "\n",
      "NA in train_data after preprocessing: [0]\n",
      "NA in test_data after preprocessing: [0]\n",
      "\n",
      "Value_counts in train_data after preprocessing: class\n",
      "0    44165\n",
      "1    44165\n",
      "Name: count, dtype: int64\n",
      "Value_counts in test_data after preprocessing: class\n",
      "0    14703\n",
      "1    14703\n",
      "Name: count, dtype: int64\n"
     ]
    }
   ],
   "source": [
    "df = pd.read_csv(\"F:\\iNeuron\\Projects\\scania_failures_2\\\\artifacts\\data\\processed\\stage_1_processing\\preprocessed_train_data.csv\").iloc[:10000:]\n",
    "print(\"Shape: \",df.shape)\n",
    "print(\"NA: \", df.isna().sum().unique())\n",
    "print(\"Target Value_Counts: \", df['class'].value_counts())\n",
    "# os.remove(\"F:\\iNeuron\\Projects\\scania_failures_2\\\\artifacts\\preprocessor\\preprocessor.joblib\")\n",
    "# train,test = train_test_split(df, test_size = 0.25, random_state=8)\n",
    "transformed_train_df = pd.read_csv(\"F:\\iNeuron\\Projects\\scania_failures_2\\\\artifacts\\data\\processed\\stage_2_processing\\processed_train_data.csv\")\n",
    "transformed_test_df = pd.read_csv(\"F:\\iNeuron\\Projects\\scania_failures_2\\\\artifacts\\data\\processed\\stage_2_processing\\processed_test_data.csv\")\n",
    "print(f\"\\nTransformed_train_df.shape: {transformed_train_df.shape},\\nTransformed_test_df.shape: {transformed_test_df.shape}\")\n",
    "x_train, y_train = transformed_train_df.drop(columns='class'), transformed_train_df['class']\n",
    "x_test, y_test = transformed_test_df.drop(columns = 'class'), transformed_test_df['class']\n",
    "print(f\"\\nx_train.shape: {x_train.shape},\\ny_train.shape: {y_train.shape},\\nx_test.shape: {x_test.shape},\\ny_test.shape: {y_test.shape}\")\n",
    "print(f\"\\nNA in train_data after preprocessing: {x_train.isna().sum().unique()}\")\n",
    "print(f\"NA in test_data after preprocessing: {x_test.isna().sum().unique()}\")\n",
    "print(f\"\\nValue_counts in train_data after preprocessing: {y_train.value_counts()}\")\n",
    "print(f\"Value_counts in test_data after preprocessing: {y_test.value_counts()}\")"
   ]
  },
  {
   "cell_type": "code",
   "execution_count": null,
   "metadata": {},
   "outputs": [],
   "source": [
    "from sklearn.datasets import make_classification"
   ]
  },
  {
   "cell_type": "code",
   "execution_count": null,
   "metadata": {},
   "outputs": [],
   "source": [
    "t_x, t_y = make_classification(n_samples=1000,\n",
    "                               n_features=170)\n",
    "t_x_df =pd.DataFrame(t_x, columns = x_test.columns)\n",
    "t_x_df.head()"
   ]
  },
  {
   "cell_type": "code",
   "execution_count": null,
   "metadata": {},
   "outputs": [],
   "source": [
    "t_x_df['class'] = t_y\n",
    "t_x_df.head()"
   ]
  },
  {
   "cell_type": "code",
   "execution_count": null,
   "metadata": {},
   "outputs": [],
   "source": [
    "source = mlflow.search_registered_models(filter_string = \"tags.model_type ilike 'champion'\")[0].latest_versions[0].source"
   ]
  },
  {
   "cell_type": "code",
   "execution_count": null,
   "metadata": {},
   "outputs": [],
   "source": [
    "model = mlflow.sklearn.load_model(source)"
   ]
  },
  {
   "cell_type": "code",
   "execution_count": null,
   "metadata": {},
   "outputs": [],
   "source": [
    "model"
   ]
  },
  {
   "cell_type": "code",
   "execution_count": null,
   "metadata": {},
   "outputs": [],
   "source": [
    "t_y_pred = model.predict(t_x_df.drop(columns=['class']))"
   ]
  },
  {
   "cell_type": "code",
   "execution_count": null,
   "metadata": {},
   "outputs": [],
   "source": [
    "eval_metrics(y_true=t_x_df['class'], y_pred = t_y_pred)"
   ]
  },
  {
   "cell_type": "code",
   "execution_count": null,
   "metadata": {},
   "outputs": [],
   "source": [
    "t_x_df.describe()"
   ]
  },
  {
   "cell_type": "code",
   "execution_count": null,
   "metadata": {},
   "outputs": [],
   "source": [
    "import random\n",
    "input_ = np.array([random.random() for i in range(170)]).reshape(1,-1)"
   ]
  },
  {
   "cell_type": "code",
   "execution_count": null,
   "metadata": {},
   "outputs": [],
   "source": [
    "model.predict(input_)"
   ]
  },
  {
   "cell_type": "code",
   "execution_count": null,
   "metadata": {},
   "outputs": [],
   "source": [
    "!pip list"
   ]
  },
  {
   "cell_type": "code",
   "execution_count": null,
   "metadata": {},
   "outputs": [],
   "source": [
    "from src.utils import load_yaml\n",
    "import pandas as pd\n",
    "\n",
    "sample_df = pd.DataFrame(load_yaml(r\"F:\\iNeuron\\Projects\\scania_failures_2\\artifacts\\metrics\\best_metric.yaml\").VotingClassifier).T.sort_values(by = 'Accuracy_Score', ascending=False)"
   ]
  },
  {
   "cell_type": "code",
   "execution_count": null,
   "metadata": {},
   "outputs": [],
   "source": [
    "mlflow.search_registered_models(filter_string=\"tags.model_type ilike 'Challenger'AND tags.model_type ilike 'Champion'\")"
   ]
  },
  {
   "cell_type": "code",
   "execution_count": null,
   "metadata": {},
   "outputs": [],
   "source": [
    "sources = {}\n",
    "models = {}\n",
    "for i in range(1):\n",
    "    model_name = mlflow.search_registered_models(filter_string=\"tags.model_type ilike 'Champion'\")[i].name\n",
    "    sources[model_name] = mlflow.search_registered_models(filter_string=\"tags.model_type ilike 'Champion'\")[i].latest_versions[0].source\n",
    "    model = mlflow.sklearn.load_model(sources[model_name])\n",
    "#     model_name = mlflow.search_registered_models(filter_string=\"tags.model_type ilike 'Challenger'\")[i].name\n",
    "    models[model_name] = model\n",
    "    # print(type(model_name))\n",
    "    # print(model_name)\n",
    "models"
   ]
  },
  {
   "cell_type": "code",
   "execution_count": null,
   "metadata": {},
   "outputs": [],
   "source": [
    "champion_source = {}\n",
    "for i in range(1):\n",
    "    model_name = mlflow.search_registered_models(filter_string=\"tags.model_type ilike 'Champion'\")[i].name\n",
    "    champion_source[model_name] = mlflow.search_registered_models(filter_string=\"tags.model_type ilike 'Champion'\")[i].latest_versions[0].source + \"/model.pkl\""
   ]
  },
  {
   "cell_type": "code",
   "execution_count": null,
   "metadata": {},
   "outputs": [],
   "source": [
    "champion_source"
   ]
  },
  {
   "cell_type": "code",
   "execution_count": null,
   "metadata": {},
   "outputs": [],
   "source": [
    "for i in range(2):\n",
    "    model_name = mlflow.search_registered_models(filter_string=\"tags.model_type ilike 'Challenger'\")[i].name\n",
    "    champion_source[model_name] = mlflow.search_registered_models(filter_string=\"tags.model_type ilike 'Challenger'\")[i].latest_versions[0].source + \"/model.pkl\"\n",
    "champion_source"
   ]
  },
  {
   "cell_type": "code",
   "execution_count": null,
   "metadata": {},
   "outputs": [],
   "source": [
    "champion_source"
   ]
  },
  {
   "cell_type": "code",
   "execution_count": null,
   "metadata": {},
   "outputs": [],
   "source": [
    "from src.utils import save_yaml\n",
    "\n",
    "\n",
    "save_yaml(file = champion_source,filepath='source.yaml')"
   ]
  },
  {
   "cell_type": "code",
   "execution_count": null,
   "metadata": {},
   "outputs": [],
   "source": [
    "champion_source"
   ]
  },
  {
   "cell_type": "code",
   "execution_count": null,
   "metadata": {},
   "outputs": [],
   "source": [
    "mlflow-artifacts:/cd6eb5acbadd414fb5d32e02d983d99b/b2aea20ef6094e1a94b1567aea90753f/artifacts/candidate_Voting_Classifier/model.pkl"
   ]
  },
  {
   "cell_type": "code",
   "execution_count": null,
   "metadata": {},
   "outputs": [],
   "source": [
    "sources"
   ]
  },
  {
   "cell_type": "code",
   "execution_count": null,
   "metadata": {},
   "outputs": [],
   "source": [
    "sample_df['models'] = models"
   ]
  },
  {
   "cell_type": "code",
   "execution_count": null,
   "metadata": {},
   "outputs": [],
   "source": [
    "sample_df"
   ]
  },
  {
   "cell_type": "code",
   "execution_count": null,
   "metadata": {},
   "outputs": [],
   "source": [
    "sample_df.iloc[:1, :]['Accuracy_Score'].index[0]"
   ]
  },
  {
   "cell_type": "code",
   "execution_count": null,
   "metadata": {},
   "outputs": [],
   "source": [
    "sample_df.iloc[:1, :]['Accuracy_Score'].values[0]"
   ]
  },
  {
   "cell_type": "code",
   "execution_count": null,
   "metadata": {},
   "outputs": [],
   "source": [
    "sample_df.iloc[:1,:]['models'].values[0]"
   ]
  },
  {
   "cell_type": "code",
   "execution_count": null,
   "metadata": {},
   "outputs": [],
   "source": [
    "for key,value in sources.items():\n",
    "    sources[key] = value+\"/model.pkl\""
   ]
  },
  {
   "cell_type": "code",
   "execution_count": null,
   "metadata": {},
   "outputs": [],
   "source": [
    "sources"
   ]
  },
  {
   "cell_type": "code",
   "execution_count": null,
   "metadata": {},
   "outputs": [],
   "source": [
    "from src.utils import save_yaml\n",
    "\n",
    "source = {\n",
    "    'candidate_Voting_Classifier': 'mlflow-artifacts:/cd6eb5acbadd414fb5d32e02d983d99b/b2aea20ef6094e1a94b1567aea90753f/artifacts/candidate_Voting_Classifier',\n",
    "    'challenger_LGBMClassifier' : 'mlflow-artifacts:/f2a1d0cb47994e43887a7bf8ff11fbc0/4f79ae8649044b24a593ec1c748e012b/artifacts/challenger_LGBMClassifier',\n",
    "    'candidate_Stacked_Classifier' : 'mlflow-artifacts:/aacd27cc7a9d429ab2439e37a4e8cdfb/d3eb9ead8a5c49f9b8299efea62d58a2/artifacts/candidate_Stacked_Classifier'\n",
    "}\n",
    "source"
   ]
  },
  {
   "cell_type": "code",
   "execution_count": null,
   "metadata": {},
   "outputs": [],
   "source": [
    "save_yaml(file = champion_source, filepath= r\"F:\\iNeuron\\Projects\\scania_failures_2\\champion_source.yaml\")"
   ]
  },
  {
   "cell_type": "code",
   "execution_count": null,
   "metadata": {},
   "outputs": [],
   "source": [
    "from pprint import pprint\n",
    "\n",
    "mlflow.search_registered_models(filter_string=\"tags.model_type ilike 'Champion'\")[0].latest_versions[0].run_id"
   ]
  },
  {
   "cell_type": "code",
   "execution_count": null,
   "metadata": {},
   "outputs": [],
   "source": [
    "from pprint import pprint\n",
    "import json\n",
    "model_detail = mlflow.get_run('b2aea20ef6094e1a94b1567aea90753f').data.tags['mlflow.log-model.history']\n",
    "pprint(json.loads(model_detail)[0], compact = True)"
   ]
  },
  {
   "cell_type": "code",
   "execution_count": null,
   "metadata": {},
   "outputs": [],
   "source": [
    "mlflow-artifacts:/cd6eb5acbadd414fb5d32e02d983d99b/b2aea20ef6094e1a94b1567aea90753f/artifacts/candidate_Voting_Classifier/model.pkl"
   ]
  },
  {
   "cell_type": "code",
   "execution_count": null,
   "metadata": {},
   "outputs": [],
   "source": [
    "mlflow-artifacts:/f2a1d0cb47994e43887a7bf8ff11fbc0/4f79ae8649044b24a593ec1c748e012b/artifacts/challenger_LGBMClassifier/model.pkl"
   ]
  },
  {
   "cell_type": "code",
   "execution_count": null,
   "metadata": {},
   "outputs": [],
   "source": [
    "mlflow-artifacts:/aacd27cc7a9d429ab2439e37a4e8cdfb/d3eb9ead8a5c49f9b8299efea62d58a2/artifacts/candidate_Stacked_Classifier/model.pkl"
   ]
  },
  {
   "cell_type": "code",
   "execution_count": null,
   "metadata": {},
   "outputs": [],
   "source": [
    "grad_boost_params = {\"criterion\": \"squared_error\",\n",
    "        \"loss\": \"exponential\",\n",
    "        'max_features': 'sqrt',\n",
    "        'n_estimators': 103}\n",
    "\n",
    "log_reg_params = {'penalty': 'l2'}\n",
    "\n",
    "xgb_params = {'booster': 'gbtree',\n",
    "        'learning_rate': 2.810313927552631,\n",
    "        'n_estimators': 658,\n",
    "        'tree_method': 'approx'}\n",
    "\n",
    "grd_boost_model = GradientBoostingClassifier(**grad_boost_params)\n",
    "log_reg_model = LogisticRegression(**log_reg_params)\n",
    "xgb_model = XGBClassifier(**xgb_params)\n",
    "estimators = [(\"grd_boost\",grd_boost_model),\n",
    "              (\"log_reg\",log_reg_model),\n",
    "              (\"xgb\", xgb_model)]\n",
    "\n",
    "final_estimator = XGBClassifier()\n",
    "stacked_classifer = StackingClassifier(estimators=estimators,\n",
    "                                       final_estimator=final_estimator,\n",
    "                                       cv=5,\n",
    "                                       passthrough = True)\n",
    "voting_classifier = VotingClassifier(estimators = estimators,\n",
    "                                                    voting = \"hard\",\n",
    "                                                    weights = None,\n",
    "                                                    n_jobs = -1,\n",
    "                                                    verbose = True)"
   ]
  },
  {
   "cell_type": "code",
   "execution_count": 27,
   "metadata": {},
   "outputs": [
    {
     "data": {
      "text/html": [
       "<pre style=\"white-space:pre;overflow-x:auto;line-height:normal;font-family:Menlo,'DejaVu Sans Mono',consolas,'Courier New',monospace\">Client created. Use the name of the repo <span style=\"font-weight: bold\">(</span>scania_truck<span style=\"font-weight: bold\">)</span> as the name of the bucket\n",
       "</pre>\n"
      ],
      "text/plain": [
       "Client created. Use the name of the repo \u001b[1m(\u001b[0mscania_truck\u001b[1m)\u001b[0m as the name of the bucket\n"
      ]
     },
     "metadata": {},
     "output_type": "display_data"
    },
    {
     "name": "stdout",
     "output_type": "stream",
     "text": [
      "[2024-02-13 23:24:37,024: INFO: helpers: Client created. Use the name of the repo (scania_truck) as the name of the bucket]\n"
     ]
    }
   ],
   "source": [
    "from dagshub import get_repo_bucket_client\n",
    "s3 = get_repo_bucket_client(\"Raj-Narayanan-B/scania_truck\")\n",
    "s3.upload_file(\n",
    "    Bucket=\"scania_truck\",  # name of the repo\n",
    "    Filename=r\"F:\\iNeuron\\Projects\\Data\\Scania Truck Failures\\aps_failure_training_set.csv\",  # local path of file to upload\n",
    "    Key=\"remote_aps_failure_training_set.csv\",  # remote path where to upload the file\n",
    ")"
   ]
  },
  {
   "cell_type": "code",
   "execution_count": 31,
   "metadata": {},
   "outputs": [],
   "source": [
    "s3.download_file(\n",
    "    Bucket=\"scania_truck\",  # name of the repo\n",
    "    Key=\"remote_aps_failure_training_set.csv\",  #  remote path from where to download the file\n",
    "    Filename=r\"F:\\iNeuron\\Projects\\scania_failures_2\\notebooks\\sample_train.csv\",  # local path where to download the file\n",
    ")"
   ]
  },
  {
   "cell_type": "code",
   "execution_count": 28,
   "metadata": {},
   "outputs": [],
   "source": [
    "s3.upload_file(\n",
    "    Bucket=\"scania_truck\",  # name of the repo\n",
    "    Filename=r\"F:\\iNeuron\\Projects\\Data\\Scania Truck Failures\\aps_failure_test_set.csv\",  # local path of file to upload\n",
    "    Key=\"remote_aps_failure_testing_set.csv\",  # remote path where to upload the file\n",
    ")"
   ]
  },
  {
   "cell_type": "code",
   "execution_count": 30,
   "metadata": {},
   "outputs": [],
   "source": [
    "s3.download_file(\n",
    "    Bucket=\"scania_truck\",  # name of the repo\n",
    "    Key=\"remote_aps_failure_testing_set.csv\",  #  remote path from where to download the file\n",
    "    Filename=r\"F:\\iNeuron\\Projects\\scania_failures_2\\artifacts\\data\\sample.csv\",  # local path where to download the file\n",
    ")\n"
   ]
  },
  {
   "cell_type": "code",
   "execution_count": null,
   "metadata": {},
   "outputs": [],
   "source": [
    "for i in range(len(estimators)):\n",
    "    print(estimators[i][0])"
   ]
  },
  {
   "cell_type": "code",
   "execution_count": null,
   "metadata": {},
   "outputs": [],
   "source": [
    "print([estimators[i][0] for i in range(len(estimators))])"
   ]
  },
  {
   "cell_type": "code",
   "execution_count": null,
   "metadata": {},
   "outputs": [],
   "source": [
    "from yaml import safe_dump\n",
    "yaml.dump(data = stacked_classifer.get_params(),\n",
    "                  stream = open('F:\\iNeuron\\Projects\\scania_failures_2\\sample.yaml', 'w'),\n",
    "                  indent = 4)"
   ]
  },
  {
   "cell_type": "code",
   "execution_count": null,
   "metadata": {},
   "outputs": [],
   "source": [
    "with open('F:\\iNeuron\\Projects\\scania_failures_2\\sample.yaml') as yaml_file:\n",
    "    yaml_file = yaml.load(yaml_file, Loader = yaml.CLoader)\n",
    "yaml_file"
   ]
  },
  {
   "cell_type": "code",
   "execution_count": null,
   "metadata": {},
   "outputs": [],
   "source": [
    "yaml_file['estimators'][1][1]"
   ]
  },
  {
   "cell_type": "code",
   "execution_count": null,
   "metadata": {},
   "outputs": [],
   "source": [
    "b_estimators = dict(grd_boost = grd_boost_model,\n",
    "                    log_reg = log_reg_model,\n",
    "                    xgb =  xgb_model)\n",
    "estimators_ = list(zip(b_estimators.keys(),b_estimators.values()))\n",
    "for i in range(len(estimators_)):\n",
    "    estimators_[0][i] = str(estimators_[0][i])"
   ]
  },
  {
   "cell_type": "code",
   "execution_count": null,
   "metadata": {},
   "outputs": [],
   "source": [
    "b_estimators"
   ]
  },
  {
   "cell_type": "code",
   "execution_count": null,
   "metadata": {},
   "outputs": [],
   "source": [
    "estimators_[0]"
   ]
  },
  {
   "cell_type": "code",
   "execution_count": null,
   "metadata": {},
   "outputs": [],
   "source": [
    "keys, values = zip(*estimators_)"
   ]
  },
  {
   "cell_type": "code",
   "execution_count": null,
   "metadata": {},
   "outputs": [],
   "source": [
    "keys"
   ]
  },
  {
   "cell_type": "code",
   "execution_count": null,
   "metadata": {},
   "outputs": [],
   "source": [
    "sample = {}\n",
    "for i in range(len(keys)):\n",
    "    sample[keys[i]] = values[i]\n",
    "sample"
   ]
  },
  {
   "cell_type": "code",
   "execution_count": null,
   "metadata": {},
   "outputs": [],
   "source": [
    "stacked_classifer.fit(X = x_train, y = y_train)\n",
    "y_pred_ = stacked_classifer.predict(X = x_test)\n",
    "cost_ = eval_metrics(y_true = y_test, y_pred=y_pred_)\n",
    "print(cost_)"
   ]
  },
  {
   "cell_type": "code",
   "execution_count": null,
   "metadata": {},
   "outputs": [],
   "source": [
    "voting_classifier.fit(x_train, y_train)\n",
    "y_pred = voting_classifier.predict(x_test)\n",
    "cost = eval_metrics(y_true = y_test , y_pred = y_pred)\n",
    "cost"
   ]
  },
  {
   "cell_type": "code",
   "execution_count": null,
   "metadata": {},
   "outputs": [],
   "source": [
    "voting_classifier.get_params()['flatten_transform']"
   ]
  },
  {
   "cell_type": "code",
   "execution_count": null,
   "metadata": {},
   "outputs": [],
   "source": [
    "StackingClassifier()"
   ]
  },
  {
   "cell_type": "code",
   "execution_count": null,
   "metadata": {},
   "outputs": [],
   "source": [
    "key, value = zip(*stacked_classifer.get_params()['estimators'])"
   ]
  },
  {
   "cell_type": "code",
   "execution_count": null,
   "metadata": {},
   "outputs": [],
   "source": [
    "report = {}\n",
    "report['estimators'] = stacked_classifer.get_params()['estimators']\n",
    "report['final_estimator'] = stacked_classifer.get_params()['final_estimator']\n",
    "report\n"
   ]
  },
  {
   "cell_type": "code",
   "execution_count": null,
   "metadata": {},
   "outputs": [],
   "source": [
    "report_1 = {}\n",
    "report_1['stack_method'] = stacked_classifer.get_params()['stack_method']\n",
    "report_1['passthrough'] = stacked_classifer.get_params()['passthrough']\n",
    "report_1"
   ]
  },
  {
   "cell_type": "code",
   "execution_count": null,
   "metadata": {},
   "outputs": [],
   "source": [
    "for i in report_1.keys():\n",
    "    report[i] = report_1[i]"
   ]
  },
  {
   "cell_type": "code",
   "execution_count": null,
   "metadata": {},
   "outputs": [],
   "source": [
    "report.keys()"
   ]
  },
  {
   "cell_type": "code",
   "execution_count": null,
   "metadata": {},
   "outputs": [],
   "source": [
    "sc = StackingClassifier(**report)\n",
    "sc\n"
   ]
  },
  {
   "cell_type": "code",
   "execution_count": null,
   "metadata": {},
   "outputs": [],
   "source": [
    "sc.get_params()"
   ]
  },
  {
   "cell_type": "code",
   "execution_count": null,
   "metadata": {},
   "outputs": [],
   "source": [
    "key"
   ]
  },
  {
   "cell_type": "code",
   "execution_count": null,
   "metadata": {},
   "outputs": [],
   "source": [
    "value"
   ]
  },
  {
   "cell_type": "code",
   "execution_count": null,
   "metadata": {},
   "outputs": [],
   "source": [
    "{'Stacked_Classifier': {'Logistic_Regression': {'C': 1.0, 'class_weight': None, 'dual': False, 'fit_intercept': True, 'intercept_scaling': 1, 'l1_ratio': None, 'max_iter': 100, 'multi_class': \n",
    "'auto', 'n_jobs': None, 'penalty': 'l2', 'random_state': None, 'solver': 'saga', 'tol': 0.0001, 'verbose': 0, 'warm_start': False}, 'SGD_Classifier': {'alpha': 0.0001, 'average': False, 'class_weight': None, 'early_stopping': False, 'epsilon': 0.1, 'eta0': 0.0, 'fit_intercept': True, 'l1_ratio': \n",
    "0.15, 'learning_rate': 'optimal', 'loss': 'huber', 'max_iter': 1000, 'n_iter_no_change': 5, 'n_jobs': None, 'penalty': 'l2', 'power_t': 0.5, 'random_state': None, 'shuffle': True, 'tol': 0.001, 'validation_fraction': 0.1, 'verbose': 0, 'warm_start': False}, 'Decision_Tree_Classifier': {'ccp_alpha': 0.0, 'class_weight': None, 'criterion': 'log_loss', 'max_depth': None, 'max_features': None, 'max_leaf_nodes': None, 'min_impurity_decrease': 0.0, 'min_samples_leaf': 1, 'min_samples_split': 2, 'min_weight_fraction_leaf': 0.0, 'random_state': None, 'splitter': 'best'}, 'KNN_Classifier': {'algorithm': 'brute', 'leaf_size': 30, 'metric': 'minkowski', 'metric_params': None, 'n_jobs': None, 'n_neighbors': 11, 'p': 2, 'weights': 'uniform'}}}"
   ]
  },
  {
   "cell_type": "code",
   "execution_count": null,
   "metadata": {},
   "outputs": [],
   "source": []
  },
  {
   "cell_type": "code",
   "execution_count": null,
   "metadata": {},
   "outputs": [],
   "source": []
  },
  {
   "cell_type": "code",
   "execution_count": null,
   "metadata": {},
   "outputs": [],
   "source": []
  },
  {
   "cell_type": "code",
   "execution_count": null,
   "metadata": {},
   "outputs": [],
   "source": [
    "yaml_r = yaml.YAML(typ='rt')\n",
    "\n",
    "# Read data from the YAML file\n",
    "with open('params.yaml') as yaml_file:\n",
    "    params_config = yaml_r.load(yaml_file)\n",
    "\n",
    "model_name = \"Stacked_Classifier\"\n",
    "model_class = stacked_classifer"
   ]
  },
  {
   "cell_type": "code",
   "execution_count": null,
   "metadata": {},
   "outputs": [],
   "source": [
    "params_config"
   ]
  },
  {
   "cell_type": "code",
   "execution_count": null,
   "metadata": {},
   "outputs": [],
   "source": []
  },
  {
   "cell_type": "code",
   "execution_count": null,
   "metadata": {},
   "outputs": [],
   "source": [
    "# criterion='squared_error', \n",
    "# loss='exponential',\n",
    "# max_features='sqrt', \n",
    "# n_estimators=103\n",
    "\n",
    "grad_boost_params"
   ]
  },
  {
   "cell_type": "code",
   "execution_count": null,
   "metadata": {},
   "outputs": [],
   "source": [
    "model.get_params()['grd_boost'].get_params()"
   ]
  },
  {
   "cell_type": "code",
   "execution_count": null,
   "metadata": {},
   "outputs": [],
   "source": [
    "model.get_params()['passthrough']"
   ]
  },
  {
   "cell_type": "code",
   "execution_count": null,
   "metadata": {},
   "outputs": [],
   "source": [
    "model.get_params()"
   ]
  },
  {
   "cell_type": "code",
   "execution_count": null,
   "metadata": {},
   "outputs": [],
   "source": [
    "import optuna\n",
    "def optuna_objective(trial):\n",
    "        space_optuna = {}\n",
    "        for key,value in params_config['optuna'][model_name].items():\n",
    "            space_optuna[key] = eval(value)\n",
    "        model = model_class\n",
    "        model.set_params(**space_optuna)\n",
    "        model.fit(x_train, y_train)\n",
    "        y_pred = model.predict(x_test)\n",
    "        cost = eval_metrics(y_true = y_test , y_pred = y_pred)\n",
    "    \n",
    "        return cost\n",
    "tuner_report = {}\n",
    "find_param=optuna.create_study(direction = \"minimize\")\n",
    "find_param.optimize(optuna_objective,n_trials=1)\n",
    "\n",
    "tuner_report['Optuna'] = {'cost':find_param.best_value, 'params': find_param.best_params}\n",
    "print (f\"Optuna: {model_name} --- {tuner_report['Optuna']}\\n\\n\")"
   ]
  },
  {
   "cell_type": "code",
   "execution_count": null,
   "metadata": {},
   "outputs": [],
   "source": [
    "find_param.best_params"
   ]
  },
  {
   "cell_type": "code",
   "execution_count": null,
   "metadata": {},
   "outputs": [],
   "source": [
    "data = {'hidden_layer_sizes': (500, 300, 200, 150),\n",
    " 'activation': 'tanh',\n",
    " 'learning_rate': 'invscaling',\n",
    " 'max_iter': 783}"
   ]
  },
  {
   "cell_type": "code",
   "execution_count": null,
   "metadata": {},
   "outputs": [],
   "source": [
    "model.get_params()['grd_boost'].get_params()"
   ]
  },
  {
   "cell_type": "code",
   "execution_count": null,
   "metadata": {},
   "outputs": [],
   "source": [
    "model.get_params()['log_reg']"
   ]
  },
  {
   "cell_type": "code",
   "execution_count": null,
   "metadata": {},
   "outputs": [],
   "source": [
    "model.get_params()['xgb'].get_params()"
   ]
  },
  {
   "cell_type": "code",
   "execution_count": null,
   "metadata": {},
   "outputs": [],
   "source": [
    "import ruamel.yaml as yaml\n",
    "yaml_ = yaml.YAML()\n",
    "with open('F:\\iNeuron\\Projects\\scania_failures_2\\sample.yaml', 'w') as f:\n",
    "    yaml_.dump(stacked_classifer.get_params(), f)\n"
   ]
  },
  {
   "cell_type": "code",
   "execution_count": null,
   "metadata": {},
   "outputs": [],
   "source": [
    "from src.utils import save_yaml\n",
    "\n",
    "\n",
    "save_yaml(tuner_report,'F:\\iNeuron\\Projects\\scania_failures_2\\sample.yaml')"
   ]
  },
  {
   "cell_type": "code",
   "execution_count": null,
   "metadata": {},
   "outputs": [],
   "source": [
    "file_path = r'F:\\iNeuron\\Projects\\scania_failures_2\\sample.json'\n",
    "\n",
    "with open(file_path, 'w') as file:\n",
    "    json.dump(obj=sc, fp=file, indent = 2)"
   ]
  },
  {
   "cell_type": "code",
   "execution_count": null,
   "metadata": {},
   "outputs": [],
   "source": [
    "with open(file_path,'r') as file:\n",
    "    data = json.load(file)\n",
    "data"
   ]
  },
  {
   "cell_type": "code",
   "execution_count": null,
   "metadata": {},
   "outputs": [],
   "source": []
  },
  {
   "cell_type": "code",
   "execution_count": null,
   "metadata": {},
   "outputs": [],
   "source": [
    "load_yaml(Path('F:\\iNeuron\\Projects\\scania_failures_2\\sample.yaml'))"
   ]
  },
  {
   "cell_type": "code",
   "execution_count": null,
   "metadata": {},
   "outputs": [],
   "source": []
  },
  {
   "cell_type": "code",
   "execution_count": null,
   "metadata": {},
   "outputs": [],
   "source": [
    "import json\n",
    "print(json.dumps(find_param.best_params))"
   ]
  },
  {
   "cell_type": "code",
   "execution_count": null,
   "metadata": {},
   "outputs": [],
   "source": [
    "pwd"
   ]
  },
  {
   "cell_type": "code",
   "execution_count": 1,
   "metadata": {},
   "outputs": [
    {
     "data": {
      "text/plain": [
       "{'Challenger_LGBMClassifier': 'mlflow-artifacts:/f2a1d0cb47994e43887a7bf8ff11fbc0/4f79ae8649044b24a593ec1c748e012b/artifacts/challenger_LGBMClassifier/model.pkl',\n",
       " 'Challenger_Stacked_Classifier': 'mlflow-artifacts:/aacd27cc7a9d429ab2439e37a4e8cdfb/d3eb9ead8a5c49f9b8299efea62d58a2/artifacts/candidate_Stacked_Classifier/model.pkl',\n",
       " 'Challenger_Voting_Classifier': 'mlflow-artifacts:/cd6eb5acbadd414fb5d32e02d983d99b/b2aea20ef6094e1a94b1567aea90753f/artifacts/candidate_Voting_Classifier/model.pkl'}"
      ]
     },
     "execution_count": 1,
     "metadata": {},
     "output_type": "execute_result"
    }
   ],
   "source": [
    "import yaml\n",
    "\n",
    "with open(r\"F:\\iNeuron\\Projects\\scania_failures_2\\mlflow_model_sources.yaml\", \"r\") as f:\n",
    "    model_names = yaml.safe_load(f)\n",
    "\n",
    "model_names"
   ]
  },
  {
   "cell_type": "code",
   "execution_count": 18,
   "metadata": {},
   "outputs": [
    {
     "data": {
      "text/plain": [
       "[]"
      ]
     },
     "execution_count": 18,
     "metadata": {},
     "output_type": "execute_result"
    }
   ],
   "source": [
    "mlflow.search_registered_models(filter_string=\"tags.model ilike 'Light_GBM' AND tags.run_type ilike 'parent'\")#[0].latest_versions[0].source"
   ]
  },
  {
   "cell_type": "code",
   "execution_count": null,
   "metadata": {},
   "outputs": [],
   "source": []
  },
  {
   "cell_type": "code",
   "execution_count": 52,
   "metadata": {},
   "outputs": [
    {
     "data": {
      "text/plain": [
       "'19190e88c698476496ef9f0f377da335'"
      ]
     },
     "execution_count": 52,
     "metadata": {},
     "output_type": "execute_result"
    }
   ],
   "source": [
    "exp_count = 282\n",
    "mlflow.search_runs(experiment_names = [f\"{exp_count}_Light_GBM_{exp_count}\"],\n",
    "                   filter_string = \"tags.model ilike 'Light_GBM' and tags.run_type ilike 'parent'\")['run_id'][0] #AND tags.run_type ilike 'parent\")"
   ]
  },
  {
   "cell_type": "code",
   "execution_count": 40,
   "metadata": {},
   "outputs": [
    {
     "data": {
      "text/plain": [
       "{'boosting_type': 'gbdt',\n",
       " 'class_weight': 'balanced',\n",
       " 'colsample_bytree': '1.0',\n",
       " 'importance_type': 'split',\n",
       " 'learning_rate': '0.5986318983049539',\n",
       " 'max_depth': '-1',\n",
       " 'min_child_samples': '20',\n",
       " 'min_child_weight': '0.001',\n",
       " 'min_split_gain': '0.0',\n",
       " 'n_estimators': '145',\n",
       " 'n_jobs': '-1',\n",
       " 'num_leaves': '31',\n",
       " 'objective': 'None',\n",
       " 'random_state': 'None',\n",
       " 'reg_alpha': '0.0',\n",
       " 'reg_lambda': '0.0',\n",
       " 'subsample': '1.0',\n",
       " 'subsample_for_bin': '200000',\n",
       " 'subsample_freq': '0'}"
      ]
     },
     "execution_count": 40,
     "metadata": {},
     "output_type": "execute_result"
    }
   ],
   "source": [
    "mlflow.get_run('19190e88c698476496ef9f0f377da335').data.params\n"
   ]
  },
  {
   "cell_type": "code",
   "execution_count": 42,
   "metadata": {},
   "outputs": [],
   "source": [
    "from src.utils import params_evaluator\n",
    "params = params_evaluator(mlflow.get_run('19190e88c698476496ef9f0f377da335').data.params)"
   ]
  },
  {
   "cell_type": "code",
   "execution_count": 44,
   "metadata": {},
   "outputs": [],
   "source": [
    "from lightgbm import LGBMClassifier\n",
    "light_gbm = LGBMClassifier(**params)"
   ]
  },
  {
   "cell_type": "code",
   "execution_count": 46,
   "metadata": {},
   "outputs": [
    {
     "data": {
      "text/html": [
       "<style>#sk-container-id-5 {color: black;}#sk-container-id-5 pre{padding: 0;}#sk-container-id-5 div.sk-toggleable {background-color: white;}#sk-container-id-5 label.sk-toggleable__label {cursor: pointer;display: block;width: 100%;margin-bottom: 0;padding: 0.3em;box-sizing: border-box;text-align: center;}#sk-container-id-5 label.sk-toggleable__label-arrow:before {content: \"▸\";float: left;margin-right: 0.25em;color: #696969;}#sk-container-id-5 label.sk-toggleable__label-arrow:hover:before {color: black;}#sk-container-id-5 div.sk-estimator:hover label.sk-toggleable__label-arrow:before {color: black;}#sk-container-id-5 div.sk-toggleable__content {max-height: 0;max-width: 0;overflow: hidden;text-align: left;background-color: #f0f8ff;}#sk-container-id-5 div.sk-toggleable__content pre {margin: 0.2em;color: black;border-radius: 0.25em;background-color: #f0f8ff;}#sk-container-id-5 input.sk-toggleable__control:checked~div.sk-toggleable__content {max-height: 200px;max-width: 100%;overflow: auto;}#sk-container-id-5 input.sk-toggleable__control:checked~label.sk-toggleable__label-arrow:before {content: \"▾\";}#sk-container-id-5 div.sk-estimator input.sk-toggleable__control:checked~label.sk-toggleable__label {background-color: #d4ebff;}#sk-container-id-5 div.sk-label input.sk-toggleable__control:checked~label.sk-toggleable__label {background-color: #d4ebff;}#sk-container-id-5 input.sk-hidden--visually {border: 0;clip: rect(1px 1px 1px 1px);clip: rect(1px, 1px, 1px, 1px);height: 1px;margin: -1px;overflow: hidden;padding: 0;position: absolute;width: 1px;}#sk-container-id-5 div.sk-estimator {font-family: monospace;background-color: #f0f8ff;border: 1px dotted black;border-radius: 0.25em;box-sizing: border-box;margin-bottom: 0.5em;}#sk-container-id-5 div.sk-estimator:hover {background-color: #d4ebff;}#sk-container-id-5 div.sk-parallel-item::after {content: \"\";width: 100%;border-bottom: 1px solid gray;flex-grow: 1;}#sk-container-id-5 div.sk-label:hover label.sk-toggleable__label {background-color: #d4ebff;}#sk-container-id-5 div.sk-serial::before {content: \"\";position: absolute;border-left: 1px solid gray;box-sizing: border-box;top: 0;bottom: 0;left: 50%;z-index: 0;}#sk-container-id-5 div.sk-serial {display: flex;flex-direction: column;align-items: center;background-color: white;padding-right: 0.2em;padding-left: 0.2em;position: relative;}#sk-container-id-5 div.sk-item {position: relative;z-index: 1;}#sk-container-id-5 div.sk-parallel {display: flex;align-items: stretch;justify-content: center;background-color: white;position: relative;}#sk-container-id-5 div.sk-item::before, #sk-container-id-5 div.sk-parallel-item::before {content: \"\";position: absolute;border-left: 1px solid gray;box-sizing: border-box;top: 0;bottom: 0;left: 50%;z-index: -1;}#sk-container-id-5 div.sk-parallel-item {display: flex;flex-direction: column;z-index: 1;position: relative;background-color: white;}#sk-container-id-5 div.sk-parallel-item:first-child::after {align-self: flex-end;width: 50%;}#sk-container-id-5 div.sk-parallel-item:last-child::after {align-self: flex-start;width: 50%;}#sk-container-id-5 div.sk-parallel-item:only-child::after {width: 0;}#sk-container-id-5 div.sk-dashed-wrapped {border: 1px dashed gray;margin: 0 0.4em 0.5em 0.4em;box-sizing: border-box;padding-bottom: 0.4em;background-color: white;}#sk-container-id-5 div.sk-label label {font-family: monospace;font-weight: bold;display: inline-block;line-height: 1.2em;}#sk-container-id-5 div.sk-label-container {text-align: center;}#sk-container-id-5 div.sk-container {/* jupyter's `normalize.less` sets `[hidden] { display: none; }` but bootstrap.min.css set `[hidden] { display: none !important; }` so we also need the `!important` here to be able to override the default hidden behavior on the sphinx rendered scikit-learn.org. See: https://github.com/scikit-learn/scikit-learn/issues/21755 */display: inline-block !important;position: relative;}#sk-container-id-5 div.sk-text-repr-fallback {display: none;}</style><div id=\"sk-container-id-5\" class=\"sk-top-container\"><div class=\"sk-text-repr-fallback\"><pre>BaggingClassifier(estimator=LGBMClassifier(class_weight=&#x27;balanced&#x27;,\n",
       "                                           learning_rate=0.5986318983049539,\n",
       "                                           n_estimators=145, n_jobs=-1))</pre><b>In a Jupyter environment, please rerun this cell to show the HTML representation or trust the notebook. <br />On GitHub, the HTML representation is unable to render, please try loading this page with nbviewer.org.</b></div><div class=\"sk-container\" hidden><div class=\"sk-item sk-dashed-wrapped\"><div class=\"sk-label-container\"><div class=\"sk-label sk-toggleable\"><input class=\"sk-toggleable__control sk-hidden--visually\" id=\"sk-estimator-id-5\" type=\"checkbox\" ><label for=\"sk-estimator-id-5\" class=\"sk-toggleable__label sk-toggleable__label-arrow\">BaggingClassifier</label><div class=\"sk-toggleable__content\"><pre>BaggingClassifier(estimator=LGBMClassifier(class_weight=&#x27;balanced&#x27;,\n",
       "                                           learning_rate=0.5986318983049539,\n",
       "                                           n_estimators=145, n_jobs=-1))</pre></div></div></div><div class=\"sk-parallel\"><div class=\"sk-parallel-item\"><div class=\"sk-item\"><div class=\"sk-label-container\"><div class=\"sk-label sk-toggleable\"><input class=\"sk-toggleable__control sk-hidden--visually\" id=\"sk-estimator-id-6\" type=\"checkbox\" ><label for=\"sk-estimator-id-6\" class=\"sk-toggleable__label sk-toggleable__label-arrow\">estimator: LGBMClassifier</label><div class=\"sk-toggleable__content\"><pre>LGBMClassifier(class_weight=&#x27;balanced&#x27;, learning_rate=0.5986318983049539,\n",
       "               n_estimators=145, n_jobs=-1)</pre></div></div></div><div class=\"sk-serial\"><div class=\"sk-item\"><div class=\"sk-estimator sk-toggleable\"><input class=\"sk-toggleable__control sk-hidden--visually\" id=\"sk-estimator-id-7\" type=\"checkbox\" ><label for=\"sk-estimator-id-7\" class=\"sk-toggleable__label sk-toggleable__label-arrow\">LGBMClassifier</label><div class=\"sk-toggleable__content\"><pre>LGBMClassifier(class_weight=&#x27;balanced&#x27;, learning_rate=0.5986318983049539,\n",
       "               n_estimators=145, n_jobs=-1)</pre></div></div></div></div></div></div></div></div></div></div>"
      ],
      "text/plain": [
       "BaggingClassifier(estimator=LGBMClassifier(class_weight='balanced',\n",
       "                                           learning_rate=0.5986318983049539,\n",
       "                                           n_estimators=145, n_jobs=-1))"
      ]
     },
     "execution_count": 46,
     "metadata": {},
     "output_type": "execute_result"
    }
   ],
   "source": [
    "bg_clf = BaggingClassifier(estimator=light_gbm)\n",
    "bg_clf"
   ]
  },
  {
   "cell_type": "code",
   "execution_count": 47,
   "metadata": {},
   "outputs": [
    {
     "ename": "TypeError",
     "evalue": "'BaggingClassifier' object is not callable",
     "output_type": "error",
     "traceback": [
      "\u001b[1;31m---------------------------------------------------------------------------\u001b[0m",
      "\u001b[1;31mTypeError\u001b[0m                                 Traceback (most recent call last)",
      "Cell \u001b[1;32mIn[47], line 1\u001b[0m\n\u001b[1;32m----> 1\u001b[0m \u001b[43mbg_clf\u001b[49m\u001b[43m(\u001b[49m\u001b[38;5;241;43m*\u001b[39;49m\u001b[38;5;241;43m*\u001b[39;49m\u001b[43m{\u001b[49m\u001b[38;5;124;43m'\u001b[39;49m\u001b[38;5;124;43mn_estimators\u001b[39;49m\u001b[38;5;124;43m'\u001b[39;49m\u001b[43m:\u001b[49m\u001b[38;5;241;43m60\u001b[39;49m\u001b[43m}\u001b[49m\u001b[43m)\u001b[49m\n",
      "\u001b[1;31mTypeError\u001b[0m: 'BaggingClassifier' object is not callable"
     ]
    }
   ],
   "source": [
    "bg_clf(**{'n_estimators':60})"
   ]
  },
  {
   "cell_type": "code",
   "execution_count": 4,
   "metadata": {},
   "outputs": [],
   "source": [
    "live = Live()"
   ]
  },
  {
   "cell_type": "code",
   "execution_count": 10,
   "metadata": {},
   "outputs": [
    {
     "data": {
      "text/plain": [
       "<function Live.__getstate__()>"
      ]
     },
     "execution_count": 10,
     "metadata": {},
     "output_type": "execute_result"
    }
   ],
   "source": [
    "live.__getstate__"
   ]
  },
  {
   "cell_type": "code",
   "execution_count": null,
   "metadata": {},
   "outputs": [],
   "source": []
  },
  {
   "cell_type": "code",
   "execution_count": 10,
   "metadata": {},
   "outputs": [],
   "source": [
    "sources = {}\n",
    "for i in range(2):\n",
    "    model_name = mlflow.search_registered_models(filter_string=\"tags.model_type ilike 'Challenger'\")[i].name\n",
    "    if model_name != 'Challenger Stacked_Classifier' and model_name != 'Challenger Voting_Classifier':\n",
    "        model_name = 'Final_Estimator'\n",
    "    else:\n",
    "        model_name = model_name.replace(\" \", \"_\")\n",
    "    sources[model_name] = mlflow.search_registered_models(filter_string=\"tags.model_type ilike 'Challenger'\")[i].latest_versions[0].source + \"/model.pkl\""
   ]
  },
  {
   "cell_type": "code",
   "execution_count": 11,
   "metadata": {},
   "outputs": [],
   "source": [
    "for i in range(1):\n",
    "    model_name = mlflow.search_registered_models(filter_string=\"tags.model_type ilike 'Champion'\")[i].name\n",
    "    if model_name != 'Challenger Stacked_Classifier' and model_name != 'Challenger Voting_Classifier':\n",
    "        model_name = 'Final_Estimator'\n",
    "    else:\n",
    "        model_name = model_name.replace(\" \", \"_\")\n",
    "    sources[model_name] = mlflow.search_registered_models(filter_string=\"tags.model_type ilike 'Champion'\")[i].latest_versions[0].source + \"/model.pkl\""
   ]
  },
  {
   "cell_type": "code",
   "execution_count": 12,
   "metadata": {},
   "outputs": [
    {
     "data": {
      "text/plain": [
       "{'Final_Estimator': 'mlflow-artifacts:/f2a1d0cb47994e43887a7bf8ff11fbc0/4f79ae8649044b24a593ec1c748e012b/artifacts/challenger_LGBMClassifier/model.pkl',\n",
       " 'Challenger_Stacked_Classifier': 'mlflow-artifacts:/aacd27cc7a9d429ab2439e37a4e8cdfb/d3eb9ead8a5c49f9b8299efea62d58a2/artifacts/candidate_Stacked_Classifier/model.pkl',\n",
       " 'Challenger_Voting_Classifier': 'mlflow-artifacts:/cd6eb5acbadd414fb5d32e02d983d99b/b2aea20ef6094e1a94b1567aea90753f/artifacts/candidate_Voting_Classifier/model.pkl'}"
      ]
     },
     "execution_count": 12,
     "metadata": {},
     "output_type": "execute_result"
    }
   ],
   "source": [
    "sources"
   ]
  },
  {
   "cell_type": "code",
   "execution_count": 13,
   "metadata": {},
   "outputs": [],
   "source": [
    "champion_source_ = {}\n",
    "for i in range(1):\n",
    "    model_name = mlflow.search_registered_models(filter_string=\"tags.model_type ilike 'Champion'\")[i].name\n",
    "    model_name = 'Champion_Estimator'\n",
    "    champion_source_[model_name] = mlflow.search_registered_models(filter_string=\"tags.model_type ilike 'Champion'\")[i].latest_versions[0].source + \"/model.pkl\""
   ]
  },
  {
   "cell_type": "code",
   "execution_count": 14,
   "metadata": {},
   "outputs": [
    {
     "data": {
      "text/plain": [
       "{'Champion_Estimator': 'mlflow-artifacts:/cd6eb5acbadd414fb5d32e02d983d99b/b2aea20ef6094e1a94b1567aea90753f/artifacts/candidate_Voting_Classifier/model.pkl'}"
      ]
     },
     "execution_count": 14,
     "metadata": {},
     "output_type": "execute_result"
    }
   ],
   "source": [
    "champion_source_"
   ]
  },
  {
   "cell_type": "code",
   "execution_count": 15,
   "metadata": {},
   "outputs": [
    {
     "data": {
      "text/plain": [
       "{'Final_Estimator': 'mlflow-artifacts:/f2a1d0cb47994e43887a7bf8ff11fbc0/4f79ae8649044b24a593ec1c748e012b/artifacts/challenger_LGBMClassifier/model.pkl',\n",
       " 'Challenger_Stacked_Classifier': 'mlflow-artifacts:/aacd27cc7a9d429ab2439e37a4e8cdfb/d3eb9ead8a5c49f9b8299efea62d58a2/artifacts/candidate_Stacked_Classifier/model.pkl',\n",
       " 'Challenger_Voting_Classifier': 'mlflow-artifacts:/cd6eb5acbadd414fb5d32e02d983d99b/b2aea20ef6094e1a94b1567aea90753f/artifacts/candidate_Voting_Classifier/model.pkl'}"
      ]
     },
     "execution_count": 15,
     "metadata": {},
     "output_type": "execute_result"
    }
   ],
   "source": [
    "sources"
   ]
  },
  {
   "cell_type": "code",
   "execution_count": 16,
   "metadata": {},
   "outputs": [
    {
     "name": "stdout",
     "output_type": "stream",
     "text": [
      "[2024-02-08 10:29:07,489: INFO: utils: yaml file is saved]\n"
     ]
    }
   ],
   "source": [
    "from src.utils import save_yaml\n",
    "\n",
    "save_yaml(file = sources, filepath = r\"F:\\iNeuron\\Projects\\scania_failures_2\\artifacts\\model\\model_sources.yaml\", \n",
    "          mode = 'w')"
   ]
  },
  {
   "cell_type": "code",
   "execution_count": 17,
   "metadata": {},
   "outputs": [
    {
     "name": "stdout",
     "output_type": "stream",
     "text": [
      "[2024-02-08 10:29:34,416: INFO: utils: yaml file is saved]\n"
     ]
    }
   ],
   "source": [
    "from src.utils import save_yaml\n",
    "\n",
    "save_yaml(file = champion_source_, filepath = r\"F:\\iNeuron\\Projects\\scania_failures_2\\artifacts\\model\\model_sources.yaml\", \n",
    "          mode = 'a')"
   ]
  },
  {
   "cell_type": "code",
   "execution_count": 5,
   "metadata": {},
   "outputs": [
    {
     "data": {
      "text/plain": [
       "array([1.        , 1.11111111, 1.22222222, 1.33333333, 1.44444444,\n",
       "       1.55555556, 1.66666667, 1.77777778, 1.88888889, 2.        ])"
      ]
     },
     "execution_count": 5,
     "metadata": {},
     "output_type": "execute_result"
    }
   ],
   "source": [
    "import numpy as np\n"
   ]
  },
  {
   "cell_type": "code",
   "execution_count": 6,
   "metadata": {},
   "outputs": [
    {
     "data": {
      "text/html": [
       "<div>\n",
       "<style scoped>\n",
       "    .dataframe tbody tr th:only-of-type {\n",
       "        vertical-align: middle;\n",
       "    }\n",
       "\n",
       "    .dataframe tbody tr th {\n",
       "        vertical-align: top;\n",
       "    }\n",
       "\n",
       "    .dataframe thead th {\n",
       "        text-align: right;\n",
       "    }\n",
       "</style>\n",
       "<table border=\"1\" class=\"dataframe\">\n",
       "  <thead>\n",
       "    <tr style=\"text-align: right;\">\n",
       "      <th></th>\n",
       "      <th>sample</th>\n",
       "    </tr>\n",
       "  </thead>\n",
       "  <tbody>\n",
       "    <tr>\n",
       "      <th>0</th>\n",
       "      <td>1.000000</td>\n",
       "    </tr>\n",
       "    <tr>\n",
       "      <th>1</th>\n",
       "      <td>1.111111</td>\n",
       "    </tr>\n",
       "    <tr>\n",
       "      <th>2</th>\n",
       "      <td>1.222222</td>\n",
       "    </tr>\n",
       "    <tr>\n",
       "      <th>3</th>\n",
       "      <td>1.333333</td>\n",
       "    </tr>\n",
       "    <tr>\n",
       "      <th>4</th>\n",
       "      <td>1.444444</td>\n",
       "    </tr>\n",
       "    <tr>\n",
       "      <th>5</th>\n",
       "      <td>1.555556</td>\n",
       "    </tr>\n",
       "    <tr>\n",
       "      <th>6</th>\n",
       "      <td>1.666667</td>\n",
       "    </tr>\n",
       "    <tr>\n",
       "      <th>7</th>\n",
       "      <td>1.777778</td>\n",
       "    </tr>\n",
       "    <tr>\n",
       "      <th>8</th>\n",
       "      <td>1.888889</td>\n",
       "    </tr>\n",
       "    <tr>\n",
       "      <th>9</th>\n",
       "      <td>2.000000</td>\n",
       "    </tr>\n",
       "  </tbody>\n",
       "</table>\n",
       "</div>"
      ],
      "text/plain": [
       "     sample\n",
       "0  1.000000\n",
       "1  1.111111\n",
       "2  1.222222\n",
       "3  1.333333\n",
       "4  1.444444\n",
       "5  1.555556\n",
       "6  1.666667\n",
       "7  1.777778\n",
       "8  1.888889\n",
       "9  2.000000"
      ]
     },
     "execution_count": 6,
     "metadata": {},
     "output_type": "execute_result"
    }
   ],
   "source": [
    "import pandas as pd\n",
    "\n",
    "pd.DataFrame(np.linspace(1,2,10), columns = ['sample'])"
   ]
  },
  {
   "cell_type": "code",
   "execution_count": 4,
   "metadata": {},
   "outputs": [
    {
     "data": {
      "text/plain": [
       "'mlflow-artifacts:/60258e966e554f9880661b3db47d046e/2fefb228025247cca3c822e50b0484c8/artifacts/candidate_Voting_Classifier'"
      ]
     },
     "execution_count": 4,
     "metadata": {},
     "output_type": "execute_result"
    }
   ],
   "source": [
    "mlflow.search_registered_models(filter_string=\"tags.model_type ilike 'Champion'\")[0].latest_versions[0].source"
   ]
  },
  {
   "cell_type": "code",
   "execution_count": 148,
   "metadata": {},
   "outputs": [],
   "source": [
    "import pandas as pd\n",
    "import numpy as np\n",
    "df = pd.read_csv(r\"F:\\iNeuron\\Projects\\scania_failures_2\\artifacts\\data\\processed\\stage_1_processing\\preprocessed_train_data.csv\")"
   ]
  },
  {
   "cell_type": "code",
   "execution_count": 44,
   "metadata": {},
   "outputs": [],
   "source": [
    "y = df['class']"
   ]
  },
  {
   "cell_type": "code",
   "execution_count": 149,
   "metadata": {},
   "outputs": [
    {
     "data": {
      "text/plain": [
       "class\n",
       "0    59000\n",
       "1     1000\n",
       "Name: count, dtype: int64"
      ]
     },
     "execution_count": 149,
     "metadata": {},
     "output_type": "execute_result"
    }
   ],
   "source": [
    "df['class'].value_counts()"
   ]
  },
  {
   "cell_type": "code",
   "execution_count": 38,
   "metadata": {},
   "outputs": [
    {
     "data": {
      "text/plain": [
       "30000.0"
      ]
     },
     "execution_count": 38,
     "metadata": {},
     "output_type": "execute_result"
    }
   ],
   "source": [
    "df['class'].value_counts().mean()"
   ]
  },
  {
   "cell_type": "code",
   "execution_count": 45,
   "metadata": {},
   "outputs": [
    {
     "name": "stdout",
     "output_type": "stream",
     "text": [
      "Dataset is imbalanced\n"
     ]
    }
   ],
   "source": [
    "minority_class = y.value_counts().min()\n",
    "majority_class = y.value_counts().max()\n",
    "mean_count = int(y.value_counts().mean())\n",
    "if minority_class <= mean_count-500 or majority_class >= mean_count+500:\n",
    "    print(\"Dataset is imbalanced\")"
   ]
  },
  {
   "cell_type": "code",
   "execution_count": 41,
   "metadata": {},
   "outputs": [
    {
     "data": {
      "text/plain": [
       "29500"
      ]
     },
     "execution_count": 41,
     "metadata": {},
     "output_type": "execute_result"
    }
   ],
   "source": [
    "mean_count-500"
   ]
  },
  {
   "cell_type": "code",
   "execution_count": 43,
   "metadata": {},
   "outputs": [
    {
     "name": "stdout",
     "output_type": "stream",
     "text": [
      "Dataset is imbalanced\n"
     ]
    }
   ],
   "source": [
    "if minority_class <= mean_count-500 or majority_class >= mean_count+500:\n",
    "    print(\"Dataset is imbalanced\")"
   ]
  },
  {
   "cell_type": "code",
   "execution_count": 15,
   "metadata": {},
   "outputs": [
    {
     "data": {
      "text/plain": [
       "30000.0"
      ]
     },
     "execution_count": 15,
     "metadata": {},
     "output_type": "execute_result"
    }
   ],
   "source": [
    "np.mean([29500,30500])"
   ]
  },
  {
   "cell_type": "code",
   "execution_count": 16,
   "metadata": {},
   "outputs": [
    {
     "data": {
      "text/plain": [
       "60000"
      ]
     },
     "execution_count": 16,
     "metadata": {},
     "output_type": "execute_result"
    }
   ],
   "source": [
    "29700 + 30300"
   ]
  },
  {
   "cell_type": "code",
   "execution_count": 62,
   "metadata": {},
   "outputs": [
    {
     "data": {
      "text/plain": [
       "'09_02_2024_12_24_44'"
      ]
     },
     "execution_count": 62,
     "metadata": {},
     "output_type": "execute_result"
    }
   ],
   "source": [
    "from datetime import datetime\n",
    "timestamp = datetime.now().strftime(\"%d_%m_%Y_%H_%M_%S\")\n",
    "timestamp"
   ]
  },
  {
   "cell_type": "code",
   "execution_count": 66,
   "metadata": {},
   "outputs": [
    {
     "data": {
      "text/plain": [
       "True"
      ]
     },
     "execution_count": 66,
     "metadata": {},
     "output_type": "execute_result"
    }
   ],
   "source": [
    "import pandas as pd\n",
    "df = pd.DataFrame()\n",
    "isinstance(df, pd.DataFrame)"
   ]
  },
  {
   "cell_type": "code",
   "execution_count": 67,
   "metadata": {},
   "outputs": [
    {
     "name": "stdout",
     "output_type": "stream",
     "text": [
      "[2024-02-09 16:42:11,023: INFO: utils: schema.yaml yaml_file is loaded]\n"
     ]
    }
   ],
   "source": [
    "from src.utils import load_yaml\n",
    "from src.constants import SCHEMA_PATH\n",
    "\n",
    "columns = load_yaml(SCHEMA_PATH).Features"
   ]
  },
  {
   "cell_type": "code",
   "execution_count": 86,
   "metadata": {},
   "outputs": [
    {
     "name": "stdout",
     "output_type": "stream",
     "text": [
      "[2024-02-09 16:45:21,292: INFO: utils: schema.yaml yaml_file is loaded]\n"
     ]
    },
    {
     "data": {
      "text/plain": [
       "['aa_000',\n",
       " 'ab_000',\n",
       " 'ac_000',\n",
       " 'ad_000',\n",
       " 'ae_000',\n",
       " 'af_000',\n",
       " 'ag_000',\n",
       " 'ag_001',\n",
       " 'ag_002',\n",
       " 'ag_003',\n",
       " 'ag_004',\n",
       " 'ag_005',\n",
       " 'ag_006',\n",
       " 'ag_007',\n",
       " 'ag_008',\n",
       " 'ag_009',\n",
       " 'ah_000',\n",
       " 'ai_000',\n",
       " 'aj_000',\n",
       " 'ak_000',\n",
       " 'al_000',\n",
       " 'am_0',\n",
       " 'an_000',\n",
       " 'ao_000',\n",
       " 'ap_000',\n",
       " 'aq_000',\n",
       " 'ar_000',\n",
       " 'as_000',\n",
       " 'at_000',\n",
       " 'au_000',\n",
       " 'av_000',\n",
       " 'ax_000',\n",
       " 'ay_000',\n",
       " 'ay_001',\n",
       " 'ay_002',\n",
       " 'ay_003',\n",
       " 'ay_004',\n",
       " 'ay_005',\n",
       " 'ay_006',\n",
       " 'ay_007',\n",
       " 'ay_008',\n",
       " 'ay_009',\n",
       " 'az_000',\n",
       " 'az_001',\n",
       " 'az_002',\n",
       " 'az_003',\n",
       " 'az_004',\n",
       " 'az_005',\n",
       " 'az_006',\n",
       " 'az_007',\n",
       " 'az_008',\n",
       " 'az_009',\n",
       " 'ba_000',\n",
       " 'ba_001',\n",
       " 'ba_002',\n",
       " 'ba_003',\n",
       " 'ba_004',\n",
       " 'ba_005',\n",
       " 'ba_006',\n",
       " 'ba_007',\n",
       " 'ba_008',\n",
       " 'ba_009',\n",
       " 'bb_000',\n",
       " 'bc_000',\n",
       " 'bd_000',\n",
       " 'be_000',\n",
       " 'bf_000',\n",
       " 'bg_000',\n",
       " 'bh_000',\n",
       " 'bi_000',\n",
       " 'bj_000',\n",
       " 'bk_000',\n",
       " 'bl_000',\n",
       " 'bm_000',\n",
       " 'bn_000',\n",
       " 'bo_000',\n",
       " 'bp_000',\n",
       " 'bq_000',\n",
       " 'br_000',\n",
       " 'bs_000',\n",
       " 'bt_000',\n",
       " 'bu_000',\n",
       " 'bv_000',\n",
       " 'bx_000',\n",
       " 'by_000',\n",
       " 'bz_000',\n",
       " 'ca_000',\n",
       " 'cb_000',\n",
       " 'cc_000',\n",
       " 'cd_000',\n",
       " 'ce_000',\n",
       " 'cf_000',\n",
       " 'cg_000',\n",
       " 'ch_000',\n",
       " 'ci_000',\n",
       " 'cj_000',\n",
       " 'ck_000',\n",
       " 'cl_000',\n",
       " 'cm_000',\n",
       " 'cn_000',\n",
       " 'cn_001',\n",
       " 'cn_002',\n",
       " 'cn_003',\n",
       " 'cn_004',\n",
       " 'cn_005',\n",
       " 'cn_006',\n",
       " 'cn_007',\n",
       " 'cn_008',\n",
       " 'cn_009',\n",
       " 'co_000',\n",
       " 'cp_000',\n",
       " 'cq_000',\n",
       " 'cr_000',\n",
       " 'cs_000',\n",
       " 'cs_001',\n",
       " 'cs_002',\n",
       " 'cs_003',\n",
       " 'cs_004',\n",
       " 'cs_005',\n",
       " 'cs_006',\n",
       " 'cs_007',\n",
       " 'cs_008',\n",
       " 'cs_009',\n",
       " 'ct_000',\n",
       " 'cu_000',\n",
       " 'cv_000',\n",
       " 'cx_000',\n",
       " 'cy_000',\n",
       " 'cz_000',\n",
       " 'da_000',\n",
       " 'db_000',\n",
       " 'dc_000',\n",
       " 'dd_000',\n",
       " 'de_000',\n",
       " 'df_000',\n",
       " 'dg_000',\n",
       " 'dh_000',\n",
       " 'di_000',\n",
       " 'dj_000',\n",
       " 'dk_000',\n",
       " 'dl_000',\n",
       " 'dm_000',\n",
       " 'dn_000',\n",
       " 'do_000',\n",
       " 'dp_000',\n",
       " 'dq_000',\n",
       " 'dr_000',\n",
       " 'ds_000',\n",
       " 'dt_000',\n",
       " 'du_000',\n",
       " 'dv_000',\n",
       " 'dx_000',\n",
       " 'dy_000',\n",
       " 'dz_000',\n",
       " 'ea_000',\n",
       " 'eb_000',\n",
       " 'ec_00',\n",
       " 'ed_000',\n",
       " 'ee_000',\n",
       " 'ee_001',\n",
       " 'ee_002',\n",
       " 'ee_003',\n",
       " 'ee_004',\n",
       " 'ee_005',\n",
       " 'ee_006',\n",
       " 'ee_007',\n",
       " 'ee_008',\n",
       " 'ee_009',\n",
       " 'ef_000',\n",
       " 'eg_000']"
      ]
     },
     "execution_count": 86,
     "metadata": {},
     "output_type": "execute_result"
    }
   ],
   "source": [
    "columns_dict = load_yaml(SCHEMA_PATH).Features\n",
    "columns = list(columns_dict.keys())\n",
    "columns"
   ]
  },
  {
   "cell_type": "code",
   "execution_count": 142,
   "metadata": {},
   "outputs": [
    {
     "data": {
      "text/plain": [
       "170"
      ]
     },
     "execution_count": 142,
     "metadata": {},
     "output_type": "execute_result"
    }
   ],
   "source": [
    "len(columns)"
   ]
  },
  {
   "cell_type": "code",
   "execution_count": 83,
   "metadata": {},
   "outputs": [
    {
     "name": "stdout",
     "output_type": "stream",
     "text": [
      "Pretty printing has been turned ON\n"
     ]
    }
   ],
   "source": [
    "pprint(list(columns.keys()))"
   ]
  },
  {
   "cell_type": "code",
   "execution_count": 118,
   "metadata": {},
   "outputs": [
    {
     "data": {
      "text/plain": [
       "(171,)"
      ]
     },
     "execution_count": 118,
     "metadata": {},
     "output_type": "execute_result"
    }
   ],
   "source": [
    "np.array(list(df.iloc[:1,:].to_dict(orient='records')[0].values())).shape"
   ]
  },
  {
   "cell_type": "code",
   "execution_count": 120,
   "metadata": {},
   "outputs": [
    {
     "data": {
      "text/plain": [
       "(1, 171)"
      ]
     },
     "execution_count": 120,
     "metadata": {},
     "output_type": "execute_result"
    }
   ],
   "source": [
    "np.array(list(df.iloc[:1,:].to_dict(orient='records')[0].values())).reshape(1, -1).shape"
   ]
  },
  {
   "cell_type": "code",
   "execution_count": 124,
   "metadata": {},
   "outputs": [
    {
     "data": {
      "text/plain": [
       "True"
      ]
     },
     "execution_count": 124,
     "metadata": {},
     "output_type": "execute_result"
    }
   ],
   "source": [
    "isinstance(df.iloc[:1,:].to_dict(orient='records'),list)"
   ]
  },
  {
   "cell_type": "code",
   "execution_count": 127,
   "metadata": {},
   "outputs": [
    {
     "data": {
      "text/plain": [
       "[{'aa_000': 76698.0,\n",
       "  'ab_000': nan,\n",
       "  'ac_000': 2130706438.0,\n",
       "  'ad_000': 280.0,\n",
       "  'ae_000': 0.0,\n",
       "  'af_000': 0.0,\n",
       "  'ag_000': 0.0,\n",
       "  'ag_001': 0.0,\n",
       "  'ag_002': 0.0,\n",
       "  'ag_003': 0.0,\n",
       "  'ag_004': 37250.0,\n",
       "  'ag_005': 1432864.0,\n",
       "  'ag_006': 3664156.0,\n",
       "  'ag_007': 1007684.0,\n",
       "  'ag_008': 25896.0,\n",
       "  'ag_009': 0.0,\n",
       "  'ah_000': 2551696.0,\n",
       "  'ai_000': 0.0,\n",
       "  'aj_000': 0.0,\n",
       "  'ak_000': 0.0,\n",
       "  'al_000': 0.0,\n",
       "  'am_0': 0.0,\n",
       "  'an_000': 4933296.0,\n",
       "  'ao_000': 3655166.0,\n",
       "  'ap_000': 1766008.0,\n",
       "  'aq_000': 1132040.0,\n",
       "  'ar_000': 0.0,\n",
       "  'as_000': 0.0,\n",
       "  'at_000': 0.0,\n",
       "  'au_000': 0.0,\n",
       "  'av_000': 1012.0,\n",
       "  'ax_000': 268.0,\n",
       "  'ay_000': 0.0,\n",
       "  'ay_001': 0.0,\n",
       "  'ay_002': 0.0,\n",
       "  'ay_003': 0.0,\n",
       "  'ay_004': 0.0,\n",
       "  'ay_005': 469014.0,\n",
       "  'ay_006': 4239660.0,\n",
       "  'ay_007': 703300.0,\n",
       "  'ay_008': 755876.0,\n",
       "  'ay_009': 0.0,\n",
       "  'az_000': 5374.0,\n",
       "  'az_001': 2108.0,\n",
       "  'az_002': 4114.0,\n",
       "  'az_003': 12348.0,\n",
       "  'az_004': 615248.0,\n",
       "  'az_005': 5526276.0,\n",
       "  'az_006': 2378.0,\n",
       "  'az_007': 4.0,\n",
       "  'az_008': 0.0,\n",
       "  'az_009': 0.0,\n",
       "  'ba_000': 2328746.0,\n",
       "  'ba_001': 1022304.0,\n",
       "  'ba_002': 415432.0,\n",
       "  'ba_003': 287230.0,\n",
       "  'ba_004': 310246.0,\n",
       "  'ba_005': 681504.0,\n",
       "  'ba_006': 1118814.0,\n",
       "  'ba_007': 3574.0,\n",
       "  'ba_008': 0.0,\n",
       "  'ba_009': 0.0,\n",
       "  'bb_000': 6700214.0,\n",
       "  'bc_000': 0.0,\n",
       "  'bd_000': 10.0,\n",
       "  'be_000': 108.0,\n",
       "  'bf_000': 50.0,\n",
       "  'bg_000': 2551696.0,\n",
       "  'bh_000': 97518.0,\n",
       "  'bi_000': 947550.0,\n",
       "  'bj_000': 799478.0,\n",
       "  'bk_000': 330760.0,\n",
       "  'bl_000': 353400.0,\n",
       "  'class': 0,\n",
       "  'bm_000': 299160.0,\n",
       "  'bn_000': 305200.0,\n",
       "  'bo_000': 283680.0,\n",
       "  'bp_000': nan,\n",
       "  'bq_000': nan,\n",
       "  'br_000': nan,\n",
       "  'bs_000': 178540.0,\n",
       "  'bt_000': 76698.08,\n",
       "  'bu_000': 6700214.0,\n",
       "  'bv_000': 6700214.0,\n",
       "  'bx_000': 6599892.0,\n",
       "  'by_000': 43566.0,\n",
       "  'bz_000': 68656.0,\n",
       "  'ca_000': 54064.0,\n",
       "  'cb_000': 638360.0,\n",
       "  'cc_000': 6167850.0,\n",
       "  'cd_000': 1209600.0,\n",
       "  'ce_000': 246244.0,\n",
       "  'cf_000': 2.0,\n",
       "  'cg_000': 96.0,\n",
       "  'ch_000': 0.0,\n",
       "  'ci_000': 5245752.0,\n",
       "  'cj_000': 0.0,\n",
       "  'ck_000': 916567.68,\n",
       "  'cl_000': 6.0,\n",
       "  'cm_000': 1924.0,\n",
       "  'cn_000': 0.0,\n",
       "  'cn_001': 0.0,\n",
       "  'cn_002': 0.0,\n",
       "  'cn_003': 118196.0,\n",
       "  'cn_004': 1309472.0,\n",
       "  'cn_005': 3247182.0,\n",
       "  'cn_006': 1381362.0,\n",
       "  'cn_007': 98822.0,\n",
       "  'cn_008': 11208.0,\n",
       "  'cn_009': 1608.0,\n",
       "  'co_000': 220.0,\n",
       "  'cp_000': 240.0,\n",
       "  'cq_000': 6700214.0,\n",
       "  'cr_000': nan,\n",
       "  'cs_000': 10476.0,\n",
       "  'cs_001': 1226.0,\n",
       "  'cs_002': 267998.0,\n",
       "  'cs_003': 521832.0,\n",
       "  'cs_004': 428776.0,\n",
       "  'cs_005': 4015854.0,\n",
       "  'cs_006': 895240.0,\n",
       "  'cs_007': 26330.0,\n",
       "  'cs_008': 118.0,\n",
       "  'cs_009': 0.0,\n",
       "  'ct_000': 532.0,\n",
       "  'cu_000': 734.0,\n",
       "  'cv_000': 4122704.0,\n",
       "  'cx_000': 51288.0,\n",
       "  'cy_000': 0.0,\n",
       "  'cz_000': 532572.0,\n",
       "  'da_000': 0.0,\n",
       "  'db_000': 18.0,\n",
       "  'dc_000': 5330690.0,\n",
       "  'dd_000': 4732.0,\n",
       "  'de_000': 1126.0,\n",
       "  'df_000': 0.0,\n",
       "  'dg_000': 0.0,\n",
       "  'dh_000': 0.0,\n",
       "  'di_000': 0.0,\n",
       "  'dj_000': 0.0,\n",
       "  'dk_000': 0.0,\n",
       "  'dl_000': 0.0,\n",
       "  'dm_000': 0.0,\n",
       "  'dn_000': 62282.0,\n",
       "  'do_000': 85908.0,\n",
       "  'dp_000': 32790.0,\n",
       "  'dq_000': 0.0,\n",
       "  'dr_000': 0.0,\n",
       "  'ds_000': 202710.0,\n",
       "  'dt_000': 37928.0,\n",
       "  'du_000': 14745580.0,\n",
       "  'dv_000': 1876644.0,\n",
       "  'dx_000': 0.0,\n",
       "  'dy_000': 0.0,\n",
       "  'dz_000': 0.0,\n",
       "  'ea_000': 0.0,\n",
       "  'eb_000': 2801180.0,\n",
       "  'ec_00': 2445.8,\n",
       "  'ed_000': 2712.0,\n",
       "  'ee_000': 965866.0,\n",
       "  'ee_001': 1706908.0,\n",
       "  'ee_002': 1240520.0,\n",
       "  'ee_003': 493384.0,\n",
       "  'ee_004': 721044.0,\n",
       "  'ee_005': 469792.0,\n",
       "  'ee_006': 339156.0,\n",
       "  'ee_007': 157956.0,\n",
       "  'ee_008': 73224.0,\n",
       "  'ee_009': 0.0,\n",
       "  'ef_000': 0.0,\n",
       "  'eg_000': 0.0}]"
      ]
     },
     "execution_count": 127,
     "metadata": {},
     "output_type": "execute_result"
    }
   ],
   "source": [
    "df.iloc[:1,:].to_dict(orient='records')"
   ]
  },
  {
   "cell_type": "code",
   "execution_count": 135,
   "metadata": {},
   "outputs": [
    {
     "name": "stdout",
     "output_type": "stream",
     "text": [
      "[2024-02-09 17:31:53,603: INFO: utils: pickled_object: artifacts/preprocessor/preprocessor.joblib loaded]\n"
     ]
    }
   ],
   "source": [
    "from src.utils import load_binary\n",
    "\n",
    "\n",
    "preprocessor = load_binary(r\"artifacts/preprocessor/preprocessor.joblib\")"
   ]
  },
  {
   "cell_type": "code",
   "execution_count": 146,
   "metadata": {},
   "outputs": [
    {
     "data": {
      "text/plain": [
       "array([[-6.47730021e-01,  1.11242604e+00, -1.17422791e-01,\n",
       "        -4.06846209e-01,  2.15976331e+00,  2.44970414e+00,\n",
       "         2.73964497e+00,  3.02958580e+00,  3.31952663e+00,\n",
       "         3.60946746e+00, -7.56968324e-02, -1.95480411e-01,\n",
       "        -4.98467929e-01, -2.02903234e-01, -6.70214036e-02,\n",
       "         1.37156729e-02, -6.38748503e-01,  5.92899408e+00,\n",
       "         6.21893491e+00,  6.50887574e+00,  5.40446468e-03,\n",
       "         2.93651922e-03, -6.27698237e-01, -6.30878640e-01,\n",
       "        -5.12166775e-01, -4.80770141e-01,  8.53846154e+00,\n",
       "         8.82840237e+00,  9.11834320e+00,  9.40828402e+00,\n",
       "        -1.73973199e-01, -2.26320563e-01,  1.02781065e+01,\n",
       "         1.05680473e+01,  1.08579882e+01,  1.11479290e+01,\n",
       "         1.14378698e+01,  2.87516809e-04, -1.33809563e-01,\n",
       "        -2.63182106e-01, -1.56714121e-01,  1.28875740e+01,\n",
       "        -6.65013565e-01, -3.18083271e-01, -3.29060902e-01,\n",
       "        -8.33466557e-02, -4.69995918e-02, -3.00188511e-01,\n",
       "        -6.83205236e-02,  1.52071006e+01,  1.54970414e+01,\n",
       "         1.57869822e+01, -5.47842925e-01, -5.57035584e-01,\n",
       "        -5.56905768e-01, -5.52716357e-01, -5.17754783e-01,\n",
       "        -4.53365393e-01, -3.43028210e-01, -2.13331282e-02,\n",
       "        -3.01915425e-03,  2.91974852e-01, -6.26902991e-01,\n",
       "        -4.36742744e-03, -1.15616114e-01, -2.69277277e-01,\n",
       "         8.24367940e-01, -6.38663844e-01, -5.47284126e-01,\n",
       "        -4.96119741e-01, -4.75966468e-01, -6.52621790e-01,\n",
       "        -4.00667955e-01, -3.33305148e-01, -3.28930526e-01,\n",
       "        -3.33304410e-01, -3.24275787e-01, -3.14611371e-01,\n",
       "        -3.06320267e-01, -5.05785732e-01, -6.47238373e-01,\n",
       "        -6.26911158e-01, -6.26911081e-01, -6.24709271e-01,\n",
       "        -6.29045280e-01, -6.96326400e-02, -4.47918874e-01,\n",
       "        -4.50291842e-01, -6.26288620e-01, -1.20957320e+06,\n",
       "        -4.45575364e-02,  1.28923077e+01, -3.13398140e-01,\n",
       "         2.79644970e+01, -6.41903356e-01,  2.85443787e+01,\n",
       "        -4.71414056e-01,  7.28106509e+00,  1.31925767e-01,\n",
       "         2.97041420e+01,  2.99940828e+01,  3.73001893e-03,\n",
       "        -1.53039165e-01, -4.35267468e-01, -4.66608594e-01,\n",
       "        -2.15157517e-01, -3.23958473e-01, -3.47433839e-01,\n",
       "         2.13297617e-02,  1.20489315e-01,  1.87705457e-01,\n",
       "        -6.26908844e-01,  3.34733728e+01, -7.15566867e-01,\n",
       "        -4.94983668e-01, -2.19548265e-01, -4.17900365e-01,\n",
       "        -4.42682808e-01, -6.01971025e-01, -3.58922752e-01,\n",
       "        -3.60836686e-01, -6.79257518e-02,  3.63727811e+01,\n",
       "        -3.18504291e-01, -3.43986347e-01, -5.91768090e-01,\n",
       "        -3.50765723e-01,  3.78224852e+01, -4.17098330e-02,\n",
       "         3.84023669e+01,  1.19551282e+00, -6.75933891e-01,\n",
       "        -5.11690424e-01, -4.48934430e-01,  3.98520710e+01,\n",
       "         4.01420118e+01,  4.04319527e+01,  4.07218935e+01,\n",
       "         4.10118343e+01,  4.13017751e+01,  4.15917160e+01,\n",
       "         4.18816568e+01, -5.36364190e-01, -3.38813737e-01,\n",
       "        -3.50826966e-01,  4.30414201e+01,  4.33313609e+01,\n",
       "        -5.00297405e-01, -4.85404296e-01, -5.57574859e-02,\n",
       "        -6.18026536e-02,  3.26606849e-03,  8.34648258e-01,\n",
       "         4.53609467e+01,  4.56508876e+01, -1.42986856e-01,\n",
       "        -5.48085383e-01, -5.42387578e-01, -4.69353042e-01,\n",
       "        -5.28620535e-01, -5.34669309e-01, -5.15977489e-01,\n",
       "        -4.78418646e-01, -4.77355608e-01, -3.43142487e-01,\n",
       "        -2.47052444e-01, -2.86086096e-02,  2.42255482e-02,\n",
       "         4.97100592e+01,  5.00000000e+01]])"
      ]
     },
     "execution_count": 146,
     "metadata": {},
     "output_type": "execute_result"
    }
   ],
   "source": [
    "preprocessor.transform(np.linspace(1,50,170).reshape(1,-1))"
   ]
  },
  {
   "cell_type": "code",
   "execution_count": 141,
   "metadata": {},
   "outputs": [
    {
     "data": {
      "text/plain": [
       "(1, 170)"
      ]
     },
     "execution_count": 141,
     "metadata": {},
     "output_type": "execute_result"
    }
   ],
   "source": [
    "np.linspace(1,50,170).reshape(1,-1)"
   ]
  },
  {
   "cell_type": "code",
   "execution_count": 134,
   "metadata": {},
   "outputs": [
    {
     "ename": "TypeError",
     "evalue": "'numpy.float64' object cannot be interpreted as an integer",
     "output_type": "error",
     "traceback": [
      "\u001b[1;31m---------------------------------------------------------------------------\u001b[0m",
      "\u001b[1;31mTypeError\u001b[0m                                 Traceback (most recent call last)",
      "Cell \u001b[1;32mIn[134], line 1\u001b[0m\n\u001b[1;32m----> 1\u001b[0m \u001b[43mnp\u001b[49m\u001b[38;5;241;43m.\u001b[39;49m\u001b[43mndarray\u001b[49m\u001b[43m(\u001b[49m\u001b[38;5;28;43mlist\u001b[39;49m\u001b[43m(\u001b[49m\u001b[43mnp\u001b[49m\u001b[38;5;241;43m.\u001b[39;49m\u001b[43mlinspace\u001b[49m\u001b[43m(\u001b[49m\u001b[38;5;241;43m1\u001b[39;49m\u001b[43m,\u001b[49m\u001b[38;5;241;43m50\u001b[39;49m\u001b[43m,\u001b[49m\u001b[38;5;241;43m1\u001b[39;49m\u001b[43m)\u001b[49m\u001b[43m)\u001b[49m\u001b[43m)\u001b[49m\n",
      "\u001b[1;31mTypeError\u001b[0m: 'numpy.float64' object cannot be interpreted as an integer"
     ]
    }
   ],
   "source": [
    "np.ndarray(list(np.linspace(1,50,1)))"
   ]
  },
  {
   "cell_type": "code",
   "execution_count": 4,
   "metadata": {},
   "outputs": [
    {
     "name": "stdout",
     "output_type": "stream",
     "text": [
      "['aa_000', 'ab_000', 'ac_000', 'ad_000', 'ae_000', 'af_000', 'ag_000', 'ag_001',\n",
      " 'ag_002', 'ag_003', 'ag_004', 'ag_005', 'ag_006', 'ag_007', 'ag_008', 'ag_009',\n",
      " 'ah_000', 'ai_000', 'aj_000', 'ak_000', 'al_000', 'am_0', 'an_000', 'ao_000',\n",
      " 'ap_000', 'aq_000', 'ar_000', 'as_000', 'at_000', 'au_000', 'av_000', 'ax_000',\n",
      " 'ay_000', 'ay_001', 'ay_002', 'ay_003', 'ay_004', 'ay_005', 'ay_006', 'ay_007',\n",
      " 'ay_008', 'ay_009', 'az_000', 'az_001', 'az_002', 'az_003', 'az_004', 'az_005',\n",
      " 'az_006', 'az_007', 'az_008', 'az_009', 'ba_000', 'ba_001', 'ba_002', 'ba_003',\n",
      " 'ba_004', 'ba_005', 'ba_006', 'ba_007', 'ba_008', 'ba_009', 'bb_000', 'bc_000',\n",
      " 'bd_000', 'be_000', 'bf_000', 'bg_000', 'bh_000', 'bi_000', 'bj_000', 'bk_000',\n",
      " 'bl_000', 'class', 'bm_000', 'bn_000', 'bo_000', 'bp_000', 'bq_000', 'br_000',\n",
      " 'bs_000', 'bt_000', 'bu_000', 'bv_000', 'bx_000', 'by_000', 'bz_000', 'ca_000',\n",
      " 'cb_000', 'cc_000', 'cd_000', 'ce_000', 'cf_000', 'cg_000', 'ch_000', 'ci_000',\n",
      " 'cj_000', 'ck_000', 'cl_000', 'cm_000', 'cn_000', 'cn_001', 'cn_002', 'cn_003',\n",
      " 'cn_004', 'cn_005', 'cn_006', 'cn_007', 'cn_008', 'cn_009', 'co_000', 'cp_000',\n",
      " 'cq_000', 'cr_000', 'cs_000', 'cs_001', 'cs_002', 'cs_003', 'cs_004', 'cs_005',\n",
      " 'cs_006', 'cs_007', 'cs_008', 'cs_009', 'ct_000', 'cu_000', 'cv_000', 'cx_000',\n",
      " 'cy_000', 'cz_000', 'da_000', 'db_000', 'dc_000', 'dd_000', 'de_000', 'df_000',\n",
      " 'dg_000', 'dh_000', 'di_000', 'dj_000', 'dk_000', 'dl_000', 'dm_000', 'dn_000',\n",
      " 'do_000', 'dp_000', 'dq_000', 'dr_000', 'ds_000', 'dt_000', 'du_000', 'dv_000',\n",
      " 'dx_000', 'dy_000', 'dz_000', 'ea_000', 'eb_000', 'ec_00', 'ed_000', 'ee_000',\n",
      " 'ee_001', 'ee_002', 'ee_003', 'ee_004', 'ee_005', 'ee_006', 'ee_007', 'ee_008',\n",
      " 'ee_009', 'ef_000', 'eg_000']\n"
     ]
    }
   ],
   "source": [
    "from pprint import pprint\n",
    "import pandas as pd\n",
    "\n",
    "\n",
    "pprint(pd.read_csv(r\"F:\\iNeuron\\Projects\\scania_failures_2\\artifacts\\data\\train_test\\train.csv\").columns.tolist(),compact = True)"
   ]
  },
  {
   "cell_type": "code",
   "execution_count": 5,
   "metadata": {},
   "outputs": [
    {
     "data": {
      "text/plain": [
       "52"
      ]
     },
     "execution_count": 5,
     "metadata": {},
     "output_type": "execute_result"
    }
   ],
   "source": [
    "len(['aa_000', 'ab_000', 'ac_000', 'ad_000', 'ae_000', 'af_000', 'ag_000', 'ag_001',\n",
    " 'ag_002', 'ag_003', 'ag_004', 'ag_005', 'ag_006', 'ag_007', 'ag_008', 'ag_009',\n",
    " 'ah_000', 'ai_000', 'aj_000', 'ak_000', 'al_000', 'am_0', 'an_000', 'ao_000',\n",
    " 'ap_000', 'aq_000', 'ar_000', 'as_000', 'at_000', 'au_000', 'av_000', 'ax_000',\n",
    " 'ay_000', 'ay_001', 'ay_002', 'ay_003', 'ay_004', 'ay_005', 'ay_006', 'ay_007',\n",
    " 'ay_008', 'ay_009', 'az_000', 'az_001', 'az_002', 'az_003', 'az_004', 'az_005',\n",
    " 'az_006', 'az_007', 'az_008', 'az_009'])"
   ]
  },
  {
   "cell_type": "code",
   "execution_count": 24,
   "metadata": {},
   "outputs": [
    {
     "data": {
      "text/plain": [
       "35"
      ]
     },
     "execution_count": 24,
     "metadata": {},
     "output_type": "execute_result"
    }
   ],
   "source": [
    "len(['ba_000', 'ba_001', 'ba_002', 'ba_003',\n",
    " 'ba_004', 'ba_005', 'ba_006', 'ba_007', 'ba_008', 'ba_009', 'bb_000', 'bc_000',\n",
    " 'bd_000', 'be_000', 'bf_000', 'bg_000', 'bh_000', 'bi_000', 'bj_000', 'bk_000',\n",
    " 'bl_000', 'class', 'bm_000', 'bn_000', 'bo_000', 'bp_000', 'bq_000', 'br_000',\n",
    " 'bs_000', 'bt_000', 'bu_000', 'bv_000', 'bx_000', 'by_000', 'bz_000'])"
   ]
  },
  {
   "cell_type": "code",
   "execution_count": 7,
   "metadata": {},
   "outputs": [
    {
     "data": {
      "text/plain": [
       "43"
      ]
     },
     "execution_count": 7,
     "metadata": {},
     "output_type": "execute_result"
    }
   ],
   "source": [
    "len(['ca_000',\n",
    " 'cb_000', 'cc_000', 'cd_000', 'ce_000', 'cf_000', 'cg_000', 'ch_000', 'ci_000',\n",
    " 'cj_000', 'ck_000', 'cl_000', 'cm_000', 'cn_000', 'cn_001', 'cn_002', 'cn_003',\n",
    " 'cn_004', 'cn_005', 'cn_006', 'cn_007', 'cn_008', 'cn_009', 'co_000', 'cp_000',\n",
    " 'cq_000', 'cr_000', 'cs_000', 'cs_001', 'cs_002', 'cs_003', 'cs_004', 'cs_005',\n",
    " 'cs_006', 'cs_007', 'cs_008', 'cs_009', 'ct_000', 'cu_000', 'cv_000', 'cx_000',\n",
    " 'cy_000', 'cz_000'])"
   ]
  },
  {
   "cell_type": "code",
   "execution_count": 8,
   "metadata": {},
   "outputs": [
    {
     "data": {
      "text/plain": [
       "25"
      ]
     },
     "execution_count": 8,
     "metadata": {},
     "output_type": "execute_result"
    }
   ],
   "source": [
    "len(['da_000', 'db_000', 'dc_000', 'dd_000', 'de_000', 'df_000',\n",
    " 'dg_000', 'dh_000', 'di_000', 'dj_000', 'dk_000', 'dl_000', 'dm_000', 'dn_000',\n",
    " 'do_000', 'dp_000', 'dq_000', 'dr_000', 'ds_000', 'dt_000', 'du_000', 'dv_000',\n",
    " 'dx_000', 'dy_000', 'dz_000'])"
   ]
  },
  {
   "cell_type": "code",
   "execution_count": 9,
   "metadata": {},
   "outputs": [
    {
     "data": {
      "text/plain": [
       "16"
      ]
     },
     "execution_count": 9,
     "metadata": {},
     "output_type": "execute_result"
    }
   ],
   "source": [
    "len(['ea_000', 'eb_000', 'ec_00', 'ed_000', 'ee_000',\n",
    " 'ee_001', 'ee_002', 'ee_003', 'ee_004', 'ee_005', 'ee_006', 'ee_007', 'ee_008',\n",
    " 'ee_009', 'ef_000', 'eg_000'])"
   ]
  },
  {
   "cell_type": "code",
   "execution_count": 3,
   "metadata": {},
   "outputs": [],
   "source": [
    "series = ['aa_000', 'ab_000', 'ac_000', 'ad_000', 'ae_000',\n",
    "'af_000', 'ag_000', 'ag_001', 'ag_002', 'ag_003', 'ag_004',\n",
    "'ag_005', 'ag_006', 'ag_007', 'ag_008', 'ag_009', 'ah_000',\n",
    "'ai_000', 'aj_000', 'ak_000', 'al_000', 'am_0', 'an_000',\n",
    "'ao_000', 'ap_000', 'aq_000', 'ar_000', 'as_000', 'at_000',\n",
    "'au_000', 'av_000', 'ax_000', 'ay_000', 'ay_001', 'ay_002',\n",
    "'ay_003', 'ay_004', 'ay_005', 'ay_006', 'ay_007', 'ay_008',\n",
    "'ay_009', 'az_000', 'az_001', 'az_002', 'az_003', 'az_004',\n",
    "'az_005', 'az_006', 'az_007', 'az_008', 'az_009','ba_000', 'ba_001', 'ba_002', 'ba_003',\n",
    " 'ba_004', 'ba_005', 'ba_006', 'ba_007', 'ba_008', 'ba_009', 'bb_000', 'bc_000',\n",
    " 'bd_000', 'be_000', 'bf_000', 'bg_000', 'bh_000', 'bi_000', 'bj_000', 'bk_000',\n",
    " 'bl_000', 'class', 'bm_000', 'bn_000', 'bo_000', 'bp_000', 'bq_000', 'br_000',\n",
    " 'bs_000', 'bt_000', 'bu_000', 'bv_000', 'bx_000', 'by_000', 'bz_000']"
   ]
  },
  {
   "cell_type": "code",
   "execution_count": 21,
   "metadata": {},
   "outputs": [],
   "source": [
    "a_series = [s for s in series if s.startswith('a')]\n",
    "b_series = [s for s in series if s.startswith('b')]\n"
   ]
  },
  {
   "cell_type": "code",
   "execution_count": 33,
   "metadata": {},
   "outputs": [
    {
     "name": "stdout",
     "output_type": "stream",
     "text": [
      "[2024-02-11 20:30:14,460: INFO: utils: schema.yaml yaml_file is loaded]\n"
     ]
    }
   ],
   "source": [
    "from src.utils import load_yaml\n",
    "from src.constants import SCHEMA_PATH\n",
    "columns_dict = load_yaml(SCHEMA_PATH).Features\n",
    "a_series = [s for s in columns_dict if s.startswith('a')]\n",
    "b_series = [s for s in columns_dict if s.startswith('b')]\n",
    "c_series = [s for s in columns_dict if s.startswith('c')]\n",
    "d_series = [s for s in columns_dict if s.startswith('d')]\n",
    "e_series = [s for s in columns_dict if s.startswith('e')]"
   ]
  },
  {
   "cell_type": "code",
   "execution_count": 28,
   "metadata": {},
   "outputs": [
    {
     "data": {
      "text/plain": [
       "['ba_000',\n",
       " 'ba_001',\n",
       " 'ba_002',\n",
       " 'ba_003',\n",
       " 'ba_004',\n",
       " 'ba_005',\n",
       " 'ba_006',\n",
       " 'ba_007',\n",
       " 'ba_008',\n",
       " 'ba_009',\n",
       " 'bb_000',\n",
       " 'bc_000',\n",
       " 'bd_000',\n",
       " 'be_000',\n",
       " 'bf_000',\n",
       " 'bg_000',\n",
       " 'bh_000',\n",
       " 'bi_000',\n",
       " 'bj_000',\n",
       " 'bk_000',\n",
       " 'bl_000',\n",
       " 'bm_000',\n",
       " 'bn_000',\n",
       " 'bo_000',\n",
       " 'bp_000',\n",
       " 'bq_000',\n",
       " 'br_000',\n",
       " 'bs_000',\n",
       " 'bt_000',\n",
       " 'bu_000',\n",
       " 'bv_000',\n",
       " 'bx_000',\n",
       " 'by_000',\n",
       " 'bz_000']"
      ]
     },
     "execution_count": 28,
     "metadata": {},
     "output_type": "execute_result"
    }
   ],
   "source": [
    "b_series"
   ]
  },
  {
   "cell_type": "code",
   "execution_count": 29,
   "metadata": {},
   "outputs": [
    {
     "data": {
      "text/plain": [
       "['ca_000',\n",
       " 'cb_000',\n",
       " 'cc_000',\n",
       " 'cd_000',\n",
       " 'ce_000',\n",
       " 'cf_000',\n",
       " 'cg_000',\n",
       " 'ch_000',\n",
       " 'ci_000',\n",
       " 'cj_000',\n",
       " 'ck_000',\n",
       " 'cl_000',\n",
       " 'cm_000',\n",
       " 'cn_000',\n",
       " 'cn_001',\n",
       " 'cn_002',\n",
       " 'cn_003',\n",
       " 'cn_004',\n",
       " 'cn_005',\n",
       " 'cn_006',\n",
       " 'cn_007',\n",
       " 'cn_008',\n",
       " 'cn_009',\n",
       " 'co_000',\n",
       " 'cp_000',\n",
       " 'cq_000',\n",
       " 'cr_000',\n",
       " 'cs_000',\n",
       " 'cs_001',\n",
       " 'cs_002',\n",
       " 'cs_003',\n",
       " 'cs_004',\n",
       " 'cs_005',\n",
       " 'cs_006',\n",
       " 'cs_007',\n",
       " 'cs_008',\n",
       " 'cs_009',\n",
       " 'ct_000',\n",
       " 'cu_000',\n",
       " 'cv_000',\n",
       " 'cx_000',\n",
       " 'cy_000',\n",
       " 'cz_000']"
      ]
     },
     "execution_count": 29,
     "metadata": {},
     "output_type": "execute_result"
    }
   ],
   "source": [
    "c_series"
   ]
  },
  {
   "cell_type": "code",
   "execution_count": 30,
   "metadata": {},
   "outputs": [
    {
     "data": {
      "text/plain": [
       "['ea_000',\n",
       " 'eb_000',\n",
       " 'ec_00',\n",
       " 'ed_000',\n",
       " 'ee_000',\n",
       " 'ee_001',\n",
       " 'ee_002',\n",
       " 'ee_003',\n",
       " 'ee_004',\n",
       " 'ee_005',\n",
       " 'ee_006',\n",
       " 'ee_007',\n",
       " 'ee_008',\n",
       " 'ee_009',\n",
       " 'ef_000',\n",
       " 'eg_000']"
      ]
     },
     "execution_count": 30,
     "metadata": {},
     "output_type": "execute_result"
    }
   ],
   "source": [
    "e_series"
   ]
  },
  {
   "cell_type": "code",
   "execution_count": 32,
   "metadata": {},
   "outputs": [
    {
     "data": {
      "text/plain": [
       "['da_000',\n",
       " 'db_000',\n",
       " 'dc_000',\n",
       " 'dd_000',\n",
       " 'de_000',\n",
       " 'df_000',\n",
       " 'dg_000',\n",
       " 'dh_000',\n",
       " 'di_000',\n",
       " 'dj_000',\n",
       " 'dk_000',\n",
       " 'dl_000',\n",
       " 'dm_000',\n",
       " 'dn_000',\n",
       " 'do_000',\n",
       " 'dp_000',\n",
       " 'dq_000',\n",
       " 'dr_000',\n",
       " 'ds_000',\n",
       " 'dt_000',\n",
       " 'du_000',\n",
       " 'dv_000',\n",
       " 'dx_000',\n",
       " 'dy_000',\n",
       " 'dz_000']"
      ]
     },
     "execution_count": 32,
     "metadata": {},
     "output_type": "execute_result"
    }
   ],
   "source": [
    "d_series"
   ]
  },
  {
   "cell_type": "code",
   "execution_count": 34,
   "metadata": {},
   "outputs": [
    {
     "data": {
      "text/plain": [
       "['aa_000',\n",
       " 'ab_000',\n",
       " 'ac_000',\n",
       " 'ad_000',\n",
       " 'ae_000',\n",
       " 'af_000',\n",
       " 'ag_000',\n",
       " 'ag_001',\n",
       " 'ag_002',\n",
       " 'ag_003',\n",
       " 'ag_004',\n",
       " 'ag_005',\n",
       " 'ag_006',\n",
       " 'ag_007',\n",
       " 'ag_008',\n",
       " 'ag_009',\n",
       " 'ah_000',\n",
       " 'ai_000',\n",
       " 'aj_000',\n",
       " 'ak_000',\n",
       " 'al_000',\n",
       " 'am_0',\n",
       " 'an_000',\n",
       " 'ao_000',\n",
       " 'ap_000',\n",
       " 'aq_000',\n",
       " 'ar_000',\n",
       " 'as_000',\n",
       " 'at_000',\n",
       " 'au_000',\n",
       " 'av_000',\n",
       " 'ax_000',\n",
       " 'ay_000',\n",
       " 'ay_001',\n",
       " 'ay_002',\n",
       " 'ay_003',\n",
       " 'ay_004',\n",
       " 'ay_005',\n",
       " 'ay_006',\n",
       " 'ay_007',\n",
       " 'ay_008',\n",
       " 'ay_009',\n",
       " 'az_000',\n",
       " 'az_001',\n",
       " 'az_002',\n",
       " 'az_003',\n",
       " 'az_004',\n",
       " 'az_005',\n",
       " 'az_006',\n",
       " 'az_007',\n",
       " 'az_008',\n",
       " 'az_009']"
      ]
     },
     "execution_count": 34,
     "metadata": {},
     "output_type": "execute_result"
    }
   ],
   "source": [
    "a_series"
   ]
  },
  {
   "cell_type": "code",
   "execution_count": 1,
   "metadata": {},
   "outputs": [],
   "source": [
    "import pandas as pd\n",
    "df = pd.read_csv(r\"F:\\iNeuron\\Projects\\Data\\Scania Truck Failures\\aps_failure_test_set.csv\")"
   ]
  },
  {
   "cell_type": "code",
   "execution_count": 3,
   "metadata": {},
   "outputs": [],
   "source": [
    "y=df['class']"
   ]
  },
  {
   "cell_type": "code",
   "execution_count": 15,
   "metadata": {},
   "outputs": [
    {
     "data": {
      "text/plain": [
       "True"
      ]
     },
     "execution_count": 15,
     "metadata": {},
     "output_type": "execute_result"
    }
   ],
   "source": [
    "'neg' in list(y) or 'pos' in list(y)"
   ]
  },
  {
   "cell_type": "code",
   "execution_count": 29,
   "metadata": {},
   "outputs": [],
   "source": [
    "flag = 0\n",
    "for i in df.columns:\n",
    "    if 'na' in list(df[i]):\n",
    "        flag =1"
   ]
  },
  {
   "cell_type": "code",
   "execution_count": 8,
   "metadata": {},
   "outputs": [],
   "source": [
    "data = {'aa_000': '1800546',\n",
    " 'ab_000': 'na',\n",
    " 'ac_000': 'na',\n",
    " 'ad_000': '13042',\n",
    " 'ae_000': 'na',\n",
    " 'af_000': 'na',\n",
    " 'ag_000': '0',\n",
    " 'ag_001': '280',\n",
    " 'ag_002': '132164',\n",
    " 'ag_003': '7875494',\n",
    " 'ag_004': '55386332',\n",
    " 'ag_005': '92749198',\n",
    " 'ag_006': '52130878',\n",
    " 'ag_007': '16496844',\n",
    " 'ag_008': '1901366',\n",
    " 'ag_009': '28480',\n",
    " 'ah_000': '82073576',\n",
    " 'ai_000': '196142',\n",
    " 'aj_000': '0',\n",
    " 'ak_000': 'na',\n",
    " 'al_000': '986196',\n",
    " 'am_0': '1957344',\n",
    " 'an_000': '149868570',\n",
    " 'ao_000': '115528598',\n",
    " 'ap_000': '84129814',\n",
    " 'aq_000': '34558772',\n",
    " 'ar_000': 'na',\n",
    " 'as_000': '0',\n",
    " 'at_000': '0',\n",
    " 'au_000': '0',\n",
    " 'av_000': 'na',\n",
    " 'ax_000': 'na',\n",
    " 'ay_000': '0',\n",
    " 'ay_001': '0',\n",
    " 'ay_002': '0',\n",
    " 'ay_003': '0',\n",
    " 'ay_004': '0',\n",
    " 'ay_005': '0',\n",
    " 'ay_006': '0',\n",
    " 'ay_007': '28112774',\n",
    " 'ay_008': '198588262',\n",
    " 'ay_009': '0',\n",
    " 'az_000': '119430',\n",
    " 'az_001': '77174',\n",
    " 'az_002': '121294',\n",
    " 'az_003': '274336',\n",
    " 'az_004': '81066740',\n",
    " 'az_005': '145041998',\n",
    " 'az_006': '64',\n",
    " 'az_007': '0',\n",
    " 'az_008': '0',\n",
    " 'az_009': '0'}"
   ]
  },
  {
   "cell_type": "code",
   "execution_count": 9,
   "metadata": {},
   "outputs": [],
   "source": [
    "for key,value in data.items():\n",
    "    try:\n",
    "        data[key] = eval(value)\n",
    "    except Exception:\n",
    "        pass\n",
    "\n",
    "pd.DataFrame(data,index = [0])"
   ]
  },
  {
   "cell_type": "code",
   "execution_count": 10,
   "metadata": {},
   "outputs": [
    {
     "data": {
      "text/plain": [
       "{'aa_000': 1800546,\n",
       " 'ab_000': 'na',\n",
       " 'ac_000': 'na',\n",
       " 'ad_000': 13042,\n",
       " 'ae_000': 'na',\n",
       " 'af_000': 'na',\n",
       " 'ag_000': 0,\n",
       " 'ag_001': 280,\n",
       " 'ag_002': 132164,\n",
       " 'ag_003': 7875494,\n",
       " 'ag_004': 55386332,\n",
       " 'ag_005': 92749198,\n",
       " 'ag_006': 52130878,\n",
       " 'ag_007': 16496844,\n",
       " 'ag_008': 1901366,\n",
       " 'ag_009': 28480,\n",
       " 'ah_000': 82073576,\n",
       " 'ai_000': 196142,\n",
       " 'aj_000': 0,\n",
       " 'ak_000': 'na',\n",
       " 'al_000': 986196,\n",
       " 'am_0': 1957344,\n",
       " 'an_000': 149868570,\n",
       " 'ao_000': 115528598,\n",
       " 'ap_000': 84129814,\n",
       " 'aq_000': 34558772,\n",
       " 'ar_000': 'na',\n",
       " 'as_000': 0,\n",
       " 'at_000': 0,\n",
       " 'au_000': 0,\n",
       " 'av_000': 'na',\n",
       " 'ax_000': 'na',\n",
       " 'ay_000': 0,\n",
       " 'ay_001': 0,\n",
       " 'ay_002': 0,\n",
       " 'ay_003': 0,\n",
       " 'ay_004': 0,\n",
       " 'ay_005': 0,\n",
       " 'ay_006': 0,\n",
       " 'ay_007': 28112774,\n",
       " 'ay_008': 198588262,\n",
       " 'ay_009': 0,\n",
       " 'az_000': 119430,\n",
       " 'az_001': 77174,\n",
       " 'az_002': 121294,\n",
       " 'az_003': 274336,\n",
       " 'az_004': 81066740,\n",
       " 'az_005': 145041998,\n",
       " 'az_006': 64,\n",
       " 'az_007': 0,\n",
       " 'az_008': 0,\n",
       " 'az_009': 0}"
      ]
     },
     "execution_count": 10,
     "metadata": {},
     "output_type": "execute_result"
    }
   ],
   "source": [
    "data"
   ]
  },
  {
   "cell_type": "code",
   "execution_count": 12,
   "metadata": {},
   "outputs": [
    {
     "data": {
      "text/html": [
       "<div>\n",
       "<style scoped>\n",
       "    .dataframe tbody tr th:only-of-type {\n",
       "        vertical-align: middle;\n",
       "    }\n",
       "\n",
       "    .dataframe tbody tr th {\n",
       "        vertical-align: top;\n",
       "    }\n",
       "\n",
       "    .dataframe thead th {\n",
       "        text-align: right;\n",
       "    }\n",
       "</style>\n",
       "<table border=\"1\" class=\"dataframe\">\n",
       "  <thead>\n",
       "    <tr style=\"text-align: right;\">\n",
       "      <th></th>\n",
       "      <th>aa_000</th>\n",
       "      <th>ab_000</th>\n",
       "      <th>ac_000</th>\n",
       "      <th>ad_000</th>\n",
       "      <th>ae_000</th>\n",
       "      <th>af_000</th>\n",
       "      <th>ag_000</th>\n",
       "      <th>ag_001</th>\n",
       "      <th>ag_002</th>\n",
       "      <th>ag_003</th>\n",
       "      <th>...</th>\n",
       "      <th>az_000</th>\n",
       "      <th>az_001</th>\n",
       "      <th>az_002</th>\n",
       "      <th>az_003</th>\n",
       "      <th>az_004</th>\n",
       "      <th>az_005</th>\n",
       "      <th>az_006</th>\n",
       "      <th>az_007</th>\n",
       "      <th>az_008</th>\n",
       "      <th>az_009</th>\n",
       "    </tr>\n",
       "  </thead>\n",
       "  <tbody>\n",
       "    <tr>\n",
       "      <th>0</th>\n",
       "      <td>1800546</td>\n",
       "      <td>na</td>\n",
       "      <td>na</td>\n",
       "      <td>13042</td>\n",
       "      <td>na</td>\n",
       "      <td>na</td>\n",
       "      <td>0</td>\n",
       "      <td>280</td>\n",
       "      <td>132164</td>\n",
       "      <td>7875494</td>\n",
       "      <td>...</td>\n",
       "      <td>119430</td>\n",
       "      <td>77174</td>\n",
       "      <td>121294</td>\n",
       "      <td>274336</td>\n",
       "      <td>81066740</td>\n",
       "      <td>145041998</td>\n",
       "      <td>64</td>\n",
       "      <td>0</td>\n",
       "      <td>0</td>\n",
       "      <td>0</td>\n",
       "    </tr>\n",
       "  </tbody>\n",
       "</table>\n",
       "<p>1 rows × 52 columns</p>\n",
       "</div>"
      ],
      "text/plain": [
       "    aa_000 ab_000 ac_000  ad_000 ae_000 af_000  ag_000  ag_001  ag_002  \\\n",
       "0  1800546     na     na   13042     na     na       0     280  132164   \n",
       "\n",
       "    ag_003  ...  az_000  az_001  az_002  az_003    az_004     az_005  az_006  \\\n",
       "0  7875494  ...  119430   77174  121294  274336  81066740  145041998      64   \n",
       "\n",
       "   az_007  az_008 az_009  \n",
       "0       0       0      0  \n",
       "\n",
       "[1 rows x 52 columns]"
      ]
     },
     "execution_count": 12,
     "metadata": {},
     "output_type": "execute_result"
    }
   ],
   "source": [
    "import pandas as pd\n",
    "pd.DataFrame(data,index = [0])"
   ]
  },
  {
   "cell_type": "code",
   "execution_count": 9,
   "metadata": {},
   "outputs": [
    {
     "name": "stdout",
     "output_type": "stream",
     "text": [
      "[2024-02-13 07:41:38,543: INFO: utils: pickled_object: artifacts\\preprocessor\\preprocessor.joblib loaded]\n"
     ]
    },
    {
     "data": {
      "text/html": [
       "<style>#sk-container-id-1 {\n",
       "  /* Definition of color scheme common for light and dark mode */\n",
       "  --sklearn-color-text: black;\n",
       "  --sklearn-color-line: gray;\n",
       "  /* Definition of color scheme for unfitted estimators */\n",
       "  --sklearn-color-unfitted-level-0: #fff5e6;\n",
       "  --sklearn-color-unfitted-level-1: #f6e4d2;\n",
       "  --sklearn-color-unfitted-level-2: #ffe0b3;\n",
       "  --sklearn-color-unfitted-level-3: chocolate;\n",
       "  /* Definition of color scheme for fitted estimators */\n",
       "  --sklearn-color-fitted-level-0: #f0f8ff;\n",
       "  --sklearn-color-fitted-level-1: #d4ebff;\n",
       "  --sklearn-color-fitted-level-2: #b3dbfd;\n",
       "  --sklearn-color-fitted-level-3: cornflowerblue;\n",
       "\n",
       "  /* Specific color for light theme */\n",
       "  --sklearn-color-text-on-default-background: var(--sg-text-color, var(--theme-code-foreground, var(--jp-content-font-color1, black)));\n",
       "  --sklearn-color-background: var(--sg-background-color, var(--theme-background, var(--jp-layout-color0, white)));\n",
       "  --sklearn-color-border-box: var(--sg-text-color, var(--theme-code-foreground, var(--jp-content-font-color1, black)));\n",
       "  --sklearn-color-icon: #696969;\n",
       "\n",
       "  @media (prefers-color-scheme: dark) {\n",
       "    /* Redefinition of color scheme for dark theme */\n",
       "    --sklearn-color-text-on-default-background: var(--sg-text-color, var(--theme-code-foreground, var(--jp-content-font-color1, white)));\n",
       "    --sklearn-color-background: var(--sg-background-color, var(--theme-background, var(--jp-layout-color0, #111)));\n",
       "    --sklearn-color-border-box: var(--sg-text-color, var(--theme-code-foreground, var(--jp-content-font-color1, white)));\n",
       "    --sklearn-color-icon: #878787;\n",
       "  }\n",
       "}\n",
       "\n",
       "#sk-container-id-1 {\n",
       "  color: var(--sklearn-color-text);\n",
       "}\n",
       "\n",
       "#sk-container-id-1 pre {\n",
       "  padding: 0;\n",
       "}\n",
       "\n",
       "#sk-container-id-1 input.sk-hidden--visually {\n",
       "  border: 0;\n",
       "  clip: rect(1px 1px 1px 1px);\n",
       "  clip: rect(1px, 1px, 1px, 1px);\n",
       "  height: 1px;\n",
       "  margin: -1px;\n",
       "  overflow: hidden;\n",
       "  padding: 0;\n",
       "  position: absolute;\n",
       "  width: 1px;\n",
       "}\n",
       "\n",
       "#sk-container-id-1 div.sk-dashed-wrapped {\n",
       "  border: 1px dashed var(--sklearn-color-line);\n",
       "  margin: 0 0.4em 0.5em 0.4em;\n",
       "  box-sizing: border-box;\n",
       "  padding-bottom: 0.4em;\n",
       "  background-color: var(--sklearn-color-background);\n",
       "}\n",
       "\n",
       "#sk-container-id-1 div.sk-container {\n",
       "  /* jupyter's `normalize.less` sets `[hidden] { display: none; }`\n",
       "     but bootstrap.min.css set `[hidden] { display: none !important; }`\n",
       "     so we also need the `!important` here to be able to override the\n",
       "     default hidden behavior on the sphinx rendered scikit-learn.org.\n",
       "     See: https://github.com/scikit-learn/scikit-learn/issues/21755 */\n",
       "  display: inline-block !important;\n",
       "  position: relative;\n",
       "}\n",
       "\n",
       "#sk-container-id-1 div.sk-text-repr-fallback {\n",
       "  display: none;\n",
       "}\n",
       "\n",
       "div.sk-parallel-item,\n",
       "div.sk-serial,\n",
       "div.sk-item {\n",
       "  /* draw centered vertical line to link estimators */\n",
       "  background-image: linear-gradient(var(--sklearn-color-text-on-default-background), var(--sklearn-color-text-on-default-background));\n",
       "  background-size: 2px 100%;\n",
       "  background-repeat: no-repeat;\n",
       "  background-position: center center;\n",
       "}\n",
       "\n",
       "/* Parallel-specific style estimator block */\n",
       "\n",
       "#sk-container-id-1 div.sk-parallel-item::after {\n",
       "  content: \"\";\n",
       "  width: 100%;\n",
       "  border-bottom: 2px solid var(--sklearn-color-text-on-default-background);\n",
       "  flex-grow: 1;\n",
       "}\n",
       "\n",
       "#sk-container-id-1 div.sk-parallel {\n",
       "  display: flex;\n",
       "  align-items: stretch;\n",
       "  justify-content: center;\n",
       "  background-color: var(--sklearn-color-background);\n",
       "  position: relative;\n",
       "}\n",
       "\n",
       "#sk-container-id-1 div.sk-parallel-item {\n",
       "  display: flex;\n",
       "  flex-direction: column;\n",
       "}\n",
       "\n",
       "#sk-container-id-1 div.sk-parallel-item:first-child::after {\n",
       "  align-self: flex-end;\n",
       "  width: 50%;\n",
       "}\n",
       "\n",
       "#sk-container-id-1 div.sk-parallel-item:last-child::after {\n",
       "  align-self: flex-start;\n",
       "  width: 50%;\n",
       "}\n",
       "\n",
       "#sk-container-id-1 div.sk-parallel-item:only-child::after {\n",
       "  width: 0;\n",
       "}\n",
       "\n",
       "/* Serial-specific style estimator block */\n",
       "\n",
       "#sk-container-id-1 div.sk-serial {\n",
       "  display: flex;\n",
       "  flex-direction: column;\n",
       "  align-items: center;\n",
       "  background-color: var(--sklearn-color-background);\n",
       "  padding-right: 1em;\n",
       "  padding-left: 1em;\n",
       "}\n",
       "\n",
       "\n",
       "/* Toggleable style: style used for estimator/Pipeline/ColumnTransformer box that is\n",
       "clickable and can be expanded/collapsed.\n",
       "- Pipeline and ColumnTransformer use this feature and define the default style\n",
       "- Estimators will overwrite some part of the style using the `sk-estimator` class\n",
       "*/\n",
       "\n",
       "/* Pipeline and ColumnTransformer style (default) */\n",
       "\n",
       "#sk-container-id-1 div.sk-toggleable {\n",
       "  /* Default theme specific background. It is overwritten whether we have a\n",
       "  specific estimator or a Pipeline/ColumnTransformer */\n",
       "  background-color: var(--sklearn-color-background);\n",
       "}\n",
       "\n",
       "/* Toggleable label */\n",
       "#sk-container-id-1 label.sk-toggleable__label {\n",
       "  cursor: pointer;\n",
       "  display: block;\n",
       "  width: 100%;\n",
       "  margin-bottom: 0;\n",
       "  padding: 0.5em;\n",
       "  box-sizing: border-box;\n",
       "  text-align: center;\n",
       "}\n",
       "\n",
       "#sk-container-id-1 label.sk-toggleable__label-arrow:before {\n",
       "  /* Arrow on the left of the label */\n",
       "  content: \"▸\";\n",
       "  float: left;\n",
       "  margin-right: 0.25em;\n",
       "  color: var(--sklearn-color-icon);\n",
       "}\n",
       "\n",
       "#sk-container-id-1 label.sk-toggleable__label-arrow:hover:before {\n",
       "  color: var(--sklearn-color-text);\n",
       "}\n",
       "\n",
       "/* Toggleable content - dropdown */\n",
       "\n",
       "#sk-container-id-1 div.sk-toggleable__content {\n",
       "  max-height: 0;\n",
       "  max-width: 0;\n",
       "  overflow: hidden;\n",
       "  text-align: left;\n",
       "  /* unfitted */\n",
       "  background-color: var(--sklearn-color-unfitted-level-0);\n",
       "}\n",
       "\n",
       "#sk-container-id-1 div.sk-toggleable__content.fitted {\n",
       "  /* fitted */\n",
       "  background-color: var(--sklearn-color-fitted-level-0);\n",
       "}\n",
       "\n",
       "#sk-container-id-1 div.sk-toggleable__content pre {\n",
       "  margin: 0.2em;\n",
       "  border-radius: 0.25em;\n",
       "  color: var(--sklearn-color-text);\n",
       "  /* unfitted */\n",
       "  background-color: var(--sklearn-color-unfitted-level-0);\n",
       "}\n",
       "\n",
       "#sk-container-id-1 div.sk-toggleable__content.fitted pre {\n",
       "  /* unfitted */\n",
       "  background-color: var(--sklearn-color-fitted-level-0);\n",
       "}\n",
       "\n",
       "#sk-container-id-1 input.sk-toggleable__control:checked~div.sk-toggleable__content {\n",
       "  /* Expand drop-down */\n",
       "  max-height: 200px;\n",
       "  max-width: 100%;\n",
       "  overflow: auto;\n",
       "}\n",
       "\n",
       "#sk-container-id-1 input.sk-toggleable__control:checked~label.sk-toggleable__label-arrow:before {\n",
       "  content: \"▾\";\n",
       "}\n",
       "\n",
       "/* Pipeline/ColumnTransformer-specific style */\n",
       "\n",
       "#sk-container-id-1 div.sk-label input.sk-toggleable__control:checked~label.sk-toggleable__label {\n",
       "  color: var(--sklearn-color-text);\n",
       "  background-color: var(--sklearn-color-unfitted-level-2);\n",
       "}\n",
       "\n",
       "#sk-container-id-1 div.sk-label.fitted input.sk-toggleable__control:checked~label.sk-toggleable__label {\n",
       "  background-color: var(--sklearn-color-fitted-level-2);\n",
       "}\n",
       "\n",
       "/* Estimator-specific style */\n",
       "\n",
       "/* Colorize estimator box */\n",
       "#sk-container-id-1 div.sk-estimator input.sk-toggleable__control:checked~label.sk-toggleable__label {\n",
       "  /* unfitted */\n",
       "  background-color: var(--sklearn-color-unfitted-level-2);\n",
       "}\n",
       "\n",
       "#sk-container-id-1 div.sk-estimator.fitted input.sk-toggleable__control:checked~label.sk-toggleable__label {\n",
       "  /* fitted */\n",
       "  background-color: var(--sklearn-color-fitted-level-2);\n",
       "}\n",
       "\n",
       "#sk-container-id-1 div.sk-label label.sk-toggleable__label,\n",
       "#sk-container-id-1 div.sk-label label {\n",
       "  /* The background is the default theme color */\n",
       "  color: var(--sklearn-color-text-on-default-background);\n",
       "}\n",
       "\n",
       "/* On hover, darken the color of the background */\n",
       "#sk-container-id-1 div.sk-label:hover label.sk-toggleable__label {\n",
       "  color: var(--sklearn-color-text);\n",
       "  background-color: var(--sklearn-color-unfitted-level-2);\n",
       "}\n",
       "\n",
       "/* Label box, darken color on hover, fitted */\n",
       "#sk-container-id-1 div.sk-label.fitted:hover label.sk-toggleable__label.fitted {\n",
       "  color: var(--sklearn-color-text);\n",
       "  background-color: var(--sklearn-color-fitted-level-2);\n",
       "}\n",
       "\n",
       "/* Estimator label */\n",
       "\n",
       "#sk-container-id-1 div.sk-label label {\n",
       "  font-family: monospace;\n",
       "  font-weight: bold;\n",
       "  display: inline-block;\n",
       "  line-height: 1.2em;\n",
       "}\n",
       "\n",
       "#sk-container-id-1 div.sk-label-container {\n",
       "  text-align: center;\n",
       "}\n",
       "\n",
       "/* Estimator-specific */\n",
       "#sk-container-id-1 div.sk-estimator {\n",
       "  font-family: monospace;\n",
       "  border: 1px dotted var(--sklearn-color-border-box);\n",
       "  border-radius: 0.25em;\n",
       "  box-sizing: border-box;\n",
       "  margin-bottom: 0.5em;\n",
       "  /* unfitted */\n",
       "  background-color: var(--sklearn-color-unfitted-level-0);\n",
       "}\n",
       "\n",
       "#sk-container-id-1 div.sk-estimator.fitted {\n",
       "  /* fitted */\n",
       "  background-color: var(--sklearn-color-fitted-level-0);\n",
       "}\n",
       "\n",
       "/* on hover */\n",
       "#sk-container-id-1 div.sk-estimator:hover {\n",
       "  /* unfitted */\n",
       "  background-color: var(--sklearn-color-unfitted-level-2);\n",
       "}\n",
       "\n",
       "#sk-container-id-1 div.sk-estimator.fitted:hover {\n",
       "  /* fitted */\n",
       "  background-color: var(--sklearn-color-fitted-level-2);\n",
       "}\n",
       "\n",
       "/* Specification for estimator info (e.g. \"i\" and \"?\") */\n",
       "\n",
       "/* Common style for \"i\" and \"?\" */\n",
       "\n",
       ".sk-estimator-doc-link,\n",
       "a:link.sk-estimator-doc-link,\n",
       "a:visited.sk-estimator-doc-link {\n",
       "  float: right;\n",
       "  font-size: smaller;\n",
       "  line-height: 1em;\n",
       "  font-family: monospace;\n",
       "  background-color: var(--sklearn-color-background);\n",
       "  border-radius: 1em;\n",
       "  height: 1em;\n",
       "  width: 1em;\n",
       "  text-decoration: none !important;\n",
       "  margin-left: 1ex;\n",
       "  /* unfitted */\n",
       "  border: var(--sklearn-color-unfitted-level-1) 1pt solid;\n",
       "  color: var(--sklearn-color-unfitted-level-1);\n",
       "}\n",
       "\n",
       ".sk-estimator-doc-link.fitted,\n",
       "a:link.sk-estimator-doc-link.fitted,\n",
       "a:visited.sk-estimator-doc-link.fitted {\n",
       "  /* fitted */\n",
       "  border: var(--sklearn-color-fitted-level-1) 1pt solid;\n",
       "  color: var(--sklearn-color-fitted-level-1);\n",
       "}\n",
       "\n",
       "/* On hover */\n",
       "div.sk-estimator:hover .sk-estimator-doc-link:hover,\n",
       ".sk-estimator-doc-link:hover,\n",
       "div.sk-label-container:hover .sk-estimator-doc-link:hover,\n",
       ".sk-estimator-doc-link:hover {\n",
       "  /* unfitted */\n",
       "  background-color: var(--sklearn-color-unfitted-level-3);\n",
       "  color: var(--sklearn-color-background);\n",
       "  text-decoration: none;\n",
       "}\n",
       "\n",
       "div.sk-estimator.fitted:hover .sk-estimator-doc-link.fitted:hover,\n",
       ".sk-estimator-doc-link.fitted:hover,\n",
       "div.sk-label-container:hover .sk-estimator-doc-link.fitted:hover,\n",
       ".sk-estimator-doc-link.fitted:hover {\n",
       "  /* fitted */\n",
       "  background-color: var(--sklearn-color-fitted-level-3);\n",
       "  color: var(--sklearn-color-background);\n",
       "  text-decoration: none;\n",
       "}\n",
       "\n",
       "/* Span, style for the box shown on hovering the info icon */\n",
       ".sk-estimator-doc-link span {\n",
       "  display: none;\n",
       "  z-index: 9999;\n",
       "  position: relative;\n",
       "  font-weight: normal;\n",
       "  right: .2ex;\n",
       "  padding: .5ex;\n",
       "  margin: .5ex;\n",
       "  width: min-content;\n",
       "  min-width: 20ex;\n",
       "  max-width: 50ex;\n",
       "  color: var(--sklearn-color-text);\n",
       "  box-shadow: 2pt 2pt 4pt #999;\n",
       "  /* unfitted */\n",
       "  background: var(--sklearn-color-unfitted-level-0);\n",
       "  border: .5pt solid var(--sklearn-color-unfitted-level-3);\n",
       "}\n",
       "\n",
       ".sk-estimator-doc-link.fitted span {\n",
       "  /* fitted */\n",
       "  background: var(--sklearn-color-fitted-level-0);\n",
       "  border: var(--sklearn-color-fitted-level-3);\n",
       "}\n",
       "\n",
       ".sk-estimator-doc-link:hover span {\n",
       "  display: block;\n",
       "}\n",
       "\n",
       "/* \"?\"-specific style due to the `<a>` HTML tag */\n",
       "\n",
       "#sk-container-id-1 a.estimator_doc_link {\n",
       "  float: right;\n",
       "  font-size: 1rem;\n",
       "  line-height: 1em;\n",
       "  font-family: monospace;\n",
       "  background-color: var(--sklearn-color-background);\n",
       "  border-radius: 1rem;\n",
       "  height: 1rem;\n",
       "  width: 1rem;\n",
       "  text-decoration: none;\n",
       "  /* unfitted */\n",
       "  color: var(--sklearn-color-unfitted-level-1);\n",
       "  border: var(--sklearn-color-unfitted-level-1) 1pt solid;\n",
       "}\n",
       "\n",
       "#sk-container-id-1 a.estimator_doc_link.fitted {\n",
       "  /* fitted */\n",
       "  border: var(--sklearn-color-fitted-level-1) 1pt solid;\n",
       "  color: var(--sklearn-color-fitted-level-1);\n",
       "}\n",
       "\n",
       "/* On hover */\n",
       "#sk-container-id-1 a.estimator_doc_link:hover {\n",
       "  /* unfitted */\n",
       "  background-color: var(--sklearn-color-unfitted-level-3);\n",
       "  color: var(--sklearn-color-background);\n",
       "  text-decoration: none;\n",
       "}\n",
       "\n",
       "#sk-container-id-1 a.estimator_doc_link.fitted:hover {\n",
       "  /* fitted */\n",
       "  background-color: var(--sklearn-color-fitted-level-3);\n",
       "}\n",
       "</style><div id=\"sk-container-id-1\" class=\"sk-top-container\"><div class=\"sk-text-repr-fallback\"><pre>Pipeline(steps=[(&#x27;Knn_imputer&#x27;, KNNImputer()),\n",
       "                (&#x27;Robust_Scaler&#x27;, RobustScaler())],\n",
       "         verbose=True)</pre><b>In a Jupyter environment, please rerun this cell to show the HTML representation or trust the notebook. <br />On GitHub, the HTML representation is unable to render, please try loading this page with nbviewer.org.</b></div><div class=\"sk-container\" hidden><div class=\"sk-item sk-dashed-wrapped\"><div class=\"sk-label-container\"><div class=\"sk-label fitted sk-toggleable\"><input class=\"sk-toggleable__control sk-hidden--visually\" id=\"sk-estimator-id-1\" type=\"checkbox\" ><label for=\"sk-estimator-id-1\" class=\"sk-toggleable__label fitted sk-toggleable__label-arrow fitted\">&nbsp;&nbsp;Pipeline<a class=\"sk-estimator-doc-link fitted\" rel=\"noreferrer\" target=\"_blank\" href=\"https://scikit-learn.org/1.4/modules/generated/sklearn.pipeline.Pipeline.html\">?<span>Documentation for Pipeline</span></a><span class=\"sk-estimator-doc-link fitted\">i<span>Fitted</span></span></label><div class=\"sk-toggleable__content fitted\"><pre>Pipeline(steps=[(&#x27;Knn_imputer&#x27;, KNNImputer()),\n",
       "                (&#x27;Robust_Scaler&#x27;, RobustScaler())],\n",
       "         verbose=True)</pre></div> </div></div><div class=\"sk-serial\"><div class=\"sk-item\"><div class=\"sk-estimator fitted sk-toggleable\"><input class=\"sk-toggleable__control sk-hidden--visually\" id=\"sk-estimator-id-2\" type=\"checkbox\" ><label for=\"sk-estimator-id-2\" class=\"sk-toggleable__label fitted sk-toggleable__label-arrow fitted\">&nbsp;KNNImputer<a class=\"sk-estimator-doc-link fitted\" rel=\"noreferrer\" target=\"_blank\" href=\"https://scikit-learn.org/1.4/modules/generated/sklearn.impute.KNNImputer.html\">?<span>Documentation for KNNImputer</span></a></label><div class=\"sk-toggleable__content fitted\"><pre>KNNImputer()</pre></div> </div></div><div class=\"sk-item\"><div class=\"sk-estimator fitted sk-toggleable\"><input class=\"sk-toggleable__control sk-hidden--visually\" id=\"sk-estimator-id-3\" type=\"checkbox\" ><label for=\"sk-estimator-id-3\" class=\"sk-toggleable__label fitted sk-toggleable__label-arrow fitted\">&nbsp;RobustScaler<a class=\"sk-estimator-doc-link fitted\" rel=\"noreferrer\" target=\"_blank\" href=\"https://scikit-learn.org/1.4/modules/generated/sklearn.preprocessing.RobustScaler.html\">?<span>Documentation for RobustScaler</span></a></label><div class=\"sk-toggleable__content fitted\"><pre>RobustScaler()</pre></div> </div></div></div></div></div></div>"
      ],
      "text/plain": [
       "Pipeline(steps=[('Knn_imputer', KNNImputer()),\n",
       "                ('Robust_Scaler', RobustScaler())],\n",
       "         verbose=True)"
      ]
     },
     "execution_count": 9,
     "metadata": {},
     "output_type": "execute_result"
    }
   ],
   "source": [
    "preprocessor = load_binary(r\"artifacts\\preprocessor\\preprocessor.joblib\")\n",
    "preprocessor"
   ]
  },
  {
   "cell_type": "code",
   "execution_count": 12,
   "metadata": {},
   "outputs": [
    {
     "data": {
      "text/plain": [
       "['aa_000',\n",
       " 'ab_000',\n",
       " 'ac_000',\n",
       " 'ad_000',\n",
       " 'ae_000',\n",
       " 'af_000',\n",
       " 'ag_000',\n",
       " 'ag_001',\n",
       " 'ag_002',\n",
       " 'ag_003',\n",
       " 'ag_004',\n",
       " 'ag_005',\n",
       " 'ag_006',\n",
       " 'ag_007',\n",
       " 'ag_008',\n",
       " 'ag_009',\n",
       " 'ah_000',\n",
       " 'ai_000',\n",
       " 'aj_000',\n",
       " 'ak_000',\n",
       " 'al_000',\n",
       " 'am_0',\n",
       " 'an_000',\n",
       " 'ao_000',\n",
       " 'ap_000',\n",
       " 'aq_000',\n",
       " 'ar_000',\n",
       " 'as_000',\n",
       " 'at_000',\n",
       " 'au_000',\n",
       " 'av_000',\n",
       " 'ax_000',\n",
       " 'ay_000',\n",
       " 'ay_001',\n",
       " 'ay_002',\n",
       " 'ay_003',\n",
       " 'ay_004',\n",
       " 'ay_005',\n",
       " 'ay_006',\n",
       " 'ay_007',\n",
       " 'ay_008',\n",
       " 'ay_009',\n",
       " 'az_000',\n",
       " 'az_001',\n",
       " 'az_002',\n",
       " 'az_003',\n",
       " 'az_004',\n",
       " 'az_005',\n",
       " 'az_006',\n",
       " 'az_007',\n",
       " 'az_008',\n",
       " 'az_009',\n",
       " 'ba_000',\n",
       " 'ba_001',\n",
       " 'ba_002',\n",
       " 'ba_003',\n",
       " 'ba_004',\n",
       " 'ba_005',\n",
       " 'ba_006',\n",
       " 'ba_007',\n",
       " 'ba_008',\n",
       " 'ba_009',\n",
       " 'bb_000',\n",
       " 'bc_000',\n",
       " 'bd_000',\n",
       " 'be_000',\n",
       " 'bf_000',\n",
       " 'bg_000',\n",
       " 'bh_000',\n",
       " 'bi_000',\n",
       " 'bj_000',\n",
       " 'bk_000',\n",
       " 'bl_000',\n",
       " 'bm_000',\n",
       " 'bn_000',\n",
       " 'bo_000',\n",
       " 'bp_000',\n",
       " 'bq_000',\n",
       " 'br_000',\n",
       " 'bs_000',\n",
       " 'bt_000',\n",
       " 'bu_000',\n",
       " 'bv_000',\n",
       " 'bx_000',\n",
       " 'by_000',\n",
       " 'bz_000',\n",
       " 'ca_000',\n",
       " 'cb_000',\n",
       " 'cc_000',\n",
       " 'cd_000',\n",
       " 'ce_000',\n",
       " 'cf_000',\n",
       " 'cg_000',\n",
       " 'ch_000',\n",
       " 'ci_000',\n",
       " 'cj_000',\n",
       " 'ck_000',\n",
       " 'cl_000',\n",
       " 'cm_000',\n",
       " 'cn_000',\n",
       " 'cn_001',\n",
       " 'cn_002',\n",
       " 'cn_003',\n",
       " 'cn_004',\n",
       " 'cn_005',\n",
       " 'cn_006',\n",
       " 'cn_007',\n",
       " 'cn_008',\n",
       " 'cn_009',\n",
       " 'co_000',\n",
       " 'cp_000',\n",
       " 'cq_000',\n",
       " 'cr_000',\n",
       " 'cs_000',\n",
       " 'cs_001',\n",
       " 'cs_002',\n",
       " 'cs_003',\n",
       " 'cs_004',\n",
       " 'cs_005',\n",
       " 'cs_006',\n",
       " 'cs_007',\n",
       " 'cs_008',\n",
       " 'cs_009',\n",
       " 'ct_000',\n",
       " 'cu_000',\n",
       " 'cv_000',\n",
       " 'cx_000',\n",
       " 'cy_000',\n",
       " 'cz_000',\n",
       " 'da_000',\n",
       " 'db_000',\n",
       " 'dc_000',\n",
       " 'dd_000',\n",
       " 'de_000',\n",
       " 'df_000',\n",
       " 'dg_000',\n",
       " 'dh_000',\n",
       " 'di_000',\n",
       " 'dj_000',\n",
       " 'dk_000',\n",
       " 'dl_000',\n",
       " 'dm_000',\n",
       " 'dn_000',\n",
       " 'do_000',\n",
       " 'dp_000',\n",
       " 'dq_000',\n",
       " 'dr_000',\n",
       " 'ds_000',\n",
       " 'dt_000',\n",
       " 'du_000',\n",
       " 'dv_000',\n",
       " 'dx_000',\n",
       " 'dy_000',\n",
       " 'dz_000',\n",
       " 'ea_000',\n",
       " 'eb_000',\n",
       " 'ec_00',\n",
       " 'ed_000',\n",
       " 'ee_000',\n",
       " 'ee_001',\n",
       " 'ee_002',\n",
       " 'ee_003',\n",
       " 'ee_004',\n",
       " 'ee_005',\n",
       " 'ee_006',\n",
       " 'ee_007',\n",
       " 'ee_008',\n",
       " 'ee_009',\n",
       " 'ef_000',\n",
       " 'eg_000']"
      ]
     },
     "execution_count": 12,
     "metadata": {},
     "output_type": "execute_result"
    }
   ],
   "source": [
    "list_from_processor = preprocessor.get_feature_names_out()\n",
    "list(list_from_processor)"
   ]
  },
  {
   "cell_type": "code",
   "execution_count": 4,
   "metadata": {},
   "outputs": [],
   "source": [
    "data_from_flask = {'aa_000': '1',\n",
    " 'ab_000': 'na',\n",
    " 'ac_000': '1',\n",
    " 'ad_000': '1',\n",
    " 'ae_000': '1',\n",
    " 'af_000': '1',\n",
    " 'ag_000': '1',\n",
    " 'ag_001': '1',\n",
    " 'ag_002': '1',\n",
    " 'ag_003': '1',\n",
    " 'ag_004': '1',\n",
    " 'ag_005': '1',\n",
    " 'ag_006': '1',\n",
    " 'ag_007': '1',\n",
    " 'ag_008': '1',\n",
    " 'ag_009': '1',\n",
    " 'ah_000': '1',\n",
    " 'ai_000': '1',\n",
    " 'aj_000': '1',\n",
    " 'ak_000': '1',\n",
    " 'al_000': '1',\n",
    " 'am_0': '1',\n",
    " 'an_000': '1',\n",
    " 'ao_000': '11',\n",
    " 'ap_000': '1',\n",
    " 'aq_000': '1',\n",
    " 'ar_000': '1',\n",
    " 'as_000': '1',\n",
    " 'at_000': '1',\n",
    " 'au_000': '1',\n",
    " 'av_000': '1',\n",
    " 'ax_000': '1',\n",
    " 'ay_000': '1',\n",
    " 'ay_001': '1',\n",
    " 'ay_002': '1',\n",
    " 'ay_003': '1',\n",
    " 'ay_004': '1',\n",
    " 'ay_005': '1',\n",
    " 'ay_006': '1',\n",
    " 'ay_007': '1',\n",
    " 'ay_008': '1',\n",
    " 'ay_009': '1',\n",
    " 'az_000': '1',\n",
    " 'az_001': '1',\n",
    " 'az_002': '1',\n",
    " 'az_003': '1',\n",
    " 'az_004': '1',\n",
    " 'az_005': '1',\n",
    " 'az_006': '1',\n",
    " 'az_007': '1',\n",
    " 'az_008': '1',\n",
    " 'az_009': '1',\n",
    " 'ba_000': '1',\n",
    " 'ba_001': '1',\n",
    " 'ba_002': '1',\n",
    " 'ba_003': '1',\n",
    " 'ba_004': '1',\n",
    " 'ba_005': 'na',\n",
    " 'ba_006': 'na',\n",
    " 'ba_007': 'na',\n",
    " 'ba_008': '11',\n",
    " 'ba_009': '1',\n",
    " 'bb_000': '1',\n",
    " 'bc_000': '1',\n",
    " 'bd_000': '1',\n",
    " 'be_000': '1',\n",
    " 'bf_000': '1',\n",
    " 'bg_000': '1',\n",
    " 'bh_000': '1',\n",
    " 'bi_000': '1',\n",
    " 'bj_000': '1',\n",
    " 'bk_000': '1',\n",
    " 'bl_000': '1',\n",
    " 'bm_000': '1',\n",
    " 'bn_000': '1',\n",
    " 'bo_000': '1',\n",
    " 'bp_000': '1',\n",
    " 'bq_000': '1',\n",
    " 'br_000': '1',\n",
    " 'bs_000': '1',\n",
    " 'bt_000': '1',\n",
    " 'bu_000': '1',\n",
    " 'bv_000': '1',\n",
    " 'bx_000': '1',\n",
    " 'by_000': '1',\n",
    " 'bz_000': '1',\n",
    " 'ca_000': '2',\n",
    " 'cb_000': '4',\n",
    " 'cc_000': '5',\n",
    " 'cd_000': '3',\n",
    " 'ce_000': '4',\n",
    " 'cf_000': 'na',\n",
    " 'cg_000': 'na',\n",
    " 'ch_000': '1',\n",
    " 'ci_000': '1',\n",
    " 'cj_000': '1',\n",
    " 'ck_000': '1',\n",
    " 'cl_000': '1',\n",
    " 'cm_000': '1',\n",
    " 'cn_000': '1',\n",
    " 'cn_001': '1',\n",
    " 'cn_002': '1',\n",
    " 'cn_003': '1',\n",
    " 'cn_004': '1',\n",
    " 'cn_005': '1',\n",
    " 'cn_006': '1',\n",
    " 'cn_007': '1',\n",
    " 'cn_008': '1',\n",
    " 'cn_009': '1',\n",
    " 'co_000': '1',\n",
    " 'cp_000': '1',\n",
    " 'cq_000': '1',\n",
    " 'cr_000': '1',\n",
    " 'cs_000': '1',\n",
    " 'cs_001': '1',\n",
    " 'cs_002': '1',\n",
    " 'cs_003': '1',\n",
    " 'cs_004': '1',\n",
    " 'cs_005': '1',\n",
    " 'cs_006': '1',\n",
    " 'cs_007': '1',\n",
    " 'cs_008': '1',\n",
    " 'cs_009': '1',\n",
    " 'ct_000': '1',\n",
    " 'cu_000': '1',\n",
    " 'cv_000': '1',\n",
    " 'cx_000': '1',\n",
    " 'cy_000': '1',\n",
    " 'cz_000': '1',\n",
    " 'da_000': '2',\n",
    " 'db_000': '5',\n",
    " 'dc_000': '8',\n",
    " 'dd_000': '4',\n",
    " 'de_000': '13',\n",
    " 'df_000': '8',\n",
    " 'dg_000': '14',\n",
    " 'dh_000': '8',\n",
    " 'di_000': '4',\n",
    " 'dj_000': '89',\n",
    " 'dk_000': '4',\n",
    " 'dl_000': '54',\n",
    " 'dm_000': '8',\n",
    " 'dn_000': '4',\n",
    " 'do_000': '8',\n",
    " 'dp_000': '14',\n",
    " 'dq_000': '98',\n",
    " 'dr_000': '1',\n",
    " 'ds_000': '4',\n",
    " 'dt_000': '9',\n",
    " 'du_000': '7',\n",
    " 'dv_000': '5',\n",
    " 'dx_000': '6',\n",
    " 'dy_000': '74',\n",
    " 'dz_000': '4',\n",
    " 'ea_000': '9',\n",
    " 'eb_000': '8',\n",
    " 'ec_00': '7',\n",
    " 'ed_000': '6',\n",
    " 'ee_000': '2',\n",
    " 'ee_001': '5',\n",
    " 'ee_002': '4',\n",
    " 'ee_003': '1',\n",
    " 'ee_004': '3',\n",
    " 'ee_005': '5',\n",
    " 'ee_006': '96',\n",
    " 'ee_007': '8',\n",
    " 'ee_008': '7',\n",
    " 'ee_009': '12',\n",
    " 'ef_000': '5',\n",
    " 'eg_000': '9'}"
   ]
  },
  {
   "cell_type": "code",
   "execution_count": 13,
   "metadata": {},
   "outputs": [
    {
     "name": "stdout",
     "output_type": "stream",
     "text": [
      "DICT_KEY:  aa_000\n",
      "i:  0\n",
      "LIST KEY:  aa_000\n",
      "DICT_KEY:  ab_000\n",
      "i:  1\n",
      "LIST KEY:  ab_000\n",
      "DICT_KEY:  ac_000\n",
      "i:  2\n",
      "LIST KEY:  ac_000\n",
      "DICT_KEY:  ad_000\n",
      "i:  3\n",
      "LIST KEY:  ad_000\n",
      "DICT_KEY:  ae_000\n",
      "i:  4\n",
      "LIST KEY:  ae_000\n",
      "DICT_KEY:  af_000\n",
      "i:  5\n",
      "LIST KEY:  af_000\n",
      "DICT_KEY:  ag_000\n",
      "i:  6\n",
      "LIST KEY:  ag_000\n",
      "DICT_KEY:  ag_001\n",
      "i:  7\n",
      "LIST KEY:  ag_001\n",
      "DICT_KEY:  ag_002\n",
      "i:  8\n",
      "LIST KEY:  ag_002\n",
      "DICT_KEY:  ag_003\n",
      "i:  9\n",
      "LIST KEY:  ag_003\n",
      "DICT_KEY:  ag_004\n",
      "i:  10\n",
      "LIST KEY:  ag_004\n",
      "DICT_KEY:  ag_005\n",
      "i:  11\n",
      "LIST KEY:  ag_005\n",
      "DICT_KEY:  ag_006\n",
      "i:  12\n",
      "LIST KEY:  ag_006\n",
      "DICT_KEY:  ag_007\n",
      "i:  13\n",
      "LIST KEY:  ag_007\n",
      "DICT_KEY:  ag_008\n",
      "i:  14\n",
      "LIST KEY:  ag_008\n",
      "DICT_KEY:  ag_009\n",
      "i:  15\n",
      "LIST KEY:  ag_009\n",
      "DICT_KEY:  ah_000\n",
      "i:  16\n",
      "LIST KEY:  ah_000\n",
      "DICT_KEY:  ai_000\n",
      "i:  17\n",
      "LIST KEY:  ai_000\n",
      "DICT_KEY:  aj_000\n",
      "i:  18\n",
      "LIST KEY:  aj_000\n",
      "DICT_KEY:  ak_000\n",
      "i:  19\n",
      "LIST KEY:  ak_000\n",
      "DICT_KEY:  al_000\n",
      "i:  20\n",
      "LIST KEY:  al_000\n",
      "DICT_KEY:  am_0\n",
      "i:  21\n",
      "LIST KEY:  am_0\n",
      "DICT_KEY:  an_000\n",
      "i:  22\n",
      "LIST KEY:  an_000\n",
      "DICT_KEY:  ao_000\n",
      "i:  23\n",
      "LIST KEY:  ao_000\n",
      "DICT_KEY:  ap_000\n",
      "i:  24\n",
      "LIST KEY:  ap_000\n",
      "DICT_KEY:  aq_000\n",
      "i:  25\n",
      "LIST KEY:  aq_000\n",
      "DICT_KEY:  ar_000\n",
      "i:  26\n",
      "LIST KEY:  ar_000\n",
      "DICT_KEY:  as_000\n",
      "i:  27\n",
      "LIST KEY:  as_000\n",
      "DICT_KEY:  at_000\n",
      "i:  28\n",
      "LIST KEY:  at_000\n",
      "DICT_KEY:  au_000\n",
      "i:  29\n",
      "LIST KEY:  au_000\n",
      "DICT_KEY:  av_000\n",
      "i:  30\n",
      "LIST KEY:  av_000\n",
      "DICT_KEY:  ax_000\n",
      "i:  31\n",
      "LIST KEY:  ax_000\n",
      "DICT_KEY:  ay_000\n",
      "i:  32\n",
      "LIST KEY:  ay_000\n",
      "DICT_KEY:  ay_001\n",
      "i:  33\n",
      "LIST KEY:  ay_001\n",
      "DICT_KEY:  ay_002\n",
      "i:  34\n",
      "LIST KEY:  ay_002\n",
      "DICT_KEY:  ay_003\n",
      "i:  35\n",
      "LIST KEY:  ay_003\n",
      "DICT_KEY:  ay_004\n",
      "i:  36\n",
      "LIST KEY:  ay_004\n",
      "DICT_KEY:  ay_005\n",
      "i:  37\n",
      "LIST KEY:  ay_005\n",
      "DICT_KEY:  ay_006\n",
      "i:  38\n",
      "LIST KEY:  ay_006\n",
      "DICT_KEY:  ay_007\n",
      "i:  39\n",
      "LIST KEY:  ay_007\n",
      "DICT_KEY:  ay_008\n",
      "i:  40\n",
      "LIST KEY:  ay_008\n",
      "DICT_KEY:  ay_009\n",
      "i:  41\n",
      "LIST KEY:  ay_009\n",
      "DICT_KEY:  az_000\n",
      "i:  42\n",
      "LIST KEY:  az_000\n",
      "DICT_KEY:  az_001\n",
      "i:  43\n",
      "LIST KEY:  az_001\n",
      "DICT_KEY:  az_002\n",
      "i:  44\n",
      "LIST KEY:  az_002\n",
      "DICT_KEY:  az_003\n",
      "i:  45\n",
      "LIST KEY:  az_003\n",
      "DICT_KEY:  az_004\n",
      "i:  46\n",
      "LIST KEY:  az_004\n",
      "DICT_KEY:  az_005\n",
      "i:  47\n",
      "LIST KEY:  az_005\n",
      "DICT_KEY:  az_006\n",
      "i:  48\n",
      "LIST KEY:  az_006\n",
      "DICT_KEY:  az_007\n",
      "i:  49\n",
      "LIST KEY:  az_007\n",
      "DICT_KEY:  az_008\n",
      "i:  50\n",
      "LIST KEY:  az_008\n",
      "DICT_KEY:  az_009\n",
      "i:  51\n",
      "LIST KEY:  az_009\n",
      "DICT_KEY:  ba_000\n",
      "i:  52\n",
      "LIST KEY:  ba_000\n",
      "DICT_KEY:  ba_001\n",
      "i:  53\n",
      "LIST KEY:  ba_001\n",
      "DICT_KEY:  ba_002\n",
      "i:  54\n",
      "LIST KEY:  ba_002\n",
      "DICT_KEY:  ba_003\n",
      "i:  55\n",
      "LIST KEY:  ba_003\n",
      "DICT_KEY:  ba_004\n",
      "i:  56\n",
      "LIST KEY:  ba_004\n",
      "DICT_KEY:  ba_005\n",
      "i:  57\n",
      "LIST KEY:  ba_005\n",
      "DICT_KEY:  ba_006\n",
      "i:  58\n",
      "LIST KEY:  ba_006\n",
      "DICT_KEY:  ba_007\n",
      "i:  59\n",
      "LIST KEY:  ba_007\n",
      "DICT_KEY:  ba_008\n",
      "i:  60\n",
      "LIST KEY:  ba_008\n",
      "DICT_KEY:  ba_009\n",
      "i:  61\n",
      "LIST KEY:  ba_009\n",
      "DICT_KEY:  bb_000\n",
      "i:  62\n",
      "LIST KEY:  bb_000\n",
      "DICT_KEY:  bc_000\n",
      "i:  63\n",
      "LIST KEY:  bc_000\n",
      "DICT_KEY:  bd_000\n",
      "i:  64\n",
      "LIST KEY:  bd_000\n",
      "DICT_KEY:  be_000\n",
      "i:  65\n",
      "LIST KEY:  be_000\n",
      "DICT_KEY:  bf_000\n",
      "i:  66\n",
      "LIST KEY:  bf_000\n",
      "DICT_KEY:  bg_000\n",
      "i:  67\n",
      "LIST KEY:  bg_000\n",
      "DICT_KEY:  bh_000\n",
      "i:  68\n",
      "LIST KEY:  bh_000\n",
      "DICT_KEY:  bi_000\n",
      "i:  69\n",
      "LIST KEY:  bi_000\n",
      "DICT_KEY:  bj_000\n",
      "i:  70\n",
      "LIST KEY:  bj_000\n",
      "DICT_KEY:  bk_000\n",
      "i:  71\n",
      "LIST KEY:  bk_000\n",
      "DICT_KEY:  bl_000\n",
      "i:  72\n",
      "LIST KEY:  bl_000\n",
      "DICT_KEY:  bm_000\n",
      "i:  73\n",
      "LIST KEY:  bm_000\n",
      "DICT_KEY:  bn_000\n",
      "i:  74\n",
      "LIST KEY:  bn_000\n",
      "DICT_KEY:  bo_000\n",
      "i:  75\n",
      "LIST KEY:  bo_000\n",
      "DICT_KEY:  bp_000\n",
      "i:  76\n",
      "LIST KEY:  bp_000\n",
      "DICT_KEY:  bq_000\n",
      "i:  77\n",
      "LIST KEY:  bq_000\n",
      "DICT_KEY:  br_000\n",
      "i:  78\n",
      "LIST KEY:  br_000\n",
      "DICT_KEY:  bs_000\n",
      "i:  79\n",
      "LIST KEY:  bs_000\n",
      "DICT_KEY:  bt_000\n",
      "i:  80\n",
      "LIST KEY:  bt_000\n",
      "DICT_KEY:  bu_000\n",
      "i:  81\n",
      "LIST KEY:  bu_000\n",
      "DICT_KEY:  bv_000\n",
      "i:  82\n",
      "LIST KEY:  bv_000\n",
      "DICT_KEY:  bx_000\n",
      "i:  83\n",
      "LIST KEY:  bx_000\n",
      "DICT_KEY:  by_000\n",
      "i:  84\n",
      "LIST KEY:  by_000\n",
      "DICT_KEY:  bz_000\n",
      "i:  85\n",
      "LIST KEY:  bz_000\n",
      "DICT_KEY:  ca_000\n",
      "i:  86\n",
      "LIST KEY:  ca_000\n",
      "DICT_KEY:  cb_000\n",
      "i:  87\n",
      "LIST KEY:  cb_000\n",
      "DICT_KEY:  cc_000\n",
      "i:  88\n",
      "LIST KEY:  cc_000\n",
      "DICT_KEY:  cd_000\n",
      "i:  89\n",
      "LIST KEY:  cd_000\n",
      "DICT_KEY:  ce_000\n",
      "i:  90\n",
      "LIST KEY:  ce_000\n",
      "DICT_KEY:  cf_000\n",
      "i:  91\n",
      "LIST KEY:  cf_000\n",
      "DICT_KEY:  cg_000\n",
      "i:  92\n",
      "LIST KEY:  cg_000\n",
      "DICT_KEY:  ch_000\n",
      "i:  93\n",
      "LIST KEY:  ch_000\n",
      "DICT_KEY:  ci_000\n",
      "i:  94\n",
      "LIST KEY:  ci_000\n",
      "DICT_KEY:  cj_000\n",
      "i:  95\n",
      "LIST KEY:  cj_000\n",
      "DICT_KEY:  ck_000\n",
      "i:  96\n",
      "LIST KEY:  ck_000\n",
      "DICT_KEY:  cl_000\n",
      "i:  97\n",
      "LIST KEY:  cl_000\n",
      "DICT_KEY:  cm_000\n",
      "i:  98\n",
      "LIST KEY:  cm_000\n",
      "DICT_KEY:  cn_000\n",
      "i:  99\n",
      "LIST KEY:  cn_000\n",
      "DICT_KEY:  cn_001\n",
      "i:  100\n",
      "LIST KEY:  cn_001\n",
      "DICT_KEY:  cn_002\n",
      "i:  101\n",
      "LIST KEY:  cn_002\n",
      "DICT_KEY:  cn_003\n",
      "i:  102\n",
      "LIST KEY:  cn_003\n",
      "DICT_KEY:  cn_004\n",
      "i:  103\n",
      "LIST KEY:  cn_004\n",
      "DICT_KEY:  cn_005\n",
      "i:  104\n",
      "LIST KEY:  cn_005\n",
      "DICT_KEY:  cn_006\n",
      "i:  105\n",
      "LIST KEY:  cn_006\n",
      "DICT_KEY:  cn_007\n",
      "i:  106\n",
      "LIST KEY:  cn_007\n",
      "DICT_KEY:  cn_008\n",
      "i:  107\n",
      "LIST KEY:  cn_008\n",
      "DICT_KEY:  cn_009\n",
      "i:  108\n",
      "LIST KEY:  cn_009\n",
      "DICT_KEY:  co_000\n",
      "i:  109\n",
      "LIST KEY:  co_000\n",
      "DICT_KEY:  cp_000\n",
      "i:  110\n",
      "LIST KEY:  cp_000\n",
      "DICT_KEY:  cq_000\n",
      "i:  111\n",
      "LIST KEY:  cq_000\n",
      "DICT_KEY:  cr_000\n",
      "i:  112\n",
      "LIST KEY:  cr_000\n",
      "DICT_KEY:  cs_000\n",
      "i:  113\n",
      "LIST KEY:  cs_000\n",
      "DICT_KEY:  cs_001\n",
      "i:  114\n",
      "LIST KEY:  cs_001\n",
      "DICT_KEY:  cs_002\n",
      "i:  115\n",
      "LIST KEY:  cs_002\n",
      "DICT_KEY:  cs_003\n",
      "i:  116\n",
      "LIST KEY:  cs_003\n",
      "DICT_KEY:  cs_004\n",
      "i:  117\n",
      "LIST KEY:  cs_004\n",
      "DICT_KEY:  cs_005\n",
      "i:  118\n",
      "LIST KEY:  cs_005\n",
      "DICT_KEY:  cs_006\n",
      "i:  119\n",
      "LIST KEY:  cs_006\n",
      "DICT_KEY:  cs_007\n",
      "i:  120\n",
      "LIST KEY:  cs_007\n",
      "DICT_KEY:  cs_008\n",
      "i:  121\n",
      "LIST KEY:  cs_008\n",
      "DICT_KEY:  cs_009\n",
      "i:  122\n",
      "LIST KEY:  cs_009\n",
      "DICT_KEY:  ct_000\n",
      "i:  123\n",
      "LIST KEY:  ct_000\n",
      "DICT_KEY:  cu_000\n",
      "i:  124\n",
      "LIST KEY:  cu_000\n",
      "DICT_KEY:  cv_000\n",
      "i:  125\n",
      "LIST KEY:  cv_000\n",
      "DICT_KEY:  cx_000\n",
      "i:  126\n",
      "LIST KEY:  cx_000\n",
      "DICT_KEY:  cy_000\n",
      "i:  127\n",
      "LIST KEY:  cy_000\n",
      "DICT_KEY:  cz_000\n",
      "i:  128\n",
      "LIST KEY:  cz_000\n",
      "DICT_KEY:  da_000\n",
      "i:  129\n",
      "LIST KEY:  da_000\n",
      "DICT_KEY:  db_000\n",
      "i:  130\n",
      "LIST KEY:  db_000\n",
      "DICT_KEY:  dc_000\n",
      "i:  131\n",
      "LIST KEY:  dc_000\n",
      "DICT_KEY:  dd_000\n",
      "i:  132\n",
      "LIST KEY:  dd_000\n",
      "DICT_KEY:  de_000\n",
      "i:  133\n",
      "LIST KEY:  de_000\n",
      "DICT_KEY:  df_000\n",
      "i:  134\n",
      "LIST KEY:  df_000\n",
      "DICT_KEY:  dg_000\n",
      "i:  135\n",
      "LIST KEY:  dg_000\n",
      "DICT_KEY:  dh_000\n",
      "i:  136\n",
      "LIST KEY:  dh_000\n",
      "DICT_KEY:  di_000\n",
      "i:  137\n",
      "LIST KEY:  di_000\n",
      "DICT_KEY:  dj_000\n",
      "i:  138\n",
      "LIST KEY:  dj_000\n",
      "DICT_KEY:  dk_000\n",
      "i:  139\n",
      "LIST KEY:  dk_000\n",
      "DICT_KEY:  dl_000\n",
      "i:  140\n",
      "LIST KEY:  dl_000\n",
      "DICT_KEY:  dm_000\n",
      "i:  141\n",
      "LIST KEY:  dm_000\n",
      "DICT_KEY:  dn_000\n",
      "i:  142\n",
      "LIST KEY:  dn_000\n",
      "DICT_KEY:  do_000\n",
      "i:  143\n",
      "LIST KEY:  do_000\n",
      "DICT_KEY:  dp_000\n",
      "i:  144\n",
      "LIST KEY:  dp_000\n",
      "DICT_KEY:  dq_000\n",
      "i:  145\n",
      "LIST KEY:  dq_000\n",
      "DICT_KEY:  dr_000\n",
      "i:  146\n",
      "LIST KEY:  dr_000\n",
      "DICT_KEY:  ds_000\n",
      "i:  147\n",
      "LIST KEY:  ds_000\n",
      "DICT_KEY:  dt_000\n",
      "i:  148\n",
      "LIST KEY:  dt_000\n",
      "DICT_KEY:  du_000\n",
      "i:  149\n",
      "LIST KEY:  du_000\n",
      "DICT_KEY:  dv_000\n",
      "i:  150\n",
      "LIST KEY:  dv_000\n",
      "DICT_KEY:  dx_000\n",
      "i:  151\n",
      "LIST KEY:  dx_000\n",
      "DICT_KEY:  dy_000\n",
      "i:  152\n",
      "LIST KEY:  dy_000\n",
      "DICT_KEY:  dz_000\n",
      "i:  153\n",
      "LIST KEY:  dz_000\n",
      "DICT_KEY:  ea_000\n",
      "i:  154\n",
      "LIST KEY:  ea_000\n",
      "DICT_KEY:  eb_000\n",
      "i:  155\n",
      "LIST KEY:  eb_000\n",
      "DICT_KEY:  ec_00\n",
      "i:  156\n",
      "LIST KEY:  ec_00\n",
      "DICT_KEY:  ed_000\n",
      "i:  157\n",
      "LIST KEY:  ed_000\n",
      "DICT_KEY:  ee_000\n",
      "i:  158\n",
      "LIST KEY:  ee_000\n",
      "DICT_KEY:  ee_001\n",
      "i:  159\n",
      "LIST KEY:  ee_001\n",
      "DICT_KEY:  ee_002\n",
      "i:  160\n",
      "LIST KEY:  ee_002\n",
      "DICT_KEY:  ee_003\n",
      "i:  161\n",
      "LIST KEY:  ee_003\n",
      "DICT_KEY:  ee_004\n",
      "i:  162\n",
      "LIST KEY:  ee_004\n",
      "DICT_KEY:  ee_005\n",
      "i:  163\n",
      "LIST KEY:  ee_005\n",
      "DICT_KEY:  ee_006\n",
      "i:  164\n",
      "LIST KEY:  ee_006\n",
      "DICT_KEY:  ee_007\n",
      "i:  165\n",
      "LIST KEY:  ee_007\n",
      "DICT_KEY:  ee_008\n",
      "i:  166\n",
      "LIST KEY:  ee_008\n",
      "DICT_KEY:  ee_009\n",
      "i:  167\n",
      "LIST KEY:  ee_009\n",
      "DICT_KEY:  ef_000\n",
      "i:  168\n",
      "LIST KEY:  ef_000\n",
      "DICT_KEY:  eg_000\n",
      "i:  169\n",
      "LIST KEY:  eg_000\n"
     ]
    }
   ],
   "source": [
    "flag = 0 \n",
    "for i,key in enumerate(data_from_flask.keys()):\n",
    "    print(\"DICT_KEY: \",key)\n",
    "    print(\"i: \",i)\n",
    "    if list_from_processor[i] == key:\n",
    "        flag = 0\n",
    "    else:\n",
    "        flag = 1\n",
    "    print(\"LIST KEY: \",list_from_processor[i])"
   ]
  },
  {
   "cell_type": "code",
   "execution_count": 18,
   "metadata": {},
   "outputs": [
    {
     "data": {
      "text/plain": [
       "'aa_000'"
      ]
     },
     "execution_count": 18,
     "metadata": {},
     "output_type": "execute_result"
    }
   ],
   "source": [
    "list_from_processor[0]"
   ]
  },
  {
   "cell_type": "code",
   "execution_count": 17,
   "metadata": {},
   "outputs": [
    {
     "data": {
      "text/plain": [
       "array([ True])"
      ]
     },
     "execution_count": 17,
     "metadata": {},
     "output_type": "execute_result"
    }
   ],
   "source": [
    "pd.unique(list(data_from_flask.keys()) == list_from_processor)"
   ]
  },
  {
   "cell_type": "code",
   "execution_count": null,
   "metadata": {},
   "outputs": [],
   "source": []
  }
 ],
 "metadata": {
  "kernelspec": {
   "display_name": "Python 3",
   "language": "python",
   "name": "python3"
  },
  "language_info": {
   "codemirror_mode": {
    "name": "ipython",
    "version": 3
   },
   "file_extension": ".py",
   "mimetype": "text/x-python",
   "name": "python",
   "nbconvert_exporter": "python",
   "pygments_lexer": "ipython3",
   "version": "3.11.5"
  }
 },
 "nbformat": 4,
 "nbformat_minor": 2
}
